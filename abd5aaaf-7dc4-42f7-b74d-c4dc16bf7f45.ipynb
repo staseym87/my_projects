{
 "cells": [
  {
   "cell_type": "markdown",
   "metadata": {},
   "source": [
    "# Customer churn "
   ]
  },
  {
   "cell_type": "markdown",
   "metadata": {},
   "source": [
    "Customers began to leave Beta-Bank. Every month. A little, but noticeable. Banking marketers figured keeping current customers was cheaper than attracting new ones.\n",
    "\n",
    "It is necessary to predict whether the client will leave the bank shortly or not. Historical data on customer behaviour and termination of agreements with the bank are provided. \n",
    "\n",
    "Build a model with an extremely large F1-measure. To pass the project successfully, it needs to bring the metric to 0.59.\n",
    "\n",
    "Check the F1-measure on the test set yourself. Additionally, measure AUC-ROC, and compare its value with F1-measure.\n",
    "\n",
    "Data source: [https://www.kaggle.com/barelydedicated/bank-customer-churn-modeling](https://www.kaggle.com/barelydedicated/bank-customer-churn-modeling)"
   ]
  },
  
  {
   "cell_type": "markdown",
   "metadata": {},
   "source": [
    "## Data preparation"
   ]
  },
  {
   "cell_type": "markdown",
   "metadata": {},
   "source": [
    "### Checking data quality"
   ]
  },
  {
   "cell_type": "code",
   "execution_count": 1,
   "metadata": {},
   "outputs": [],
   "source": [
    "#library import:\n",
    "\n",
    "import pandas as pd\n",
    "import seaborn as sns\n",
    "from sklearn.model_selection import train_test_split\n",
    "from sklearn.preprocessing import StandardScaler, OneHotEncoder\n",
    "from sklearn.compose import make_column_transformer\n",
    "\n",
    "\n",
    "from sklearn.tree import DecisionTreeClassifier\n",
    "from sklearn.ensemble import RandomForestClassifier\n",
    "from sklearn.linear_model import LogisticRegression\n",
    "from sklearn.model_selection import GridSearchCV\n",
    "from sklearn.dummy import DummyClassifier\n",
    "\n",
    "from sklearn.metrics import accuracy_score\n",
    "from sklearn.metrics import confusion_matrix\n",
    "from sklearn.metrics import f1_score\n",
    "from sklearn.metrics import roc_auc_score\n",
    "\n",
    "\n",
    "from sklearn.utils import shuffle"
   ]
  },
  
  {
   "cell_type": "code",
   "execution_count": 2,
   "metadata": {},
   "outputs": [
    {
     "data": {
      "text/html": [
       "<div>\n",
       "<style scoped>\n",
       "    .dataframe tbody tr th:only-of-type {\n",
       "        vertical-align: middle;\n",
       "    }\n",
       "\n",
       "    .dataframe tbody tr th {\n",
       "        vertical-align: top;\n",
       "    }\n",
       "\n",
       "    .dataframe thead th {\n",
       "        text-align: right;\n",
       "    }\n",
       "</style>\n",
       "<table border=\"1\" class=\"dataframe\">\n",
       "  <thead>\n",
       "    <tr style=\"text-align: right;\">\n",
       "      <th></th>\n",
       "      <th>RowNumber</th>\n",
       "      <th>CustomerId</th>\n",
       "      <th>Surname</th>\n",
       "      <th>CreditScore</th>\n",
       "      <th>Geography</th>\n",
       "      <th>Gender</th>\n",
       "      <th>Age</th>\n",
       "      <th>Tenure</th>\n",
       "      <th>Balance</th>\n",
       "      <th>NumOfProducts</th>\n",
       "      <th>HasCrCard</th>\n",
       "      <th>IsActiveMember</th>\n",
       "      <th>EstimatedSalary</th>\n",
       "      <th>Exited</th>\n",
       "    </tr>\n",
       "  </thead>\n",
       "  <tbody>\n",
       "    <tr>\n",
       "      <th>0</th>\n",
       "      <td>1</td>\n",
       "      <td>15634602</td>\n",
       "      <td>Hargrave</td>\n",
       "      <td>619</td>\n",
       "      <td>France</td>\n",
       "      <td>Female</td>\n",
       "      <td>42</td>\n",
       "      <td>2.0</td>\n",
       "      <td>0.00</td>\n",
       "      <td>1</td>\n",
       "      <td>1</td>\n",
       "      <td>1</td>\n",
       "      <td>101348.88</td>\n",
       "      <td>1</td>\n",
       "    </tr>\n",
       "    <tr>\n",
       "      <th>1</th>\n",
       "      <td>2</td>\n",
       "      <td>15647311</td>\n",
       "      <td>Hill</td>\n",
       "      <td>608</td>\n",
       "      <td>Spain</td>\n",
       "      <td>Female</td>\n",
       "      <td>41</td>\n",
       "      <td>1.0</td>\n",
       "      <td>83807.86</td>\n",
       "      <td>1</td>\n",
       "      <td>0</td>\n",
       "      <td>1</td>\n",
       "      <td>112542.58</td>\n",
       "      <td>0</td>\n",
       "    </tr>\n",
       "    <tr>\n",
       "      <th>2</th>\n",
       "      <td>3</td>\n",
       "      <td>15619304</td>\n",
       "      <td>Onio</td>\n",
       "      <td>502</td>\n",
       "      <td>France</td>\n",
       "      <td>Female</td>\n",
       "      <td>42</td>\n",
       "      <td>8.0</td>\n",
       "      <td>159660.80</td>\n",
       "      <td>3</td>\n",
       "      <td>1</td>\n",
       "      <td>0</td>\n",
       "      <td>113931.57</td>\n",
       "      <td>1</td>\n",
       "    </tr>\n",
       "    <tr>\n",
       "      <th>3</th>\n",
       "      <td>4</td>\n",
       "      <td>15701354</td>\n",
       "      <td>Boni</td>\n",
       "      <td>699</td>\n",
       "      <td>France</td>\n",
       "      <td>Female</td>\n",
       "      <td>39</td>\n",
       "      <td>1.0</td>\n",
       "      <td>0.00</td>\n",
       "      <td>2</td>\n",
       "      <td>0</td>\n",
       "      <td>0</td>\n",
       "      <td>93826.63</td>\n",
       "      <td>0</td>\n",
       "    </tr>\n",
       "    <tr>\n",
       "      <th>4</th>\n",
       "      <td>5</td>\n",
       "      <td>15737888</td>\n",
       "      <td>Mitchell</td>\n",
       "      <td>850</td>\n",
       "      <td>Spain</td>\n",
       "      <td>Female</td>\n",
       "      <td>43</td>\n",
       "      <td>2.0</td>\n",
       "      <td>125510.82</td>\n",
       "      <td>1</td>\n",
       "      <td>1</td>\n",
       "      <td>1</td>\n",
       "      <td>79084.10</td>\n",
       "      <td>0</td>\n",
       "    </tr>\n",
       "    <tr>\n",
       "      <th>5</th>\n",
       "      <td>6</td>\n",
       "      <td>15574012</td>\n",
       "      <td>Chu</td>\n",
       "      <td>645</td>\n",
       "      <td>Spain</td>\n",
       "      <td>Male</td>\n",
       "      <td>44</td>\n",
       "      <td>8.0</td>\n",
       "      <td>113755.78</td>\n",
       "      <td>2</td>\n",
       "      <td>1</td>\n",
       "      <td>0</td>\n",
       "      <td>149756.71</td>\n",
       "      <td>1</td>\n",
       "    </tr>\n",
       "    <tr>\n",
       "      <th>6</th>\n",
       "      <td>7</td>\n",
       "      <td>15592531</td>\n",
       "      <td>Bartlett</td>\n",
       "      <td>822</td>\n",
       "      <td>France</td>\n",
       "      <td>Male</td>\n",
       "      <td>50</td>\n",
       "      <td>7.0</td>\n",
       "      <td>0.00</td>\n",
       "      <td>2</td>\n",
       "      <td>1</td>\n",
       "      <td>1</td>\n",
       "      <td>10062.80</td>\n",
       "      <td>0</td>\n",
       "    </tr>\n",
       "    <tr>\n",
       "      <th>7</th>\n",
       "      <td>8</td>\n",
       "      <td>15656148</td>\n",
       "      <td>Obinna</td>\n",
       "      <td>376</td>\n",
       "      <td>Germany</td>\n",
       "      <td>Female</td>\n",
       "      <td>29</td>\n",
       "      <td>4.0</td>\n",
       "      <td>115046.74</td>\n",
       "      <td>4</td>\n",
       "      <td>1</td>\n",
       "      <td>0</td>\n",
       "      <td>119346.88</td>\n",
       "      <td>1</td>\n",
       "    </tr>\n",
       "    <tr>\n",
       "      <th>8</th>\n",
       "      <td>9</td>\n",
       "      <td>15792365</td>\n",
       "      <td>He</td>\n",
       "      <td>501</td>\n",
       "      <td>France</td>\n",
       "      <td>Male</td>\n",
       "      <td>44</td>\n",
       "      <td>4.0</td>\n",
       "      <td>142051.07</td>\n",
       "      <td>2</td>\n",
       "      <td>0</td>\n",
       "      <td>1</td>\n",
       "      <td>74940.50</td>\n",
       "      <td>0</td>\n",
       "    </tr>\n",
       "    <tr>\n",
       "      <th>9</th>\n",
       "      <td>10</td>\n",
       "      <td>15592389</td>\n",
       "      <td>H?</td>\n",
       "      <td>684</td>\n",
       "      <td>France</td>\n",
       "      <td>Male</td>\n",
       "      <td>27</td>\n",
       "      <td>2.0</td>\n",
       "      <td>134603.88</td>\n",
       "      <td>1</td>\n",
       "      <td>1</td>\n",
       "      <td>1</td>\n",
       "      <td>71725.73</td>\n",
       "      <td>0</td>\n",
       "    </tr>\n",
       "  </tbody>\n",
       "</table>\n",
       "</div>"
      ],
      "text/plain": [
       "   RowNumber  CustomerId   Surname  CreditScore Geography  Gender  Age  \\\n",
       "0          1    15634602  Hargrave          619    France  Female   42   \n",
       "1          2    15647311      Hill          608     Spain  Female   41   \n",
       "2          3    15619304      Onio          502    France  Female   42   \n",
       "3          4    15701354      Boni          699    France  Female   39   \n",
       "4          5    15737888  Mitchell          850     Spain  Female   43   \n",
       "5          6    15574012       Chu          645     Spain    Male   44   \n",
       "6          7    15592531  Bartlett          822    France    Male   50   \n",
       "7          8    15656148    Obinna          376   Germany  Female   29   \n",
       "8          9    15792365        He          501    France    Male   44   \n",
       "9         10    15592389        H?          684    France    Male   27   \n",
       "\n",
       "   Tenure    Balance  NumOfProducts  HasCrCard  IsActiveMember  \\\n",
       "0     2.0       0.00              1          1               1   \n",
       "1     1.0   83807.86              1          0               1   \n",
       "2     8.0  159660.80              3          1               0   \n",
       "3     1.0       0.00              2          0               0   \n",
       "4     2.0  125510.82              1          1               1   \n",
       "5     8.0  113755.78              2          1               0   \n",
       "6     7.0       0.00              2          1               1   \n",
       "7     4.0  115046.74              4          1               0   \n",
       "8     4.0  142051.07              2          0               1   \n",
       "9     2.0  134603.88              1          1               1   \n",
       "\n",
       "   EstimatedSalary  Exited  \n",
       "0        101348.88       1  \n",
       "1        112542.58       0  \n",
       "2        113931.57       1  \n",
       "3         93826.63       0  \n",
       "4         79084.10       0  \n",
       "5        149756.71       1  \n",
       "6         10062.80       0  \n",
       "7        119346.88       1  \n",
       "8         74940.50       0  \n",
       "9         71725.73       0  "
      ]
     },
     "execution_count": 2,
     "metadata": {},
     "output_type": "execute_result"
    }
   ],
   "source": [
    "df = pd.read_csv('/datasets/Churn.csv')\n",
    "\n",
    
    "df.head(10)\n"
   ]
  },
  
  {
   "cell_type": "code",
   "execution_count": 3,
   "metadata": {},
   "outputs": [],
   "source": [
    "# Convert column names:\n",
    "df.columns = df.columns.str.lower()\n",
    "\n",
   
    "df = df.rename(columns={'rownumber' : 'row_number', 'customerid' : 'customer_id', 'creditscore' : 'credit_score', \n",
    "                        'numofproducts' : 'num_of_products', 'hascrcard' : 'has_cr_card', 'isactivemember' : 'is_active_member',\n",
    "                        'estimatedsalary': 'estimated_salary'}) "
   ]
  },
  
  {
   "cell_type": "code",
   "execution_count": 4,
   "metadata": {},
   "outputs": [
    {
     "name": "stdout",
     "output_type": "stream",
     "text": [
      "<class 'pandas.core.frame.DataFrame'>\n",
      "RangeIndex: 10000 entries, 0 to 9999\n",
      "Data columns (total 14 columns):\n",
      " #   Column            Non-Null Count  Dtype  \n",
      "---  ------            --------------  -----  \n",
      " 0   row_number        10000 non-null  int64  \n",
      " 1   customer_id       10000 non-null  int64  \n",
      " 2   surname           10000 non-null  object \n",
      " 3   credit_score      10000 non-null  int64  \n",
      " 4   geography         10000 non-null  object \n",
      " 5   gender            10000 non-null  object \n",
      " 6   age               10000 non-null  int64  \n",
      " 7   tenure            9091 non-null   float64\n",
      " 8   balance           10000 non-null  float64\n",
      " 9   num_of_products   10000 non-null  int64  \n",
      " 10  has_cr_card       10000 non-null  int64  \n",
      " 11  is_active_member  10000 non-null  int64  \n",
      " 12  estimated_salary  10000 non-null  float64\n",
      " 13  exited            10000 non-null  int64  \n",
      "dtypes: float64(3), int64(8), object(3)\n",
      "memory usage: 1.1+ MB\n"
     ]
    }
   ],
   "source": [
    "# displaying general information about the data set:\n",
    "df.info()"
   ]
  },
  {
   "cell_type": "code",
   "execution_count": 5,
   "metadata": {},
   "outputs": [
    {
     "data": {
      "text/plain": [
       "row_number            0\n",
       "customer_id           0\n",
       "surname               0\n",
       "credit_score          0\n",
       "geography             0\n",
       "gender                0\n",
       "age                   0\n",
       "tenure              909\n",
       "balance               0\n",
       "num_of_products       0\n",
       "has_cr_card           0\n",
       "is_active_member      0\n",
       "estimated_salary      0\n",
       "exited                0\n",
       "dtype: int64"
      ]
     },
     "metadata": {},
     "output_type": "display_data"
    }
   ],
   "source": [
    "# display the number of skips:\n",
    "display(df.isna().sum())"
   ]
  },
  {
   "cell_type": "code",
   "execution_count": 6,
   "metadata": {},
   "outputs": [
    {
     "name": "stdout",
     "output_type": "stream",
     "text": [
      "Number of explicit duplicates: 0\n"
     ]
    }
   ],
   "source": [
    "#replace gaps in column tenure with median:\n",
    "df['tenure'] = df['tenure'].fillna(value=df['tenure'].median())\n",
    "\n",
    "#Search for explicit duplicates\n",
    "print('Number of explicit duplicates:', df.duplicated().sum())\n"
   ]
  },
  
  {
   "cell_type": "code",
   "execution_count": 7,
   "metadata": {},
   "outputs": [
    {
     "data": {
      "text/plain": [
       "array(['France', 'Spain', 'Germany'], dtype=object)"
      ]
     },
     "execution_count": 7,
     "metadata": {},
     "output_type": "execute_result"
    }
   ],
   "source": [
    "#check what data the geography column contains:\n",
    "df['geography'].unique()"
   ]
  },
  {
   "cell_type": "code",
   "execution_count": 8,
   "metadata": {},
   "outputs": [
    {
     "data": {
      "text/html": [
       "<div>\n",
       "<style scoped>\n",
       "    .dataframe tbody tr th:only-of-type {\n",
       "        vertical-align: middle;\n",
       "    }\n",
       "\n",
       "    .dataframe tbody tr th {\n",
       "        vertical-align: top;\n",
       "    }\n",
       "\n",
       "    .dataframe thead th {\n",
       "        text-align: right;\n",
       "    }\n",
       "</style>\n",
       "<table border=\"1\" class=\"dataframe\">\n",
       "  <thead>\n",
       "    <tr style=\"text-align: right;\">\n",
       "      <th></th>\n",
       "      <th>credit_score</th>\n",
       "      <th>geography</th>\n",
       "      <th>gender</th>\n",
       "      <th>age</th>\n",
       "      <th>tenure</th>\n",
       "      <th>balance</th>\n",
       "      <th>num_of_products</th>\n",
       "      <th>has_cr_card</th>\n",
       "      <th>is_active_member</th>\n",
       "      <th>estimated_salary</th>\n",
       "      <th>exited</th>\n",
       "    </tr>\n",
       "  </thead>\n",
       "  <tbody>\n",
       "    <tr>\n",
       "      <th>0</th>\n",
       "      <td>619</td>\n",
       "      <td>France</td>\n",
       "      <td>Female</td>\n",
       "      <td>42</td>\n",
       "      <td>2.0</td>\n",
       "      <td>0.00</td>\n",
       "      <td>1</td>\n",
       "      <td>1</td>\n",
       "      <td>1</td>\n",
       "      <td>101348.88</td>\n",
       "      <td>1</td>\n",
       "    </tr>\n",
       "    <tr>\n",
       "      <th>1</th>\n",
       "      <td>608</td>\n",
       "      <td>Spain</td>\n",
       "      <td>Female</td>\n",
       "      <td>41</td>\n",
       "      <td>1.0</td>\n",
       "      <td>83807.86</td>\n",
       "      <td>1</td>\n",
       "      <td>0</td>\n",
       "      <td>1</td>\n",
       "      <td>112542.58</td>\n",
       "      <td>0</td>\n",
       "    </tr>\n",
       "    <tr>\n",
       "      <th>2</th>\n",
       "      <td>502</td>\n",
       "      <td>France</td>\n",
       "      <td>Female</td>\n",
       "      <td>42</td>\n",
       "      <td>8.0</td>\n",
       "      <td>159660.80</td>\n",
       "      <td>3</td>\n",
       "      <td>1</td>\n",
       "      <td>0</td>\n",
       "      <td>113931.57</td>\n",
       "      <td>1</td>\n",
       "    </tr>\n",
       "    <tr>\n",
       "      <th>3</th>\n",
       "      <td>699</td>\n",
       "      <td>France</td>\n",
       "      <td>Female</td>\n",
       "      <td>39</td>\n",
       "      <td>1.0</td>\n",
       "      <td>0.00</td>\n",
       "      <td>2</td>\n",
       "      <td>0</td>\n",
       "      <td>0</td>\n",
       "      <td>93826.63</td>\n",
       "      <td>0</td>\n",
       "    </tr>\n",
       "    <tr>\n",
       "      <th>4</th>\n",
       "      <td>850</td>\n",
       "      <td>Spain</td>\n",
       "      <td>Female</td>\n",
       "      <td>43</td>\n",
       "      <td>2.0</td>\n",
       "      <td>125510.82</td>\n",
       "      <td>1</td>\n",
       "      <td>1</td>\n",
       "      <td>1</td>\n",
       "      <td>79084.10</td>\n",
       "      <td>0</td>\n",
       "    </tr>\n",
       "    <tr>\n",
       "      <th>5</th>\n",
       "      <td>645</td>\n",
       "      <td>Spain</td>\n",
       "      <td>Male</td>\n",
       "      <td>44</td>\n",
       "      <td>8.0</td>\n",
       "      <td>113755.78</td>\n",
       "      <td>2</td>\n",
       "      <td>1</td>\n",
       "      <td>0</td>\n",
       "      <td>149756.71</td>\n",
       "      <td>1</td>\n",
       "    </tr>\n",
       "    <tr>\n",
       "      <th>6</th>\n",
       "      <td>822</td>\n",
       "      <td>France</td>\n",
       "      <td>Male</td>\n",
       "      <td>50</td>\n",
       "      <td>7.0</td>\n",
       "      <td>0.00</td>\n",
       "      <td>2</td>\n",
       "      <td>1</td>\n",
       "      <td>1</td>\n",
       "      <td>10062.80</td>\n",
       "      <td>0</td>\n",
       "    </tr>\n",
       "    <tr>\n",
       "      <th>7</th>\n",
       "      <td>376</td>\n",
       "      <td>Germany</td>\n",
       "      <td>Female</td>\n",
       "      <td>29</td>\n",
       "      <td>4.0</td>\n",
       "      <td>115046.74</td>\n",
       "      <td>4</td>\n",
       "      <td>1</td>\n",
       "      <td>0</td>\n",
       "      <td>119346.88</td>\n",
       "      <td>1</td>\n",
       "    </tr>\n",
       "    <tr>\n",
       "      <th>8</th>\n",
       "      <td>501</td>\n",
       "      <td>France</td>\n",
       "      <td>Male</td>\n",
       "      <td>44</td>\n",
       "      <td>4.0</td>\n",
       "      <td>142051.07</td>\n",
       "      <td>2</td>\n",
       "      <td>0</td>\n",
       "      <td>1</td>\n",
       "      <td>74940.50</td>\n",
       "      <td>0</td>\n",
       "    </tr>\n",
       "    <tr>\n",
       "      <th>9</th>\n",
       "      <td>684</td>\n",
       "      <td>France</td>\n",
       "      <td>Male</td>\n",
       "      <td>27</td>\n",
       "      <td>2.0</td>\n",
       "      <td>134603.88</td>\n",
       "      <td>1</td>\n",
       "      <td>1</td>\n",
       "      <td>1</td>\n",
       "      <td>71725.73</td>\n",
       "      <td>0</td>\n",
       "    </tr>\n",
       "  </tbody>\n",
       "</table>\n",
       "</div>"
      ],
      "text/plain": [
       "   credit_score geography  gender  age  tenure    balance  num_of_products  \\\n",
       "0           619    France  Female   42     2.0       0.00                1   \n",
       "1           608     Spain  Female   41     1.0   83807.86                1   \n",
       "2           502    France  Female   42     8.0  159660.80                3   \n",
       "3           699    France  Female   39     1.0       0.00                2   \n",
       "4           850     Spain  Female   43     2.0  125510.82                1   \n",
       "5           645     Spain    Male   44     8.0  113755.78                2   \n",
       "6           822    France    Male   50     7.0       0.00                2   \n",
       "7           376   Germany  Female   29     4.0  115046.74                4   \n",
       "8           501    France    Male   44     4.0  142051.07                2   \n",
       "9           684    France    Male   27     2.0  134603.88                1   \n",
       "\n",
       "   has_cr_card  is_active_member  estimated_salary  exited  \n",
       "0            1                 1         101348.88       1  \n",
       "1            0                 1         112542.58       0  \n",
       "2            1                 0         113931.57       1  \n",
       "3            0                 0          93826.63       0  \n",
       "4            1                 1          79084.10       0  \n",
       "5            1                 0         149756.71       1  \n",
       "6            1                 1          10062.80       0  \n",
       "7            1                 0         119346.88       1  \n",
       "8            0                 1          74940.50       0  \n",
       "9            1                 1          71725.73       0  "
      ]
     },
     "metadata": {},
     "output_type": "display_data"
    },
    {
     "data": {
      "text/plain": [
       "(10000, 11)"
      ]
     },
     "metadata": {},
     "output_type": "display_data"
    }
   ],
   "source": [
    "# remove from the dataset the identifier columns that are not valuable for analysis:\n",
    "df_1 = df.drop(['row_number','customer_id', 'surname'], axis=1)\n",
    "display(df_1.head(10))\n",
    "display(df_1.shape)\n"
   ]
  },
  
  {
   "cell_type": "code",
   "execution_count": 9,
   "metadata": {},
   "outputs": [
    {
     "data": {
      "text/html": [
       "<div>\n",
       "<style scoped>\n",
       "    .dataframe tbody tr th:only-of-type {\n",
       "        vertical-align: middle;\n",
       "    }\n",
       "\n",
       "    .dataframe tbody tr th {\n",
       "        vertical-align: top;\n",
       "    }\n",
       "\n",
       "    .dataframe thead th {\n",
       "        text-align: right;\n",
       "    }\n",
       "</style>\n",
       "<table border=\"1\" class=\"dataframe\">\n",
       "  <thead>\n",
       "    <tr style=\"text-align: right;\">\n",
       "      <th></th>\n",
       "      <th>credit_score</th>\n",
       "      <th>age</th>\n",
       "      <th>tenure</th>\n",
       "      <th>balance</th>\n",
       "      <th>num_of_products</th>\n",
       "      <th>has_cr_card</th>\n",
       "      <th>is_active_member</th>\n",
       "      <th>estimated_salary</th>\n",
       "      <th>exited</th>\n",
       "    </tr>\n",
       "  </thead>\n",
       "  <tbody>\n",
       "    <tr>\n",
       "      <th>credit_score</th>\n",
       "      <td>1.000000</td>\n",
       "      <td>-0.007974</td>\n",
       "      <td>-0.000094</td>\n",
       "      <td>0.005687</td>\n",
       "      <td>0.012568</td>\n",
       "      <td>-0.003802</td>\n",
       "      <td>0.024262</td>\n",
       "      <td>0.001237</td>\n",
       "      <td>-0.023289</td>\n",
       "    </tr>\n",
       "    <tr>\n",
       "      <th>age</th>\n",
       "      <td>-0.007974</td>\n",
       "      <td>1.000000</td>\n",
       "      <td>-0.013398</td>\n",
       "      <td>0.033304</td>\n",
       "      <td>-0.058566</td>\n",
       "      <td>-0.015278</td>\n",
       "      <td>0.039839</td>\n",
       "      <td>-0.002431</td>\n",
       "      <td>0.323968</td>\n",
       "    </tr>\n",
       "    <tr>\n",
       "      <th>tenure</th>\n",
       "      <td>-0.000094</td>\n",
       "      <td>-0.013398</td>\n",
       "      <td>1.000000</td>\n",
       "      <td>-0.004605</td>\n",
       "      <td>0.010066</td>\n",
       "      <td>0.025499</td>\n",
       "      <td>-0.030584</td>\n",
       "      <td>0.010285</td>\n",
       "      <td>-0.016514</td>\n",
       "    </tr>\n",
       "    <tr>\n",
       "      <th>balance</th>\n",
       "      <td>0.005687</td>\n",
       "      <td>0.033304</td>\n",
       "      <td>-0.004605</td>\n",
       "      <td>1.000000</td>\n",
       "      <td>-0.316627</td>\n",
       "      <td>-0.009835</td>\n",
       "      <td>-0.011497</td>\n",
       "      <td>0.011778</td>\n",
       "      <td>0.111110</td>\n",
       "    </tr>\n",
       "    <tr>\n",
       "      <th>num_of_products</th>\n",
       "      <td>0.012568</td>\n",
       "      <td>-0.058566</td>\n",
       "      <td>0.010066</td>\n",
       "      <td>-0.316627</td>\n",
       "      <td>1.000000</td>\n",
       "      <td>0.003859</td>\n",
       "      <td>0.016292</td>\n",
       "      <td>0.012570</td>\n",
       "      <td>-0.125282</td>\n",
       "    </tr>\n",
       "    <tr>\n",
       "      <th>has_cr_card</th>\n",
       "      <td>-0.003802</td>\n",
       "      <td>-0.015278</td>\n",
       "      <td>0.025499</td>\n",
       "      <td>-0.009835</td>\n",
       "      <td>0.003859</td>\n",
       "      <td>1.000000</td>\n",
       "      <td>-0.011866</td>\n",
       "      <td>-0.010041</td>\n",
       "      <td>-0.007138</td>\n",
       "    </tr>\n",
       "    <tr>\n",
       "      <th>is_active_member</th>\n",
       "      <td>0.024262</td>\n",
       "      <td>0.039839</td>\n",
       "      <td>-0.030584</td>\n",
       "      <td>-0.011497</td>\n",
       "      <td>0.016292</td>\n",
       "      <td>-0.011866</td>\n",
       "      <td>1.000000</td>\n",
       "      <td>-0.011469</td>\n",
       "      <td>-0.156128</td>\n",
       "    </tr>\n",
       "    <tr>\n",
       "      <th>estimated_salary</th>\n",
       "      <td>0.001237</td>\n",
       "      <td>-0.002431</td>\n",
       "      <td>0.010285</td>\n",
       "      <td>0.011778</td>\n",
       "      <td>0.012570</td>\n",
       "      <td>-0.010041</td>\n",
       "      <td>-0.011469</td>\n",
       "      <td>1.000000</td>\n",
       "      <td>0.012081</td>\n",
       "    </tr>\n",
       "    <tr>\n",
       "      <th>exited</th>\n",
       "      <td>-0.023289</td>\n",
       "      <td>0.323968</td>\n",
       "      <td>-0.016514</td>\n",
       "      <td>0.111110</td>\n",
       "      <td>-0.125282</td>\n",
       "      <td>-0.007138</td>\n",
       "      <td>-0.156128</td>\n",
       "      <td>0.012081</td>\n",
       "      <td>1.000000</td>\n",
       "    </tr>\n",
       "  </tbody>\n",
       "</table>\n",
       "</div>"
      ],
      "text/plain": [
       "                  credit_score       age    tenure   balance  num_of_products  \\\n",
       "credit_score          1.000000 -0.007974 -0.000094  0.005687         0.012568   \n",
       "age                  -0.007974  1.000000 -0.013398  0.033304        -0.058566   \n",
       "tenure               -0.000094 -0.013398  1.000000 -0.004605         0.010066   \n",
       "balance               0.005687  0.033304 -0.004605  1.000000        -0.316627   \n",
       "num_of_products       0.012568 -0.058566  0.010066 -0.316627         1.000000   \n",
       "has_cr_card          -0.003802 -0.015278  0.025499 -0.009835         0.003859   \n",
       "is_active_member      0.024262  0.039839 -0.030584 -0.011497         0.016292   \n",
       "estimated_salary      0.001237 -0.002431  0.010285  0.011778         0.012570   \n",
       "exited               -0.023289  0.323968 -0.016514  0.111110        -0.125282   \n",
       "\n",
       "                  has_cr_card  is_active_member  estimated_salary    exited  \n",
       "credit_score        -0.003802          0.024262          0.001237 -0.023289  \n",
       "age                 -0.015278          0.039839         -0.002431  0.323968  \n",
       "tenure               0.025499         -0.030584          0.010285 -0.016514  \n",
       "balance             -0.009835         -0.011497          0.011778  0.111110  \n",
       "num_of_products      0.003859          0.016292          0.012570 -0.125282  \n",
       "has_cr_card          1.000000         -0.011866         -0.010041 -0.007138  \n",
       "is_active_member    -0.011866          1.000000         -0.011469 -0.156128  \n",
       "estimated_salary    -0.010041         -0.011469          1.000000  0.012081  \n",
       "exited              -0.007138         -0.156128          0.012081  1.000000  "
      ]
     },
     "execution_count": 9,
     "metadata": {},
     "output_type": "execute_result"
    }
   ],
   "source": [
    "#check the data for multicollinearity:\n",
    "df_1.corr(method='spearman')"
   ]
  },
  
  {
   "cell_type": "markdown",
   "metadata": {},
   "source": [
    "Based on the results of the quality check of the initial data, the following was done:\n",
    "- column names are converted to lowercase\n",
    "- column names converted to snake style\n",
    "- passes were checked. Gaps were found only in the tenure column in the amount of 909 (9% of the total sample). Because the proportion of gaps is significant, these rows should not be deleted, so the median value replaces the gaps.\n",
    "- checked for obvious duplicates: no obvious duplicates were found.\n",
    "- the geography column contains only three unique values: France', 'Spain', 'Germany'\n",
    "- removed 3 columns-identifiers that are not valuable for further analysis: row_number,customer_id, surname\n",
    "- checking for multicollinearity showed a low correlation between independent parameters\n",
    "\n",
    "The target feature Exited (the fact that the client left) takes only two values (0 and 1) and is a categorical feature, so classification methods should solve the problem."
   ]
  },
  {
   "cell_type": "markdown",
   "metadata": {},
   "source": [
    "### Preparing Data for Machine Learning"
   ]
  },
  {
   "cell_type": "code",
   "execution_count": 10,
   "metadata": {},
   "outputs": [
    {
     "name": "stdout",
     "output_type": "stream",
     "text": [
      "Размер features_train: (6000, 10)\n",
      "Размер features_valid: (2000, 10)\n",
      "Размер features_test: (2000, 10)\n"
     ]
    }
   ],
   "source": [
    "# write the target feature and the rest of the features into variables:\n",
    "\n",
    "target = df_1['exited']\n",
    "features= df_1.drop(['exited'], axis=1)\n",
    "\n",
    "#divide the corrected dataset into training, validation and test sets,:\n",
    "# First, we divide by the training one, which should be 60% of the total sample:\n",
    "features_rest, features_valid, target_rest, target_valid = train_test_split(features, target, test_size=0.20, random_state=12345, stratify=target)\n",
    "\n",
    "# now the rest of the sample, we divide into validation and test:\n",
    "features_train, features_test, target_train, target_test = train_test_split(features_rest, target_rest, test_size=0.25, random_state=12345, stratify=target_rest) \n",
    "\n",
    "print('Size features_train:', features_train.shape)\n",
    "print('Size features_valid:', features_valid.shape)\n",
    "print('Size features_test:', features_test.shape)"
   ]
  },
  
 
 
  
  {
   "cell_type": "code",
   "execution_count": 11,
   "metadata": {},
   "outputs": [],
   "source": [
    "#fix the numerical and categorical features:\n",
    "numeric = ['credit_score','age', 'tenure','balance', 'num_of_products', 'estimated_salary']\n",
    "category = ['geography', 'gender']"
   ]
  },
  {
   "cell_type": "code",
   "execution_count": 12,
   "metadata": {},
   "outputs": [
    {
     "name": "stderr",
     "output_type": "stream",
     "text": [
      "/opt/conda/lib/python3.9/site-packages/sklearn/preprocessing/_encoders.py:808: FutureWarning: `sparse` was renamed to `sparse_output` in version 1.2 and will be removed in 1.4. `sparse_output` is ignored unless you leave `sparse` to its default value.\n",
      "  warnings.warn(\n"
     ]
    }
   ],
   "source": [
    "# apply direct encoding technique OneHotEncoder to transform categorical features and Scaler to scale numerical features:\n",
    "onhe = OneHotEncoder(sparse=False, drop='first')\n",
    "scaler = StandardScaler()\n",
    "\n",
    "ct = make_column_transformer((scaler, numeric),(onhe, category))\n",
    "#train on the training set\n",
    "ct.fit(features_train)\n",
    "# apply the trained model to all the samples:\n",
    "features_train_transform = ct.transform(features_train)\n",
    "features_valid_transform = ct.transform(features_valid)\n",
    "features_test_transform = ct.transform(features_test)"
   ]
  },
 
  {
   "cell_type": "code",
   "execution_count": 13,
   "metadata": {},
   "outputs": [],
   "source": [
    "# prepare the column names:\n",
    "column_names = (\n",
    "    numeric + ct.named_transformers_[\"onehotencoder\"].get_feature_names_out().tolist()\n",
    ")\n"
   ]
  },
  
  {
   "cell_type": "code",
   "execution_count": 14,
   "metadata": {},
   "outputs": [
    {
     "data": {
      "text/html": [
       "<div>\n",
       "<style scoped>\n",
       "    .dataframe tbody tr th:only-of-type {\n",
       "        vertical-align: middle;\n",
       "    }\n",
       "\n",
       "    .dataframe tbody tr th {\n",
       "        vertical-align: top;\n",
       "    }\n",
       "\n",
       "    .dataframe thead th {\n",
       "        text-align: right;\n",
       "    }\n",
       "</style>\n",
       "<table border=\"1\" class=\"dataframe\">\n",
       "  <thead>\n",
       "    <tr style=\"text-align: right;\">\n",
       "      <th></th>\n",
       "      <th>credit_score</th>\n",
       "      <th>age</th>\n",
       "      <th>tenure</th>\n",
       "      <th>balance</th>\n",
       "      <th>num_of_products</th>\n",
       "      <th>estimated_salary</th>\n",
       "      <th>geography_Germany</th>\n",
       "      <th>geography_Spain</th>\n",
       "      <th>gender_Male</th>\n",
       "    </tr>\n",
       "  </thead>\n",
       "  <tbody>\n",
       "    <tr>\n",
       "      <th>0</th>\n",
       "      <td>-0.143332</td>\n",
       "      <td>0.577533</td>\n",
       "      <td>-0.001274</td>\n",
       "      <td>-1.220573</td>\n",
       "      <td>0.797767</td>\n",
       "      <td>1.029613</td>\n",
       "      <td>0.0</td>\n",
       "      <td>1.0</td>\n",
       "      <td>1.0</td>\n",
       "    </tr>\n",
       "    <tr>\n",
       "      <th>1</th>\n",
       "      <td>1.632702</td>\n",
       "      <td>-0.564119</td>\n",
       "      <td>-1.092954</td>\n",
       "      <td>0.435807</td>\n",
       "      <td>-0.916018</td>\n",
       "      <td>0.237986</td>\n",
       "      <td>0.0</td>\n",
       "      <td>0.0</td>\n",
       "      <td>0.0</td>\n",
       "    </tr>\n",
       "    <tr>\n",
       "      <th>2</th>\n",
       "      <td>1.116413</td>\n",
       "      <td>-0.468981</td>\n",
       "      <td>-1.456847</td>\n",
       "      <td>1.245822</td>\n",
       "      <td>-0.916018</td>\n",
       "      <td>-0.686104</td>\n",
       "      <td>0.0</td>\n",
       "      <td>0.0</td>\n",
       "      <td>0.0</td>\n",
       "    </tr>\n",
       "    <tr>\n",
       "      <th>3</th>\n",
       "      <td>1.643028</td>\n",
       "      <td>0.006707</td>\n",
       "      <td>-0.001274</td>\n",
       "      <td>-1.220573</td>\n",
       "      <td>-0.916018</td>\n",
       "      <td>-0.391097</td>\n",
       "      <td>0.0</td>\n",
       "      <td>0.0</td>\n",
       "      <td>0.0</td>\n",
       "    </tr>\n",
       "    <tr>\n",
       "      <th>4</th>\n",
       "      <td>-0.484083</td>\n",
       "      <td>-1.420358</td>\n",
       "      <td>-1.456847</td>\n",
       "      <td>1.421989</td>\n",
       "      <td>0.797767</td>\n",
       "      <td>-1.361559</td>\n",
       "      <td>0.0</td>\n",
       "      <td>1.0</td>\n",
       "      <td>1.0</td>\n",
       "    </tr>\n",
       "    <tr>\n",
       "      <th>5</th>\n",
       "      <td>0.445237</td>\n",
       "      <td>0.672671</td>\n",
       "      <td>-0.729060</td>\n",
       "      <td>1.206938</td>\n",
       "      <td>-0.916018</td>\n",
       "      <td>1.399264</td>\n",
       "      <td>0.0</td>\n",
       "      <td>1.0</td>\n",
       "      <td>0.0</td>\n",
       "    </tr>\n",
       "    <tr>\n",
       "      <th>6</th>\n",
       "      <td>1.281625</td>\n",
       "      <td>-0.278706</td>\n",
       "      <td>1.090407</td>\n",
       "      <td>0.653989</td>\n",
       "      <td>-0.916018</td>\n",
       "      <td>0.028082</td>\n",
       "      <td>0.0</td>\n",
       "      <td>1.0</td>\n",
       "      <td>0.0</td>\n",
       "    </tr>\n",
       "    <tr>\n",
       "      <th>7</th>\n",
       "      <td>0.104487</td>\n",
       "      <td>-0.754394</td>\n",
       "      <td>-1.456847</td>\n",
       "      <td>0.132478</td>\n",
       "      <td>-0.916018</td>\n",
       "      <td>0.652887</td>\n",
       "      <td>0.0</td>\n",
       "      <td>1.0</td>\n",
       "      <td>1.0</td>\n",
       "    </tr>\n",
       "    <tr>\n",
       "      <th>8</th>\n",
       "      <td>-0.577015</td>\n",
       "      <td>1.053222</td>\n",
       "      <td>0.726513</td>\n",
       "      <td>0.080479</td>\n",
       "      <td>-0.916018</td>\n",
       "      <td>1.453685</td>\n",
       "      <td>0.0</td>\n",
       "      <td>0.0</td>\n",
       "      <td>1.0</td>\n",
       "    </tr>\n",
       "    <tr>\n",
       "      <th>9</th>\n",
       "      <td>-1.248190</td>\n",
       "      <td>-0.754394</td>\n",
       "      <td>0.726513</td>\n",
       "      <td>-1.220573</td>\n",
       "      <td>0.797767</td>\n",
       "      <td>1.311712</td>\n",
       "      <td>0.0</td>\n",
       "      <td>0.0</td>\n",
       "      <td>0.0</td>\n",
       "    </tr>\n",
       "  </tbody>\n",
       "</table>\n",
       "</div>"
      ],
      "text/plain": [
       "   credit_score       age    tenure   balance  num_of_products  \\\n",
       "0     -0.143332  0.577533 -0.001274 -1.220573         0.797767   \n",
       "1      1.632702 -0.564119 -1.092954  0.435807        -0.916018   \n",
       "2      1.116413 -0.468981 -1.456847  1.245822        -0.916018   \n",
       "3      1.643028  0.006707 -0.001274 -1.220573        -0.916018   \n",
       "4     -0.484083 -1.420358 -1.456847  1.421989         0.797767   \n",
       "5      0.445237  0.672671 -0.729060  1.206938        -0.916018   \n",
       "6      1.281625 -0.278706  1.090407  0.653989        -0.916018   \n",
       "7      0.104487 -0.754394 -1.456847  0.132478        -0.916018   \n",
       "8     -0.577015  1.053222  0.726513  0.080479        -0.916018   \n",
       "9     -1.248190 -0.754394  0.726513 -1.220573         0.797767   \n",
       "\n",
       "   estimated_salary  geography_Germany  geography_Spain  gender_Male  \n",
       "0          1.029613                0.0              1.0          1.0  \n",
       "1          0.237986                0.0              0.0          0.0  \n",
       "2         -0.686104                0.0              0.0          0.0  \n",
       "3         -0.391097                0.0              0.0          0.0  \n",
       "4         -1.361559                0.0              1.0          1.0  \n",
       "5          1.399264                0.0              1.0          0.0  \n",
       "6          0.028082                0.0              1.0          0.0  \n",
       "7          0.652887                0.0              1.0          1.0  \n",
       "8          1.453685                0.0              0.0          1.0  \n",
       "9          1.311712                0.0              0.0          0.0  "
      ]
     },
     "metadata": {},
     "output_type": "display_data"
    },
    {
     "data": {
      "text/html": [
       "<div>\n",
       "<style scoped>\n",
       "    .dataframe tbody tr th:only-of-type {\n",
       "        vertical-align: middle;\n",
       "    }\n",
       "\n",
       "    .dataframe tbody tr th {\n",
       "        vertical-align: top;\n",
       "    }\n",
       "\n",
       "    .dataframe thead th {\n",
       "        text-align: right;\n",
       "    }\n",
       "</style>\n",
       "<table border=\"1\" class=\"dataframe\">\n",
       "  <thead>\n",
       "    <tr style=\"text-align: right;\">\n",
       "      <th></th>\n",
       "      <th>credit_score</th>\n",
       "      <th>age</th>\n",
       "      <th>tenure</th>\n",
       "      <th>balance</th>\n",
       "      <th>num_of_products</th>\n",
       "      <th>estimated_salary</th>\n",
       "      <th>geography_Germany</th>\n",
       "      <th>geography_Spain</th>\n",
       "      <th>gender_Male</th>\n",
       "    </tr>\n",
       "  </thead>\n",
       "  <tbody>\n",
       "    <tr>\n",
       "      <th>0</th>\n",
       "      <td>2.066384</td>\n",
       "      <td>0.862946</td>\n",
       "      <td>-1.092954</td>\n",
       "      <td>-1.220573</td>\n",
       "      <td>-0.916018</td>\n",
       "      <td>1.202714</td>\n",
       "      <td>0.0</td>\n",
       "      <td>1.0</td>\n",
       "      <td>1.0</td>\n",
       "    </tr>\n",
       "    <tr>\n",
       "      <th>1</th>\n",
       "      <td>0.011555</td>\n",
       "      <td>-1.039807</td>\n",
       "      <td>1.818193</td>\n",
       "      <td>0.052520</td>\n",
       "      <td>-0.916018</td>\n",
       "      <td>-0.443548</td>\n",
       "      <td>0.0</td>\n",
       "      <td>0.0</td>\n",
       "      <td>1.0</td>\n",
       "    </tr>\n",
       "    <tr>\n",
       "      <th>2</th>\n",
       "      <td>0.662079</td>\n",
       "      <td>-0.468981</td>\n",
       "      <td>1.818193</td>\n",
       "      <td>-1.220573</td>\n",
       "      <td>0.797767</td>\n",
       "      <td>-0.347161</td>\n",
       "      <td>0.0</td>\n",
       "      <td>0.0</td>\n",
       "      <td>1.0</td>\n",
       "    </tr>\n",
       "    <tr>\n",
       "      <th>3</th>\n",
       "      <td>1.364231</td>\n",
       "      <td>0.196983</td>\n",
       "      <td>-0.365167</td>\n",
       "      <td>-1.220573</td>\n",
       "      <td>-0.916018</td>\n",
       "      <td>0.568776</td>\n",
       "      <td>0.0</td>\n",
       "      <td>1.0</td>\n",
       "      <td>0.0</td>\n",
       "    </tr>\n",
       "    <tr>\n",
       "      <th>4</th>\n",
       "      <td>-1.330797</td>\n",
       "      <td>0.196983</td>\n",
       "      <td>-1.092954</td>\n",
       "      <td>-1.220573</td>\n",
       "      <td>0.797767</td>\n",
       "      <td>0.223765</td>\n",
       "      <td>0.0</td>\n",
       "      <td>0.0</td>\n",
       "      <td>0.0</td>\n",
       "    </tr>\n",
       "    <tr>\n",
       "      <th>5</th>\n",
       "      <td>0.073509</td>\n",
       "      <td>-0.754394</td>\n",
       "      <td>-0.729060</td>\n",
       "      <td>0.782233</td>\n",
       "      <td>-0.916018</td>\n",
       "      <td>-0.024188</td>\n",
       "      <td>0.0</td>\n",
       "      <td>1.0</td>\n",
       "      <td>1.0</td>\n",
       "    </tr>\n",
       "    <tr>\n",
       "      <th>6</th>\n",
       "      <td>-1.258516</td>\n",
       "      <td>-0.944670</td>\n",
       "      <td>-0.001274</td>\n",
       "      <td>1.503036</td>\n",
       "      <td>0.797767</td>\n",
       "      <td>-0.884982</td>\n",
       "      <td>1.0</td>\n",
       "      <td>0.0</td>\n",
       "      <td>0.0</td>\n",
       "    </tr>\n",
       "    <tr>\n",
       "      <th>7</th>\n",
       "      <td>1.766937</td>\n",
       "      <td>-0.754394</td>\n",
       "      <td>-0.001274</td>\n",
       "      <td>-0.117658</td>\n",
       "      <td>-0.916018</td>\n",
       "      <td>-1.299232</td>\n",
       "      <td>1.0</td>\n",
       "      <td>0.0</td>\n",
       "      <td>0.0</td>\n",
       "    </tr>\n",
       "    <tr>\n",
       "      <th>8</th>\n",
       "      <td>-0.298219</td>\n",
       "      <td>0.101845</td>\n",
       "      <td>1.818193</td>\n",
       "      <td>1.400776</td>\n",
       "      <td>-0.916018</td>\n",
       "      <td>-0.185810</td>\n",
       "      <td>0.0</td>\n",
       "      <td>0.0</td>\n",
       "      <td>1.0</td>\n",
       "    </tr>\n",
       "    <tr>\n",
       "      <th>9</th>\n",
       "      <td>-0.473757</td>\n",
       "      <td>-1.039807</td>\n",
       "      <td>0.726513</td>\n",
       "      <td>-1.220573</td>\n",
       "      <td>0.797767</td>\n",
       "      <td>-0.723174</td>\n",
       "      <td>0.0</td>\n",
       "      <td>0.0</td>\n",
       "      <td>1.0</td>\n",
       "    </tr>\n",
       "  </tbody>\n",
       "</table>\n",
       "</div>"
      ],
      "text/plain": [
       "   credit_score       age    tenure   balance  num_of_products  \\\n",
       "0      2.066384  0.862946 -1.092954 -1.220573        -0.916018   \n",
       "1      0.011555 -1.039807  1.818193  0.052520        -0.916018   \n",
       "2      0.662079 -0.468981  1.818193 -1.220573         0.797767   \n",
       "3      1.364231  0.196983 -0.365167 -1.220573        -0.916018   \n",
       "4     -1.330797  0.196983 -1.092954 -1.220573         0.797767   \n",
       "5      0.073509 -0.754394 -0.729060  0.782233        -0.916018   \n",
       "6     -1.258516 -0.944670 -0.001274  1.503036         0.797767   \n",
       "7      1.766937 -0.754394 -0.001274 -0.117658        -0.916018   \n",
       "8     -0.298219  0.101845  1.818193  1.400776        -0.916018   \n",
       "9     -0.473757 -1.039807  0.726513 -1.220573         0.797767   \n",
       "\n",
       "   estimated_salary  geography_Germany  geography_Spain  gender_Male  \n",
       "0          1.202714                0.0              1.0          1.0  \n",
       "1         -0.443548                0.0              0.0          1.0  \n",
       "2         -0.347161                0.0              0.0          1.0  \n",
       "3          0.568776                0.0              1.0          0.0  \n",
       "4          0.223765                0.0              0.0          0.0  \n",
       "5         -0.024188                0.0              1.0          1.0  \n",
       "6         -0.884982                1.0              0.0          0.0  \n",
       "7         -1.299232                1.0              0.0          0.0  \n",
       "8         -0.185810                0.0              0.0          1.0  \n",
       "9         -0.723174                0.0              0.0          1.0  "
      ]
     },
     "metadata": {},
     "output_type": "display_data"
    },
    {
     "data": {
      "text/html": [
       "<div>\n",
       "<style scoped>\n",
       "    .dataframe tbody tr th:only-of-type {\n",
       "        vertical-align: middle;\n",
       "    }\n",
       "\n",
       "    .dataframe tbody tr th {\n",
       "        vertical-align: top;\n",
       "    }\n",
       "\n",
       "    .dataframe thead th {\n",
       "        text-align: right;\n",
       "    }\n",
       "</style>\n",
       "<table border=\"1\" class=\"dataframe\">\n",
       "  <thead>\n",
       "    <tr style=\"text-align: right;\">\n",
       "      <th></th>\n",
       "      <th>credit_score</th>\n",
       "      <th>age</th>\n",
       "      <th>tenure</th>\n",
       "      <th>balance</th>\n",
       "      <th>num_of_products</th>\n",
       "      <th>estimated_salary</th>\n",
       "      <th>geography_Germany</th>\n",
       "      <th>geography_Spain</th>\n",
       "      <th>gender_Male</th>\n",
       "    </tr>\n",
       "  </thead>\n",
       "  <tbody>\n",
       "    <tr>\n",
       "      <th>0</th>\n",
       "      <td>0.094161</td>\n",
       "      <td>0.862946</td>\n",
       "      <td>-0.365167</td>\n",
       "      <td>0.757050</td>\n",
       "      <td>0.797767</td>\n",
       "      <td>-0.308325</td>\n",
       "      <td>1.0</td>\n",
       "      <td>0.0</td>\n",
       "      <td>1.0</td>\n",
       "    </tr>\n",
       "    <tr>\n",
       "      <th>1</th>\n",
       "      <td>-1.031349</td>\n",
       "      <td>0.292120</td>\n",
       "      <td>1.818193</td>\n",
       "      <td>0.838881</td>\n",
       "      <td>-0.916018</td>\n",
       "      <td>-0.645029</td>\n",
       "      <td>1.0</td>\n",
       "      <td>0.0</td>\n",
       "      <td>0.0</td>\n",
       "    </tr>\n",
       "    <tr>\n",
       "      <th>2</th>\n",
       "      <td>2.066384</td>\n",
       "      <td>0.196983</td>\n",
       "      <td>-0.729060</td>\n",
       "      <td>-1.220573</td>\n",
       "      <td>0.797767</td>\n",
       "      <td>0.498373</td>\n",
       "      <td>0.0</td>\n",
       "      <td>0.0</td>\n",
       "      <td>1.0</td>\n",
       "    </tr>\n",
       "    <tr>\n",
       "      <th>3</th>\n",
       "      <td>1.085435</td>\n",
       "      <td>-0.278706</td>\n",
       "      <td>1.090407</td>\n",
       "      <td>-1.220573</td>\n",
       "      <td>0.797767</td>\n",
       "      <td>1.331035</td>\n",
       "      <td>0.0</td>\n",
       "      <td>0.0</td>\n",
       "      <td>1.0</td>\n",
       "    </tr>\n",
       "    <tr>\n",
       "      <th>4</th>\n",
       "      <td>0.548495</td>\n",
       "      <td>1.814323</td>\n",
       "      <td>-0.365167</td>\n",
       "      <td>0.266421</td>\n",
       "      <td>-0.916018</td>\n",
       "      <td>-0.261760</td>\n",
       "      <td>0.0</td>\n",
       "      <td>1.0</td>\n",
       "      <td>1.0</td>\n",
       "    </tr>\n",
       "    <tr>\n",
       "      <th>5</th>\n",
       "      <td>-1.795457</td>\n",
       "      <td>-0.183568</td>\n",
       "      <td>-0.365167</td>\n",
       "      <td>-1.220573</td>\n",
       "      <td>-0.916018</td>\n",
       "      <td>-0.772173</td>\n",
       "      <td>0.0</td>\n",
       "      <td>0.0</td>\n",
       "      <td>1.0</td>\n",
       "    </tr>\n",
       "    <tr>\n",
       "      <th>6</th>\n",
       "      <td>-0.959069</td>\n",
       "      <td>-0.468981</td>\n",
       "      <td>-0.729060</td>\n",
       "      <td>-1.220573</td>\n",
       "      <td>-0.916018</td>\n",
       "      <td>0.403418</td>\n",
       "      <td>0.0</td>\n",
       "      <td>1.0</td>\n",
       "      <td>1.0</td>\n",
       "    </tr>\n",
       "    <tr>\n",
       "      <th>7</th>\n",
       "      <td>-0.184635</td>\n",
       "      <td>0.862946</td>\n",
       "      <td>0.362620</td>\n",
       "      <td>0.796622</td>\n",
       "      <td>-0.916018</td>\n",
       "      <td>-0.623256</td>\n",
       "      <td>1.0</td>\n",
       "      <td>0.0</td>\n",
       "      <td>1.0</td>\n",
       "    </tr>\n",
       "    <tr>\n",
       "      <th>8</th>\n",
       "      <td>0.579472</td>\n",
       "      <td>1.338635</td>\n",
       "      <td>-0.729060</td>\n",
       "      <td>-1.220573</td>\n",
       "      <td>2.511553</td>\n",
       "      <td>-0.203890</td>\n",
       "      <td>0.0</td>\n",
       "      <td>1.0</td>\n",
       "      <td>0.0</td>\n",
       "    </tr>\n",
       "    <tr>\n",
       "      <th>9</th>\n",
       "      <td>-0.638969</td>\n",
       "      <td>-0.468981</td>\n",
       "      <td>-0.001274</td>\n",
       "      <td>0.850250</td>\n",
       "      <td>-0.916018</td>\n",
       "      <td>0.929930</td>\n",
       "      <td>1.0</td>\n",
       "      <td>0.0</td>\n",
       "      <td>0.0</td>\n",
       "    </tr>\n",
       "  </tbody>\n",
       "</table>\n",
       "</div>"
      ],
      "text/plain": [
       "   credit_score       age    tenure   balance  num_of_products  \\\n",
       "0      0.094161  0.862946 -0.365167  0.757050         0.797767   \n",
       "1     -1.031349  0.292120  1.818193  0.838881        -0.916018   \n",
       "2      2.066384  0.196983 -0.729060 -1.220573         0.797767   \n",
       "3      1.085435 -0.278706  1.090407 -1.220573         0.797767   \n",
       "4      0.548495  1.814323 -0.365167  0.266421        -0.916018   \n",
       "5     -1.795457 -0.183568 -0.365167 -1.220573        -0.916018   \n",
       "6     -0.959069 -0.468981 -0.729060 -1.220573        -0.916018   \n",
       "7     -0.184635  0.862946  0.362620  0.796622        -0.916018   \n",
       "8      0.579472  1.338635 -0.729060 -1.220573         2.511553   \n",
       "9     -0.638969 -0.468981 -0.001274  0.850250        -0.916018   \n",
       "\n",
       "   estimated_salary  geography_Germany  geography_Spain  gender_Male  \n",
       "0         -0.308325                1.0              0.0          1.0  \n",
       "1         -0.645029                1.0              0.0          0.0  \n",
       "2          0.498373                0.0              0.0          1.0  \n",
       "3          1.331035                0.0              0.0          1.0  \n",
       "4         -0.261760                0.0              1.0          1.0  \n",
       "5         -0.772173                0.0              0.0          1.0  \n",
       "6          0.403418                0.0              1.0          1.0  \n",
       "7         -0.623256                1.0              0.0          1.0  \n",
       "8         -0.203890                0.0              1.0          0.0  \n",
       "9          0.929930                1.0              0.0          0.0  "
      ]
     },
     "metadata": {},
     "output_type": "display_data"
    }
   ],
   "source": [
    "# collect data in tables:\n",
    "features_train_transform = pd.DataFrame(features_train_transform, columns=column_names)\n",
    "features_valid_transform = pd.DataFrame(features_valid_transform, columns=column_names)\n",
    "features_test_transform = pd.DataFrame(features_test_transform, columns=column_names)\n",
    "\n",
    "\n",
    "display(features_train_transform.head(10))\n",
    "display(features_valid_transform.head(10))\n",
    "display(features_test_transform.head(10))"
   ]
  },
  {
   "cell_type": "markdown",
   "metadata": {},
   "source": [
    "As a result of preparing data for machine learning, the following is done:\n",
    "- the corrected initial data set is divided into three separate samples: training, validation and testing. The training sample size was 6000 lines, and validation and test were 2000 lines each.\n",
    "- 2 techniques for processing numerical and categorical features were applied to the obtained samples. Using the OneHotEncoder technique, the categorical features 'geography', 'gender' are converted into numerical values. The StandardScaler data standardization technique brings numerical features to the same scale.\n",
    "- Removed 2 columns when processing categorical values to avoid dummy trap ('France' и 'Female')\n"
   ]
  },
  
  {
   "cell_type": "markdown",
   "metadata": {},
   "source": [
    "## Problem research"
   ]
  },
  {
   "cell_type": "markdown",
   "metadata": {},
   "source": [
    "### Class balance research"
   ]
  },
  {
   "cell_type": "code",
   "execution_count": 15,
   "metadata": {},
   "outputs": [
    {
     "name": "stdout",
     "output_type": "stream",
     "text": [
      "0    0.796167\n",
      "1    0.203833\n",
      "Name: exited, dtype: float64\n"
     ]
    },
    {
     "data": {
      "text/plain": [
       "<AxesSubplot:>"
      ]
     },
     "execution_count": 15,
     "metadata": {},
     "output_type": "execute_result"
    },
    {
     "data": {
      "image/png": "[encoded data removed]",
      "text/plain": [
       "<Figure size 432x288 with 1 Axes>"
      ]
     },
     "metadata": {
      "needs_background": "light"
     },
     "output_type": "display_data"
    }
   ],
   "source": [
    "# class balance check\n",
    "# study the target feature on the training set:\n",
    "class_frequency_train = target_train.value_counts(normalize=True)\n",
    "print(class_frequency_train)\n",
    "class_frequency_train.plot(kind='bar')\n"
   ]
  },
  {
   "cell_type": "code",
   "execution_count": 16,
   "metadata": {},
   "outputs": [
    {
     "name": "stdout",
     "output_type": "stream",
     "text": [
      "0    0.7965\n",
      "1    0.2035\n",
      "Name: exited, dtype: float64\n"
     ]
    },
    {
     "data": {
      "text/plain": [
       "<AxesSubplot:>"
      ]
     },
     "execution_count": 16,
     "metadata": {},
     "output_type": "execute_result"
    },
    {
     "data": {
      "image/png": "[encoded data removed]",
      "text/plain": [
       "<Figure size 432x288 with 1 Axes>"
      ]
     },
     "metadata": {
      "needs_background": "light"
     },
     "output_type": "display_data"
    }
   ],
   "source": [
    "# study the target feature on the validation sample:\n",
    "class_frequency_valid = target_valid.value_counts(normalize=True)\n",
    "print(class_frequency_valid)\n",
    "class_frequency_valid.plot(kind='bar')"
   ]
  },
  {
   "cell_type": "markdown",
   "metadata": {},
   "source": [
    "The class balance has been checked. It has been established that the training and validation samples have a noticeable imbalance of classes. Answers in the \"0\" category make up about 80%, and answers in the \"1\" category about 20%. Therefore, it is likely to expect that the results of model predictions will tend to one answer."
   ]
  },
 
  {
   "cell_type": "markdown",
   "metadata": {},
   "source": [
    "### Examining models without accounting for imbalance"
   ]
  },
  {
   "cell_type": "code",
   "execution_count": 17,
   "metadata": {},
   "outputs": [],
   "source": [
    "def all_models_accuracy(features_train, target_train, features_valid, target_valid):\n",
    "    model_tree = DecisionTreeClassifier(random_state=12345)\n",
    "    tree_accuracy = model_tree.fit(features_train, target_train).score(features_valid, target_valid)\n",
    "    \n",
    "    model_forest = RandomForestClassifier(random_state=12345, n_estimators = 100)\n",
    "    forest_accuracy = model_forest.fit(features_train, target_train).score(features_valid, target_valid)\n",
    "    \n",
    "    model_lgr = LogisticRegression(random_state=12345,solver = 'liblinear')\n",
    "    accuracy_lgr = model_lgr.fit(features_train, target_train).score(features_valid, target_valid)\n",
    "    print('Percentage of correct answers:')\n",
    "    print('decision tree', tree_accuracy)   \n",
    "    print('random forest', forest_accuracy)\n",
    "    print('logistic regression', accuracy_lgr)    \n",
    "\n"
   ]
  },
 
  {
   "cell_type": "code",
   "execution_count": 18,
   "metadata": {},
   "outputs": [
    {
     "name": "stdout",
     "output_type": "stream",
     "text": [
      "Percentage of correct answers:\n",
      "decision tree 0.782\n",
      "random forest 0.862\n",
      "logistic regression 0.787\n"
     ]
    }
   ],
   "source": [
    "all_models_accuracy(features_train_transform, target_train, features_valid_transform, target_valid)"
   ]
  },
  {
   "cell_type": "code",
   "execution_count": 19,
   "metadata": {},
   "outputs": [
    {
     "name": "stdout",
     "output_type": "stream",
     "text": [
      "Accuracy constant model = 0.7965\n"
     ]
    }
   ],
   "source": [
    "#create a constant model that predicts the class 0 for any object (since this value occurs in 80% of cases):\n",
    "target_pred_constant = pd.Series([0]*len(target_valid))\n",
    "print('Accuracy constant model =', accuracy_score(target_valid,target_pred_constant))"
   ]
  },
  {
   "cell_type": "code",
   "execution_count": 20,
   "metadata": {},
   "outputs": [
    {
     "data": {
      "text/plain": [
       "array([[1363,  230],\n",
       "       [ 206,  201]])"
      ]
     },
     "execution_count": 20,
     "metadata": {},
     "output_type": "execute_result"
    }
   ],
   "source": [
    "#get the error matrix for the decision tree:\n",
    "\n",
    "model_tree = DecisionTreeClassifier(random_state=12345)\n",
    "model_tree.fit(features_train_transform, target_train)\n",
    "prediction_tree = model_tree.predict(features_valid_transform)\n",
    "\n",
    "probabilities_tree_valid = model_tree.predict_proba(features_valid_transform)\n",
    "probabilities_tree_one_valid = probabilities_tree_valid[:, 1]\n",
    "\n",
    "confusion_matrix(target_valid, prediction_tree)\n"
   ]
  },
  {
   "cell_type": "code",
   "execution_count": 21,
   "metadata": {},
   "outputs": [
    {
     "data": {
      "text/plain": [
       "array([[1529,   64],\n",
       "       [ 212,  195]])"
      ]
     },
     "execution_count": 21,
     "metadata": {},
     "output_type": "execute_result"
    }
   ],
   "source": [
    "#get the error matrix for the random forest:\n",
    "\n",
    "model_forest = RandomForestClassifier(random_state=12345, n_estimators = 100)\n",
    "model_forest.fit(features_train_transform, target_train)\n",
    "prediction_forest = model_forest.predict(features_valid_transform)\n",
    "\n",
    "probabilities_forest_valid = model_forest.predict_proba(features_valid_transform)\n",
    "probabilities_forest_one_valid = probabilities_forest_valid[:, 1]\n",
    "\n",
    "confusion_matrix(target_valid, prediction_forest)"
   ]
  },
  {
   "cell_type": "code",
   "execution_count": 22,
   "metadata": {},
   "outputs": [
    {
     "data": {
      "text/plain": [
       "array([[1539,   54],\n",
       "       [ 372,   35]])"
      ]
     },
     "execution_count": 22,
     "metadata": {},
     "output_type": "execute_result"
    }
   ],
   "source": [
    "#get the error matrix for logistic regression:\n",
    "model_lgr = LogisticRegression(random_state=12345, solver = 'liblinear')\n",
    "model_lgr.fit(features_train_transform, target_train)\n",
    "prediction_lgr = model_lgr.predict(features_valid_transform)\n",
    "\n",
    "\n",
    "probabilities_lgr_valid = model_lgr.predict_proba(features_valid_transform)\n",
    "probabilities_lgr_one_valid = probabilities_lgr_valid[:, 1]\n",
    "\n",
    "confusion_matrix(target_valid, prediction_lgr)"
   ]
  },
  {
   "cell_type": "code",
   "execution_count": 23,
   "metadata": {},
   "outputs": [],
   "source": [
    "# write a function to calculate  F1 и \"AUC-ROC\" metrics:\n",
    "def rec_metrics(target_valid, prediction, probabilities_one_valid):\n",
    "    print(\"F1-measure\", f1_score(target_valid, prediction))\n",
    "    print(\"AUC-ROC\", roc_auc_score(target_valid, probabilities_one_valid))\n",
    "  "
   ]
  },
  {
   "cell_type": "code",
   "execution_count": 24,
   "metadata": {},
   "outputs": [
    {
     "name": "stdout",
     "output_type": "stream",
     "text": [
      "Decision tree model\n",
      "F1-measure 0.4797136038186157\n",
      "AUC-ROC 0.6747379120260476\n"
     ]
    }
   ],
   "source": [
    "#call the function for calculating metrics for the decision tree:\n",
    "print('Decision tree model')\n",
    "rec_metrics(target_valid, prediction_tree, probabilities_tree_one_valid)\n"
   ]
  },
  {
   "cell_type": "code",
   "execution_count": 25,
   "metadata": {},
   "outputs": [
    {
     "name": "stdout",
     "output_type": "stream",
     "text": [
      "Random forest model\n",
      "F1-measure 0.5855855855855857\n",
      "AUC-ROC 0.8589868759360285\n"
     ]
    }
   ],
   "source": [
    "#call the function for calculating metrics for a random forest:\n",
    "print('Random forest model')\n",
    "rec_metrics(target_valid, prediction_forest,  probabilities_forest_one_valid)"
   ]
  },
  {
   "cell_type": "code",
   "execution_count": 26,
   "metadata": {},
   "outputs": [
    {
     "name": "stdout",
     "output_type": "stream",
     "text": [
      "Logistic Regression Model\n",
      "F1-measure 0.14112903225806453\n",
      "AUC-ROC 0.7731012985250274\n"
     ]
    }
   ],
   "source": [
    "#call the function for calculating metrics for logistic regression:\n",
    "print('Logistic Regression Model')\n",
    "rec_metrics(target_valid, prediction_lgr, probabilities_lgr_one_valid)\n"
   ]
  },
  {
   "cell_type": "markdown",
   "metadata": {},
   "source": [
    "Conclusion from the study of the task:\n",
    "- Models are built using decision tree, random forest and logistic regression algorithms without imbalance. The random forest model showed the highest value of the accuracy metric 0,86.\n",
    "- A constant model has been built that predicts a class for any object 0. \n",
    "the value of the accuracy metric obtained only using the random forest model 0.86 slightly exceeds the value of the accuracy of the constant model 0.80. \n",
    "\n",
    "However, because there is a significant imbalance of classes in the samples, the accuracy metric (the proportion of correct answers) could be more suitable, and it is necessary to check the quality of the models using other metrics.\n",
    "- For a visual representation of the results of calculating the accuracy and recall metrics, error matrices were constructed for each model. It was found that all models tend to give more negative predictions, the number of false negative predictions (FN) exceeds the number of false positives (FP).\n",
    "- AUC-ROC and F1-measure calculated for each model.\n",
    "In a decision tree model: the metric F1 = 0,48 and AUC-ROC =0.67  indicates the low quality of the model.\n",
    "In a random forest model: the metric F1 = 0,59 и AUC-ROC =0.86 slightly higher than the decision tree model, but also far from unity, so the quality of the model is also low.\n",
    "In a logistic regression model: metric F1 =0,14 и UC-ROC =0.77 - the quality of the model is even lower than in previous models. \n",
    "Thus, the obtained estimates of the quality of models on unbalanced data show unsatisfactory results.\n",
    "\n"
   ]
  },
 
  {
   "cell_type": "markdown",
   "metadata": {},
   "source": [
    "## Struggling with imbalance"
   ]
  },
  {
   "cell_type": "code",
   "execution_count": 27,
   "metadata": {},
   "outputs": [],
   "source": [
    "# to combat the imbalance, we apply the techniques of increasing and decreasing the training set:\n",
    "\n",
    "def upsample(features, target,repeat):\n",
    "    features_zeros = features[target==0]\n",
    "    features_ones = features[target==1]\n",
    "    target_zeros = target[target==0]\n",
    "    target_ones = target[target==1]\n",
    "    features_upsampled = pd.concat([features_zeros] + [features_ones] * repeat)\n",
    "    target_upsampled = pd.concat([target_zeros] + [target_ones] * repeat)\n",
    "    features_upsampled, target_upsampled = shuffle(features_upsampled, target_upsampled, random_state=12345)\n",
    "    return features_upsampled, target_upsampled    "
   ]
  },
 
  {
   "cell_type": "code",
   "execution_count": 28,
   "metadata": {},
   "outputs": [
    {
     "name": "stdout",
     "output_type": "stream",
     "text": [
      "1    0.505947\n",
      "0    0.494053\n",
      "Name: exited, dtype: float64\n"
     ]
    },
    {
     "data": {
      "text/plain": [
       "<AxesSubplot:>"
      ]
     },
     "execution_count": 28,
     "metadata": {},
     "output_type": "execute_result"
    },
    {
     "data": {
      "image/png": "[encoded data removed]",
      "text/plain": [
       "<Figure size 432x288 with 1 Axes>"
      ]
     },
     "metadata": {
      "needs_background": "light"
     },
     "output_type": "display_data"
    }
   ],
   "source": [
    "features_train_upsampled, target_train_upsampled = upsample(features_train_transform, target_train.reset_index(drop=True), 4)\n",
    "print(target_train_upsampled.value_counts(normalize = 1))\n",
    "\n",
    "\n",
    "class_frequency_upsampled = target_train_upsampled.value_counts(normalize=True)\n",
    "class_frequency_upsampled.plot(kind='bar')"
   ]
  },
  {
   "cell_type": "code",
   "execution_count": 29,
   "metadata": {},
   "outputs": [],
   "source": [
    "def downsample(features, target, fraction):\n",
    "    features_zeros = features[target == 0]\n",
    "    features_ones = features[target == 1]\n",
    "    target_zeros = target[target == 0]\n",
    "    target_ones = target[target == 1]\n",
    "\n",
    "    features_downsampled = pd.concat(\n",
    "        [features_zeros.sample(frac=fraction, random_state=12345)] + [features_ones])\n",
    "    target_downsampled = pd.concat(\n",
    "        [target_zeros.sample(frac=fraction, random_state=12345)] + [target_ones])\n",
    "    \n",
    "    features_downsampled, target_downsampled = shuffle(\n",
    "        features_downsampled, target_downsampled, random_state=12345)\n",
    "    \n",
    "    return features_downsampled, target_downsampled"
   ]
  },
  {
   "cell_type": "code",
   "execution_count": 30,
   "metadata": {
    "scrolled": true
   },
   "outputs": [
    {
     "name": "stdout",
     "output_type": "stream",
     "text": [
      "1    0.505999\n",
      "0    0.494001\n",
      "Name: exited, dtype: float64\n",
      "(2417,)\n"
     ]
    },
    {
     "data": {
      "text/plain": [
       "<AxesSubplot:>"
      ]
     },
     "execution_count": 30,
     "metadata": {},
     "output_type": "execute_result"
    },
    {
     "data": {
      "image/png": "[encoded data removed]",
      "text/plain": [
       "<Figure size 432x288 with 1 Axes>"
      ]
     },
     "metadata": {
      "needs_background": "light"
     },
     "output_type": "display_data"
    }
   ],
   "source": [
    "features_train_downsampled, target_train_downsampled = downsample(features_train_transform, target_train.reset_index(drop=True), 0.25)\n",
    "print(target_train_downsampled.value_counts(normalize = 1))\n",
    "print(target_train_downsampled.shape)\n",
    "\n",
    "class_frequency_downsampled = target_train_downsampled.value_counts(normalize=True)\n",
    "class_frequency_downsampled.plot(kind='bar')"
   ]
  },
 
  {
   "cell_type": "code",
   "execution_count": 31,
   "metadata": {},
   "outputs": [
    {
     "data": {
      "text/plain": [
       "'Качество решающего дерева на увеличенной выборке'"
      ]
     },
     "metadata": {},
     "output_type": "display_data"
    },
    {
     "name": "stdout",
     "output_type": "stream",
     "text": [
      "F1-мера 0.49315068493150677\n",
      "AUC-ROC 0.7053463324649766\n"
     ]
    },
    {
     "data": {
      "text/plain": [
       "'Качество решающего дерева на уменьшенной выборке'"
      ]
     },
     "metadata": {},
     "output_type": "display_data"
    },
    {
     "name": "stdout",
     "output_type": "stream",
     "text": [
      "F1-мера 0.47440699126092384\n",
      "AUC-ROC 0.6693851015884914\n"
     ]
    },
    {
     "data": {
      "text/plain": [
       "'Качество логистической регрессии на увеличенной выборке'"
      ]
     },
     "metadata": {},
     "output_type": "display_data"
    },
    {
     "name": "stdout",
     "output_type": "stream",
     "text": [
      "F1-мера 0.497883149872989\n",
      "AUC-ROC 0.7770975906569126\n"
     ]
    },
    {
     "data": {
      "text/plain": [
       "'Качество логистической регрессии на уменьшенной выборке'"
      ]
     },
     "metadata": {},
     "output_type": "display_data"
    },
    {
     "name": "stdout",
     "output_type": "stream",
     "text": [
      "F1-мера 0.5029940119760479\n",
      "AUC-ROC 0.7758991657296741\n"
     ]
    },
    {
     "data": {
      "text/plain": [
       "'Качество случайного леса на увеличенной выборке'"
      ]
     },
     "metadata": {},
     "output_type": "display_data"
    },
    {
     "name": "stdout",
     "output_type": "stream",
     "text": [
      "F1-мера 0.5932642487046632\n",
      "AUC-ROC 0.85326929394726\n"
     ]
    },
    {
     "data": {
      "text/plain": [
       "'качество случайного леса на уменьшенной выборке'"
      ]
     },
     "metadata": {},
     "output_type": "display_data"
    },
    {
     "name": "stdout",
     "output_type": "stream",
     "text": [
      "F1-мера 0.5853658536585366\n",
      "AUC-ROC 0.8566663736155261\n"
     ]
    }
   ],
   "source": [
    "#проверим качество предсказаний моделей на сбалансированной выборке: \n",
    "\n",
    "#решающее дерево на увеличенной  выборке: \n",
    " \n",
    "model_tree_upsampled = DecisionTreeClassifier(random_state=12345)\n",
    "model_tree_upsampled.fit(features_train_upsampled, target_train_upsampled)\n",
    "prediction_tree_upsampled = model_tree_upsampled.predict(features_valid_transform)\n",
    "\n",
    "probabilities_tree_upsampled = model_tree_upsampled.predict_proba(features_valid_transform)\n",
    "probabilities_tree_one_upsampled = probabilities_tree_upsampled[:, 1]\n",
    "\n",
    "#решающее дерево на уменьшенной выборке: \n",
    "model_tree_downsampled = DecisionTreeClassifier(random_state=12345)\n",
    "model_tree_downsampled.fit(features_train_downsampled, target_train_downsampled)\n",
    "prediction_tree_downsampled = model_tree_downsampled.predict(features_valid_transform)\n",
    "\n",
    "probabilities_tree_downsampled = model_tree_downsampled.predict_proba(features_valid_transform)\n",
    "probabilities_tree_one_downsampled = probabilities_tree_downsampled[:, 1]\n",
    "\n",
    "display('Качество решающего дерева на увеличенной выборке')\n",
    "rec_metrics(target_valid, prediction_tree_downsampled, probabilities_tree_one_downsampled)\n",
    "\n",
    "display('Качество решающего дерева на уменьшенной выборке')\n",
    "rec_metrics(target_valid, prediction_tree_upsampled, probabilities_tree_one_upsampled)\n",
    "\n",
    "# логистическая регрессия на увеличенной  выборке:\n",
    "model_lgr_upsampled = LogisticRegression(random_state=12345, solver = 'liblinear')\n",
    "model_lgr_upsampled.fit(features_train_upsampled, target_train_upsampled)\n",
    "prediction_lgr_upsampled = model_lgr_upsampled.predict(features_valid_transform)\n",
    "\n",
    "probabilities_lgr_upsampled = model_lgr_upsampled.predict_proba(features_valid_transform)\n",
    "probabilities_lgr_one_upsampled = probabilities_lgr_upsampled[:, 1]\n",
    "\n",
    "# логистическая регрессия на уменьшенной выборке:\n",
    "model_lgr_downsampled = LogisticRegression(random_state=12345, solver = 'liblinear')\n",
    "model_lgr_downsampled.fit(features_train_downsampled, target_train_downsampled)\n",
    "prediction_lgr_downsampled = model_lgr_downsampled.predict(features_valid_transform)\n",
    "\n",
    "probabilities_lgr_downsampled = model_lgr_downsampled.predict_proba(features_valid_transform)\n",
    "probabilities_lgr_one_downsampled = probabilities_lgr_downsampled[:, 1]\n",
    "\n",
    "display('Качество логистической регрессии на увеличенной выборке')\n",
    "rec_metrics(target_valid, prediction_lgr_upsampled, probabilities_lgr_one_upsampled)\n",
    "\n",
    "display('Качество логистической регрессии на уменьшенной выборке')\n",
    "rec_metrics(target_valid, prediction_lgr_downsampled, probabilities_lgr_one_downsampled)\n",
    "\n",
    "\n",
    "# случайный лес на увеличенной  выборке:\n",
    "model_forest_upsampled = RandomForestClassifier(random_state=12345, n_estimators = 100)\n",
    "model_forest_upsampled.fit(features_train_upsampled, target_train_upsampled)\n",
    "prediction_forest_upsampled = model_forest_upsampled.predict(features_valid_transform)\n",
    "\n",
    "probabilities_forest_upsampled = model_forest_upsampled.predict_proba(features_valid_transform)\n",
    "probabilities_forest_one_upsampled = probabilities_forest_upsampled[:, 1]\n",
    "\n",
    "#случайный лес на уменьшенной  выборке:\n",
    "\n",
    "model_forest_downsampled = RandomForestClassifier(random_state=12345, n_estimators = 100)\n",
    "model_forest_downsampled.fit(features_train_downsampled, target_train_downsampled)\n",
    "prediction_forest_downsampled = model_forest_downsampled.predict(features_valid_transform)\n",
    "\n",
    "probabilities_forest_downsampled = model_forest_downsampled.predict_proba(features_valid_transform)\n",
    "probabilities_forest_one_downsampled = probabilities_forest_downsampled[:, 1]\n",
    "\n",
    "display('Качество случайного леса на увеличенной выборке')\n",
    "rec_metrics(target_valid, prediction_forest_upsampled, probabilities_forest_one_upsampled)\n",
    "\n",
    "display('качество случайного леса на уменьшенной выборке')\n",
    "rec_metrics(target_valid, prediction_forest_downsampled,probabilities_forest_one_downsampled)\n"
   ]
  },
  {
   "cell_type": "markdown",
   "metadata": {},
   "source": [
    "<div class=\"alert alert-block alert-danger\">\n",
    "<h2> Комментарий ревьюера <a class=\"tocSkip\"></h2>\n",
    "\n",
    "    \n",
    "<b>На доработку🤔:</b>\n",
    "    \n",
    "На каждом этапе анализа (при любом методе борьбы с дисбалансом или при его отсутствии) должны быть исследованы все выбранные модели."
   ]
  },
  {
   "cell_type": "markdown",
   "metadata": {},
   "source": [
    "<br/>    \n",
    "<div class=\"alert alert-info\">\n",
    "<h2> Комментарий студента: <a class=\"tocSkip\"> </h2>\n",
    "Исследованы три модели на сбалансированной выборке, внесены изменения в вывод по разделу и в общий вывод.\n",
    "</div> \n",
    "<br/>    \n",
    "    "
   ]
  },
  {
   "cell_type": "markdown",
   "metadata": {},
   "source": [
    "<div class=\"alert alert-success\">\n",
    "<h2> Комментарий ревьюера №2<a class=\"tocSkip\"> </h2>\n",
    "\n",
    "<b>Все отлично!👍</b> \n",
    "    \n"
   ]
  },
  {
   "cell_type": "code",
   "execution_count": 32,
   "metadata": {},
   "outputs": [
    {
     "name": "stdout",
     "output_type": "stream",
     "text": [
      "Лучшая модель на валидационной выборке с помощью случайного леса с лучшим количеством деревьев = 120 и лучшей глубиной 14\n",
      "F1-мера = : 0.6233766233766234\n",
      "AUC-ROC 0.8567003058528483\n"
     ]
    }
   ],
   "source": [
    "#так как случайный лес показывает лучшие показатели метрики F1 на увеличенной выборке,\n",
    "#подберем лучшие гиперпараметры для увеличения метрики F1:\n",
    "\n",
    "forest_best_result = 0\n",
    "forest_best_depth = 0\n",
    "forest_best_est = 0\n",
    "\n",
    "for est in range (10,200, 10):\n",
    "    for depth in range (10,30,2):\n",
    "        model_forest = RandomForestClassifier(random_state=12345, n_estimators=est, max_depth=depth)\n",
    "        model_forest.fit(features_train_upsampled, target_train_upsampled)\n",
    "        predictions_forest_valid = model_forest.predict(features_valid_transform)\n",
    "        \n",
    "        probabilities_forest_best = model_forest.predict_proba(features_valid_transform)\n",
    "        probabilities_forest_one_best = probabilities_forest_best[:, 1]\n",
    "\n",
    "        result_forest = f1_score(target_valid, predictions_forest_valid)\n",
    "        \n",
    "        if result_forest > forest_best_result:\n",
    "            forest_best_result = result_forest\n",
    "            forest_best_depth = depth\n",
    "            forest_best_est = est\n",
    "        \n",
    "print('Лучшая модель на валидационной выборке с помощью случайного леса с лучшим количеством деревьев =', forest_best_est, 'и лучшей глубиной', forest_best_depth)\n",
    "print('F1-мера = :', forest_best_result) \n",
    "print(\"AUC-ROC\", roc_auc_score(target_valid, probabilities_forest_one_best))\n",
    "       \n",
    "\n",
    "\n"
   ]
  },
  {
   "cell_type": "markdown",
   "metadata": {},
   "source": [
    "<div class=\"alert alert-success\">\n",
    "<h2> Комментарий ревьюера <a class=\"tocSkip\"> </h2>\n",
    "\n",
    "<b>Все отлично!👍:</b> \n",
    "    \n",
    "    \n",
    "Молодец, что подбираешь гиперпараметры."
   ]
  },
  {
   "cell_type": "markdown",
   "metadata": {},
   "source": [
    "Выводы:\n",
    "Для борьбы с дисбалансом использованы техники увеличения и уменьшения тренировочной выборки. По результатам применения обеих техник получено практически равное соотношение объектов класса 0 и 1 (0.505947 к 0.494001). На  полученных сбалансированных выборках проведена проверка качества предсказаний ирех моделей. Лучшее значение меры F1 получено при использовании модели случайного леса на увеличенной сбалансированной выборке. Для улучшения показателей качества, полученных с помощью  модели случайного леса, проведен подбор оптимальных значений гиперпараметров 'глубина деревьев' и 'количество деревьев'. В результате  показатель F1-меры=0.623  и AUC-ROC= 0,856 получен при лучшей глубине 14  c количеством деревьев 120. \n"
   ]
  },
  {
   "cell_type": "markdown",
   "metadata": {},
   "source": [
    "## Тестирование модели"
   ]
  },
  {
   "cell_type": "code",
   "execution_count": 33,
   "metadata": {},
   "outputs": [
    {
     "name": "stdout",
     "output_type": "stream",
     "text": [
      "F1-мера 0.5919811320754718\n",
      "AUC-ROC 0.8510220544118849\n"
     ]
    }
   ],
   "source": [
    "# проверим модель, полученную на валидационной выборке с помощью случайного леса с лучшими гиперпараметрами на тестовой выборке:\n",
    "\n",
    "model_test = RandomForestClassifier(random_state=12345, n_estimators=120, max_depth=14)\n",
    "model_test.fit(features_train_upsampled, target_train_upsampled)\n",
    "prediction_test = model_test.predict(features_test_transform)\n",
    "\n",
    "probabilities_test = model_test.predict_proba(features_test_transform)\n",
    "probabilities_test_one = probabilities_test[:, 1]\n",
    "\n",
    "rec_metrics(target_test, prediction_test,probabilities_test_one )\n",
    "\n",
    "          \n"
   ]
  },
  {
   "cell_type": "markdown",
   "metadata": {},
   "source": [
    "Полученная F1-мера лучшей модели на тестовой выборке равна 0,592 и удовлетворяет требуемому значению. При этом метрика AUC-ROC  равна 0.85, что выше значения случайной модели."
   ]
  },
  {
   "cell_type": "markdown",
   "metadata": {},
   "source": [
    "<div class=\"alert alert-success\">\n",
    "<h2> Комментарий ревьюера <a class=\"tocSkip\"> </h2>\n",
    "\n",
    "<b>Все отлично!👍:</b> \n",
    "    \n",
    "А тестировать нужно только лучшую модель, это так."
   ]
  },
  {
   "cell_type": "markdown",
   "metadata": {},
   "source": [
    "## Вывод"
   ]
  },
  {
   "cell_type": "markdown",
   "metadata": {},
   "source": [
    "1. По результатам проверки качества исходных данных выполнено следующее:\n",
    "- названия столбцов приведены к нижнему регистру\n",
    "- названия столбцов приведены к  змеиному стилю\n",
    "- проведена проверка на пропуски. Пропуски обнаружены только в столбце tunure в количестве 909 (9% от общего числа выборки). В связи с тем, что доля пропусков значительная, удалять данные строки не следует, поэтому пропуски  заменены на медианное значение \n",
    "- проведена проверка на наличие явных дубликатов: явных дубликатов не выявлено\n",
    "- столбец geography  содержит всего три уникальных значения: France', 'Spain', 'Germany'\n",
    "- удалены 3 столбца-идентификаторов, не представляющих  ценность для дальнейшего анализа: row_number,customer_id, surname\n",
    "- проверка на мультиколлинеарность показала низкую корреляцию между независящими параметрами.\n",
    "\n",
    "Целевой признак exited (факт ухода клиента) принимает только два значения (0 и 1) и является категориальным признаком, таким образом, задача должна решаться методами классификации.\n",
    "\n",
    "2. В результате подготовки данных для машинного обучения выполнено следующее:\n",
    "- откорректированный набор исходных данных разбит на три отдельных выборки: тренировочную, валидационную и тестовую. Размер тренировочной выборки составил 6000 строк, валидационной и тестовой по 2000 строк.\n",
    "- к полученным выборкам применены 2 техники для обработки числовых и категориальных признаков. При помощи техники OneHotEncoder категориальные признаки 'geography', 'gender' преобразованы в численные значения. При помощи техники стандартизации данных  StandardScaler численные признаки приведены к одному масштабу.\n",
    "- чтобы избежать дамми-ловушки, удалены 2 столбца при обработки категориальных значений ('France' и 'Female')\n",
    "\n",
    "3. В ходе исследования задачи выполнено следующее:\n",
    "- построены модели с помощью алгоритмов решающего дерева, случайного леса и логистической регрессии без учета дисбаланса. Самое высокое значение метрики accuracy показала модель случайного леса (0,86).\n",
    "- построена константная модель, которая любому объекту прогнозирует класс «0» (так как это значение встречается 80% случаев).\n",
    "Значение метрики accuracy полученное только с помощью модели случайного леса (0.86) несколько превышает значение accuracy константной модели (0.80). Однако ввиду того, что в выборках наблюдается значительный дисбаланс классов, метрика accuracy (доля правильных ответов) не подходит и нужно проверить качество моделей, используя другие метрики.\n",
    "- для наглядного представления результатов вычислений метрик точности и полноты построены матрицы ошибок для каждой модели. Установлено, что все модели склонны выдавать больше негативные предсказания, количество ложных негативных предсказаний (FN) превышает количество ложных позитивных (FP).\n",
    "- Для каждой модели рассчитаны  F1-мера и AUC-ROC.\n",
    "В модели решающего дерева: метрика F1 = 0,48 и AUC-ROC =0.67 и свидетельствует  о невысоком качестве модели.\n",
    "В модели случайного леса: метрика F1 = 0,59 и AUC-ROC =0.86 несколько выше, чем у модели решающего дерева, но также далеко от единицы, поэтому качество модели также низкое.\n",
    "В модели логистической регрессии: метрика F1 =0,14 и UC-ROC =0.77 - качество модели еще ниже, чем в предыдущих моделях. \n",
    "Таким образом, полученные оценки качества моделей на несбалансированных данных показывают неудовлетворительные результаты.\n",
    "\n",
    "\n",
    "4. Для борьбы с дисбалансом использованы техники увеличения и уменьшения тренировочной выборки. По результатам применения обеих техник получено практически равное соотношение объектов класса 0 и 1 (0.505947 к 0.494001). На  полученных сбалансированных выборках проведена проверка качества предсказаний трех моделей. Лучшее значение меры F1 получено при использовании модели случайного леса на увеличенной сбалансированной выборке. Для улучшения показателей качества, полученных с помощью  модели случайного леса, проведен подбор оптимальных значений гиперпараметров 'глубина деревьев' и 'количество деревьев'. В результате  показатель F1-меры=0.623  и AUC-ROC= 0,856 получен при лучшей глубине 14  c количеством деревьев 120. \n",
    "\n",
    "5. По результатам тестирования лучшей модели на тестовой выборке удалось достигнуть значение метрики F1 0.592, что удовлетворяет уловию решения задачи, при этом AUC-ROC равно 0.85, что выше значения случайной модели.\n"
   ]
  },
  {
   "cell_type": "markdown",
   "metadata": {},
   "source": [
    "<div class=\"alert alert-success\">\n",
    "<h2> Комментарий ревьюера <a class=\"tocSkip\"> </h2>\n",
    "\n",
    "<b>Все отлично!👍:</b> \n",
    "    \n",
    "Какой подробный резюмирующий вывод. Молодец."
   ]
  },
  {
   "cell_type": "markdown",
   "metadata": {},
   "source": [
    "<div class=\"alert alert-warning\">\n",
    "    <h2> Комментарий ревьюера <a class=\"tocSkip\"> </h2>\n",
    "    \n",
    "<b>Некоторые замечания и рекомендации💡:</b> \n",
    "\n",
    "Здесь я оставлю некоторые интересные ссылки и материалы по теме:\n",
    "        \n",
    "1. \"Metrics and scoring: quantifying the quality of predictions\"\n",
    "        \n",
    "https://scikit-learn.org/stable/modules/model_evaluation.html\n",
    "        \n",
    "2. \"When to use One Hot Encoding vs LabelEncoder vs DictVectorizor?\"\n",
    "        \n",
    "https://datascience.stackexchange.com/questions/9443/when-to-use-one-hot-encoding-vs-labelencoder-vs-dictvectorizor\n",
    "        \n",
    "3. \"Как делать кросс-валидацию при апсемплинге данных\"\n",
    "        \n",
    "https://datascience.xyz/practice/kak-delat-kross-validaciju-pri-apsemplinge-dannyh.html\n",
    "        \n",
    "4. \"Масштабирование, стандартизация или нормализация с помощью Scikit-Learn\"\n",
    "        \n",
    "https://datascience.xyz/theory/masshtabirovanie-standartizaciya-ili-normalizaciya-s-pomoshhju-scikit-learn.html\n",
    "        \n",
    "5. \"Ordinal and One-Hot Encodings for Categorical Data\"\n",
    "        \n",
    "https://machinelearningmastery.com/one-hot-encoding-for-categorical-data/\n",
    "        "
   ]
  },
  {
   "cell_type": "markdown",
   "metadata": {},
   "source": [
    "<div style=\"border:solid Chocolate 2px; padding: 40px\">\n",
    "    \n",
    "<b>Общий вывод по проекту</b>\n",
    "\n",
    "Анастасия, благодарю тебя за работу! \n",
    "    Проект отличный, аккуратный, продуманный. Есть места в проекте, которые требуют твоего внимания.\n",
    "\n",
    "**Положительные моменты проекта, которые хочу еще раз подчеркнуть**:\n",
    "\n",
    "    1. Выдержана структура проекта,\n",
    "    2. Проведена предварительная работа с данными\n",
    "    3. Метрика F1 score показывает хороший результат\n",
    "    4. Использовано 2 метода работы с несбалансированными данными\n",
    "    5. Есть анализ работы моделей без учета дисбаланса\n",
    "    6. Есть промежуточные и итоговый выводы\n",
    "    7. Аккуратность кода на высоком уровне\n",
    "   \n",
    "\n",
    "**Замечания, на которые стоит обратить внимание при будущей работе**:\n",
    "    \n",
    "    1. Стоит провести для всех исследуемых моделей этапы работы с дисбалансом.\n",
    "    \n",
    "Остальные комментарии ты найдешь выше.\n",
    "    \n",
    "**Желаю удачи и жду твой проект на повторное ревью!**"
   ]
  },
  {
   "cell_type": "markdown",
   "metadata": {},
   "source": [
    "<br/>    \n",
    "<div class=\"alert alert-info\">\n",
    "<h2> Комментарий студента: <a class=\"tocSkip\"> </h2>\n",
    "Ксения, спасибо за рекомендации и полезные ссылки. Уверена, что этот материал будет полезен при выподнении последующих проектов.\n",
    "</div> \n",
    "<br/>  "
   ]
  },
  {
   "cell_type": "markdown",
   "metadata": {},
   "source": [
    "<div style=\"border:solid Chocolate 2px; padding: 40px\">\n",
    "    \n",
    "<b>Общий вывод по проекту №2</b>\n",
    "\n",
    "Анастасия, благодарю тебя за работу!\n",
    "    \n",
    "**Все хорошо, проект принимаю и желаю успехов в дальнейшей учебе!**"
   ]
  },
  {
   "cell_type": "markdown",
   "metadata": {},
   "source": [
    "## Чек-лист готовности проекта"
   ]
  },
  {
   "cell_type": "markdown",
   "metadata": {},
   "source": [
    "Поставьте 'x' в выполненных пунктах. Далее нажмите Shift+Enter."
   ]
  },
  {
   "cell_type": "markdown",
   "metadata": {},
   "source": [
    "- [x]  Jupyter Notebook открыт\n",
    "- [x]  Весь код выполняется без ошибок\n",
    "- [x]  Ячейки с кодом расположены в порядке исполнения\n",
    "- [x]  Выполнен шаг 1: данные подготовлены\n",
    "- [x]  Выполнен шаг 2: задача исследована\n",
    "    - [x]  Исследован баланс классов\n",
    "    - [x]  Изучены модели без учёта дисбаланса\n",
    "    - [x]  Написаны выводы по результатам исследования\n",
    "- [x]  Выполнен шаг 3: учтён дисбаланс\n",
    "    - [x]  Применено несколько способов борьбы с дисбалансом\n",
    "    - [x]  Написаны выводы по результатам исследования\n",
    "- [x]  Выполнен шаг 4: проведено тестирование\n",
    "- [x]  Удалось достичь *F1*-меры не менее 0.59\n",
    "- [x]  Исследована метрика *AUC-ROC*"
   ]
  }
 ],
 "metadata": {
  "ExecuteTimeLog": [
   {
    "duration": 1039,
    "start_time": "2022-12-19T02:00:54.135Z"
   },
   {
    "duration": 180,
    "start_time": "2022-12-19T02:00:55.844Z"
   },
   {
    "duration": 56,
    "start_time": "2022-12-19T02:01:16.033Z"
   },
   {
    "duration": 15,
    "start_time": "2022-12-19T02:04:38.044Z"
   },
   {
    "duration": 47,
    "start_time": "2022-12-19T02:27:52.325Z"
   },
   {
    "duration": 52,
    "start_time": "2022-12-19T02:28:00.755Z"
   },
   {
    "duration": 11,
    "start_time": "2022-12-19T02:28:07.234Z"
   },
   {
    "duration": 7,
    "start_time": "2022-12-19T02:28:36.604Z"
   },
   {
    "duration": 8,
    "start_time": "2022-12-19T02:35:20.946Z"
   },
   {
    "duration": 4,
    "start_time": "2022-12-19T02:35:31.894Z"
   },
   {
    "duration": 5,
    "start_time": "2022-12-19T02:39:26.344Z"
   },
   {
    "duration": 49,
    "start_time": "2022-12-19T02:54:59.334Z"
   },
   {
    "duration": 2,
    "start_time": "2022-12-19T02:55:03.864Z"
   },
   {
    "duration": 12,
    "start_time": "2022-12-19T02:55:08.164Z"
   },
   {
    "duration": 4,
    "start_time": "2022-12-19T03:21:40.175Z"
   },
   {
    "duration": 13,
    "start_time": "2022-12-19T03:21:44.772Z"
   },
   {
    "duration": 6,
    "start_time": "2022-12-19T03:21:55.383Z"
   },
   {
    "duration": 11,
    "start_time": "2022-12-19T03:21:56.994Z"
   },
   {
    "duration": 8,
    "start_time": "2022-12-19T03:22:18.257Z"
   },
   {
    "duration": 2,
    "start_time": "2022-12-19T03:22:43.934Z"
   },
   {
    "duration": 717,
    "start_time": "2022-12-19T03:25:44.354Z"
   },
   {
    "duration": 4,
    "start_time": "2022-12-19T03:26:14.773Z"
   },
   {
    "duration": 13,
    "start_time": "2022-12-19T03:26:49.724Z"
   },
   {
    "duration": 26,
    "start_time": "2022-12-19T03:29:25.343Z"
   },
   {
    "duration": 8,
    "start_time": "2022-12-19T03:31:34.324Z"
   },
   {
    "duration": 438,
    "start_time": "2022-12-19T03:32:01.133Z"
   },
   {
    "duration": 54682,
    "start_time": "2022-12-19T03:32:06.973Z"
   },
   {
    "duration": 9,
    "start_time": "2022-12-19T03:47:59.072Z"
   },
   {
    "duration": 10,
    "start_time": "2022-12-19T03:49:38.264Z"
   },
   {
    "duration": 11,
    "start_time": "2022-12-19T03:49:53.844Z"
   },
   {
    "duration": 10,
    "start_time": "2022-12-19T03:55:35.844Z"
   },
   {
    "duration": 7,
    "start_time": "2022-12-19T03:55:38.382Z"
   },
   {
    "duration": 7,
    "start_time": "2022-12-19T03:56:04.524Z"
   },
   {
    "duration": 7,
    "start_time": "2022-12-19T03:56:29.864Z"
   },
   {
    "duration": 11,
    "start_time": "2022-12-19T03:58:16.305Z"
   },
   {
    "duration": 7,
    "start_time": "2022-12-19T03:58:19.204Z"
   },
   {
    "duration": 1557,
    "start_time": "2022-12-19T06:42:32.995Z"
   },
   {
    "duration": 197,
    "start_time": "2022-12-19T06:42:35.308Z"
   },
   {
    "duration": 6,
    "start_time": "2022-12-19T06:42:44.717Z"
   },
   {
    "duration": 18,
    "start_time": "2022-12-19T06:42:48.307Z"
   },
   {
    "duration": 10,
    "start_time": "2022-12-19T06:42:52.472Z"
   },
   {
    "duration": 14,
    "start_time": "2022-12-19T06:43:03.117Z"
   },
   {
    "duration": 27,
    "start_time": "2022-12-19T06:54:30.136Z"
   },
   {
    "duration": 10,
    "start_time": "2022-12-19T06:57:27.946Z"
   },
   {
    "duration": 8,
    "start_time": "2022-12-19T06:57:36.447Z"
   },
   {
    "duration": 105,
    "start_time": "2022-12-19T07:02:10.606Z"
   },
   {
    "duration": 4,
    "start_time": "2022-12-19T07:02:39.986Z"
   },
   {
    "duration": 14,
    "start_time": "2022-12-19T07:02:54.856Z"
   },
   {
    "duration": 6,
    "start_time": "2022-12-19T07:03:35.015Z"
   },
   {
    "duration": 6,
    "start_time": "2022-12-19T07:03:46.356Z"
   },
   {
    "duration": 16,
    "start_time": "2022-12-19T07:03:58.776Z"
   },
   {
    "duration": 9,
    "start_time": "2022-12-19T07:04:43.705Z"
   },
   {
    "duration": 7,
    "start_time": "2022-12-19T07:04:58.396Z"
   },
   {
    "duration": 1277,
    "start_time": "2022-12-19T07:11:10.767Z"
   },
   {
    "duration": 5,
    "start_time": "2022-12-19T07:11:16.758Z"
   },
   {
    "duration": 15,
    "start_time": "2022-12-19T07:11:50.618Z"
   },
   {
    "duration": 28,
    "start_time": "2022-12-19T07:11:55.358Z"
   },
   {
    "duration": 22,
    "start_time": "2022-12-19T07:16:14.008Z"
   },
   {
    "duration": 10,
    "start_time": "2022-12-19T07:16:23.449Z"
   },
   {
    "duration": 7,
    "start_time": "2022-12-19T07:16:38.398Z"
   },
   {
    "duration": 11,
    "start_time": "2022-12-19T07:18:23.758Z"
   },
   {
    "duration": 19,
    "start_time": "2022-12-19T07:21:55.267Z"
   },
   {
    "duration": 28,
    "start_time": "2022-12-19T07:22:20.608Z"
   },
   {
    "duration": 29,
    "start_time": "2022-12-19T07:23:49.488Z"
   },
   {
    "duration": 43,
    "start_time": "2022-12-19T07:23:58.710Z"
   },
   {
    "duration": 22,
    "start_time": "2022-12-19T07:24:07.368Z"
   },
   {
    "duration": 13,
    "start_time": "2022-12-19T07:24:40.398Z"
   },
   {
    "duration": 17,
    "start_time": "2022-12-19T07:25:06.040Z"
   },
   {
    "duration": 7,
    "start_time": "2022-12-19T07:25:17.049Z"
   },
   {
    "duration": 76,
    "start_time": "2022-12-19T07:31:24.766Z"
   },
   {
    "duration": 3,
    "start_time": "2022-12-19T07:31:36.988Z"
   },
   {
    "duration": 14,
    "start_time": "2022-12-19T08:59:35.009Z"
   },
   {
    "duration": 26,
    "start_time": "2022-12-19T09:00:37.519Z"
   },
   {
    "duration": 23,
    "start_time": "2022-12-19T09:01:02.042Z"
   },
   {
    "duration": 15,
    "start_time": "2022-12-19T09:01:18.991Z"
   },
   {
    "duration": 23,
    "start_time": "2022-12-19T09:09:00.642Z"
   },
   {
    "duration": 10,
    "start_time": "2022-12-19T09:11:42.630Z"
   },
   {
    "duration": 17,
    "start_time": "2022-12-19T09:11:57.220Z"
   },
   {
    "duration": 21,
    "start_time": "2022-12-19T09:12:25.224Z"
   },
   {
    "duration": 25,
    "start_time": "2022-12-19T09:13:00.180Z"
   },
   {
    "duration": 19,
    "start_time": "2022-12-19T09:13:12.320Z"
   },
   {
    "duration": 25,
    "start_time": "2022-12-19T09:13:18.950Z"
   },
   {
    "duration": 45,
    "start_time": "2022-12-19T09:33:55.433Z"
   },
   {
    "duration": 5,
    "start_time": "2022-12-19T09:36:51.662Z"
   },
   {
    "duration": 120,
    "start_time": "2022-12-19T09:37:13.922Z"
   },
   {
    "duration": 38,
    "start_time": "2022-12-19T09:41:00.424Z"
   },
   {
    "duration": 7,
    "start_time": "2022-12-19T09:43:11.005Z"
   },
   {
    "duration": 136,
    "start_time": "2022-12-19T09:45:14.905Z"
   },
   {
    "duration": 16,
    "start_time": "2022-12-19T10:10:09.045Z"
   },
   {
    "duration": 11,
    "start_time": "2022-12-19T10:11:57.924Z"
   },
   {
    "duration": 12,
    "start_time": "2022-12-19T10:12:41.914Z"
   },
   {
    "duration": 4,
    "start_time": "2022-12-19T10:16:02.674Z"
   },
   {
    "duration": 39,
    "start_time": "2022-12-19T10:16:09.874Z"
   },
   {
    "duration": 4,
    "start_time": "2022-12-19T10:22:26.355Z"
   },
   {
    "duration": 48,
    "start_time": "2022-12-19T10:22:32.725Z"
   },
   {
    "duration": 9,
    "start_time": "2022-12-19T10:27:31.495Z"
   },
   {
    "duration": 137,
    "start_time": "2022-12-19T10:35:29.356Z"
   },
   {
    "duration": 111,
    "start_time": "2022-12-19T10:36:22.243Z"
   },
   {
    "duration": 5,
    "start_time": "2022-12-19T10:50:30.610Z"
   },
   {
    "duration": 864,
    "start_time": "2022-12-19T10:50:59.257Z"
   },
   {
    "duration": 5,
    "start_time": "2022-12-19T10:52:34.166Z"
   },
   {
    "duration": 4,
    "start_time": "2022-12-19T10:52:39.816Z"
   },
   {
    "duration": 750,
    "start_time": "2022-12-19T10:52:41.564Z"
   },
   {
    "duration": 75,
    "start_time": "2022-12-19T10:53:27.106Z"
   },
   {
    "duration": 5,
    "start_time": "2022-12-19T10:53:45.356Z"
   },
   {
    "duration": 5,
    "start_time": "2022-12-19T10:54:05.096Z"
   },
   {
    "duration": 5,
    "start_time": "2022-12-19T10:54:16.617Z"
   },
   {
    "duration": 739,
    "start_time": "2022-12-19T10:54:18.075Z"
   },
   {
    "duration": 5,
    "start_time": "2022-12-19T10:54:28.007Z"
   },
   {
    "duration": 5,
    "start_time": "2022-12-19T10:58:39.402Z"
   },
   {
    "duration": 806,
    "start_time": "2022-12-19T10:58:42.816Z"
   },
   {
    "duration": 5,
    "start_time": "2022-12-19T10:59:05.479Z"
   },
   {
    "duration": 5,
    "start_time": "2022-12-19T10:59:09.499Z"
   },
   {
    "duration": 713,
    "start_time": "2022-12-19T10:59:11.346Z"
   },
   {
    "duration": 83,
    "start_time": "2022-12-19T10:59:57.836Z"
   },
   {
    "duration": 5,
    "start_time": "2022-12-19T11:00:04.077Z"
   },
   {
    "duration": 797,
    "start_time": "2022-12-19T11:00:06.516Z"
   },
   {
    "duration": 5,
    "start_time": "2022-12-19T11:02:35.586Z"
   },
   {
    "duration": 927,
    "start_time": "2022-12-19T11:02:37.946Z"
   },
   {
    "duration": 5,
    "start_time": "2022-12-19T11:02:57.602Z"
   },
   {
    "duration": 717,
    "start_time": "2022-12-19T11:02:59.516Z"
   },
   {
    "duration": 8,
    "start_time": "2022-12-19T11:05:49.817Z"
   },
   {
    "duration": 4,
    "start_time": "2022-12-19T11:25:31.208Z"
   },
   {
    "duration": 740,
    "start_time": "2022-12-19T11:25:56.788Z"
   },
   {
    "duration": 6,
    "start_time": "2022-12-19T11:32:02.309Z"
   },
   {
    "duration": 875,
    "start_time": "2022-12-19T11:32:04.649Z"
   },
   {
    "duration": 1511,
    "start_time": "2022-12-19T18:54:05.498Z"
   },
   {
    "duration": 94,
    "start_time": "2022-12-19T18:54:08.007Z"
   },
   {
    "duration": 4,
    "start_time": "2022-12-19T18:54:14.313Z"
   },
   {
    "duration": 13,
    "start_time": "2022-12-19T18:54:17.546Z"
   },
   {
    "duration": 8,
    "start_time": "2022-12-19T18:54:22.005Z"
   },
   {
    "duration": 15,
    "start_time": "2022-12-19T18:54:26.326Z"
   },
   {
    "duration": 5,
    "start_time": "2022-12-19T18:54:31.687Z"
   },
   {
    "duration": 15,
    "start_time": "2022-12-19T18:54:41.420Z"
   },
   {
    "duration": 32,
    "start_time": "2022-12-19T18:54:45.904Z"
   },
   {
    "duration": 11,
    "start_time": "2022-12-19T18:54:51.698Z"
   },
   {
    "duration": 22,
    "start_time": "2022-12-19T18:54:56.888Z"
   },
   {
    "duration": 16,
    "start_time": "2022-12-19T18:55:02.548Z"
   },
   {
    "duration": 7,
    "start_time": "2022-12-19T18:55:16.996Z"
   },
   {
    "duration": 31,
    "start_time": "2022-12-19T18:55:59.187Z"
   },
   {
    "duration": 19,
    "start_time": "2022-12-19T18:56:08.357Z"
   },
   {
    "duration": 18,
    "start_time": "2022-12-19T18:56:12.094Z"
   },
   {
    "duration": 3,
    "start_time": "2022-12-19T18:57:22.567Z"
   },
   {
    "duration": 714,
    "start_time": "2022-12-19T18:57:26.697Z"
   },
   {
    "duration": 115,
    "start_time": "2022-12-19T18:58:11.166Z"
   },
   {
    "duration": 133,
    "start_time": "2022-12-19T18:58:18.540Z"
   },
   {
    "duration": 6,
    "start_time": "2022-12-19T18:59:00.856Z"
   },
   {
    "duration": 772,
    "start_time": "2022-12-19T18:59:05.328Z"
   },
   {
    "duration": 7,
    "start_time": "2022-12-19T18:59:47.716Z"
   },
   {
    "duration": 5,
    "start_time": "2022-12-19T19:29:10.682Z"
   },
   {
    "duration": 772,
    "start_time": "2022-12-19T19:29:12.225Z"
   },
   {
    "duration": 5,
    "start_time": "2022-12-19T19:29:41.163Z"
   },
   {
    "duration": 43,
    "start_time": "2022-12-19T19:39:41.732Z"
   },
   {
    "duration": 6,
    "start_time": "2022-12-19T19:40:02.533Z"
   },
   {
    "duration": 723,
    "start_time": "2022-12-19T19:42:40.818Z"
   },
   {
    "duration": 5,
    "start_time": "2022-12-19T19:45:19.558Z"
   },
   {
    "duration": 4,
    "start_time": "2022-12-19T19:48:13.314Z"
   },
   {
    "duration": 761,
    "start_time": "2022-12-19T19:48:19.880Z"
   },
   {
    "duration": 7,
    "start_time": "2022-12-19T19:54:05.494Z"
   },
   {
    "duration": 163,
    "start_time": "2022-12-19T19:54:10.980Z"
   },
   {
    "duration": 6,
    "start_time": "2022-12-19T19:55:33.873Z"
   },
   {
    "duration": 54,
    "start_time": "2022-12-19T19:55:36.024Z"
   },
   {
    "duration": 50,
    "start_time": "2022-12-19T19:55:50.208Z"
   },
   {
    "duration": 60,
    "start_time": "2022-12-19T19:55:55.858Z"
   },
   {
    "duration": 38,
    "start_time": "2022-12-19T19:57:38.783Z"
   },
   {
    "duration": 831,
    "start_time": "2022-12-19T19:59:08.219Z"
   },
   {
    "duration": 920,
    "start_time": "2022-12-19T20:00:39.878Z"
   },
   {
    "duration": 5,
    "start_time": "2022-12-19T20:01:45.457Z"
   },
   {
    "duration": 775,
    "start_time": "2022-12-19T20:01:48.022Z"
   },
   {
    "duration": 7,
    "start_time": "2022-12-19T20:03:14.814Z"
   },
   {
    "duration": 9,
    "start_time": "2022-12-19T20:06:08.631Z"
   },
   {
    "duration": 848,
    "start_time": "2022-12-19T20:06:11.278Z"
   },
   {
    "duration": 7,
    "start_time": "2022-12-19T20:06:47.953Z"
   },
   {
    "duration": 1074,
    "start_time": "2022-12-19T20:06:48.443Z"
   },
   {
    "duration": 6,
    "start_time": "2022-12-19T20:07:56.472Z"
   },
   {
    "duration": 39,
    "start_time": "2022-12-19T20:37:30.255Z"
   },
   {
    "duration": 4,
    "start_time": "2022-12-19T21:25:13.729Z"
   },
   {
    "duration": 11,
    "start_time": "2022-12-19T21:26:53.326Z"
   },
   {
    "duration": 53,
    "start_time": "2022-12-19T21:46:29.388Z"
   },
   {
    "duration": 3,
    "start_time": "2022-12-19T21:46:34.550Z"
   },
   {
    "duration": 9,
    "start_time": "2022-12-19T21:46:41.350Z"
   },
   {
    "duration": 734,
    "start_time": "2022-12-19T21:49:41.860Z"
   },
   {
    "duration": 10,
    "start_time": "2022-12-19T21:51:34.279Z"
   },
   {
    "duration": 65,
    "start_time": "2022-12-19T21:58:27.723Z"
   },
   {
    "duration": 42,
    "start_time": "2022-12-19T22:01:25.375Z"
   },
   {
    "duration": 27,
    "start_time": "2022-12-19T22:01:44.231Z"
   },
   {
    "duration": 34,
    "start_time": "2022-12-19T22:01:51.015Z"
   },
   {
    "duration": 9,
    "start_time": "2022-12-19T22:04:06.886Z"
   },
   {
    "duration": 1419,
    "start_time": "2022-12-19T23:30:07.485Z"
   },
   {
    "duration": 95,
    "start_time": "2022-12-19T23:30:11.255Z"
   },
   {
    "duration": 5,
    "start_time": "2022-12-19T23:30:21.564Z"
   },
   {
    "duration": 12,
    "start_time": "2022-12-19T23:30:24.165Z"
   },
   {
    "duration": 7,
    "start_time": "2022-12-19T23:30:28.357Z"
   },
   {
    "duration": 14,
    "start_time": "2022-12-19T23:30:31.375Z"
   },
   {
    "duration": 13,
    "start_time": "2022-12-19T23:30:48.414Z"
   },
   {
    "duration": 5,
    "start_time": "2022-12-19T23:30:57.365Z"
   },
   {
    "duration": 15,
    "start_time": "2022-12-19T23:31:02.514Z"
   },
   {
    "duration": 1245,
    "start_time": "2022-12-19T23:31:32.274Z"
   },
   {
    "duration": 53,
    "start_time": "2022-12-19T23:31:33.521Z"
   },
   {
    "duration": 5,
    "start_time": "2022-12-19T23:31:33.575Z"
   },
   {
    "duration": 15,
    "start_time": "2022-12-19T23:31:33.582Z"
   },
   {
    "duration": 7,
    "start_time": "2022-12-19T23:31:33.599Z"
   },
   {
    "duration": 12,
    "start_time": "2022-12-19T23:31:33.607Z"
   },
   {
    "duration": 4,
    "start_time": "2022-12-19T23:31:33.621Z"
   },
   {
    "duration": 15,
    "start_time": "2022-12-19T23:31:33.626Z"
   },
   {
    "duration": 20,
    "start_time": "2022-12-19T23:31:33.643Z"
   },
   {
    "duration": 7,
    "start_time": "2022-12-19T23:31:33.664Z"
   },
   {
    "duration": 42,
    "start_time": "2022-12-19T23:31:33.673Z"
   },
   {
    "duration": 7,
    "start_time": "2022-12-19T23:31:33.717Z"
   },
   {
    "duration": 23,
    "start_time": "2022-12-19T23:31:33.725Z"
   },
   {
    "duration": 16,
    "start_time": "2022-12-19T23:31:33.750Z"
   },
   {
    "duration": 19,
    "start_time": "2022-12-19T23:31:33.768Z"
   },
   {
    "duration": 4,
    "start_time": "2022-12-19T23:31:33.788Z"
   },
   {
    "duration": 704,
    "start_time": "2022-12-19T23:31:33.816Z"
   },
   {
    "duration": 209,
    "start_time": "2022-12-19T23:31:34.523Z"
   },
   {
    "duration": 109,
    "start_time": "2022-12-19T23:31:34.734Z"
   },
   {
    "duration": 5,
    "start_time": "2022-12-19T23:31:34.844Z"
   },
   {
    "duration": 680,
    "start_time": "2022-12-19T23:31:34.850Z"
   },
   {
    "duration": 7,
    "start_time": "2022-12-19T23:31:35.617Z"
   },
   {
    "duration": 141,
    "start_time": "2022-12-19T23:31:35.626Z"
   },
   {
    "duration": 3,
    "start_time": "2022-12-19T23:31:35.768Z"
   },
   {
    "duration": 26,
    "start_time": "2022-12-19T23:31:35.773Z"
   },
   {
    "duration": 658,
    "start_time": "2022-12-19T23:31:35.800Z"
   },
   {
    "duration": 8,
    "start_time": "2022-12-19T23:31:36.459Z"
   },
   {
    "duration": 61,
    "start_time": "2022-12-19T23:31:36.468Z"
   },
   {
    "duration": 8,
    "start_time": "2022-12-19T23:31:36.616Z"
   },
   {
    "duration": 4,
    "start_time": "2022-12-19T23:33:58.395Z"
   },
   {
    "duration": 667,
    "start_time": "2022-12-19T23:34:04.664Z"
   },
   {
    "duration": 5,
    "start_time": "2022-12-19T23:36:08.314Z"
   },
   {
    "duration": 763,
    "start_time": "2022-12-19T23:36:11.455Z"
   },
   {
    "duration": 5,
    "start_time": "2022-12-19T23:37:11.385Z"
   },
   {
    "duration": 770,
    "start_time": "2022-12-19T23:37:13.755Z"
   },
   {
    "duration": 5,
    "start_time": "2022-12-19T23:37:33.675Z"
   },
   {
    "duration": 897,
    "start_time": "2022-12-19T23:37:37.923Z"
   },
   {
    "duration": 4,
    "start_time": "2022-12-19T23:38:14.816Z"
   },
   {
    "duration": 871,
    "start_time": "2022-12-19T23:38:20.246Z"
   },
   {
    "duration": 51,
    "start_time": "2022-12-19T23:38:42.736Z"
   },
   {
    "duration": 4,
    "start_time": "2022-12-19T23:38:58.295Z"
   },
   {
    "duration": 809,
    "start_time": "2022-12-19T23:39:00.307Z"
   },
   {
    "duration": 680,
    "start_time": "2022-12-19T23:48:39.647Z"
   },
   {
    "duration": 1719,
    "start_time": "2022-12-20T19:38:26.198Z"
   },
   {
    "duration": 80,
    "start_time": "2022-12-20T19:55:59.289Z"
   },
   {
    "duration": 4,
    "start_time": "2022-12-20T19:56:08.068Z"
   },
   {
    "duration": 118,
    "start_time": "2022-12-20T19:57:10.440Z"
   },
   {
    "duration": 1499,
    "start_time": "2022-12-20T19:57:36.007Z"
   },
   {
    "duration": 185,
    "start_time": "2022-12-20T19:57:37.508Z"
   },
   {
    "duration": 5,
    "start_time": "2022-12-20T19:57:37.695Z"
   },
   {
    "duration": 38,
    "start_time": "2022-12-20T19:57:37.702Z"
   },
   {
    "duration": 9,
    "start_time": "2022-12-20T19:57:37.742Z"
   },
   {
    "duration": 15,
    "start_time": "2022-12-20T19:57:37.752Z"
   },
   {
    "duration": 5,
    "start_time": "2022-12-20T19:57:37.769Z"
   },
   {
    "duration": 16,
    "start_time": "2022-12-20T19:57:37.776Z"
   },
   {
    "duration": 65,
    "start_time": "2022-12-20T19:57:37.793Z"
   },
   {
    "duration": 13,
    "start_time": "2022-12-20T19:57:37.860Z"
   },
   {
    "duration": 36,
    "start_time": "2022-12-20T19:57:37.875Z"
   },
   {
    "duration": 9,
    "start_time": "2022-12-20T19:57:37.913Z"
   },
   {
    "duration": 31,
    "start_time": "2022-12-20T19:57:37.936Z"
   },
   {
    "duration": 21,
    "start_time": "2022-12-20T19:57:37.970Z"
   },
   {
    "duration": 46,
    "start_time": "2022-12-20T19:57:37.993Z"
   },
   {
    "duration": 5,
    "start_time": "2022-12-20T19:57:38.041Z"
   },
   {
    "duration": 866,
    "start_time": "2022-12-20T19:57:38.047Z"
   },
   {
    "duration": 254,
    "start_time": "2022-12-20T19:57:38.944Z"
   },
   {
    "duration": 147,
    "start_time": "2022-12-20T19:57:39.200Z"
   },
   {
    "duration": 4,
    "start_time": "2022-12-20T19:57:39.349Z"
   },
   {
    "duration": 992,
    "start_time": "2022-12-20T19:57:39.355Z"
   },
   {
    "duration": 5,
    "start_time": "2022-12-20T19:57:40.349Z"
   },
   {
    "duration": 82,
    "start_time": "2022-12-20T19:57:40.356Z"
   },
   {
    "duration": 3,
    "start_time": "2022-12-20T19:57:40.441Z"
   },
   {
    "duration": 29,
    "start_time": "2022-12-20T19:57:40.446Z"
   },
   {
    "duration": 786,
    "start_time": "2022-12-20T19:57:40.477Z"
   },
   {
    "duration": 9,
    "start_time": "2022-12-20T19:57:41.265Z"
   },
   {
    "duration": 65,
    "start_time": "2022-12-20T19:57:41.276Z"
   },
   {
    "duration": 97,
    "start_time": "2022-12-20T19:57:41.343Z"
   },
   {
    "duration": 16,
    "start_time": "2022-12-20T19:57:41.442Z"
   },
   {
    "duration": 138,
    "start_time": "2022-12-20T19:57:41.460Z"
   },
   {
    "duration": 5,
    "start_time": "2022-12-20T19:58:11.954Z"
   },
   {
    "duration": 21,
    "start_time": "2022-12-20T19:58:17.306Z"
   },
   {
    "duration": 77,
    "start_time": "2022-12-20T19:58:40.067Z"
   },
   {
    "duration": 66,
    "start_time": "2022-12-20T19:58:46.137Z"
   },
   {
    "duration": 4,
    "start_time": "2022-12-20T19:58:52.486Z"
   },
   {
    "duration": 22,
    "start_time": "2022-12-20T19:58:59.766Z"
   },
   {
    "duration": 6,
    "start_time": "2022-12-20T20:00:29.463Z"
   },
   {
    "duration": 18,
    "start_time": "2022-12-20T20:00:32.695Z"
   },
   {
    "duration": 4,
    "start_time": "2022-12-20T20:01:31.427Z"
   },
   {
    "duration": 21,
    "start_time": "2022-12-20T20:01:32.677Z"
   },
   {
    "duration": 4,
    "start_time": "2022-12-20T20:03:06.567Z"
   },
   {
    "duration": 14,
    "start_time": "2022-12-20T20:03:08.396Z"
   },
   {
    "duration": 23,
    "start_time": "2022-12-20T20:05:29.306Z"
   },
   {
    "duration": 15,
    "start_time": "2022-12-20T20:05:55.506Z"
   },
   {
    "duration": 12,
    "start_time": "2022-12-20T20:06:07.507Z"
   },
   {
    "duration": 14,
    "start_time": "2022-12-20T20:06:14.146Z"
   },
   {
    "duration": 109,
    "start_time": "2022-12-20T20:07:48.446Z"
   },
   {
    "duration": 10,
    "start_time": "2022-12-20T20:10:10.366Z"
   },
   {
    "duration": 111,
    "start_time": "2022-12-20T20:11:00.066Z"
   },
   {
    "duration": 1637,
    "start_time": "2022-12-20T20:12:03.102Z"
   },
   {
    "duration": 1648,
    "start_time": "2022-12-22T05:06:12.123Z"
   },
   {
    "duration": 109,
    "start_time": "2022-12-22T05:06:13.774Z"
   },
   {
    "duration": 5,
    "start_time": "2022-12-22T05:06:13.885Z"
   },
   {
    "duration": 38,
    "start_time": "2022-12-22T05:06:13.891Z"
   },
   {
    "duration": 21,
    "start_time": "2022-12-22T05:06:13.931Z"
   },
   {
    "duration": 32,
    "start_time": "2022-12-22T05:06:13.954Z"
   },
   {
    "duration": 31,
    "start_time": "2022-12-22T05:06:13.987Z"
   },
   {
    "duration": 77,
    "start_time": "2022-12-22T05:06:14.020Z"
   },
   {
    "duration": 73,
    "start_time": "2022-12-22T05:06:14.099Z"
   },
   {
    "duration": 46,
    "start_time": "2022-12-22T05:06:14.174Z"
   },
   {
    "duration": 45,
    "start_time": "2022-12-22T05:06:14.223Z"
   },
   {
    "duration": 7,
    "start_time": "2022-12-22T05:06:14.269Z"
   },
   {
    "duration": 49,
    "start_time": "2022-12-22T05:06:14.277Z"
   },
   {
    "duration": 36,
    "start_time": "2022-12-22T05:06:14.329Z"
   },
   {
    "duration": 18,
    "start_time": "2022-12-22T05:06:14.366Z"
   },
   {
    "duration": 7,
    "start_time": "2022-12-22T05:06:14.385Z"
   },
   {
    "duration": 846,
    "start_time": "2022-12-22T05:06:14.393Z"
   },
   {
    "duration": 233,
    "start_time": "2022-12-22T05:06:15.242Z"
   },
   {
    "duration": 118,
    "start_time": "2022-12-22T05:06:15.476Z"
   },
   {
    "duration": 5,
    "start_time": "2022-12-22T05:06:15.596Z"
   },
   {
    "duration": 850,
    "start_time": "2022-12-22T05:06:15.603Z"
   },
   {
    "duration": 85,
    "start_time": "2022-12-22T05:06:16.456Z"
   },
   {
    "duration": 50,
    "start_time": "2022-12-22T05:06:16.544Z"
   },
   {
    "duration": 3,
    "start_time": "2022-12-22T05:06:16.596Z"
   },
   {
    "duration": 35,
    "start_time": "2022-12-22T05:06:16.601Z"
   },
   {
    "duration": 774,
    "start_time": "2022-12-22T05:06:16.639Z"
   },
   {
    "duration": 8,
    "start_time": "2022-12-22T05:06:17.414Z"
   },
   {
    "duration": 46,
    "start_time": "2022-12-22T05:06:17.423Z"
   },
   {
    "duration": 76,
    "start_time": "2022-12-22T05:06:17.471Z"
   },
   {
    "duration": 35,
    "start_time": "2022-12-22T05:06:17.635Z"
   },
   {
    "duration": 121,
    "start_time": "2022-12-22T05:06:17.672Z"
   },
   {
    "duration": 1087,
    "start_time": "2022-12-22T05:06:17.795Z"
   },
   {
    "duration": 60,
    "start_time": "2022-12-22T05:30:45.321Z"
   },
   {
    "duration": 45,
    "start_time": "2022-12-22T05:33:46.365Z"
   },
   {
    "duration": 1283,
    "start_time": "2022-12-22T05:34:00.902Z"
   },
   {
    "duration": 1099,
    "start_time": "2022-12-22T05:34:11.771Z"
   },
   {
    "duration": 1123,
    "start_time": "2022-12-22T05:34:43.362Z"
   },
   {
    "duration": 58,
    "start_time": "2022-12-22T06:12:58.836Z"
   },
   {
    "duration": 59,
    "start_time": "2022-12-22T06:13:06.232Z"
   },
   {
    "duration": 1133,
    "start_time": "2022-12-22T06:14:26.052Z"
   },
   {
    "duration": 46,
    "start_time": "2022-12-22T06:22:11.249Z"
   },
   {
    "duration": 1108,
    "start_time": "2022-12-22T06:23:24.571Z"
   },
   {
    "duration": 100,
    "start_time": "2022-12-22T06:24:41.350Z"
   },
   {
    "duration": 71,
    "start_time": "2022-12-22T06:25:05.796Z"
   },
   {
    "duration": 59,
    "start_time": "2022-12-22T06:25:12.294Z"
   },
   {
    "duration": 56,
    "start_time": "2022-12-22T06:41:38.799Z"
   },
   {
    "duration": 1070,
    "start_time": "2022-12-22T06:42:22.519Z"
   },
   {
    "duration": 140,
    "start_time": "2022-12-22T06:42:52.309Z"
   },
   {
    "duration": 4,
    "start_time": "2022-12-22T06:54:04.998Z"
   },
   {
    "duration": 140,
    "start_time": "2022-12-22T06:55:28.009Z"
   },
   {
    "duration": 212,
    "start_time": "2022-12-22T06:56:53.773Z"
   },
   {
    "duration": 132,
    "start_time": "2022-12-22T06:57:09.303Z"
   },
   {
    "duration": 143,
    "start_time": "2022-12-22T06:57:21.132Z"
   },
   {
    "duration": 123,
    "start_time": "2022-12-22T06:57:30.872Z"
   },
   {
    "duration": 127,
    "start_time": "2022-12-22T06:57:38.003Z"
   },
   {
    "duration": 120,
    "start_time": "2022-12-22T06:57:50.983Z"
   },
   {
    "duration": 120,
    "start_time": "2022-12-22T06:57:57.860Z"
   },
   {
    "duration": 57,
    "start_time": "2022-12-22T06:58:48.402Z"
   },
   {
    "duration": 1123,
    "start_time": "2022-12-22T06:58:57.658Z"
   },
   {
    "duration": 95,
    "start_time": "2022-12-22T06:59:09.857Z"
   },
   {
    "duration": 113,
    "start_time": "2022-12-22T06:59:40.633Z"
   },
   {
    "duration": 49,
    "start_time": "2022-12-22T07:10:05.179Z"
   },
   {
    "duration": 62,
    "start_time": "2022-12-22T07:12:42.584Z"
   },
   {
    "duration": 42,
    "start_time": "2022-12-22T07:22:03.405Z"
   },
   {
    "duration": 63,
    "start_time": "2022-12-22T07:35:10.034Z"
   },
   {
    "duration": 38,
    "start_time": "2022-12-22T07:44:47.677Z"
   },
   {
    "duration": 41,
    "start_time": "2022-12-22T07:45:06.392Z"
   },
   {
    "duration": 40,
    "start_time": "2022-12-22T07:45:18.982Z"
   },
   {
    "duration": 37,
    "start_time": "2022-12-22T07:47:12.194Z"
   },
   {
    "duration": 4,
    "start_time": "2022-12-22T07:50:46.605Z"
   },
   {
    "duration": 11,
    "start_time": "2022-12-22T07:50:51.237Z"
   },
   {
    "duration": 9,
    "start_time": "2022-12-22T07:50:54.466Z"
   },
   {
    "duration": 47,
    "start_time": "2022-12-22T07:54:57.707Z"
   },
   {
    "duration": 4,
    "start_time": "2022-12-22T07:55:01.865Z"
   },
   {
    "duration": 3,
    "start_time": "2022-12-22T07:55:07.726Z"
   },
   {
    "duration": 10,
    "start_time": "2022-12-22T07:55:10.566Z"
   },
   {
    "duration": 6,
    "start_time": "2022-12-22T07:55:27.371Z"
   },
   {
    "duration": 807,
    "start_time": "2022-12-22T07:57:05.718Z"
   },
   {
    "duration": 9,
    "start_time": "2022-12-22T07:57:10.463Z"
   },
   {
    "duration": 7,
    "start_time": "2022-12-22T07:57:56.106Z"
   },
   {
    "duration": 81,
    "start_time": "2022-12-22T07:59:07.158Z"
   },
   {
    "duration": 9,
    "start_time": "2022-12-22T07:59:10.276Z"
   },
   {
    "duration": 11,
    "start_time": "2022-12-22T07:59:52.049Z"
   },
   {
    "duration": 7,
    "start_time": "2022-12-22T07:59:57.334Z"
   },
   {
    "duration": 4,
    "start_time": "2022-12-22T08:12:16.468Z"
   },
   {
    "duration": 39,
    "start_time": "2022-12-22T08:14:55.678Z"
   },
   {
    "duration": 45,
    "start_time": "2022-12-22T08:31:54.876Z"
   },
   {
    "duration": 1053,
    "start_time": "2022-12-22T08:33:53.089Z"
   },
   {
    "duration": 205,
    "start_time": "2022-12-22T08:36:07.638Z"
   },
   {
    "duration": 59,
    "start_time": "2022-12-22T08:36:34.887Z"
   },
   {
    "duration": 27,
    "start_time": "2022-12-22T08:39:03.956Z"
   },
   {
    "duration": 93,
    "start_time": "2022-12-22T08:44:48.856Z"
   },
   {
    "duration": 79,
    "start_time": "2022-12-22T08:45:02.128Z"
   },
   {
    "duration": 1336,
    "start_time": "2022-12-22T08:48:52.999Z"
   },
   {
    "duration": 10,
    "start_time": "2022-12-22T08:50:09.517Z"
   },
   {
    "duration": 11,
    "start_time": "2022-12-22T08:50:27.637Z"
   },
   {
    "duration": 11,
    "start_time": "2022-12-22T08:50:48.890Z"
   },
   {
    "duration": 298,
    "start_time": "2022-12-22T08:56:02.454Z"
   },
   {
    "duration": 52,
    "start_time": "2022-12-22T09:47:09.967Z"
   },
   {
    "duration": 180346,
    "start_time": "2022-12-22T09:47:33.266Z"
   },
   {
    "duration": 91,
    "start_time": "2022-12-22T09:53:30.014Z"
   },
   {
    "duration": 61,
    "start_time": "2022-12-22T09:53:38.106Z"
   },
   {
    "duration": 54,
    "start_time": "2022-12-22T09:53:58.126Z"
   },
   {
    "duration": 10901,
    "start_time": "2022-12-22T09:54:20.501Z"
   },
   {
    "duration": 188452,
    "start_time": "2022-12-22T09:57:06.968Z"
   },
   {
    "duration": 955,
    "start_time": "2022-12-22T10:04:54.254Z"
   },
   {
    "duration": 1022,
    "start_time": "2022-12-22T10:15:10.104Z"
   },
   {
    "duration": 26,
    "start_time": "2022-12-22T10:17:05.604Z"
   },
   {
    "duration": 1029,
    "start_time": "2022-12-22T10:17:29.154Z"
   },
   {
    "duration": 793,
    "start_time": "2022-12-22T10:19:53.908Z"
   },
   {
    "duration": 118,
    "start_time": "2022-12-22T10:20:08.634Z"
   },
   {
    "duration": 56,
    "start_time": "2022-12-22T10:20:30.868Z"
   },
   {
    "duration": 19,
    "start_time": "2022-12-22T10:39:04.204Z"
   },
   {
    "duration": 27,
    "start_time": "2022-12-22T10:39:30.432Z"
   },
   {
    "duration": 19,
    "start_time": "2022-12-22T10:40:46.671Z"
   },
   {
    "duration": 29,
    "start_time": "2022-12-22T10:40:55.493Z"
   },
   {
    "duration": 17,
    "start_time": "2022-12-22T10:41:13.732Z"
   },
   {
    "duration": 117,
    "start_time": "2022-12-22T10:41:44.363Z"
   },
   {
    "duration": 135,
    "start_time": "2022-12-22T10:42:28.033Z"
   },
   {
    "duration": 113,
    "start_time": "2022-12-22T10:43:09.072Z"
   },
   {
    "duration": 878,
    "start_time": "2022-12-22T10:47:40.042Z"
   },
   {
    "duration": 49,
    "start_time": "2022-12-22T10:50:17.263Z"
   },
   {
    "duration": 30,
    "start_time": "2022-12-22T10:50:37.205Z"
   },
   {
    "duration": 24,
    "start_time": "2022-12-22T10:50:51.830Z"
   },
   {
    "duration": 15,
    "start_time": "2022-12-22T10:51:12.872Z"
   },
   {
    "duration": 9,
    "start_time": "2022-12-22T10:51:26.243Z"
   },
   {
    "duration": 1338,
    "start_time": "2022-12-22T10:51:43.362Z"
   },
   {
    "duration": 55,
    "start_time": "2022-12-22T10:51:47.811Z"
   },
   {
    "duration": 5,
    "start_time": "2022-12-22T10:51:53.341Z"
   },
   {
    "duration": 12,
    "start_time": "2022-12-22T10:51:55.572Z"
   },
   {
    "duration": 7,
    "start_time": "2022-12-22T10:52:00.871Z"
   },
   {
    "duration": 14,
    "start_time": "2022-12-22T10:52:04.809Z"
   },
   {
    "duration": 5,
    "start_time": "2022-12-22T10:52:08.771Z"
   },
   {
    "duration": 110,
    "start_time": "2022-12-22T10:52:12.906Z"
   },
   {
    "duration": 15,
    "start_time": "2022-12-22T10:52:26.172Z"
   },
   {
    "duration": 14,
    "start_time": "2022-12-22T10:53:17.422Z"
   },
   {
    "duration": 22,
    "start_time": "2022-12-22T10:53:32.172Z"
   },
   {
    "duration": 9,
    "start_time": "2022-12-22T10:53:46.520Z"
   },
   {
    "duration": 19,
    "start_time": "2022-12-22T10:53:56.841Z"
   },
   {
    "duration": 25,
    "start_time": "2022-12-22T10:54:16.997Z"
   },
   {
    "duration": 19,
    "start_time": "2022-12-22T10:54:28.181Z"
   },
   {
    "duration": 9,
    "start_time": "2022-12-22T10:54:31.657Z"
   },
   {
    "duration": 8,
    "start_time": "2022-12-22T10:55:05.221Z"
   },
   {
    "duration": 7,
    "start_time": "2022-12-22T10:55:14.661Z"
   },
   {
    "duration": 10,
    "start_time": "2022-12-22T10:55:25.420Z"
   },
   {
    "duration": 6,
    "start_time": "2022-12-22T10:56:15.155Z"
   },
   {
    "duration": 41,
    "start_time": "2022-12-22T10:58:22.129Z"
   },
   {
    "duration": 66,
    "start_time": "2022-12-22T10:59:32.511Z"
   },
   {
    "duration": 5,
    "start_time": "2022-12-22T10:59:45.970Z"
   },
   {
    "duration": 765,
    "start_time": "2022-12-22T10:59:49.971Z"
   },
   {
    "duration": 113,
    "start_time": "2022-12-22T10:59:54.311Z"
   },
   {
    "duration": 111,
    "start_time": "2022-12-22T10:59:59.281Z"
   },
   {
    "duration": 5,
    "start_time": "2022-12-22T11:00:04.581Z"
   },
   {
    "duration": 864,
    "start_time": "2022-12-22T11:00:09.380Z"
   },
   {
    "duration": 6,
    "start_time": "2022-12-22T11:00:14.431Z"
   },
   {
    "duration": 41,
    "start_time": "2022-12-22T11:00:17.821Z"
   },
   {
    "duration": 3,
    "start_time": "2022-12-22T11:00:21.872Z"
   },
   {
    "duration": 3,
    "start_time": "2022-12-22T11:00:28.362Z"
   },
   {
    "duration": 10,
    "start_time": "2022-12-22T11:00:31.121Z"
   },
   {
    "duration": 774,
    "start_time": "2022-12-22T11:00:36.762Z"
   },
   {
    "duration": 11,
    "start_time": "2022-12-22T11:00:42.779Z"
   },
   {
    "duration": 27,
    "start_time": "2022-12-22T11:00:45.001Z"
   },
   {
    "duration": 10,
    "start_time": "2022-12-22T11:00:47.493Z"
   },
   {
    "duration": 4,
    "start_time": "2022-12-22T11:00:54.229Z"
   },
   {
    "duration": 4,
    "start_time": "2022-12-22T11:00:56.051Z"
   },
   {
    "duration": 110,
    "start_time": "2022-12-22T11:01:05.981Z"
   },
   {
    "duration": 102,
    "start_time": "2022-12-22T11:01:09.281Z"
   },
   {
    "duration": 73,
    "start_time": "2022-12-22T11:01:11.652Z"
   },
   {
    "duration": 1460,
    "start_time": "2022-12-22T11:01:15.522Z"
   },
   {
    "duration": 311,
    "start_time": "2022-12-22T11:01:19.634Z"
   },
   {
    "duration": 44,
    "start_time": "2022-12-22T11:01:23.201Z"
   },
   {
    "duration": 175170,
    "start_time": "2022-12-22T11:02:28.233Z"
   },
   {
    "duration": 51,
    "start_time": "2022-12-22T11:08:22.354Z"
   },
   {
    "duration": 1102,
    "start_time": "2022-12-22T11:09:52.681Z"
   },
   {
    "duration": 68,
    "start_time": "2022-12-22T18:56:30.994Z"
   },
   {
    "duration": 1697,
    "start_time": "2022-12-22T18:56:58.756Z"
   },
   {
    "duration": 178,
    "start_time": "2022-12-22T18:57:00.455Z"
   },
   {
    "duration": 4,
    "start_time": "2022-12-22T18:57:00.635Z"
   },
   {
    "duration": 40,
    "start_time": "2022-12-22T18:57:00.642Z"
   },
   {
    "duration": 8,
    "start_time": "2022-12-22T18:57:00.684Z"
   },
   {
    "duration": 41,
    "start_time": "2022-12-22T18:57:00.694Z"
   },
   {
    "duration": 18,
    "start_time": "2022-12-22T18:57:00.736Z"
   },
   {
    "duration": 37,
    "start_time": "2022-12-22T18:57:00.756Z"
   },
   {
    "duration": 61,
    "start_time": "2022-12-22T18:57:00.794Z"
   },
   {
    "duration": 9,
    "start_time": "2022-12-22T18:57:00.858Z"
   },
   {
    "duration": 47,
    "start_time": "2022-12-22T18:57:00.869Z"
   },
   {
    "duration": 28,
    "start_time": "2022-12-22T18:57:00.917Z"
   },
   {
    "duration": 80,
    "start_time": "2022-12-22T18:57:00.947Z"
   },
   {
    "duration": 6,
    "start_time": "2022-12-22T18:57:01.030Z"
   },
   {
    "duration": 883,
    "start_time": "2022-12-22T18:57:01.037Z"
   },
   {
    "duration": 304,
    "start_time": "2022-12-22T18:57:01.925Z"
   },
   {
    "duration": 134,
    "start_time": "2022-12-22T18:57:02.231Z"
   },
   {
    "duration": 5,
    "start_time": "2022-12-22T18:57:02.367Z"
   },
   {
    "duration": 1046,
    "start_time": "2022-12-22T18:57:02.374Z"
   },
   {
    "duration": 7,
    "start_time": "2022-12-22T18:57:03.422Z"
   },
   {
    "duration": 61,
    "start_time": "2022-12-22T18:57:03.430Z"
   },
   {
    "duration": 4,
    "start_time": "2022-12-22T18:57:03.493Z"
   },
   {
    "duration": 24,
    "start_time": "2022-12-22T18:57:03.498Z"
   },
   {
    "duration": 39,
    "start_time": "2022-12-22T18:57:03.523Z"
   },
   {
    "duration": 818,
    "start_time": "2022-12-22T18:57:03.564Z"
   },
   {
    "duration": 11,
    "start_time": "2022-12-22T18:57:04.383Z"
   },
   {
    "duration": 129,
    "start_time": "2022-12-22T18:57:04.395Z"
   },
   {
    "duration": 16,
    "start_time": "2022-12-22T18:57:04.604Z"
   },
   {
    "duration": 9,
    "start_time": "2022-12-22T18:57:04.622Z"
   },
   {
    "duration": 12,
    "start_time": "2022-12-22T18:57:04.632Z"
   },
   {
    "duration": 122,
    "start_time": "2022-12-22T18:57:04.645Z"
   },
   {
    "duration": 128,
    "start_time": "2022-12-22T18:57:04.769Z"
   },
   {
    "duration": 87,
    "start_time": "2022-12-22T18:57:04.899Z"
   },
   {
    "duration": 1651,
    "start_time": "2022-12-22T18:57:04.988Z"
   },
   {
    "duration": 281,
    "start_time": "2022-12-22T18:57:06.641Z"
   },
   {
    "duration": 196489,
    "start_time": "2022-12-22T18:57:06.923Z"
   },
   {
    "duration": 102,
    "start_time": "2022-12-22T19:00:23.422Z"
   },
   {
    "duration": 0,
    "start_time": "2022-12-22T19:00:23.527Z"
   },
   {
    "duration": 107,
    "start_time": "2022-12-22T19:00:35.843Z"
   },
   {
    "duration": 1196,
    "start_time": "2022-12-22T19:25:05.963Z"
   },
   {
    "duration": 1115,
    "start_time": "2022-12-22T19:26:32.885Z"
   },
   {
    "duration": 1054,
    "start_time": "2022-12-22T19:27:00.914Z"
   },
   {
    "duration": 1042,
    "start_time": "2022-12-22T19:27:32.317Z"
   },
   {
    "duration": 196894,
    "start_time": "2022-12-22T19:28:00.770Z"
   },
   {
    "duration": 1075,
    "start_time": "2022-12-22T19:31:49.418Z"
   },
   {
    "duration": 1676,
    "start_time": "2022-12-23T07:12:03.675Z"
   },
   {
    "duration": 104,
    "start_time": "2022-12-23T07:12:12.075Z"
   },
   {
    "duration": 5,
    "start_time": "2022-12-23T07:12:30.334Z"
   },
   {
    "duration": 13,
    "start_time": "2022-12-23T07:12:33.855Z"
   },
   {
    "duration": 8,
    "start_time": "2022-12-23T07:12:40.235Z"
   },
   {
    "duration": 9,
    "start_time": "2022-12-23T07:24:55.333Z"
   },
   {
    "duration": 115,
    "start_time": "2022-12-23T07:25:40.164Z"
   },
   {
    "duration": 9,
    "start_time": "2022-12-23T07:25:55.245Z"
   },
   {
    "duration": 5,
    "start_time": "2022-12-23T07:26:10.596Z"
   },
   {
    "duration": 11,
    "start_time": "2022-12-23T07:26:15.665Z"
   },
   {
    "duration": 11,
    "start_time": "2022-12-23T07:26:37.135Z"
   },
   {
    "duration": 17,
    "start_time": "2022-12-23T07:26:53.034Z"
   },
   {
    "duration": 5,
    "start_time": "2022-12-23T07:27:35.397Z"
   },
   {
    "duration": 5,
    "start_time": "2022-12-23T07:28:03.975Z"
   },
   {
    "duration": 17,
    "start_time": "2022-12-23T07:28:56.534Z"
   },
   {
    "duration": 15,
    "start_time": "2022-12-23T07:29:33.266Z"
   },
   {
    "duration": 49,
    "start_time": "2022-12-23T07:30:20.471Z"
   },
   {
    "duration": 14,
    "start_time": "2022-12-23T07:30:37.845Z"
   },
   {
    "duration": 43,
    "start_time": "2022-12-23T07:30:56.455Z"
   },
   {
    "duration": 5,
    "start_time": "2022-12-23T07:31:05.635Z"
   },
   {
    "duration": 15,
    "start_time": "2022-12-23T07:31:35.155Z"
   },
   {
    "duration": 45,
    "start_time": "2022-12-23T07:31:54.245Z"
   },
   {
    "duration": 18,
    "start_time": "2022-12-23T07:32:01.634Z"
   },
   {
    "duration": 12,
    "start_time": "2022-12-23T07:32:07.765Z"
   },
   {
    "duration": 18,
    "start_time": "2022-12-23T07:32:56.834Z"
   },
   {
    "duration": 17,
    "start_time": "2022-12-23T07:33:34.395Z"
   },
   {
    "duration": 12,
    "start_time": "2022-12-23T07:33:49.780Z"
   },
   {
    "duration": 18,
    "start_time": "2022-12-23T07:34:15.265Z"
   },
   {
    "duration": 35,
    "start_time": "2022-12-23T07:34:18.435Z"
   },
   {
    "duration": 9,
    "start_time": "2022-12-23T07:34:35.783Z"
   },
   {
    "duration": 4,
    "start_time": "2022-12-23T08:15:22.275Z"
   },
   {
    "duration": 11,
    "start_time": "2022-12-23T08:20:20.704Z"
   },
   {
    "duration": 12,
    "start_time": "2022-12-23T08:20:23.984Z"
   },
   {
    "duration": 9,
    "start_time": "2022-12-23T08:20:41.734Z"
   },
   {
    "duration": 4,
    "start_time": "2022-12-23T08:20:49.166Z"
   },
   {
    "duration": 10,
    "start_time": "2022-12-23T08:24:16.582Z"
   },
   {
    "duration": 6,
    "start_time": "2022-12-23T08:25:56.485Z"
   },
   {
    "duration": 10,
    "start_time": "2022-12-23T08:26:02.222Z"
   },
   {
    "duration": 17,
    "start_time": "2022-12-23T08:26:39.167Z"
   },
   {
    "duration": 14,
    "start_time": "2022-12-23T08:26:41.922Z"
   },
   {
    "duration": 3,
    "start_time": "2022-12-23T08:26:45.032Z"
   },
   {
    "duration": 15,
    "start_time": "2022-12-23T08:26:49.482Z"
   },
   {
    "duration": 1549,
    "start_time": "2022-12-23T08:56:06.965Z"
   },
   {
    "duration": 57,
    "start_time": "2022-12-23T08:56:09.248Z"
   },
   {
    "duration": 5,
    "start_time": "2022-12-23T08:56:13.105Z"
   },
   {
    "duration": 18,
    "start_time": "2022-12-23T08:56:16.265Z"
   },
   {
    "duration": 9,
    "start_time": "2022-12-23T08:56:20.714Z"
   },
   {
    "duration": 22,
    "start_time": "2022-12-23T08:56:24.374Z"
   },
   {
    "duration": 5,
    "start_time": "2022-12-23T08:56:26.665Z"
   },
   {
    "duration": 16,
    "start_time": "2022-12-23T08:56:32.374Z"
   },
   {
    "duration": 25,
    "start_time": "2022-12-23T08:56:38.814Z"
   },
   {
    "duration": 10,
    "start_time": "2022-12-23T08:56:46.865Z"
   },
   {
    "duration": 8,
    "start_time": "2022-12-23T08:57:02.755Z"
   },
   {
    "duration": 3,
    "start_time": "2022-12-23T08:57:05.634Z"
   },
   {
    "duration": 132,
    "start_time": "2022-12-23T08:58:48.525Z"
   },
   {
    "duration": 4,
    "start_time": "2022-12-23T09:02:22.355Z"
   },
   {
    "duration": 25,
    "start_time": "2022-12-23T09:03:18.625Z"
   },
   {
    "duration": 3,
    "start_time": "2022-12-23T09:05:55.715Z"
   },
   {
    "duration": 9,
    "start_time": "2022-12-23T09:32:10.174Z"
   },
   {
    "duration": 17,
    "start_time": "2022-12-23T09:39:11.765Z"
   },
   {
    "duration": 3,
    "start_time": "2022-12-23T09:39:25.497Z"
   },
   {
    "duration": 4,
    "start_time": "2022-12-23T09:50:28.305Z"
   },
   {
    "duration": 16,
    "start_time": "2022-12-23T09:55:51.206Z"
   },
   {
    "duration": 14,
    "start_time": "2022-12-23T09:56:29.515Z"
   },
   {
    "duration": 17,
    "start_time": "2022-12-23T09:56:59.636Z"
   },
   {
    "duration": 15,
    "start_time": "2022-12-23T10:01:49.535Z"
   },
   {
    "duration": 15,
    "start_time": "2022-12-23T10:03:02.445Z"
   },
   {
    "duration": 15,
    "start_time": "2022-12-23T10:03:58.593Z"
   },
   {
    "duration": 17,
    "start_time": "2022-12-23T10:04:41.516Z"
   },
   {
    "duration": 18,
    "start_time": "2022-12-23T10:06:03.345Z"
   },
   {
    "duration": 5,
    "start_time": "2022-12-23T10:08:45.936Z"
   },
   {
    "duration": 8,
    "start_time": "2022-12-23T10:08:53.914Z"
   },
   {
    "duration": 12,
    "start_time": "2022-12-23T10:31:08.702Z"
   },
   {
    "duration": 20,
    "start_time": "2022-12-23T10:31:37.632Z"
   },
   {
    "duration": 491,
    "start_time": "2022-12-23T10:32:22.814Z"
   },
   {
    "duration": 19,
    "start_time": "2022-12-23T10:32:43.203Z"
   },
   {
    "duration": 59,
    "start_time": "2022-12-23T10:36:38.276Z"
   },
   {
    "duration": 19,
    "start_time": "2022-12-23T10:37:38.223Z"
   },
   {
    "duration": 18,
    "start_time": "2022-12-23T10:39:57.515Z"
   },
   {
    "duration": 32,
    "start_time": "2022-12-23T10:41:09.413Z"
   },
   {
    "duration": 21,
    "start_time": "2022-12-23T10:43:33.488Z"
   },
   {
    "duration": 27,
    "start_time": "2022-12-23T10:44:04.404Z"
   },
   {
    "duration": 28,
    "start_time": "2022-12-23T10:49:13.908Z"
   },
   {
    "duration": 20,
    "start_time": "2022-12-23T10:50:19.896Z"
   },
   {
    "duration": 32,
    "start_time": "2022-12-23T10:50:34.964Z"
   },
   {
    "duration": 20,
    "start_time": "2022-12-23T10:54:46.364Z"
   },
   {
    "duration": 23,
    "start_time": "2022-12-23T10:55:58.597Z"
   },
   {
    "duration": 20,
    "start_time": "2022-12-23T10:56:10.034Z"
   },
   {
    "duration": 15,
    "start_time": "2022-12-23T10:57:08.996Z"
   },
   {
    "duration": 3,
    "start_time": "2022-12-23T10:57:32.299Z"
   },
   {
    "duration": 15,
    "start_time": "2022-12-23T10:58:30.845Z"
   },
   {
    "duration": 28,
    "start_time": "2022-12-23T11:00:31.924Z"
   },
   {
    "duration": 15,
    "start_time": "2022-12-23T11:03:12.885Z"
   },
   {
    "duration": 23,
    "start_time": "2022-12-23T11:04:13.385Z"
   },
   {
    "duration": 14,
    "start_time": "2022-12-23T11:04:22.125Z"
   },
   {
    "duration": 17,
    "start_time": "2022-12-23T11:04:46.465Z"
   },
   {
    "duration": 15,
    "start_time": "2022-12-23T11:04:52.685Z"
   },
   {
    "duration": 5,
    "start_time": "2022-12-23T11:06:27.084Z"
   },
   {
    "duration": 7,
    "start_time": "2022-12-23T11:07:56.261Z"
   },
   {
    "duration": 14,
    "start_time": "2022-12-23T11:08:22.195Z"
   },
   {
    "duration": 7,
    "start_time": "2022-12-23T11:08:38.905Z"
   },
   {
    "duration": 4,
    "start_time": "2022-12-23T11:09:32.845Z"
   },
   {
    "duration": 19,
    "start_time": "2022-12-23T11:10:24.914Z"
   },
   {
    "duration": 876,
    "start_time": "2022-12-23T11:11:14.793Z"
   },
   {
    "duration": 792,
    "start_time": "2022-12-23T11:11:33.674Z"
   },
   {
    "duration": 23,
    "start_time": "2022-12-23T11:12:04.724Z"
   },
   {
    "duration": 19,
    "start_time": "2022-12-23T11:12:15.554Z"
   },
   {
    "duration": 37,
    "start_time": "2022-12-23T11:13:43.605Z"
   },
   {
    "duration": 32,
    "start_time": "2022-12-23T11:14:03.794Z"
   },
   {
    "duration": 14,
    "start_time": "2022-12-23T11:14:29.688Z"
   },
   {
    "duration": 4,
    "start_time": "2022-12-23T11:17:41.734Z"
   },
   {
    "duration": 6,
    "start_time": "2022-12-23T11:17:47.044Z"
   },
   {
    "duration": 16,
    "start_time": "2022-12-23T11:18:52.912Z"
   },
   {
    "duration": 6,
    "start_time": "2022-12-23T11:20:34.534Z"
   },
   {
    "duration": 12,
    "start_time": "2022-12-23T11:22:01.594Z"
   },
   {
    "duration": 18,
    "start_time": "2022-12-23T11:22:59.713Z"
   },
   {
    "duration": 15,
    "start_time": "2022-12-23T11:23:14.756Z"
   },
   {
    "duration": 7,
    "start_time": "2022-12-23T11:24:39.876Z"
   },
   {
    "duration": 3,
    "start_time": "2022-12-23T11:24:41.815Z"
   },
   {
    "duration": 7,
    "start_time": "2022-12-23T11:25:01.014Z"
   },
   {
    "duration": 4,
    "start_time": "2022-12-23T11:36:18.866Z"
   },
   {
    "duration": 16,
    "start_time": "2022-12-23T11:36:52.956Z"
   },
   {
    "duration": 17,
    "start_time": "2022-12-23T11:37:09.796Z"
   },
   {
    "duration": 19,
    "start_time": "2022-12-23T11:37:48.657Z"
   },
   {
    "duration": 5,
    "start_time": "2022-12-23T11:37:57.284Z"
   },
   {
    "duration": 12,
    "start_time": "2022-12-23T11:40:35.016Z"
   },
   {
    "duration": 10,
    "start_time": "2022-12-23T11:48:44.865Z"
   },
   {
    "duration": 12,
    "start_time": "2022-12-23T11:50:03.695Z"
   },
   {
    "duration": 3,
    "start_time": "2022-12-23T11:53:44.536Z"
   },
   {
    "duration": 5,
    "start_time": "2022-12-23T11:55:14.545Z"
   },
   {
    "duration": 15,
    "start_time": "2022-12-23T11:56:34.218Z"
   },
   {
    "duration": 13,
    "start_time": "2022-12-23T12:00:39.018Z"
   },
   {
    "duration": 4,
    "start_time": "2022-12-23T12:01:15.858Z"
   },
   {
    "duration": 13,
    "start_time": "2022-12-23T12:02:20.336Z"
   },
   {
    "duration": 19,
    "start_time": "2022-12-23T12:03:16.817Z"
   },
   {
    "duration": 5,
    "start_time": "2022-12-23T12:06:42.237Z"
   },
   {
    "duration": 5,
    "start_time": "2022-12-23T12:07:32.427Z"
   },
   {
    "duration": 5,
    "start_time": "2022-12-23T12:08:25.532Z"
   },
   {
    "duration": 12,
    "start_time": "2022-12-23T12:16:00.313Z"
   },
   {
    "duration": 1355,
    "start_time": "2022-12-23T12:16:55.427Z"
   },
   {
    "duration": 57,
    "start_time": "2022-12-23T12:16:58.121Z"
   },
   {
    "duration": 6,
    "start_time": "2022-12-23T12:16:58.987Z"
   },
   {
    "duration": 15,
    "start_time": "2022-12-23T12:17:00.877Z"
   },
   {
    "duration": 8,
    "start_time": "2022-12-23T12:17:02.228Z"
   },
   {
    "duration": 15,
    "start_time": "2022-12-23T12:17:03.457Z"
   },
   {
    "duration": 6,
    "start_time": "2022-12-23T12:17:06.987Z"
   },
   {
    "duration": 24,
    "start_time": "2022-12-23T12:17:08.438Z"
   },
   {
    "duration": 37,
    "start_time": "2022-12-23T12:17:11.222Z"
   },
   {
    "duration": 10,
    "start_time": "2022-12-23T12:17:17.229Z"
   },
   {
    "duration": 7,
    "start_time": "2022-12-23T12:17:21.469Z"
   },
   {
    "duration": 11,
    "start_time": "2022-12-23T12:17:25.222Z"
   },
   {
    "duration": 9,
    "start_time": "2022-12-23T12:17:27.237Z"
   },
   {
    "duration": 4,
    "start_time": "2022-12-23T12:17:30.048Z"
   },
   {
    "duration": 3,
    "start_time": "2022-12-23T12:17:40.440Z"
   },
   {
    "duration": 125,
    "start_time": "2022-12-23T12:17:45.879Z"
   },
   {
    "duration": 16,
    "start_time": "2022-12-23T12:19:24.524Z"
   },
   {
    "duration": 19,
    "start_time": "2022-12-23T12:19:29.379Z"
   },
   {
    "duration": 17,
    "start_time": "2022-12-23T12:19:47.839Z"
   },
   {
    "duration": 4,
    "start_time": "2022-12-23T12:19:51.720Z"
   },
   {
    "duration": 9,
    "start_time": "2022-12-23T12:20:09.877Z"
   },
   {
    "duration": 43,
    "start_time": "2022-12-23T12:21:28.964Z"
   },
   {
    "duration": 17,
    "start_time": "2022-12-23T12:22:04.240Z"
   },
   {
    "duration": 14,
    "start_time": "2022-12-23T12:22:15.279Z"
   },
   {
    "duration": 6,
    "start_time": "2022-12-23T12:24:52.573Z"
   },
   {
    "duration": 14,
    "start_time": "2022-12-23T12:25:00.312Z"
   },
   {
    "duration": 4,
    "start_time": "2022-12-23T12:25:35.051Z"
   },
   {
    "duration": 19,
    "start_time": "2022-12-23T12:27:19.520Z"
   },
   {
    "duration": 6,
    "start_time": "2022-12-23T12:31:51.208Z"
   },
   {
    "duration": 3,
    "start_time": "2022-12-23T12:31:54.749Z"
   },
   {
    "duration": 4,
    "start_time": "2022-12-23T12:31:56.171Z"
   },
   {
    "duration": 22,
    "start_time": "2022-12-23T12:31:58.512Z"
   },
   {
    "duration": 5,
    "start_time": "2022-12-23T12:32:00.331Z"
   },
   {
    "duration": 6,
    "start_time": "2022-12-23T12:32:03.088Z"
   },
   {
    "duration": 15,
    "start_time": "2022-12-23T12:32:09.506Z"
   },
   {
    "duration": 14,
    "start_time": "2022-12-23T12:32:42.404Z"
   },
   {
    "duration": 13,
    "start_time": "2022-12-23T12:33:30.720Z"
   },
   {
    "duration": 14,
    "start_time": "2022-12-23T12:33:55.330Z"
   },
   {
    "duration": 4,
    "start_time": "2022-12-23T12:34:09.314Z"
   },
   {
    "duration": 4,
    "start_time": "2022-12-23T12:34:28.671Z"
   },
   {
    "duration": 16,
    "start_time": "2022-12-23T12:35:01.481Z"
   },
   {
    "duration": 4,
    "start_time": "2022-12-23T12:35:37.817Z"
   },
   {
    "duration": 15,
    "start_time": "2022-12-23T12:35:43.641Z"
   },
   {
    "duration": 11,
    "start_time": "2022-12-23T12:39:47.801Z"
   },
   {
    "duration": 16,
    "start_time": "2022-12-23T12:40:30.550Z"
   },
   {
    "duration": 10,
    "start_time": "2022-12-23T12:40:34.020Z"
   },
   {
    "duration": 5,
    "start_time": "2022-12-23T12:41:40.259Z"
   },
   {
    "duration": 9,
    "start_time": "2022-12-23T12:42:46.561Z"
   },
   {
    "duration": 5,
    "start_time": "2022-12-23T12:42:59.700Z"
   },
   {
    "duration": 3,
    "start_time": "2022-12-23T12:43:24.959Z"
   },
   {
    "duration": 3,
    "start_time": "2022-12-23T12:43:33.140Z"
   },
   {
    "duration": 20,
    "start_time": "2022-12-23T12:43:48.737Z"
   },
   {
    "duration": 3,
    "start_time": "2022-12-23T12:49:02.507Z"
   },
   {
    "duration": 19,
    "start_time": "2022-12-23T12:49:36.477Z"
   },
   {
    "duration": 23,
    "start_time": "2022-12-23T12:50:12.209Z"
   },
   {
    "duration": 2,
    "start_time": "2022-12-23T12:54:57.472Z"
   },
   {
    "duration": 35,
    "start_time": "2022-12-23T12:55:18.928Z"
   },
   {
    "duration": 16,
    "start_time": "2022-12-23T13:12:04.920Z"
   },
   {
    "duration": 3,
    "start_time": "2022-12-23T13:12:10.130Z"
   },
   {
    "duration": 17,
    "start_time": "2022-12-23T13:12:19.951Z"
   },
   {
    "duration": 4,
    "start_time": "2022-12-23T13:12:21.260Z"
   },
   {
    "duration": 18,
    "start_time": "2022-12-23T13:12:27.630Z"
   },
   {
    "duration": 12,
    "start_time": "2022-12-23T13:16:55.391Z"
   },
   {
    "duration": 11,
    "start_time": "2022-12-23T13:18:21.404Z"
   },
   {
    "duration": 16,
    "start_time": "2022-12-23T13:18:57.912Z"
   },
   {
    "duration": 3,
    "start_time": "2022-12-23T13:19:00.632Z"
   },
   {
    "duration": 15,
    "start_time": "2022-12-23T13:19:02.852Z"
   },
   {
    "duration": 19,
    "start_time": "2022-12-23T13:20:09.920Z"
   },
   {
    "duration": 25,
    "start_time": "2022-12-23T13:21:13.492Z"
   },
   {
    "duration": 2,
    "start_time": "2022-12-23T13:21:20.123Z"
   },
   {
    "duration": 15,
    "start_time": "2022-12-23T13:22:45.512Z"
   },
   {
    "duration": 33,
    "start_time": "2022-12-23T13:23:13.732Z"
   },
   {
    "duration": 25,
    "start_time": "2022-12-23T13:24:20.602Z"
   },
   {
    "duration": 23,
    "start_time": "2022-12-23T13:25:13.253Z"
   },
   {
    "duration": 12,
    "start_time": "2022-12-23T13:25:30.573Z"
   },
   {
    "duration": 11,
    "start_time": "2022-12-23T13:28:32.913Z"
   },
   {
    "duration": 26,
    "start_time": "2022-12-23T13:28:52.854Z"
   },
   {
    "duration": 11,
    "start_time": "2022-12-23T13:28:55.973Z"
   },
   {
    "duration": 1974,
    "start_time": "2022-12-24T02:38:20.139Z"
   },
   {
    "duration": 106,
    "start_time": "2022-12-24T02:38:23.686Z"
   },
   {
    "duration": 6,
    "start_time": "2022-12-24T02:38:27.805Z"
   },
   {
    "duration": 72,
    "start_time": "2022-12-24T02:39:30.565Z"
   },
   {
    "duration": 6,
    "start_time": "2022-12-24T02:39:35.255Z"
   },
   {
    "duration": 23,
    "start_time": "2022-12-24T02:39:38.175Z"
   },
   {
    "duration": 9,
    "start_time": "2022-12-24T02:39:42.208Z"
   },
   {
    "duration": 18,
    "start_time": "2022-12-24T02:39:47.894Z"
   },
   {
    "duration": 6,
    "start_time": "2022-12-24T02:41:02.482Z"
   },
   {
    "duration": 20,
    "start_time": "2022-12-24T02:41:11.185Z"
   },
   {
    "duration": 35,
    "start_time": "2022-12-24T02:41:14.705Z"
   },
   {
    "duration": 12,
    "start_time": "2022-12-24T02:42:47.915Z"
   },
   {
    "duration": 9,
    "start_time": "2022-12-24T02:43:10.896Z"
   },
   {
    "duration": 3,
    "start_time": "2022-12-24T02:43:18.585Z"
   },
   {
    "duration": 29,
    "start_time": "2022-12-24T02:45:55.664Z"
   },
   {
    "duration": 3,
    "start_time": "2022-12-24T02:46:05.224Z"
   },
   {
    "duration": 9,
    "start_time": "2022-12-24T02:51:32.924Z"
   },
   {
    "duration": 4,
    "start_time": "2022-12-24T02:51:38.434Z"
   },
   {
    "duration": 28,
    "start_time": "2022-12-24T02:51:40.342Z"
   },
   {
    "duration": 2,
    "start_time": "2022-12-24T02:51:42.305Z"
   },
   {
    "duration": 45,
    "start_time": "2022-12-24T02:51:44.241Z"
   },
   {
    "duration": 153,
    "start_time": "2022-12-24T02:59:19.313Z"
   },
   {
    "duration": 15,
    "start_time": "2022-12-24T02:59:40.873Z"
   },
   {
    "duration": 26,
    "start_time": "2022-12-24T02:59:59.147Z"
   },
   {
    "duration": 14,
    "start_time": "2022-12-24T03:00:16.473Z"
   },
   {
    "duration": 17,
    "start_time": "2022-12-24T03:01:25.153Z"
   },
   {
    "duration": 19,
    "start_time": "2022-12-24T03:01:52.664Z"
   },
   {
    "duration": 23,
    "start_time": "2022-12-24T03:02:02.114Z"
   },
   {
    "duration": 27,
    "start_time": "2022-12-24T03:02:11.084Z"
   },
   {
    "duration": 32,
    "start_time": "2022-12-24T03:02:17.824Z"
   },
   {
    "duration": 18,
    "start_time": "2022-12-24T03:02:58.633Z"
   },
   {
    "duration": 12,
    "start_time": "2022-12-24T03:05:14.553Z"
   },
   {
    "duration": 16,
    "start_time": "2022-12-24T03:05:36.992Z"
   },
   {
    "duration": 23,
    "start_time": "2022-12-24T03:05:54.258Z"
   },
   {
    "duration": 3,
    "start_time": "2022-12-24T03:05:56.243Z"
   },
   {
    "duration": 23,
    "start_time": "2022-12-24T03:06:27.283Z"
   },
   {
    "duration": 3,
    "start_time": "2022-12-24T03:06:29.652Z"
   },
   {
    "duration": 4,
    "start_time": "2022-12-24T03:06:33.193Z"
   },
   {
    "duration": 15,
    "start_time": "2022-12-24T03:06:45.543Z"
   },
   {
    "duration": 36,
    "start_time": "2022-12-24T03:07:10.873Z"
   },
   {
    "duration": 3,
    "start_time": "2022-12-24T03:07:12.873Z"
   },
   {
    "duration": 20,
    "start_time": "2022-12-24T03:07:18.793Z"
   },
   {
    "duration": 37,
    "start_time": "2022-12-24T03:07:32.523Z"
   },
   {
    "duration": 32,
    "start_time": "2022-12-24T03:07:50.552Z"
   },
   {
    "duration": 3,
    "start_time": "2022-12-24T03:07:51.682Z"
   },
   {
    "duration": 35,
    "start_time": "2022-12-24T03:08:01.073Z"
   },
   {
    "duration": 49,
    "start_time": "2022-12-24T03:08:28.702Z"
   },
   {
    "duration": 169,
    "start_time": "2022-12-24T03:36:33.352Z"
   },
   {
    "duration": 115,
    "start_time": "2022-12-24T03:36:46.751Z"
   },
   {
    "duration": 6,
    "start_time": "2022-12-24T03:42:29.431Z"
   },
   {
    "duration": 5,
    "start_time": "2022-12-24T03:52:43.873Z"
   },
   {
    "duration": 852,
    "start_time": "2022-12-24T04:07:36.997Z"
   },
   {
    "duration": 921,
    "start_time": "2022-12-24T04:08:02.798Z"
   },
   {
    "duration": 933,
    "start_time": "2022-12-24T04:10:21.830Z"
   },
   {
    "duration": 891,
    "start_time": "2022-12-24T04:10:56.341Z"
   },
   {
    "duration": 889,
    "start_time": "2022-12-24T04:11:08.567Z"
   },
   {
    "duration": 908,
    "start_time": "2022-12-24T04:11:36.350Z"
   },
   {
    "duration": 888,
    "start_time": "2022-12-24T04:12:08.089Z"
   },
   {
    "duration": 900,
    "start_time": "2022-12-24T04:16:25.131Z"
   },
   {
    "duration": 922,
    "start_time": "2022-12-24T04:16:55.537Z"
   },
   {
    "duration": 900,
    "start_time": "2022-12-24T04:20:07.017Z"
   },
   {
    "duration": 897,
    "start_time": "2022-12-24T04:20:15.267Z"
   },
   {
    "duration": 902,
    "start_time": "2022-12-24T04:20:23.646Z"
   },
   {
    "duration": 938,
    "start_time": "2022-12-24T04:22:45.289Z"
   },
   {
    "duration": 890,
    "start_time": "2022-12-24T04:23:23.787Z"
   },
   {
    "duration": 964,
    "start_time": "2022-12-24T04:23:41.479Z"
   },
   {
    "duration": 4,
    "start_time": "2022-12-24T04:28:26.940Z"
   },
   {
    "duration": 5,
    "start_time": "2022-12-24T04:29:32.230Z"
   },
   {
    "duration": 5,
    "start_time": "2022-12-24T04:30:45.440Z"
   },
   {
    "duration": 4,
    "start_time": "2022-12-24T04:31:21.859Z"
   },
   {
    "duration": 875,
    "start_time": "2022-12-24T04:31:37.449Z"
   },
   {
    "duration": 10,
    "start_time": "2022-12-24T04:32:19.649Z"
   },
   {
    "duration": 5,
    "start_time": "2022-12-24T04:32:50.540Z"
   },
   {
    "duration": 994,
    "start_time": "2022-12-24T04:32:51.718Z"
   },
   {
    "duration": 7,
    "start_time": "2022-12-24T04:33:40.129Z"
   },
   {
    "duration": 56,
    "start_time": "2022-12-24T04:36:24.769Z"
   },
   {
    "duration": 40,
    "start_time": "2022-12-24T04:36:43.277Z"
   },
   {
    "duration": 5,
    "start_time": "2022-12-24T04:37:03.480Z"
   },
   {
    "duration": 862,
    "start_time": "2022-12-24T04:37:05.879Z"
   },
   {
    "duration": 5,
    "start_time": "2022-12-24T04:37:21.729Z"
   },
   {
    "duration": 39,
    "start_time": "2022-12-24T04:38:10.788Z"
   },
   {
    "duration": 864,
    "start_time": "2022-12-24T04:39:27.928Z"
   },
   {
    "duration": 32,
    "start_time": "2022-12-24T04:40:29.408Z"
   },
   {
    "duration": 5,
    "start_time": "2022-12-24T04:43:10.179Z"
   },
   {
    "duration": 4,
    "start_time": "2022-12-24T04:43:40.918Z"
   },
   {
    "duration": 11,
    "start_time": "2022-12-24T04:44:06.558Z"
   },
   {
    "duration": 4,
    "start_time": "2022-12-24T04:44:16.809Z"
   },
   {
    "duration": 9,
    "start_time": "2022-12-24T04:44:43.728Z"
   },
   {
    "duration": 4,
    "start_time": "2022-12-24T04:45:15.668Z"
   },
   {
    "duration": 7,
    "start_time": "2022-12-24T04:45:17.698Z"
   },
   {
    "duration": 9,
    "start_time": "2022-12-24T04:46:06.078Z"
   },
   {
    "duration": 8,
    "start_time": "2022-12-24T04:46:42.767Z"
   },
   {
    "duration": 8,
    "start_time": "2022-12-24T04:47:20.359Z"
   },
   {
    "duration": 23,
    "start_time": "2022-12-24T04:47:31.749Z"
   },
   {
    "duration": 10,
    "start_time": "2022-12-24T04:47:51.477Z"
   },
   {
    "duration": 11,
    "start_time": "2022-12-24T04:48:08.668Z"
   },
   {
    "duration": 4,
    "start_time": "2022-12-24T04:54:23.952Z"
   },
   {
    "duration": 4,
    "start_time": "2022-12-24T04:54:25.720Z"
   },
   {
    "duration": 4,
    "start_time": "2022-12-24T04:54:46.868Z"
   },
   {
    "duration": 4,
    "start_time": "2022-12-24T04:54:47.809Z"
   },
   {
    "duration": 20,
    "start_time": "2022-12-24T04:55:23.328Z"
   },
   {
    "duration": 5,
    "start_time": "2022-12-24T04:55:38.291Z"
   },
   {
    "duration": 5,
    "start_time": "2022-12-24T04:55:39.309Z"
   },
   {
    "duration": 4,
    "start_time": "2022-12-24T04:57:22.180Z"
   },
   {
    "duration": 23,
    "start_time": "2022-12-24T05:00:07.420Z"
   },
   {
    "duration": 18,
    "start_time": "2022-12-24T05:02:05.520Z"
   },
   {
    "duration": 67,
    "start_time": "2022-12-24T05:02:35.240Z"
   },
   {
    "duration": 7,
    "start_time": "2022-12-24T05:02:44.830Z"
   },
   {
    "duration": 1053,
    "start_time": "2022-12-24T05:02:46.659Z"
   },
   {
    "duration": 6,
    "start_time": "2022-12-24T05:02:50.971Z"
   },
   {
    "duration": 48,
    "start_time": "2022-12-24T05:02:53.060Z"
   },
   {
    "duration": 886,
    "start_time": "2022-12-24T05:02:57.509Z"
   },
   {
    "duration": 193,
    "start_time": "2022-12-24T05:03:00.421Z"
   },
   {
    "duration": 4,
    "start_time": "2022-12-24T05:03:02.951Z"
   },
   {
    "duration": 11,
    "start_time": "2022-12-24T05:03:06.059Z"
   },
   {
    "duration": 155,
    "start_time": "2022-12-24T05:03:32.060Z"
   },
   {
    "duration": 16,
    "start_time": "2022-12-24T05:04:56.018Z"
   },
   {
    "duration": 7,
    "start_time": "2022-12-24T05:05:06.070Z"
   },
   {
    "duration": 23,
    "start_time": "2022-12-24T05:05:20.310Z"
   },
   {
    "duration": 15,
    "start_time": "2022-12-24T05:15:37.478Z"
   },
   {
    "duration": 5,
    "start_time": "2022-12-24T05:19:43.137Z"
   },
   {
    "duration": 184,
    "start_time": "2022-12-24T05:19:46.728Z"
   },
   {
    "duration": 124,
    "start_time": "2022-12-24T05:20:28.955Z"
   },
   {
    "duration": 1606,
    "start_time": "2022-12-24T05:25:14.289Z"
   },
   {
    "duration": 1540,
    "start_time": "2022-12-24T05:26:20.340Z"
   },
   {
    "duration": 8,
    "start_time": "2022-12-24T05:31:24.780Z"
   },
   {
    "duration": 475,
    "start_time": "2022-12-24T05:32:54.370Z"
   },
   {
    "duration": 2122,
    "start_time": "2022-12-24T05:38:32.100Z"
   },
   {
    "duration": 515,
    "start_time": "2022-12-24T05:38:39.678Z"
   },
   {
    "duration": 1654,
    "start_time": "2022-12-24T05:39:35.670Z"
   },
   {
    "duration": 58,
    "start_time": "2022-12-24T05:39:37.326Z"
   },
   {
    "duration": 8,
    "start_time": "2022-12-24T05:39:37.386Z"
   },
   {
    "duration": 17,
    "start_time": "2022-12-24T05:39:37.396Z"
   },
   {
    "duration": 8,
    "start_time": "2022-12-24T05:39:37.415Z"
   },
   {
    "duration": 15,
    "start_time": "2022-12-24T05:39:37.425Z"
   },
   {
    "duration": 5,
    "start_time": "2022-12-24T05:39:37.443Z"
   },
   {
    "duration": 22,
    "start_time": "2022-12-24T05:39:37.450Z"
   },
   {
    "duration": 69,
    "start_time": "2022-12-24T05:39:37.474Z"
   },
   {
    "duration": 11,
    "start_time": "2022-12-24T05:39:37.546Z"
   },
   {
    "duration": 42,
    "start_time": "2022-12-24T05:39:37.560Z"
   },
   {
    "duration": 0,
    "start_time": "2022-12-24T05:39:37.604Z"
   },
   {
    "duration": 0,
    "start_time": "2022-12-24T05:39:37.606Z"
   },
   {
    "duration": 0,
    "start_time": "2022-12-24T05:39:37.607Z"
   },
   {
    "duration": 0,
    "start_time": "2022-12-24T05:39:37.608Z"
   },
   {
    "duration": 0,
    "start_time": "2022-12-24T05:39:37.610Z"
   },
   {
    "duration": 0,
    "start_time": "2022-12-24T05:39:37.612Z"
   },
   {
    "duration": 0,
    "start_time": "2022-12-24T05:39:37.613Z"
   },
   {
    "duration": 0,
    "start_time": "2022-12-24T05:39:37.614Z"
   },
   {
    "duration": 0,
    "start_time": "2022-12-24T05:39:37.615Z"
   },
   {
    "duration": 0,
    "start_time": "2022-12-24T05:39:37.616Z"
   },
   {
    "duration": 0,
    "start_time": "2022-12-24T05:39:37.618Z"
   },
   {
    "duration": 0,
    "start_time": "2022-12-24T05:39:37.619Z"
   },
   {
    "duration": 0,
    "start_time": "2022-12-24T05:39:37.621Z"
   },
   {
    "duration": 0,
    "start_time": "2022-12-24T05:39:37.623Z"
   },
   {
    "duration": 0,
    "start_time": "2022-12-24T05:39:37.624Z"
   },
   {
    "duration": 0,
    "start_time": "2022-12-24T05:39:37.625Z"
   },
   {
    "duration": 0,
    "start_time": "2022-12-24T05:39:37.627Z"
   },
   {
    "duration": 0,
    "start_time": "2022-12-24T05:39:37.628Z"
   },
   {
    "duration": 0,
    "start_time": "2022-12-24T05:39:37.629Z"
   },
   {
    "duration": 0,
    "start_time": "2022-12-24T05:39:37.631Z"
   },
   {
    "duration": 0,
    "start_time": "2022-12-24T05:39:37.633Z"
   },
   {
    "duration": 0,
    "start_time": "2022-12-24T05:39:37.634Z"
   },
   {
    "duration": 0,
    "start_time": "2022-12-24T05:39:37.639Z"
   },
   {
    "duration": 1980,
    "start_time": "2022-12-24T05:40:40.592Z"
   },
   {
    "duration": 75,
    "start_time": "2022-12-24T05:40:42.575Z"
   },
   {
    "duration": 9,
    "start_time": "2022-12-24T05:40:42.652Z"
   },
   {
    "duration": 29,
    "start_time": "2022-12-24T05:40:42.663Z"
   },
   {
    "duration": 21,
    "start_time": "2022-12-24T05:40:42.696Z"
   },
   {
    "duration": 25,
    "start_time": "2022-12-24T05:40:42.720Z"
   },
   {
    "duration": 8,
    "start_time": "2022-12-24T05:40:42.748Z"
   },
   {
    "duration": 27,
    "start_time": "2022-12-24T05:40:42.759Z"
   },
   {
    "duration": 52,
    "start_time": "2022-12-24T05:40:42.793Z"
   },
   {
    "duration": 11,
    "start_time": "2022-12-24T05:40:42.847Z"
   },
   {
    "duration": 16,
    "start_time": "2022-12-24T05:40:42.863Z"
   },
   {
    "duration": 9,
    "start_time": "2022-12-24T05:40:42.885Z"
   },
   {
    "duration": 92,
    "start_time": "2022-12-24T05:40:42.897Z"
   },
   {
    "duration": 4,
    "start_time": "2022-12-24T05:40:42.994Z"
   },
   {
    "duration": 67,
    "start_time": "2022-12-24T05:40:43.000Z"
   },
   {
    "duration": 210,
    "start_time": "2022-12-24T05:40:43.070Z"
   },
   {
    "duration": 192,
    "start_time": "2022-12-24T05:40:43.283Z"
   },
   {
    "duration": 9,
    "start_time": "2022-12-24T05:40:43.478Z"
   },
   {
    "duration": 1425,
    "start_time": "2022-12-24T05:40:43.489Z"
   },
   {
    "duration": 7,
    "start_time": "2022-12-24T05:40:44.917Z"
   },
   {
    "duration": 112,
    "start_time": "2022-12-24T05:40:44.926Z"
   },
   {
    "duration": 1231,
    "start_time": "2022-12-24T05:40:45.040Z"
   },
   {
    "duration": 242,
    "start_time": "2022-12-24T05:40:46.273Z"
   },
   {
    "duration": 6,
    "start_time": "2022-12-24T05:40:46.517Z"
   },
   {
    "duration": 28,
    "start_time": "2022-12-24T05:40:46.525Z"
   },
   {
    "duration": 24,
    "start_time": "2022-12-24T05:40:46.555Z"
   },
   {
    "duration": 41,
    "start_time": "2022-12-24T05:40:46.581Z"
   },
   {
    "duration": 13,
    "start_time": "2022-12-24T05:40:46.624Z"
   },
   {
    "duration": 189,
    "start_time": "2022-12-24T05:40:46.639Z"
   },
   {
    "duration": 6,
    "start_time": "2022-12-24T05:40:46.831Z"
   },
   {
    "duration": 182,
    "start_time": "2022-12-24T05:40:46.838Z"
   },
   {
    "duration": 2490,
    "start_time": "2022-12-24T05:40:47.022Z"
   },
   {
    "duration": 201,
    "start_time": "2022-12-24T05:40:49.514Z"
   },
   {
    "duration": 1,
    "start_time": "2022-12-24T05:40:49.716Z"
   },
   {
    "duration": 1485,
    "start_time": "2022-12-24T05:44:38.450Z"
   },
   {
    "duration": 55,
    "start_time": "2022-12-24T05:44:39.938Z"
   },
   {
    "duration": 7,
    "start_time": "2022-12-24T05:44:39.995Z"
   },
   {
    "duration": 40,
    "start_time": "2022-12-24T05:44:40.004Z"
   },
   {
    "duration": 7,
    "start_time": "2022-12-24T05:44:40.048Z"
   },
   {
    "duration": 16,
    "start_time": "2022-12-24T05:44:40.057Z"
   },
   {
    "duration": 6,
    "start_time": "2022-12-24T05:44:40.075Z"
   },
   {
    "duration": 29,
    "start_time": "2022-12-24T05:44:40.083Z"
   },
   {
    "duration": 39,
    "start_time": "2022-12-24T05:44:40.114Z"
   },
   {
    "duration": 9,
    "start_time": "2022-12-24T05:44:40.155Z"
   },
   {
    "duration": 22,
    "start_time": "2022-12-24T05:44:40.166Z"
   },
   {
    "duration": 13,
    "start_time": "2022-12-24T05:44:40.189Z"
   },
   {
    "duration": 48,
    "start_time": "2022-12-24T05:44:40.204Z"
   },
   {
    "duration": 4,
    "start_time": "2022-12-24T05:44:40.255Z"
   },
   {
    "duration": 57,
    "start_time": "2022-12-24T05:44:40.261Z"
   },
   {
    "duration": 180,
    "start_time": "2022-12-24T05:44:40.320Z"
   },
   {
    "duration": 152,
    "start_time": "2022-12-24T05:44:40.502Z"
   },
   {
    "duration": 7,
    "start_time": "2022-12-24T05:44:40.656Z"
   },
   {
    "duration": 1050,
    "start_time": "2022-12-24T05:44:40.665Z"
   },
   {
    "duration": 7,
    "start_time": "2022-12-24T05:44:41.721Z"
   },
   {
    "duration": 47,
    "start_time": "2022-12-24T05:44:41.738Z"
   },
   {
    "duration": 901,
    "start_time": "2022-12-24T05:44:41.814Z"
   },
   {
    "duration": 28,
    "start_time": "2022-12-24T05:44:42.717Z"
   },
   {
    "duration": 123,
    "start_time": "2022-12-24T05:44:42.812Z"
   },
   {
    "duration": 10,
    "start_time": "2022-12-24T05:44:42.937Z"
   },
   {
    "duration": 8,
    "start_time": "2022-12-24T05:44:42.949Z"
   },
   {
    "duration": 8,
    "start_time": "2022-12-24T05:44:42.958Z"
   },
   {
    "duration": 4,
    "start_time": "2022-12-24T05:44:42.967Z"
   },
   {
    "duration": 141,
    "start_time": "2022-12-24T05:44:42.973Z"
   },
   {
    "duration": 8,
    "start_time": "2022-12-24T05:44:43.115Z"
   },
   {
    "duration": 143,
    "start_time": "2022-12-24T05:44:43.125Z"
   },
   {
    "duration": 1854,
    "start_time": "2022-12-24T05:44:43.270Z"
   },
   {
    "duration": 6,
    "start_time": "2022-12-24T05:44:45.130Z"
   },
   {
    "duration": 0,
    "start_time": "2022-12-24T05:44:45.138Z"
   },
   {
    "duration": 9,
    "start_time": "2022-12-24T05:47:14.752Z"
   },
   {
    "duration": 1395,
    "start_time": "2022-12-24T05:54:47.641Z"
   },
   {
    "duration": 59,
    "start_time": "2022-12-24T05:54:49.038Z"
   },
   {
    "duration": 7,
    "start_time": "2022-12-24T05:54:49.099Z"
   },
   {
    "duration": 17,
    "start_time": "2022-12-24T05:54:49.108Z"
   },
   {
    "duration": 8,
    "start_time": "2022-12-24T05:54:49.127Z"
   },
   {
    "duration": 23,
    "start_time": "2022-12-24T05:54:49.137Z"
   },
   {
    "duration": 8,
    "start_time": "2022-12-24T05:54:49.162Z"
   },
   {
    "duration": 41,
    "start_time": "2022-12-24T05:54:49.173Z"
   },
   {
    "duration": 27,
    "start_time": "2022-12-24T05:54:49.216Z"
   },
   {
    "duration": 12,
    "start_time": "2022-12-24T05:54:49.245Z"
   },
   {
    "duration": 11,
    "start_time": "2022-12-24T05:54:49.259Z"
   },
   {
    "duration": 20,
    "start_time": "2022-12-24T05:54:49.272Z"
   },
   {
    "duration": 54,
    "start_time": "2022-12-24T05:54:49.294Z"
   },
   {
    "duration": 6,
    "start_time": "2022-12-24T05:54:49.352Z"
   },
   {
    "duration": 61,
    "start_time": "2022-12-24T05:54:49.359Z"
   },
   {
    "duration": 148,
    "start_time": "2022-12-24T05:54:49.422Z"
   },
   {
    "duration": 113,
    "start_time": "2022-12-24T05:54:49.572Z"
   },
   {
    "duration": 5,
    "start_time": "2022-12-24T05:54:49.686Z"
   },
   {
    "duration": 830,
    "start_time": "2022-12-24T05:54:49.692Z"
   },
   {
    "duration": 91,
    "start_time": "2022-12-24T05:54:50.524Z"
   },
   {
    "duration": 132,
    "start_time": "2022-12-24T05:54:50.616Z"
   },
   {
    "duration": 826,
    "start_time": "2022-12-24T05:54:50.750Z"
   },
   {
    "duration": 40,
    "start_time": "2022-12-24T05:54:51.577Z"
   },
   {
    "duration": 3,
    "start_time": "2022-12-24T05:54:51.619Z"
   },
   {
    "duration": 101,
    "start_time": "2022-12-24T05:54:51.713Z"
   },
   {
    "duration": 12,
    "start_time": "2022-12-24T05:54:51.815Z"
   },
   {
    "duration": 22,
    "start_time": "2022-12-24T05:54:51.829Z"
   },
   {
    "duration": 13,
    "start_time": "2022-12-24T05:54:51.852Z"
   },
   {
    "duration": 132,
    "start_time": "2022-12-24T05:54:51.866Z"
   },
   {
    "duration": 14,
    "start_time": "2022-12-24T05:54:52.000Z"
   },
   {
    "duration": 129,
    "start_time": "2022-12-24T05:54:52.016Z"
   },
   {
    "duration": 1601,
    "start_time": "2022-12-24T05:54:52.147Z"
   },
   {
    "duration": 6,
    "start_time": "2022-12-24T05:54:53.750Z"
   },
   {
    "duration": 0,
    "start_time": "2022-12-24T05:54:53.758Z"
   },
   {
    "duration": 1396,
    "start_time": "2022-12-24T05:59:12.942Z"
   },
   {
    "duration": 57,
    "start_time": "2022-12-24T05:59:14.341Z"
   },
   {
    "duration": 6,
    "start_time": "2022-12-24T05:59:14.400Z"
   },
   {
    "duration": 29,
    "start_time": "2022-12-24T05:59:14.407Z"
   },
   {
    "duration": 14,
    "start_time": "2022-12-24T05:59:14.439Z"
   },
   {
    "duration": 18,
    "start_time": "2022-12-24T05:59:14.455Z"
   },
   {
    "duration": 7,
    "start_time": "2022-12-24T05:59:14.476Z"
   },
   {
    "duration": 27,
    "start_time": "2022-12-24T05:59:14.484Z"
   },
   {
    "duration": 39,
    "start_time": "2022-12-24T05:59:14.512Z"
   },
   {
    "duration": 10,
    "start_time": "2022-12-24T05:59:14.552Z"
   },
   {
    "duration": 8,
    "start_time": "2022-12-24T05:59:14.564Z"
   },
   {
    "duration": 14,
    "start_time": "2022-12-24T05:59:14.574Z"
   },
   {
    "duration": 43,
    "start_time": "2022-12-24T05:59:14.589Z"
   },
   {
    "duration": 3,
    "start_time": "2022-12-24T05:59:14.636Z"
   },
   {
    "duration": 48,
    "start_time": "2022-12-24T05:59:14.641Z"
   },
   {
    "duration": 157,
    "start_time": "2022-12-24T05:59:14.691Z"
   },
   {
    "duration": 152,
    "start_time": "2022-12-24T05:59:14.850Z"
   },
   {
    "duration": 8,
    "start_time": "2022-12-24T05:59:15.005Z"
   },
   {
    "duration": 998,
    "start_time": "2022-12-24T05:59:15.014Z"
   },
   {
    "duration": 6,
    "start_time": "2022-12-24T05:59:16.014Z"
   },
   {
    "duration": 49,
    "start_time": "2022-12-24T05:59:16.111Z"
   },
   {
    "duration": 943,
    "start_time": "2022-12-24T05:59:16.162Z"
   },
   {
    "duration": 106,
    "start_time": "2022-12-24T05:59:17.107Z"
   },
   {
    "duration": 5,
    "start_time": "2022-12-24T05:59:17.215Z"
   },
   {
    "duration": 103,
    "start_time": "2022-12-24T05:59:17.221Z"
   },
   {
    "duration": 7,
    "start_time": "2022-12-24T05:59:17.326Z"
   },
   {
    "duration": 8,
    "start_time": "2022-12-24T05:59:17.335Z"
   },
   {
    "duration": 5,
    "start_time": "2022-12-24T05:59:17.344Z"
   },
   {
    "duration": 130,
    "start_time": "2022-12-24T05:59:17.350Z"
   },
   {
    "duration": 5,
    "start_time": "2022-12-24T05:59:17.482Z"
   },
   {
    "duration": 137,
    "start_time": "2022-12-24T05:59:17.489Z"
   },
   {
    "duration": 1732,
    "start_time": "2022-12-24T05:59:17.628Z"
   },
   {
    "duration": 153602,
    "start_time": "2022-12-24T05:59:19.362Z"
   },
   {
    "duration": 3,
    "start_time": "2022-12-24T06:01:52.967Z"
   },
   {
    "duration": 1691,
    "start_time": "2022-12-24T06:59:39.739Z"
   },
   {
    "duration": 85,
    "start_time": "2022-12-24T06:59:41.434Z"
   },
   {
    "duration": 14,
    "start_time": "2022-12-24T06:59:41.522Z"
   },
   {
    "duration": 28,
    "start_time": "2022-12-24T06:59:41.539Z"
   },
   {
    "duration": 8,
    "start_time": "2022-12-24T06:59:41.571Z"
   },
   {
    "duration": 36,
    "start_time": "2022-12-24T06:59:41.581Z"
   },
   {
    "duration": 6,
    "start_time": "2022-12-24T06:59:41.620Z"
   },
   {
    "duration": 37,
    "start_time": "2022-12-24T06:59:41.628Z"
   },
   {
    "duration": 34,
    "start_time": "2022-12-24T06:59:41.667Z"
   },
   {
    "duration": 17,
    "start_time": "2022-12-24T06:59:41.703Z"
   },
   {
    "duration": 30,
    "start_time": "2022-12-24T06:59:41.722Z"
   },
   {
    "duration": 9,
    "start_time": "2022-12-24T06:59:41.755Z"
   },
   {
    "duration": 54,
    "start_time": "2022-12-24T06:59:41.766Z"
   },
   {
    "duration": 3,
    "start_time": "2022-12-24T06:59:41.827Z"
   },
   {
    "duration": 71,
    "start_time": "2022-12-24T06:59:41.832Z"
   },
   {
    "duration": 182,
    "start_time": "2022-12-24T06:59:41.912Z"
   },
   {
    "duration": 186,
    "start_time": "2022-12-24T06:59:42.096Z"
   },
   {
    "duration": 6,
    "start_time": "2022-12-24T06:59:42.284Z"
   },
   {
    "duration": 1022,
    "start_time": "2022-12-24T06:59:42.292Z"
   },
   {
    "duration": 7,
    "start_time": "2022-12-24T06:59:43.316Z"
   },
   {
    "duration": 163,
    "start_time": "2022-12-24T06:59:43.325Z"
   },
   {
    "duration": 986,
    "start_time": "2022-12-24T06:59:43.513Z"
   },
   {
    "duration": 115,
    "start_time": "2022-12-24T06:59:44.502Z"
   },
   {
    "duration": 117,
    "start_time": "2022-12-24T06:59:44.619Z"
   },
   {
    "duration": 12,
    "start_time": "2022-12-24T06:59:44.738Z"
   },
   {
    "duration": 10,
    "start_time": "2022-12-24T06:59:44.752Z"
   },
   {
    "duration": 7,
    "start_time": "2022-12-24T06:59:44.765Z"
   },
   {
    "duration": 4,
    "start_time": "2022-12-24T06:59:44.775Z"
   },
   {
    "duration": 162,
    "start_time": "2022-12-24T06:59:44.781Z"
   },
   {
    "duration": 5,
    "start_time": "2022-12-24T06:59:44.945Z"
   },
   {
    "duration": 144,
    "start_time": "2022-12-24T06:59:44.952Z"
   },
   {
    "duration": 1960,
    "start_time": "2022-12-24T06:59:45.098Z"
   },
   {
    "duration": 45,
    "start_time": "2022-12-24T06:59:47.059Z"
   },
   {
    "duration": 0,
    "start_time": "2022-12-24T06:59:47.107Z"
   },
   {
    "duration": 1666,
    "start_time": "2022-12-24T07:23:25.198Z"
   },
   {
    "duration": 61,
    "start_time": "2022-12-24T07:23:26.867Z"
   },
   {
    "duration": 8,
    "start_time": "2022-12-24T07:23:26.932Z"
   },
   {
    "duration": 29,
    "start_time": "2022-12-24T07:23:26.941Z"
   },
   {
    "duration": 7,
    "start_time": "2022-12-24T07:23:26.972Z"
   },
   {
    "duration": 26,
    "start_time": "2022-12-24T07:23:26.981Z"
   },
   {
    "duration": 26,
    "start_time": "2022-12-24T07:23:27.009Z"
   },
   {
    "duration": 20,
    "start_time": "2022-12-24T07:23:27.037Z"
   },
   {
    "duration": 40,
    "start_time": "2022-12-24T07:23:27.059Z"
   },
   {
    "duration": 13,
    "start_time": "2022-12-24T07:23:27.112Z"
   },
   {
    "duration": 21,
    "start_time": "2022-12-24T07:23:27.127Z"
   },
   {
    "duration": 5,
    "start_time": "2022-12-24T07:23:27.151Z"
   },
   {
    "duration": 77,
    "start_time": "2022-12-24T07:23:27.158Z"
   },
   {
    "duration": 3,
    "start_time": "2022-12-24T07:23:27.239Z"
   },
   {
    "duration": 109,
    "start_time": "2022-12-24T07:23:27.244Z"
   },
   {
    "duration": 179,
    "start_time": "2022-12-24T07:23:27.356Z"
   },
   {
    "duration": 140,
    "start_time": "2022-12-24T07:23:27.537Z"
   },
   {
    "duration": 5,
    "start_time": "2022-12-24T07:23:27.679Z"
   },
   {
    "duration": 936,
    "start_time": "2022-12-24T07:23:27.686Z"
   },
   {
    "duration": 7,
    "start_time": "2022-12-24T07:23:28.624Z"
   },
   {
    "duration": 112,
    "start_time": "2022-12-24T07:23:28.711Z"
   },
   {
    "duration": 909,
    "start_time": "2022-12-24T07:23:28.825Z"
   },
   {
    "duration": 80,
    "start_time": "2022-12-24T07:23:29.738Z"
   },
   {
    "duration": 4,
    "start_time": "2022-12-24T07:23:29.820Z"
   },
   {
    "duration": 110,
    "start_time": "2022-12-24T07:23:29.828Z"
   },
   {
    "duration": 8,
    "start_time": "2022-12-24T07:23:29.940Z"
   },
   {
    "duration": 8,
    "start_time": "2022-12-24T07:23:29.950Z"
   },
   {
    "duration": 5,
    "start_time": "2022-12-24T07:23:29.960Z"
   },
   {
    "duration": 135,
    "start_time": "2022-12-24T07:23:29.966Z"
   },
   {
    "duration": 19,
    "start_time": "2022-12-24T07:23:30.112Z"
   },
   {
    "duration": 143,
    "start_time": "2022-12-24T07:23:30.133Z"
   },
   {
    "duration": 1785,
    "start_time": "2022-12-24T07:23:30.278Z"
   },
   {
    "duration": 155168,
    "start_time": "2022-12-24T07:23:32.065Z"
   },
   {
    "duration": 2,
    "start_time": "2022-12-24T07:26:07.235Z"
   },
   {
    "duration": 134,
    "start_time": "2022-12-24T07:34:15.672Z"
   },
   {
    "duration": 49,
    "start_time": "2022-12-24T07:46:54.046Z"
   },
   {
    "duration": 12,
    "start_time": "2022-12-24T07:47:36.487Z"
   },
   {
    "duration": 1608,
    "start_time": "2022-12-24T07:52:03.476Z"
   },
   {
    "duration": 74,
    "start_time": "2022-12-24T07:52:05.087Z"
   },
   {
    "duration": 10,
    "start_time": "2022-12-24T07:52:05.163Z"
   },
   {
    "duration": 54,
    "start_time": "2022-12-24T07:52:05.175Z"
   },
   {
    "duration": 59,
    "start_time": "2022-12-24T07:52:05.231Z"
   },
   {
    "duration": 53,
    "start_time": "2022-12-24T07:52:05.292Z"
   },
   {
    "duration": 5,
    "start_time": "2022-12-24T07:52:05.347Z"
   },
   {
    "duration": 79,
    "start_time": "2022-12-24T07:52:05.354Z"
   },
   {
    "duration": 42,
    "start_time": "2022-12-24T07:52:05.436Z"
   },
   {
    "duration": 10,
    "start_time": "2022-12-24T07:52:05.481Z"
   },
   {
    "duration": 19,
    "start_time": "2022-12-24T07:52:05.493Z"
   },
   {
    "duration": 21,
    "start_time": "2022-12-24T07:52:05.515Z"
   },
   {
    "duration": 41,
    "start_time": "2022-12-24T07:52:05.538Z"
   },
   {
    "duration": 3,
    "start_time": "2022-12-24T07:52:05.581Z"
   },
   {
    "duration": 52,
    "start_time": "2022-12-24T07:52:05.586Z"
   },
   {
    "duration": 155,
    "start_time": "2022-12-24T07:52:05.640Z"
   },
   {
    "duration": 161,
    "start_time": "2022-12-24T07:52:05.797Z"
   },
   {
    "duration": 4,
    "start_time": "2022-12-24T07:52:05.960Z"
   },
   {
    "duration": 1149,
    "start_time": "2022-12-24T07:52:05.966Z"
   },
   {
    "duration": 99,
    "start_time": "2022-12-24T07:52:07.117Z"
   },
   {
    "duration": 86,
    "start_time": "2022-12-24T07:52:07.218Z"
   },
   {
    "duration": 999,
    "start_time": "2022-12-24T07:52:07.306Z"
   },
   {
    "duration": 32,
    "start_time": "2022-12-24T07:52:08.307Z"
   },
   {
    "duration": 104,
    "start_time": "2022-12-24T07:52:08.413Z"
   },
   {
    "duration": 24,
    "start_time": "2022-12-24T07:52:08.520Z"
   },
   {
    "duration": 9,
    "start_time": "2022-12-24T07:52:08.546Z"
   },
   {
    "duration": 10,
    "start_time": "2022-12-24T07:52:08.556Z"
   },
   {
    "duration": 5,
    "start_time": "2022-12-24T07:52:08.569Z"
   },
   {
    "duration": 124,
    "start_time": "2022-12-24T07:52:08.575Z"
   },
   {
    "duration": 16,
    "start_time": "2022-12-24T07:52:08.701Z"
   },
   {
    "duration": 136,
    "start_time": "2022-12-24T07:52:08.726Z"
   },
   {
    "duration": 1761,
    "start_time": "2022-12-24T07:52:08.864Z"
   },
   {
    "duration": 154754,
    "start_time": "2022-12-24T07:52:10.627Z"
   },
   {
    "duration": 0,
    "start_time": "2022-12-24T07:54:45.383Z"
   },
   {
    "duration": 1445,
    "start_time": "2022-12-24T07:57:26.925Z"
   },
   {
    "duration": 78,
    "start_time": "2022-12-24T07:57:28.372Z"
   },
   {
    "duration": 6,
    "start_time": "2022-12-24T07:57:28.451Z"
   },
   {
    "duration": 23,
    "start_time": "2022-12-24T07:57:28.459Z"
   },
   {
    "duration": 8,
    "start_time": "2022-12-24T07:57:28.485Z"
   },
   {
    "duration": 28,
    "start_time": "2022-12-24T07:57:28.495Z"
   },
   {
    "duration": 5,
    "start_time": "2022-12-24T07:57:28.526Z"
   },
   {
    "duration": 19,
    "start_time": "2022-12-24T07:57:28.533Z"
   },
   {
    "duration": 27,
    "start_time": "2022-12-24T07:57:28.553Z"
   },
   {
    "duration": 30,
    "start_time": "2022-12-24T07:57:28.582Z"
   },
   {
    "duration": 8,
    "start_time": "2022-12-24T07:57:28.614Z"
   },
   {
    "duration": 8,
    "start_time": "2022-12-24T07:57:28.624Z"
   },
   {
    "duration": 37,
    "start_time": "2022-12-24T07:57:28.634Z"
   },
   {
    "duration": 3,
    "start_time": "2022-12-24T07:57:28.674Z"
   },
   {
    "duration": 69,
    "start_time": "2022-12-24T07:57:28.679Z"
   },
   {
    "duration": 151,
    "start_time": "2022-12-24T07:57:28.750Z"
   },
   {
    "duration": 141,
    "start_time": "2022-12-24T07:57:28.903Z"
   },
   {
    "duration": 5,
    "start_time": "2022-12-24T07:57:29.045Z"
   },
   {
    "duration": 969,
    "start_time": "2022-12-24T07:57:29.053Z"
   },
   {
    "duration": 8,
    "start_time": "2022-12-24T07:57:30.114Z"
   },
   {
    "duration": 48,
    "start_time": "2022-12-24T07:57:30.124Z"
   },
   {
    "duration": 963,
    "start_time": "2022-12-24T07:57:30.174Z"
   },
   {
    "duration": 74,
    "start_time": "2022-12-24T07:57:31.139Z"
   },
   {
    "duration": 7,
    "start_time": "2022-12-24T07:57:31.218Z"
   },
   {
    "duration": 91,
    "start_time": "2022-12-24T07:57:31.227Z"
   },
   {
    "duration": 29,
    "start_time": "2022-12-24T07:57:31.321Z"
   },
   {
    "duration": 14,
    "start_time": "2022-12-24T07:57:31.352Z"
   },
   {
    "duration": 15,
    "start_time": "2022-12-24T07:57:31.368Z"
   },
   {
    "duration": 147,
    "start_time": "2022-12-24T07:57:31.384Z"
   },
   {
    "duration": 4,
    "start_time": "2022-12-24T07:57:31.533Z"
   },
   {
    "duration": 135,
    "start_time": "2022-12-24T07:57:31.539Z"
   },
   {
    "duration": 1740,
    "start_time": "2022-12-24T07:57:31.676Z"
   },
   {
    "duration": 12895,
    "start_time": "2022-12-24T07:57:33.418Z"
   },
   {
    "duration": 0,
    "start_time": "2022-12-24T07:57:46.316Z"
   },
   {
    "duration": 1553,
    "start_time": "2022-12-24T07:58:18.385Z"
   },
   {
    "duration": 59,
    "start_time": "2022-12-24T07:58:19.940Z"
   },
   {
    "duration": 6,
    "start_time": "2022-12-24T07:58:20.000Z"
   },
   {
    "duration": 38,
    "start_time": "2022-12-24T07:58:20.008Z"
   },
   {
    "duration": 8,
    "start_time": "2022-12-24T07:58:20.048Z"
   },
   {
    "duration": 18,
    "start_time": "2022-12-24T07:58:20.057Z"
   },
   {
    "duration": 4,
    "start_time": "2022-12-24T07:58:20.077Z"
   },
   {
    "duration": 30,
    "start_time": "2022-12-24T07:58:20.083Z"
   },
   {
    "duration": 40,
    "start_time": "2022-12-24T07:58:20.116Z"
   },
   {
    "duration": 19,
    "start_time": "2022-12-24T07:58:20.158Z"
   },
   {
    "duration": 7,
    "start_time": "2022-12-24T07:58:20.179Z"
   },
   {
    "duration": 25,
    "start_time": "2022-12-24T07:58:20.188Z"
   },
   {
    "duration": 57,
    "start_time": "2022-12-24T07:58:20.216Z"
   },
   {
    "duration": 3,
    "start_time": "2022-12-24T07:58:20.277Z"
   },
   {
    "duration": 44,
    "start_time": "2022-12-24T07:58:20.282Z"
   },
   {
    "duration": 151,
    "start_time": "2022-12-24T07:58:20.328Z"
   },
   {
    "duration": 142,
    "start_time": "2022-12-24T07:58:20.480Z"
   },
   {
    "duration": 7,
    "start_time": "2022-12-24T07:58:20.625Z"
   },
   {
    "duration": 979,
    "start_time": "2022-12-24T07:58:20.634Z"
   },
   {
    "duration": 6,
    "start_time": "2022-12-24T07:58:21.615Z"
   },
   {
    "duration": 138,
    "start_time": "2022-12-24T07:58:21.627Z"
   },
   {
    "duration": 926,
    "start_time": "2022-12-24T07:58:21.767Z"
   },
   {
    "duration": 43,
    "start_time": "2022-12-24T07:58:22.695Z"
   },
   {
    "duration": 5,
    "start_time": "2022-12-24T07:58:22.913Z"
   },
   {
    "duration": 32,
    "start_time": "2022-12-24T07:58:22.920Z"
   },
   {
    "duration": 17,
    "start_time": "2022-12-24T07:58:22.954Z"
   },
   {
    "duration": 12,
    "start_time": "2022-12-24T07:58:22.973Z"
   },
   {
    "duration": 11,
    "start_time": "2022-12-24T07:58:22.987Z"
   },
   {
    "duration": 156,
    "start_time": "2022-12-24T07:58:23.000Z"
   },
   {
    "duration": 5,
    "start_time": "2022-12-24T07:58:23.158Z"
   },
   {
    "duration": 134,
    "start_time": "2022-12-24T07:58:23.164Z"
   },
   {
    "duration": 1806,
    "start_time": "2022-12-24T07:58:23.300Z"
   },
   {
    "duration": 156149,
    "start_time": "2022-12-24T07:58:25.113Z"
   },
   {
    "duration": 3,
    "start_time": "2022-12-24T08:01:01.264Z"
   },
   {
    "duration": 10,
    "start_time": "2022-12-24T08:02:51.456Z"
   },
   {
    "duration": 74,
    "start_time": "2022-12-24T08:14:01.399Z"
   },
   {
    "duration": 127,
    "start_time": "2022-12-24T08:14:26.790Z"
   },
   {
    "duration": 66,
    "start_time": "2022-12-24T08:14:46.298Z"
   },
   {
    "duration": 2021,
    "start_time": "2022-12-24T08:15:13.638Z"
   },
   {
    "duration": 2111,
    "start_time": "2022-12-24T08:16:46.641Z"
   },
   {
    "duration": 1298,
    "start_time": "2022-12-24T08:17:24.649Z"
   },
   {
    "duration": 2222,
    "start_time": "2022-12-24T08:21:00.733Z"
   },
   {
    "duration": 1408,
    "start_time": "2022-12-24T08:22:26.111Z"
   },
   {
    "duration": 56,
    "start_time": "2022-12-24T08:22:27.521Z"
   },
   {
    "duration": 6,
    "start_time": "2022-12-24T08:22:27.578Z"
   },
   {
    "duration": 18,
    "start_time": "2022-12-24T08:22:27.586Z"
   },
   {
    "duration": 7,
    "start_time": "2022-12-24T08:22:27.606Z"
   },
   {
    "duration": 21,
    "start_time": "2022-12-24T08:22:27.614Z"
   },
   {
    "duration": 5,
    "start_time": "2022-12-24T08:22:27.636Z"
   },
   {
    "duration": 70,
    "start_time": "2022-12-24T08:22:27.642Z"
   },
   {
    "duration": 41,
    "start_time": "2022-12-24T08:22:27.714Z"
   },
   {
    "duration": 10,
    "start_time": "2022-12-24T08:22:27.759Z"
   },
   {
    "duration": 33,
    "start_time": "2022-12-24T08:22:27.771Z"
   },
   {
    "duration": 14,
    "start_time": "2022-12-24T08:22:27.806Z"
   },
   {
    "duration": 52,
    "start_time": "2022-12-24T08:22:27.822Z"
   },
   {
    "duration": 30,
    "start_time": "2022-12-24T08:22:27.876Z"
   },
   {
    "duration": 63,
    "start_time": "2022-12-24T08:22:27.908Z"
   },
   {
    "duration": 123,
    "start_time": "2022-12-24T08:22:27.973Z"
   },
   {
    "duration": 129,
    "start_time": "2022-12-24T08:22:28.098Z"
   },
   {
    "duration": 4,
    "start_time": "2022-12-24T08:22:28.229Z"
   },
   {
    "duration": 834,
    "start_time": "2022-12-24T08:22:28.235Z"
   },
   {
    "duration": 6,
    "start_time": "2022-12-24T08:22:29.115Z"
   },
   {
    "duration": 134,
    "start_time": "2022-12-24T08:22:29.122Z"
   },
   {
    "duration": 870,
    "start_time": "2022-12-24T08:22:29.258Z"
   },
   {
    "duration": 86,
    "start_time": "2022-12-24T08:22:30.129Z"
   },
   {
    "duration": 96,
    "start_time": "2022-12-24T08:22:30.217Z"
   },
   {
    "duration": 26,
    "start_time": "2022-12-24T08:22:30.315Z"
   },
   {
    "duration": 18,
    "start_time": "2022-12-24T08:22:30.343Z"
   },
   {
    "duration": 36,
    "start_time": "2022-12-24T08:22:30.364Z"
   },
   {
    "duration": 49,
    "start_time": "2022-12-24T08:22:30.403Z"
   },
   {
    "duration": 174,
    "start_time": "2022-12-24T08:22:30.454Z"
   },
   {
    "duration": 4,
    "start_time": "2022-12-24T08:22:30.629Z"
   },
   {
    "duration": 123,
    "start_time": "2022-12-24T08:22:30.635Z"
   },
   {
    "duration": 1634,
    "start_time": "2022-12-24T08:22:30.760Z"
   },
   {
    "duration": 197,
    "start_time": "2022-12-24T08:22:32.396Z"
   },
   {
    "duration": 0,
    "start_time": "2022-12-24T08:22:32.595Z"
   },
   {
    "duration": 0,
    "start_time": "2022-12-24T08:22:32.596Z"
   },
   {
    "duration": 0,
    "start_time": "2022-12-24T08:22:32.597Z"
   },
   {
    "duration": 0,
    "start_time": "2022-12-24T08:22:32.599Z"
   },
   {
    "duration": 1476,
    "start_time": "2022-12-24T08:23:55.820Z"
   },
   {
    "duration": 57,
    "start_time": "2022-12-24T08:23:57.299Z"
   },
   {
    "duration": 7,
    "start_time": "2022-12-24T08:23:57.358Z"
   },
   {
    "duration": 18,
    "start_time": "2022-12-24T08:23:57.367Z"
   },
   {
    "duration": 7,
    "start_time": "2022-12-24T08:23:57.387Z"
   },
   {
    "duration": 23,
    "start_time": "2022-12-24T08:23:57.396Z"
   },
   {
    "duration": 5,
    "start_time": "2022-12-24T08:23:57.421Z"
   },
   {
    "duration": 19,
    "start_time": "2022-12-24T08:23:57.427Z"
   },
   {
    "duration": 24,
    "start_time": "2022-12-24T08:23:57.447Z"
   },
   {
    "duration": 40,
    "start_time": "2022-12-24T08:23:57.475Z"
   },
   {
    "duration": 9,
    "start_time": "2022-12-24T08:23:57.517Z"
   },
   {
    "duration": 27,
    "start_time": "2022-12-24T08:23:57.528Z"
   },
   {
    "duration": 44,
    "start_time": "2022-12-24T08:23:57.557Z"
   },
   {
    "duration": 3,
    "start_time": "2022-12-24T08:23:57.605Z"
   },
   {
    "duration": 63,
    "start_time": "2022-12-24T08:23:57.609Z"
   },
   {
    "duration": 123,
    "start_time": "2022-12-24T08:23:57.673Z"
   },
   {
    "duration": 132,
    "start_time": "2022-12-24T08:23:57.797Z"
   },
   {
    "duration": 4,
    "start_time": "2022-12-24T08:23:57.931Z"
   },
   {
    "duration": 892,
    "start_time": "2022-12-24T08:23:57.938Z"
   },
   {
    "duration": 79,
    "start_time": "2022-12-24T08:23:58.832Z"
   },
   {
    "duration": 128,
    "start_time": "2022-12-24T08:23:58.913Z"
   },
   {
    "duration": 864,
    "start_time": "2022-12-24T08:23:59.043Z"
   },
   {
    "duration": 107,
    "start_time": "2022-12-24T08:23:59.911Z"
   },
   {
    "duration": 92,
    "start_time": "2022-12-24T08:24:00.020Z"
   },
   {
    "duration": 23,
    "start_time": "2022-12-24T08:24:00.115Z"
   },
   {
    "duration": 12,
    "start_time": "2022-12-24T08:24:00.140Z"
   },
   {
    "duration": 17,
    "start_time": "2022-12-24T08:24:00.153Z"
   },
   {
    "duration": 10,
    "start_time": "2022-12-24T08:24:00.173Z"
   },
   {
    "duration": 140,
    "start_time": "2022-12-24T08:24:00.185Z"
   },
   {
    "duration": 5,
    "start_time": "2022-12-24T08:24:00.327Z"
   },
   {
    "duration": 134,
    "start_time": "2022-12-24T08:24:00.333Z"
   },
   {
    "duration": 1684,
    "start_time": "2022-12-24T08:24:00.468Z"
   },
   {
    "duration": 952,
    "start_time": "2022-12-24T08:24:02.154Z"
   },
   {
    "duration": 63,
    "start_time": "2022-12-24T08:24:03.108Z"
   },
   {
    "duration": 0,
    "start_time": "2022-12-24T08:24:03.173Z"
   },
   {
    "duration": 0,
    "start_time": "2022-12-24T08:24:03.175Z"
   },
   {
    "duration": 0,
    "start_time": "2022-12-24T08:24:03.177Z"
   },
   {
    "duration": 1457,
    "start_time": "2022-12-24T08:25:36.798Z"
   },
   {
    "duration": 53,
    "start_time": "2022-12-24T08:25:38.257Z"
   },
   {
    "duration": 12,
    "start_time": "2022-12-24T08:25:38.311Z"
   },
   {
    "duration": 28,
    "start_time": "2022-12-24T08:25:38.326Z"
   },
   {
    "duration": 12,
    "start_time": "2022-12-24T08:25:38.356Z"
   },
   {
    "duration": 22,
    "start_time": "2022-12-24T08:25:38.369Z"
   },
   {
    "duration": 15,
    "start_time": "2022-12-24T08:25:38.392Z"
   },
   {
    "duration": 44,
    "start_time": "2022-12-24T08:25:38.408Z"
   },
   {
    "duration": 28,
    "start_time": "2022-12-24T08:25:38.454Z"
   },
   {
    "duration": 8,
    "start_time": "2022-12-24T08:25:38.484Z"
   },
   {
    "duration": 17,
    "start_time": "2022-12-24T08:25:38.493Z"
   },
   {
    "duration": 19,
    "start_time": "2022-12-24T08:25:38.518Z"
   },
   {
    "duration": 45,
    "start_time": "2022-12-24T08:25:38.538Z"
   },
   {
    "duration": 3,
    "start_time": "2022-12-24T08:25:38.584Z"
   },
   {
    "duration": 58,
    "start_time": "2022-12-24T08:25:38.589Z"
   },
   {
    "duration": 137,
    "start_time": "2022-12-24T08:25:38.648Z"
   },
   {
    "duration": 150,
    "start_time": "2022-12-24T08:25:38.787Z"
   },
   {
    "duration": 5,
    "start_time": "2022-12-24T08:25:38.939Z"
   },
   {
    "duration": 889,
    "start_time": "2022-12-24T08:25:38.945Z"
   },
   {
    "duration": 76,
    "start_time": "2022-12-24T08:25:39.840Z"
   },
   {
    "duration": 138,
    "start_time": "2022-12-24T08:25:39.919Z"
   },
   {
    "duration": 842,
    "start_time": "2022-12-24T08:25:40.059Z"
   },
   {
    "duration": 29,
    "start_time": "2022-12-24T08:25:40.903Z"
   },
   {
    "duration": 4,
    "start_time": "2022-12-24T08:25:41.012Z"
   },
   {
    "duration": 99,
    "start_time": "2022-12-24T08:25:41.018Z"
   },
   {
    "duration": 20,
    "start_time": "2022-12-24T08:25:41.119Z"
   },
   {
    "duration": 8,
    "start_time": "2022-12-24T08:25:41.141Z"
   },
   {
    "duration": 5,
    "start_time": "2022-12-24T08:25:41.152Z"
   },
   {
    "duration": 128,
    "start_time": "2022-12-24T08:25:41.158Z"
   },
   {
    "duration": 4,
    "start_time": "2022-12-24T08:25:41.287Z"
   },
   {
    "duration": 124,
    "start_time": "2022-12-24T08:25:41.293Z"
   },
   {
    "duration": 1652,
    "start_time": "2022-12-24T08:25:41.418Z"
   },
   {
    "duration": 944,
    "start_time": "2022-12-24T08:25:43.071Z"
   },
   {
    "duration": 209,
    "start_time": "2022-12-24T08:25:44.029Z"
   },
   {
    "duration": 0,
    "start_time": "2022-12-24T08:25:44.240Z"
   },
   {
    "duration": 0,
    "start_time": "2022-12-24T08:25:44.242Z"
   },
   {
    "duration": 0,
    "start_time": "2022-12-24T08:25:44.243Z"
   },
   {
    "duration": 1542,
    "start_time": "2022-12-24T08:26:23.450Z"
   },
   {
    "duration": 61,
    "start_time": "2022-12-24T08:26:24.994Z"
   },
   {
    "duration": 6,
    "start_time": "2022-12-24T08:26:25.057Z"
   },
   {
    "duration": 17,
    "start_time": "2022-12-24T08:26:25.065Z"
   },
   {
    "duration": 9,
    "start_time": "2022-12-24T08:26:25.085Z"
   },
   {
    "duration": 33,
    "start_time": "2022-12-24T08:26:25.096Z"
   },
   {
    "duration": 9,
    "start_time": "2022-12-24T08:26:25.131Z"
   },
   {
    "duration": 23,
    "start_time": "2022-12-24T08:26:25.141Z"
   },
   {
    "duration": 30,
    "start_time": "2022-12-24T08:26:25.166Z"
   },
   {
    "duration": 15,
    "start_time": "2022-12-24T08:26:25.212Z"
   },
   {
    "duration": 11,
    "start_time": "2022-12-24T08:26:25.229Z"
   },
   {
    "duration": 8,
    "start_time": "2022-12-24T08:26:25.241Z"
   },
   {
    "duration": 40,
    "start_time": "2022-12-24T08:26:25.250Z"
   },
   {
    "duration": 24,
    "start_time": "2022-12-24T08:26:25.292Z"
   },
   {
    "duration": 59,
    "start_time": "2022-12-24T08:26:25.317Z"
   },
   {
    "duration": 155,
    "start_time": "2022-12-24T08:26:25.378Z"
   },
   {
    "duration": 141,
    "start_time": "2022-12-24T08:26:25.535Z"
   },
   {
    "duration": 5,
    "start_time": "2022-12-24T08:26:25.677Z"
   },
   {
    "duration": 968,
    "start_time": "2022-12-24T08:26:25.684Z"
   },
   {
    "duration": 65,
    "start_time": "2022-12-24T08:26:26.655Z"
   },
   {
    "duration": 147,
    "start_time": "2022-12-24T08:26:26.722Z"
   },
   {
    "duration": 909,
    "start_time": "2022-12-24T08:26:26.871Z"
   },
   {
    "duration": 49,
    "start_time": "2022-12-24T08:26:27.782Z"
   },
   {
    "duration": 3,
    "start_time": "2022-12-24T08:26:27.914Z"
   },
   {
    "duration": 141,
    "start_time": "2022-12-24T08:26:27.920Z"
   },
   {
    "duration": 39,
    "start_time": "2022-12-24T08:26:28.063Z"
   },
   {
    "duration": 29,
    "start_time": "2022-12-24T08:26:28.104Z"
   },
   {
    "duration": 5,
    "start_time": "2022-12-24T08:26:28.136Z"
   },
   {
    "duration": 143,
    "start_time": "2022-12-24T08:26:28.143Z"
   },
   {
    "duration": 5,
    "start_time": "2022-12-24T08:26:28.288Z"
   },
   {
    "duration": 150,
    "start_time": "2022-12-24T08:26:28.294Z"
   },
   {
    "duration": 1852,
    "start_time": "2022-12-24T08:26:28.446Z"
   },
   {
    "duration": 1033,
    "start_time": "2022-12-24T08:26:30.300Z"
   },
   {
    "duration": 1989,
    "start_time": "2022-12-24T08:26:31.335Z"
   },
   {
    "duration": 3,
    "start_time": "2022-12-24T08:26:33.326Z"
   },
   {
    "duration": 9,
    "start_time": "2022-12-24T08:26:33.331Z"
   },
   {
    "duration": 4,
    "start_time": "2022-12-24T08:26:33.342Z"
   },
   {
    "duration": 9212,
    "start_time": "2022-12-24T08:31:07.492Z"
   },
   {
    "duration": 1483,
    "start_time": "2022-12-24T08:31:52.333Z"
   },
   {
    "duration": 58,
    "start_time": "2022-12-24T08:31:53.826Z"
   },
   {
    "duration": 6,
    "start_time": "2022-12-24T08:31:53.886Z"
   },
   {
    "duration": 54,
    "start_time": "2022-12-24T08:31:53.894Z"
   },
   {
    "duration": 53,
    "start_time": "2022-12-24T08:31:53.950Z"
   },
   {
    "duration": 33,
    "start_time": "2022-12-24T08:31:54.004Z"
   },
   {
    "duration": 12,
    "start_time": "2022-12-24T08:31:54.040Z"
   },
   {
    "duration": 68,
    "start_time": "2022-12-24T08:31:54.054Z"
   },
   {
    "duration": 37,
    "start_time": "2022-12-24T08:31:54.129Z"
   },
   {
    "duration": 16,
    "start_time": "2022-12-24T08:31:54.168Z"
   },
   {
    "duration": 17,
    "start_time": "2022-12-24T08:31:54.186Z"
   },
   {
    "duration": 38,
    "start_time": "2022-12-24T08:31:54.205Z"
   },
   {
    "duration": 52,
    "start_time": "2022-12-24T08:31:54.245Z"
   },
   {
    "duration": 3,
    "start_time": "2022-12-24T08:31:54.300Z"
   },
   {
    "duration": 77,
    "start_time": "2022-12-24T08:31:54.305Z"
   },
   {
    "duration": 153,
    "start_time": "2022-12-24T08:31:54.383Z"
   },
   {
    "duration": 125,
    "start_time": "2022-12-24T08:31:54.537Z"
   },
   {
    "duration": 5,
    "start_time": "2022-12-24T08:31:54.664Z"
   },
   {
    "duration": 949,
    "start_time": "2022-12-24T08:31:54.670Z"
   },
   {
    "duration": 79,
    "start_time": "2022-12-24T08:31:55.639Z"
   },
   {
    "duration": 51,
    "start_time": "2022-12-24T08:31:55.722Z"
   },
   {
    "duration": 978,
    "start_time": "2022-12-24T08:31:55.775Z"
   },
   {
    "duration": 69,
    "start_time": "2022-12-24T08:31:56.755Z"
   },
   {
    "duration": 6,
    "start_time": "2022-12-24T08:31:56.828Z"
   },
   {
    "duration": 26,
    "start_time": "2022-12-24T08:31:56.913Z"
   },
   {
    "duration": 8,
    "start_time": "2022-12-24T08:31:56.941Z"
   },
   {
    "duration": 7,
    "start_time": "2022-12-24T08:31:56.951Z"
   },
   {
    "duration": 4,
    "start_time": "2022-12-24T08:31:56.960Z"
   },
   {
    "duration": 122,
    "start_time": "2022-12-24T08:31:56.966Z"
   },
   {
    "duration": 5,
    "start_time": "2022-12-24T08:31:57.090Z"
   },
   {
    "duration": 148,
    "start_time": "2022-12-24T08:31:57.097Z"
   },
   {
    "duration": 1709,
    "start_time": "2022-12-24T08:31:57.247Z"
   },
   {
    "duration": 1558,
    "start_time": "2022-12-24T09:02:43.187Z"
   },
   {
    "duration": 56,
    "start_time": "2022-12-24T09:02:44.748Z"
   },
   {
    "duration": 8,
    "start_time": "2022-12-24T09:02:44.806Z"
   },
   {
    "duration": 35,
    "start_time": "2022-12-24T09:02:44.823Z"
   },
   {
    "duration": 9,
    "start_time": "2022-12-24T09:02:44.860Z"
   },
   {
    "duration": 19,
    "start_time": "2022-12-24T09:02:44.872Z"
   },
   {
    "duration": 13,
    "start_time": "2022-12-24T09:02:44.893Z"
   },
   {
    "duration": 44,
    "start_time": "2022-12-24T09:02:44.908Z"
   },
   {
    "duration": 26,
    "start_time": "2022-12-24T09:02:44.954Z"
   },
   {
    "duration": 9,
    "start_time": "2022-12-24T09:02:44.983Z"
   },
   {
    "duration": 7,
    "start_time": "2022-12-24T09:02:44.994Z"
   },
   {
    "duration": 36,
    "start_time": "2022-12-24T09:02:45.003Z"
   },
   {
    "duration": 51,
    "start_time": "2022-12-24T09:02:45.041Z"
   },
   {
    "duration": 4,
    "start_time": "2022-12-24T09:02:45.093Z"
   },
   {
    "duration": 47,
    "start_time": "2022-12-24T09:02:45.099Z"
   },
   {
    "duration": 159,
    "start_time": "2022-12-24T09:02:45.148Z"
   },
   {
    "duration": 181,
    "start_time": "2022-12-24T09:02:45.312Z"
   },
   {
    "duration": 6,
    "start_time": "2022-12-24T09:02:45.495Z"
   },
   {
    "duration": 1039,
    "start_time": "2022-12-24T09:02:45.502Z"
   },
   {
    "duration": 16,
    "start_time": "2022-12-24T09:02:46.611Z"
   },
   {
    "duration": 123,
    "start_time": "2022-12-24T09:02:46.632Z"
   },
   {
    "duration": 898,
    "start_time": "2022-12-24T09:02:46.756Z"
   },
   {
    "duration": 74,
    "start_time": "2022-12-24T09:02:47.655Z"
   },
   {
    "duration": 4,
    "start_time": "2022-12-24T09:02:47.731Z"
   },
   {
    "duration": 99,
    "start_time": "2022-12-24T09:02:47.737Z"
   },
   {
    "duration": 9,
    "start_time": "2022-12-24T09:02:47.838Z"
   },
   {
    "duration": 8,
    "start_time": "2022-12-24T09:02:47.848Z"
   },
   {
    "duration": 4,
    "start_time": "2022-12-24T09:02:47.860Z"
   },
   {
    "duration": 124,
    "start_time": "2022-12-24T09:02:47.865Z"
   },
   {
    "duration": 4,
    "start_time": "2022-12-24T09:02:47.992Z"
   },
   {
    "duration": 137,
    "start_time": "2022-12-24T09:02:47.998Z"
   },
   {
    "duration": 1769,
    "start_time": "2022-12-24T09:02:48.136Z"
   },
   {
    "duration": 86927,
    "start_time": "2022-12-24T09:02:49.906Z"
   },
   {
    "duration": 2,
    "start_time": "2022-12-24T09:04:16.835Z"
   },
   {
    "duration": 7,
    "start_time": "2022-12-24T09:04:16.839Z"
   },
   {
    "duration": 90,
    "start_time": "2022-12-24T09:09:31.705Z"
   },
   {
    "duration": 7,
    "start_time": "2022-12-24T09:09:42.020Z"
   },
   {
    "duration": 1439,
    "start_time": "2022-12-24T09:12:32.356Z"
   },
   {
    "duration": 70,
    "start_time": "2022-12-24T09:12:33.797Z"
   },
   {
    "duration": 7,
    "start_time": "2022-12-24T09:12:33.869Z"
   },
   {
    "duration": 19,
    "start_time": "2022-12-24T09:12:33.878Z"
   },
   {
    "duration": 7,
    "start_time": "2022-12-24T09:12:33.899Z"
   },
   {
    "duration": 22,
    "start_time": "2022-12-24T09:12:33.907Z"
   },
   {
    "duration": 6,
    "start_time": "2022-12-24T09:12:33.932Z"
   },
   {
    "duration": 21,
    "start_time": "2022-12-24T09:12:33.940Z"
   },
   {
    "duration": 27,
    "start_time": "2022-12-24T09:12:33.964Z"
   },
   {
    "duration": 26,
    "start_time": "2022-12-24T09:12:33.995Z"
   },
   {
    "duration": 19,
    "start_time": "2022-12-24T09:12:34.023Z"
   },
   {
    "duration": 4,
    "start_time": "2022-12-24T09:12:34.044Z"
   },
   {
    "duration": 39,
    "start_time": "2022-12-24T09:12:34.049Z"
   },
   {
    "duration": 4,
    "start_time": "2022-12-24T09:12:34.090Z"
   },
   {
    "duration": 62,
    "start_time": "2022-12-24T09:12:34.096Z"
   },
   {
    "duration": 175,
    "start_time": "2022-12-24T09:12:34.160Z"
   },
   {
    "duration": 138,
    "start_time": "2022-12-24T09:12:34.337Z"
   },
   {
    "duration": 5,
    "start_time": "2022-12-24T09:12:34.477Z"
   },
   {
    "duration": 940,
    "start_time": "2022-12-24T09:12:34.484Z"
   },
   {
    "duration": 8,
    "start_time": "2022-12-24T09:12:35.428Z"
   },
   {
    "duration": 99,
    "start_time": "2022-12-24T09:12:35.515Z"
   },
   {
    "duration": 892,
    "start_time": "2022-12-24T09:12:35.618Z"
   },
   {
    "duration": 100,
    "start_time": "2022-12-24T09:12:36.514Z"
   },
   {
    "duration": 98,
    "start_time": "2022-12-24T09:12:36.616Z"
   },
   {
    "duration": 26,
    "start_time": "2022-12-24T09:12:36.716Z"
   },
   {
    "duration": 9,
    "start_time": "2022-12-24T09:12:36.744Z"
   },
   {
    "duration": 10,
    "start_time": "2022-12-24T09:12:36.755Z"
   },
   {
    "duration": 6,
    "start_time": "2022-12-24T09:12:36.769Z"
   },
   {
    "duration": 144,
    "start_time": "2022-12-24T09:12:36.776Z"
   },
   {
    "duration": 5,
    "start_time": "2022-12-24T09:12:36.926Z"
   },
   {
    "duration": 136,
    "start_time": "2022-12-24T09:12:36.933Z"
   },
   {
    "duration": 1718,
    "start_time": "2022-12-24T09:12:37.071Z"
   },
   {
    "duration": 85489,
    "start_time": "2022-12-24T09:12:38.790Z"
   },
   {
    "duration": 7,
    "start_time": "2022-12-24T09:14:04.282Z"
   },
   {
    "duration": 488,
    "start_time": "2022-12-24T09:14:04.291Z"
   },
   {
    "duration": 117,
    "start_time": "2022-12-24T09:33:19.068Z"
   },
   {
    "duration": 5,
    "start_time": "2022-12-24T09:34:09.768Z"
   },
   {
    "duration": 8,
    "start_time": "2022-12-24T09:34:18.240Z"
   },
   {
    "duration": 20,
    "start_time": "2022-12-24T09:34:48.609Z"
   },
   {
    "duration": 9,
    "start_time": "2022-12-24T09:36:04.988Z"
   },
   {
    "duration": 1492,
    "start_time": "2022-12-24T10:01:27.284Z"
   },
   {
    "duration": 57,
    "start_time": "2022-12-24T10:01:28.778Z"
   },
   {
    "duration": 7,
    "start_time": "2022-12-24T10:01:28.837Z"
   },
   {
    "duration": 22,
    "start_time": "2022-12-24T10:01:28.846Z"
   },
   {
    "duration": 7,
    "start_time": "2022-12-24T10:01:28.871Z"
   },
   {
    "duration": 16,
    "start_time": "2022-12-24T10:01:28.880Z"
   },
   {
    "duration": 5,
    "start_time": "2022-12-24T10:01:28.913Z"
   },
   {
    "duration": 28,
    "start_time": "2022-12-24T10:01:28.920Z"
   },
   {
    "duration": 29,
    "start_time": "2022-12-24T10:01:28.950Z"
   },
   {
    "duration": 9,
    "start_time": "2022-12-24T10:01:28.981Z"
   },
   {
    "duration": 27,
    "start_time": "2022-12-24T10:01:28.992Z"
   },
   {
    "duration": 11,
    "start_time": "2022-12-24T10:01:29.021Z"
   },
   {
    "duration": 46,
    "start_time": "2022-12-24T10:01:29.033Z"
   },
   {
    "duration": 3,
    "start_time": "2022-12-24T10:01:29.083Z"
   },
   {
    "duration": 67,
    "start_time": "2022-12-24T10:01:29.088Z"
   },
   {
    "duration": 166,
    "start_time": "2022-12-24T10:01:29.157Z"
   },
   {
    "duration": 143,
    "start_time": "2022-12-24T10:01:29.325Z"
   },
   {
    "duration": 5,
    "start_time": "2022-12-24T10:01:29.470Z"
   },
   {
    "duration": 942,
    "start_time": "2022-12-24T10:01:29.477Z"
   },
   {
    "duration": 93,
    "start_time": "2022-12-24T10:01:30.421Z"
   },
   {
    "duration": 51,
    "start_time": "2022-12-24T10:01:30.516Z"
   },
   {
    "duration": 891,
    "start_time": "2022-12-24T10:01:30.568Z"
   },
   {
    "duration": 156,
    "start_time": "2022-12-24T10:01:31.461Z"
   },
   {
    "duration": 93,
    "start_time": "2022-12-24T10:01:31.619Z"
   },
   {
    "duration": 11,
    "start_time": "2022-12-24T10:01:31.715Z"
   },
   {
    "duration": 8,
    "start_time": "2022-12-24T10:01:31.728Z"
   },
   {
    "duration": 16,
    "start_time": "2022-12-24T10:01:31.738Z"
   },
   {
    "duration": 10,
    "start_time": "2022-12-24T10:01:31.756Z"
   },
   {
    "duration": 150,
    "start_time": "2022-12-24T10:01:31.768Z"
   },
   {
    "duration": 5,
    "start_time": "2022-12-24T10:01:31.921Z"
   },
   {
    "duration": 127,
    "start_time": "2022-12-24T10:01:31.928Z"
   },
   {
    "duration": 1705,
    "start_time": "2022-12-24T10:01:32.056Z"
   },
   {
    "duration": 84981,
    "start_time": "2022-12-24T10:01:33.763Z"
   },
   {
    "duration": 466,
    "start_time": "2022-12-24T10:02:58.746Z"
   },
   {
    "duration": 1311,
    "start_time": "2022-12-25T00:44:54.569Z"
   },
   {
    "duration": 86,
    "start_time": "2022-12-25T00:44:55.882Z"
   },
   {
    "duration": 6,
    "start_time": "2022-12-25T00:44:55.969Z"
   },
   {
    "duration": 23,
    "start_time": "2022-12-25T00:44:55.977Z"
   },
   {
    "duration": 21,
    "start_time": "2022-12-25T00:44:56.002Z"
   },
   {
    "duration": 19,
    "start_time": "2022-12-25T00:44:56.025Z"
   },
   {
    "duration": 3,
    "start_time": "2022-12-25T00:44:56.046Z"
   },
   {
    "duration": 14,
    "start_time": "2022-12-25T00:44:56.051Z"
   },
   {
    "duration": 28,
    "start_time": "2022-12-25T00:44:56.066Z"
   },
   {
    "duration": 7,
    "start_time": "2022-12-25T00:44:56.095Z"
   },
   {
    "duration": 7,
    "start_time": "2022-12-25T00:44:56.121Z"
   },
   {
    "duration": 8,
    "start_time": "2022-12-25T00:44:56.129Z"
   },
   {
    "duration": 32,
    "start_time": "2022-12-25T00:44:56.138Z"
   },
   {
    "duration": 3,
    "start_time": "2022-12-25T00:44:56.173Z"
   },
   {
    "duration": 54,
    "start_time": "2022-12-25T00:44:56.177Z"
   },
   {
    "duration": 123,
    "start_time": "2022-12-25T00:44:56.233Z"
   },
   {
    "duration": 107,
    "start_time": "2022-12-25T00:44:56.358Z"
   },
   {
    "duration": 4,
    "start_time": "2022-12-25T00:44:56.466Z"
   },
   {
    "duration": 753,
    "start_time": "2022-12-25T00:44:56.472Z"
   },
   {
    "duration": 96,
    "start_time": "2022-12-25T00:44:57.227Z"
   },
   {
    "duration": 127,
    "start_time": "2022-12-25T00:44:57.325Z"
   },
   {
    "duration": 744,
    "start_time": "2022-12-25T00:44:57.454Z"
   },
   {
    "duration": 123,
    "start_time": "2022-12-25T00:44:58.199Z"
   },
   {
    "duration": 4,
    "start_time": "2022-12-25T00:44:58.325Z"
   },
   {
    "duration": 101,
    "start_time": "2022-12-25T00:44:58.331Z"
   },
   {
    "duration": 9,
    "start_time": "2022-12-25T00:44:58.434Z"
   },
   {
    "duration": 10,
    "start_time": "2022-12-25T00:44:58.444Z"
   },
   {
    "duration": 12,
    "start_time": "2022-12-25T00:44:58.456Z"
   },
   {
    "duration": 112,
    "start_time": "2022-12-25T00:44:58.469Z"
   },
   {
    "duration": 4,
    "start_time": "2022-12-25T00:44:58.583Z"
   },
   {
    "duration": 109,
    "start_time": "2022-12-25T00:44:58.588Z"
   },
   {
    "duration": 1468,
    "start_time": "2022-12-25T00:44:58.699Z"
   },
   {
    "duration": 70392,
    "start_time": "2022-12-25T00:45:00.169Z"
   },
   {
    "duration": 389,
    "start_time": "2022-12-25T00:46:10.562Z"
   },
   {
    "duration": 47,
    "start_time": "2022-12-25T10:33:31.664Z"
   },
   {
    "duration": 1541,
    "start_time": "2022-12-25T10:33:53.815Z"
   },
   {
    "duration": 184,
    "start_time": "2022-12-25T10:34:01.115Z"
   },
   {
    "duration": 5,
    "start_time": "2022-12-25T10:34:05.444Z"
   },
   {
    "duration": 17,
    "start_time": "2022-12-25T10:34:09.105Z"
   },
   {
    "duration": 8,
    "start_time": "2022-12-25T10:34:12.645Z"
   },
   {
    "duration": 16,
    "start_time": "2022-12-25T10:34:15.405Z"
   },
   {
    "duration": 4,
    "start_time": "2022-12-25T10:34:19.043Z"
   },
   {
    "duration": 16,
    "start_time": "2022-12-25T10:34:21.337Z"
   },
   {
    "duration": 22,
    "start_time": "2022-12-25T10:34:25.035Z"
   },
   {
    "duration": 75,
    "start_time": "2022-12-25T10:34:29.915Z"
   },
   {
    "duration": 13,
    "start_time": "2022-12-25T10:37:14.255Z"
   },
   {
    "duration": 10,
    "start_time": "2022-12-25T10:37:25.005Z"
   },
   {
    "duration": 50,
    "start_time": "2022-12-25T19:33:33.408Z"
   },
   {
    "duration": 1648,
    "start_time": "2022-12-25T19:33:43.937Z"
   },
   {
    "duration": 172,
    "start_time": "2022-12-25T19:33:48.049Z"
   },
   {
    "duration": 6,
    "start_time": "2022-12-25T19:33:53.348Z"
   },
   {
    "duration": 18,
    "start_time": "2022-12-25T19:33:55.938Z"
   },
   {
    "duration": 9,
    "start_time": "2022-12-25T19:33:59.076Z"
   },
   {
    "duration": 15,
    "start_time": "2022-12-25T19:34:01.658Z"
   },
   {
    "duration": 5,
    "start_time": "2022-12-25T19:34:04.517Z"
   },
   {
    "duration": 16,
    "start_time": "2022-12-25T19:34:07.267Z"
   },
   {
    "duration": 24,
    "start_time": "2022-12-25T19:34:10.847Z"
   },
   {
    "duration": 81,
    "start_time": "2022-12-25T19:34:15.037Z"
   },
   {
    "duration": 18,
    "start_time": "2022-12-25T19:34:54.980Z"
   },
   {
    "duration": 19,
    "start_time": "2022-12-25T19:40:25.056Z"
   },
   {
    "duration": 10,
    "start_time": "2022-12-25T19:43:44.797Z"
   },
   {
    "duration": 18,
    "start_time": "2022-12-25T19:44:28.986Z"
   },
   {
    "duration": 11,
    "start_time": "2022-12-25T19:44:37.227Z"
   },
   {
    "duration": 21,
    "start_time": "2022-12-25T19:46:18.006Z"
   },
   {
    "duration": 26,
    "start_time": "2022-12-25T19:46:29.206Z"
   },
   {
    "duration": 19,
    "start_time": "2022-12-25T19:47:20.356Z"
   },
   {
    "duration": 20,
    "start_time": "2022-12-25T19:48:24.895Z"
   },
   {
    "duration": 11,
    "start_time": "2022-12-25T19:49:32.846Z"
   },
   {
    "duration": 12,
    "start_time": "2022-12-25T19:49:41.067Z"
   },
   {
    "duration": 11,
    "start_time": "2022-12-25T19:50:45.845Z"
   },
   {
    "duration": 15,
    "start_time": "2022-12-25T19:52:18.355Z"
   },
   {
    "duration": 21,
    "start_time": "2022-12-25T20:00:30.261Z"
   },
   {
    "duration": 25,
    "start_time": "2022-12-25T20:02:12.305Z"
   },
   {
    "duration": 21,
    "start_time": "2022-12-25T20:02:50.885Z"
   },
   {
    "duration": 16,
    "start_time": "2022-12-25T20:03:29.325Z"
   },
   {
    "duration": 16,
    "start_time": "2022-12-25T20:03:41.556Z"
   },
   {
    "duration": 17,
    "start_time": "2022-12-25T20:05:01.586Z"
   },
   {
    "duration": 18,
    "start_time": "2022-12-25T20:05:40.855Z"
   },
   {
    "duration": 24,
    "start_time": "2022-12-25T20:15:12.426Z"
   },
   {
    "duration": 2,
    "start_time": "2022-12-25T20:15:31.115Z"
   },
   {
    "duration": 33,
    "start_time": "2022-12-25T20:15:50.015Z"
   },
   {
    "duration": 2,
    "start_time": "2022-12-25T20:16:02.946Z"
   },
   {
    "duration": 142,
    "start_time": "2022-12-25T20:16:41.425Z"
   },
   {
    "duration": 127,
    "start_time": "2022-12-25T20:16:45.055Z"
   },
   {
    "duration": 5,
    "start_time": "2022-12-25T20:18:20.436Z"
   },
   {
    "duration": 946,
    "start_time": "2022-12-25T20:18:27.805Z"
   },
   {
    "duration": 6,
    "start_time": "2022-12-25T20:18:37.115Z"
   },
   {
    "duration": 1007,
    "start_time": "2022-12-25T20:18:40.055Z"
   },
   {
    "duration": 6,
    "start_time": "2022-12-25T20:18:43.515Z"
   },
   {
    "duration": 36,
    "start_time": "2022-12-25T20:18:51.945Z"
   },
   {
    "duration": 882,
    "start_time": "2022-12-25T20:18:55.525Z"
   },
   {
    "duration": 100,
    "start_time": "2022-12-25T20:18:59.454Z"
   },
   {
    "duration": 4,
    "start_time": "2022-12-25T20:19:02.515Z"
   },
   {
    "duration": 9,
    "start_time": "2022-12-25T20:19:05.845Z"
   },
   {
    "duration": 9,
    "start_time": "2022-12-25T20:19:08.415Z"
   },
   {
    "duration": 8,
    "start_time": "2022-12-25T20:19:12.115Z"
   },
   {
    "duration": 4,
    "start_time": "2022-12-25T20:19:49.399Z"
   },
   {
    "duration": 19,
    "start_time": "2022-12-25T20:19:54.005Z"
   },
   {
    "duration": 5,
    "start_time": "2022-12-25T20:21:35.124Z"
   },
   {
    "duration": 19,
    "start_time": "2022-12-25T20:21:41.511Z"
   },
   {
    "duration": 19,
    "start_time": "2022-12-25T20:22:47.535Z"
   },
   {
    "duration": 41,
    "start_time": "2022-12-25T20:23:23.495Z"
   },
   {
    "duration": 22,
    "start_time": "2022-12-25T20:24:26.045Z"
   },
   {
    "duration": 11,
    "start_time": "2022-12-25T20:24:36.975Z"
   },
   {
    "duration": 5,
    "start_time": "2022-12-25T20:24:43.665Z"
   },
   {
    "duration": 10,
    "start_time": "2022-12-25T20:24:46.855Z"
   },
   {
    "duration": 16,
    "start_time": "2022-12-25T20:24:52.806Z"
   },
   {
    "duration": 13,
    "start_time": "2022-12-25T20:24:59.165Z"
   },
   {
    "duration": 12,
    "start_time": "2022-12-25T20:25:18.895Z"
   },
   {
    "duration": 13,
    "start_time": "2022-12-25T20:25:25.138Z"
   },
   {
    "duration": 112,
    "start_time": "2022-12-25T20:25:31.475Z"
   },
   {
    "duration": 5,
    "start_time": "2022-12-25T20:25:36.895Z"
   },
   {
    "duration": 107,
    "start_time": "2022-12-25T20:25:39.917Z"
   },
   {
    "duration": 133,
    "start_time": "2022-12-25T21:02:39.907Z"
   },
   {
    "duration": 53,
    "start_time": "2022-12-25T21:03:57.522Z"
   },
   {
    "duration": 1571,
    "start_time": "2022-12-25T21:05:29.160Z"
   },
   {
    "duration": 56,
    "start_time": "2022-12-25T21:05:34.401Z"
   },
   {
    "duration": 6,
    "start_time": "2022-12-25T21:05:40.689Z"
   },
   {
    "duration": 16,
    "start_time": "2022-12-25T21:05:44.568Z"
   },
   {
    "duration": 8,
    "start_time": "2022-12-25T21:05:47.789Z"
   },
   {
    "duration": 15,
    "start_time": "2022-12-25T21:05:50.679Z"
   },
   {
    "duration": 5,
    "start_time": "2022-12-25T21:05:55.059Z"
   },
   {
    "duration": 18,
    "start_time": "2022-12-25T21:05:57.748Z"
   },
   {
    "duration": 24,
    "start_time": "2022-12-25T21:06:03.048Z"
   },
   {
    "duration": 17,
    "start_time": "2022-12-25T21:06:09.970Z"
   },
   {
    "duration": 3,
    "start_time": "2022-12-25T21:06:17.828Z"
   },
   {
    "duration": 35,
    "start_time": "2022-12-25T21:06:23.469Z"
   },
   {
    "duration": 3,
    "start_time": "2022-12-25T21:06:27.448Z"
   },
   {
    "duration": 41,
    "start_time": "2022-12-25T21:06:32.529Z"
   },
   {
    "duration": 136,
    "start_time": "2022-12-25T21:06:45.030Z"
   },
   {
    "duration": 138,
    "start_time": "2022-12-25T21:06:49.259Z"
   },
   {
    "duration": 5,
    "start_time": "2022-12-25T21:07:00.895Z"
   },
   {
    "duration": 915,
    "start_time": "2022-12-25T21:07:04.538Z"
   },
   {
    "duration": 5,
    "start_time": "2022-12-25T21:07:08.120Z"
   },
   {
    "duration": 41,
    "start_time": "2022-12-25T21:07:10.447Z"
   },
   {
    "duration": 882,
    "start_time": "2022-12-25T21:07:12.958Z"
   },
   {
    "duration": 150,
    "start_time": "2022-12-25T21:07:18.004Z"
   },
   {
    "duration": 3,
    "start_time": "2022-12-25T21:07:20.549Z"
   },
   {
    "duration": 8,
    "start_time": "2022-12-25T21:07:26.900Z"
   },
   {
    "duration": 9,
    "start_time": "2022-12-25T21:07:35.517Z"
   },
   {
    "duration": 8,
    "start_time": "2022-12-25T21:07:43.009Z"
   },
   {
    "duration": 5,
    "start_time": "2022-12-25T21:07:51.928Z"
   },
   {
    "duration": 121,
    "start_time": "2022-12-25T21:07:56.629Z"
   },
   {
    "duration": 6,
    "start_time": "2022-12-25T21:08:01.260Z"
   },
   {
    "duration": 126,
    "start_time": "2022-12-25T21:08:04.289Z"
   },
   {
    "duration": 41,
    "start_time": "2022-12-25T21:08:08.877Z"
   },
   {
    "duration": 171,
    "start_time": "2022-12-25T21:08:16.432Z"
   },
   {
    "duration": 57,
    "start_time": "2022-12-25T21:08:38.081Z"
   },
   {
    "duration": 48,
    "start_time": "2022-12-25T21:08:54.762Z"
   },
   {
    "duration": 46,
    "start_time": "2022-12-25T21:09:01.673Z"
   },
   {
    "duration": 167,
    "start_time": "2022-12-25T21:09:41.741Z"
   },
   {
    "duration": 64,
    "start_time": "2022-12-25T21:09:57.768Z"
   },
   {
    "duration": 72,
    "start_time": "2022-12-25T21:10:13.130Z"
   },
   {
    "duration": 328,
    "start_time": "2022-12-25T21:11:49.232Z"
   },
   {
    "duration": 2240,
    "start_time": "2022-12-25T21:12:35.689Z"
   },
   {
    "duration": 214767,
    "start_time": "2022-12-25T21:15:34.160Z"
   },
   {
    "duration": 1351,
    "start_time": "2022-12-25T21:23:43.779Z"
   },
   {
    "duration": 1421,
    "start_time": "2022-12-25T21:32:39.897Z"
   },
   {
    "duration": 57,
    "start_time": "2022-12-25T21:32:41.320Z"
   },
   {
    "duration": 7,
    "start_time": "2022-12-25T21:32:41.379Z"
   },
   {
    "duration": 27,
    "start_time": "2022-12-25T21:32:41.389Z"
   },
   {
    "duration": 26,
    "start_time": "2022-12-25T21:32:41.418Z"
   },
   {
    "duration": 14,
    "start_time": "2022-12-25T21:32:41.446Z"
   },
   {
    "duration": 4,
    "start_time": "2022-12-25T21:32:41.462Z"
   },
   {
    "duration": 18,
    "start_time": "2022-12-25T21:32:41.468Z"
   },
   {
    "duration": 25,
    "start_time": "2022-12-25T21:32:41.489Z"
   },
   {
    "duration": 42,
    "start_time": "2022-12-25T21:32:41.517Z"
   },
   {
    "duration": 3,
    "start_time": "2022-12-25T21:32:41.560Z"
   },
   {
    "duration": 41,
    "start_time": "2022-12-25T21:32:41.565Z"
   },
   {
    "duration": 4,
    "start_time": "2022-12-25T21:32:41.608Z"
   },
   {
    "duration": 62,
    "start_time": "2022-12-25T21:32:41.614Z"
   },
   {
    "duration": 153,
    "start_time": "2022-12-25T21:32:41.678Z"
   },
   {
    "duration": 139,
    "start_time": "2022-12-25T21:32:41.832Z"
   },
   {
    "duration": 5,
    "start_time": "2022-12-25T21:32:41.973Z"
   },
   {
    "duration": 977,
    "start_time": "2022-12-25T21:32:41.980Z"
   },
   {
    "duration": 93,
    "start_time": "2022-12-25T21:32:42.960Z"
   },
   {
    "duration": 49,
    "start_time": "2022-12-25T21:32:43.056Z"
   },
   {
    "duration": 1012,
    "start_time": "2022-12-25T21:32:43.106Z"
   },
   {
    "duration": 130,
    "start_time": "2022-12-25T21:32:44.120Z"
   },
   {
    "duration": 5,
    "start_time": "2022-12-25T21:32:44.254Z"
   },
   {
    "duration": 12,
    "start_time": "2022-12-25T21:32:44.350Z"
   },
   {
    "duration": 16,
    "start_time": "2022-12-25T21:32:44.364Z"
   },
   {
    "duration": 26,
    "start_time": "2022-12-25T21:32:44.382Z"
   },
   {
    "duration": 15,
    "start_time": "2022-12-25T21:32:44.410Z"
   },
   {
    "duration": 132,
    "start_time": "2022-12-25T21:32:44.430Z"
   },
   {
    "duration": 4,
    "start_time": "2022-12-25T21:32:44.564Z"
   },
   {
    "duration": 132,
    "start_time": "2022-12-25T21:32:44.570Z"
   },
   {
    "duration": 2202,
    "start_time": "2022-12-25T21:32:44.704Z"
   },
   {
    "duration": 216047,
    "start_time": "2022-12-25T21:32:46.907Z"
   },
   {
    "duration": 1317,
    "start_time": "2022-12-25T21:36:22.956Z"
   },
   {
    "duration": 1318,
    "start_time": "2022-12-26T10:35:47.929Z"
   },
   {
    "duration": 55,
    "start_time": "2022-12-26T10:35:49.249Z"
   },
   {
    "duration": 6,
    "start_time": "2022-12-26T10:35:49.306Z"
   },
   {
    "duration": 22,
    "start_time": "2022-12-26T10:35:49.314Z"
   },
   {
    "duration": 8,
    "start_time": "2022-12-26T10:35:49.339Z"
   },
   {
    "duration": 18,
    "start_time": "2022-12-26T10:35:49.348Z"
   },
   {
    "duration": 5,
    "start_time": "2022-12-26T10:35:49.377Z"
   },
   {
    "duration": 19,
    "start_time": "2022-12-26T10:35:49.383Z"
   },
   {
    "duration": 30,
    "start_time": "2022-12-26T10:35:49.404Z"
   },
   {
    "duration": 17,
    "start_time": "2022-12-26T10:35:49.435Z"
   },
   {
    "duration": 3,
    "start_time": "2022-12-26T10:35:49.478Z"
   },
   {
    "duration": 45,
    "start_time": "2022-12-26T10:35:49.483Z"
   },
   {
    "duration": 130,
    "start_time": "2022-12-26T10:35:49.529Z"
   },
   {
    "duration": 0,
    "start_time": "2022-12-26T10:35:49.662Z"
   },
   {
    "duration": 0,
    "start_time": "2022-12-26T10:35:49.663Z"
   },
   {
    "duration": 0,
    "start_time": "2022-12-26T10:35:49.664Z"
   },
   {
    "duration": 0,
    "start_time": "2022-12-26T10:35:49.665Z"
   },
   {
    "duration": 0,
    "start_time": "2022-12-26T10:35:49.666Z"
   },
   {
    "duration": 0,
    "start_time": "2022-12-26T10:35:49.667Z"
   },
   {
    "duration": 0,
    "start_time": "2022-12-26T10:35:49.668Z"
   },
   {
    "duration": 0,
    "start_time": "2022-12-26T10:35:49.678Z"
   },
   {
    "duration": 0,
    "start_time": "2022-12-26T10:35:49.678Z"
   },
   {
    "duration": 0,
    "start_time": "2022-12-26T10:35:49.679Z"
   },
   {
    "duration": 0,
    "start_time": "2022-12-26T10:35:49.680Z"
   },
   {
    "duration": 0,
    "start_time": "2022-12-26T10:35:49.681Z"
   },
   {
    "duration": 0,
    "start_time": "2022-12-26T10:35:49.682Z"
   },
   {
    "duration": 0,
    "start_time": "2022-12-26T10:35:49.683Z"
   },
   {
    "duration": 0,
    "start_time": "2022-12-26T10:35:49.684Z"
   },
   {
    "duration": 0,
    "start_time": "2022-12-26T10:35:49.685Z"
   },
   {
    "duration": 0,
    "start_time": "2022-12-26T10:35:49.685Z"
   },
   {
    "duration": 0,
    "start_time": "2022-12-26T10:35:49.686Z"
   },
   {
    "duration": 0,
    "start_time": "2022-12-26T10:35:49.687Z"
   },
   {
    "duration": 0,
    "start_time": "2022-12-26T10:35:49.688Z"
   },
   {
    "duration": 1280,
    "start_time": "2022-12-26T10:37:23.899Z"
   },
   {
    "duration": 57,
    "start_time": "2022-12-26T10:37:25.181Z"
   },
   {
    "duration": 5,
    "start_time": "2022-12-26T10:37:25.240Z"
   },
   {
    "duration": 23,
    "start_time": "2022-12-26T10:37:25.247Z"
   },
   {
    "duration": 10,
    "start_time": "2022-12-26T10:37:25.272Z"
   },
   {
    "duration": 16,
    "start_time": "2022-12-26T10:37:25.284Z"
   },
   {
    "duration": 7,
    "start_time": "2022-12-26T10:37:25.302Z"
   },
   {
    "duration": 27,
    "start_time": "2022-12-26T10:37:25.312Z"
   },
   {
    "duration": 52,
    "start_time": "2022-12-26T10:37:25.340Z"
   },
   {
    "duration": 19,
    "start_time": "2022-12-26T10:37:25.394Z"
   },
   {
    "duration": 9,
    "start_time": "2022-12-26T10:37:25.416Z"
   },
   {
    "duration": 51,
    "start_time": "2022-12-26T10:37:25.427Z"
   },
   {
    "duration": 122,
    "start_time": "2022-12-26T10:37:25.480Z"
   },
   {
    "duration": 0,
    "start_time": "2022-12-26T10:37:25.604Z"
   },
   {
    "duration": 0,
    "start_time": "2022-12-26T10:37:25.606Z"
   },
   {
    "duration": 0,
    "start_time": "2022-12-26T10:37:25.607Z"
   },
   {
    "duration": 0,
    "start_time": "2022-12-26T10:37:25.608Z"
   },
   {
    "duration": 0,
    "start_time": "2022-12-26T10:37:25.609Z"
   },
   {
    "duration": 0,
    "start_time": "2022-12-26T10:37:25.610Z"
   },
   {
    "duration": 0,
    "start_time": "2022-12-26T10:37:25.612Z"
   },
   {
    "duration": 0,
    "start_time": "2022-12-26T10:37:25.614Z"
   },
   {
    "duration": 0,
    "start_time": "2022-12-26T10:37:25.615Z"
   },
   {
    "duration": 0,
    "start_time": "2022-12-26T10:37:25.617Z"
   },
   {
    "duration": 0,
    "start_time": "2022-12-26T10:37:25.618Z"
   },
   {
    "duration": 0,
    "start_time": "2022-12-26T10:37:25.620Z"
   },
   {
    "duration": 0,
    "start_time": "2022-12-26T10:37:25.621Z"
   },
   {
    "duration": 0,
    "start_time": "2022-12-26T10:37:25.623Z"
   },
   {
    "duration": 0,
    "start_time": "2022-12-26T10:37:25.625Z"
   },
   {
    "duration": 0,
    "start_time": "2022-12-26T10:37:25.626Z"
   },
   {
    "duration": 0,
    "start_time": "2022-12-26T10:37:25.627Z"
   },
   {
    "duration": 0,
    "start_time": "2022-12-26T10:37:25.629Z"
   },
   {
    "duration": 0,
    "start_time": "2022-12-26T10:37:25.631Z"
   },
   {
    "duration": 0,
    "start_time": "2022-12-26T10:37:25.680Z"
   },
   {
    "duration": 4,
    "start_time": "2022-12-26T10:38:53.230Z"
   },
   {
    "duration": 1404,
    "start_time": "2022-12-26T10:39:03.085Z"
   },
   {
    "duration": 56,
    "start_time": "2022-12-26T10:39:04.491Z"
   },
   {
    "duration": 5,
    "start_time": "2022-12-26T10:39:04.549Z"
   },
   {
    "duration": 21,
    "start_time": "2022-12-26T10:39:04.556Z"
   },
   {
    "duration": 27,
    "start_time": "2022-12-26T10:39:04.580Z"
   },
   {
    "duration": 15,
    "start_time": "2022-12-26T10:39:04.610Z"
   },
   {
    "duration": 5,
    "start_time": "2022-12-26T10:39:04.626Z"
   },
   {
    "duration": 29,
    "start_time": "2022-12-26T10:39:04.632Z"
   },
   {
    "duration": 39,
    "start_time": "2022-12-26T10:39:04.662Z"
   },
   {
    "duration": 17,
    "start_time": "2022-12-26T10:39:04.703Z"
   },
   {
    "duration": 6,
    "start_time": "2022-12-26T10:39:04.721Z"
   },
   {
    "duration": 58,
    "start_time": "2022-12-26T10:39:04.729Z"
   },
   {
    "duration": 3,
    "start_time": "2022-12-26T10:39:04.789Z"
   },
   {
    "duration": 52,
    "start_time": "2022-12-26T10:39:04.796Z"
   },
   {
    "duration": 166,
    "start_time": "2022-12-26T10:39:04.849Z"
   },
   {
    "duration": 129,
    "start_time": "2022-12-26T10:39:05.017Z"
   },
   {
    "duration": 5,
    "start_time": "2022-12-26T10:39:05.149Z"
   },
   {
    "duration": 1027,
    "start_time": "2022-12-26T10:39:05.156Z"
   },
   {
    "duration": 94,
    "start_time": "2022-12-26T10:39:06.186Z"
   },
   {
    "duration": 52,
    "start_time": "2022-12-26T10:39:06.282Z"
   },
   {
    "duration": 955,
    "start_time": "2022-12-26T10:39:06.336Z"
   },
   {
    "duration": 89,
    "start_time": "2022-12-26T10:39:07.293Z"
   },
   {
    "duration": 93,
    "start_time": "2022-12-26T10:39:07.385Z"
   },
   {
    "duration": 10,
    "start_time": "2022-12-26T10:39:07.480Z"
   },
   {
    "duration": 90,
    "start_time": "2022-12-26T10:39:07.495Z"
   },
   {
    "duration": 11,
    "start_time": "2022-12-26T10:39:07.588Z"
   },
   {
    "duration": 5,
    "start_time": "2022-12-26T10:39:07.601Z"
   },
   {
    "duration": 138,
    "start_time": "2022-12-26T10:39:07.608Z"
   },
   {
    "duration": 4,
    "start_time": "2022-12-26T10:39:07.748Z"
   },
   {
    "duration": 139,
    "start_time": "2022-12-26T10:39:07.754Z"
   },
   {
    "duration": 2183,
    "start_time": "2022-12-26T10:39:07.895Z"
   },
   {
    "duration": 225961,
    "start_time": "2022-12-26T10:39:10.079Z"
   },
   {
    "duration": 1371,
    "start_time": "2022-12-26T10:42:56.042Z"
   },
   {
    "duration": 1408,
    "start_time": "2023-01-03T10:31:23.548Z"
   },
   {
    "duration": 95,
    "start_time": "2023-01-03T10:31:27.340Z"
   },
   {
    "duration": 5,
    "start_time": "2023-01-03T10:31:30.592Z"
   },
   {
    "duration": 15,
    "start_time": "2023-01-03T10:31:34.092Z"
   },
   {
    "duration": 8,
    "start_time": "2023-01-03T10:31:37.590Z"
   },
   {
    "duration": 14,
    "start_time": "2023-01-03T10:31:41.111Z"
   },
   {
    "duration": 5,
    "start_time": "2023-01-03T10:31:43.870Z"
   },
   {
    "duration": 16,
    "start_time": "2023-01-03T10:31:46.320Z"
   },
   {
    "duration": 22,
    "start_time": "2023-01-03T10:31:51.140Z"
   },
   {
    "duration": 17,
    "start_time": "2023-01-03T10:31:55.521Z"
   },
   {
    "duration": 4,
    "start_time": "2023-01-03T10:32:18.098Z"
   }
  ],
  "kernelspec": {
   "display_name": "Python 3 (ipykernel)",
   "language": "python",
   "name": "python3"
  },
  "language_info": {
   "codemirror_mode": {
    "name": "ipython",
    "version": 3
   },
   "file_extension": ".py",
   "mimetype": "text/x-python",
   "name": "python",
   "nbconvert_exporter": "python",
   "pygments_lexer": "ipython3",
   "version": "3.9.5"
  },
  "toc": {
   "base_numbering": 1,
   "nav_menu": {},
   "number_sections": true,
   "sideBar": true,
   "skip_h1_title": true,
   "title_cell": "Содержание",
   "title_sidebar": "Contents",
   "toc_cell": true,
   "toc_position": {
    "height": "calc(100% - 180px)",
    "left": "10px",
    "top": "150px",
    "width": "165px"
   },
   "toc_section_display": true,
   "toc_window_display": true
  }
 },
 "nbformat": 4,
 "nbformat_minor": 2
}
