{
 "cells": [
  
  {
   "cell_type": "markdown",
   "metadata": {},
   "source": [
    "<div class=\"alert alert-danger\">\n",
    "<font size=\"4\"><b>❌ Комментарий ревьюера V2</b></font>\n",
    "    <br /> \n",
    "    <font size=\"3\", color = \"black\">\n",
    "<br /> \n",
    "Ты достаточно невнимательно посмотрела один из красных комментариев первой итерации под функцией прибыли. \"Двойной бутстрап\" ты устранила, а вот проблема с индексами осталась."
   ]
  },
  {
   "cell_type": "markdown",
   "metadata": {},
   "source": [
    "<div class=\"alert alert-danger\">\n",
    "<font size=\"4\"><b>❌ Комментарий ревьюера V3</b></font>\n",
    "    <br /> \n",
    "    <font size=\"3\", color = \"black\">\n",
    "<br /> \n",
    "Проблема осталась, написал комментарий на тему того из-за чего возникает и как устранять."
   ]
  },
  {
   "cell_type": "markdown",
   "metadata": {},
   "source": [
    "<div class=\"alert alert-info\">\n",
    "<font size=\"4\"><b> Комментарий студента_3</b></font>\n",
    "    <br /> \n",
    "    <font size=\"3\", color = \"black\">\n",
    "<br /> \n",
    "В твоем коде (аналог функции revenue) я заменила target_subsample (выборка только 500 точек) на первоначальную выборку target_first. После этого, проверила: индексы, которые попали в топ-200 предсказаний попадают в selected_target столько же раз, не задваиваются. Можно и не сбрасывать индексы, чтобы лучше увидеть.\n",
    "\n",
    "В моей функции когда я исправила код первый раз (убрала бутстрап)  я НЕ передавала отсортированный список индексов лучших предсказаний в сэмпл 500, у меня сразу передавался в исходный таргет: selected = target[predictions_sorted.index][:BEST_POINTS]. Поэтому когда исправляла второй раз и искала баг не смогла найти, что не так в моей функции.\n",
    "        \n",
    "Но, я пропустила эту ошибку в твоем коде проверки функции прибыли (см. ниже, я закомментировала предыдующую строку кода, написала новую). \n",
    "\n",
    "Как работает код в моих функциях, на мой взгляд и исходя из твоих пояснений, соответствует логики, которую ты описал в своем последнем комментарии: сначала в функции бутстрап мы формируем выборку target на 500 точек. Выборку predictions  формируем исходя из предсказаний на сформированной выборке target на 500 точек. Эти сформированные выборки передаем в функцию расчета прибыли:\n",
    "1. сортируем  список предсказаний, полученный в функции бутстрап\n",
    "2. передаем этот отсортированный список предсказаний ограниченный 200 лучшими точками в исходный таргет, в котором индексы не повторяются.   \n",
    "\n",
    "Надеюсь, мы говорим об одном и том же. \n",
    "      </font>\n",
    "</div>\n"
   ]
  },
  {
   "cell_type": "markdown",
   "metadata": {},
   "source": [
    "<div class=\"alert alert-info\">\n",
    "<font size=\"4\">🍕<b> Комментарий ревьюера V4</b></font>\n",
    "    <br /> \n",
    "    <font size=\"3\", color = \"black\">\n",
    "<br /> \n",
    "Да, описание того, как всё должно работать, абсолютно корректное, с таким алгоритмом ошибки не будет. Более того, есть несколько вариантов как решить проблему, и такой алгоритм я считаю самым удобным и простым.<br>\n",
    "Сейчас не проверить точно, но допускаю, что я, формируя код на основе написанного тобой, мог случайно одну строчку не скопировать и оставить старую версию. Если так, то прости пожалуйста. Приведи, пожалуйста, текущий код к описанной тобой выше логике (благо для этого надо всего лишь поменять одну переменную на другую) и, кажется, можно принимать работу.<br>\n",
    "За невнимательность ещё раз прости 😿"
   ]
  },
  {
   "cell_type": "markdown",
   "metadata": {},
   "source": [
    "<div class=\"alert alert-info\">\n",
    "<font size=\"4\"><b> Комментарий студента_4</b></font>\n",
    "    <br /> \n",
    "    <font size=\"3\", color = \"black\">\n",
    "<br /> \n",
    "    Я поменяла одну переменную в  своей функции бутстрап и  ниже  оставила комментарий с логикой (перед 27 строкой кода).\n",
    " </font>\n",
    "</div>"
   ]
  },
  {
   "cell_type": "markdown",
   "metadata": {},
   "source": [
    "<div class=\"alert alert-info\">\n",
    "<font size=\"4\"><b>Комментарий ревьюера</b></font>\n",
    "    <br /> \n",
    "    <font size=\"3\", color = \"black\">\n",
    "<br />\n",
    "    Привет, Анастасия! Спасибо, что прислала задание :) <br>Меня зовут Никита Сон и я буду проверять твой проект. Предлагаю обращаться друг к другу на ты, как это принято в Практикуме, если ты не против. Но если хочешь на Вы - не буду возражать 🙂\n",
    "        \n",
    "Поехали 🚀\n",
    "    <br />\n",
    "\n",
    "Мои комментарии обозначены пометкой <b>Комментарий ревьюера</b>. При внесении правок в проект, пожалуйста, не меняй и не удаляй их т.к. дальнейшая проверка будет происходить в том числе на основе того, исправлены замечания в комментариях или нет. Зато ты всегда можешь оставить свои комментарии для меня :)\n",
    "    </font>\n",
    "</div>\n",
    "\n",
    "<div class=\"alert alert-success\">\n",
    "<font size=\"4\"><b>✔️ Комментарий ревьюера</b></font>\n",
    "    <br /> \n",
    "    <font size=\"3\", color = \"black\">\n",
    "<br />    \n",
    "В зелёных блоках будут позитивные комментарии\n",
    "<br />\n",
    "    </font>\n",
    "</div>\n",
    "\n",
    "<div class=\"alert alert-warning\">\n",
    "<font size=\"4\"><b>⚠️ Комментарий ревьюера</b></font>\n",
    "    <br /> \n",
    "    <font size=\"3\", color = \"black\">\n",
    "<br />\n",
    "В жёлтых - некритичные замечания\n",
    "    </font>\n",
    "</div>\n",
    "\n",
    "<div class=\"alert alert-danger\">\n",
    "<font size=\"4\"><b>❌ Комментарий ревьюера</b></font>\n",
    "    <br /> \n",
    "    <font size=\"3\", color = \"black\">\n",
    "<br /> \n",
    "В красных - важные замечания, которые надо обязательно устранить\n",
    "    </font>\n",
    "</div>\n",
    "\n",
    "<div class=\"alert alert-info\">\n",
    "<font size=\"4\">🍕<b> Комментарий ревьюера</b></font>\n",
    "    <br /> \n",
    "    <font size=\"3\", color = \"black\">\n",
    "<br /> \n",
    "В синих с пиццей - различные нейтральные сообщения, советы на будещее и прочее.\n",
    "    </font>\n",
    "</div>"
   ]
  },
  {
   "cell_type": "markdown",
   "metadata": {},
   "source": [
    "# Выбор локации для скважины"
   ]
  },
  {
   "cell_type": "markdown",
   "metadata": {},
   "source": [
    "Допустим, вы работаете в добывающей компании «ГлавРосГосНефть». Нужно решить, где бурить новую скважину.\n",
    "\n",
    "Вам предоставлены пробы нефти в трёх регионах: в каждом 10 000 месторождений, где измерили качество нефти и объём её запасов. Постройте модель машинного обучения, которая поможет определить регион, где добыча принесёт наибольшую прибыль. Проанализируйте возможную прибыль и риски техникой *Bootstrap.*\n",
    "\n",
    "Шаги для выбора локации:\n",
    "\n",
    "- В избранном регионе ищут месторождения, для каждого определяют значения признаков;\n",
    "- Строят модель и оценивают объём запасов;\n",
    "- Выбирают месторождения с самым высокими оценками значений. Количество месторождений зависит от бюджета компании и стоимости разработки одной скважины;\n",
    "- Прибыль равна суммарной прибыли отобранных месторождений."
   ]
  },
  {
   "cell_type": "markdown",
   "metadata": {},
   "source": [
    "## Загрузка и подготовка данных"
   ]
  },
  {
   "cell_type": "code",
   "execution_count": 1,
   "metadata": {},
   "outputs": [],
   "source": [
    "\n",
    "#импорт библиотек:\n",
    "\n",
    "import pandas as pd\n",
    "import seaborn as sns\n",
    "\n",
    "from numpy.random import RandomState\n",
    "RANDOM_STATE = RandomState(12345)\n",
    "\n",
    "from sklearn.model_selection import train_test_split\n",
    "from sklearn.preprocessing import StandardScaler\n",
    "\n",
    "\n",
    "from sklearn.linear_model import LinearRegression\n",
    "from sklearn.metrics import mean_squared_error\n",
    "from sklearn.metrics import r2_score\n",
    "from sklearn.metrics import mean_absolute_error\n"
   ]
  },
  {
   "cell_type": "code",
   "execution_count": 2,
   "metadata": {},
   "outputs": [],
   "source": [
    "#загрузим данные:\n",
    "data = pd.read_csv('/datasets/geo_data_0.csv')\n",
    "data_1 = pd.read_csv('/datasets/geo_data_1.csv')\n",
    "data_2 = pd.read_csv('/datasets/geo_data_2.csv')"
   ]
  },
  {
   "cell_type": "markdown",
   "metadata": {},
   "source": [
    "<div class=\"alert alert-info\">\n",
    "<font size=\"4\">🍕<b> Комментарий ревьюера</b></font>\n",
    "    <br /> \n",
    "    <font size=\"3\", color = \"black\">\n",
    "<br />\n",
    "Ну в принципе весьма очевидно, что выше ты делаешь импорты и делаешь загрузку данных. Не стоит оставлять комментари в очевидных местах. Комментарии должны дополнять код, а не дублировать.\n",
    "    </font>\n",
    "</div>"
   ]
  },
  {
   "cell_type": "code",
   "execution_count": 3,
   "metadata": {},
   "outputs": [],
   "source": [
    "# напишем функцию для вывода основной информации о выборке:\n",
    "def set_inform(df):\n",
    "    display(df.head(10), df.shape)\n",
    "    display(df.info())\n",
    "    display('Количество пропусков:', df.isna().sum())\n",
    "    display('Количество явных дубликатов:', df.duplicated().sum())\n",
    "    display('Количество уникальных названий столбца id', df['id'].value_counts().head(15))\n",
    "    display('Проверка на мультиколлинеарность:', df.corr(method='spearman'))"
   ]
  },
  {
   "cell_type": "code",
   "execution_count": 4,
   "metadata": {},
   "outputs": [
    {
     "data": {
      "text/plain": [
       "'Выборка по первому региону:'"
      ]
     },
     "metadata": {},
     "output_type": "display_data"
    },
    {
     "data": {
      "text/html": [
       "<div>\n",
       "<style scoped>\n",
       "    .dataframe tbody tr th:only-of-type {\n",
       "        vertical-align: middle;\n",
       "    }\n",
       "\n",
       "    .dataframe tbody tr th {\n",
       "        vertical-align: top;\n",
       "    }\n",
       "\n",
       "    .dataframe thead th {\n",
       "        text-align: right;\n",
       "    }\n",
       "</style>\n",
       "<table border=\"1\" class=\"dataframe\">\n",
       "  <thead>\n",
       "    <tr style=\"text-align: right;\">\n",
       "      <th></th>\n",
       "      <th>id</th>\n",
       "      <th>f0</th>\n",
       "      <th>f1</th>\n",
       "      <th>f2</th>\n",
       "      <th>product</th>\n",
       "    </tr>\n",
       "  </thead>\n",
       "  <tbody>\n",
       "    <tr>\n",
       "      <th>0</th>\n",
       "      <td>txEyH</td>\n",
       "      <td>0.705745</td>\n",
       "      <td>-0.497823</td>\n",
       "      <td>1.221170</td>\n",
       "      <td>105.280062</td>\n",
       "    </tr>\n",
       "    <tr>\n",
       "      <th>1</th>\n",
       "      <td>2acmU</td>\n",
       "      <td>1.334711</td>\n",
       "      <td>-0.340164</td>\n",
       "      <td>4.365080</td>\n",
       "      <td>73.037750</td>\n",
       "    </tr>\n",
       "    <tr>\n",
       "      <th>2</th>\n",
       "      <td>409Wp</td>\n",
       "      <td>1.022732</td>\n",
       "      <td>0.151990</td>\n",
       "      <td>1.419926</td>\n",
       "      <td>85.265647</td>\n",
       "    </tr>\n",
       "    <tr>\n",
       "      <th>3</th>\n",
       "      <td>iJLyR</td>\n",
       "      <td>-0.032172</td>\n",
       "      <td>0.139033</td>\n",
       "      <td>2.978566</td>\n",
       "      <td>168.620776</td>\n",
       "    </tr>\n",
       "    <tr>\n",
       "      <th>4</th>\n",
       "      <td>Xdl7t</td>\n",
       "      <td>1.988431</td>\n",
       "      <td>0.155413</td>\n",
       "      <td>4.751769</td>\n",
       "      <td>154.036647</td>\n",
       "    </tr>\n",
       "    <tr>\n",
       "      <th>5</th>\n",
       "      <td>wX4Hy</td>\n",
       "      <td>0.969570</td>\n",
       "      <td>0.489775</td>\n",
       "      <td>-0.735383</td>\n",
       "      <td>64.741541</td>\n",
       "    </tr>\n",
       "    <tr>\n",
       "      <th>6</th>\n",
       "      <td>tL6pL</td>\n",
       "      <td>0.645075</td>\n",
       "      <td>0.530656</td>\n",
       "      <td>1.780266</td>\n",
       "      <td>49.055285</td>\n",
       "    </tr>\n",
       "    <tr>\n",
       "      <th>7</th>\n",
       "      <td>BYPU6</td>\n",
       "      <td>-0.400648</td>\n",
       "      <td>0.808337</td>\n",
       "      <td>-5.624670</td>\n",
       "      <td>72.943292</td>\n",
       "    </tr>\n",
       "    <tr>\n",
       "      <th>8</th>\n",
       "      <td>j9Oui</td>\n",
       "      <td>0.643105</td>\n",
       "      <td>-0.551583</td>\n",
       "      <td>2.372141</td>\n",
       "      <td>113.356160</td>\n",
       "    </tr>\n",
       "    <tr>\n",
       "      <th>9</th>\n",
       "      <td>OLuZU</td>\n",
       "      <td>2.173381</td>\n",
       "      <td>0.563698</td>\n",
       "      <td>9.441852</td>\n",
       "      <td>127.910945</td>\n",
       "    </tr>\n",
       "  </tbody>\n",
       "</table>\n",
       "</div>"
      ],
      "text/plain": [
       "      id        f0        f1        f2     product\n",
       "0  txEyH  0.705745 -0.497823  1.221170  105.280062\n",
       "1  2acmU  1.334711 -0.340164  4.365080   73.037750\n",
       "2  409Wp  1.022732  0.151990  1.419926   85.265647\n",
       "3  iJLyR -0.032172  0.139033  2.978566  168.620776\n",
       "4  Xdl7t  1.988431  0.155413  4.751769  154.036647\n",
       "5  wX4Hy  0.969570  0.489775 -0.735383   64.741541\n",
       "6  tL6pL  0.645075  0.530656  1.780266   49.055285\n",
       "7  BYPU6 -0.400648  0.808337 -5.624670   72.943292\n",
       "8  j9Oui  0.643105 -0.551583  2.372141  113.356160\n",
       "9  OLuZU  2.173381  0.563698  9.441852  127.910945"
      ]
     },
     "metadata": {},
     "output_type": "display_data"
    },
    {
     "data": {
      "text/plain": [
       "(100000, 5)"
      ]
     },
     "metadata": {},
     "output_type": "display_data"
    },
    {
     "name": "stdout",
     "output_type": "stream",
     "text": [
      "<class 'pandas.core.frame.DataFrame'>\n",
      "RangeIndex: 100000 entries, 0 to 99999\n",
      "Data columns (total 5 columns):\n",
      " #   Column   Non-Null Count   Dtype  \n",
      "---  ------   --------------   -----  \n",
      " 0   id       100000 non-null  object \n",
      " 1   f0       100000 non-null  float64\n",
      " 2   f1       100000 non-null  float64\n",
      " 3   f2       100000 non-null  float64\n",
      " 4   product  100000 non-null  float64\n",
      "dtypes: float64(4), object(1)\n",
      "memory usage: 3.8+ MB\n"
     ]
    },
    {
     "data": {
      "text/plain": [
       "None"
      ]
     },
     "metadata": {},
     "output_type": "display_data"
    },
    {
     "data": {
      "text/plain": [
       "'Количество пропусков:'"
      ]
     },
     "metadata": {},
     "output_type": "display_data"
    },
    {
     "data": {
      "text/plain": [
       "id         0\n",
       "f0         0\n",
       "f1         0\n",
       "f2         0\n",
       "product    0\n",
       "dtype: int64"
      ]
     },
     "metadata": {},
     "output_type": "display_data"
    },
    {
     "data": {
      "text/plain": [
       "'Количество явных дубликатов:'"
      ]
     },
     "metadata": {},
     "output_type": "display_data"
    },
    {
     "data": {
      "text/plain": [
       "0"
      ]
     },
     "metadata": {},
     "output_type": "display_data"
    },
    {
     "data": {
      "text/plain": [
       "'Количество уникальных названий столбца id'"
      ]
     },
     "metadata": {},
     "output_type": "display_data"
    },
    {
     "data": {
      "text/plain": [
       "TtcGQ    2\n",
       "A5aEY    2\n",
       "AGS9W    2\n",
       "fiKDv    2\n",
       "HZww2    2\n",
       "bsk9y    2\n",
       "74z30    2\n",
       "Tdehs    2\n",
       "bxg6G    2\n",
       "QcMuo    2\n",
       "At3LI    1\n",
       "GTrrh    1\n",
       "0zxMY    1\n",
       "WPmGa    1\n",
       "gumu4    1\n",
       "Name: id, dtype: int64"
      ]
     },
     "metadata": {},
     "output_type": "display_data"
    },
    {
     "data": {
      "text/plain": [
       "'Проверка на мультиколлинеарность:'"
      ]
     },
     "metadata": {},
     "output_type": "display_data"
    },
    {
     "data": {
      "text/html": [
       "<div>\n",
       "<style scoped>\n",
       "    .dataframe tbody tr th:only-of-type {\n",
       "        vertical-align: middle;\n",
       "    }\n",
       "\n",
       "    .dataframe tbody tr th {\n",
       "        vertical-align: top;\n",
       "    }\n",
       "\n",
       "    .dataframe thead th {\n",
       "        text-align: right;\n",
       "    }\n",
       "</style>\n",
       "<table border=\"1\" class=\"dataframe\">\n",
       "  <thead>\n",
       "    <tr style=\"text-align: right;\">\n",
       "      <th></th>\n",
       "      <th>f0</th>\n",
       "      <th>f1</th>\n",
       "      <th>f2</th>\n",
       "      <th>product</th>\n",
       "    </tr>\n",
       "  </thead>\n",
       "  <tbody>\n",
       "    <tr>\n",
       "      <th>f0</th>\n",
       "      <td>1.000000</td>\n",
       "      <td>-0.471395</td>\n",
       "      <td>-0.002685</td>\n",
       "      <td>0.128417</td>\n",
       "    </tr>\n",
       "    <tr>\n",
       "      <th>f1</th>\n",
       "      <td>-0.471395</td>\n",
       "      <td>1.000000</td>\n",
       "      <td>0.001413</td>\n",
       "      <td>-0.181143</td>\n",
       "    </tr>\n",
       "    <tr>\n",
       "      <th>f2</th>\n",
       "      <td>-0.002685</td>\n",
       "      <td>0.001413</td>\n",
       "      <td>1.000000</td>\n",
       "      <td>0.486394</td>\n",
       "    </tr>\n",
       "    <tr>\n",
       "      <th>product</th>\n",
       "      <td>0.128417</td>\n",
       "      <td>-0.181143</td>\n",
       "      <td>0.486394</td>\n",
       "      <td>1.000000</td>\n",
       "    </tr>\n",
       "  </tbody>\n",
       "</table>\n",
       "</div>"
      ],
      "text/plain": [
       "               f0        f1        f2   product\n",
       "f0       1.000000 -0.471395 -0.002685  0.128417\n",
       "f1      -0.471395  1.000000  0.001413 -0.181143\n",
       "f2      -0.002685  0.001413  1.000000  0.486394\n",
       "product  0.128417 -0.181143  0.486394  1.000000"
      ]
     },
     "metadata": {},
     "output_type": "display_data"
    }
   ],
   "source": [
    "display('Выборка по первому региону:')\n",
    "set_inform(data)"
   ]
  },
  {
   "cell_type": "markdown",
   "metadata": {},
   "source": [
    "<div class=\"alert alert-success\">\n",
    "<font size=\"4\"><b>✔️ Комментарий ревьюера</b></font>\n",
    "    <br /> \n",
    "    <font size=\"3\", color = \"black\">\n",
    "<br />    \n",
    "Молодец, что проверяешь на мультиколлинеарность 👍<br>\n",
    "\n",
    "Единственное, в будущем удобнее строить heatmap: по ним легче заметить где наиболее выделяющиеся значения. Особенно когда признаков много.<br>\n",
    "\n",
    "Что проверила дубликаты - тоже молодец! И что обнаружила, что они как бы не совсем дубликаты - тоже супер.<br>\n",
    "Что их нельзя удалять - не совсем так, их вполне можно удалить, а можно и нет. В реальном мире надо уточнять у поставщика данных из-за чего такое возможно, и отталкиваться от этого. В нашей ситуацияя, когда мы не можем такое понять, в принципе оба варианта как удалить, так и оставить - корректны.\n",
    "<br />\n",
    "    </font>\n",
    "</div>"
   ]
  },
  {
   "cell_type": "code",
   "execution_count": 5,
   "metadata": {},
   "outputs": [
    {
     "data": {
      "text/plain": [
       "'Выборка по второму региону:'"
      ]
     },
     "metadata": {},
     "output_type": "display_data"
    },
    {
     "data": {
      "text/html": [
       "<div>\n",
       "<style scoped>\n",
       "    .dataframe tbody tr th:only-of-type {\n",
       "        vertical-align: middle;\n",
       "    }\n",
       "\n",
       "    .dataframe tbody tr th {\n",
       "        vertical-align: top;\n",
       "    }\n",
       "\n",
       "    .dataframe thead th {\n",
       "        text-align: right;\n",
       "    }\n",
       "</style>\n",
       "<table border=\"1\" class=\"dataframe\">\n",
       "  <thead>\n",
       "    <tr style=\"text-align: right;\">\n",
       "      <th></th>\n",
       "      <th>id</th>\n",
       "      <th>f0</th>\n",
       "      <th>f1</th>\n",
       "      <th>f2</th>\n",
       "      <th>product</th>\n",
       "    </tr>\n",
       "  </thead>\n",
       "  <tbody>\n",
       "    <tr>\n",
       "      <th>0</th>\n",
       "      <td>kBEdx</td>\n",
       "      <td>-15.001348</td>\n",
       "      <td>-8.276000</td>\n",
       "      <td>-0.005876</td>\n",
       "      <td>3.179103</td>\n",
       "    </tr>\n",
       "    <tr>\n",
       "      <th>1</th>\n",
       "      <td>62mP7</td>\n",
       "      <td>14.272088</td>\n",
       "      <td>-3.475083</td>\n",
       "      <td>0.999183</td>\n",
       "      <td>26.953261</td>\n",
       "    </tr>\n",
       "    <tr>\n",
       "      <th>2</th>\n",
       "      <td>vyE1P</td>\n",
       "      <td>6.263187</td>\n",
       "      <td>-5.948386</td>\n",
       "      <td>5.001160</td>\n",
       "      <td>134.766305</td>\n",
       "    </tr>\n",
       "    <tr>\n",
       "      <th>3</th>\n",
       "      <td>KcrkZ</td>\n",
       "      <td>-13.081196</td>\n",
       "      <td>-11.506057</td>\n",
       "      <td>4.999415</td>\n",
       "      <td>137.945408</td>\n",
       "    </tr>\n",
       "    <tr>\n",
       "      <th>4</th>\n",
       "      <td>AHL4O</td>\n",
       "      <td>12.702195</td>\n",
       "      <td>-8.147433</td>\n",
       "      <td>5.004363</td>\n",
       "      <td>134.766305</td>\n",
       "    </tr>\n",
       "    <tr>\n",
       "      <th>5</th>\n",
       "      <td>HHckp</td>\n",
       "      <td>-3.327590</td>\n",
       "      <td>-2.205276</td>\n",
       "      <td>3.003647</td>\n",
       "      <td>84.038886</td>\n",
       "    </tr>\n",
       "    <tr>\n",
       "      <th>6</th>\n",
       "      <td>h5Ujo</td>\n",
       "      <td>-11.142655</td>\n",
       "      <td>-10.133399</td>\n",
       "      <td>4.002382</td>\n",
       "      <td>110.992147</td>\n",
       "    </tr>\n",
       "    <tr>\n",
       "      <th>7</th>\n",
       "      <td>muH9x</td>\n",
       "      <td>4.234715</td>\n",
       "      <td>-0.001354</td>\n",
       "      <td>2.004588</td>\n",
       "      <td>53.906522</td>\n",
       "    </tr>\n",
       "    <tr>\n",
       "      <th>8</th>\n",
       "      <td>YiRkx</td>\n",
       "      <td>13.355129</td>\n",
       "      <td>-0.332068</td>\n",
       "      <td>4.998647</td>\n",
       "      <td>134.766305</td>\n",
       "    </tr>\n",
       "    <tr>\n",
       "      <th>9</th>\n",
       "      <td>jG6Gi</td>\n",
       "      <td>1.069227</td>\n",
       "      <td>-11.025667</td>\n",
       "      <td>4.997844</td>\n",
       "      <td>137.945408</td>\n",
       "    </tr>\n",
       "  </tbody>\n",
       "</table>\n",
       "</div>"
      ],
      "text/plain": [
       "      id         f0         f1        f2     product\n",
       "0  kBEdx -15.001348  -8.276000 -0.005876    3.179103\n",
       "1  62mP7  14.272088  -3.475083  0.999183   26.953261\n",
       "2  vyE1P   6.263187  -5.948386  5.001160  134.766305\n",
       "3  KcrkZ -13.081196 -11.506057  4.999415  137.945408\n",
       "4  AHL4O  12.702195  -8.147433  5.004363  134.766305\n",
       "5  HHckp  -3.327590  -2.205276  3.003647   84.038886\n",
       "6  h5Ujo -11.142655 -10.133399  4.002382  110.992147\n",
       "7  muH9x   4.234715  -0.001354  2.004588   53.906522\n",
       "8  YiRkx  13.355129  -0.332068  4.998647  134.766305\n",
       "9  jG6Gi   1.069227 -11.025667  4.997844  137.945408"
      ]
     },
     "metadata": {},
     "output_type": "display_data"
    },
    {
     "data": {
      "text/plain": [
       "(100000, 5)"
      ]
     },
     "metadata": {},
     "output_type": "display_data"
    },
    {
     "name": "stdout",
     "output_type": "stream",
     "text": [
      "<class 'pandas.core.frame.DataFrame'>\n",
      "RangeIndex: 100000 entries, 0 to 99999\n",
      "Data columns (total 5 columns):\n",
      " #   Column   Non-Null Count   Dtype  \n",
      "---  ------   --------------   -----  \n",
      " 0   id       100000 non-null  object \n",
      " 1   f0       100000 non-null  float64\n",
      " 2   f1       100000 non-null  float64\n",
      " 3   f2       100000 non-null  float64\n",
      " 4   product  100000 non-null  float64\n",
      "dtypes: float64(4), object(1)\n",
      "memory usage: 3.8+ MB\n"
     ]
    },
    {
     "data": {
      "text/plain": [
       "None"
      ]
     },
     "metadata": {},
     "output_type": "display_data"
    },
    {
     "data": {
      "text/plain": [
       "'Количество пропусков:'"
      ]
     },
     "metadata": {},
     "output_type": "display_data"
    },
    {
     "data": {
      "text/plain": [
       "id         0\n",
       "f0         0\n",
       "f1         0\n",
       "f2         0\n",
       "product    0\n",
       "dtype: int64"
      ]
     },
     "metadata": {},
     "output_type": "display_data"
    },
    {
     "data": {
      "text/plain": [
       "'Количество явных дубликатов:'"
      ]
     },
     "metadata": {},
     "output_type": "display_data"
    },
    {
     "data": {
      "text/plain": [
       "0"
      ]
     },
     "metadata": {},
     "output_type": "display_data"
    },
    {
     "data": {
      "text/plain": [
       "'Количество уникальных названий столбца id'"
      ]
     },
     "metadata": {},
     "output_type": "display_data"
    },
    {
     "data": {
      "text/plain": [
       "bfPNe    2\n",
       "wt4Uk    2\n",
       "LHZR0    2\n",
       "5ltQ6    2\n",
       "Etgwx    1\n",
       "75SNP    1\n",
       "1BHQK    1\n",
       "UcggM    1\n",
       "Blfu5    1\n",
       "iXqZP    1\n",
       "RJosn    1\n",
       "M2ySO    1\n",
       "oW7BC    1\n",
       "xUS2n    1\n",
       "uFdOH    1\n",
       "Name: id, dtype: int64"
      ]
     },
     "metadata": {},
     "output_type": "display_data"
    },
    {
     "data": {
      "text/plain": [
       "'Проверка на мультиколлинеарность:'"
      ]
     },
     "metadata": {},
     "output_type": "display_data"
    },
    {
     "data": {
      "text/html": [
       "<div>\n",
       "<style scoped>\n",
       "    .dataframe tbody tr th:only-of-type {\n",
       "        vertical-align: middle;\n",
       "    }\n",
       "\n",
       "    .dataframe tbody tr th {\n",
       "        vertical-align: top;\n",
       "    }\n",
       "\n",
       "    .dataframe thead th {\n",
       "        text-align: right;\n",
       "    }\n",
       "</style>\n",
       "<table border=\"1\" class=\"dataframe\">\n",
       "  <thead>\n",
       "    <tr style=\"text-align: right;\">\n",
       "      <th></th>\n",
       "      <th>f0</th>\n",
       "      <th>f1</th>\n",
       "      <th>f2</th>\n",
       "      <th>product</th>\n",
       "    </tr>\n",
       "  </thead>\n",
       "  <tbody>\n",
       "    <tr>\n",
       "      <th>f0</th>\n",
       "      <td>1.000000</td>\n",
       "      <td>0.182248</td>\n",
       "      <td>-0.002000</td>\n",
       "      <td>-0.122869</td>\n",
       "    </tr>\n",
       "    <tr>\n",
       "      <th>f1</th>\n",
       "      <td>0.182248</td>\n",
       "      <td>1.000000</td>\n",
       "      <td>-0.003678</td>\n",
       "      <td>-0.033908</td>\n",
       "    </tr>\n",
       "    <tr>\n",
       "      <th>f2</th>\n",
       "      <td>-0.002000</td>\n",
       "      <td>-0.003678</td>\n",
       "      <td>1.000000</td>\n",
       "      <td>0.975605</td>\n",
       "    </tr>\n",
       "    <tr>\n",
       "      <th>product</th>\n",
       "      <td>-0.122869</td>\n",
       "      <td>-0.033908</td>\n",
       "      <td>0.975605</td>\n",
       "      <td>1.000000</td>\n",
       "    </tr>\n",
       "  </tbody>\n",
       "</table>\n",
       "</div>"
      ],
      "text/plain": [
       "               f0        f1        f2   product\n",
       "f0       1.000000  0.182248 -0.002000 -0.122869\n",
       "f1       0.182248  1.000000 -0.003678 -0.033908\n",
       "f2      -0.002000 -0.003678  1.000000  0.975605\n",
       "product -0.122869 -0.033908  0.975605  1.000000"
      ]
     },
     "metadata": {},
     "output_type": "display_data"
    }
   ],
   "source": [
    "display('Выборка по второму региону:')\n",
    "set_inform(data_1)"
   ]
  },
  {
   "cell_type": "code",
   "execution_count": 6,
   "metadata": {},
   "outputs": [
    {
     "data": {
      "text/plain": [
       "'Выборка по третьему региону:'"
      ]
     },
     "metadata": {},
     "output_type": "display_data"
    },
    {
     "data": {
      "text/html": [
       "<div>\n",
       "<style scoped>\n",
       "    .dataframe tbody tr th:only-of-type {\n",
       "        vertical-align: middle;\n",
       "    }\n",
       "\n",
       "    .dataframe tbody tr th {\n",
       "        vertical-align: top;\n",
       "    }\n",
       "\n",
       "    .dataframe thead th {\n",
       "        text-align: right;\n",
       "    }\n",
       "</style>\n",
       "<table border=\"1\" class=\"dataframe\">\n",
       "  <thead>\n",
       "    <tr style=\"text-align: right;\">\n",
       "      <th></th>\n",
       "      <th>id</th>\n",
       "      <th>f0</th>\n",
       "      <th>f1</th>\n",
       "      <th>f2</th>\n",
       "      <th>product</th>\n",
       "    </tr>\n",
       "  </thead>\n",
       "  <tbody>\n",
       "    <tr>\n",
       "      <th>0</th>\n",
       "      <td>fwXo0</td>\n",
       "      <td>-1.146987</td>\n",
       "      <td>0.963328</td>\n",
       "      <td>-0.828965</td>\n",
       "      <td>27.758673</td>\n",
       "    </tr>\n",
       "    <tr>\n",
       "      <th>1</th>\n",
       "      <td>WJtFt</td>\n",
       "      <td>0.262778</td>\n",
       "      <td>0.269839</td>\n",
       "      <td>-2.530187</td>\n",
       "      <td>56.069697</td>\n",
       "    </tr>\n",
       "    <tr>\n",
       "      <th>2</th>\n",
       "      <td>ovLUW</td>\n",
       "      <td>0.194587</td>\n",
       "      <td>0.289035</td>\n",
       "      <td>-5.586433</td>\n",
       "      <td>62.871910</td>\n",
       "    </tr>\n",
       "    <tr>\n",
       "      <th>3</th>\n",
       "      <td>q6cA6</td>\n",
       "      <td>2.236060</td>\n",
       "      <td>-0.553760</td>\n",
       "      <td>0.930038</td>\n",
       "      <td>114.572842</td>\n",
       "    </tr>\n",
       "    <tr>\n",
       "      <th>4</th>\n",
       "      <td>WPMUX</td>\n",
       "      <td>-0.515993</td>\n",
       "      <td>1.716266</td>\n",
       "      <td>5.899011</td>\n",
       "      <td>149.600746</td>\n",
       "    </tr>\n",
       "    <tr>\n",
       "      <th>5</th>\n",
       "      <td>LzZXx</td>\n",
       "      <td>-0.758092</td>\n",
       "      <td>0.710691</td>\n",
       "      <td>2.585887</td>\n",
       "      <td>90.222465</td>\n",
       "    </tr>\n",
       "    <tr>\n",
       "      <th>6</th>\n",
       "      <td>WBHRv</td>\n",
       "      <td>-0.574891</td>\n",
       "      <td>0.317727</td>\n",
       "      <td>1.773745</td>\n",
       "      <td>45.641478</td>\n",
       "    </tr>\n",
       "    <tr>\n",
       "      <th>7</th>\n",
       "      <td>XO8fn</td>\n",
       "      <td>-1.906649</td>\n",
       "      <td>-2.458350</td>\n",
       "      <td>-0.177097</td>\n",
       "      <td>72.480640</td>\n",
       "    </tr>\n",
       "    <tr>\n",
       "      <th>8</th>\n",
       "      <td>ybmQ5</td>\n",
       "      <td>1.776292</td>\n",
       "      <td>-0.279356</td>\n",
       "      <td>3.004156</td>\n",
       "      <td>106.616832</td>\n",
       "    </tr>\n",
       "    <tr>\n",
       "      <th>9</th>\n",
       "      <td>OilcN</td>\n",
       "      <td>-1.214452</td>\n",
       "      <td>-0.439314</td>\n",
       "      <td>5.922514</td>\n",
       "      <td>52.954532</td>\n",
       "    </tr>\n",
       "  </tbody>\n",
       "</table>\n",
       "</div>"
      ],
      "text/plain": [
       "      id        f0        f1        f2     product\n",
       "0  fwXo0 -1.146987  0.963328 -0.828965   27.758673\n",
       "1  WJtFt  0.262778  0.269839 -2.530187   56.069697\n",
       "2  ovLUW  0.194587  0.289035 -5.586433   62.871910\n",
       "3  q6cA6  2.236060 -0.553760  0.930038  114.572842\n",
       "4  WPMUX -0.515993  1.716266  5.899011  149.600746\n",
       "5  LzZXx -0.758092  0.710691  2.585887   90.222465\n",
       "6  WBHRv -0.574891  0.317727  1.773745   45.641478\n",
       "7  XO8fn -1.906649 -2.458350 -0.177097   72.480640\n",
       "8  ybmQ5  1.776292 -0.279356  3.004156  106.616832\n",
       "9  OilcN -1.214452 -0.439314  5.922514   52.954532"
      ]
     },
     "metadata": {},
     "output_type": "display_data"
    },
    {
     "data": {
      "text/plain": [
       "(100000, 5)"
      ]
     },
     "metadata": {},
     "output_type": "display_data"
    },
    {
     "name": "stdout",
     "output_type": "stream",
     "text": [
      "<class 'pandas.core.frame.DataFrame'>\n",
      "RangeIndex: 100000 entries, 0 to 99999\n",
      "Data columns (total 5 columns):\n",
      " #   Column   Non-Null Count   Dtype  \n",
      "---  ------   --------------   -----  \n",
      " 0   id       100000 non-null  object \n",
      " 1   f0       100000 non-null  float64\n",
      " 2   f1       100000 non-null  float64\n",
      " 3   f2       100000 non-null  float64\n",
      " 4   product  100000 non-null  float64\n",
      "dtypes: float64(4), object(1)\n",
      "memory usage: 3.8+ MB\n"
     ]
    },
    {
     "data": {
      "text/plain": [
       "None"
      ]
     },
     "metadata": {},
     "output_type": "display_data"
    },
    {
     "data": {
      "text/plain": [
       "'Количество пропусков:'"
      ]
     },
     "metadata": {},
     "output_type": "display_data"
    },
    {
     "data": {
      "text/plain": [
       "id         0\n",
       "f0         0\n",
       "f1         0\n",
       "f2         0\n",
       "product    0\n",
       "dtype: int64"
      ]
     },
     "metadata": {},
     "output_type": "display_data"
    },
    {
     "data": {
      "text/plain": [
       "'Количество явных дубликатов:'"
      ]
     },
     "metadata": {},
     "output_type": "display_data"
    },
    {
     "data": {
      "text/plain": [
       "0"
      ]
     },
     "metadata": {},
     "output_type": "display_data"
    },
    {
     "data": {
      "text/plain": [
       "'Количество уникальных названий столбца id'"
      ]
     },
     "metadata": {},
     "output_type": "display_data"
    },
    {
     "data": {
      "text/plain": [
       "KUPhW    2\n",
       "VF7Jo    2\n",
       "xCHr8    2\n",
       "Vcm5J    2\n",
       "0BUt9    1\n",
       "NIWae    1\n",
       "Zg8eV    1\n",
       "M4ipZ    1\n",
       "2tsWS    1\n",
       "XS37d    1\n",
       "PFTUn    1\n",
       "kUcN0    1\n",
       "O0V3d    1\n",
       "DZOwT    1\n",
       "6JDtj    1\n",
       "Name: id, dtype: int64"
      ]
     },
     "metadata": {},
     "output_type": "display_data"
    },
    {
     "data": {
      "text/plain": [
       "'Проверка на мультиколлинеарность:'"
      ]
     },
     "metadata": {},
     "output_type": "display_data"
    },
    {
     "data": {
      "text/html": [
       "<div>\n",
       "<style scoped>\n",
       "    .dataframe tbody tr th:only-of-type {\n",
       "        vertical-align: middle;\n",
       "    }\n",
       "\n",
       "    .dataframe tbody tr th {\n",
       "        vertical-align: top;\n",
       "    }\n",
       "\n",
       "    .dataframe thead th {\n",
       "        text-align: right;\n",
       "    }\n",
       "</style>\n",
       "<table border=\"1\" class=\"dataframe\">\n",
       "  <thead>\n",
       "    <tr style=\"text-align: right;\">\n",
       "      <th></th>\n",
       "      <th>f0</th>\n",
       "      <th>f1</th>\n",
       "      <th>f2</th>\n",
       "      <th>product</th>\n",
       "    </tr>\n",
       "  </thead>\n",
       "  <tbody>\n",
       "    <tr>\n",
       "      <th>f0</th>\n",
       "      <td>1.000000</td>\n",
       "      <td>0.002493</td>\n",
       "      <td>0.000053</td>\n",
       "      <td>-0.002464</td>\n",
       "    </tr>\n",
       "    <tr>\n",
       "      <th>f1</th>\n",
       "      <td>0.002493</td>\n",
       "      <td>1.000000</td>\n",
       "      <td>0.000378</td>\n",
       "      <td>-0.001463</td>\n",
       "    </tr>\n",
       "    <tr>\n",
       "      <th>f2</th>\n",
       "      <td>0.000053</td>\n",
       "      <td>0.000378</td>\n",
       "      <td>1.000000</td>\n",
       "      <td>0.448463</td>\n",
       "    </tr>\n",
       "    <tr>\n",
       "      <th>product</th>\n",
       "      <td>-0.002464</td>\n",
       "      <td>-0.001463</td>\n",
       "      <td>0.448463</td>\n",
       "      <td>1.000000</td>\n",
       "    </tr>\n",
       "  </tbody>\n",
       "</table>\n",
       "</div>"
      ],
      "text/plain": [
       "               f0        f1        f2   product\n",
       "f0       1.000000  0.002493  0.000053 -0.002464\n",
       "f1       0.002493  1.000000  0.000378 -0.001463\n",
       "f2       0.000053  0.000378  1.000000  0.448463\n",
       "product -0.002464 -0.001463  0.448463  1.000000"
      ]
     },
     "metadata": {},
     "output_type": "display_data"
    }
   ],
   "source": [
    "display('Выборка по третьему региону:')\n",
    "set_inform(data_2)"
   ]
  },
  {
   "cell_type": "code",
   "execution_count": 7,
   "metadata": {},
   "outputs": [],
   "source": [
    "#удалим из датасета столбец-индентификатор пробы нефти в каждом регионе, так как он  не представляет ценности для анализа:\n",
    "\n",
    "df_1 = data.drop(['id'], axis=1)\n",
    "df_2 = data_1.drop(['id'], axis=1)\n",
    "df_3 = data_2.drop(['id'], axis=1)"
   ]
  },
  {
   "cell_type": "markdown",
   "metadata": {},
   "source": [
    "По результатам  подготовки и проверки качества исходных данных выполнено следующее:\n",
    "- загружены данные геологоразведки трёх регионов. Датасеты содержат 100 000 объектов, пропущенных значений и явных дубликатов нет. Однако, при проверке уникальных значений в столбце id в каждом датасете, найдены одинаковые названия:\n",
    " - В первом регионе 10 объектов имеют одинаковые id.\n",
    " - Во втором регионе 4 объекта имеют одинаковые id.\n",
    " - В третьем регионе 4 объекта имееют одинаковые id.\n",
    "Ввиду того, что в строках с одинаковыми id параметры в остальных столбцах различаются, это не дубликаты, поэтому удалять их нельзя. Повторы в названиях могут быть связаны с ошибками рандом названия. С учетом их незначительного количества в каждом датасете принято решение оставить их в выборках без изменения.\n",
    "У каждого объекта 4 признака, из них признак  объём запасов в скважине (product) является целевым, который нужно будет предсказать.\n",
    "- Удален из выборок столбец id, содержащий данные типа object, так как содержащиеся в нем данные не представляют ценности для дальнейшего анализа.\n",
    "- Проверка на мультиколлинеарность показала наличие высокой кореляции (0,97) во втором датасете между целевым признаком product и параметром f2. В первом и третьем датасетах высокой корреляции между признаками нет.\n",
    "- Целевой признак является количественным поэтому необходимо будет решать задачу регрессии.\n"
   ]
  },
  {
   "cell_type": "markdown",
   "metadata": {},
   "source": [
    "<div class=\"alert alert-success\">\n",
    "<font size=\"4\"><b>✔️ Комментарий ревьюера</b></font>\n",
    "    <br /> \n",
    "    <font size=\"3\", color = \"black\">\n",
    "<br />  \n",
    "Единственное, чего тут не хватает: гистограмм признаков. По ним можно заметить, что разброс признака f2 в первом регионе заметно больше, чем двух других, почти на порядок (в 10 раз), а так как у нас заранее известно, что модель линейная, обучение которой от масштаба признаков сильно зависит, есть смысл произвести масштабирование признаков.<br>\n",
    "\n",
    "Но ты ниже всё равно делаешь масштабирование, так что в целом всё очень даже хорошо.\n",
    "    </font>\n",
    "</div>"
   ]
  },
  {
   "cell_type": "markdown",
   "metadata": {},
   "source": [
    "## Обучение и проверка модели"
   ]
  },
  {
   "cell_type": "markdown",
   "metadata": {},
   "source": [
    "### Подготовка данных для машинного обучения"
   ]
  },
  {
   "cell_type": "code",
   "execution_count": 8,
   "metadata": {},
   "outputs": [],
   "source": [
    "# запишем целевой признак и остальные признаки в переменные:\n",
    "# для первого региона:\n",
    "target_first = df_1['product']\n",
    "features_first= df_1.drop(['product'], axis=1)\n",
    "\n",
    "# для второго региона:\n",
    "target_second = df_2['product']\n",
    "features_second= df_2.drop(['product'], axis=1)\n",
    "\n",
    "# для третьего региона:\n",
    "target_third = df_3['product']\n",
    "features_third= df_3.drop(['product'], axis=1)\n"
   ]
  },
  {
   "cell_type": "code",
   "execution_count": 9,
   "metadata": {},
   "outputs": [
    {
     "name": "stdout",
     "output_type": "stream",
     "text": [
      "Первый регион:\n",
      " тренировочная выборка: (75000, 3) валидационная выборка (25000, 3)\n",
      "Второй регион:\n",
      " тренировочная выборка: (75000, 3) валидационная выборка (25000, 3)\n",
      "Третий регион:\n",
      " тренировочная выборка: (75000, 3) валидационная выборка (25000, 3)\n"
     ]
    }
   ],
   "source": [
    "# разделим  каждую выборку на обучающую и валидационную в соотношении 75:25:\n",
    "# для первого региона:\n",
    "\n",
    "features_first_train, features_first_valid, target_first_train, target_first_valid = train_test_split(features_first, target_first, test_size=0.25, random_state=12345) \n",
    "print('Первый регион:\\n','тренировочная выборка:', features_first_train.shape, 'валидационная выборка', features_first_valid.shape )\n",
    "# для второго региона:\n",
    "features_second_train, features_second_valid, target_second_train, target_second_valid = train_test_split(features_second, target_second, test_size=0.25, random_state=12345) \n",
    "print('Второй регион:\\n','тренировочная выборка:', features_second_train.shape, 'валидационная выборка', features_second_valid.shape )\n",
    "# для третьего региона:\n",
    "features_third_train, features_third_valid, target_third_train, target_third_valid = train_test_split(features_third, target_third, test_size=0.25, random_state=12345) \n",
    "print('Третий регион:\\n','тренировочная выборка:', features_third_train.shape, 'валидационная выборка', features_third_valid.shape )"
   ]
  },
  {
   "cell_type": "markdown",
   "metadata": {},
   "source": [
    "<div class=\"alert alert-info\">\n",
    "<font size=\"4\">🍕<b> Комментарий ревьюера</b></font>\n",
    "    <br /> \n",
    "    <font size=\"3\", color = \"black\">\n",
    "<br />\n",
    "\n",
    "Аналогично с логикой почему повторяющийся код стоит оформлять в функции, константные значения, которые повторяются в коде в нескольких местах, такие как random state или test size, стоит заносить в переменные. Представь ты сделал работу по анализу 50 регионов, а потом заказчик попросил поменять размер теста с 0.25 на 0.3, решив, что оценка на 0.25 недостаточно точная. Менять число в 50 местах кода - куда хуже, чем в начале кода поменять TEST_SIZE = 0.25 на TEST_SIZE = 0.3. Код становится намного легче поддерживать, говоря профессиональным языком."
   ]
  },
  {
   "cell_type": "markdown",
   "metadata": {},
   "source": [
    "### Обучение модели"
   ]
  },
  {
   "cell_type": "code",
   "execution_count": 10,
   "metadata": {},
   "outputs": [],
   "source": [
    "# проведем нормализацию признаков:\n",
    "def scaler_sets(features_train, features_valid):\n",
    "\n",
    "    numeric = ['f0','f1','f2']\n",
    "\n",
    "    scaler = StandardScaler()\n",
    "    scaler.fit(features_train[numeric])\n",
    "    pd.options.mode.chained_assignment=None\n",
    "    features_train[numeric] = scaler.transform(features_train[numeric])\n",
    "    features_valid[numeric] = scaler.transform(features_valid[numeric])\n",
    "\n",
    "    return features_train, features_valid\n",
    "    \n"
   ]
  },
  {
   "cell_type": "code",
   "execution_count": 11,
   "metadata": {},
   "outputs": [
    {
     "data": {
      "text/plain": [
       "(             f0        f1        f2\n",
       " 27212 -0.544828  1.390264 -0.094959\n",
       " 7866   1.455912 -0.480422  1.209567\n",
       " 62041  0.260460  0.825069 -0.204865\n",
       " 70185 -1.837105  0.010321 -0.147634\n",
       " 82230 -1.299243  0.987558  1.273181\n",
       " ...         ...       ...       ...\n",
       " 4094   1.567114 -1.087243 -0.272211\n",
       " 85412 -1.904207 -0.525360  1.327530\n",
       " 2177   0.418949 -1.296788 -0.196407\n",
       " 77285  0.400077 -1.466874 -0.445317\n",
       " 86498  1.746246  0.027415  2.766848\n",
       " \n",
       " [75000 rows x 3 columns],\n",
       "              f0        f1        f2\n",
       " 71751  0.517917 -0.610097 -0.126226\n",
       " 80493  0.568391 -0.086063 -0.814914\n",
       " 2655   0.805688 -1.613289 -1.341342\n",
       " 53233  0.222503 -1.355437 -0.597275\n",
       " 91141 -0.087941  1.433113 -0.544588\n",
       " ...         ...       ...       ...\n",
       " 12581  1.541222 -0.709525  0.024535\n",
       " 18456 -0.522565  0.474447 -0.103985\n",
       " 73035 -0.138850  1.595071 -0.903485\n",
       " 63834  0.658267 -1.428224  0.621967\n",
       " 43558  1.409556 -0.650407  0.769670\n",
       " \n",
       " [25000 rows x 3 columns])"
      ]
     },
     "execution_count": 11,
     "metadata": {},
     "output_type": "execute_result"
    }
   ],
   "source": [
    "# масштабируем признаки первой выборки:\n",
    "scaler_sets(features_first_train, features_first_valid)"
   ]
  },
  {
   "cell_type": "code",
   "execution_count": 12,
   "metadata": {},
   "outputs": [
    {
     "data": {
      "text/plain": [
       "(             f0        f1        f2\n",
       " 27212 -0.850855  0.624428  0.296943\n",
       " 7866   1.971935  1.832275  0.294333\n",
       " 62041  1.079305  0.170127 -0.296418\n",
       " 70185 -1.512028 -0.887837 -0.880471\n",
       " 82230 -1.804775 -0.718311 -0.293255\n",
       " ...         ...       ...       ...\n",
       " 4094  -0.334573 -0.005156  0.295560\n",
       " 85412  0.415280 -0.249559  0.877957\n",
       " 2177   1.047070 -0.649992  1.473368\n",
       " 77285 -0.114780 -1.190699  0.299156\n",
       " 86498 -0.646146  0.099075  0.295611\n",
       " \n",
       " [75000 rows x 3 columns],\n",
       "              f0        f1        f2\n",
       " 71751 -0.168616  0.571372  0.297471\n",
       " 80493  0.878384 -1.772903 -0.293901\n",
       " 2655  -0.852976 -0.004986 -0.876502\n",
       " 53233  1.496940 -1.146077 -0.294011\n",
       " 91141  0.552177  0.057961 -1.457764\n",
       " ...         ...       ...       ...\n",
       " 12581 -0.585274  0.036061  1.465670\n",
       " 18456 -1.059992 -0.305376  0.880934\n",
       " 73035 -1.146172 -0.119247  1.471417\n",
       " 63834 -0.839466  0.785521  0.302943\n",
       " 43558  1.048780 -0.275907 -0.295706\n",
       " \n",
       " [25000 rows x 3 columns])"
      ]
     },
     "execution_count": 12,
     "metadata": {},
     "output_type": "execute_result"
    }
   ],
   "source": [
    "# масштабируем признаки второй выборки:\n",
    "scaler_sets(features_second_train, features_second_valid)"
   ]
  },
  {
   "cell_type": "code",
   "execution_count": 13,
   "metadata": {},
   "outputs": [
    {
     "data": {
      "text/plain": [
       "(             f0        f1        f2\n",
       " 27212 -0.526160  0.776329 -0.400793\n",
       " 7866  -0.889625 -0.404070 -1.222936\n",
       " 62041 -1.133984  0.208576  0.296765\n",
       " 70185  1.227045  1.570166 -0.764556\n",
       " 82230 -0.194289  0.878312  0.840821\n",
       " ...         ...       ...       ...\n",
       " 4094  -1.815240  0.398261  1.821017\n",
       " 85412 -0.274576 -1.265211  0.245519\n",
       " 2177   0.368564  0.797225  0.665575\n",
       " 77285 -2.440690  0.113784  0.440907\n",
       " 86498 -1.732468  0.393573 -1.424465\n",
       " \n",
       " [75000 rows x 3 columns],\n",
       "              f0        f1        f2\n",
       " 71751 -0.836717 -2.227439 -0.078489\n",
       " 80493 -0.821648  0.740237 -1.000811\n",
       " 2655  -2.651336 -0.235721 -0.244546\n",
       " 53233  1.077998  0.938090  0.511313\n",
       " 91141 -1.173938  2.387270  1.034363\n",
       " ...         ...       ...       ...\n",
       " 12581 -0.761845 -0.067861 -0.819227\n",
       " 18456  0.006155  0.509468  0.030344\n",
       " 73035  0.416444 -0.084595  0.218987\n",
       " 63834 -0.136658 -0.101235 -0.870787\n",
       " 43558 -1.359565 -0.598457  1.716644\n",
       " \n",
       " [25000 rows x 3 columns])"
      ]
     },
     "execution_count": 13,
     "metadata": {},
     "output_type": "execute_result"
    }
   ],
   "source": [
    "# масштабируем признаки третьей выборки:\n",
    "scaler_sets(features_third_train, features_third_valid)"
   ]
  },
  {
   "cell_type": "markdown",
   "metadata": {},
   "source": [
    "<div class=\"alert alert-info\">\n",
    "<font size=\"4\">🍕<b> Комментарий ревьюера</b></font>\n",
    "    <br /> \n",
    "    <font size=\"3\", color = \"black\">\n",
    "<br />\n",
    "\n",
    "Интересный подход в масштабированию! Сходу даже не могу сказать насколько хороший, но точно необычный! А необычные шаги студентов - это всегда круто! :)"
   ]
  },
  {
   "cell_type": "code",
   "execution_count": 14,
   "metadata": {},
   "outputs": [],
   "source": [
    "# напишем функцию обучения модели с помощью  линейной регрессии:\n",
    "def linear_regression(features_train, target_train, features_valid, target_valid):\n",
    "    model= LinearRegression()\n",
    "    model.fit(features_train, target_train) \n",
    "    predictions = pd.Series(model.predict(features_valid), index=features_valid.index)\n",
    "          \n",
    "    print(\"Корень из средней квадратичной ошибки(RMSE) =\", (mean_squared_error(target_valid, predictions) ** 0.5))\n",
    "            \n",
    "#  найдем RMSE для константной модели: каждому объекту она прогнозирует среднее значение целевого признака (средний запас)\n",
    "     \n",
    "    predicted_valid_mean =pd.Series(target_train.mean(), index=target_valid.index) \n",
    "    print(\"RMSE константной модели\", (mean_squared_error(target_valid, predicted_valid_mean) ** 0.5))\n",
    "    \n",
    "    #посчитаем средний запас предсказанного сырья:\n",
    "    print (\"Средний запас предсказанного сырья\", predictions.mean())\n",
    "    \n",
    "    \n",
    "    return target_valid, predictions\n",
    "    \n",
    " \n"
   ]
  },
  {
   "cell_type": "code",
   "execution_count": 15,
   "metadata": {},
   "outputs": [
    {
     "data": {
      "text/plain": [
       "'Для первого региона:'"
      ]
     },
     "metadata": {},
     "output_type": "display_data"
    },
    {
     "name": "stdout",
     "output_type": "stream",
     "text": [
      "Корень из средней квадратичной ошибки(RMSE) = 37.5794217150813\n",
      "RMSE константной модели 44.289591053907365\n",
      "Средний запас предсказанного сырья 92.59256778438035\n"
     ]
    }
   ],
   "source": [
    "# при помощи функции выведем на экран основные метрики модели линейной регрессии\n",
    "#сохраним предсказания и правильные ответы на валидационной выборке для каждого региона:\n",
    "display('Для первого региона:')\n",
    "first_target, first_predictions = linear_regression(features_first_train, target_first_train, features_first_valid, target_first_valid)\n"
   ]
  },
  {
   "cell_type": "markdown",
   "metadata": {},
   "source": [
    "<div class=\"alert alert-info\">\n",
    "<font size=\"4\">🍕<b> Комментарий ревьюера</b></font>\n",
    "    <br /> \n",
    "    <font size=\"3\", color = \"black\">\n",
    "<br />\n",
    "В реальной задаче у тебя может быть не 3, а 50 регионов, так что лучше называть не first_target, а target_1 и аналогично."
   ]
  },
  {
   "cell_type": "code",
   "execution_count": 16,
   "metadata": {},
   "outputs": [
    {
     "data": {
      "text/plain": [
       "'Для второго региона:'"
      ]
     },
     "metadata": {},
     "output_type": "display_data"
    },
    {
     "name": "stdout",
     "output_type": "stream",
     "text": [
      "Корень из средней квадратичной ошибки(RMSE) = 0.893099286775617\n",
      "RMSE константной модели 46.02144533725462\n",
      "Средний запас предсказанного сырья 68.728546895446\n"
     ]
    }
   ],
   "source": [
    "display('Для второго региона:')\n",
    "second_target, second_predictions = linear_regression(features_second_train, target_second_train, features_second_valid, target_second_valid)"
   ]
  },
  {
   "cell_type": "code",
   "execution_count": 17,
   "metadata": {},
   "outputs": [
    {
     "data": {
      "text/plain": [
       "'Для третьего региона:'"
      ]
     },
     "metadata": {},
     "output_type": "display_data"
    },
    {
     "name": "stdout",
     "output_type": "stream",
     "text": [
      "Корень из средней квадратичной ошибки(RMSE) = 40.02970873393434\n",
      "RMSE константной модели 44.90234968510566\n",
      "Средний запас предсказанного сырья 94.96504596800489\n"
     ]
    }
   ],
   "source": [
    "display('Для третьего региона:')\n",
    "third_target, third_predictions = linear_regression(features_third_train, target_third_train, features_third_valid, target_third_valid)"
   ]
  },
  {
   "cell_type": "markdown",
   "metadata": {},
   "source": [
    "<div class=\"alert alert-success\">\n",
    "<font size=\"4\"><b>✔️ Комментарий ревьюера</b></font>\n",
    "    <br /> \n",
    "    <font size=\"3\", color = \"black\">\n",
    "<br />    \n",
    "\n",
    "Всё супер: требования заказчика по выбору модели и по балансу обучающей тестовой выборки соблюдены, модели построены корректно, их предсказания адекватны."
   ]
  },
  {
   "cell_type": "markdown",
   "metadata": {},
   "source": [
    "\n",
    "Для каждого региона проведена нормализация признаков и построена модель линейной регрессии.\n",
    "Проведена проверка качества полученных предсказаний на валидационных выборках при помощи метрики RMSE. Чтобы оценить адекватность полученной модели проведено сравнение c RMSE константной модели,  в которой  каждому объекту она прогнозирует среднее значение целевого признака (средний запас сырья).\n",
    "По результатам сравнения полученных оценок установлено следующее:\n",
    "- для первого региона RSME на валидационной выборке меньше RMSE константной модели на 6,7 тыс.барр.\n",
    "- для второго региона RSME на валидационной выборке меньше RMSE константной модели на 45,1 тыс.барр.\n",
    "- для третьего региона RSME на валидационной выборке меньше RMSE константной модели на 4,8 тыс.барр.\n",
    "\n",
    "Таким образом, наилучшее качество модели получено на валидационных данных второго региона так как получено минимальное значение метрики RMSE.\n",
    "\n",
    "Средний запас предсказанного сырья в первом регионе равен 92,6 тыс. баррелей, во втором регионе - 68,7 тыс. баррелей, в третьем регионе - 95 тыс. баррелей. Среднее количество сырья примерно находится на одном уровне в 1 и 3 регионе и больше в 1.4 раза, чем во 2 регионе."
   ]
  },
  {
   "cell_type": "markdown",
   "metadata": {},
   "source": [
    "## Подготовка к расчёту прибыли"
   ]
  },
  {
   "cell_type": "code",
   "execution_count": 18,
   "metadata": {},
   "outputs": [],
   "source": [
    "# для расчета прибыли создадим константы:\n",
    "# количество исследуемых точек при разведке\n",
    "POINTS = 500 \n",
    "\n",
    "# количество лучших исследуемых точек \n",
    "BEST_POINTS = 200 \n",
    "\n",
    "# бюджет на разработку скважин в регионе\n",
    "BUDGET = 1e10\n",
    "\n",
    "# цена за 1000 баррелей сырья\n",
    "PRODUCT_PRICE = 450000\n",
    "\n",
    "# максимальная вероятность убытков\n",
    "MAX_LOST = 0.025\n",
    "\n",
    "# количество выборок для bootstrap \n",
    "BOOTSTRAP_SAMPLES = 1000 \n",
    "\n"
   ]
  },
  {
   "cell_type": "markdown",
   "metadata": {},
   "source": [
    "<div class=\"alert alert-info\">\n",
    "<font size=\"4\">🍕<b> Комментарий ревьюера</b></font>\n",
    "    <br /> \n",
    "    <font size=\"3\", color = \"black\">\n",
    "<br />\n",
    "Ну, 10 * 1e9 можно записать как 1e10, но ладно, не страшно )"
   ]
  },
  {
   "cell_type": "code",
   "execution_count": 19,
   "metadata": {},
   "outputs": [
    {
     "name": "stdout",
     "output_type": "stream",
     "text": [
      "Минимальный объём сырья для безубыточной разработки новой скважины (тыс. баррелей): 111.11\n"
     ]
    }
   ],
   "source": [
    "#рассчитаем минимальное среднее количество продукта в месторождениях региона, достаточное для разработки:\n",
    "# рассчитаем бюджет на разработку одной скважины:\n",
    "budget_point = BUDGET / BEST_POINTS\n",
    "\n",
    "# рассчитаем минимальный объем сырья для одной скважины:\n",
    "min_product = budget_point / PRODUCT_PRICE\n",
    "print('Минимальный объём сырья для безубыточной разработки новой скважины (тыс. баррелей): {:.2f}'.format(min_product))"
   ]
  },
  {
   "cell_type": "markdown",
   "metadata": {},
   "source": [
    "Рассчитанный минимальный объем сырья для безубыточной разработки одной новой скважины равен 111.11 тыс. баррелей и превышает средний запас предсказанного сырья в трех регионах. "
   ]
  },
  {
   "cell_type": "markdown",
   "metadata": {},
   "source": [
    "<div class=\"alert alert-success\">\n",
    "<font size=\"4\"><b>✔️ Комментарий ревьюера</b></font>\n",
    "    <br /> \n",
    "    <font size=\"3\", color = \"black\">\n",
    "<br />    \n",
    "\n",
    "Расчёт корректен. Молодец, что обрезала дробь до 2 знаков после запятой. Единственное, стоит и в print добавлять единицы измерения. Но тк написала какие единицы в выводе - не страшно."
   ]
  },
  {
   "cell_type": "markdown",
   "metadata": {},
   "source": [
    "## Расчёт прибыли по выбранным скважинам и предсказаниям модели"
   ]
  },
  {
   "cell_type": "markdown",
   "metadata": {},
   "source": [
    "<div class=\"alert alert-warning\">\n",
    "<font size=\"4\"><b>⚠️ Комментарий ревьюера</b></font>\n",
    "    <br /> \n",
    "    <font size=\"3\", color = \"black\">\n",
    "<br />\n",
    "Названия функций и переменных должны отражать их смысл. Ты решаешь задачу регрессии, у тебя нет вероятностей (probabilities)."
   ]
  },
  {
   "cell_type": "markdown",
   "metadata": {},
   "source": [
    "<div class=\"alert alert-danger\">\n",
    "<font size=\"4\"><b>❌ Комментарий ревьюера</b></font>\n",
    "    <br /> \n",
    "    <font size=\"3\", color = \"black\">\n",
    "<br /> \n",
    "Во-первых, функция расчёта прибыли должна вычислять прибыль по выбраным скважинам, а не делать бутстрап. Ты же делаешь бустрап ниже, в другой функции, там же вызываешь данную функцию revenue, и она снова делает сэмпл. Это неправильно, так быть не должно.\n",
    "    </font>\n",
    "</div>"
   ]
  },
  {
   "cell_type": "markdown",
   "metadata": {},
   "source": [
    "<div class=\"alert alert-danger\">\n",
    "<font size=\"4\"><b>❌ Комментарий ревьюера</b></font>\n",
    "    <br /> \n",
    "    <font size=\"3\", color = \"black\">\n",
    "<br /> \n",
    "Во-вторых, в этой задаче надо быть очень аккуратной с индексами. Я ниже проделал операции, которые ты делаешь сначала в функции бутстрапа, потом - в ревенью. Видно, что количество элементов с повторяющими индексами различается в топ-предсказаниях и соответствующих таргетах. Кроме того, в том подмножестве таргетов, по которому ты считаешь прибыль, оказывается более 200 элементов. Очевидно, так не должно быть. Когда уберёшь лишнее сэмплирование, проверь, что эти моменты будут корректны и, если нет, исправляй баг.\n",
    "    </font>\n",
    "</div>"
   ]
  },
  {
   "cell_type": "markdown",
   "metadata": {},
   "source": [
    "<div class=\"alert alert-info\">\n",
    "<font size=\"4\"><b> Комментарий студента</b></font>\n",
    "    <br /> \n",
    "    <font size=\"3\", color = \"black\">\n",
    "<br /> \n",
    "Функция расчета прибыли исправлена.\n",
    "    </font>\n",
    "</div>\n"
   ]
  },
  {
   "cell_type": "markdown",
   "metadata": {},
   "source": [
    "<div class=\"alert alert-danger\">\n",
    "<font size=\"4\"><b>❌ Комментарий ревьюера V3</b></font>\n",
    "    <br /> \n",
    "    <font size=\"3\", color = \"black\">\n",
    "<br /> \n",
    "К сожалению, это не поможет потому что ты ведь сбросила индексы уже после того, как отобрала 200 скважин для вычисления прибыли, так что индексы другие, а результат математически тот же самый.<br>\n",
    "\n",
    "Смотри, проблема возникает из-за двух факторов:<br>\n",
    "1. В семпле есть повторяющиеся индексы. Это можно устранить сделав резет индексов, но не после того, как ты отобрала 200 скважин для расчёта прибыли, а до.<br>\n",
    "2. Ты сначала по индексам одного сериес берёшь кусок другого, а потом снова по индексам берёшь кусок уже вот этого куска. Это починить ещё проще: нужно отобрав 200 лучших по предсказаниям скважин брать их индексы и передавать не в сэмпл таргета из 500 элементов, а в весь таргет (в нём то индексы не повторяются)<br>\n",
    "\n",
    "Надеюсь сейчас стало чуть понятнее. Если ещё нет, пиши об этом комментарий, разберём ещё поглубже."
   ]
  },
  {
   "cell_type": "markdown",
   "metadata": {},
   "source": [
    "<div class=\"alert alert-danger\">\n",
    "<font size=\"4\"><b>❌ Комментарий ревьюера V2</b></font>\n",
    "    <br /> \n",
    "    <font size=\"3\", color = \"black\">\n",
    "<br /> \n",
    "Ты очень зря просто взяла и закомментировала весь мой код. Я же не просто так его написал, а понимал, что у тебя есть баг, который надо исправить. Стоило привести код ниже в соответствии с тем, как ты поменяла расчёт прибыли и проверить всё ли корректно.<br>\n",
    "\n",
    "Я привёл всё к текущему виду и запустил. Какой результат мы видим"
   ]
  },
  {
   "cell_type": "markdown",
   "metadata": {},
   "source": [
    "<div class=\"alert alert-info\">\n",
    "<font size=\"4\"><b> Комментарий студента_2</b></font>\n",
    "    <br /> \n",
    "    <font size=\"3\", color = \"black\">\n",
    "<br /> \n",
    "не знаю, правильно или нет, применила reset_index к selected_target. Других идей нет как это поправить.\n",
    "    </font>\n",
    "</div>\n"
   ]
  },
  {
   "cell_type": "code",
   "execution_count": 20,
   "metadata": {},
   "outputs": [
    {
     "data": {
      "text/plain": [
       "13616     34.280424\n",
       "84656     55.567766\n",
       "73037     26.938283\n",
       "19345    133.142251\n",
       "68339     12.386952\n",
       "            ...    \n",
       "13213     90.511196\n",
       "67359    134.992329\n",
       "71785     74.874896\n",
       "94411     90.708239\n",
       "87014    146.577081\n",
       "Name: product, Length: 500, dtype: float64"
      ]
     },
     "metadata": {},
     "output_type": "display_data"
    },
    {
     "name": "stdout",
     "output_type": "stream",
     "text": [
      "-----------------------------------\n"
     ]
    },
    {
     "data": {
      "text/plain": [
       "13616     69.031631\n",
       "84656    108.084038\n",
       "73037     89.065885\n",
       "19345    109.885938\n",
       "68339     71.893169\n",
       "            ...    \n",
       "13213     51.883205\n",
       "67359     88.959983\n",
       "71785    113.393785\n",
       "94411     54.043185\n",
       "87014    115.134762\n",
       "Length: 500, dtype: float64"
      ]
     },
     "metadata": {},
     "output_type": "display_data"
    },
    {
     "name": "stdout",
     "output_type": "stream",
     "text": [
      "===================================\n"
     ]
    },
    {
     "data": {
      "text/plain": [
       "13642    2\n",
       "55668    2\n",
       "38891    2\n",
       "30480    2\n",
       "46965    2\n",
       "        ..\n",
       "73037    1\n",
       "79179    1\n",
       "78782    1\n",
       "74055    1\n",
       "77823    1\n",
       "Length: 493, dtype: int64"
      ]
     },
     "metadata": {},
     "output_type": "display_data"
    },
    {
     "name": "stdout",
     "output_type": "stream",
     "text": [
      "-----------------------------------\n"
     ]
    },
    {
     "data": {
      "text/plain": [
       "13642    2\n",
       "55668    2\n",
       "38891    2\n",
       "30480    2\n",
       "46965    2\n",
       "        ..\n",
       "73037    1\n",
       "79179    1\n",
       "78782    1\n",
       "74055    1\n",
       "77823    1\n",
       "Length: 493, dtype: int64"
      ]
     },
     "metadata": {},
     "output_type": "display_data"
    }
   ],
   "source": [
    "# КОД РЕВЬЮЕРА V2\n",
    "# аналог функции bootstrap\n",
    "target_subsample = first_target.sample(POINTS, replace=True, random_state=RANDOM_STATE)\n",
    "predictions_subsample = first_predictions[target_subsample.index]\n",
    "\n",
    "display(target_subsample)\n",
    "print('-'*35)\n",
    "display(predictions_subsample)\n",
    "print('='*35)\n",
    "display(target_subsample.index.value_counts())\n",
    "print('-'*35)\n",
    "display(predictions_subsample.index.value_counts())"
   ]
  },
  {
   "cell_type": "markdown",
   "metadata": {},
   "source": [
    "<div class=\"alert alert-danger\">\n",
    "    <font size=\"3\", color = \"black\">\n",
    "После бутстрапа всё вроде сходится, индексы одинаковые в предсказаниях и таргетах. Некоторые встречаются больше 1 раза, но это нормально, так и работает бутстрап, что набирает подвыборку случайным образом из элементов исходных данных, с возможными повторами. Так что встретившиеся у нас повторяющиеся индексы - это индексы тех элементов, которые благодаря бутстрапу попали в нашу подвыборку больше 1 раза.<br>\n",
    "А теперь сделаем над этими Series операции, которые ты делаешь в вычислении прибыли, и посмотрим что получается."
   ]
  },
  {
   "cell_type": "code",
   "execution_count": 21,
   "metadata": {},
   "outputs": [
    {
     "data": {
      "text/plain": [
       "13642    2\n",
       "23465    2\n",
       "30480    2\n",
       "55668    2\n",
       "2556     1\n",
       "        ..\n",
       "82431    1\n",
       "56158    1\n",
       "71775    1\n",
       "34146    1\n",
       "61183    1\n",
       "Length: 196, dtype: int64"
      ]
     },
     "metadata": {},
     "output_type": "display_data"
    },
    {
     "name": "stdout",
     "output_type": "stream",
     "text": [
      "-----------------------------------\n"
     ]
    },
    {
     "data": {
      "text/plain": [
       "13642    2\n",
       "23465    2\n",
       "30480    2\n",
       "55668    2\n",
       "2556     1\n",
       "        ..\n",
       "82431    1\n",
       "56158    1\n",
       "71775    1\n",
       "34146    1\n",
       "61183    1\n",
       "Length: 196, dtype: int64"
      ]
     },
     "metadata": {},
     "output_type": "display_data"
    },
    {
     "name": "stdout",
     "output_type": "stream",
     "text": [
      "-----------------------------------\n",
      "Количество таргетов, по которым считается прибыль: 200\n"
     ]
    }
   ],
   "source": [
    "# КОД РЕВЬЮЕРА V2\n",
    "# аналог функции revenue\n",
    "#research_points =probs_subsample.sample(POINTS, replace=True, random_state=RANDOM_STATE)\n",
    "\n",
    "predictions_sorted = predictions_subsample.sort_values(ascending = False)\n",
    "\n",
    "#selected_target = target_subsample[predictions_sorted.index][:BEST_POINTS]\n",
    "\n",
    "#исправила target_subsample на first_target:\n",
    "\n",
    "selected_target = first_target[predictions_sorted.index][:BEST_POINTS]\n",
    "\n",
    "display(predictions_sorted[:BEST_POINTS].index.value_counts())\n",
    "print('-'*35)\n",
    "\n",
    "display(selected_target.index.value_counts())\n",
    "print('-'*35)\n",
    "print('Количество таргетов, по которым считается прибыль:', selected_target.shape[0])\n",
    "\n",
    "\n",
    "\n"
   ]
  },
  {
   "cell_type": "markdown",
   "metadata": {},
   "source": [
    "<div class=\"alert alert-danger\">\n",
    "    <font size=\"3\", color = \"black\">\n",
    "Индексы, которые попали в топ-200 предсказаний попали в selected_target не 2 раза, а 4!<br>\n",
    "\n",
    "Почему так получилось? Смотри, после того как ты сделал бутстрапированную выборку предсказаний, ты по их индексам берёшь соответствующую часть таргетов. Т.к. у нас в бутстрапе могут повторяться элементы, то несколько индексов у нас теперь есть совпадающие (например, 14512).<br>\n",
    "Затем ты сортируешь значения предсказаний, берёшь первые 200 индексов и по ним берёшь соответствующие значения таргетов. И вот тут то и кроется дьявол! Есть у тебя две записи с индексом 14512 в сериес предсказаний, и, логично, две записи с индексом 14512 в сериес с таргетом. Индекс 14512 попадает в итоговый список лучших предсказаний, ты говоришь пандасу: \"пандас, а возьми-ка мне для расчёта прибыли из таргета строку с индексом 14512.\" Послушный пандас идёт брать эту строку и видит, что у тебя таких в сериес с таргетами вообще-то две штуки. Как ты думаешь, какую из них он возьмёт? Правильно, обе. Легко заметить, что в predictions_sorted.index у тебя 14512 встречается 2 раза, а в том, по которому ты считаешь прибыль, 4. Потому что ты два раза попросил его взять 14512, ну он и взял 2 раза, правда оба раза он взял обе строки таргета с индексом 14512, и их получилось 4 :)<br>\n",
    "\n",
    "Я понимаю, что дедлайны горят, но очень надеюсь, что ты поняла из-за чего возникает баг и как его исправить. Крайне желательно, чтобы ты устранила сама. Надо же развивать твой скилл, специалиста готовим :)<br>\n",
    "Не сможешь или всё ещё непонятно почему индексы разошлись - оставь комментарий об этом, я подскажу.<br>\n",
    "\n",
    "После исправления запусти весь код, чтобы убедиться, что всё работает корректно, при необходимости, поправь выводы."
   ]
  },
  {
   "cell_type": "code",
   "execution_count": 22,
   "metadata": {},
   "outputs": [],
   "source": [
    "#Напишем функцию для расчёта прибыли по выбранным скважинам и предсказаниям модели:\n",
    "def revenue (predictions, target):\n",
    "    \n",
    "    predictions_sorted = predictions.sort_values(ascending = False)\n",
    "    selected = target[predictions_sorted.index][:BEST_POINTS]\n",
    "    revenue = (selected.sum() * PRODUCT_PRICE) - BUDGET\n",
    "    \n",
    "    return (revenue / 1e6).round(2)"
   ]
  },
  {
   "cell_type": "code",
   "execution_count": 23,
   "metadata": {},
   "outputs": [
    {
     "data": {
      "text/plain": [
       "'Для первого региона:'"
      ]
     },
     "metadata": {},
     "output_type": "display_data"
    },
    {
     "name": "stdout",
     "output_type": "stream",
     "text": [
      "Прибыль (млн. руб): 3320.83\n"
     ]
    }
   ],
   "source": [
    "# применим функцию на данных в каждом регионе:\n",
    "display('Для первого региона:')\n",
    "print ('Прибыль (млн. руб):', revenue(first_predictions, first_target))"
   ]
  },
  {
   "cell_type": "code",
   "execution_count": 24,
   "metadata": {},
   "outputs": [
    {
     "data": {
      "text/plain": [
       "'Для второго региона:'"
      ]
     },
     "metadata": {},
     "output_type": "display_data"
    },
    {
     "name": "stdout",
     "output_type": "stream",
     "text": [
      "Прибыль (млн. руб): 2415.09\n"
     ]
    }
   ],
   "source": [
    "display('Для второго региона:')\n",
    "print ('Прибыль (млн. руб):', revenue(second_predictions, second_target))"
   ]
  },
  {
   "cell_type": "code",
   "execution_count": 25,
   "metadata": {},
   "outputs": [
    {
     "data": {
      "text/plain": [
       "'Для третьего региона:'"
      ]
     },
     "metadata": {},
     "output_type": "display_data"
    },
    {
     "name": "stdout",
     "output_type": "stream",
     "text": [
      "Прибыль (млн. руб): 2710.35\n"
     ]
    }
   ],
   "source": [
    "display('Для третьего региона:')\n",
    "print ('Прибыль (млн. руб):', revenue(third_predictions, third_target))"
   ]
  },
  {
   "cell_type": "markdown",
   "metadata": {},
   "source": [
    "Для расчета прибыли были выбраны 200 точек с максимальными значениями предсказанного объема запасов сырья. Просуммировав  целевое значение объема сырья, соответствующее предсказанным, получено значение прибыли.\n"
   ]
  },
  {
   "cell_type": "markdown",
   "metadata": {},
   "source": [
    "## Расчёт рисков и средней прибыли для каждого региона"
   ]
  },
  {
   "cell_type": "code",
   "execution_count": 26,
   "metadata": {},
   "outputs": [],
   "source": [
    "def revenue_bootstrap(predictions, target):\n",
    "    \n",
    "    values = []\n",
    "    for i in range(BOOTSTRAP_SAMPLES):\n",
    "        target_subsample = target.sample(POINTS, replace=True, random_state=RANDOM_STATE)\n",
    "        predictions_subsample = predictions[target_subsample.index]\n",
    "        revenue_sample = revenue(predictions_subsample, target)\n",
    "        values.append(revenue_sample)\n",
    "    \n",
    "    values = pd.Series(values)\n",
    "    mean = values.mean()\n",
    "    lower = values.quantile(0.025)\n",
    "    upper = values.quantile(0.975)\n",
    "    print('Средняя прибыль (млн. руб): {:.2f}'.format(mean))\n",
    "    print('95% доверительный интервал (млн. руб): ({:.2f}, {:.2f})'.format(lower, upper))\n",
    "       \n",
    "\n",
    "    \n",
    "    lost_predict = (values <0).sum() / BOOTSTRAP_SAMPLES\n",
    "    \n",
    "    if lost_predict < MAX_LOST: \n",
    "        print('Вероятность убытков равна {}, что меньше чем максимальная допустимая вероятность {}'.format(lost_predict, MAX_LOST))\n",
    "    else:\n",
    "        print('Вероятность убытков равна {}, что больше чем максимальная допустимая вероятность {}'.format(lost_predict, MAX_LOST))    \n",
    "\n",
    "    return mean, lower, upper, lost_predict\n",
    "    \n",
    "    "
   ]
  },
  {
   "cell_type": "markdown",
   "metadata": {},
   "source": [
    "<div class=\"alert alert-info\">\n",
    "<font size=\"4\">🍕<b> Комментарий ревьюера</b></font>\n",
    "    <br /> \n",
    "    <font size=\"3\", color = \"black\">\n",
    "<br />\n",
    "В функции бутстрапа всё кажется корректным. Но с багом в расчёте прибыли, конечно, не можем считать итоговые выводы состоятельными. Так что жду вторую отправку с исправлениями!"
   ]
  },
  {
   "cell_type": "markdown",
   "metadata": {},
   "source": [
    "<div class=\"alert alert-info\">\n",
    "<font size=\"4\"><b> Комментарий студента_4</b></font>\n",
    "    <br /> \n",
    "    <font size=\"3\", color = \"black\">\n",
    "<br />\n",
    "Логика работы  функции бутстрапа:\n",
    "        \n",
    "- формируем выборку target на 500 точек и на ней получаем предсказания (это 2 первые строки в цикле)\n",
    "- далее вызываем функцию расчета прибыли.\n",
    "\n",
    "Но в функции расчета прибыли мы должны взять предсказания полученные на выборке target 500 и отсортировать и передать их во всю выборку target, выбирая 200 лучших. \n",
    "        \n",
    "Поэтому в третьей строке цикла функции бутстрап, где я вызываю функцию расчета прибыли в качестве параметров я указываю  predictions_subsample и target, а target_subsample как у меня было ранее.\n",
    "\n",
    " "
   ]
  },
  {
   "cell_type": "code",
   "execution_count": 27,
   "metadata": {},
   "outputs": [],
   "source": [
    "overall = []"
   ]
  },
  {
   "cell_type": "code",
   "execution_count": 28,
   "metadata": {},
   "outputs": [
    {
     "name": "stdout",
     "output_type": "stream",
     "text": [
      "Средняя прибыль (млн. руб): 395.53\n",
      "95% доверительный интервал (млн. руб): (-111.21, 909.76)\n",
      "Вероятность убытков равна 0.07, что больше чем максимальная допустимая вероятность 0.025\n"
     ]
    }
   ],
   "source": [
    "overall.append(revenue_bootstrap(first_predictions, first_target))"
   ]
  },
  {
   "cell_type": "code",
   "execution_count": 29,
   "metadata": {},
   "outputs": [
    {
     "name": "stdout",
     "output_type": "stream",
     "text": [
      "Средняя прибыль (млн. руб): 461.17\n",
      "95% доверительный интервал (млн. руб): (78.05, 862.95)\n",
      "Вероятность убытков равна 0.007, что меньше чем максимальная допустимая вероятность 0.025\n"
     ]
    }
   ],
   "source": [
    "overall.append(revenue_bootstrap(second_predictions, second_target))"
   ]
  },
  {
   "cell_type": "code",
   "execution_count": 30,
   "metadata": {},
   "outputs": [
    {
     "name": "stdout",
     "output_type": "stream",
     "text": [
      "Средняя прибыль (млн. руб): 392.58\n",
      "95% доверительный интервал (млн. руб): (-112.23, 934.56)\n",
      "Вероятность убытков равна 0.065, что больше чем максимальная допустимая вероятность 0.025\n"
     ]
    }
   ],
   "source": [
    "overall.append(revenue_bootstrap(third_predictions, third_target))"
   ]
  },
  {
   "cell_type": "code",
   "execution_count": 31,
   "metadata": {},
   "outputs": [
    {
     "data": {
      "text/html": [
       "<div>\n",
       "<style scoped>\n",
       "    .dataframe tbody tr th:only-of-type {\n",
       "        vertical-align: middle;\n",
       "    }\n",
       "\n",
       "    .dataframe tbody tr th {\n",
       "        vertical-align: top;\n",
       "    }\n",
       "\n",
       "    .dataframe thead th {\n",
       "        text-align: right;\n",
       "    }\n",
       "</style>\n",
       "<table border=\"1\" class=\"dataframe\">\n",
       "  <thead>\n",
       "    <tr style=\"text-align: right;\">\n",
       "      <th></th>\n",
       "      <th>revenue_mean</th>\n",
       "      <th>lower</th>\n",
       "      <th>upper</th>\n",
       "      <th>lost_predict</th>\n",
       "    </tr>\n",
       "  </thead>\n",
       "  <tbody>\n",
       "    <tr>\n",
       "      <th>0</th>\n",
       "      <td>395.52562</td>\n",
       "      <td>-111.21425</td>\n",
       "      <td>909.76425</td>\n",
       "      <td>0.070</td>\n",
       "    </tr>\n",
       "    <tr>\n",
       "      <th>1</th>\n",
       "      <td>461.16782</td>\n",
       "      <td>78.05400</td>\n",
       "      <td>862.95000</td>\n",
       "      <td>0.007</td>\n",
       "    </tr>\n",
       "    <tr>\n",
       "      <th>2</th>\n",
       "      <td>392.57861</td>\n",
       "      <td>-112.22625</td>\n",
       "      <td>934.56250</td>\n",
       "      <td>0.065</td>\n",
       "    </tr>\n",
       "  </tbody>\n",
       "</table>\n",
       "</div>"
      ],
      "text/plain": [
       "   revenue_mean      lower      upper  lost_predict\n",
       "0     395.52562 -111.21425  909.76425         0.070\n",
       "1     461.16782   78.05400  862.95000         0.007\n",
       "2     392.57861 -112.22625  934.56250         0.065"
      ]
     },
     "execution_count": 31,
     "metadata": {},
     "output_type": "execute_result"
    }
   ],
   "source": [
    "overall_df = pd.DataFrame(overall, columns = ['revenue_mean', 'lower', 'upper', 'lost_predict'])\n",
    "overall_df.head()"
   ]
  },
  {
   "cell_type": "markdown",
   "metadata": {},
   "source": [
    "В соответствии с полученными статистическими характеристиками можно сделать вывод, что вероятность убытков ниже, чем максимальная допустимая вероятность только во втором регионе (вторая строка итоговой таблицы).Во втором регионе самый лучший узкий доверительный интервал и средняя прибыль, поэтому для разработки скважин должен быть выбран второй регион. \n"
   ]
  },
  {
   "cell_type": "markdown",
   "metadata": {},
   "source": [
    "<div class=\"alert alert-success\">\n",
    "<font size=\"4\"><b>✔️ Комментарий ревьюера</b></font>\n",
    "    <br /> \n",
    "    <font size=\"3\", color = \"black\">\n",
    "<br />    \n",
    "Расчёты прибыли и доверительных интервалов корректны. На основе корректных вычислений выбран регион для разработки мест нефтедобычи и выбор региона корректно обоснован. Кажется, у заказчика нет оснований не довериться этому экспертному исследованию! 🙂"
   ]
  },
  {
   "cell_type": "markdown",
   "metadata": {},
   "source": [
    "## Общий вывод"
   ]
  },
  {
   "cell_type": "markdown",
   "metadata": {},
   "source": [
    "1.По результатам подготовки и проверки качества исходных данных выполнено следующее:\n",
    "\n",
    "загружены данные геологоразведки трёх регионов. Датасеты содержат 100 000 объектов, пропущенных значений и явных дубликатов нет. Однако, при проверке уникальных значений в столбце id в каждом датасете, найдены одинаковые названия:\n",
    "- в первом регионе 10 объектов имеют одинаковые id.\n",
    "- во втором регионе 4 объекта имеют одинаковые id.\n",
    "- в третьем регионе 4 объекта имеют одинаковые id. Ввиду того, что в строках с одинаковыми id параметры в остальных столбцах различаются, это не дубликаты, поэтому удалять их нельзя. Повторы в названиях могут быть связаны с ошибками рандом названия. С учетом их незначительного количества в каждом датасете принято решение оставить их в выборках без изменения. У каждого объекта 4 признака, из них признак объём запасов в скважине (product) является целевым, который нужно будет предсказать.\n",
    "Удален из выборок столбец id, содержащий данные типа object, так как содержащиеся в нем данные не представляют ценности для дальнейшего анализа.\n",
    "Проверка на мультиколлинеарность показала наличие высокой корреляции (0,97) во втором датасете между целевым признаком product и параметром f2. В первом и третьем датасетах высокой корреляции между признаками нет.\n",
    "Целевой признак является количественным поэтому необходимо будет решать задачу регрессии.\n",
    "\n",
    "2. Для каждого региона проведена нормализация признаков и построена модель линейной регрессии.\n",
    "Проведена проверка качества полученных предсказаний на валидационных выборках при помощи метрики RMSE. Чтобы оценить адекватность полученной модели проведено сравнение c RMSE константной модели,  в которой  каждому объекту она прогнозирует среднее значение целевого признака (средний запас сырья).\n",
    "По результатам сравнения полученных оценок установлено следующее:\n",
    "- для первого региона RSME на валидационной выборке меньше RMSE константной модели на 6,7 тыс.барр.\n",
    "- для второго региона RSME на валидационной выборке меньше RMSE константной модели на 45,1 тыс.барр.\n",
    "- для третьего региона RSME на валидационной выборке меньше RMSE константной модели на 4,8 тыс.барр.\n",
    "\n",
    "Таким образом, наилучшее качество модели получено на валидационных данных второго региона, так как получено минимальное значение метрики RMSE.\n",
    "\n",
    "Средний запас предсказанного сырья в первом регионе равен 92,6 тыс. баррелей, во втором регионе - 68,7 тыс. баррелей, в третьем регионе - 95 тыс. баррелей. Среднее количество сырья примерно находится на одном уровне в 1 и 3 регионе и больше в 1.4 раза, чем во 2 регионе.\n",
    "\n",
    "3. Рассчитан минимальный объем сырья для безубыточной разработки одной новой скважины и  равен 111.11 тыс. баррелей, что превышает средний запас предсказанного сырья в трех регионах.\n",
    "\n",
    "4. Для расчета прибыли были взяты  200 точек с максимальными значениями предсказанного объема запасов сырья. Просуммировав  целевое значение объема сырья, соответствующее предсказанным, получено значение прибыли. Самое высокое значение прибыли получено для скважин с максимальными запасами сырья третьего региона.\n",
    "\n",
    "5. Проведен расчет рисков и средней прибыли для каждого региона с применением техники Bootstrap. Полученное значение средней прибыли после оценки рисков намного меньше значения прибыли, полученной для запаса сырья, рассчитанного для 200 скважин с максимальными значениями предсказаний.\n",
    "\n",
    "6. В соответствии с полученными статистическими характеристиками можно сделать вывод, что вероятность убытков ниже, чем максимальная допустимая вероятность только во втором регионе (вторая строка итоговой таблицы). Во втором регионе самый лучший узкий доверительный интервал и средняя прибыль, поэтому для разработки скважин должен быть выбран второй регион. \n"
   ]
  },
  {
   "cell_type": "markdown",
   "metadata": {},
   "source": [
    "## Чек-лист готовности проекта"
   ]
  },
  {
   "cell_type": "markdown",
   "metadata": {},
   "source": [
    "Поставьте 'x' в выполненных пунктах. Далее нажмите Shift+Enter."
   ]
  },
  {
   "cell_type": "markdown",
   "metadata": {},
   "source": [
    "- [x]  Jupyter Notebook открыт\n",
    "- [x]  Весь код выполняется без ошибок\n",
    "- [x]  Ячейки с кодом расположены в порядке исполнения\n",
    "- [x]  Выполнен шаг 1: данные подготовлены\n",
    "- [x]  Выполнен шаг 2: модели обучены и проверены\n",
    "    - [x]  Данные корректно разбиты на обучающую и валидационную выборки\n",
    "    - [x]  Модели обучены, предсказания сделаны\n",
    "    - [x]  Предсказания и правильные ответы на валидационной выборке сохранены\n",
    "    - [x]  На экране напечатаны результаты\n",
    "    - [x]  Сделаны выводы\n",
    "- [x]  Выполнен шаг 3: проведена подготовка к расчёту прибыли\n",
    "    - [x]  Для всех ключевых значений созданы константы Python\n",
    "    - [x]  Посчитано минимальное среднее количество продукта в месторождениях региона, достаточное для разработки\n",
    "    - [x]  По предыдущему пункту сделаны выводы\n",
    "    - [x]  Написана функция расчёта прибыли\n",
    "- [x]  Выполнен шаг 4: посчитаны риски и прибыль\n",
    "    - [x]  Проведена процедура *Bootstrap*\n",
    "    - [x]  Все параметры бутстрепа соответствуют условию\n",
    "    - [x]  Найдены все нужные величины\n",
    "    - [x]  Предложен регион для разработки месторождения\n",
    "    - [x]  Выбор региона обоснован"
   ]
  }
 ],
 "metadata": {
  "ExecuteTimeLog": [
   {
    "duration": 1432,
    "start_time": "2023-01-03T04:41:32.047Z"
   },
   {
    "duration": 371,
    "start_time": "2023-01-03T04:41:33.542Z"
   },
   {
    "duration": 479,
    "start_time": "2023-01-03T04:45:11.313Z"
   },
   {
    "duration": 25,
    "start_time": "2023-01-03T04:47:12.039Z"
   },
   {
    "duration": 34,
    "start_time": "2023-01-03T04:47:29.087Z"
   },
   {
    "duration": 12,
    "start_time": "2023-01-03T04:48:48.972Z"
   },
   {
    "duration": 13,
    "start_time": "2023-01-03T04:49:05.087Z"
   },
   {
    "duration": 16,
    "start_time": "2023-01-03T04:49:25.244Z"
   },
   {
    "duration": 9,
    "start_time": "2023-01-03T04:51:09.807Z"
   },
   {
    "duration": 10,
    "start_time": "2023-01-03T04:51:51.642Z"
   },
   {
    "duration": 9,
    "start_time": "2023-01-03T04:52:07.888Z"
   },
   {
    "duration": 43,
    "start_time": "2023-01-03T04:53:42.280Z"
   },
   {
    "duration": 45,
    "start_time": "2023-01-03T04:54:01.368Z"
   },
   {
    "duration": 46,
    "start_time": "2023-01-03T04:54:20.127Z"
   },
   {
    "duration": 57,
    "start_time": "2023-01-03T06:38:35.236Z"
   },
   {
    "duration": 1466,
    "start_time": "2023-01-03T06:38:42.617Z"
   },
   {
    "duration": 721,
    "start_time": "2023-01-03T06:38:45.344Z"
   },
   {
    "duration": 14,
    "start_time": "2023-01-03T06:38:52.364Z"
   },
   {
    "duration": 15,
    "start_time": "2023-01-03T06:39:00.533Z"
   },
   {
    "duration": 13,
    "start_time": "2023-01-03T06:39:03.205Z"
   },
   {
    "duration": 47,
    "start_time": "2023-01-03T06:39:09.756Z"
   },
   {
    "duration": 41,
    "start_time": "2023-01-03T06:39:16.596Z"
   },
   {
    "duration": 46,
    "start_time": "2023-01-03T06:39:30.810Z"
   },
   {
    "duration": 59,
    "start_time": "2023-01-03T06:39:55.147Z"
   },
   {
    "duration": 50,
    "start_time": "2023-01-03T06:40:03.655Z"
   },
   {
    "duration": 72,
    "start_time": "2023-01-03T06:41:34.386Z"
   },
   {
    "duration": 14,
    "start_time": "2023-01-03T06:42:12.266Z"
   },
   {
    "duration": 373,
    "start_time": "2023-01-03T06:43:26.267Z"
   },
   {
    "duration": 368,
    "start_time": "2023-01-03T06:43:54.677Z"
   },
   {
    "duration": 64,
    "start_time": "2023-01-03T06:44:34.685Z"
   },
   {
    "duration": 55,
    "start_time": "2023-01-03T06:44:54.025Z"
   },
   {
    "duration": 57,
    "start_time": "2023-01-03T06:45:08.177Z"
   },
   {
    "duration": 104802,
    "start_time": "2023-01-03T06:58:28.975Z"
   },
   {
    "duration": 58,
    "start_time": "2023-01-03T07:00:28.856Z"
   },
   {
    "duration": 10,
    "start_time": "2023-01-03T07:56:06.696Z"
   },
   {
    "duration": 22,
    "start_time": "2023-01-03T07:59:35.936Z"
   },
   {
    "duration": 15,
    "start_time": "2023-01-03T07:59:39.474Z"
   },
   {
    "duration": 4,
    "start_time": "2023-01-03T08:01:06.686Z"
   },
   {
    "duration": 8,
    "start_time": "2023-01-03T08:01:19.095Z"
   },
   {
    "duration": 8,
    "start_time": "2023-01-03T08:03:20.405Z"
   },
   {
    "duration": 14,
    "start_time": "2023-01-03T08:03:29.917Z"
   },
   {
    "duration": 22,
    "start_time": "2023-01-03T08:03:31.866Z"
   },
   {
    "duration": 20,
    "start_time": "2023-01-03T08:04:01.406Z"
   },
   {
    "duration": 1557,
    "start_time": "2023-01-03T09:51:22.185Z"
   },
   {
    "duration": 772,
    "start_time": "2023-01-03T09:51:24.796Z"
   },
   {
    "duration": 22,
    "start_time": "2023-01-03T09:51:29.651Z"
   },
   {
    "duration": 21,
    "start_time": "2023-01-03T09:51:31.816Z"
   },
   {
    "duration": 13,
    "start_time": "2023-01-03T09:51:34.265Z"
   },
   {
    "duration": 59,
    "start_time": "2023-01-03T09:51:36.208Z"
   },
   {
    "duration": 52,
    "start_time": "2023-01-03T09:51:38.163Z"
   },
   {
    "duration": 57,
    "start_time": "2023-01-03T09:51:41.517Z"
   },
   {
    "duration": 69,
    "start_time": "2023-01-03T09:51:44.116Z"
   },
   {
    "duration": 60,
    "start_time": "2023-01-03T09:51:46.816Z"
   },
   {
    "duration": 67,
    "start_time": "2023-01-03T09:51:48.846Z"
   },
   {
    "duration": 14,
    "start_time": "2023-01-03T09:51:55.484Z"
   },
   {
    "duration": 35,
    "start_time": "2023-01-03T09:52:44.495Z"
   },
   {
    "duration": 15,
    "start_time": "2023-01-03T09:55:01.046Z"
   },
   {
    "duration": 108,
    "start_time": "2023-01-03T09:55:12.955Z"
   },
   {
    "duration": 52,
    "start_time": "2023-01-03T09:55:29.646Z"
   },
   {
    "duration": 23,
    "start_time": "2023-01-03T09:58:27.766Z"
   },
   {
    "duration": 20,
    "start_time": "2023-01-03T09:58:59.057Z"
   },
   {
    "duration": 14,
    "start_time": "2023-01-03T09:59:42.039Z"
   },
   {
    "duration": 21,
    "start_time": "2023-01-03T09:59:42.847Z"
   },
   {
    "duration": 20,
    "start_time": "2023-01-03T09:59:57.902Z"
   },
   {
    "duration": 17,
    "start_time": "2023-01-03T10:03:24.612Z"
   },
   {
    "duration": 30,
    "start_time": "2023-01-03T10:06:32.832Z"
   },
   {
    "duration": 32,
    "start_time": "2023-01-03T10:07:07.720Z"
   },
   {
    "duration": 48,
    "start_time": "2023-01-03T10:07:41.382Z"
   },
   {
    "duration": 31,
    "start_time": "2023-01-03T10:07:57.182Z"
   },
   {
    "duration": 31,
    "start_time": "2023-01-03T10:08:10.350Z"
   },
   {
    "duration": 31,
    "start_time": "2023-01-03T10:08:20.072Z"
   },
   {
    "duration": 26,
    "start_time": "2023-01-03T10:08:35.132Z"
   },
   {
    "duration": 4,
    "start_time": "2023-01-03T10:18:47.541Z"
   },
   {
    "duration": 18,
    "start_time": "2023-01-03T10:19:03.300Z"
   },
   {
    "duration": 14,
    "start_time": "2023-01-03T10:26:04.670Z"
   },
   {
    "duration": 3,
    "start_time": "2023-01-03T10:26:08.718Z"
   },
   {
    "duration": 9,
    "start_time": "2023-01-03T10:26:35.410Z"
   },
   {
    "duration": 20,
    "start_time": "2023-01-03T10:26:42.920Z"
   },
   {
    "duration": 4,
    "start_time": "2023-01-03T10:27:37.909Z"
   },
   {
    "duration": 23,
    "start_time": "2023-01-03T10:27:39.310Z"
   },
   {
    "duration": 3,
    "start_time": "2023-01-03T10:28:16.697Z"
   },
   {
    "duration": 30,
    "start_time": "2023-01-03T10:28:18.458Z"
   },
   {
    "duration": 5,
    "start_time": "2023-01-03T10:28:56.339Z"
   },
   {
    "duration": 718,
    "start_time": "2023-01-03T10:34:02.701Z"
   },
   {
    "duration": 3,
    "start_time": "2023-01-03T10:34:15.810Z"
   },
   {
    "duration": 6,
    "start_time": "2023-01-03T10:34:41.220Z"
   },
   {
    "duration": 357,
    "start_time": "2023-01-03T10:36:55.107Z"
   },
   {
    "duration": 1064,
    "start_time": "2023-01-03T10:37:17.160Z"
   },
   {
    "duration": 6,
    "start_time": "2023-01-03T10:38:13.970Z"
   },
   {
    "duration": 5,
    "start_time": "2023-01-03T10:39:04.918Z"
   },
   {
    "duration": 763,
    "start_time": "2023-01-03T10:40:33.640Z"
   },
   {
    "duration": 718,
    "start_time": "2023-01-03T10:41:51.680Z"
   },
   {
    "duration": 3,
    "start_time": "2023-01-03T10:42:37.871Z"
   },
   {
    "duration": 3,
    "start_time": "2023-01-03T10:43:20.260Z"
   },
   {
    "duration": 25,
    "start_time": "2023-01-03T10:43:33.810Z"
   },
   {
    "duration": 22,
    "start_time": "2023-01-03T10:51:20.330Z"
   },
   {
    "duration": 37,
    "start_time": "2023-01-03T10:53:31.501Z"
   },
   {
    "duration": 52,
    "start_time": "2023-01-03T10:55:15.301Z"
   },
   {
    "duration": 52,
    "start_time": "2023-01-03T10:55:59.602Z"
   },
   {
    "duration": 55,
    "start_time": "2023-01-03T11:00:11.531Z"
   },
   {
    "duration": 54,
    "start_time": "2023-01-03T11:01:12.551Z"
   },
   {
    "duration": 29,
    "start_time": "2023-01-03T11:01:29.772Z"
   },
   {
    "duration": 62,
    "start_time": "2023-01-03T11:01:43.141Z"
   },
   {
    "duration": 50,
    "start_time": "2023-01-03T11:05:52.881Z"
   },
   {
    "duration": 56,
    "start_time": "2023-01-03T11:07:01.412Z"
   },
   {
    "duration": 68,
    "start_time": "2023-01-03T11:08:18.362Z"
   },
   {
    "duration": 4,
    "start_time": "2023-01-03T11:22:24.610Z"
   },
   {
    "duration": 3,
    "start_time": "2023-01-03T11:27:43.620Z"
   },
   {
    "duration": 4,
    "start_time": "2023-01-03T11:29:11.688Z"
   },
   {
    "duration": 40,
    "start_time": "2023-01-03T11:31:00.131Z"
   },
   {
    "duration": 382,
    "start_time": "2023-01-03T11:37:57.614Z"
   },
   {
    "duration": 14,
    "start_time": "2023-01-03T11:38:34.089Z"
   },
   {
    "duration": 14,
    "start_time": "2023-01-03T11:38:36.821Z"
   },
   {
    "duration": 15,
    "start_time": "2023-01-03T11:38:41.510Z"
   },
   {
    "duration": 12,
    "start_time": "2023-01-03T11:39:26.306Z"
   },
   {
    "duration": 49,
    "start_time": "2023-01-03T11:39:43.951Z"
   },
   {
    "duration": 38,
    "start_time": "2023-01-03T11:39:49.199Z"
   },
   {
    "duration": 30,
    "start_time": "2023-01-03T11:39:53.879Z"
   },
   {
    "duration": 68,
    "start_time": "2023-01-03T11:40:01.601Z"
   },
   {
    "duration": 68,
    "start_time": "2023-01-03T11:40:07.950Z"
   },
   {
    "duration": 72,
    "start_time": "2023-01-03T11:40:14.637Z"
   },
   {
    "duration": 12,
    "start_time": "2023-01-03T11:40:36.560Z"
   },
   {
    "duration": 36,
    "start_time": "2023-01-03T11:40:41.162Z"
   },
   {
    "duration": 5,
    "start_time": "2023-01-03T11:40:45.220Z"
   },
   {
    "duration": 102,
    "start_time": "2023-01-03T11:40:50.476Z"
   },
   {
    "duration": 16,
    "start_time": "2023-01-03T11:42:46.420Z"
   },
   {
    "duration": 15,
    "start_time": "2023-01-03T11:42:51.897Z"
   },
   {
    "duration": 1467,
    "start_time": "2023-01-03T19:06:06.273Z"
   },
   {
    "duration": 746,
    "start_time": "2023-01-03T19:06:07.743Z"
   },
   {
    "duration": 49,
    "start_time": "2023-01-03T19:10:09.118Z"
   },
   {
    "duration": 47,
    "start_time": "2023-01-03T19:10:34.745Z"
   },
   {
    "duration": 4,
    "start_time": "2023-01-03T19:10:48.605Z"
   },
   {
    "duration": 129,
    "start_time": "2023-01-03T19:11:18.144Z"
   },
   {
    "duration": 3,
    "start_time": "2023-01-03T19:12:15.764Z"
   },
   {
    "duration": 3,
    "start_time": "2023-01-03T19:12:27.574Z"
   },
   {
    "duration": 3,
    "start_time": "2023-01-03T19:12:35.055Z"
   },
   {
    "duration": 125,
    "start_time": "2023-01-03T19:12:37.644Z"
   },
   {
    "duration": 4,
    "start_time": "2023-01-03T19:12:52.775Z"
   },
   {
    "duration": 130,
    "start_time": "2023-01-03T19:12:55.323Z"
   },
   {
    "duration": 4,
    "start_time": "2023-01-03T19:14:13.362Z"
   },
   {
    "duration": 134,
    "start_time": "2023-01-03T19:14:17.295Z"
   },
   {
    "duration": 129,
    "start_time": "2023-01-03T19:15:12.164Z"
   },
   {
    "duration": 128,
    "start_time": "2023-01-03T19:16:29.325Z"
   },
   {
    "duration": 141,
    "start_time": "2023-01-03T19:16:35.015Z"
   },
   {
    "duration": 49,
    "start_time": "2023-01-03T19:18:26.624Z"
   },
   {
    "duration": 3,
    "start_time": "2023-01-03T19:18:33.756Z"
   },
   {
    "duration": 201,
    "start_time": "2023-01-03T19:18:37.945Z"
   },
   {
    "duration": 4,
    "start_time": "2023-01-03T19:19:11.934Z"
   },
   {
    "duration": 157,
    "start_time": "2023-01-03T19:19:15.475Z"
   },
   {
    "duration": 113,
    "start_time": "2023-01-03T19:19:21.375Z"
   },
   {
    "duration": 143,
    "start_time": "2023-01-03T19:19:31.316Z"
   },
   {
    "duration": 13,
    "start_time": "2023-01-03T19:20:03.514Z"
   },
   {
    "duration": 10,
    "start_time": "2023-01-03T19:23:00.707Z"
   },
   {
    "duration": 34,
    "start_time": "2023-01-03T19:23:14.576Z"
   },
   {
    "duration": 3,
    "start_time": "2023-01-03T19:28:34.966Z"
   },
   {
    "duration": 231,
    "start_time": "2023-01-03T19:28:42.986Z"
   },
   {
    "duration": 3,
    "start_time": "2023-01-03T19:29:20.885Z"
   },
   {
    "duration": 14,
    "start_time": "2023-01-03T19:29:22.706Z"
   },
   {
    "duration": 23,
    "start_time": "2023-01-03T19:29:59.261Z"
   },
   {
    "duration": 15,
    "start_time": "2023-01-03T19:31:01.005Z"
   },
   {
    "duration": 5,
    "start_time": "2023-01-03T19:48:28.006Z"
   },
   {
    "duration": 86,
    "start_time": "2023-01-03T19:48:31.126Z"
   },
   {
    "duration": 16,
    "start_time": "2023-01-03T19:48:59.914Z"
   },
   {
    "duration": 15,
    "start_time": "2023-01-03T19:49:13.515Z"
   },
   {
    "duration": 4,
    "start_time": "2023-01-03T19:51:25.893Z"
   },
   {
    "duration": 15,
    "start_time": "2023-01-03T19:51:28.454Z"
   },
   {
    "duration": 4,
    "start_time": "2023-01-03T19:53:12.966Z"
   },
   {
    "duration": 22,
    "start_time": "2023-01-03T19:53:39.095Z"
   },
   {
    "duration": 4,
    "start_time": "2023-01-03T19:53:58.153Z"
   },
   {
    "duration": 16,
    "start_time": "2023-01-03T19:53:59.674Z"
   },
   {
    "duration": 1748,
    "start_time": "2023-01-04T03:27:18.800Z"
   },
   {
    "duration": 1676,
    "start_time": "2023-01-04T03:27:22.301Z"
   },
   {
    "duration": 5,
    "start_time": "2023-01-04T03:27:33.412Z"
   },
   {
    "duration": 202,
    "start_time": "2023-01-04T03:27:43.352Z"
   },
   {
    "duration": 153,
    "start_time": "2023-01-04T03:27:48.790Z"
   },
   {
    "duration": 21,
    "start_time": "2023-01-04T03:52:58.851Z"
   },
   {
    "duration": 126,
    "start_time": "2023-01-04T03:53:25.062Z"
   },
   {
    "duration": 105,
    "start_time": "2023-01-04T03:54:43.813Z"
   },
   {
    "duration": 67,
    "start_time": "2023-01-04T03:56:04.071Z"
   },
   {
    "duration": 65,
    "start_time": "2023-01-04T03:56:35.161Z"
   },
   {
    "duration": 4,
    "start_time": "2023-01-04T03:58:04.684Z"
   },
   {
    "duration": 243,
    "start_time": "2023-01-04T03:58:50.461Z"
   },
   {
    "duration": 4,
    "start_time": "2023-01-04T04:00:50.232Z"
   },
   {
    "duration": 253,
    "start_time": "2023-01-04T04:00:59.922Z"
   },
   {
    "duration": 4,
    "start_time": "2023-01-04T04:01:18.514Z"
   },
   {
    "duration": 231,
    "start_time": "2023-01-04T04:01:21.882Z"
   },
   {
    "duration": 267,
    "start_time": "2023-01-04T04:01:32.760Z"
   },
   {
    "duration": 241,
    "start_time": "2023-01-04T04:01:43.342Z"
   },
   {
    "duration": 11,
    "start_time": "2023-01-04T04:25:30.992Z"
   },
   {
    "duration": 12,
    "start_time": "2023-01-04T04:53:43.561Z"
   },
   {
    "duration": 50,
    "start_time": "2023-01-04T04:53:48.674Z"
   },
   {
    "duration": 3,
    "start_time": "2023-01-04T05:00:52.472Z"
   },
   {
    "duration": 6,
    "start_time": "2023-01-04T05:04:41.864Z"
   },
   {
    "duration": 51,
    "start_time": "2023-01-04T05:04:47.112Z"
   },
   {
    "duration": 4,
    "start_time": "2023-01-04T05:08:44.841Z"
   },
   {
    "duration": 85,
    "start_time": "2023-01-04T05:10:16.677Z"
   },
   {
    "duration": 19,
    "start_time": "2023-01-04T05:10:47.182Z"
   },
   {
    "duration": 71,
    "start_time": "2023-01-04T05:10:50.483Z"
   },
   {
    "duration": 4,
    "start_time": "2023-01-04T05:11:04.321Z"
   },
   {
    "duration": 21,
    "start_time": "2023-01-04T05:11:07.392Z"
   },
   {
    "duration": 4,
    "start_time": "2023-01-04T05:11:24.021Z"
   },
   {
    "duration": 73,
    "start_time": "2023-01-04T05:32:02.982Z"
   },
   {
    "duration": 8,
    "start_time": "2023-01-04T05:32:18.083Z"
   },
   {
    "duration": 85,
    "start_time": "2023-01-04T05:32:19.673Z"
   },
   {
    "duration": 5,
    "start_time": "2023-01-04T05:32:59.389Z"
   },
   {
    "duration": 41,
    "start_time": "2023-01-04T05:33:01.412Z"
   },
   {
    "duration": 5,
    "start_time": "2023-01-04T05:48:15.683Z"
   },
   {
    "duration": 110,
    "start_time": "2023-01-04T05:48:25.642Z"
   },
   {
    "duration": 38,
    "start_time": "2023-01-04T05:48:57.214Z"
   },
   {
    "duration": 82,
    "start_time": "2023-01-04T05:50:51.270Z"
   },
   {
    "duration": 118,
    "start_time": "2023-01-04T05:54:42.742Z"
   },
   {
    "duration": 27,
    "start_time": "2023-01-04T05:54:51.727Z"
   },
   {
    "duration": 9,
    "start_time": "2023-01-04T06:06:08.584Z"
   },
   {
    "duration": 10,
    "start_time": "2023-01-04T06:06:26.813Z"
   },
   {
    "duration": 7,
    "start_time": "2023-01-04T06:06:37.945Z"
   },
   {
    "duration": 11,
    "start_time": "2023-01-04T06:06:49.973Z"
   },
   {
    "duration": 5,
    "start_time": "2023-01-04T06:08:54.963Z"
   },
   {
    "duration": 6,
    "start_time": "2023-01-04T06:09:09.164Z"
   },
   {
    "duration": 11,
    "start_time": "2023-01-04T06:09:12.593Z"
   },
   {
    "duration": 10,
    "start_time": "2023-01-04T06:09:20.240Z"
   },
   {
    "duration": 200,
    "start_time": "2023-01-04T06:09:27.851Z"
   },
   {
    "duration": 5,
    "start_time": "2023-01-04T06:11:57.893Z"
   },
   {
    "duration": 88,
    "start_time": "2023-01-04T06:20:34.932Z"
   },
   {
    "duration": 963,
    "start_time": "2023-01-04T06:20:43.322Z"
   },
   {
    "duration": 23,
    "start_time": "2023-01-04T06:23:26.100Z"
   },
   {
    "duration": 53,
    "start_time": "2023-01-04T06:23:42.501Z"
   },
   {
    "duration": 15,
    "start_time": "2023-01-04T06:24:08.001Z"
   },
   {
    "duration": 23,
    "start_time": "2023-01-04T06:27:15.231Z"
   },
   {
    "duration": 12,
    "start_time": "2023-01-04T06:27:24.652Z"
   },
   {
    "duration": 20,
    "start_time": "2023-01-04T06:27:39.272Z"
   },
   {
    "duration": 18,
    "start_time": "2023-01-04T06:28:21.850Z"
   },
   {
    "duration": 938,
    "start_time": "2023-01-04T06:29:07.010Z"
   },
   {
    "duration": 1241,
    "start_time": "2023-01-04T06:29:22.611Z"
   },
   {
    "duration": 22,
    "start_time": "2023-01-04T06:30:23.173Z"
   },
   {
    "duration": 17,
    "start_time": "2023-01-04T06:30:33.541Z"
   },
   {
    "duration": 20,
    "start_time": "2023-01-04T07:09:00.771Z"
   },
   {
    "duration": 5,
    "start_time": "2023-01-04T07:11:45.432Z"
   },
   {
    "duration": 5,
    "start_time": "2023-01-04T07:12:29.241Z"
   },
   {
    "duration": 7,
    "start_time": "2023-01-04T07:15:41.575Z"
   },
   {
    "duration": 58,
    "start_time": "2023-01-04T07:15:46.501Z"
   },
   {
    "duration": 3,
    "start_time": "2023-01-04T07:29:04.321Z"
   },
   {
    "duration": 48,
    "start_time": "2023-01-04T07:29:14.510Z"
   },
   {
    "duration": 28,
    "start_time": "2023-01-04T07:29:25.330Z"
   },
   {
    "duration": 64,
    "start_time": "2023-01-04T07:29:39.790Z"
   },
   {
    "duration": 6,
    "start_time": "2023-01-04T07:29:46.511Z"
   },
   {
    "duration": 4,
    "start_time": "2023-01-04T07:29:49.571Z"
   },
   {
    "duration": 89,
    "start_time": "2023-01-04T07:29:51.365Z"
   },
   {
    "duration": 12,
    "start_time": "2023-01-04T07:31:24.790Z"
   },
   {
    "duration": 16,
    "start_time": "2023-01-04T07:31:50.640Z"
   },
   {
    "duration": 3,
    "start_time": "2023-01-04T07:34:56.431Z"
   },
   {
    "duration": 49,
    "start_time": "2023-01-04T07:36:10.910Z"
   },
   {
    "duration": 6,
    "start_time": "2023-01-04T07:36:16.131Z"
   },
   {
    "duration": 170,
    "start_time": "2023-01-04T07:36:18.080Z"
   },
   {
    "duration": 214,
    "start_time": "2023-01-04T07:36:41.740Z"
   },
   {
    "duration": 5,
    "start_time": "2023-01-04T07:37:30.330Z"
   },
   {
    "duration": 5,
    "start_time": "2023-01-04T07:38:00.937Z"
   },
   {
    "duration": 83,
    "start_time": "2023-01-04T07:38:04.670Z"
   },
   {
    "duration": 5,
    "start_time": "2023-01-04T07:38:26.790Z"
   },
   {
    "duration": 53,
    "start_time": "2023-01-04T07:40:57.500Z"
   },
   {
    "duration": 5,
    "start_time": "2023-01-04T07:41:17.770Z"
   },
   {
    "duration": 121,
    "start_time": "2023-01-04T07:44:41.531Z"
   },
   {
    "duration": 3,
    "start_time": "2023-01-04T07:44:50.420Z"
   },
   {
    "duration": 5,
    "start_time": "2023-01-04T07:45:03.280Z"
   },
   {
    "duration": 6,
    "start_time": "2023-01-04T07:45:16.630Z"
   },
   {
    "duration": 3,
    "start_time": "2023-01-04T07:48:09.038Z"
   },
   {
    "duration": 72,
    "start_time": "2023-01-04T07:48:17.100Z"
   },
   {
    "duration": 7,
    "start_time": "2023-01-04T07:48:22.440Z"
   },
   {
    "duration": 6,
    "start_time": "2023-01-04T07:48:36.817Z"
   },
   {
    "duration": 113,
    "start_time": "2023-01-04T07:50:29.740Z"
   },
   {
    "duration": 92,
    "start_time": "2023-01-04T07:51:28.160Z"
   },
   {
    "duration": 77,
    "start_time": "2023-01-04T07:53:42.797Z"
   },
   {
    "duration": 5,
    "start_time": "2023-01-04T07:53:49.688Z"
   },
   {
    "duration": 1593,
    "start_time": "2023-01-04T10:06:25.380Z"
   },
   {
    "duration": 773,
    "start_time": "2023-01-04T10:06:31.790Z"
   },
   {
    "duration": 4,
    "start_time": "2023-01-04T10:06:33.141Z"
   },
   {
    "duration": 203,
    "start_time": "2023-01-04T10:06:37.930Z"
   },
   {
    "duration": 11,
    "start_time": "2023-01-04T10:06:44.511Z"
   },
   {
    "duration": 12,
    "start_time": "2023-01-04T10:07:12.129Z"
   },
   {
    "duration": 38,
    "start_time": "2023-01-04T10:07:14.480Z"
   },
   {
    "duration": 5,
    "start_time": "2023-01-04T10:07:17.492Z"
   },
   {
    "duration": 168,
    "start_time": "2023-01-04T10:08:07.111Z"
   },
   {
    "duration": 22,
    "start_time": "2023-01-04T10:08:10.122Z"
   },
   {
    "duration": 4,
    "start_time": "2023-01-04T10:32:08.733Z"
   },
   {
    "duration": 25,
    "start_time": "2023-01-04T10:32:18.292Z"
   },
   {
    "duration": 22,
    "start_time": "2023-01-04T10:32:31.891Z"
   },
   {
    "duration": 19,
    "start_time": "2023-01-04T10:32:52.562Z"
   },
   {
    "duration": 5,
    "start_time": "2023-01-04T10:36:51.369Z"
   },
   {
    "duration": 48,
    "start_time": "2023-01-04T10:36:53.232Z"
   },
   {
    "duration": 21,
    "start_time": "2023-01-04T10:36:59.139Z"
   },
   {
    "duration": 32,
    "start_time": "2023-01-04T10:37:08.295Z"
   },
   {
    "duration": 4,
    "start_time": "2023-01-04T11:47:11.264Z"
   },
   {
    "duration": 16,
    "start_time": "2023-01-04T11:47:14.204Z"
   },
   {
    "duration": 16,
    "start_time": "2023-01-04T11:47:24.673Z"
   },
   {
    "duration": 16,
    "start_time": "2023-01-04T11:47:50.603Z"
   },
   {
    "duration": 1441,
    "start_time": "2023-01-05T04:17:12.348Z"
   },
   {
    "duration": 717,
    "start_time": "2023-01-05T04:17:13.792Z"
   },
   {
    "duration": 4,
    "start_time": "2023-01-05T04:17:14.511Z"
   },
   {
    "duration": 207,
    "start_time": "2023-01-05T04:17:14.517Z"
   },
   {
    "duration": 209,
    "start_time": "2023-01-05T04:17:14.726Z"
   },
   {
    "duration": 207,
    "start_time": "2023-01-05T04:17:14.937Z"
   },
   {
    "duration": 13,
    "start_time": "2023-01-05T04:17:15.145Z"
   },
   {
    "duration": 22,
    "start_time": "2023-01-05T04:17:15.160Z"
   },
   {
    "duration": 51,
    "start_time": "2023-01-05T04:17:15.184Z"
   },
   {
    "duration": 5,
    "start_time": "2023-01-05T04:17:15.237Z"
   },
   {
    "duration": 180,
    "start_time": "2023-01-05T04:17:15.244Z"
   },
   {
    "duration": 101,
    "start_time": "2023-01-05T04:17:15.426Z"
   },
   {
    "duration": 193,
    "start_time": "2023-01-05T04:17:15.528Z"
   },
   {
    "duration": 4,
    "start_time": "2023-01-05T04:20:40.842Z"
   },
   {
    "duration": 18,
    "start_time": "2023-01-05T04:20:45.959Z"
   },
   {
    "duration": 20,
    "start_time": "2023-01-05T04:20:55.229Z"
   },
   {
    "duration": 17,
    "start_time": "2023-01-05T04:21:01.122Z"
   },
   {
    "duration": 1501,
    "start_time": "2023-01-05T08:35:38.699Z"
   },
   {
    "duration": 50,
    "start_time": "2023-01-05T08:53:31.299Z"
   },
   {
    "duration": 4,
    "start_time": "2023-01-05T08:53:41.288Z"
   },
   {
    "duration": 5,
    "start_time": "2023-01-05T08:59:05.009Z"
   },
   {
    "duration": 118,
    "start_time": "2023-01-05T09:00:03.968Z"
   },
   {
    "duration": 1435,
    "start_time": "2023-01-05T09:00:33.166Z"
   },
   {
    "duration": 774,
    "start_time": "2023-01-05T09:00:35.006Z"
   },
   {
    "duration": 4,
    "start_time": "2023-01-05T09:00:36.247Z"
   },
   {
    "duration": 263,
    "start_time": "2023-01-05T09:00:39.947Z"
   },
   {
    "duration": 210,
    "start_time": "2023-01-05T09:00:45.035Z"
   },
   {
    "duration": 196,
    "start_time": "2023-01-05T09:00:47.867Z"
   },
   {
    "duration": 13,
    "start_time": "2023-01-05T09:00:51.088Z"
   },
   {
    "duration": 10,
    "start_time": "2023-01-05T09:00:57.527Z"
   },
   {
    "duration": 43,
    "start_time": "2023-01-05T09:00:58.036Z"
   },
   {
    "duration": 5,
    "start_time": "2023-01-05T09:01:02.846Z"
   },
   {
    "duration": 115,
    "start_time": "2023-01-05T09:01:05.117Z"
   },
   {
    "duration": 5,
    "start_time": "2023-01-05T09:01:40.117Z"
   },
   {
    "duration": 10,
    "start_time": "2023-01-05T09:01:46.627Z"
   },
   {
    "duration": 29,
    "start_time": "2023-01-05T09:01:47.376Z"
   },
   {
    "duration": 4,
    "start_time": "2023-01-05T09:02:08.580Z"
   },
   {
    "duration": 35,
    "start_time": "2023-01-05T09:02:09.447Z"
   },
   {
    "duration": 7,
    "start_time": "2023-01-05T09:03:02.196Z"
   },
   {
    "duration": 5,
    "start_time": "2023-01-05T09:03:06.386Z"
   },
   {
    "duration": 32,
    "start_time": "2023-01-05T09:03:10.977Z"
   },
   {
    "duration": 26,
    "start_time": "2023-01-05T09:04:12.047Z"
   },
   {
    "duration": 9,
    "start_time": "2023-01-05T09:04:37.345Z"
   },
   {
    "duration": 1468,
    "start_time": "2023-01-05T19:06:44.473Z"
   },
   {
    "duration": 818,
    "start_time": "2023-01-05T19:06:46.570Z"
   },
   {
    "duration": 3,
    "start_time": "2023-01-05T19:06:50.772Z"
   },
   {
    "duration": 12,
    "start_time": "2023-01-05T19:09:57.952Z"
   },
   {
    "duration": 10,
    "start_time": "2023-01-05T19:10:13.072Z"
   },
   {
    "duration": 49,
    "start_time": "2023-01-05T19:39:16.461Z"
   },
   {
    "duration": 50,
    "start_time": "2023-01-05T19:40:55.079Z"
   },
   {
    "duration": 42,
    "start_time": "2023-01-05T19:41:38.551Z"
   },
   {
    "duration": 110,
    "start_time": "2023-01-05T19:41:53.362Z"
   },
   {
    "duration": 11,
    "start_time": "2023-01-05T19:42:04.290Z"
   },
   {
    "duration": 18,
    "start_time": "2023-01-05T19:42:59.010Z"
   },
   {
    "duration": 5,
    "start_time": "2023-01-05T19:43:12.531Z"
   },
   {
    "duration": 11,
    "start_time": "2023-01-05T19:43:24.730Z"
   },
   {
    "duration": 10,
    "start_time": "2023-01-05T19:51:50.700Z"
   },
   {
    "duration": 49,
    "start_time": "2023-01-05T19:52:23.300Z"
   },
   {
    "duration": 39,
    "start_time": "2023-01-05T19:52:36.370Z"
   },
   {
    "duration": 12,
    "start_time": "2023-01-05T19:59:26.060Z"
   },
   {
    "duration": 11,
    "start_time": "2023-01-05T20:02:58.658Z"
   },
   {
    "duration": 7,
    "start_time": "2023-01-05T20:04:30.381Z"
   },
   {
    "duration": 10,
    "start_time": "2023-01-05T20:04:56.774Z"
   },
   {
    "duration": 7,
    "start_time": "2023-01-05T20:05:51.931Z"
   },
   {
    "duration": 8,
    "start_time": "2023-01-05T20:06:26.432Z"
   },
   {
    "duration": 39,
    "start_time": "2023-01-05T20:06:44.612Z"
   },
   {
    "duration": 45,
    "start_time": "2023-01-05T20:08:09.583Z"
   },
   {
    "duration": 1448,
    "start_time": "2023-01-06T09:37:14.545Z"
   },
   {
    "duration": 700,
    "start_time": "2023-01-06T09:37:16.458Z"
   },
   {
    "duration": 4,
    "start_time": "2023-01-06T09:37:18.585Z"
   },
   {
    "duration": 214,
    "start_time": "2023-01-06T09:37:24.287Z"
   },
   {
    "duration": 11,
    "start_time": "2023-01-06T09:37:28.887Z"
   },
   {
    "duration": 69,
    "start_time": "2023-01-06T09:42:01.504Z"
   },
   {
    "duration": 113,
    "start_time": "2023-01-06T09:42:19.828Z"
   },
   {
    "duration": 1356,
    "start_time": "2023-01-06T09:44:10.304Z"
   },
   {
    "duration": 339,
    "start_time": "2023-01-06T09:44:12.036Z"
   },
   {
    "duration": 4,
    "start_time": "2023-01-06T09:44:13.464Z"
   },
   {
    "duration": 187,
    "start_time": "2023-01-06T09:44:14.616Z"
   },
   {
    "duration": 153,
    "start_time": "2023-01-06T09:44:18.337Z"
   },
   {
    "duration": 193,
    "start_time": "2023-01-06T09:44:24.027Z"
   },
   {
    "duration": 12,
    "start_time": "2023-01-06T09:44:28.736Z"
   },
   {
    "duration": 102,
    "start_time": "2023-01-06T09:44:34.067Z"
   },
   {
    "duration": 12,
    "start_time": "2023-01-06T09:46:19.114Z"
   },
   {
    "duration": 10,
    "start_time": "2023-01-06T09:47:20.398Z"
   },
   {
    "duration": 11,
    "start_time": "2023-01-06T09:48:03.635Z"
   },
   {
    "duration": 13,
    "start_time": "2023-01-06T09:48:24.965Z"
   },
   {
    "duration": 11,
    "start_time": "2023-01-06T09:50:41.624Z"
   },
   {
    "duration": 11,
    "start_time": "2023-01-06T09:55:40.596Z"
   },
   {
    "duration": 11,
    "start_time": "2023-01-06T09:55:59.556Z"
   },
   {
    "duration": 4,
    "start_time": "2023-01-06T10:18:27.052Z"
   },
   {
    "duration": 3,
    "start_time": "2023-01-06T10:18:31.092Z"
   },
   {
    "duration": 8,
    "start_time": "2023-01-06T10:18:57.964Z"
   },
   {
    "duration": 3,
    "start_time": "2023-01-06T10:19:03.334Z"
   },
   {
    "duration": 9,
    "start_time": "2023-01-06T10:19:40.161Z"
   },
   {
    "duration": 10,
    "start_time": "2023-01-06T10:20:00.714Z"
   },
   {
    "duration": 9,
    "start_time": "2023-01-06T10:20:15.914Z"
   },
   {
    "duration": 11,
    "start_time": "2023-01-06T10:20:33.494Z"
   },
   {
    "duration": 5,
    "start_time": "2023-01-06T10:30:26.023Z"
   },
   {
    "duration": 5,
    "start_time": "2023-01-06T10:30:40.893Z"
   },
   {
    "duration": 11,
    "start_time": "2023-01-06T10:31:04.144Z"
   },
   {
    "duration": 3,
    "start_time": "2023-01-06T10:31:41.134Z"
   },
   {
    "duration": 1428,
    "start_time": "2023-01-06T10:32:04.815Z"
   },
   {
    "duration": 337,
    "start_time": "2023-01-06T10:32:07.583Z"
   },
   {
    "duration": 4,
    "start_time": "2023-01-06T10:32:09.012Z"
   },
   {
    "duration": 229,
    "start_time": "2023-01-06T10:32:10.902Z"
   },
   {
    "duration": 183,
    "start_time": "2023-01-06T10:32:14.884Z"
   },
   {
    "duration": 210,
    "start_time": "2023-01-06T10:32:19.134Z"
   },
   {
    "duration": 11,
    "start_time": "2023-01-06T10:32:23.194Z"
   },
   {
    "duration": 103,
    "start_time": "2023-01-06T10:32:32.493Z"
   },
   {
    "duration": 10,
    "start_time": "2023-01-06T10:33:03.172Z"
   },
   {
    "duration": 9,
    "start_time": "2023-01-06T10:33:32.092Z"
   },
   {
    "duration": 3,
    "start_time": "2023-01-06T10:35:01.616Z"
   },
   {
    "duration": 3,
    "start_time": "2023-01-06T10:35:06.366Z"
   },
   {
    "duration": 6,
    "start_time": "2023-01-06T10:35:35.069Z"
   },
   {
    "duration": 45,
    "start_time": "2023-01-06T10:36:18.006Z"
   },
   {
    "duration": 10,
    "start_time": "2023-01-06T10:36:42.054Z"
   },
   {
    "duration": 9,
    "start_time": "2023-01-06T10:37:42.515Z"
   },
   {
    "duration": 3,
    "start_time": "2023-01-06T10:39:21.043Z"
   },
   {
    "duration": 9,
    "start_time": "2023-01-06T10:39:36.575Z"
   },
   {
    "duration": 4,
    "start_time": "2023-01-06T10:39:52.983Z"
   },
   {
    "duration": 5,
    "start_time": "2023-01-06T10:39:59.443Z"
   },
   {
    "duration": 8,
    "start_time": "2023-01-06T10:40:05.244Z"
   },
   {
    "duration": 5,
    "start_time": "2023-01-06T10:40:11.764Z"
   },
   {
    "duration": 8,
    "start_time": "2023-01-06T10:40:21.468Z"
   },
   {
    "duration": 7,
    "start_time": "2023-01-06T10:40:42.244Z"
   },
   {
    "duration": 26,
    "start_time": "2023-01-06T10:41:25.884Z"
   },
   {
    "duration": 31,
    "start_time": "2023-01-06T10:41:54.902Z"
   },
   {
    "duration": 30,
    "start_time": "2023-01-06T10:41:58.645Z"
   },
   {
    "duration": 772,
    "start_time": "2023-01-06T10:42:31.333Z"
   },
   {
    "duration": 30,
    "start_time": "2023-01-06T10:43:02.614Z"
   },
   {
    "duration": 9,
    "start_time": "2023-01-06T10:43:05.502Z"
   },
   {
    "duration": 9,
    "start_time": "2023-01-06T10:46:32.375Z"
   },
   {
    "duration": 4,
    "start_time": "2023-01-06T10:46:51.434Z"
   },
   {
    "duration": 7,
    "start_time": "2023-01-06T10:47:20.152Z"
   },
   {
    "duration": 5,
    "start_time": "2023-01-06T10:47:28.623Z"
   },
   {
    "duration": 1303,
    "start_time": "2023-01-06T10:50:42.202Z"
   },
   {
    "duration": 334,
    "start_time": "2023-01-06T10:50:43.630Z"
   },
   {
    "duration": 4,
    "start_time": "2023-01-06T10:50:44.990Z"
   },
   {
    "duration": 190,
    "start_time": "2023-01-06T10:50:46.261Z"
   },
   {
    "duration": 168,
    "start_time": "2023-01-06T10:50:49.752Z"
   },
   {
    "duration": 168,
    "start_time": "2023-01-06T10:50:53.332Z"
   },
   {
    "duration": 14,
    "start_time": "2023-01-06T10:50:56.168Z"
   },
   {
    "duration": 24,
    "start_time": "2023-01-06T10:51:09.312Z"
   },
   {
    "duration": 26,
    "start_time": "2023-01-06T10:52:46.612Z"
   },
   {
    "duration": 1481,
    "start_time": "2023-01-06T10:55:02.350Z"
   },
   {
    "duration": 24,
    "start_time": "2023-01-06T10:55:21.171Z"
   },
   {
    "duration": 780,
    "start_time": "2023-01-06T10:55:33.021Z"
   },
   {
    "duration": 691,
    "start_time": "2023-01-06T10:57:04.010Z"
   },
   {
    "duration": 671,
    "start_time": "2023-01-06T10:58:20.943Z"
   },
   {
    "duration": 686,
    "start_time": "2023-01-06T10:58:47.077Z"
   },
   {
    "duration": 754,
    "start_time": "2023-01-06T10:59:20.572Z"
   },
   {
    "duration": 23,
    "start_time": "2023-01-06T10:59:50.372Z"
   },
   {
    "duration": 712,
    "start_time": "2023-01-06T11:06:47.171Z"
   },
   {
    "duration": 688,
    "start_time": "2023-01-06T11:06:56.079Z"
   },
   {
    "duration": 684,
    "start_time": "2023-01-06T11:08:31.670Z"
   },
   {
    "duration": 10,
    "start_time": "2023-01-06T11:08:51.790Z"
   },
   {
    "duration": 708,
    "start_time": "2023-01-06T11:10:56.764Z"
   },
   {
    "duration": 723,
    "start_time": "2023-01-06T11:12:02.540Z"
   },
   {
    "duration": 1879,
    "start_time": "2023-01-06T11:15:01.970Z"
   },
   {
    "duration": 7,
    "start_time": "2023-01-06T11:15:23.067Z"
   },
   {
    "duration": 42,
    "start_time": "2023-01-06T11:15:28.241Z"
   },
   {
    "duration": 30,
    "start_time": "2023-01-06T11:15:36.221Z"
   },
   {
    "duration": 4,
    "start_time": "2023-01-06T11:15:40.863Z"
   },
   {
    "duration": 24,
    "start_time": "2023-01-06T11:20:56.940Z"
   },
   {
    "duration": 3,
    "start_time": "2023-01-06T11:21:06.631Z"
   },
   {
    "duration": 24,
    "start_time": "2023-01-06T11:21:10.350Z"
   },
   {
    "duration": 17,
    "start_time": "2023-01-06T11:22:52.796Z"
   },
   {
    "duration": 3,
    "start_time": "2023-01-06T11:23:27.190Z"
   },
   {
    "duration": 24,
    "start_time": "2023-01-06T11:23:31.320Z"
   },
   {
    "duration": 3,
    "start_time": "2023-01-06T11:25:18.998Z"
   },
   {
    "duration": 26,
    "start_time": "2023-01-06T11:25:22.309Z"
   },
   {
    "duration": 20,
    "start_time": "2023-01-06T11:26:13.800Z"
   },
   {
    "duration": 21,
    "start_time": "2023-01-06T11:26:37.468Z"
   },
   {
    "duration": 4,
    "start_time": "2023-01-06T11:27:58.689Z"
   },
   {
    "duration": 59,
    "start_time": "2023-01-06T11:28:31.338Z"
   },
   {
    "duration": 15,
    "start_time": "2023-01-06T11:28:48.584Z"
   },
   {
    "duration": 25,
    "start_time": "2023-01-06T11:28:58.379Z"
   },
   {
    "duration": 4,
    "start_time": "2023-01-06T11:33:49.049Z"
   },
   {
    "duration": 4,
    "start_time": "2023-01-06T11:36:34.269Z"
   },
   {
    "duration": 1541,
    "start_time": "2023-01-06T19:18:15.683Z"
   },
   {
    "duration": 984,
    "start_time": "2023-01-06T19:18:17.226Z"
   },
   {
    "duration": 5,
    "start_time": "2023-01-06T19:18:18.212Z"
   },
   {
    "duration": 205,
    "start_time": "2023-01-06T19:18:18.220Z"
   },
   {
    "duration": 215,
    "start_time": "2023-01-06T19:18:18.427Z"
   },
   {
    "duration": 204,
    "start_time": "2023-01-06T19:18:18.644Z"
   },
   {
    "duration": 11,
    "start_time": "2023-01-06T19:18:18.849Z"
   },
   {
    "duration": 11,
    "start_time": "2023-01-06T19:18:18.861Z"
   },
   {
    "duration": 48,
    "start_time": "2023-01-06T19:18:18.873Z"
   },
   {
    "duration": 4,
    "start_time": "2023-01-06T19:18:18.922Z"
   },
   {
    "duration": 27,
    "start_time": "2023-01-06T19:18:18.929Z"
   },
   {
    "duration": 51,
    "start_time": "2023-01-06T19:18:18.958Z"
   },
   {
    "duration": 23,
    "start_time": "2023-01-06T19:18:19.013Z"
   },
   {
    "duration": 5,
    "start_time": "2023-01-06T19:18:19.038Z"
   },
   {
    "duration": 75,
    "start_time": "2023-01-06T19:18:19.045Z"
   },
   {
    "duration": 94,
    "start_time": "2023-01-06T19:18:19.122Z"
   },
   {
    "duration": 84,
    "start_time": "2023-01-06T19:18:19.218Z"
   },
   {
    "duration": 121,
    "start_time": "2023-01-06T19:18:19.304Z"
   },
   {
    "duration": 6,
    "start_time": "2023-01-06T19:18:19.427Z"
   },
   {
    "duration": 5,
    "start_time": "2023-01-06T19:18:19.434Z"
   },
   {
    "duration": 4,
    "start_time": "2023-01-06T20:08:42.971Z"
   },
   {
    "duration": 119,
    "start_time": "2023-01-06T20:10:20.601Z"
   },
   {
    "duration": 4,
    "start_time": "2023-01-06T20:11:32.053Z"
   },
   {
    "duration": 13,
    "start_time": "2023-01-06T20:11:33.542Z"
   },
   {
    "duration": 3,
    "start_time": "2023-01-06T20:12:42.451Z"
   },
   {
    "duration": 9,
    "start_time": "2023-01-06T20:13:37.063Z"
   },
   {
    "duration": 4,
    "start_time": "2023-01-06T20:14:08.682Z"
   },
   {
    "duration": 4,
    "start_time": "2023-01-06T20:14:37.072Z"
   },
   {
    "duration": 7,
    "start_time": "2023-01-06T20:14:38.437Z"
   },
   {
    "duration": 5,
    "start_time": "2023-01-06T20:19:27.731Z"
   },
   {
    "duration": 6,
    "start_time": "2023-01-06T20:19:36.692Z"
   },
   {
    "duration": 10,
    "start_time": "2023-01-06T20:19:45.892Z"
   },
   {
    "duration": 5,
    "start_time": "2023-01-06T20:20:22.250Z"
   },
   {
    "duration": 4,
    "start_time": "2023-01-06T20:21:04.252Z"
   },
   {
    "duration": 7,
    "start_time": "2023-01-06T20:21:08.122Z"
   },
   {
    "duration": 6,
    "start_time": "2023-01-06T20:23:34.453Z"
   },
   {
    "duration": 7,
    "start_time": "2023-01-06T20:23:36.052Z"
   },
   {
    "duration": 5,
    "start_time": "2023-01-06T20:26:30.753Z"
   },
   {
    "duration": 8,
    "start_time": "2023-01-06T20:26:34.916Z"
   },
   {
    "duration": 4,
    "start_time": "2023-01-06T20:27:38.702Z"
   },
   {
    "duration": 7,
    "start_time": "2023-01-06T20:27:39.911Z"
   },
   {
    "duration": 5,
    "start_time": "2023-01-06T20:28:39.933Z"
   },
   {
    "duration": 33,
    "start_time": "2023-01-06T20:28:41.889Z"
   },
   {
    "duration": 4,
    "start_time": "2023-01-06T20:29:28.135Z"
   },
   {
    "duration": 8,
    "start_time": "2023-01-06T20:29:28.191Z"
   },
   {
    "duration": 5,
    "start_time": "2023-01-06T20:29:33.150Z"
   },
   {
    "duration": 7,
    "start_time": "2023-01-06T20:29:34.022Z"
   },
   {
    "duration": 4,
    "start_time": "2023-01-06T20:31:10.529Z"
   },
   {
    "duration": 7,
    "start_time": "2023-01-06T20:31:12.012Z"
   },
   {
    "duration": 4,
    "start_time": "2023-01-06T20:32:13.019Z"
   },
   {
    "duration": 6,
    "start_time": "2023-01-06T20:32:14.388Z"
   },
   {
    "duration": 60,
    "start_time": "2023-01-06T20:33:22.670Z"
   },
   {
    "duration": 5,
    "start_time": "2023-01-06T20:33:46.402Z"
   },
   {
    "duration": 6,
    "start_time": "2023-01-06T20:33:49.162Z"
   },
   {
    "duration": 6,
    "start_time": "2023-01-06T20:34:01.282Z"
   },
   {
    "duration": 7,
    "start_time": "2023-01-06T20:34:08.331Z"
   },
   {
    "duration": 4,
    "start_time": "2023-01-06T20:34:44.872Z"
   },
   {
    "duration": 7,
    "start_time": "2023-01-06T20:34:45.922Z"
   },
   {
    "duration": 7,
    "start_time": "2023-01-06T20:35:23.831Z"
   },
   {
    "duration": 7,
    "start_time": "2023-01-06T20:36:09.063Z"
   },
   {
    "duration": 7,
    "start_time": "2023-01-06T20:52:24.762Z"
   },
   {
    "duration": 7,
    "start_time": "2023-01-06T20:52:35.011Z"
   },
   {
    "duration": 6,
    "start_time": "2023-01-06T20:52:36.882Z"
   },
   {
    "duration": 1335,
    "start_time": "2023-01-06T20:52:48.621Z"
   },
   {
    "duration": 355,
    "start_time": "2023-01-06T20:52:49.957Z"
   },
   {
    "duration": 3,
    "start_time": "2023-01-06T20:52:50.314Z"
   },
   {
    "duration": 195,
    "start_time": "2023-01-06T20:52:50.319Z"
   },
   {
    "duration": 183,
    "start_time": "2023-01-06T20:52:50.515Z"
   },
   {
    "duration": 205,
    "start_time": "2023-01-06T20:52:50.700Z"
   },
   {
    "duration": 10,
    "start_time": "2023-01-06T20:52:50.907Z"
   },
   {
    "duration": 17,
    "start_time": "2023-01-06T20:52:50.918Z"
   },
   {
    "duration": 33,
    "start_time": "2023-01-06T20:52:50.937Z"
   },
   {
    "duration": 4,
    "start_time": "2023-01-06T20:52:50.972Z"
   },
   {
    "duration": 39,
    "start_time": "2023-01-06T20:52:50.977Z"
   },
   {
    "duration": 17,
    "start_time": "2023-01-06T20:52:51.018Z"
   },
   {
    "duration": 17,
    "start_time": "2023-01-06T20:52:51.037Z"
   },
   {
    "duration": 4,
    "start_time": "2023-01-06T20:52:51.056Z"
   },
   {
    "duration": 37,
    "start_time": "2023-01-06T20:52:51.061Z"
   },
   {
    "duration": 119,
    "start_time": "2023-01-06T20:52:51.100Z"
   },
   {
    "duration": 107,
    "start_time": "2023-01-06T20:52:51.298Z"
   },
   {
    "duration": 92,
    "start_time": "2023-01-06T20:52:51.407Z"
   },
   {
    "duration": 106,
    "start_time": "2023-01-06T20:52:51.501Z"
   },
   {
    "duration": 7,
    "start_time": "2023-01-06T20:52:51.609Z"
   },
   {
    "duration": 9,
    "start_time": "2023-01-06T20:52:51.618Z"
   },
   {
    "duration": 18,
    "start_time": "2023-01-06T20:52:51.629Z"
   },
   {
    "duration": 5,
    "start_time": "2023-01-06T20:52:51.649Z"
   },
   {
    "duration": 7,
    "start_time": "2023-01-06T20:54:02.092Z"
   },
   {
    "duration": 6,
    "start_time": "2023-01-06T20:54:05.832Z"
   },
   {
    "duration": 5,
    "start_time": "2023-01-06T20:54:10.930Z"
   },
   {
    "duration": 6,
    "start_time": "2023-01-06T20:54:16.232Z"
   },
   {
    "duration": 6,
    "start_time": "2023-01-06T20:54:19.581Z"
   },
   {
    "duration": 6,
    "start_time": "2023-01-06T20:54:23.322Z"
   },
   {
    "duration": 6,
    "start_time": "2023-01-06T20:54:26.772Z"
   },
   {
    "duration": 5,
    "start_time": "2023-01-06T20:54:29.651Z"
   },
   {
    "duration": 6,
    "start_time": "2023-01-06T20:54:34.351Z"
   },
   {
    "duration": 6,
    "start_time": "2023-01-06T20:54:37.571Z"
   },
   {
    "duration": 3,
    "start_time": "2023-01-06T21:42:32.174Z"
   },
   {
    "duration": 4,
    "start_time": "2023-01-06T21:44:11.453Z"
   },
   {
    "duration": 5,
    "start_time": "2023-01-06T21:53:22.783Z"
   },
   {
    "duration": 4,
    "start_time": "2023-01-06T21:58:21.404Z"
   },
   {
    "duration": 4,
    "start_time": "2023-01-06T22:00:18.335Z"
   },
   {
    "duration": 108,
    "start_time": "2023-01-06T22:01:16.043Z"
   },
   {
    "duration": 5,
    "start_time": "2023-01-06T22:02:15.474Z"
   },
   {
    "duration": 14,
    "start_time": "2023-01-06T22:02:18.353Z"
   },
   {
    "duration": 4,
    "start_time": "2023-01-06T22:02:55.935Z"
   },
   {
    "duration": 5,
    "start_time": "2023-01-06T22:03:00.483Z"
   },
   {
    "duration": 644,
    "start_time": "2023-01-06T22:03:01.843Z"
   },
   {
    "duration": 5,
    "start_time": "2023-01-06T22:04:34.734Z"
   },
   {
    "duration": 13,
    "start_time": "2023-01-06T22:04:38.263Z"
   },
   {
    "duration": 6,
    "start_time": "2023-01-06T22:05:24.203Z"
   },
   {
    "duration": 13,
    "start_time": "2023-01-06T22:05:24.884Z"
   },
   {
    "duration": 13,
    "start_time": "2023-01-06T22:05:28.593Z"
   },
   {
    "duration": 5,
    "start_time": "2023-01-06T22:12:40.394Z"
   },
   {
    "duration": 666,
    "start_time": "2023-01-06T22:12:43.584Z"
   },
   {
    "duration": 1484,
    "start_time": "2023-01-07T06:20:48.008Z"
   },
   {
    "duration": 714,
    "start_time": "2023-01-07T06:20:49.493Z"
   },
   {
    "duration": 5,
    "start_time": "2023-01-07T06:20:50.208Z"
   },
   {
    "duration": 190,
    "start_time": "2023-01-07T06:20:50.215Z"
   },
   {
    "duration": 184,
    "start_time": "2023-01-07T06:20:50.407Z"
   },
   {
    "duration": 196,
    "start_time": "2023-01-07T06:20:50.593Z"
   },
   {
    "duration": 12,
    "start_time": "2023-01-07T06:20:50.790Z"
   },
   {
    "duration": 9,
    "start_time": "2023-01-07T06:20:50.815Z"
   },
   {
    "duration": 37,
    "start_time": "2023-01-07T06:20:50.826Z"
   },
   {
    "duration": 3,
    "start_time": "2023-01-07T06:20:50.865Z"
   },
   {
    "duration": 25,
    "start_time": "2023-01-07T06:20:50.870Z"
   },
   {
    "duration": 36,
    "start_time": "2023-01-07T06:20:50.897Z"
   },
   {
    "duration": 20,
    "start_time": "2023-01-07T06:20:50.935Z"
   },
   {
    "duration": 5,
    "start_time": "2023-01-07T06:20:50.957Z"
   },
   {
    "duration": 158,
    "start_time": "2023-01-07T06:20:50.964Z"
   },
   {
    "duration": 192,
    "start_time": "2023-01-07T06:20:51.124Z"
   },
   {
    "duration": 110,
    "start_time": "2023-01-07T06:20:51.319Z"
   },
   {
    "duration": 88,
    "start_time": "2023-01-07T06:20:51.431Z"
   },
   {
    "duration": 100,
    "start_time": "2023-01-07T06:20:51.521Z"
   },
   {
    "duration": 7,
    "start_time": "2023-01-07T06:20:51.623Z"
   },
   {
    "duration": 11,
    "start_time": "2023-01-07T06:20:51.631Z"
   },
   {
    "duration": 7,
    "start_time": "2023-01-07T06:20:51.643Z"
   },
   {
    "duration": 17,
    "start_time": "2023-01-07T06:20:51.651Z"
   },
   {
    "duration": 5,
    "start_time": "2023-01-07T06:20:51.669Z"
   },
   {
    "duration": 847,
    "start_time": "2023-01-07T06:20:51.676Z"
   },
   {
    "duration": 3,
    "start_time": "2023-01-07T06:22:28.338Z"
   },
   {
    "duration": 5,
    "start_time": "2023-01-07T06:22:32.298Z"
   },
   {
    "duration": 4,
    "start_time": "2023-01-07T06:23:10.978Z"
   },
   {
    "duration": 3,
    "start_time": "2023-01-07T06:23:14.758Z"
   },
   {
    "duration": 7,
    "start_time": "2023-01-07T06:23:16.278Z"
   },
   {
    "duration": 6,
    "start_time": "2023-01-07T06:23:21.618Z"
   },
   {
    "duration": 6,
    "start_time": "2023-01-07T06:23:24.418Z"
   },
   {
    "duration": 5,
    "start_time": "2023-01-07T06:24:21.719Z"
   },
   {
    "duration": 594,
    "start_time": "2023-01-07T06:24:25.328Z"
   },
   {
    "duration": 3,
    "start_time": "2023-01-07T06:24:41.008Z"
   },
   {
    "duration": 6,
    "start_time": "2023-01-07T06:24:42.536Z"
   },
   {
    "duration": 5,
    "start_time": "2023-01-07T06:24:44.176Z"
   },
   {
    "duration": 6,
    "start_time": "2023-01-07T06:24:47.137Z"
   },
   {
    "duration": 5,
    "start_time": "2023-01-07T06:24:56.859Z"
   },
   {
    "duration": 617,
    "start_time": "2023-01-07T06:25:05.518Z"
   },
   {
    "duration": 4,
    "start_time": "2023-01-07T06:26:00.599Z"
   },
   {
    "duration": 5,
    "start_time": "2023-01-07T06:26:01.808Z"
   },
   {
    "duration": 6,
    "start_time": "2023-01-07T06:26:04.971Z"
   },
   {
    "duration": 6,
    "start_time": "2023-01-07T06:26:07.401Z"
   },
   {
    "duration": 5,
    "start_time": "2023-01-07T06:34:05.263Z"
   },
   {
    "duration": 14,
    "start_time": "2023-01-07T06:35:32.747Z"
   },
   {
    "duration": 4,
    "start_time": "2023-01-07T06:41:27.608Z"
   },
   {
    "duration": 618,
    "start_time": "2023-01-07T06:41:34.258Z"
   },
   {
    "duration": 639,
    "start_time": "2023-01-07T06:43:41.777Z"
   },
   {
    "duration": 8,
    "start_time": "2023-01-07T06:43:58.911Z"
   },
   {
    "duration": 12,
    "start_time": "2023-01-07T06:44:04.663Z"
   },
   {
    "duration": 622,
    "start_time": "2023-01-07T06:50:24.739Z"
   },
   {
    "duration": 612,
    "start_time": "2023-01-07T06:50:58.179Z"
   },
   {
    "duration": 703,
    "start_time": "2023-01-07T06:51:50.437Z"
   },
   {
    "duration": 599,
    "start_time": "2023-01-07T07:13:31.138Z"
   },
   {
    "duration": 664,
    "start_time": "2023-01-07T07:14:02.228Z"
   },
   {
    "duration": 618,
    "start_time": "2023-01-07T07:15:12.979Z"
   },
   {
    "duration": 690,
    "start_time": "2023-01-07T07:16:00.984Z"
   },
   {
    "duration": 3,
    "start_time": "2023-01-07T07:17:16.803Z"
   },
   {
    "duration": 5,
    "start_time": "2023-01-07T07:17:22.969Z"
   },
   {
    "duration": 5,
    "start_time": "2023-01-07T07:17:26.928Z"
   },
   {
    "duration": 6,
    "start_time": "2023-01-07T07:17:28.317Z"
   },
   {
    "duration": 636,
    "start_time": "2023-01-07T07:17:48.728Z"
   },
   {
    "duration": 604,
    "start_time": "2023-01-07T07:18:20.399Z"
   },
   {
    "duration": 606,
    "start_time": "2023-01-07T07:19:16.903Z"
   },
   {
    "duration": 4,
    "start_time": "2023-01-07T07:19:54.321Z"
   },
   {
    "duration": 5,
    "start_time": "2023-01-07T07:20:09.860Z"
   },
   {
    "duration": 579,
    "start_time": "2023-01-07T07:20:16.475Z"
   },
   {
    "duration": 43,
    "start_time": "2023-01-07T07:21:53.688Z"
   },
   {
    "duration": 608,
    "start_time": "2023-01-07T07:22:14.167Z"
   },
   {
    "duration": 4,
    "start_time": "2023-01-07T07:23:11.578Z"
   },
   {
    "duration": 5,
    "start_time": "2023-01-07T07:23:18.341Z"
   },
   {
    "duration": 7,
    "start_time": "2023-01-07T07:23:19.798Z"
   },
   {
    "duration": 5,
    "start_time": "2023-01-07T07:23:23.588Z"
   },
   {
    "duration": 560,
    "start_time": "2023-01-07T07:25:14.408Z"
   },
   {
    "duration": 4,
    "start_time": "2023-01-07T07:40:36.399Z"
   },
   {
    "duration": 12,
    "start_time": "2023-01-07T07:41:17.078Z"
   },
   {
    "duration": 4,
    "start_time": "2023-01-07T07:41:42.504Z"
   },
   {
    "duration": 1118,
    "start_time": "2023-01-07T07:41:43.399Z"
   },
   {
    "duration": 5,
    "start_time": "2023-01-07T07:45:34.500Z"
   },
   {
    "duration": 5,
    "start_time": "2023-01-07T07:45:36.980Z"
   },
   {
    "duration": 1126,
    "start_time": "2023-01-07T07:46:04.874Z"
   },
   {
    "duration": 5,
    "start_time": "2023-01-07T08:02:00.552Z"
   },
   {
    "duration": 1075,
    "start_time": "2023-01-07T08:02:12.417Z"
   },
   {
    "duration": 5,
    "start_time": "2023-01-07T08:03:34.652Z"
   },
   {
    "duration": 1242,
    "start_time": "2023-01-07T08:03:35.589Z"
   },
   {
    "duration": 5,
    "start_time": "2023-01-07T08:03:47.830Z"
   },
   {
    "duration": 1100,
    "start_time": "2023-01-07T08:03:47.837Z"
   },
   {
    "duration": 42,
    "start_time": "2023-01-07T08:04:19.140Z"
   },
   {
    "duration": 5,
    "start_time": "2023-01-07T08:04:41.909Z"
   },
   {
    "duration": 1089,
    "start_time": "2023-01-07T08:04:42.779Z"
   },
   {
    "duration": 6,
    "start_time": "2023-01-07T08:04:57.300Z"
   },
   {
    "duration": 1099,
    "start_time": "2023-01-07T08:04:57.887Z"
   },
   {
    "duration": 6,
    "start_time": "2023-01-07T08:05:06.999Z"
   },
   {
    "duration": 4,
    "start_time": "2023-01-07T08:05:28.969Z"
   },
   {
    "duration": 1107,
    "start_time": "2023-01-07T08:05:33.731Z"
   },
   {
    "duration": 4,
    "start_time": "2023-01-07T08:06:11.748Z"
   },
   {
    "duration": 1123,
    "start_time": "2023-01-07T08:06:15.857Z"
   },
   {
    "duration": 47,
    "start_time": "2023-01-07T08:07:51.309Z"
   },
   {
    "duration": 5,
    "start_time": "2023-01-07T08:08:32.269Z"
   },
   {
    "duration": 1155,
    "start_time": "2023-01-07T08:08:35.818Z"
   },
   {
    "duration": 5,
    "start_time": "2023-01-07T08:09:47.368Z"
   },
   {
    "duration": 2,
    "start_time": "2023-01-07T08:09:48.778Z"
   },
   {
    "duration": 5,
    "start_time": "2023-01-07T08:09:58.607Z"
   },
   {
    "duration": 3,
    "start_time": "2023-01-07T08:10:00.156Z"
   },
   {
    "duration": 1170,
    "start_time": "2023-01-07T08:10:01.668Z"
   },
   {
    "duration": 1081,
    "start_time": "2023-01-07T08:10:49.240Z"
   },
   {
    "duration": 1142,
    "start_time": "2023-01-07T08:11:21.668Z"
   },
   {
    "duration": 12,
    "start_time": "2023-01-07T08:12:28.052Z"
   },
   {
    "duration": 5,
    "start_time": "2023-01-07T10:01:27.081Z"
   },
   {
    "duration": 18,
    "start_time": "2023-01-07T10:01:29.368Z"
   },
   {
    "duration": 4,
    "start_time": "2023-01-07T10:02:06.690Z"
   },
   {
    "duration": 14,
    "start_time": "2023-01-07T10:02:08.550Z"
   },
   {
    "duration": 7,
    "start_time": "2023-01-07T10:04:02.421Z"
   },
   {
    "duration": 15,
    "start_time": "2023-01-07T10:04:03.372Z"
   },
   {
    "duration": 4,
    "start_time": "2023-01-07T10:07:07.961Z"
   },
   {
    "duration": 45,
    "start_time": "2023-01-07T10:07:09.236Z"
   },
   {
    "duration": 6,
    "start_time": "2023-01-07T10:07:18.990Z"
   },
   {
    "duration": 3,
    "start_time": "2023-01-07T10:07:47.937Z"
   },
   {
    "duration": 5,
    "start_time": "2023-01-07T10:07:50.251Z"
   },
   {
    "duration": 5,
    "start_time": "2023-01-07T10:07:54.881Z"
   },
   {
    "duration": 6,
    "start_time": "2023-01-07T10:07:57.939Z"
   },
   {
    "duration": 6,
    "start_time": "2023-01-07T10:08:27.752Z"
   },
   {
    "duration": 4,
    "start_time": "2023-01-07T10:08:44.310Z"
   },
   {
    "duration": 6,
    "start_time": "2023-01-07T10:08:51.321Z"
   },
   {
    "duration": 6,
    "start_time": "2023-01-07T10:08:55.051Z"
   },
   {
    "duration": 7,
    "start_time": "2023-01-07T10:08:58.380Z"
   },
   {
    "duration": 5,
    "start_time": "2023-01-07T10:10:25.022Z"
   },
   {
    "duration": 3,
    "start_time": "2023-01-07T10:10:27.334Z"
   },
   {
    "duration": 1099,
    "start_time": "2023-01-07T10:10:28.800Z"
   },
   {
    "duration": 1265,
    "start_time": "2023-01-07T10:10:44.960Z"
   },
   {
    "duration": 8,
    "start_time": "2023-01-07T10:11:34.938Z"
   },
   {
    "duration": 2,
    "start_time": "2023-01-07T10:11:45.841Z"
   },
   {
    "duration": 1113,
    "start_time": "2023-01-07T10:11:46.351Z"
   },
   {
    "duration": 1158,
    "start_time": "2023-01-07T10:11:59.521Z"
   },
   {
    "duration": 1126,
    "start_time": "2023-01-07T10:12:18.440Z"
   },
   {
    "duration": 9,
    "start_time": "2023-01-07T10:13:09.311Z"
   },
   {
    "duration": 2,
    "start_time": "2023-01-07T10:25:22.761Z"
   },
   {
    "duration": 1081,
    "start_time": "2023-01-07T10:25:24.652Z"
   },
   {
    "duration": 1122,
    "start_time": "2023-01-07T10:25:29.335Z"
   },
   {
    "duration": 1086,
    "start_time": "2023-01-07T10:25:37.048Z"
   },
   {
    "duration": 1135,
    "start_time": "2023-01-07T10:25:45.201Z"
   },
   {
    "duration": 1106,
    "start_time": "2023-01-07T10:25:50.110Z"
   },
   {
    "duration": 1109,
    "start_time": "2023-01-07T10:25:58.291Z"
   },
   {
    "duration": 14,
    "start_time": "2023-01-07T10:26:30.782Z"
   },
   {
    "duration": 3,
    "start_time": "2023-01-07T10:27:23.121Z"
   },
   {
    "duration": 8,
    "start_time": "2023-01-07T10:27:36.001Z"
   },
   {
    "duration": 7,
    "start_time": "2023-01-07T10:27:44.433Z"
   },
   {
    "duration": 2,
    "start_time": "2023-01-07T10:27:49.600Z"
   },
   {
    "duration": 1236,
    "start_time": "2023-01-07T10:27:51.071Z"
   },
   {
    "duration": 1157,
    "start_time": "2023-01-07T10:27:55.411Z"
   },
   {
    "duration": 1093,
    "start_time": "2023-01-07T10:27:59.191Z"
   },
   {
    "duration": 8,
    "start_time": "2023-01-07T10:28:04.761Z"
   },
   {
    "duration": 2,
    "start_time": "2023-01-07T10:30:15.235Z"
   },
   {
    "duration": 1271,
    "start_time": "2023-01-07T10:42:39.860Z"
   },
   {
    "duration": 349,
    "start_time": "2023-01-07T10:42:41.133Z"
   },
   {
    "duration": 4,
    "start_time": "2023-01-07T10:42:41.484Z"
   },
   {
    "duration": 194,
    "start_time": "2023-01-07T10:42:41.490Z"
   },
   {
    "duration": 185,
    "start_time": "2023-01-07T10:42:41.686Z"
   },
   {
    "duration": 194,
    "start_time": "2023-01-07T10:42:41.872Z"
   },
   {
    "duration": 13,
    "start_time": "2023-01-07T10:42:42.067Z"
   },
   {
    "duration": 12,
    "start_time": "2023-01-07T10:42:42.082Z"
   },
   {
    "duration": 54,
    "start_time": "2023-01-07T10:42:42.096Z"
   },
   {
    "duration": 4,
    "start_time": "2023-01-07T10:42:42.153Z"
   },
   {
    "duration": 22,
    "start_time": "2023-01-07T10:42:42.159Z"
   },
   {
    "duration": 35,
    "start_time": "2023-01-07T10:42:42.183Z"
   },
   {
    "duration": 18,
    "start_time": "2023-01-07T10:42:42.220Z"
   },
   {
    "duration": 4,
    "start_time": "2023-01-07T10:42:42.240Z"
   },
   {
    "duration": 74,
    "start_time": "2023-01-07T10:42:42.246Z"
   },
   {
    "duration": 111,
    "start_time": "2023-01-07T10:42:42.322Z"
   },
   {
    "duration": 114,
    "start_time": "2023-01-07T10:42:42.515Z"
   },
   {
    "duration": 4,
    "start_time": "2023-01-07T10:42:42.717Z"
   },
   {
    "duration": 97,
    "start_time": "2023-01-07T10:42:42.725Z"
   },
   {
    "duration": 7,
    "start_time": "2023-01-07T10:42:42.824Z"
   },
   {
    "duration": 7,
    "start_time": "2023-01-07T10:42:42.833Z"
   },
   {
    "duration": 7,
    "start_time": "2023-01-07T10:42:42.842Z"
   },
   {
    "duration": 14,
    "start_time": "2023-01-07T10:42:42.850Z"
   },
   {
    "duration": 5,
    "start_time": "2023-01-07T10:42:42.865Z"
   },
   {
    "duration": 7,
    "start_time": "2023-01-07T10:42:42.871Z"
   },
   {
    "duration": 1147,
    "start_time": "2023-01-07T10:42:42.879Z"
   },
   {
    "duration": 1114,
    "start_time": "2023-01-07T10:42:44.027Z"
   },
   {
    "duration": 1180,
    "start_time": "2023-01-07T10:42:45.144Z"
   },
   {
    "duration": 11,
    "start_time": "2023-01-07T10:42:46.327Z"
   },
   {
    "duration": 1478,
    "start_time": "2023-01-07T23:30:34.891Z"
   },
   {
    "duration": 420,
    "start_time": "2023-01-07T23:30:36.372Z"
   },
   {
    "duration": 5,
    "start_time": "2023-01-07T23:30:36.794Z"
   },
   {
    "duration": 261,
    "start_time": "2023-01-07T23:30:36.801Z"
   },
   {
    "duration": 247,
    "start_time": "2023-01-07T23:30:37.063Z"
   },
   {
    "duration": 255,
    "start_time": "2023-01-07T23:30:37.311Z"
   },
   {
    "duration": 15,
    "start_time": "2023-01-07T23:30:37.568Z"
   },
   {
    "duration": 27,
    "start_time": "2023-01-07T23:30:37.585Z"
   },
   {
    "duration": 69,
    "start_time": "2023-01-07T23:30:37.614Z"
   },
   {
    "duration": 4,
    "start_time": "2023-01-07T23:30:37.687Z"
   },
   {
    "duration": 50,
    "start_time": "2023-01-07T23:30:37.693Z"
   },
   {
    "duration": 31,
    "start_time": "2023-01-07T23:30:37.745Z"
   },
   {
    "duration": 24,
    "start_time": "2023-01-07T23:30:37.778Z"
   },
   {
    "duration": 7,
    "start_time": "2023-01-07T23:30:37.804Z"
   },
   {
    "duration": 139,
    "start_time": "2023-01-07T23:30:37.812Z"
   },
   {
    "duration": 116,
    "start_time": "2023-01-07T23:30:37.954Z"
   },
   {
    "duration": 114,
    "start_time": "2023-01-07T23:30:38.151Z"
   },
   {
    "duration": 86,
    "start_time": "2023-01-07T23:30:38.267Z"
   },
   {
    "duration": 109,
    "start_time": "2023-01-07T23:30:38.356Z"
   },
   {
    "duration": 17,
    "start_time": "2023-01-07T23:30:38.466Z"
   },
   {
    "duration": 22,
    "start_time": "2023-01-07T23:30:38.484Z"
   },
   {
    "duration": 18,
    "start_time": "2023-01-07T23:30:38.508Z"
   },
   {
    "duration": 14,
    "start_time": "2023-01-07T23:30:38.527Z"
   },
   {
    "duration": 7,
    "start_time": "2023-01-07T23:30:38.543Z"
   },
   {
    "duration": 12,
    "start_time": "2023-01-07T23:30:38.552Z"
   },
   {
    "duration": 1460,
    "start_time": "2023-01-07T23:30:38.566Z"
   },
   {
    "duration": 1433,
    "start_time": "2023-01-07T23:30:40.028Z"
   },
   {
    "duration": 1418,
    "start_time": "2023-01-07T23:30:41.464Z"
   },
   {
    "duration": 11,
    "start_time": "2023-01-07T23:30:42.884Z"
   },
   {
    "duration": 1505,
    "start_time": "2023-01-07T23:31:02.084Z"
   },
   {
    "duration": 421,
    "start_time": "2023-01-07T23:31:03.591Z"
   },
   {
    "duration": 4,
    "start_time": "2023-01-07T23:31:04.014Z"
   },
   {
    "duration": 348,
    "start_time": "2023-01-07T23:31:04.020Z"
   },
   {
    "duration": 230,
    "start_time": "2023-01-07T23:31:04.370Z"
   },
   {
    "duration": 239,
    "start_time": "2023-01-07T23:31:04.601Z"
   },
   {
    "duration": 13,
    "start_time": "2023-01-07T23:31:04.850Z"
   },
   {
    "duration": 29,
    "start_time": "2023-01-07T23:31:04.865Z"
   },
   {
    "duration": 79,
    "start_time": "2023-01-07T23:31:04.895Z"
   },
   {
    "duration": 3,
    "start_time": "2023-01-07T23:31:04.977Z"
   },
   {
    "duration": 68,
    "start_time": "2023-01-07T23:31:04.982Z"
   },
   {
    "duration": 38,
    "start_time": "2023-01-07T23:31:05.052Z"
   },
   {
    "duration": 28,
    "start_time": "2023-01-07T23:31:05.092Z"
   },
   {
    "duration": 6,
    "start_time": "2023-01-07T23:31:05.122Z"
   },
   {
    "duration": 122,
    "start_time": "2023-01-07T23:31:05.130Z"
   },
   {
    "duration": 111,
    "start_time": "2023-01-07T23:31:05.254Z"
   },
   {
    "duration": 198,
    "start_time": "2023-01-07T23:31:05.367Z"
   },
   {
    "duration": 12,
    "start_time": "2023-01-07T23:31:05.652Z"
   },
   {
    "duration": 6,
    "start_time": "2023-01-07T23:31:05.751Z"
   },
   {
    "duration": 6,
    "start_time": "2023-01-07T23:31:05.759Z"
   },
   {
    "duration": 13,
    "start_time": "2023-01-07T23:31:05.767Z"
   },
   {
    "duration": 7,
    "start_time": "2023-01-07T23:31:05.782Z"
   },
   {
    "duration": 12,
    "start_time": "2023-01-07T23:31:05.791Z"
   },
   {
    "duration": 9,
    "start_time": "2023-01-07T23:31:05.804Z"
   },
   {
    "duration": 45,
    "start_time": "2023-01-07T23:31:05.815Z"
   },
   {
    "duration": 1414,
    "start_time": "2023-01-07T23:31:05.862Z"
   },
   {
    "duration": 1374,
    "start_time": "2023-01-07T23:31:07.278Z"
   },
   {
    "duration": 1476,
    "start_time": "2023-01-07T23:31:08.654Z"
   },
   {
    "duration": 10,
    "start_time": "2023-01-07T23:31:10.132Z"
   },
   {
    "duration": 1453,
    "start_time": "2023-01-07T23:31:43.050Z"
   },
   {
    "duration": 399,
    "start_time": "2023-01-07T23:31:44.505Z"
   },
   {
    "duration": 4,
    "start_time": "2023-01-07T23:31:44.905Z"
   },
   {
    "duration": 267,
    "start_time": "2023-01-07T23:31:44.912Z"
   },
   {
    "duration": 239,
    "start_time": "2023-01-07T23:31:45.181Z"
   },
   {
    "duration": 265,
    "start_time": "2023-01-07T23:31:45.421Z"
   },
   {
    "duration": 14,
    "start_time": "2023-01-07T23:31:45.688Z"
   },
   {
    "duration": 24,
    "start_time": "2023-01-07T23:31:45.704Z"
   },
   {
    "duration": 50,
    "start_time": "2023-01-07T23:31:45.729Z"
   },
   {
    "duration": 4,
    "start_time": "2023-01-07T23:31:45.782Z"
   },
   {
    "duration": 36,
    "start_time": "2023-01-07T23:31:45.787Z"
   },
   {
    "duration": 31,
    "start_time": "2023-01-07T23:31:45.825Z"
   },
   {
    "duration": 23,
    "start_time": "2023-01-07T23:31:45.858Z"
   },
   {
    "duration": 4,
    "start_time": "2023-01-07T23:31:45.883Z"
   },
   {
    "duration": 65,
    "start_time": "2023-01-07T23:31:45.889Z"
   },
   {
    "duration": 114,
    "start_time": "2023-01-07T23:31:45.956Z"
   },
   {
    "duration": 186,
    "start_time": "2023-01-07T23:31:46.072Z"
   },
   {
    "duration": 92,
    "start_time": "2023-01-07T23:31:46.260Z"
   },
   {
    "duration": 105,
    "start_time": "2023-01-07T23:31:46.354Z"
   },
   {
    "duration": 9,
    "start_time": "2023-01-07T23:31:46.461Z"
   },
   {
    "duration": 15,
    "start_time": "2023-01-07T23:31:46.473Z"
   },
   {
    "duration": 15,
    "start_time": "2023-01-07T23:31:46.489Z"
   },
   {
    "duration": 11,
    "start_time": "2023-01-07T23:31:46.506Z"
   },
   {
    "duration": 13,
    "start_time": "2023-01-07T23:31:46.519Z"
   },
   {
    "duration": 18,
    "start_time": "2023-01-07T23:31:46.534Z"
   },
   {
    "duration": 1957,
    "start_time": "2023-01-07T23:31:46.554Z"
   },
   {
    "duration": 2017,
    "start_time": "2023-01-07T23:31:48.513Z"
   },
   {
    "duration": 1942,
    "start_time": "2023-01-07T23:31:50.533Z"
   },
   {
    "duration": 10,
    "start_time": "2023-01-07T23:31:52.477Z"
   },
   {
    "duration": 12,
    "start_time": "2023-01-07T23:34:30.902Z"
   },
   {
    "duration": 107,
    "start_time": "2023-01-07T23:40:32.548Z"
   },
   {
    "duration": 8,
    "start_time": "2023-01-07T23:43:05.772Z"
   },
   {
    "duration": 11,
    "start_time": "2023-01-07T23:44:12.719Z"
   },
   {
    "duration": 9,
    "start_time": "2023-01-07T23:48:11.926Z"
   },
   {
    "duration": 14,
    "start_time": "2023-01-07T23:49:42.428Z"
   },
   {
    "duration": 14,
    "start_time": "2023-01-07T23:49:51.585Z"
   },
   {
    "duration": 1479,
    "start_time": "2023-01-07T23:51:33.559Z"
   },
   {
    "duration": 411,
    "start_time": "2023-01-07T23:51:35.040Z"
   },
   {
    "duration": 4,
    "start_time": "2023-01-07T23:51:35.455Z"
   },
   {
    "duration": 254,
    "start_time": "2023-01-07T23:51:35.461Z"
   },
   {
    "duration": 224,
    "start_time": "2023-01-07T23:51:35.717Z"
   },
   {
    "duration": 263,
    "start_time": "2023-01-07T23:51:35.943Z"
   },
   {
    "duration": 13,
    "start_time": "2023-01-07T23:51:36.208Z"
   },
   {
    "duration": 29,
    "start_time": "2023-01-07T23:51:36.223Z"
   },
   {
    "duration": 47,
    "start_time": "2023-01-07T23:51:36.253Z"
   },
   {
    "duration": 3,
    "start_time": "2023-01-07T23:51:36.303Z"
   },
   {
    "duration": 33,
    "start_time": "2023-01-07T23:51:36.308Z"
   },
   {
    "duration": 23,
    "start_time": "2023-01-07T23:51:36.350Z"
   },
   {
    "duration": 22,
    "start_time": "2023-01-07T23:51:36.374Z"
   },
   {
    "duration": 5,
    "start_time": "2023-01-07T23:51:36.399Z"
   },
   {
    "duration": 55,
    "start_time": "2023-01-07T23:51:36.405Z"
   },
   {
    "duration": 190,
    "start_time": "2023-01-07T23:51:36.461Z"
   },
   {
    "duration": 109,
    "start_time": "2023-01-07T23:51:36.654Z"
   },
   {
    "duration": 186,
    "start_time": "2023-01-07T23:51:36.766Z"
   },
   {
    "duration": 10,
    "start_time": "2023-01-07T23:51:36.954Z"
   },
   {
    "duration": 30,
    "start_time": "2023-01-07T23:51:36.966Z"
   },
   {
    "duration": 23,
    "start_time": "2023-01-07T23:51:36.997Z"
   },
   {
    "duration": 35,
    "start_time": "2023-01-07T23:51:37.021Z"
   },
   {
    "duration": 13,
    "start_time": "2023-01-07T23:51:37.059Z"
   },
   {
    "duration": 12,
    "start_time": "2023-01-07T23:51:37.074Z"
   },
   {
    "duration": 13,
    "start_time": "2023-01-07T23:51:37.088Z"
   },
   {
    "duration": 11,
    "start_time": "2023-01-07T23:51:37.103Z"
   },
   {
    "duration": 24,
    "start_time": "2023-01-07T23:51:37.115Z"
   },
   {
    "duration": 1302,
    "start_time": "2023-01-07T23:51:37.141Z"
   },
   {
    "duration": 1295,
    "start_time": "2023-01-07T23:51:38.445Z"
   },
   {
    "duration": 1286,
    "start_time": "2023-01-07T23:51:39.750Z"
   },
   {
    "duration": 15,
    "start_time": "2023-01-07T23:51:41.038Z"
   },
   {
    "duration": 1481,
    "start_time": "2023-01-07T23:52:47.058Z"
   },
   {
    "duration": 411,
    "start_time": "2023-01-07T23:52:48.542Z"
   },
   {
    "duration": 4,
    "start_time": "2023-01-07T23:52:48.956Z"
   },
   {
    "duration": 272,
    "start_time": "2023-01-07T23:52:48.962Z"
   },
   {
    "duration": 230,
    "start_time": "2023-01-07T23:52:49.250Z"
   },
   {
    "duration": 274,
    "start_time": "2023-01-07T23:52:49.482Z"
   },
   {
    "duration": 13,
    "start_time": "2023-01-07T23:52:49.758Z"
   },
   {
    "duration": 12,
    "start_time": "2023-01-07T23:52:49.773Z"
   },
   {
    "duration": 44,
    "start_time": "2023-01-07T23:52:49.787Z"
   },
   {
    "duration": 4,
    "start_time": "2023-01-07T23:52:49.851Z"
   },
   {
    "duration": 34,
    "start_time": "2023-01-07T23:52:49.856Z"
   },
   {
    "duration": 23,
    "start_time": "2023-01-07T23:52:49.892Z"
   },
   {
    "duration": 46,
    "start_time": "2023-01-07T23:52:49.917Z"
   },
   {
    "duration": 4,
    "start_time": "2023-01-07T23:52:49.966Z"
   },
   {
    "duration": 83,
    "start_time": "2023-01-07T23:52:49.972Z"
   },
   {
    "duration": 111,
    "start_time": "2023-01-07T23:52:50.058Z"
   },
   {
    "duration": 105,
    "start_time": "2023-01-07T23:52:50.253Z"
   },
   {
    "duration": 91,
    "start_time": "2023-01-07T23:52:50.360Z"
   },
   {
    "duration": 6,
    "start_time": "2023-01-07T23:52:50.454Z"
   },
   {
    "duration": 95,
    "start_time": "2023-01-07T23:52:50.462Z"
   },
   {
    "duration": 17,
    "start_time": "2023-01-07T23:52:50.559Z"
   },
   {
    "duration": 22,
    "start_time": "2023-01-07T23:52:50.578Z"
   },
   {
    "duration": 11,
    "start_time": "2023-01-07T23:52:50.602Z"
   },
   {
    "duration": 20,
    "start_time": "2023-01-07T23:52:50.614Z"
   },
   {
    "duration": 7,
    "start_time": "2023-01-07T23:52:50.651Z"
   },
   {
    "duration": 27,
    "start_time": "2023-01-07T23:52:50.660Z"
   },
   {
    "duration": 20,
    "start_time": "2023-01-07T23:52:50.689Z"
   },
   {
    "duration": 1316,
    "start_time": "2023-01-07T23:52:50.710Z"
   },
   {
    "duration": 1257,
    "start_time": "2023-01-07T23:52:52.027Z"
   },
   {
    "duration": 1229,
    "start_time": "2023-01-07T23:52:53.286Z"
   },
   {
    "duration": 10,
    "start_time": "2023-01-07T23:52:54.516Z"
   },
   {
    "duration": 1415,
    "start_time": "2023-01-07T23:54:33.579Z"
   },
   {
    "duration": 403,
    "start_time": "2023-01-07T23:54:34.996Z"
   },
   {
    "duration": 4,
    "start_time": "2023-01-07T23:54:35.401Z"
   },
   {
    "duration": 252,
    "start_time": "2023-01-07T23:54:35.407Z"
   },
   {
    "duration": 238,
    "start_time": "2023-01-07T23:54:35.661Z"
   },
   {
    "duration": 256,
    "start_time": "2023-01-07T23:54:35.901Z"
   },
   {
    "duration": 15,
    "start_time": "2023-01-07T23:54:36.159Z"
   },
   {
    "duration": 32,
    "start_time": "2023-01-07T23:54:36.175Z"
   },
   {
    "duration": 67,
    "start_time": "2023-01-07T23:54:36.209Z"
   },
   {
    "duration": 4,
    "start_time": "2023-01-07T23:54:36.278Z"
   },
   {
    "duration": 59,
    "start_time": "2023-01-07T23:54:36.284Z"
   },
   {
    "duration": 24,
    "start_time": "2023-01-07T23:54:36.346Z"
   },
   {
    "duration": 28,
    "start_time": "2023-01-07T23:54:36.372Z"
   },
   {
    "duration": 5,
    "start_time": "2023-01-07T23:54:36.403Z"
   },
   {
    "duration": 44,
    "start_time": "2023-01-07T23:54:36.409Z"
   },
   {
    "duration": 205,
    "start_time": "2023-01-07T23:54:36.455Z"
   },
   {
    "duration": 194,
    "start_time": "2023-01-07T23:54:36.664Z"
   },
   {
    "duration": 191,
    "start_time": "2023-01-07T23:54:36.861Z"
   },
   {
    "duration": 18,
    "start_time": "2023-01-07T23:54:37.054Z"
   },
   {
    "duration": 27,
    "start_time": "2023-01-07T23:54:37.074Z"
   },
   {
    "duration": 30,
    "start_time": "2023-01-07T23:54:37.103Z"
   },
   {
    "duration": 72,
    "start_time": "2023-01-07T23:54:37.135Z"
   },
   {
    "duration": 0,
    "start_time": "2023-01-07T23:54:37.208Z"
   },
   {
    "duration": 0,
    "start_time": "2023-01-07T23:54:37.209Z"
   },
   {
    "duration": 0,
    "start_time": "2023-01-07T23:54:37.211Z"
   },
   {
    "duration": 0,
    "start_time": "2023-01-07T23:54:37.212Z"
   },
   {
    "duration": 0,
    "start_time": "2023-01-07T23:54:37.213Z"
   },
   {
    "duration": 0,
    "start_time": "2023-01-07T23:54:37.214Z"
   },
   {
    "duration": 0,
    "start_time": "2023-01-07T23:54:37.215Z"
   },
   {
    "duration": 0,
    "start_time": "2023-01-07T23:54:37.217Z"
   },
   {
    "duration": 0,
    "start_time": "2023-01-07T23:54:37.218Z"
   },
   {
    "duration": 1410,
    "start_time": "2023-01-07T23:54:50.868Z"
   },
   {
    "duration": 405,
    "start_time": "2023-01-07T23:54:52.280Z"
   },
   {
    "duration": 5,
    "start_time": "2023-01-07T23:54:52.686Z"
   },
   {
    "duration": 242,
    "start_time": "2023-01-07T23:54:52.692Z"
   },
   {
    "duration": 234,
    "start_time": "2023-01-07T23:54:52.937Z"
   },
   {
    "duration": 243,
    "start_time": "2023-01-07T23:54:53.173Z"
   },
   {
    "duration": 14,
    "start_time": "2023-01-07T23:54:53.417Z"
   },
   {
    "duration": 13,
    "start_time": "2023-01-07T23:54:53.451Z"
   },
   {
    "duration": 42,
    "start_time": "2023-01-07T23:54:53.466Z"
   },
   {
    "duration": 4,
    "start_time": "2023-01-07T23:54:53.510Z"
   },
   {
    "duration": 46,
    "start_time": "2023-01-07T23:54:53.516Z"
   },
   {
    "duration": 22,
    "start_time": "2023-01-07T23:54:53.564Z"
   },
   {
    "duration": 22,
    "start_time": "2023-01-07T23:54:53.587Z"
   },
   {
    "duration": 5,
    "start_time": "2023-01-07T23:54:53.613Z"
   },
   {
    "duration": 136,
    "start_time": "2023-01-07T23:54:53.619Z"
   },
   {
    "duration": 101,
    "start_time": "2023-01-07T23:54:53.758Z"
   },
   {
    "duration": 204,
    "start_time": "2023-01-07T23:54:53.861Z"
   },
   {
    "duration": 85,
    "start_time": "2023-01-07T23:54:54.067Z"
   },
   {
    "duration": 112,
    "start_time": "2023-01-07T23:54:54.154Z"
   },
   {
    "duration": 14,
    "start_time": "2023-01-07T23:54:54.267Z"
   },
   {
    "duration": 14,
    "start_time": "2023-01-07T23:54:54.282Z"
   },
   {
    "duration": 14,
    "start_time": "2023-01-07T23:54:54.298Z"
   },
   {
    "duration": 7,
    "start_time": "2023-01-07T23:54:54.313Z"
   },
   {
    "duration": 14,
    "start_time": "2023-01-07T23:54:54.321Z"
   },
   {
    "duration": 19,
    "start_time": "2023-01-07T23:54:54.337Z"
   },
   {
    "duration": 8,
    "start_time": "2023-01-07T23:54:54.358Z"
   },
   {
    "duration": 5,
    "start_time": "2023-01-07T23:54:54.368Z"
   },
   {
    "duration": 1303,
    "start_time": "2023-01-07T23:54:54.375Z"
   },
   {
    "duration": 1249,
    "start_time": "2023-01-07T23:54:55.679Z"
   },
   {
    "duration": 1251,
    "start_time": "2023-01-07T23:54:56.930Z"
   },
   {
    "duration": 9,
    "start_time": "2023-01-07T23:54:58.183Z"
   },
   {
    "duration": 1439,
    "start_time": "2023-01-07T23:55:49.978Z"
   },
   {
    "duration": 413,
    "start_time": "2023-01-07T23:55:51.420Z"
   },
   {
    "duration": 4,
    "start_time": "2023-01-07T23:55:51.835Z"
   },
   {
    "duration": 257,
    "start_time": "2023-01-07T23:55:51.840Z"
   },
   {
    "duration": 236,
    "start_time": "2023-01-07T23:55:52.099Z"
   },
   {
    "duration": 263,
    "start_time": "2023-01-07T23:55:52.337Z"
   },
   {
    "duration": 13,
    "start_time": "2023-01-07T23:55:52.601Z"
   },
   {
    "duration": 16,
    "start_time": "2023-01-07T23:55:52.616Z"
   },
   {
    "duration": 53,
    "start_time": "2023-01-07T23:55:52.634Z"
   },
   {
    "duration": 3,
    "start_time": "2023-01-07T23:55:52.689Z"
   },
   {
    "duration": 30,
    "start_time": "2023-01-07T23:55:52.694Z"
   },
   {
    "duration": 39,
    "start_time": "2023-01-07T23:55:52.726Z"
   },
   {
    "duration": 23,
    "start_time": "2023-01-07T23:55:52.766Z"
   },
   {
    "duration": 4,
    "start_time": "2023-01-07T23:55:52.792Z"
   },
   {
    "duration": 62,
    "start_time": "2023-01-07T23:55:52.797Z"
   },
   {
    "duration": 20,
    "start_time": "2023-01-07T23:55:52.951Z"
   },
   {
    "duration": 112,
    "start_time": "2023-01-07T23:55:53.052Z"
   },
   {
    "duration": 88,
    "start_time": "2023-01-07T23:55:53.166Z"
   },
   {
    "duration": 96,
    "start_time": "2023-01-07T23:55:53.261Z"
   },
   {
    "duration": 8,
    "start_time": "2023-01-07T23:55:53.359Z"
   },
   {
    "duration": 15,
    "start_time": "2023-01-07T23:55:53.368Z"
   },
   {
    "duration": 21,
    "start_time": "2023-01-07T23:55:53.384Z"
   },
   {
    "duration": 7,
    "start_time": "2023-01-07T23:55:53.406Z"
   },
   {
    "duration": 11,
    "start_time": "2023-01-07T23:55:53.414Z"
   },
   {
    "duration": 7,
    "start_time": "2023-01-07T23:55:53.451Z"
   },
   {
    "duration": 6,
    "start_time": "2023-01-07T23:55:53.459Z"
   },
   {
    "duration": 8,
    "start_time": "2023-01-07T23:55:53.467Z"
   },
   {
    "duration": 1262,
    "start_time": "2023-01-07T23:55:53.477Z"
   },
   {
    "duration": 1278,
    "start_time": "2023-01-07T23:55:54.740Z"
   },
   {
    "duration": 1266,
    "start_time": "2023-01-07T23:55:56.019Z"
   },
   {
    "duration": 10,
    "start_time": "2023-01-07T23:55:57.287Z"
   },
   {
    "duration": 1670,
    "start_time": "2023-01-08T08:44:05.249Z"
   },
   {
    "duration": 731,
    "start_time": "2023-01-08T08:44:08.514Z"
   },
   {
    "duration": 4,
    "start_time": "2023-01-08T08:44:12.232Z"
   },
   {
    "duration": 217,
    "start_time": "2023-01-08T08:44:17.885Z"
   },
   {
    "duration": 192,
    "start_time": "2023-01-08T08:44:22.445Z"
   },
   {
    "duration": 1283,
    "start_time": "2023-01-08T08:45:05.235Z"
   },
   {
    "duration": 347,
    "start_time": "2023-01-08T08:45:08.985Z"
   },
   {
    "duration": 4,
    "start_time": "2023-01-08T08:45:13.574Z"
   },
   {
    "duration": 196,
    "start_time": "2023-01-08T08:45:15.624Z"
   },
   {
    "duration": 253,
    "start_time": "2023-01-08T08:45:20.304Z"
   },
   {
    "duration": 219,
    "start_time": "2023-01-08T08:45:24.744Z"
   },
   {
    "duration": 13,
    "start_time": "2023-01-08T08:45:28.832Z"
   },
   {
    "duration": 12,
    "start_time": "2023-01-08T08:45:32.615Z"
   },
   {
    "duration": 45,
    "start_time": "2023-01-08T08:45:38.285Z"
   },
   {
    "duration": 4,
    "start_time": "2023-01-08T08:45:44.914Z"
   },
   {
    "duration": 25,
    "start_time": "2023-01-08T08:45:47.834Z"
   },
   {
    "duration": 22,
    "start_time": "2023-01-08T08:45:50.545Z"
   },
   {
    "duration": 24,
    "start_time": "2023-01-08T08:45:53.155Z"
   },
   {
    "duration": 4,
    "start_time": "2023-01-08T08:45:57.725Z"
   },
   {
    "duration": 25,
    "start_time": "2023-01-08T08:46:00.685Z"
   },
   {
    "duration": 21,
    "start_time": "2023-01-08T08:46:04.087Z"
   },
   {
    "duration": 20,
    "start_time": "2023-01-08T08:46:06.475Z"
   },
   {
    "duration": 3,
    "start_time": "2023-01-08T08:46:10.405Z"
   },
   {
    "duration": 4,
    "start_time": "2023-01-08T08:46:14.785Z"
   },
   {
    "duration": 4,
    "start_time": "2023-01-08T08:46:19.054Z"
   },
   {
    "duration": 5,
    "start_time": "2023-01-08T08:47:31.752Z"
   },
   {
    "duration": 56,
    "start_time": "2023-01-08T08:47:43.924Z"
   },
   {
    "duration": 24,
    "start_time": "2023-01-08T08:47:57.844Z"
   },
   {
    "duration": 18,
    "start_time": "2023-01-08T08:48:04.474Z"
   },
   {
    "duration": 4,
    "start_time": "2023-01-08T08:48:20.254Z"
   },
   {
    "duration": 4,
    "start_time": "2023-01-08T08:48:29.906Z"
   },
   {
    "duration": 124,
    "start_time": "2023-01-08T08:48:42.806Z"
   },
   {
    "duration": 4,
    "start_time": "2023-01-08T08:50:06.618Z"
   },
   {
    "duration": 4,
    "start_time": "2023-01-08T08:55:59.887Z"
   },
   {
    "duration": 21,
    "start_time": "2023-01-08T08:56:06.312Z"
   },
   {
    "duration": 13,
    "start_time": "2023-01-08T08:59:03.207Z"
   },
   {
    "duration": 13,
    "start_time": "2023-01-08T08:59:13.324Z"
   },
   {
    "duration": 13,
    "start_time": "2023-01-08T09:02:11.999Z"
   },
   {
    "duration": 5,
    "start_time": "2023-01-08T09:06:01.725Z"
   },
   {
    "duration": 4,
    "start_time": "2023-01-08T09:06:24.865Z"
   },
   {
    "duration": 17,
    "start_time": "2023-01-08T09:06:31.316Z"
   },
   {
    "duration": 4,
    "start_time": "2023-01-08T09:08:10.353Z"
   },
   {
    "duration": 14,
    "start_time": "2023-01-08T09:08:15.290Z"
   },
   {
    "duration": 4,
    "start_time": "2023-01-08T09:08:46.845Z"
   },
   {
    "duration": 10,
    "start_time": "2023-01-08T09:08:54.575Z"
   },
   {
    "duration": 4,
    "start_time": "2023-01-08T09:18:49.565Z"
   },
   {
    "duration": 4,
    "start_time": "2023-01-08T09:19:14.485Z"
   },
   {
    "duration": 9,
    "start_time": "2023-01-08T09:19:21.564Z"
   },
   {
    "duration": 4,
    "start_time": "2023-01-08T09:19:31.065Z"
   },
   {
    "duration": 10,
    "start_time": "2023-01-08T09:19:35.808Z"
   },
   {
    "duration": 4,
    "start_time": "2023-01-08T09:20:29.115Z"
   },
   {
    "duration": 10,
    "start_time": "2023-01-08T09:20:33.301Z"
   },
   {
    "duration": 4,
    "start_time": "2023-01-08T09:20:41.012Z"
   },
   {
    "duration": 10,
    "start_time": "2023-01-08T09:20:46.755Z"
   },
   {
    "duration": 10,
    "start_time": "2023-01-08T09:21:17.956Z"
   },
   {
    "duration": 12,
    "start_time": "2023-01-08T09:21:19.625Z"
   },
   {
    "duration": 5,
    "start_time": "2023-01-08T09:24:55.236Z"
   },
   {
    "duration": 5,
    "start_time": "2023-01-08T09:26:54.047Z"
   },
   {
    "duration": 2,
    "start_time": "2023-01-08T09:26:56.347Z"
   },
   {
    "duration": 1423,
    "start_time": "2023-01-08T09:26:58.306Z"
   },
   {
    "duration": 1390,
    "start_time": "2023-01-08T09:27:18.106Z"
   },
   {
    "duration": 1310,
    "start_time": "2023-01-08T09:27:28.725Z"
   },
   {
    "duration": 5,
    "start_time": "2023-01-08T09:28:12.184Z"
   },
   {
    "duration": 4,
    "start_time": "2023-01-08T09:28:18.305Z"
   },
   {
    "duration": 1365,
    "start_time": "2023-01-08T09:28:20.148Z"
   },
   {
    "duration": 5,
    "start_time": "2023-01-08T09:28:31.724Z"
   },
   {
    "duration": 6,
    "start_time": "2023-01-08T09:28:41.664Z"
   },
   {
    "duration": 3,
    "start_time": "2023-01-08T09:28:44.578Z"
   },
   {
    "duration": 1339,
    "start_time": "2023-01-08T09:28:46.685Z"
   },
   {
    "duration": 1321,
    "start_time": "2023-01-08T09:29:15.901Z"
   },
   {
    "duration": 1331,
    "start_time": "2023-01-08T09:29:23.185Z"
   },
   {
    "duration": 1394,
    "start_time": "2023-01-08T09:29:27.826Z"
   },
   {
    "duration": 10,
    "start_time": "2023-01-08T09:29:43.347Z"
   },
   {
    "duration": 10,
    "start_time": "2023-01-08T09:30:45.925Z"
   },
   {
    "duration": 11,
    "start_time": "2023-01-08T09:31:24.546Z"
   },
   {
    "duration": 3,
    "start_time": "2023-01-08T09:31:40.211Z"
   },
   {
    "duration": 1323,
    "start_time": "2023-01-08T09:31:45.860Z"
   },
   {
    "duration": 1429,
    "start_time": "2023-01-08T09:32:14.903Z"
   },
   {
    "duration": 10,
    "start_time": "2023-01-08T09:33:06.490Z"
   },
   {
    "duration": 10,
    "start_time": "2023-01-08T09:33:27.189Z"
   },
   {
    "duration": 1296,
    "start_time": "2023-01-08T09:34:44.336Z"
   },
   {
    "duration": 388,
    "start_time": "2023-01-08T09:34:45.636Z"
   },
   {
    "duration": 5,
    "start_time": "2023-01-08T09:34:46.026Z"
   },
   {
    "duration": 220,
    "start_time": "2023-01-08T09:34:46.033Z"
   },
   {
    "duration": 233,
    "start_time": "2023-01-08T09:34:46.256Z"
   },
   {
    "duration": 211,
    "start_time": "2023-01-08T09:34:46.490Z"
   },
   {
    "duration": 11,
    "start_time": "2023-01-08T09:34:46.703Z"
   },
   {
    "duration": 14,
    "start_time": "2023-01-08T09:34:46.716Z"
   },
   {
    "duration": 53,
    "start_time": "2023-01-08T09:34:46.732Z"
   },
   {
    "duration": 3,
    "start_time": "2023-01-08T09:34:46.787Z"
   },
   {
    "duration": 29,
    "start_time": "2023-01-08T09:34:46.792Z"
   },
   {
    "duration": 20,
    "start_time": "2023-01-08T09:34:46.823Z"
   },
   {
    "duration": 41,
    "start_time": "2023-01-08T09:34:46.845Z"
   },
   {
    "duration": 5,
    "start_time": "2023-01-08T09:34:46.889Z"
   },
   {
    "duration": 85,
    "start_time": "2023-01-08T09:34:46.895Z"
   },
   {
    "duration": 111,
    "start_time": "2023-01-08T09:34:46.982Z"
   },
   {
    "duration": 189,
    "start_time": "2023-01-08T09:34:47.095Z"
   },
   {
    "duration": 94,
    "start_time": "2023-01-08T09:34:47.286Z"
   },
   {
    "duration": 103,
    "start_time": "2023-01-08T09:34:47.382Z"
   },
   {
    "duration": 7,
    "start_time": "2023-01-08T09:34:47.487Z"
   },
   {
    "duration": 7,
    "start_time": "2023-01-08T09:34:47.495Z"
   },
   {
    "duration": 7,
    "start_time": "2023-01-08T09:34:47.504Z"
   },
   {
    "duration": 5,
    "start_time": "2023-01-08T09:34:47.513Z"
   },
   {
    "duration": 12,
    "start_time": "2023-01-08T09:34:47.520Z"
   },
   {
    "duration": 10,
    "start_time": "2023-01-08T09:34:47.534Z"
   },
   {
    "duration": 37,
    "start_time": "2023-01-08T09:34:47.546Z"
   },
   {
    "duration": 6,
    "start_time": "2023-01-08T09:34:47.585Z"
   },
   {
    "duration": 8,
    "start_time": "2023-01-08T09:34:47.593Z"
   },
   {
    "duration": 1449,
    "start_time": "2023-01-08T09:34:47.602Z"
   },
   {
    "duration": 1323,
    "start_time": "2023-01-08T09:34:49.054Z"
   },
   {
    "duration": 1334,
    "start_time": "2023-01-08T09:34:50.379Z"
   },
   {
    "duration": 9,
    "start_time": "2023-01-08T09:34:51.715Z"
   },
   {
    "duration": 49,
    "start_time": "2023-01-08T09:38:14.418Z"
   },
   {
    "duration": 1325,
    "start_time": "2023-01-08T09:40:58.705Z"
   },
   {
    "duration": 371,
    "start_time": "2023-01-08T09:41:00.032Z"
   },
   {
    "duration": 5,
    "start_time": "2023-01-08T09:41:00.406Z"
   },
   {
    "duration": 236,
    "start_time": "2023-01-08T09:41:00.413Z"
   },
   {
    "duration": 234,
    "start_time": "2023-01-08T09:41:00.651Z"
   },
   {
    "duration": 249,
    "start_time": "2023-01-08T09:41:00.888Z"
   },
   {
    "duration": 12,
    "start_time": "2023-01-08T09:41:01.140Z"
   },
   {
    "duration": 28,
    "start_time": "2023-01-08T09:41:01.154Z"
   },
   {
    "duration": 61,
    "start_time": "2023-01-08T09:41:01.184Z"
   },
   {
    "duration": 4,
    "start_time": "2023-01-08T09:41:01.247Z"
   },
   {
    "duration": 34,
    "start_time": "2023-01-08T09:41:01.252Z"
   },
   {
    "duration": 20,
    "start_time": "2023-01-08T09:41:01.288Z"
   },
   {
    "duration": 24,
    "start_time": "2023-01-08T09:41:01.310Z"
   },
   {
    "duration": 5,
    "start_time": "2023-01-08T09:41:01.337Z"
   },
   {
    "duration": 136,
    "start_time": "2023-01-08T09:41:01.343Z"
   },
   {
    "duration": 198,
    "start_time": "2023-01-08T09:41:01.481Z"
   },
   {
    "duration": 118,
    "start_time": "2023-01-08T09:41:01.681Z"
   },
   {
    "duration": 126,
    "start_time": "2023-01-08T09:41:01.879Z"
   },
   {
    "duration": 20,
    "start_time": "2023-01-08T09:41:02.006Z"
   },
   {
    "duration": 51,
    "start_time": "2023-01-08T09:41:02.028Z"
   },
   {
    "duration": 14,
    "start_time": "2023-01-08T09:41:02.080Z"
   },
   {
    "duration": 14,
    "start_time": "2023-01-08T09:41:02.096Z"
   },
   {
    "duration": 9,
    "start_time": "2023-01-08T09:41:02.112Z"
   },
   {
    "duration": 27,
    "start_time": "2023-01-08T09:41:02.122Z"
   },
   {
    "duration": 9,
    "start_time": "2023-01-08T09:41:02.150Z"
   },
   {
    "duration": 16,
    "start_time": "2023-01-08T09:41:02.160Z"
   },
   {
    "duration": 6,
    "start_time": "2023-01-08T09:41:02.177Z"
   },
   {
    "duration": 36,
    "start_time": "2023-01-08T09:41:02.184Z"
   },
   {
    "duration": 1390,
    "start_time": "2023-01-08T09:41:02.222Z"
   },
   {
    "duration": 1314,
    "start_time": "2023-01-08T09:41:03.613Z"
   },
   {
    "duration": 1322,
    "start_time": "2023-01-08T09:41:04.928Z"
   },
   {
    "duration": 9,
    "start_time": "2023-01-08T09:41:06.252Z"
   },
   {
    "duration": 1773,
    "start_time": "2023-01-08T17:16:10.642Z"
   },
   {
    "duration": 1631,
    "start_time": "2023-01-08T17:16:12.417Z"
   },
   {
    "duration": 7,
    "start_time": "2023-01-08T17:16:14.050Z"
   },
   {
    "duration": 292,
    "start_time": "2023-01-08T17:16:14.059Z"
   },
   {
    "duration": 250,
    "start_time": "2023-01-08T17:16:14.353Z"
   },
   {
    "duration": 272,
    "start_time": "2023-01-08T17:16:14.605Z"
   },
   {
    "duration": 14,
    "start_time": "2023-01-08T17:16:14.879Z"
   },
   {
    "duration": 27,
    "start_time": "2023-01-08T17:16:14.895Z"
   },
   {
    "duration": 52,
    "start_time": "2023-01-08T17:16:14.924Z"
   },
   {
    "duration": 4,
    "start_time": "2023-01-08T17:16:14.978Z"
   },
   {
    "duration": 31,
    "start_time": "2023-01-08T17:16:14.984Z"
   },
   {
    "duration": 40,
    "start_time": "2023-01-08T17:16:15.017Z"
   },
   {
    "duration": 23,
    "start_time": "2023-01-08T17:16:15.059Z"
   },
   {
    "duration": 4,
    "start_time": "2023-01-08T17:16:15.085Z"
   },
   {
    "duration": 166,
    "start_time": "2023-01-08T17:16:15.091Z"
   },
   {
    "duration": 109,
    "start_time": "2023-01-08T17:16:15.261Z"
   },
   {
    "duration": 182,
    "start_time": "2023-01-08T17:16:15.372Z"
   },
   {
    "duration": 4,
    "start_time": "2023-01-08T17:16:15.557Z"
   },
   {
    "duration": 96,
    "start_time": "2023-01-08T17:16:15.564Z"
   },
   {
    "duration": 8,
    "start_time": "2023-01-08T17:16:15.662Z"
   },
   {
    "duration": 5,
    "start_time": "2023-01-08T17:16:15.672Z"
   },
   {
    "duration": 133,
    "start_time": "2023-01-08T17:16:15.678Z"
   },
   {
    "duration": 0,
    "start_time": "2023-01-08T17:16:15.814Z"
   },
   {
    "duration": 0,
    "start_time": "2023-01-08T17:16:15.815Z"
   },
   {
    "duration": 0,
    "start_time": "2023-01-08T17:16:15.816Z"
   },
   {
    "duration": 0,
    "start_time": "2023-01-08T17:16:15.818Z"
   },
   {
    "duration": 0,
    "start_time": "2023-01-08T17:16:15.820Z"
   },
   {
    "duration": 0,
    "start_time": "2023-01-08T17:16:15.821Z"
   },
   {
    "duration": 0,
    "start_time": "2023-01-08T17:16:15.823Z"
   },
   {
    "duration": 0,
    "start_time": "2023-01-08T17:16:15.824Z"
   },
   {
    "duration": 0,
    "start_time": "2023-01-08T17:16:15.826Z"
   },
   {
    "duration": 0,
    "start_time": "2023-01-08T17:16:15.827Z"
   },
   {
    "duration": 1507,
    "start_time": "2023-01-08T17:16:45.463Z"
   },
   {
    "duration": 402,
    "start_time": "2023-01-08T17:16:46.973Z"
   },
   {
    "duration": 4,
    "start_time": "2023-01-08T17:16:47.377Z"
   },
   {
    "duration": 274,
    "start_time": "2023-01-08T17:16:47.383Z"
   },
   {
    "duration": 254,
    "start_time": "2023-01-08T17:16:47.660Z"
   },
   {
    "duration": 271,
    "start_time": "2023-01-08T17:16:47.916Z"
   },
   {
    "duration": 14,
    "start_time": "2023-01-08T17:16:48.189Z"
   },
   {
    "duration": 18,
    "start_time": "2023-01-08T17:16:48.205Z"
   },
   {
    "duration": 62,
    "start_time": "2023-01-08T17:16:48.224Z"
   },
   {
    "duration": 4,
    "start_time": "2023-01-08T17:16:48.287Z"
   },
   {
    "duration": 29,
    "start_time": "2023-01-08T17:16:48.293Z"
   },
   {
    "duration": 43,
    "start_time": "2023-01-08T17:16:48.324Z"
   },
   {
    "duration": 22,
    "start_time": "2023-01-08T17:16:48.369Z"
   },
   {
    "duration": 7,
    "start_time": "2023-01-08T17:16:48.394Z"
   },
   {
    "duration": 60,
    "start_time": "2023-01-08T17:16:48.403Z"
   },
   {
    "duration": 190,
    "start_time": "2023-01-08T17:16:48.466Z"
   },
   {
    "duration": 108,
    "start_time": "2023-01-08T17:16:48.659Z"
   },
   {
    "duration": 87,
    "start_time": "2023-01-08T17:16:48.769Z"
   },
   {
    "duration": 97,
    "start_time": "2023-01-08T17:16:48.859Z"
   },
   {
    "duration": 15,
    "start_time": "2023-01-08T17:16:48.958Z"
   },
   {
    "duration": 13,
    "start_time": "2023-01-08T17:16:48.975Z"
   },
   {
    "duration": 24,
    "start_time": "2023-01-08T17:16:48.990Z"
   },
   {
    "duration": 152,
    "start_time": "2023-01-08T17:16:49.015Z"
   },
   {
    "duration": 0,
    "start_time": "2023-01-08T17:16:49.169Z"
   },
   {
    "duration": 0,
    "start_time": "2023-01-08T17:16:49.171Z"
   },
   {
    "duration": 0,
    "start_time": "2023-01-08T17:16:49.173Z"
   },
   {
    "duration": 0,
    "start_time": "2023-01-08T17:16:49.174Z"
   },
   {
    "duration": 0,
    "start_time": "2023-01-08T17:16:49.175Z"
   },
   {
    "duration": 0,
    "start_time": "2023-01-08T17:16:49.177Z"
   },
   {
    "duration": 0,
    "start_time": "2023-01-08T17:16:49.178Z"
   },
   {
    "duration": 1,
    "start_time": "2023-01-08T17:16:49.179Z"
   },
   {
    "duration": 0,
    "start_time": "2023-01-08T17:16:49.181Z"
   },
   {
    "duration": 1533,
    "start_time": "2023-01-08T17:17:41.997Z"
   },
   {
    "duration": 424,
    "start_time": "2023-01-08T17:17:43.533Z"
   },
   {
    "duration": 4,
    "start_time": "2023-01-08T17:17:43.959Z"
   },
   {
    "duration": 274,
    "start_time": "2023-01-08T17:17:43.965Z"
   },
   {
    "duration": 256,
    "start_time": "2023-01-08T17:17:44.251Z"
   },
   {
    "duration": 278,
    "start_time": "2023-01-08T17:17:44.509Z"
   },
   {
    "duration": 13,
    "start_time": "2023-01-08T17:17:44.789Z"
   },
   {
    "duration": 14,
    "start_time": "2023-01-08T17:17:44.804Z"
   },
   {
    "duration": 60,
    "start_time": "2023-01-08T17:17:44.820Z"
   },
   {
    "duration": 5,
    "start_time": "2023-01-08T17:17:44.883Z"
   },
   {
    "duration": 35,
    "start_time": "2023-01-08T17:17:44.890Z"
   },
   {
    "duration": 25,
    "start_time": "2023-01-08T17:17:44.927Z"
   },
   {
    "duration": 23,
    "start_time": "2023-01-08T17:17:44.954Z"
   },
   {
    "duration": 5,
    "start_time": "2023-01-08T17:17:44.979Z"
   },
   {
    "duration": 66,
    "start_time": "2023-01-08T17:17:44.985Z"
   },
   {
    "duration": 111,
    "start_time": "2023-01-08T17:17:45.054Z"
   },
   {
    "duration": 196,
    "start_time": "2023-01-08T17:17:45.167Z"
   },
   {
    "duration": 5,
    "start_time": "2023-01-08T17:17:45.366Z"
   },
   {
    "duration": 90,
    "start_time": "2023-01-08T17:17:45.373Z"
   },
   {
    "duration": 89,
    "start_time": "2023-01-08T17:17:45.465Z"
   },
   {
    "duration": 5,
    "start_time": "2023-01-08T17:17:45.556Z"
   },
   {
    "duration": 211,
    "start_time": "2023-01-08T17:17:45.563Z"
   },
   {
    "duration": 0,
    "start_time": "2023-01-08T17:17:45.776Z"
   },
   {
    "duration": 0,
    "start_time": "2023-01-08T17:17:45.777Z"
   },
   {
    "duration": 0,
    "start_time": "2023-01-08T17:17:45.778Z"
   },
   {
    "duration": 0,
    "start_time": "2023-01-08T17:17:45.779Z"
   },
   {
    "duration": 0,
    "start_time": "2023-01-08T17:17:45.780Z"
   },
   {
    "duration": 0,
    "start_time": "2023-01-08T17:17:45.782Z"
   },
   {
    "duration": 0,
    "start_time": "2023-01-08T17:17:45.783Z"
   },
   {
    "duration": 0,
    "start_time": "2023-01-08T17:17:45.784Z"
   },
   {
    "duration": 0,
    "start_time": "2023-01-08T17:17:45.785Z"
   },
   {
    "duration": 0,
    "start_time": "2023-01-08T17:17:45.786Z"
   },
   {
    "duration": 1538,
    "start_time": "2023-01-08T17:18:14.726Z"
   },
   {
    "duration": 407,
    "start_time": "2023-01-08T17:18:16.266Z"
   },
   {
    "duration": 4,
    "start_time": "2023-01-08T17:18:16.675Z"
   },
   {
    "duration": 246,
    "start_time": "2023-01-08T17:18:16.681Z"
   },
   {
    "duration": 256,
    "start_time": "2023-01-08T17:18:16.929Z"
   },
   {
    "duration": 236,
    "start_time": "2023-01-08T17:18:17.187Z"
   },
   {
    "duration": 13,
    "start_time": "2023-01-08T17:18:17.424Z"
   },
   {
    "duration": 20,
    "start_time": "2023-01-08T17:18:17.450Z"
   },
   {
    "duration": 61,
    "start_time": "2023-01-08T17:18:17.472Z"
   },
   {
    "duration": 4,
    "start_time": "2023-01-08T17:18:17.535Z"
   },
   {
    "duration": 33,
    "start_time": "2023-01-08T17:18:17.541Z"
   },
   {
    "duration": 22,
    "start_time": "2023-01-08T17:18:17.576Z"
   },
   {
    "duration": 22,
    "start_time": "2023-01-08T17:18:17.600Z"
   },
   {
    "duration": 26,
    "start_time": "2023-01-08T17:18:17.625Z"
   },
   {
    "duration": 23,
    "start_time": "2023-01-08T17:18:17.653Z"
   },
   {
    "duration": 107,
    "start_time": "2023-01-08T17:18:17.752Z"
   },
   {
    "duration": 216,
    "start_time": "2023-01-08T17:18:17.861Z"
   },
   {
    "duration": 90,
    "start_time": "2023-01-08T17:18:18.161Z"
   },
   {
    "duration": 6,
    "start_time": "2023-01-08T17:18:18.253Z"
   },
   {
    "duration": 11,
    "start_time": "2023-01-08T17:18:18.261Z"
   },
   {
    "duration": 10,
    "start_time": "2023-01-08T17:18:18.274Z"
   },
   {
    "duration": 19,
    "start_time": "2023-01-08T17:18:18.286Z"
   },
   {
    "duration": 154,
    "start_time": "2023-01-08T17:18:18.307Z"
   },
   {
    "duration": 0,
    "start_time": "2023-01-08T17:18:18.462Z"
   },
   {
    "duration": 0,
    "start_time": "2023-01-08T17:18:18.464Z"
   },
   {
    "duration": 0,
    "start_time": "2023-01-08T17:18:18.465Z"
   },
   {
    "duration": 0,
    "start_time": "2023-01-08T17:18:18.466Z"
   },
   {
    "duration": 0,
    "start_time": "2023-01-08T17:18:18.467Z"
   },
   {
    "duration": 0,
    "start_time": "2023-01-08T17:18:18.469Z"
   },
   {
    "duration": 0,
    "start_time": "2023-01-08T17:18:18.470Z"
   },
   {
    "duration": 0,
    "start_time": "2023-01-08T17:18:18.471Z"
   },
   {
    "duration": 0,
    "start_time": "2023-01-08T17:18:18.473Z"
   },
   {
    "duration": 1485,
    "start_time": "2023-01-08T17:18:37.808Z"
   },
   {
    "duration": 438,
    "start_time": "2023-01-08T17:18:39.295Z"
   },
   {
    "duration": 5,
    "start_time": "2023-01-08T17:18:39.735Z"
   },
   {
    "duration": 313,
    "start_time": "2023-01-08T17:18:39.742Z"
   },
   {
    "duration": 245,
    "start_time": "2023-01-08T17:18:40.058Z"
   },
   {
    "duration": 249,
    "start_time": "2023-01-08T17:18:40.305Z"
   },
   {
    "duration": 13,
    "start_time": "2023-01-08T17:18:40.556Z"
   },
   {
    "duration": 37,
    "start_time": "2023-01-08T17:18:40.571Z"
   },
   {
    "duration": 62,
    "start_time": "2023-01-08T17:18:40.610Z"
   },
   {
    "duration": 6,
    "start_time": "2023-01-08T17:18:40.676Z"
   },
   {
    "duration": 39,
    "start_time": "2023-01-08T17:18:40.684Z"
   },
   {
    "duration": 36,
    "start_time": "2023-01-08T17:18:40.725Z"
   },
   {
    "duration": 29,
    "start_time": "2023-01-08T17:18:40.763Z"
   },
   {
    "duration": 4,
    "start_time": "2023-01-08T17:18:40.793Z"
   },
   {
    "duration": 58,
    "start_time": "2023-01-08T17:18:40.799Z"
   },
   {
    "duration": 195,
    "start_time": "2023-01-08T17:18:40.859Z"
   },
   {
    "duration": 114,
    "start_time": "2023-01-08T17:18:41.057Z"
   },
   {
    "duration": 179,
    "start_time": "2023-01-08T17:18:41.173Z"
   },
   {
    "duration": 24,
    "start_time": "2023-01-08T17:18:41.354Z"
   },
   {
    "duration": 18,
    "start_time": "2023-01-08T17:18:41.380Z"
   },
   {
    "duration": 18,
    "start_time": "2023-01-08T17:18:41.399Z"
   },
   {
    "duration": 37,
    "start_time": "2023-01-08T17:18:41.418Z"
   },
   {
    "duration": 125,
    "start_time": "2023-01-08T17:18:41.457Z"
   },
   {
    "duration": 0,
    "start_time": "2023-01-08T17:18:41.583Z"
   },
   {
    "duration": 0,
    "start_time": "2023-01-08T17:18:41.585Z"
   },
   {
    "duration": 0,
    "start_time": "2023-01-08T17:18:41.586Z"
   },
   {
    "duration": 0,
    "start_time": "2023-01-08T17:18:41.587Z"
   },
   {
    "duration": 0,
    "start_time": "2023-01-08T17:18:41.588Z"
   },
   {
    "duration": 0,
    "start_time": "2023-01-08T17:18:41.589Z"
   },
   {
    "duration": 0,
    "start_time": "2023-01-08T17:18:41.589Z"
   },
   {
    "duration": 0,
    "start_time": "2023-01-08T17:18:41.591Z"
   },
   {
    "duration": 0,
    "start_time": "2023-01-08T17:18:41.592Z"
   },
   {
    "duration": 1663,
    "start_time": "2023-01-08T17:18:59.836Z"
   },
   {
    "duration": 407,
    "start_time": "2023-01-08T17:19:01.501Z"
   },
   {
    "duration": 4,
    "start_time": "2023-01-08T17:19:01.910Z"
   },
   {
    "duration": 297,
    "start_time": "2023-01-08T17:19:01.915Z"
   },
   {
    "duration": 262,
    "start_time": "2023-01-08T17:19:02.215Z"
   },
   {
    "duration": 246,
    "start_time": "2023-01-08T17:19:02.479Z"
   },
   {
    "duration": 25,
    "start_time": "2023-01-08T17:19:02.726Z"
   },
   {
    "duration": 26,
    "start_time": "2023-01-08T17:19:02.752Z"
   },
   {
    "duration": 53,
    "start_time": "2023-01-08T17:19:02.780Z"
   },
   {
    "duration": 4,
    "start_time": "2023-01-08T17:19:02.834Z"
   },
   {
    "duration": 42,
    "start_time": "2023-01-08T17:19:02.840Z"
   },
   {
    "duration": 23,
    "start_time": "2023-01-08T17:19:02.884Z"
   },
   {
    "duration": 40,
    "start_time": "2023-01-08T17:19:02.909Z"
   },
   {
    "duration": 5,
    "start_time": "2023-01-08T17:19:02.952Z"
   },
   {
    "duration": 92,
    "start_time": "2023-01-08T17:19:02.958Z"
   },
   {
    "duration": 123,
    "start_time": "2023-01-08T17:19:03.053Z"
   },
   {
    "duration": 134,
    "start_time": "2023-01-08T17:19:03.252Z"
   },
   {
    "duration": 64,
    "start_time": "2023-01-08T17:19:03.388Z"
   },
   {
    "duration": 111,
    "start_time": "2023-01-08T17:19:03.455Z"
   },
   {
    "duration": 18,
    "start_time": "2023-01-08T17:19:03.568Z"
   },
   {
    "duration": 12,
    "start_time": "2023-01-08T17:19:03.588Z"
   },
   {
    "duration": 40,
    "start_time": "2023-01-08T17:19:03.601Z"
   },
   {
    "duration": 132,
    "start_time": "2023-01-08T17:19:03.643Z"
   },
   {
    "duration": 0,
    "start_time": "2023-01-08T17:19:03.777Z"
   },
   {
    "duration": 0,
    "start_time": "2023-01-08T17:19:03.779Z"
   },
   {
    "duration": 0,
    "start_time": "2023-01-08T17:19:03.779Z"
   },
   {
    "duration": 0,
    "start_time": "2023-01-08T17:19:03.781Z"
   },
   {
    "duration": 0,
    "start_time": "2023-01-08T17:19:03.782Z"
   },
   {
    "duration": 0,
    "start_time": "2023-01-08T17:19:03.783Z"
   },
   {
    "duration": 0,
    "start_time": "2023-01-08T17:19:03.784Z"
   },
   {
    "duration": 0,
    "start_time": "2023-01-08T17:19:03.785Z"
   },
   {
    "duration": 0,
    "start_time": "2023-01-08T17:19:03.786Z"
   },
   {
    "duration": 1403,
    "start_time": "2023-01-08T17:19:43.159Z"
   },
   {
    "duration": 393,
    "start_time": "2023-01-08T17:19:44.564Z"
   },
   {
    "duration": 4,
    "start_time": "2023-01-08T17:19:44.959Z"
   },
   {
    "duration": 252,
    "start_time": "2023-01-08T17:19:44.964Z"
   },
   {
    "duration": 241,
    "start_time": "2023-01-08T17:19:45.218Z"
   },
   {
    "duration": 281,
    "start_time": "2023-01-08T17:19:45.461Z"
   },
   {
    "duration": 18,
    "start_time": "2023-01-08T17:19:45.743Z"
   },
   {
    "duration": 12,
    "start_time": "2023-01-08T17:19:45.763Z"
   },
   {
    "duration": 44,
    "start_time": "2023-01-08T17:19:45.777Z"
   },
   {
    "duration": 4,
    "start_time": "2023-01-08T17:19:45.823Z"
   },
   {
    "duration": 30,
    "start_time": "2023-01-08T17:19:45.828Z"
   },
   {
    "duration": 32,
    "start_time": "2023-01-08T17:19:45.860Z"
   },
   {
    "duration": 66,
    "start_time": "2023-01-08T17:19:45.895Z"
   },
   {
    "duration": 5,
    "start_time": "2023-01-08T17:19:45.964Z"
   },
   {
    "duration": 84,
    "start_time": "2023-01-08T17:19:45.970Z"
   },
   {
    "duration": 108,
    "start_time": "2023-01-08T17:19:46.060Z"
   },
   {
    "duration": 188,
    "start_time": "2023-01-08T17:19:46.170Z"
   },
   {
    "duration": 96,
    "start_time": "2023-01-08T17:19:46.360Z"
   },
   {
    "duration": 10,
    "start_time": "2023-01-08T17:19:46.459Z"
   },
   {
    "duration": 6,
    "start_time": "2023-01-08T17:19:46.550Z"
   },
   {
    "duration": 7,
    "start_time": "2023-01-08T17:19:46.558Z"
   },
   {
    "duration": 16,
    "start_time": "2023-01-08T17:19:46.567Z"
   },
   {
    "duration": 12,
    "start_time": "2023-01-08T17:19:46.585Z"
   },
   {
    "duration": 60,
    "start_time": "2023-01-08T17:19:46.599Z"
   },
   {
    "duration": 10,
    "start_time": "2023-01-08T17:19:46.661Z"
   },
   {
    "duration": 10,
    "start_time": "2023-01-08T17:19:46.672Z"
   },
   {
    "duration": 14,
    "start_time": "2023-01-08T17:19:46.684Z"
   },
   {
    "duration": 12,
    "start_time": "2023-01-08T17:19:46.700Z"
   },
   {
    "duration": 1499,
    "start_time": "2023-01-08T17:19:46.714Z"
   },
   {
    "duration": 1442,
    "start_time": "2023-01-08T17:19:48.215Z"
   },
   {
    "duration": 1428,
    "start_time": "2023-01-08T17:19:49.660Z"
   },
   {
    "duration": 10,
    "start_time": "2023-01-08T17:19:51.090Z"
   },
   {
    "duration": 17,
    "start_time": "2023-01-08T17:23:09.062Z"
   },
   {
    "duration": 1494,
    "start_time": "2023-01-08T17:23:15.606Z"
   },
   {
    "duration": 409,
    "start_time": "2023-01-08T17:23:17.102Z"
   },
   {
    "duration": 4,
    "start_time": "2023-01-08T17:23:17.513Z"
   },
   {
    "duration": 260,
    "start_time": "2023-01-08T17:23:17.519Z"
   },
   {
    "duration": 229,
    "start_time": "2023-01-08T17:23:17.782Z"
   },
   {
    "duration": 257,
    "start_time": "2023-01-08T17:23:18.013Z"
   },
   {
    "duration": 13,
    "start_time": "2023-01-08T17:23:18.272Z"
   },
   {
    "duration": 17,
    "start_time": "2023-01-08T17:23:18.286Z"
   },
   {
    "duration": 54,
    "start_time": "2023-01-08T17:23:18.304Z"
   },
   {
    "duration": 4,
    "start_time": "2023-01-08T17:23:18.359Z"
   },
   {
    "duration": 27,
    "start_time": "2023-01-08T17:23:18.365Z"
   },
   {
    "duration": 21,
    "start_time": "2023-01-08T17:23:18.394Z"
   },
   {
    "duration": 46,
    "start_time": "2023-01-08T17:23:18.417Z"
   },
   {
    "duration": 4,
    "start_time": "2023-01-08T17:23:18.466Z"
   },
   {
    "duration": 79,
    "start_time": "2023-01-08T17:23:18.472Z"
   },
   {
    "duration": 111,
    "start_time": "2023-01-08T17:23:18.554Z"
   },
   {
    "duration": 190,
    "start_time": "2023-01-08T17:23:18.668Z"
   },
   {
    "duration": 95,
    "start_time": "2023-01-08T17:23:18.860Z"
   },
   {
    "duration": 94,
    "start_time": "2023-01-08T17:23:18.958Z"
   },
   {
    "duration": 10,
    "start_time": "2023-01-08T17:23:19.054Z"
   },
   {
    "duration": 6,
    "start_time": "2023-01-08T17:23:19.066Z"
   },
   {
    "duration": 25,
    "start_time": "2023-01-08T17:23:19.073Z"
   },
   {
    "duration": 14,
    "start_time": "2023-01-08T17:23:19.100Z"
   },
   {
    "duration": 12,
    "start_time": "2023-01-08T17:23:19.151Z"
   },
   {
    "duration": 13,
    "start_time": "2023-01-08T17:23:19.165Z"
   },
   {
    "duration": 10,
    "start_time": "2023-01-08T17:23:19.180Z"
   },
   {
    "duration": 6,
    "start_time": "2023-01-08T17:23:19.193Z"
   },
   {
    "duration": 17,
    "start_time": "2023-01-08T17:23:19.201Z"
   },
   {
    "duration": 1501,
    "start_time": "2023-01-08T17:23:19.221Z"
   },
   {
    "duration": 1345,
    "start_time": "2023-01-08T17:23:20.723Z"
   },
   {
    "duration": 1342,
    "start_time": "2023-01-08T17:23:22.070Z"
   },
   {
    "duration": 10,
    "start_time": "2023-01-08T17:23:23.414Z"
   },
   {
    "duration": 1589,
    "start_time": "2023-01-08T17:26:22.516Z"
   },
   {
    "duration": 445,
    "start_time": "2023-01-08T17:26:24.108Z"
   },
   {
    "duration": 5,
    "start_time": "2023-01-08T17:26:24.554Z"
   },
   {
    "duration": 260,
    "start_time": "2023-01-08T17:26:24.561Z"
   },
   {
    "duration": 273,
    "start_time": "2023-01-08T17:26:24.823Z"
   },
   {
    "duration": 258,
    "start_time": "2023-01-08T17:26:25.098Z"
   },
   {
    "duration": 14,
    "start_time": "2023-01-08T17:26:25.358Z"
   },
   {
    "duration": 15,
    "start_time": "2023-01-08T17:26:25.374Z"
   },
   {
    "duration": 60,
    "start_time": "2023-01-08T17:26:25.391Z"
   },
   {
    "duration": 4,
    "start_time": "2023-01-08T17:26:25.453Z"
   },
   {
    "duration": 34,
    "start_time": "2023-01-08T17:26:25.459Z"
   },
   {
    "duration": 23,
    "start_time": "2023-01-08T17:26:25.495Z"
   },
   {
    "duration": 43,
    "start_time": "2023-01-08T17:26:25.519Z"
   },
   {
    "duration": 4,
    "start_time": "2023-01-08T17:26:25.565Z"
   },
   {
    "duration": 85,
    "start_time": "2023-01-08T17:26:25.571Z"
   },
   {
    "duration": 113,
    "start_time": "2023-01-08T17:26:25.658Z"
   },
   {
    "duration": 108,
    "start_time": "2023-01-08T17:26:25.852Z"
   },
   {
    "duration": 92,
    "start_time": "2023-01-08T17:26:25.962Z"
   },
   {
    "duration": 101,
    "start_time": "2023-01-08T17:26:26.057Z"
   },
   {
    "duration": 10,
    "start_time": "2023-01-08T17:26:26.161Z"
   },
   {
    "duration": 13,
    "start_time": "2023-01-08T17:26:26.173Z"
   },
   {
    "duration": 25,
    "start_time": "2023-01-08T17:26:26.188Z"
   },
   {
    "duration": 38,
    "start_time": "2023-01-08T17:26:26.215Z"
   },
   {
    "duration": 10,
    "start_time": "2023-01-08T17:26:26.255Z"
   },
   {
    "duration": 10,
    "start_time": "2023-01-08T17:26:26.267Z"
   },
   {
    "duration": 10,
    "start_time": "2023-01-08T17:26:26.279Z"
   },
   {
    "duration": 6,
    "start_time": "2023-01-08T17:26:26.291Z"
   },
   {
    "duration": 8,
    "start_time": "2023-01-08T17:26:26.298Z"
   },
   {
    "duration": 1495,
    "start_time": "2023-01-08T17:26:26.308Z"
   },
   {
    "duration": 1431,
    "start_time": "2023-01-08T17:26:27.804Z"
   },
   {
    "duration": 1555,
    "start_time": "2023-01-08T17:26:29.238Z"
   },
   {
    "duration": 10,
    "start_time": "2023-01-08T17:26:30.795Z"
   },
   {
    "duration": 1494,
    "start_time": "2023-01-08T17:27:31.517Z"
   },
   {
    "duration": 416,
    "start_time": "2023-01-08T17:27:33.014Z"
   },
   {
    "duration": 4,
    "start_time": "2023-01-08T17:27:33.432Z"
   },
   {
    "duration": 296,
    "start_time": "2023-01-08T17:27:33.438Z"
   },
   {
    "duration": 274,
    "start_time": "2023-01-08T17:27:33.739Z"
   },
   {
    "duration": 256,
    "start_time": "2023-01-08T17:27:34.015Z"
   },
   {
    "duration": 15,
    "start_time": "2023-01-08T17:27:34.273Z"
   },
   {
    "duration": 12,
    "start_time": "2023-01-08T17:27:34.290Z"
   },
   {
    "duration": 59,
    "start_time": "2023-01-08T17:27:34.304Z"
   },
   {
    "duration": 5,
    "start_time": "2023-01-08T17:27:34.365Z"
   },
   {
    "duration": 39,
    "start_time": "2023-01-08T17:27:34.371Z"
   },
   {
    "duration": 44,
    "start_time": "2023-01-08T17:27:34.412Z"
   },
   {
    "duration": 24,
    "start_time": "2023-01-08T17:27:34.457Z"
   },
   {
    "duration": 5,
    "start_time": "2023-01-08T17:27:34.484Z"
   },
   {
    "duration": 64,
    "start_time": "2023-01-08T17:27:34.490Z"
   },
   {
    "duration": 106,
    "start_time": "2023-01-08T17:27:34.556Z"
   },
   {
    "duration": 194,
    "start_time": "2023-01-08T17:27:34.664Z"
   },
   {
    "duration": 104,
    "start_time": "2023-01-08T17:27:34.860Z"
   },
   {
    "duration": 83,
    "start_time": "2023-01-08T17:27:34.967Z"
   },
   {
    "duration": 11,
    "start_time": "2023-01-08T17:27:35.052Z"
   },
   {
    "duration": 8,
    "start_time": "2023-01-08T17:27:35.066Z"
   },
   {
    "duration": 28,
    "start_time": "2023-01-08T17:27:35.077Z"
   },
   {
    "duration": 13,
    "start_time": "2023-01-08T17:27:35.107Z"
   },
   {
    "duration": 11,
    "start_time": "2023-01-08T17:27:35.152Z"
   },
   {
    "duration": 14,
    "start_time": "2023-01-08T17:27:35.165Z"
   },
   {
    "duration": 13,
    "start_time": "2023-01-08T17:27:35.181Z"
   },
   {
    "duration": 14,
    "start_time": "2023-01-08T17:27:35.195Z"
   },
   {
    "duration": 9,
    "start_time": "2023-01-08T17:27:35.211Z"
   },
   {
    "duration": 1535,
    "start_time": "2023-01-08T17:27:35.221Z"
   },
   {
    "duration": 1422,
    "start_time": "2023-01-08T17:27:36.758Z"
   },
   {
    "duration": 1386,
    "start_time": "2023-01-08T17:27:38.182Z"
   },
   {
    "duration": 13,
    "start_time": "2023-01-08T17:27:39.575Z"
   },
   {
    "duration": 1477,
    "start_time": "2023-01-08T17:28:42.674Z"
   },
   {
    "duration": 414,
    "start_time": "2023-01-08T17:28:44.154Z"
   },
   {
    "duration": 5,
    "start_time": "2023-01-08T17:28:44.570Z"
   },
   {
    "duration": 266,
    "start_time": "2023-01-08T17:28:44.577Z"
   },
   {
    "duration": 254,
    "start_time": "2023-01-08T17:28:44.851Z"
   },
   {
    "duration": 265,
    "start_time": "2023-01-08T17:28:45.107Z"
   },
   {
    "duration": 15,
    "start_time": "2023-01-08T17:28:45.373Z"
   },
   {
    "duration": 26,
    "start_time": "2023-01-08T17:28:45.389Z"
   },
   {
    "duration": 68,
    "start_time": "2023-01-08T17:28:45.417Z"
   },
   {
    "duration": 4,
    "start_time": "2023-01-08T17:28:45.488Z"
   },
   {
    "duration": 55,
    "start_time": "2023-01-08T17:28:45.494Z"
   },
   {
    "duration": 32,
    "start_time": "2023-01-08T17:28:45.552Z"
   },
   {
    "duration": 31,
    "start_time": "2023-01-08T17:28:45.587Z"
   },
   {
    "duration": 9,
    "start_time": "2023-01-08T17:28:45.620Z"
   },
   {
    "duration": 42,
    "start_time": "2023-01-08T17:28:45.631Z"
   },
   {
    "duration": 200,
    "start_time": "2023-01-08T17:28:45.675Z"
   },
   {
    "duration": 181,
    "start_time": "2023-01-08T17:28:45.877Z"
   },
   {
    "duration": 192,
    "start_time": "2023-01-08T17:28:46.060Z"
   },
   {
    "duration": 18,
    "start_time": "2023-01-08T17:28:46.254Z"
   },
   {
    "duration": 25,
    "start_time": "2023-01-08T17:28:46.274Z"
   },
   {
    "duration": 27,
    "start_time": "2023-01-08T17:28:46.301Z"
   },
   {
    "duration": 38,
    "start_time": "2023-01-08T17:28:46.330Z"
   },
   {
    "duration": 22,
    "start_time": "2023-01-08T17:28:46.370Z"
   },
   {
    "duration": 32,
    "start_time": "2023-01-08T17:28:46.394Z"
   },
   {
    "duration": 30,
    "start_time": "2023-01-08T17:28:46.428Z"
   },
   {
    "duration": 28,
    "start_time": "2023-01-08T17:28:46.459Z"
   },
   {
    "duration": 19,
    "start_time": "2023-01-08T17:28:46.489Z"
   },
   {
    "duration": 39,
    "start_time": "2023-01-08T17:28:46.511Z"
   },
   {
    "duration": 1461,
    "start_time": "2023-01-08T17:28:46.552Z"
   },
   {
    "duration": 1495,
    "start_time": "2023-01-08T17:28:48.015Z"
   },
   {
    "duration": 1475,
    "start_time": "2023-01-08T17:28:49.511Z"
   },
   {
    "duration": 10,
    "start_time": "2023-01-08T17:28:50.987Z"
   },
   {
    "duration": 10,
    "start_time": "2023-01-08T19:04:11.126Z"
   },
   {
    "duration": 3,
    "start_time": "2023-01-08T19:04:17.815Z"
   },
   {
    "duration": 44,
    "start_time": "2023-01-08T19:04:20.686Z"
   },
   {
    "duration": 1575,
    "start_time": "2023-01-08T19:04:46.537Z"
   },
   {
    "duration": 1602,
    "start_time": "2023-01-08T19:04:48.114Z"
   },
   {
    "duration": 4,
    "start_time": "2023-01-08T19:04:49.718Z"
   },
   {
    "duration": 250,
    "start_time": "2023-01-08T19:04:49.724Z"
   },
   {
    "duration": 214,
    "start_time": "2023-01-08T19:04:49.976Z"
   },
   {
    "duration": 213,
    "start_time": "2023-01-08T19:04:50.191Z"
   },
   {
    "duration": 12,
    "start_time": "2023-01-08T19:04:50.406Z"
   },
   {
    "duration": 27,
    "start_time": "2023-01-08T19:04:50.420Z"
   },
   {
    "duration": 62,
    "start_time": "2023-01-08T19:04:50.450Z"
   },
   {
    "duration": 5,
    "start_time": "2023-01-08T19:04:50.514Z"
   },
   {
    "duration": 36,
    "start_time": "2023-01-08T19:04:50.520Z"
   },
   {
    "duration": 21,
    "start_time": "2023-01-08T19:04:50.558Z"
   },
   {
    "duration": 33,
    "start_time": "2023-01-08T19:04:50.581Z"
   },
   {
    "duration": 14,
    "start_time": "2023-01-08T19:04:50.616Z"
   },
   {
    "duration": 114,
    "start_time": "2023-01-08T19:04:50.632Z"
   },
   {
    "duration": 190,
    "start_time": "2023-01-08T19:04:50.747Z"
   },
   {
    "duration": 130,
    "start_time": "2023-01-08T19:04:50.940Z"
   },
   {
    "duration": 67,
    "start_time": "2023-01-08T19:04:51.073Z"
   },
   {
    "duration": 97,
    "start_time": "2023-01-08T19:04:51.142Z"
   },
   {
    "duration": 17,
    "start_time": "2023-01-08T19:04:51.240Z"
   },
   {
    "duration": 42,
    "start_time": "2023-01-08T19:04:51.259Z"
   },
   {
    "duration": 21,
    "start_time": "2023-01-08T19:04:51.302Z"
   },
   {
    "duration": 24,
    "start_time": "2023-01-08T19:04:51.325Z"
   },
   {
    "duration": 28,
    "start_time": "2023-01-08T19:04:51.351Z"
   },
   {
    "duration": 15,
    "start_time": "2023-01-08T19:04:51.380Z"
   },
   {
    "duration": 32,
    "start_time": "2023-01-08T19:04:51.397Z"
   },
   {
    "duration": 30,
    "start_time": "2023-01-08T19:04:51.430Z"
   },
   {
    "duration": 1375,
    "start_time": "2023-01-08T19:04:51.462Z"
   },
   {
    "duration": 1341,
    "start_time": "2023-01-08T19:04:52.839Z"
   },
   {
    "duration": 1321,
    "start_time": "2023-01-08T19:04:54.181Z"
   },
   {
    "duration": 9,
    "start_time": "2023-01-08T19:04:55.504Z"
   },
   {
    "duration": 5,
    "start_time": "2023-01-08T19:05:12.475Z"
   },
   {
    "duration": 4,
    "start_time": "2023-01-08T19:05:18.804Z"
   },
   {
    "duration": 116,
    "start_time": "2023-01-08T19:05:21.135Z"
   },
   {
    "duration": 5,
    "start_time": "2023-01-08T19:05:29.478Z"
   },
   {
    "duration": 3,
    "start_time": "2023-01-08T19:05:32.056Z"
   },
   {
    "duration": 1417,
    "start_time": "2023-01-08T19:05:33.206Z"
   },
   {
    "duration": 4,
    "start_time": "2023-01-08T19:09:51.636Z"
   },
   {
    "duration": 6,
    "start_time": "2023-01-08T19:10:01.416Z"
   },
   {
    "duration": 6,
    "start_time": "2023-01-08T19:10:05.576Z"
   },
   {
    "duration": 6,
    "start_time": "2023-01-08T19:10:07.544Z"
   },
   {
    "duration": 18,
    "start_time": "2023-01-08T19:10:50.706Z"
   },
   {
    "duration": 14,
    "start_time": "2023-01-08T19:11:38.989Z"
   },
   {
    "duration": 5,
    "start_time": "2023-01-08T19:27:06.077Z"
   },
   {
    "duration": 4,
    "start_time": "2023-01-08T19:27:22.087Z"
   },
   {
    "duration": 92,
    "start_time": "2023-01-08T19:28:01.847Z"
   },
   {
    "duration": 5,
    "start_time": "2023-01-08T19:28:06.146Z"
   },
   {
    "duration": 18,
    "start_time": "2023-01-08T19:28:43.957Z"
   },
   {
    "duration": 6,
    "start_time": "2023-01-08T19:28:58.996Z"
   },
   {
    "duration": 4,
    "start_time": "2023-01-08T19:29:41.527Z"
   },
   {
    "duration": 27,
    "start_time": "2023-01-08T19:29:57.826Z"
   },
   {
    "duration": 18,
    "start_time": "2023-01-08T19:30:40.907Z"
   },
   {
    "duration": 5,
    "start_time": "2023-01-08T19:30:43.966Z"
   },
   {
    "duration": 5,
    "start_time": "2023-01-08T19:30:47.684Z"
   },
   {
    "duration": 9,
    "start_time": "2023-01-08T19:31:12.016Z"
   },
   {
    "duration": 3,
    "start_time": "2023-01-08T19:45:00.137Z"
   },
   {
    "duration": 11,
    "start_time": "2023-01-08T19:45:45.707Z"
   },
   {
    "duration": 5,
    "start_time": "2023-01-08T19:45:53.688Z"
   },
   {
    "duration": 2,
    "start_time": "2023-01-08T19:46:00.346Z"
   },
   {
    "duration": 1435,
    "start_time": "2023-01-08T19:46:01.736Z"
   },
   {
    "duration": 4,
    "start_time": "2023-01-08T19:48:43.834Z"
   },
   {
    "duration": 5,
    "start_time": "2023-01-08T19:48:56.334Z"
   },
   {
    "duration": 3,
    "start_time": "2023-01-08T19:49:01.787Z"
   },
   {
    "duration": 23,
    "start_time": "2023-01-08T19:49:04.634Z"
   },
   {
    "duration": 12,
    "start_time": "2023-01-08T19:49:20.647Z"
   },
   {
    "duration": 10,
    "start_time": "2023-01-08T19:49:27.054Z"
   },
   {
    "duration": 10,
    "start_time": "2023-01-08T19:49:28.733Z"
   },
   {
    "duration": 4,
    "start_time": "2023-01-08T19:50:14.617Z"
   },
   {
    "duration": 23,
    "start_time": "2023-01-08T19:51:03.967Z"
   },
   {
    "duration": 13,
    "start_time": "2023-01-08T19:51:40.697Z"
   },
   {
    "duration": 3,
    "start_time": "2023-01-08T19:52:34.108Z"
   },
   {
    "duration": 23,
    "start_time": "2023-01-08T19:52:39.934Z"
   },
   {
    "duration": 12,
    "start_time": "2023-01-08T19:53:06.668Z"
   },
   {
    "duration": 6,
    "start_time": "2023-01-08T19:53:52.657Z"
   },
   {
    "duration": 4,
    "start_time": "2023-01-08T19:54:01.415Z"
   },
   {
    "duration": 33,
    "start_time": "2023-01-08T19:54:03.926Z"
   },
   {
    "duration": 4,
    "start_time": "2023-01-08T19:57:34.807Z"
   },
   {
    "duration": 13,
    "start_time": "2023-01-08T19:57:50.219Z"
   },
   {
    "duration": 10,
    "start_time": "2023-01-08T19:57:54.515Z"
   },
   {
    "duration": 9,
    "start_time": "2023-01-08T19:57:56.229Z"
   },
   {
    "duration": 3,
    "start_time": "2023-01-08T19:59:21.286Z"
   },
   {
    "duration": 9,
    "start_time": "2023-01-08T19:59:36.348Z"
   },
   {
    "duration": 10,
    "start_time": "2023-01-08T19:59:40.776Z"
   },
   {
    "duration": 11,
    "start_time": "2023-01-08T19:59:42.456Z"
   },
   {
    "duration": 5,
    "start_time": "2023-01-08T19:59:53.388Z"
   },
   {
    "duration": 3,
    "start_time": "2023-01-08T20:00:04.615Z"
   },
   {
    "duration": 1413,
    "start_time": "2023-01-08T20:00:06.434Z"
   },
   {
    "duration": 1463,
    "start_time": "2023-01-08T20:00:45.478Z"
   },
   {
    "duration": 1521,
    "start_time": "2023-01-08T20:01:06.038Z"
   },
   {
    "duration": 1517,
    "start_time": "2023-01-08T20:07:00.843Z"
   },
   {
    "duration": 1767,
    "start_time": "2023-01-08T20:07:02.362Z"
   },
   {
    "duration": 5,
    "start_time": "2023-01-08T20:07:04.131Z"
   },
   {
    "duration": 198,
    "start_time": "2023-01-08T20:07:04.139Z"
   },
   {
    "duration": 200,
    "start_time": "2023-01-08T20:07:04.339Z"
   },
   {
    "duration": 214,
    "start_time": "2023-01-08T20:07:04.541Z"
   },
   {
    "duration": 11,
    "start_time": "2023-01-08T20:07:04.757Z"
   },
   {
    "duration": 10,
    "start_time": "2023-01-08T20:07:04.770Z"
   },
   {
    "duration": 45,
    "start_time": "2023-01-08T20:07:04.782Z"
   },
   {
    "duration": 4,
    "start_time": "2023-01-08T20:07:04.830Z"
   },
   {
    "duration": 40,
    "start_time": "2023-01-08T20:07:04.836Z"
   },
   {
    "duration": 18,
    "start_time": "2023-01-08T20:07:04.878Z"
   },
   {
    "duration": 18,
    "start_time": "2023-01-08T20:07:04.897Z"
   },
   {
    "duration": 15,
    "start_time": "2023-01-08T20:07:04.916Z"
   },
   {
    "duration": 34,
    "start_time": "2023-01-08T20:07:04.933Z"
   },
   {
    "duration": 150,
    "start_time": "2023-01-08T20:07:04.969Z"
   },
   {
    "duration": 11,
    "start_time": "2023-01-08T20:07:05.121Z"
   },
   {
    "duration": 80,
    "start_time": "2023-01-08T20:07:05.134Z"
   },
   {
    "duration": 112,
    "start_time": "2023-01-08T20:07:05.216Z"
   },
   {
    "duration": 3,
    "start_time": "2023-01-08T20:07:05.330Z"
   },
   {
    "duration": 178,
    "start_time": "2023-01-08T20:07:05.335Z"
   },
   {
    "duration": 4,
    "start_time": "2023-01-08T20:07:05.515Z"
   },
   {
    "duration": 24,
    "start_time": "2023-01-08T20:07:05.521Z"
   },
   {
    "duration": 12,
    "start_time": "2023-01-08T20:07:05.546Z"
   },
   {
    "duration": 9,
    "start_time": "2023-01-08T20:07:05.560Z"
   },
   {
    "duration": 45,
    "start_time": "2023-01-08T20:07:05.570Z"
   },
   {
    "duration": 9,
    "start_time": "2023-01-08T20:07:05.617Z"
   },
   {
    "duration": 5,
    "start_time": "2023-01-08T20:07:05.630Z"
   },
   {
    "duration": 15,
    "start_time": "2023-01-08T20:07:05.637Z"
   },
   {
    "duration": 1335,
    "start_time": "2023-01-08T20:07:05.654Z"
   },
   {
    "duration": 1286,
    "start_time": "2023-01-08T20:07:06.990Z"
   },
   {
    "duration": 1271,
    "start_time": "2023-01-08T20:07:08.278Z"
   },
   {
    "duration": 9,
    "start_time": "2023-01-08T20:07:09.551Z"
   },
   {
    "duration": 4,
    "start_time": "2023-01-08T20:07:23.097Z"
   },
   {
    "duration": 10,
    "start_time": "2023-01-08T20:07:30.716Z"
   },
   {
    "duration": 12,
    "start_time": "2023-01-08T20:07:33.546Z"
   },
   {
    "duration": 11,
    "start_time": "2023-01-08T20:07:36.454Z"
   },
   {
    "duration": 7,
    "start_time": "2023-01-08T20:07:40.048Z"
   },
   {
    "duration": 2,
    "start_time": "2023-01-08T20:07:43.586Z"
   },
   {
    "duration": 1405,
    "start_time": "2023-01-08T20:07:45.406Z"
   },
   {
    "duration": 1365,
    "start_time": "2023-01-08T20:07:51.296Z"
   },
   {
    "duration": 1350,
    "start_time": "2023-01-08T20:07:56.086Z"
   },
   {
    "duration": 20,
    "start_time": "2023-01-08T20:08:07.138Z"
   },
   {
    "duration": 12,
    "start_time": "2023-01-08T20:08:32.103Z"
   },
   {
    "duration": 11,
    "start_time": "2023-01-08T20:15:10.349Z"
   },
   {
    "duration": 9,
    "start_time": "2023-01-08T20:15:12.166Z"
   },
   {
    "duration": 8,
    "start_time": "2023-01-08T20:15:13.531Z"
   },
   {
    "duration": 7,
    "start_time": "2023-01-08T20:15:21.418Z"
   },
   {
    "duration": 3,
    "start_time": "2023-01-08T20:15:26.517Z"
   },
   {
    "duration": 1222,
    "start_time": "2023-01-08T20:15:27.786Z"
   },
   {
    "duration": 1258,
    "start_time": "2023-01-08T20:15:32.886Z"
   },
   {
    "duration": 1257,
    "start_time": "2023-01-08T20:15:36.885Z"
   },
   {
    "duration": 8,
    "start_time": "2023-01-08T20:15:42.056Z"
   },
   {
    "duration": 107,
    "start_time": "2023-01-08T20:18:40.607Z"
   },
   {
    "duration": 11,
    "start_time": "2023-01-08T20:18:54.534Z"
   },
   {
    "duration": 11,
    "start_time": "2023-01-08T20:20:04.097Z"
   },
   {
    "duration": 15,
    "start_time": "2023-01-08T20:20:13.500Z"
   },
   {
    "duration": 11,
    "start_time": "2023-01-08T20:20:22.786Z"
   },
   {
    "duration": 78,
    "start_time": "2023-01-08T20:23:17.537Z"
   },
   {
    "duration": 4,
    "start_time": "2023-01-08T20:23:25.438Z"
   },
   {
    "duration": 4,
    "start_time": "2023-01-08T20:23:34.855Z"
   },
   {
    "duration": 5,
    "start_time": "2023-01-08T20:23:38.605Z"
   },
   {
    "duration": 4,
    "start_time": "2023-01-08T20:25:05.257Z"
   },
   {
    "duration": 109,
    "start_time": "2023-01-08T20:25:08.406Z"
   },
   {
    "duration": 4,
    "start_time": "2023-01-08T20:25:44.646Z"
   },
   {
    "duration": 14,
    "start_time": "2023-01-08T20:25:47.216Z"
   },
   {
    "duration": 4,
    "start_time": "2023-01-08T20:31:08.588Z"
   },
   {
    "duration": 15,
    "start_time": "2023-01-08T20:31:13.075Z"
   },
   {
    "duration": 4,
    "start_time": "2023-01-08T20:31:35.394Z"
   },
   {
    "duration": 4,
    "start_time": "2023-01-08T20:31:40.596Z"
   },
   {
    "duration": 14,
    "start_time": "2023-01-08T20:31:52.164Z"
   },
   {
    "duration": 15,
    "start_time": "2023-01-08T20:31:58.586Z"
   },
   {
    "duration": 18,
    "start_time": "2023-01-08T20:32:18.257Z"
   },
   {
    "duration": 12,
    "start_time": "2023-01-08T20:32:29.717Z"
   },
   {
    "duration": 12,
    "start_time": "2023-01-08T20:32:47.886Z"
   },
   {
    "duration": 16,
    "start_time": "2023-01-08T20:33:19.266Z"
   },
   {
    "duration": 12,
    "start_time": "2023-01-08T20:33:39.695Z"
   },
   {
    "duration": 4,
    "start_time": "2023-01-08T20:34:44.438Z"
   },
   {
    "duration": 20,
    "start_time": "2023-01-08T20:36:19.654Z"
   },
   {
    "duration": 5,
    "start_time": "2023-01-08T20:36:24.116Z"
   },
   {
    "duration": 5,
    "start_time": "2023-01-08T20:36:28.736Z"
   },
   {
    "duration": 15,
    "start_time": "2023-01-08T20:36:58.486Z"
   },
   {
    "duration": 15,
    "start_time": "2023-01-08T20:37:08.394Z"
   },
   {
    "duration": 17,
    "start_time": "2023-01-08T20:38:11.232Z"
   },
   {
    "duration": 16,
    "start_time": "2023-01-08T20:39:09.639Z"
   },
   {
    "duration": 18,
    "start_time": "2023-01-08T20:39:59.778Z"
   },
   {
    "duration": 10,
    "start_time": "2023-01-08T20:40:20.876Z"
   },
   {
    "duration": 10,
    "start_time": "2023-01-08T20:40:55.355Z"
   },
   {
    "duration": 9,
    "start_time": "2023-01-08T20:41:33.466Z"
   },
   {
    "duration": 9,
    "start_time": "2023-01-08T20:41:34.994Z"
   },
   {
    "duration": 9,
    "start_time": "2023-01-08T20:41:37.894Z"
   },
   {
    "duration": 5,
    "start_time": "2023-01-08T20:41:43.869Z"
   },
   {
    "duration": 2,
    "start_time": "2023-01-08T20:41:47.976Z"
   },
   {
    "duration": 1202,
    "start_time": "2023-01-08T20:41:53.036Z"
   },
   {
    "duration": 1198,
    "start_time": "2023-01-08T20:41:58.006Z"
   },
   {
    "duration": 1245,
    "start_time": "2023-01-08T20:42:18.056Z"
   },
   {
    "duration": 12,
    "start_time": "2023-01-08T20:42:27.955Z"
   },
   {
    "duration": 12,
    "start_time": "2023-01-08T20:49:17.739Z"
   },
   {
    "duration": 11,
    "start_time": "2023-01-08T20:51:32.388Z"
   },
   {
    "duration": 12,
    "start_time": "2023-01-08T20:52:51.019Z"
   },
   {
    "duration": 13,
    "start_time": "2023-01-08T20:53:15.378Z"
   },
   {
    "duration": 12,
    "start_time": "2023-01-08T20:54:00.118Z"
   },
   {
    "duration": 5,
    "start_time": "2023-01-08T20:55:15.758Z"
   },
   {
    "duration": 22,
    "start_time": "2023-01-08T20:55:16.977Z"
   },
   {
    "duration": 14,
    "start_time": "2023-01-08T20:55:28.578Z"
   },
   {
    "duration": 13,
    "start_time": "2023-01-08T20:57:41.218Z"
   },
   {
    "duration": 12,
    "start_time": "2023-01-08T21:00:07.578Z"
   },
   {
    "duration": 8,
    "start_time": "2023-01-08T21:01:44.987Z"
   },
   {
    "duration": 8,
    "start_time": "2023-01-08T21:39:13.204Z"
   },
   {
    "duration": 43,
    "start_time": "2023-01-08T21:39:59.713Z"
   },
   {
    "duration": 2287,
    "start_time": "2023-01-08T21:40:10.355Z"
   },
   {
    "duration": 1677,
    "start_time": "2023-01-08T21:40:12.644Z"
   },
   {
    "duration": 4,
    "start_time": "2023-01-08T21:40:14.323Z"
   },
   {
    "duration": 222,
    "start_time": "2023-01-08T21:40:14.329Z"
   },
   {
    "duration": 310,
    "start_time": "2023-01-08T21:40:14.553Z"
   },
   {
    "duration": 257,
    "start_time": "2023-01-08T21:40:14.877Z"
   },
   {
    "duration": 12,
    "start_time": "2023-01-08T21:40:15.136Z"
   },
   {
    "duration": 28,
    "start_time": "2023-01-08T21:40:15.149Z"
   },
   {
    "duration": 45,
    "start_time": "2023-01-08T21:40:15.179Z"
   },
   {
    "duration": 3,
    "start_time": "2023-01-08T21:40:15.226Z"
   },
   {
    "duration": 27,
    "start_time": "2023-01-08T21:40:15.231Z"
   },
   {
    "duration": 31,
    "start_time": "2023-01-08T21:40:15.260Z"
   },
   {
    "duration": 21,
    "start_time": "2023-01-08T21:40:15.292Z"
   },
   {
    "duration": 4,
    "start_time": "2023-01-08T21:40:15.316Z"
   },
   {
    "duration": 157,
    "start_time": "2023-01-08T21:40:15.321Z"
   },
   {
    "duration": 114,
    "start_time": "2023-01-08T21:40:15.481Z"
   },
   {
    "duration": 111,
    "start_time": "2023-01-08T21:40:15.686Z"
   },
   {
    "duration": 182,
    "start_time": "2023-01-08T21:40:15.799Z"
   },
   {
    "duration": 9,
    "start_time": "2023-01-08T21:40:15.983Z"
   },
   {
    "duration": 11,
    "start_time": "2023-01-08T21:40:15.993Z"
   },
   {
    "duration": 20,
    "start_time": "2023-01-08T21:40:16.005Z"
   },
   {
    "duration": 11,
    "start_time": "2023-01-08T21:40:16.027Z"
   },
   {
    "duration": 41,
    "start_time": "2023-01-08T21:40:16.040Z"
   },
   {
    "duration": 10,
    "start_time": "2023-01-08T21:40:16.082Z"
   },
   {
    "duration": 9,
    "start_time": "2023-01-08T21:40:16.093Z"
   },
   {
    "duration": 6,
    "start_time": "2023-01-08T21:40:16.104Z"
   },
   {
    "duration": 9,
    "start_time": "2023-01-08T21:40:16.112Z"
   },
   {
    "duration": 1530,
    "start_time": "2023-01-08T21:40:16.123Z"
   },
   {
    "duration": 1515,
    "start_time": "2023-01-08T21:40:17.655Z"
   },
   {
    "duration": 1553,
    "start_time": "2023-01-08T21:40:19.172Z"
   },
   {
    "duration": 10,
    "start_time": "2023-01-08T21:40:20.727Z"
   },
   {
    "duration": 14,
    "start_time": "2023-01-08T21:41:03.083Z"
   },
   {
    "duration": 14,
    "start_time": "2023-01-08T21:41:51.045Z"
   },
   {
    "duration": 13,
    "start_time": "2023-01-08T21:50:54.685Z"
   },
   {
    "duration": 12,
    "start_time": "2023-01-08T21:53:41.724Z"
   },
   {
    "duration": 16,
    "start_time": "2023-01-08T21:53:54.955Z"
   },
   {
    "duration": 13,
    "start_time": "2023-01-08T21:56:25.925Z"
   },
   {
    "duration": 14,
    "start_time": "2023-01-08T21:56:53.786Z"
   },
   {
    "duration": 3,
    "start_time": "2023-01-08T22:04:08.235Z"
   },
   {
    "duration": 11,
    "start_time": "2023-01-08T22:05:17.634Z"
   },
   {
    "duration": 10,
    "start_time": "2023-01-08T22:06:08.383Z"
   },
   {
    "duration": 9,
    "start_time": "2023-01-08T22:06:11.865Z"
   },
   {
    "duration": 70,
    "start_time": "2023-01-08T22:11:15.797Z"
   },
   {
    "duration": 4,
    "start_time": "2023-01-08T22:11:33.575Z"
   },
   {
    "duration": 21,
    "start_time": "2023-01-08T22:11:36.071Z"
   },
   {
    "duration": 21,
    "start_time": "2023-01-08T22:11:53.705Z"
   },
   {
    "duration": 16,
    "start_time": "2023-01-08T22:12:11.904Z"
   },
   {
    "duration": 4,
    "start_time": "2023-01-08T22:12:27.285Z"
   },
   {
    "duration": 100,
    "start_time": "2023-01-08T22:12:41.285Z"
   },
   {
    "duration": 18,
    "start_time": "2023-01-08T22:13:34.967Z"
   },
   {
    "duration": 18,
    "start_time": "2023-01-08T22:13:42.126Z"
   },
   {
    "duration": 15,
    "start_time": "2023-01-08T22:14:12.575Z"
   },
   {
    "duration": 15,
    "start_time": "2023-01-08T22:27:34.743Z"
   },
   {
    "duration": 20,
    "start_time": "2023-01-08T22:27:46.565Z"
   },
   {
    "duration": 14,
    "start_time": "2023-01-08T22:28:17.125Z"
   },
   {
    "duration": 5,
    "start_time": "2023-01-08T22:29:20.596Z"
   },
   {
    "duration": 5,
    "start_time": "2023-01-08T22:29:45.356Z"
   },
   {
    "duration": 102,
    "start_time": "2023-01-08T22:30:26.883Z"
   },
   {
    "duration": 4,
    "start_time": "2023-01-08T22:30:36.935Z"
   },
   {
    "duration": 18,
    "start_time": "2023-01-08T22:30:59.725Z"
   },
   {
    "duration": 19,
    "start_time": "2023-01-08T22:34:18.585Z"
   },
   {
    "duration": 17,
    "start_time": "2023-01-08T22:34:38.005Z"
   },
   {
    "duration": 5,
    "start_time": "2023-01-08T22:35:58.214Z"
   },
   {
    "duration": 4,
    "start_time": "2023-01-08T22:36:11.055Z"
   },
   {
    "duration": 12,
    "start_time": "2023-01-08T22:37:16.663Z"
   },
   {
    "duration": 26,
    "start_time": "2023-01-08T22:38:01.153Z"
   },
   {
    "duration": 13,
    "start_time": "2023-01-08T22:38:18.896Z"
   },
   {
    "duration": 17,
    "start_time": "2023-01-08T22:38:43.075Z"
   },
   {
    "duration": 12,
    "start_time": "2023-01-08T22:38:55.485Z"
   },
   {
    "duration": 17,
    "start_time": "2023-01-08T22:41:55.665Z"
   },
   {
    "duration": 10,
    "start_time": "2023-01-08T22:46:56.415Z"
   },
   {
    "duration": 11,
    "start_time": "2023-01-08T22:51:48.224Z"
   },
   {
    "duration": 9,
    "start_time": "2023-01-08T22:52:08.485Z"
   },
   {
    "duration": 14,
    "start_time": "2023-01-08T22:52:25.845Z"
   },
   {
    "duration": 12,
    "start_time": "2023-01-08T22:54:29.514Z"
   },
   {
    "duration": 16,
    "start_time": "2023-01-08T22:55:01.136Z"
   },
   {
    "duration": 13,
    "start_time": "2023-01-08T22:55:53.304Z"
   },
   {
    "duration": 11,
    "start_time": "2023-01-08T22:56:12.746Z"
   },
   {
    "duration": 18,
    "start_time": "2023-01-08T22:59:25.485Z"
   },
   {
    "duration": 16,
    "start_time": "2023-01-08T23:00:23.346Z"
   },
   {
    "duration": 18,
    "start_time": "2023-01-08T23:00:59.684Z"
   },
   {
    "duration": 20,
    "start_time": "2023-01-08T23:01:44.417Z"
   },
   {
    "duration": 12,
    "start_time": "2023-01-08T23:02:15.076Z"
   },
   {
    "duration": 10,
    "start_time": "2023-01-08T23:02:59.086Z"
   },
   {
    "duration": 13,
    "start_time": "2023-01-08T23:03:29.525Z"
   },
   {
    "duration": 13,
    "start_time": "2023-01-08T23:04:33.245Z"
   },
   {
    "duration": 13,
    "start_time": "2023-01-08T23:04:45.435Z"
   },
   {
    "duration": 17,
    "start_time": "2023-01-08T23:04:53.523Z"
   },
   {
    "duration": 4,
    "start_time": "2023-01-08T23:05:26.414Z"
   },
   {
    "duration": 13,
    "start_time": "2023-01-08T23:05:41.674Z"
   },
   {
    "duration": 16,
    "start_time": "2023-01-08T23:06:21.874Z"
   },
   {
    "duration": 4,
    "start_time": "2023-01-08T23:07:10.824Z"
   },
   {
    "duration": 13,
    "start_time": "2023-01-08T23:07:19.992Z"
   },
   {
    "duration": 18,
    "start_time": "2023-01-08T23:07:23.965Z"
   },
   {
    "duration": 22,
    "start_time": "2023-01-08T23:07:26.215Z"
   },
   {
    "duration": 4,
    "start_time": "2023-01-08T23:07:52.986Z"
   },
   {
    "duration": 9,
    "start_time": "2023-01-08T23:08:01.375Z"
   },
   {
    "duration": 17,
    "start_time": "2023-01-08T23:08:02.747Z"
   },
   {
    "duration": 17,
    "start_time": "2023-01-08T23:08:04.805Z"
   },
   {
    "duration": 1352,
    "start_time": "2023-01-08T23:08:16.514Z"
   },
   {
    "duration": 410,
    "start_time": "2023-01-08T23:08:17.868Z"
   },
   {
    "duration": 5,
    "start_time": "2023-01-08T23:08:18.280Z"
   },
   {
    "duration": 252,
    "start_time": "2023-01-08T23:08:18.287Z"
   },
   {
    "duration": 244,
    "start_time": "2023-01-08T23:08:18.541Z"
   },
   {
    "duration": 299,
    "start_time": "2023-01-08T23:08:18.787Z"
   },
   {
    "duration": 13,
    "start_time": "2023-01-08T23:08:19.088Z"
   },
   {
    "duration": 20,
    "start_time": "2023-01-08T23:08:19.104Z"
   },
   {
    "duration": 65,
    "start_time": "2023-01-08T23:08:19.126Z"
   },
   {
    "duration": 5,
    "start_time": "2023-01-08T23:08:19.194Z"
   },
   {
    "duration": 62,
    "start_time": "2023-01-08T23:08:19.201Z"
   },
   {
    "duration": 27,
    "start_time": "2023-01-08T23:08:19.265Z"
   },
   {
    "duration": 25,
    "start_time": "2023-01-08T23:08:19.294Z"
   },
   {
    "duration": 5,
    "start_time": "2023-01-08T23:08:19.323Z"
   },
   {
    "duration": 52,
    "start_time": "2023-01-08T23:08:19.331Z"
   },
   {
    "duration": 194,
    "start_time": "2023-01-08T23:08:19.385Z"
   },
   {
    "duration": 114,
    "start_time": "2023-01-08T23:08:19.581Z"
   },
   {
    "duration": 92,
    "start_time": "2023-01-08T23:08:19.699Z"
   },
   {
    "duration": 21,
    "start_time": "2023-01-08T23:08:19.879Z"
   },
   {
    "duration": 31,
    "start_time": "2023-01-08T23:08:19.902Z"
   },
   {
    "duration": 34,
    "start_time": "2023-01-08T23:08:19.935Z"
   },
   {
    "duration": 16,
    "start_time": "2023-01-08T23:08:19.972Z"
   },
   {
    "duration": 36,
    "start_time": "2023-01-08T23:08:19.990Z"
   },
   {
    "duration": 135,
    "start_time": "2023-01-08T23:08:20.028Z"
   },
   {
    "duration": 0,
    "start_time": "2023-01-08T23:08:20.164Z"
   },
   {
    "duration": 0,
    "start_time": "2023-01-08T23:08:20.166Z"
   },
   {
    "duration": 0,
    "start_time": "2023-01-08T23:08:20.167Z"
   },
   {
    "duration": 0,
    "start_time": "2023-01-08T23:08:20.168Z"
   },
   {
    "duration": 0,
    "start_time": "2023-01-08T23:08:20.182Z"
   },
   {
    "duration": 0,
    "start_time": "2023-01-08T23:08:20.184Z"
   },
   {
    "duration": 0,
    "start_time": "2023-01-08T23:08:20.186Z"
   },
   {
    "duration": 15,
    "start_time": "2023-01-08T23:08:39.787Z"
   },
   {
    "duration": 1524,
    "start_time": "2023-01-08T23:09:17.636Z"
   },
   {
    "duration": 369,
    "start_time": "2023-01-08T23:09:21.617Z"
   },
   {
    "duration": 4,
    "start_time": "2023-01-08T23:09:24.395Z"
   },
   {
    "duration": 213,
    "start_time": "2023-01-08T23:09:29.657Z"
   },
   {
    "duration": 205,
    "start_time": "2023-01-08T23:09:34.036Z"
   },
   {
    "duration": 210,
    "start_time": "2023-01-08T23:09:37.917Z"
   },
   {
    "duration": 13,
    "start_time": "2023-01-08T23:09:41.305Z"
   },
   {
    "duration": 10,
    "start_time": "2023-01-08T23:09:45.237Z"
   },
   {
    "duration": 37,
    "start_time": "2023-01-08T23:09:48.249Z"
   },
   {
    "duration": 4,
    "start_time": "2023-01-08T23:09:51.586Z"
   },
   {
    "duration": 25,
    "start_time": "2023-01-08T23:09:55.046Z"
   },
   {
    "duration": 22,
    "start_time": "2023-01-08T23:09:57.796Z"
   },
   {
    "duration": 22,
    "start_time": "2023-01-08T23:10:00.337Z"
   },
   {
    "duration": 4,
    "start_time": "2023-01-08T23:10:04.497Z"
   },
   {
    "duration": 45,
    "start_time": "2023-01-08T23:10:07.035Z"
   },
   {
    "duration": 18,
    "start_time": "2023-01-08T23:10:10.584Z"
   },
   {
    "duration": 17,
    "start_time": "2023-01-08T23:10:12.471Z"
   },
   {
    "duration": 4,
    "start_time": "2023-01-08T23:10:16.506Z"
   },
   {
    "duration": 4,
    "start_time": "2023-01-08T23:10:19.218Z"
   },
   {
    "duration": 3,
    "start_time": "2023-01-08T23:10:37.846Z"
   },
   {
    "duration": 10,
    "start_time": "2023-01-08T23:10:45.006Z"
   },
   {
    "duration": 111,
    "start_time": "2023-01-08T23:10:49.546Z"
   },
   {
    "duration": 18,
    "start_time": "2023-01-08T23:11:34.867Z"
   },
   {
    "duration": 21,
    "start_time": "2023-01-08T23:11:36.236Z"
   },
   {
    "duration": 10,
    "start_time": "2023-01-08T23:11:46.125Z"
   },
   {
    "duration": 10,
    "start_time": "2023-01-08T23:11:47.336Z"
   },
   {
    "duration": 10,
    "start_time": "2023-01-08T23:11:49.616Z"
   },
   {
    "duration": 5,
    "start_time": "2023-01-08T23:11:56.275Z"
   },
   {
    "duration": 3,
    "start_time": "2023-01-08T23:12:27.556Z"
   },
   {
    "duration": 13,
    "start_time": "2023-01-08T23:12:37.116Z"
   },
   {
    "duration": 5,
    "start_time": "2023-01-08T23:13:04.017Z"
   },
   {
    "duration": 12,
    "start_time": "2023-01-08T23:13:10.196Z"
   },
   {
    "duration": 5,
    "start_time": "2023-01-08T23:14:50.466Z"
   },
   {
    "duration": 12,
    "start_time": "2023-01-08T23:14:56.407Z"
   },
   {
    "duration": 5,
    "start_time": "2023-01-08T23:15:47.196Z"
   },
   {
    "duration": 11,
    "start_time": "2023-01-08T23:15:51.203Z"
   },
   {
    "duration": 5,
    "start_time": "2023-01-08T23:19:32.387Z"
   },
   {
    "duration": 3,
    "start_time": "2023-01-08T23:19:34.376Z"
   },
   {
    "duration": 10,
    "start_time": "2023-01-08T23:19:35.546Z"
   },
   {
    "duration": 5,
    "start_time": "2023-01-08T23:19:44.723Z"
   },
   {
    "duration": 3,
    "start_time": "2023-01-08T23:19:47.036Z"
   },
   {
    "duration": 9,
    "start_time": "2023-01-08T23:19:47.687Z"
   },
   {
    "duration": 8,
    "start_time": "2023-01-08T23:19:52.575Z"
   },
   {
    "duration": 6,
    "start_time": "2023-01-08T23:20:14.707Z"
   },
   {
    "duration": 3,
    "start_time": "2023-01-08T23:20:19.807Z"
   },
   {
    "duration": 2854,
    "start_time": "2023-01-08T23:20:20.266Z"
   },
   {
    "duration": 5,
    "start_time": "2023-01-08T23:20:29.055Z"
   },
   {
    "duration": 2,
    "start_time": "2023-01-08T23:20:32.802Z"
   },
   {
    "duration": 18,
    "start_time": "2023-01-08T23:20:34.296Z"
   },
   {
    "duration": 5,
    "start_time": "2023-01-08T23:20:49.647Z"
   },
   {
    "duration": 3,
    "start_time": "2023-01-08T23:20:51.946Z"
   },
   {
    "duration": 2877,
    "start_time": "2023-01-08T23:20:52.996Z"
   },
   {
    "duration": 2732,
    "start_time": "2023-01-08T23:20:57.577Z"
   },
   {
    "duration": 4,
    "start_time": "2023-01-08T23:21:18.135Z"
   },
   {
    "duration": 2,
    "start_time": "2023-01-08T23:21:21.457Z"
   },
   {
    "duration": 2900,
    "start_time": "2023-01-08T23:21:22.457Z"
   },
   {
    "duration": 3,
    "start_time": "2023-01-08T23:22:15.817Z"
   },
   {
    "duration": 5,
    "start_time": "2023-01-08T23:22:23.108Z"
   },
   {
    "duration": 3,
    "start_time": "2023-01-08T23:22:28.906Z"
   },
   {
    "duration": 2874,
    "start_time": "2023-01-08T23:24:12.564Z"
   },
   {
    "duration": 2841,
    "start_time": "2023-01-08T23:25:12.284Z"
   },
   {
    "duration": 25,
    "start_time": "2023-01-08T23:26:10.846Z"
   },
   {
    "duration": 112,
    "start_time": "2023-01-08T23:26:15.666Z"
   },
   {
    "duration": 20,
    "start_time": "2023-01-08T23:26:19.377Z"
   },
   {
    "duration": 4,
    "start_time": "2023-01-08T23:26:29.286Z"
   },
   {
    "duration": 3,
    "start_time": "2023-01-08T23:26:36.103Z"
   },
   {
    "duration": 11,
    "start_time": "2023-01-08T23:26:46.951Z"
   },
   {
    "duration": 9,
    "start_time": "2023-01-08T23:26:49.516Z"
   },
   {
    "duration": 11,
    "start_time": "2023-01-08T23:26:50.746Z"
   },
   {
    "duration": 6,
    "start_time": "2023-01-08T23:26:59.214Z"
   },
   {
    "duration": 3,
    "start_time": "2023-01-08T23:27:02.836Z"
   },
   {
    "duration": 1285,
    "start_time": "2023-01-08T23:27:27.416Z"
   },
   {
    "duration": 1295,
    "start_time": "2023-01-08T23:27:30.427Z"
   },
   {
    "duration": 1341,
    "start_time": "2023-01-08T23:27:33.417Z"
   },
   {
    "duration": 10,
    "start_time": "2023-01-08T23:27:36.156Z"
   },
   {
    "duration": 4,
    "start_time": "2023-01-08T23:28:12.163Z"
   },
   {
    "duration": 12,
    "start_time": "2023-01-08T23:28:23.377Z"
   },
   {
    "duration": 4,
    "start_time": "2023-01-08T23:28:59.224Z"
   },
   {
    "duration": 9,
    "start_time": "2023-01-08T23:29:05.897Z"
   },
   {
    "duration": 10,
    "start_time": "2023-01-08T23:29:07.255Z"
   },
   {
    "duration": 9,
    "start_time": "2023-01-08T23:29:08.686Z"
   },
   {
    "duration": 5,
    "start_time": "2023-01-08T23:29:14.238Z"
   },
   {
    "duration": 3,
    "start_time": "2023-01-08T23:29:18.449Z"
   },
   {
    "duration": 1491,
    "start_time": "2023-01-08T23:29:19.497Z"
   },
   {
    "duration": 1381,
    "start_time": "2023-01-08T23:29:23.796Z"
   },
   {
    "duration": 1485,
    "start_time": "2023-01-08T23:29:26.637Z"
   },
   {
    "duration": 9,
    "start_time": "2023-01-08T23:29:30.636Z"
   },
   {
    "duration": 17,
    "start_time": "2023-01-08T23:30:56.573Z"
   },
   {
    "duration": 13,
    "start_time": "2023-01-08T23:31:24.797Z"
   },
   {
    "duration": 48,
    "start_time": "2023-01-09T18:24:17.994Z"
   },
   {
    "duration": 1540,
    "start_time": "2023-01-09T18:24:30.232Z"
   },
   {
    "duration": 1700,
    "start_time": "2023-01-09T18:24:31.774Z"
   },
   {
    "duration": 4,
    "start_time": "2023-01-09T18:24:33.476Z"
   },
   {
    "duration": 222,
    "start_time": "2023-01-09T18:24:33.481Z"
   },
   {
    "duration": 205,
    "start_time": "2023-01-09T18:24:33.705Z"
   },
   {
    "duration": 265,
    "start_time": "2023-01-09T18:24:33.922Z"
   },
   {
    "duration": 14,
    "start_time": "2023-01-09T18:24:34.189Z"
   },
   {
    "duration": 32,
    "start_time": "2023-01-09T18:24:34.206Z"
   },
   {
    "duration": 60,
    "start_time": "2023-01-09T18:24:34.242Z"
   },
   {
    "duration": 20,
    "start_time": "2023-01-09T18:24:34.304Z"
   },
   {
    "duration": 43,
    "start_time": "2023-01-09T18:24:34.326Z"
   },
   {
    "duration": 20,
    "start_time": "2023-01-09T18:24:34.370Z"
   },
   {
    "duration": 25,
    "start_time": "2023-01-09T18:24:34.392Z"
   },
   {
    "duration": 5,
    "start_time": "2023-01-09T18:24:34.419Z"
   },
   {
    "duration": 102,
    "start_time": "2023-01-09T18:24:34.427Z"
   },
   {
    "duration": 192,
    "start_time": "2023-01-09T18:24:34.531Z"
   },
   {
    "duration": 111,
    "start_time": "2023-01-09T18:24:34.725Z"
   },
   {
    "duration": 86,
    "start_time": "2023-01-09T18:24:34.837Z"
   },
   {
    "duration": 99,
    "start_time": "2023-01-09T18:24:34.925Z"
   },
   {
    "duration": 14,
    "start_time": "2023-01-09T18:24:35.025Z"
   },
   {
    "duration": 44,
    "start_time": "2023-01-09T18:24:35.041Z"
   },
   {
    "duration": 6,
    "start_time": "2023-01-09T18:24:35.087Z"
   },
   {
    "duration": 24,
    "start_time": "2023-01-09T18:24:35.094Z"
   },
   {
    "duration": 22,
    "start_time": "2023-01-09T18:24:35.119Z"
   },
   {
    "duration": 13,
    "start_time": "2023-01-09T18:24:35.142Z"
   },
   {
    "duration": 6,
    "start_time": "2023-01-09T18:24:35.157Z"
   },
   {
    "duration": 26,
    "start_time": "2023-01-09T18:24:35.164Z"
   },
   {
    "duration": 1448,
    "start_time": "2023-01-09T18:24:35.192Z"
   },
   {
    "duration": 1380,
    "start_time": "2023-01-09T18:24:36.642Z"
   },
   {
    "duration": 1354,
    "start_time": "2023-01-09T18:24:38.023Z"
   },
   {
    "duration": 8,
    "start_time": "2023-01-09T18:24:39.379Z"
   },
   {
    "duration": 4,
    "start_time": "2023-01-09T18:25:01.192Z"
   },
   {
    "duration": 1604,
    "start_time": "2023-01-09T18:35:32.157Z"
   },
   {
    "duration": 628,
    "start_time": "2023-01-09T18:35:33.763Z"
   },
   {
    "duration": 4,
    "start_time": "2023-01-09T18:35:34.393Z"
   },
   {
    "duration": 210,
    "start_time": "2023-01-09T18:35:34.399Z"
   },
   {
    "duration": 218,
    "start_time": "2023-01-09T18:35:34.613Z"
   },
   {
    "duration": 257,
    "start_time": "2023-01-09T18:35:34.833Z"
   },
   {
    "duration": 12,
    "start_time": "2023-01-09T18:35:35.091Z"
   },
   {
    "duration": 14,
    "start_time": "2023-01-09T18:35:35.105Z"
   },
   {
    "duration": 46,
    "start_time": "2023-01-09T18:35:35.121Z"
   },
   {
    "duration": 4,
    "start_time": "2023-01-09T18:35:35.176Z"
   },
   {
    "duration": 31,
    "start_time": "2023-01-09T18:35:35.182Z"
   },
   {
    "duration": 23,
    "start_time": "2023-01-09T18:35:35.215Z"
   },
   {
    "duration": 37,
    "start_time": "2023-01-09T18:35:35.240Z"
   },
   {
    "duration": 3,
    "start_time": "2023-01-09T18:35:35.281Z"
   },
   {
    "duration": 192,
    "start_time": "2023-01-09T18:35:35.286Z"
   },
   {
    "duration": 99,
    "start_time": "2023-01-09T18:35:35.481Z"
   },
   {
    "duration": 100,
    "start_time": "2023-01-09T18:35:35.582Z"
   },
   {
    "duration": 95,
    "start_time": "2023-01-09T18:35:35.684Z"
   },
   {
    "duration": 100,
    "start_time": "2023-01-09T18:35:35.781Z"
   },
   {
    "duration": 12,
    "start_time": "2023-01-09T18:35:35.882Z"
   },
   {
    "duration": 17,
    "start_time": "2023-01-09T18:35:35.895Z"
   },
   {
    "duration": 2,
    "start_time": "2023-01-09T18:35:35.913Z"
   },
   {
    "duration": 13,
    "start_time": "2023-01-09T18:35:35.917Z"
   },
   {
    "duration": 8,
    "start_time": "2023-01-09T18:35:35.932Z"
   },
   {
    "duration": 37,
    "start_time": "2023-01-09T18:35:35.941Z"
   },
   {
    "duration": 5,
    "start_time": "2023-01-09T18:35:35.980Z"
   },
   {
    "duration": 8,
    "start_time": "2023-01-09T18:35:35.987Z"
   },
   {
    "duration": 1488,
    "start_time": "2023-01-09T18:35:35.996Z"
   },
   {
    "duration": 1366,
    "start_time": "2023-01-09T18:35:37.486Z"
   },
   {
    "duration": 1306,
    "start_time": "2023-01-09T18:35:38.854Z"
   },
   {
    "duration": 17,
    "start_time": "2023-01-09T18:35:40.162Z"
   },
   {
    "duration": 5,
    "start_time": "2023-01-09T18:38:37.669Z"
   },
   {
    "duration": 8,
    "start_time": "2023-01-09T18:39:02.438Z"
   },
   {
    "duration": 122,
    "start_time": "2023-01-09T18:42:03.269Z"
   },
   {
    "duration": 11,
    "start_time": "2023-01-09T18:42:34.649Z"
   },
   {
    "duration": 13,
    "start_time": "2023-01-09T18:43:12.337Z"
   },
   {
    "duration": 12,
    "start_time": "2023-01-09T19:16:01.331Z"
   },
   {
    "duration": 10,
    "start_time": "2023-01-09T19:21:02.561Z"
   },
   {
    "duration": 10,
    "start_time": "2023-01-09T19:21:14.535Z"
   },
   {
    "duration": 4,
    "start_time": "2023-01-09T19:22:40.130Z"
   },
   {
    "duration": 9,
    "start_time": "2023-01-09T19:22:52.429Z"
   },
   {
    "duration": 11,
    "start_time": "2023-01-09T19:23:00.010Z"
   },
   {
    "duration": 10,
    "start_time": "2023-01-09T19:23:02.100Z"
   },
   {
    "duration": 5,
    "start_time": "2023-01-09T19:29:19.773Z"
   },
   {
    "duration": 3,
    "start_time": "2023-01-09T19:29:23.670Z"
   },
   {
    "duration": 25,
    "start_time": "2023-01-09T19:29:25.951Z"
   },
   {
    "duration": 26,
    "start_time": "2023-01-09T19:30:14.872Z"
   },
   {
    "duration": 9,
    "start_time": "2023-01-09T19:31:04.784Z"
   },
   {
    "duration": 21,
    "start_time": "2023-01-09T19:31:11.243Z"
   },
   {
    "duration": 1451,
    "start_time": "2023-01-09T22:18:26.455Z"
   },
   {
    "duration": 1938,
    "start_time": "2023-01-09T22:18:27.908Z"
   },
   {
    "duration": 4,
    "start_time": "2023-01-09T22:18:29.848Z"
   },
   {
    "duration": 204,
    "start_time": "2023-01-09T22:18:29.854Z"
   },
   {
    "duration": 191,
    "start_time": "2023-01-09T22:18:30.059Z"
   },
   {
    "duration": 217,
    "start_time": "2023-01-09T22:18:30.252Z"
   },
   {
    "duration": 12,
    "start_time": "2023-01-09T22:18:30.470Z"
   },
   {
    "duration": 29,
    "start_time": "2023-01-09T22:18:30.483Z"
   },
   {
    "duration": 83,
    "start_time": "2023-01-09T22:18:30.513Z"
   },
   {
    "duration": 4,
    "start_time": "2023-01-09T22:18:30.598Z"
   },
   {
    "duration": 60,
    "start_time": "2023-01-09T22:18:30.603Z"
   },
   {
    "duration": 24,
    "start_time": "2023-01-09T22:18:30.665Z"
   },
   {
    "duration": 29,
    "start_time": "2023-01-09T22:18:30.691Z"
   },
   {
    "duration": 16,
    "start_time": "2023-01-09T22:18:30.723Z"
   },
   {
    "duration": 181,
    "start_time": "2023-01-09T22:18:30.741Z"
   },
   {
    "duration": 105,
    "start_time": "2023-01-09T22:18:30.924Z"
   },
   {
    "duration": 108,
    "start_time": "2023-01-09T22:18:31.032Z"
   },
   {
    "duration": 80,
    "start_time": "2023-01-09T22:18:31.142Z"
   },
   {
    "duration": 3,
    "start_time": "2023-01-09T22:18:31.225Z"
   },
   {
    "duration": 117,
    "start_time": "2023-01-09T22:18:31.230Z"
   },
   {
    "duration": 26,
    "start_time": "2023-01-09T22:18:31.348Z"
   },
   {
    "duration": 28,
    "start_time": "2023-01-09T22:18:31.375Z"
   },
   {
    "duration": 17,
    "start_time": "2023-01-09T22:18:31.404Z"
   },
   {
    "duration": 21,
    "start_time": "2023-01-09T22:18:31.423Z"
   },
   {
    "duration": 9,
    "start_time": "2023-01-09T22:18:31.446Z"
   },
   {
    "duration": 4,
    "start_time": "2023-01-09T22:18:31.457Z"
   },
   {
    "duration": 16,
    "start_time": "2023-01-09T22:18:31.463Z"
   },
   {
    "duration": 127,
    "start_time": "2023-01-09T22:18:31.481Z"
   },
   {
    "duration": 0,
    "start_time": "2023-01-09T22:18:31.610Z"
   },
   {
    "duration": 0,
    "start_time": "2023-01-09T22:18:31.611Z"
   },
   {
    "duration": 0,
    "start_time": "2023-01-09T22:18:31.613Z"
   },
   {
    "duration": 11,
    "start_time": "2023-01-09T22:21:28.865Z"
   },
   {
    "duration": 13,
    "start_time": "2023-01-09T22:21:38.436Z"
   },
   {
    "duration": 14,
    "start_time": "2023-01-09T22:22:14.577Z"
   },
   {
    "duration": 10,
    "start_time": "2023-01-09T22:45:18.248Z"
   },
   {
    "duration": 5,
    "start_time": "2023-01-09T22:45:32.688Z"
   },
   {
    "duration": 4,
    "start_time": "2023-01-09T22:55:59.447Z"
   },
   {
    "duration": 6,
    "start_time": "2023-01-09T22:56:27.608Z"
   },
   {
    "duration": 4,
    "start_time": "2023-01-09T22:56:54.457Z"
   },
   {
    "duration": 10,
    "start_time": "2023-01-09T22:56:55.618Z"
   },
   {
    "duration": 4,
    "start_time": "2023-01-09T22:57:47.346Z"
   },
   {
    "duration": 9,
    "start_time": "2023-01-09T22:57:48.967Z"
   },
   {
    "duration": 3,
    "start_time": "2023-01-09T22:58:05.007Z"
   },
   {
    "duration": 7,
    "start_time": "2023-01-09T22:58:07.318Z"
   },
   {
    "duration": 3,
    "start_time": "2023-01-09T22:58:17.439Z"
   },
   {
    "duration": 6,
    "start_time": "2023-01-09T22:58:19.149Z"
   },
   {
    "duration": 3,
    "start_time": "2023-01-09T22:58:55.248Z"
   },
   {
    "duration": 12,
    "start_time": "2023-01-09T22:58:56.808Z"
   },
   {
    "duration": 3,
    "start_time": "2023-01-09T22:59:14.898Z"
   },
   {
    "duration": 11,
    "start_time": "2023-01-09T22:59:15.877Z"
   },
   {
    "duration": 3,
    "start_time": "2023-01-09T22:59:36.926Z"
   },
   {
    "duration": 8,
    "start_time": "2023-01-09T22:59:37.798Z"
   },
   {
    "duration": 3,
    "start_time": "2023-01-09T23:00:13.928Z"
   },
   {
    "duration": 8,
    "start_time": "2023-01-09T23:00:16.217Z"
   },
   {
    "duration": 3,
    "start_time": "2023-01-09T23:00:35.748Z"
   },
   {
    "duration": 8,
    "start_time": "2023-01-09T23:00:36.757Z"
   },
   {
    "duration": 5,
    "start_time": "2023-01-09T23:01:13.998Z"
   },
   {
    "duration": 10,
    "start_time": "2023-01-09T23:01:15.477Z"
   },
   {
    "duration": 3,
    "start_time": "2023-01-09T23:01:59.658Z"
   },
   {
    "duration": 7,
    "start_time": "2023-01-09T23:02:01.047Z"
   },
   {
    "duration": 3,
    "start_time": "2023-01-09T23:08:42.857Z"
   },
   {
    "duration": 4,
    "start_time": "2023-01-09T23:11:50.027Z"
   },
   {
    "duration": 22,
    "start_time": "2023-01-09T23:11:51.607Z"
   },
   {
    "duration": 4,
    "start_time": "2023-01-09T23:12:20.279Z"
   },
   {
    "duration": 20,
    "start_time": "2023-01-09T23:12:21.327Z"
   },
   {
    "duration": 19,
    "start_time": "2023-01-09T23:12:37.136Z"
   },
   {
    "duration": 4,
    "start_time": "2023-01-09T23:13:47.717Z"
   },
   {
    "duration": 21,
    "start_time": "2023-01-09T23:13:48.944Z"
   },
   {
    "duration": 3,
    "start_time": "2023-01-09T23:14:50.257Z"
   },
   {
    "duration": 18,
    "start_time": "2023-01-09T23:14:51.894Z"
   },
   {
    "duration": 4,
    "start_time": "2023-01-09T23:15:25.168Z"
   },
   {
    "duration": 15,
    "start_time": "2023-01-09T23:15:25.886Z"
   },
   {
    "duration": 4,
    "start_time": "2023-01-09T23:15:39.088Z"
   },
   {
    "duration": 15,
    "start_time": "2023-01-09T23:15:40.287Z"
   },
   {
    "duration": 17,
    "start_time": "2023-01-09T23:15:58.717Z"
   },
   {
    "duration": 4,
    "start_time": "2023-01-09T23:16:42.415Z"
   },
   {
    "duration": 98,
    "start_time": "2023-01-09T23:16:43.624Z"
   },
   {
    "duration": 4,
    "start_time": "2023-01-09T23:17:32.147Z"
   },
   {
    "duration": 16,
    "start_time": "2023-01-09T23:17:33.515Z"
   },
   {
    "duration": 4,
    "start_time": "2023-01-09T23:18:14.645Z"
   },
   {
    "duration": 94,
    "start_time": "2023-01-09T23:18:15.428Z"
   },
   {
    "duration": 4,
    "start_time": "2023-01-09T23:19:58.856Z"
   },
   {
    "duration": 35,
    "start_time": "2023-01-09T23:20:00.188Z"
   },
   {
    "duration": 5,
    "start_time": "2023-01-09T23:20:05.838Z"
   },
   {
    "duration": 18,
    "start_time": "2023-01-09T23:20:07.449Z"
   },
   {
    "duration": 31,
    "start_time": "2023-01-09T23:20:50.195Z"
   },
   {
    "duration": 16,
    "start_time": "2023-01-09T23:21:16.867Z"
   },
   {
    "duration": 3,
    "start_time": "2023-01-09T23:24:11.046Z"
   },
   {
    "duration": 10,
    "start_time": "2023-01-09T23:25:58.619Z"
   },
   {
    "duration": 3,
    "start_time": "2023-01-09T23:26:09.978Z"
   },
   {
    "duration": 9,
    "start_time": "2023-01-09T23:26:15.718Z"
   },
   {
    "duration": 85,
    "start_time": "2023-01-09T23:27:37.939Z"
   },
   {
    "duration": 4,
    "start_time": "2023-01-09T23:28:15.077Z"
   },
   {
    "duration": 15,
    "start_time": "2023-01-09T23:28:19.437Z"
   },
   {
    "duration": 16,
    "start_time": "2023-01-09T23:29:40.609Z"
   },
   {
    "duration": 15,
    "start_time": "2023-01-09T23:29:57.299Z"
   },
   {
    "duration": 18,
    "start_time": "2023-01-09T23:30:10.479Z"
   },
   {
    "duration": 18,
    "start_time": "2023-01-09T23:30:33.938Z"
   },
   {
    "duration": 17,
    "start_time": "2023-01-09T23:30:49.719Z"
   },
   {
    "duration": 15,
    "start_time": "2023-01-09T23:31:46.649Z"
   },
   {
    "duration": 17,
    "start_time": "2023-01-09T23:32:38.389Z"
   },
   {
    "duration": 16,
    "start_time": "2023-01-09T23:32:42.387Z"
   },
   {
    "duration": 3,
    "start_time": "2023-01-09T23:33:00.398Z"
   },
   {
    "duration": 3,
    "start_time": "2023-01-09T23:33:05.150Z"
   },
   {
    "duration": 4,
    "start_time": "2023-01-09T23:33:19.339Z"
   },
   {
    "duration": 3,
    "start_time": "2023-01-09T23:34:15.023Z"
   },
   {
    "duration": 7,
    "start_time": "2023-01-09T23:34:17.540Z"
   },
   {
    "duration": 3,
    "start_time": "2023-01-09T23:34:50.108Z"
   },
   {
    "duration": 6,
    "start_time": "2023-01-09T23:35:04.128Z"
   },
   {
    "duration": 7,
    "start_time": "2023-01-09T23:35:50.378Z"
   },
   {
    "duration": 7,
    "start_time": "2023-01-09T23:35:52.318Z"
   },
   {
    "duration": 8,
    "start_time": "2023-01-09T23:35:53.988Z"
   },
   {
    "duration": 5,
    "start_time": "2023-01-09T23:41:16.999Z"
   },
   {
    "duration": 1038,
    "start_time": "2023-01-09T23:41:43.399Z"
   },
   {
    "duration": 1008,
    "start_time": "2023-01-09T23:42:01.159Z"
   },
   {
    "duration": 981,
    "start_time": "2023-01-09T23:42:06.400Z"
   },
   {
    "duration": 2,
    "start_time": "2023-01-09T23:42:21.569Z"
   },
   {
    "duration": 1036,
    "start_time": "2023-01-09T23:42:36.149Z"
   },
   {
    "duration": 1056,
    "start_time": "2023-01-09T23:42:44.578Z"
   },
   {
    "duration": 1018,
    "start_time": "2023-01-09T23:42:49.189Z"
   },
   {
    "duration": 8,
    "start_time": "2023-01-09T23:42:56.337Z"
   },
   {
    "duration": 15,
    "start_time": "2023-01-09T23:50:42.960Z"
   },
   {
    "duration": 14,
    "start_time": "2023-01-09T23:50:58.246Z"
   },
   {
    "duration": 10,
    "start_time": "2023-01-09T23:51:11.339Z"
   },
   {
    "duration": 3,
    "start_time": "2023-01-10T00:26:43.329Z"
   },
   {
    "duration": 9,
    "start_time": "2023-01-10T00:26:51.496Z"
   },
   {
    "duration": 9,
    "start_time": "2023-01-10T00:27:02.859Z"
   },
   {
    "duration": 1265,
    "start_time": "2023-01-10T00:41:49.265Z"
   },
   {
    "duration": 335,
    "start_time": "2023-01-10T00:41:50.532Z"
   },
   {
    "duration": 3,
    "start_time": "2023-01-10T00:41:50.869Z"
   },
   {
    "duration": 206,
    "start_time": "2023-01-10T00:41:50.873Z"
   },
   {
    "duration": 184,
    "start_time": "2023-01-10T00:41:51.082Z"
   },
   {
    "duration": 199,
    "start_time": "2023-01-10T00:41:51.268Z"
   },
   {
    "duration": 11,
    "start_time": "2023-01-10T00:41:51.469Z"
   },
   {
    "duration": 13,
    "start_time": "2023-01-10T00:41:51.481Z"
   },
   {
    "duration": 47,
    "start_time": "2023-01-10T00:41:51.495Z"
   },
   {
    "duration": 4,
    "start_time": "2023-01-10T00:41:51.543Z"
   },
   {
    "duration": 26,
    "start_time": "2023-01-10T00:41:51.549Z"
   },
   {
    "duration": 21,
    "start_time": "2023-01-10T00:41:51.577Z"
   },
   {
    "duration": 37,
    "start_time": "2023-01-10T00:41:51.599Z"
   },
   {
    "duration": 4,
    "start_time": "2023-01-10T00:41:51.639Z"
   },
   {
    "duration": 79,
    "start_time": "2023-01-10T00:41:51.645Z"
   },
   {
    "duration": 196,
    "start_time": "2023-01-10T00:41:51.726Z"
   },
   {
    "duration": 103,
    "start_time": "2023-01-10T00:41:51.925Z"
   },
   {
    "duration": 4,
    "start_time": "2023-01-10T00:41:52.030Z"
   },
   {
    "duration": 101,
    "start_time": "2023-01-10T00:41:52.123Z"
   },
   {
    "duration": 19,
    "start_time": "2023-01-10T00:41:52.225Z"
   },
   {
    "duration": 11,
    "start_time": "2023-01-10T00:41:52.246Z"
   },
   {
    "duration": 4,
    "start_time": "2023-01-10T00:41:52.259Z"
   },
   {
    "duration": 12,
    "start_time": "2023-01-10T00:41:52.265Z"
   },
   {
    "duration": 43,
    "start_time": "2023-01-10T00:41:52.279Z"
   },
   {
    "duration": 9,
    "start_time": "2023-01-10T00:41:52.324Z"
   },
   {
    "duration": 14,
    "start_time": "2023-01-10T00:41:52.335Z"
   },
   {
    "duration": 6,
    "start_time": "2023-01-10T00:41:52.350Z"
   },
   {
    "duration": 10,
    "start_time": "2023-01-10T00:41:52.357Z"
   },
   {
    "duration": 1153,
    "start_time": "2023-01-10T00:41:52.369Z"
   },
   {
    "duration": 1184,
    "start_time": "2023-01-10T00:41:53.523Z"
   },
   {
    "duration": 1203,
    "start_time": "2023-01-10T00:41:54.708Z"
   },
   {
    "duration": 1220,
    "start_time": "2023-01-10T00:41:55.913Z"
   },
   {
    "duration": 8,
    "start_time": "2023-01-10T00:41:57.135Z"
   },
   {
    "duration": 1275,
    "start_time": "2023-01-10T00:45:47.847Z"
   },
   {
    "duration": 341,
    "start_time": "2023-01-10T00:45:49.124Z"
   },
   {
    "duration": 3,
    "start_time": "2023-01-10T00:45:49.467Z"
   },
   {
    "duration": 207,
    "start_time": "2023-01-10T00:45:49.472Z"
   },
   {
    "duration": 192,
    "start_time": "2023-01-10T00:45:49.681Z"
   },
   {
    "duration": 201,
    "start_time": "2023-01-10T00:45:49.875Z"
   },
   {
    "duration": 11,
    "start_time": "2023-01-10T00:45:50.078Z"
   },
   {
    "duration": 26,
    "start_time": "2023-01-10T00:45:50.090Z"
   },
   {
    "duration": 51,
    "start_time": "2023-01-10T00:45:50.117Z"
   },
   {
    "duration": 3,
    "start_time": "2023-01-10T00:45:50.171Z"
   },
   {
    "duration": 57,
    "start_time": "2023-01-10T00:45:50.175Z"
   },
   {
    "duration": 38,
    "start_time": "2023-01-10T00:45:50.234Z"
   },
   {
    "duration": 37,
    "start_time": "2023-01-10T00:45:50.274Z"
   },
   {
    "duration": 4,
    "start_time": "2023-01-10T00:45:50.312Z"
   },
   {
    "duration": 59,
    "start_time": "2023-01-10T00:45:50.317Z"
   },
   {
    "duration": 160,
    "start_time": "2023-01-10T00:45:50.378Z"
   },
   {
    "duration": 190,
    "start_time": "2023-01-10T00:45:50.540Z"
   },
   {
    "duration": 189,
    "start_time": "2023-01-10T00:45:50.734Z"
   },
   {
    "duration": 31,
    "start_time": "2023-01-10T00:45:50.925Z"
   },
   {
    "duration": 40,
    "start_time": "2023-01-10T00:45:50.957Z"
   },
   {
    "duration": 30,
    "start_time": "2023-01-10T00:45:50.999Z"
   },
   {
    "duration": 38,
    "start_time": "2023-01-10T00:45:51.030Z"
   },
   {
    "duration": 29,
    "start_time": "2023-01-10T00:45:51.070Z"
   },
   {
    "duration": 31,
    "start_time": "2023-01-10T00:45:51.101Z"
   },
   {
    "duration": 32,
    "start_time": "2023-01-10T00:45:51.134Z"
   },
   {
    "duration": 31,
    "start_time": "2023-01-10T00:45:51.167Z"
   },
   {
    "duration": 23,
    "start_time": "2023-01-10T00:45:51.199Z"
   },
   {
    "duration": 37,
    "start_time": "2023-01-10T00:45:51.224Z"
   },
   {
    "duration": 1262,
    "start_time": "2023-01-10T00:45:51.263Z"
   },
   {
    "duration": 1178,
    "start_time": "2023-01-10T00:45:52.527Z"
   },
   {
    "duration": 1212,
    "start_time": "2023-01-10T00:45:53.707Z"
   },
   {
    "duration": 1215,
    "start_time": "2023-01-10T00:45:54.922Z"
   },
   {
    "duration": 9,
    "start_time": "2023-01-10T00:45:56.139Z"
   },
   {
    "duration": 1288,
    "start_time": "2023-01-10T01:27:40.551Z"
   },
   {
    "duration": 340,
    "start_time": "2023-01-10T01:27:41.841Z"
   },
   {
    "duration": 4,
    "start_time": "2023-01-10T01:27:42.182Z"
   },
   {
    "duration": 201,
    "start_time": "2023-01-10T01:27:42.188Z"
   },
   {
    "duration": 190,
    "start_time": "2023-01-10T01:27:42.391Z"
   },
   {
    "duration": 195,
    "start_time": "2023-01-10T01:27:42.582Z"
   },
   {
    "duration": 11,
    "start_time": "2023-01-10T01:27:42.779Z"
   },
   {
    "duration": 12,
    "start_time": "2023-01-10T01:27:42.792Z"
   },
   {
    "duration": 47,
    "start_time": "2023-01-10T01:27:42.805Z"
   },
   {
    "duration": 4,
    "start_time": "2023-01-10T01:27:42.853Z"
   },
   {
    "duration": 29,
    "start_time": "2023-01-10T01:27:42.858Z"
   },
   {
    "duration": 19,
    "start_time": "2023-01-10T01:27:42.888Z"
   },
   {
    "duration": 19,
    "start_time": "2023-01-10T01:27:42.922Z"
   },
   {
    "duration": 4,
    "start_time": "2023-01-10T01:27:42.943Z"
   },
   {
    "duration": 78,
    "start_time": "2023-01-10T01:27:42.948Z"
   },
   {
    "duration": 103,
    "start_time": "2023-01-10T01:27:43.027Z"
   },
   {
    "duration": 190,
    "start_time": "2023-01-10T01:27:43.132Z"
   },
   {
    "duration": 3,
    "start_time": "2023-01-10T01:27:43.325Z"
   },
   {
    "duration": 96,
    "start_time": "2023-01-10T01:27:43.330Z"
   },
   {
    "duration": 17,
    "start_time": "2023-01-10T01:27:43.427Z"
   },
   {
    "duration": 11,
    "start_time": "2023-01-10T01:27:43.445Z"
   },
   {
    "duration": 3,
    "start_time": "2023-01-10T01:27:43.457Z"
   },
   {
    "duration": 12,
    "start_time": "2023-01-10T01:27:43.462Z"
   },
   {
    "duration": 8,
    "start_time": "2023-01-10T01:27:43.476Z"
   },
   {
    "duration": 45,
    "start_time": "2023-01-10T01:27:43.485Z"
   },
   {
    "duration": 4,
    "start_time": "2023-01-10T01:27:43.531Z"
   },
   {
    "duration": 7,
    "start_time": "2023-01-10T01:27:43.537Z"
   },
   {
    "duration": 1234,
    "start_time": "2023-01-10T01:27:43.546Z"
   },
   {
    "duration": 1190,
    "start_time": "2023-01-10T01:27:44.782Z"
   },
   {
    "duration": 1169,
    "start_time": "2023-01-10T01:27:45.974Z"
   },
   {
    "duration": 8,
    "start_time": "2023-01-10T01:27:47.145Z"
   },
   {
    "duration": 1367,
    "start_time": "2023-01-10T01:29:01.640Z"
   },
   {
    "duration": 362,
    "start_time": "2023-01-10T01:29:03.009Z"
   },
   {
    "duration": 4,
    "start_time": "2023-01-10T01:29:03.373Z"
   },
   {
    "duration": 211,
    "start_time": "2023-01-10T01:29:03.378Z"
   },
   {
    "duration": 203,
    "start_time": "2023-01-10T01:29:03.591Z"
   },
   {
    "duration": 215,
    "start_time": "2023-01-10T01:29:03.796Z"
   },
   {
    "duration": 12,
    "start_time": "2023-01-10T01:29:04.023Z"
   },
   {
    "duration": 18,
    "start_time": "2023-01-10T01:29:04.036Z"
   },
   {
    "duration": 48,
    "start_time": "2023-01-10T01:29:04.056Z"
   },
   {
    "duration": 3,
    "start_time": "2023-01-10T01:29:04.106Z"
   },
   {
    "duration": 23,
    "start_time": "2023-01-10T01:29:04.122Z"
   },
   {
    "duration": 19,
    "start_time": "2023-01-10T01:29:04.147Z"
   },
   {
    "duration": 20,
    "start_time": "2023-01-10T01:29:04.168Z"
   },
   {
    "duration": 35,
    "start_time": "2023-01-10T01:29:04.191Z"
   },
   {
    "duration": 94,
    "start_time": "2023-01-10T01:29:04.228Z"
   },
   {
    "duration": 108,
    "start_time": "2023-01-10T01:29:04.324Z"
   },
   {
    "duration": 193,
    "start_time": "2023-01-10T01:29:04.434Z"
   },
   {
    "duration": 114,
    "start_time": "2023-01-10T01:29:04.629Z"
   },
   {
    "duration": 5,
    "start_time": "2023-01-10T01:29:04.745Z"
   },
   {
    "duration": 72,
    "start_time": "2023-01-10T01:29:04.751Z"
   },
   {
    "duration": 6,
    "start_time": "2023-01-10T01:29:04.825Z"
   },
   {
    "duration": 10,
    "start_time": "2023-01-10T01:29:04.833Z"
   },
   {
    "duration": 13,
    "start_time": "2023-01-10T01:29:04.845Z"
   },
   {
    "duration": 9,
    "start_time": "2023-01-10T01:29:04.859Z"
   },
   {
    "duration": 13,
    "start_time": "2023-01-10T01:29:04.870Z"
   },
   {
    "duration": 5,
    "start_time": "2023-01-10T01:29:04.884Z"
   },
   {
    "duration": 12,
    "start_time": "2023-01-10T01:29:04.891Z"
   },
   {
    "duration": 1243,
    "start_time": "2023-01-10T01:29:04.904Z"
   },
   {
    "duration": 1202,
    "start_time": "2023-01-10T01:29:06.149Z"
   },
   {
    "duration": 1182,
    "start_time": "2023-01-10T01:29:07.353Z"
   },
   {
    "duration": 8,
    "start_time": "2023-01-10T01:29:08.536Z"
   },
   {
    "duration": 17,
    "start_time": "2023-01-10T01:29:47.665Z"
   },
   {
    "duration": 10,
    "start_time": "2023-01-10T01:30:13.177Z"
   },
   {
    "duration": 1332,
    "start_time": "2023-01-10T14:46:42.124Z"
   },
   {
    "duration": 317,
    "start_time": "2023-01-10T14:46:43.458Z"
   },
   {
    "duration": 4,
    "start_time": "2023-01-10T14:46:43.776Z"
   },
   {
    "duration": 210,
    "start_time": "2023-01-10T14:46:43.781Z"
   },
   {
    "duration": 197,
    "start_time": "2023-01-10T14:46:43.993Z"
   },
   {
    "duration": 205,
    "start_time": "2023-01-10T14:46:44.192Z"
   },
   {
    "duration": 11,
    "start_time": "2023-01-10T14:46:44.399Z"
   },
   {
    "duration": 23,
    "start_time": "2023-01-10T14:46:44.411Z"
   },
   {
    "duration": 39,
    "start_time": "2023-01-10T14:46:44.436Z"
   },
   {
    "duration": 4,
    "start_time": "2023-01-10T14:46:44.476Z"
   },
   {
    "duration": 29,
    "start_time": "2023-01-10T14:46:44.481Z"
   },
   {
    "duration": 20,
    "start_time": "2023-01-10T14:46:44.526Z"
   },
   {
    "duration": 18,
    "start_time": "2023-01-10T14:46:44.548Z"
   },
   {
    "duration": 4,
    "start_time": "2023-01-10T14:46:44.569Z"
   },
   {
    "duration": 153,
    "start_time": "2023-01-10T14:46:44.574Z"
   },
   {
    "duration": 19,
    "start_time": "2023-01-10T14:46:44.729Z"
   },
   {
    "duration": 83,
    "start_time": "2023-01-10T14:46:44.750Z"
   },
   {
    "duration": 92,
    "start_time": "2023-01-10T14:46:44.835Z"
   },
   {
    "duration": 3,
    "start_time": "2023-01-10T14:46:44.929Z"
   },
   {
    "duration": 115,
    "start_time": "2023-01-10T14:46:44.934Z"
   },
   {
    "duration": 14,
    "start_time": "2023-01-10T14:46:45.051Z"
   },
   {
    "duration": 15,
    "start_time": "2023-01-10T14:46:45.066Z"
   },
   {
    "duration": 18,
    "start_time": "2023-01-10T14:46:45.082Z"
   },
   {
    "duration": 18,
    "start_time": "2023-01-10T14:46:45.101Z"
   },
   {
    "duration": 11,
    "start_time": "2023-01-10T14:46:45.121Z"
   },
   {
    "duration": 7,
    "start_time": "2023-01-10T14:46:45.134Z"
   },
   {
    "duration": 9,
    "start_time": "2023-01-10T14:46:45.143Z"
   },
   {
    "duration": 1974,
    "start_time": "2023-01-10T14:46:45.154Z"
   },
   {
    "duration": 1733,
    "start_time": "2023-01-10T14:46:47.130Z"
   },
   {
    "duration": 1791,
    "start_time": "2023-01-10T14:46:48.865Z"
   },
   {
    "duration": 9,
    "start_time": "2023-01-10T14:46:50.658Z"
   },
   {
    "duration": 1300,
    "start_time": "2023-01-10T14:48:00.876Z"
   },
   {
    "duration": 328,
    "start_time": "2023-01-10T14:48:02.178Z"
   },
   {
    "duration": 4,
    "start_time": "2023-01-10T14:48:02.507Z"
   },
   {
    "duration": 192,
    "start_time": "2023-01-10T14:48:02.512Z"
   },
   {
    "duration": 187,
    "start_time": "2023-01-10T14:48:02.706Z"
   },
   {
    "duration": 197,
    "start_time": "2023-01-10T14:48:02.894Z"
   },
   {
    "duration": 12,
    "start_time": "2023-01-10T14:48:03.093Z"
   },
   {
    "duration": 28,
    "start_time": "2023-01-10T14:48:03.107Z"
   },
   {
    "duration": 44,
    "start_time": "2023-01-10T14:48:03.136Z"
   },
   {
    "duration": 3,
    "start_time": "2023-01-10T14:48:03.181Z"
   },
   {
    "duration": 31,
    "start_time": "2023-01-10T14:48:03.186Z"
   },
   {
    "duration": 21,
    "start_time": "2023-01-10T14:48:03.218Z"
   },
   {
    "duration": 19,
    "start_time": "2023-01-10T14:48:03.240Z"
   },
   {
    "duration": 4,
    "start_time": "2023-01-10T14:48:03.261Z"
   },
   {
    "duration": 61,
    "start_time": "2023-01-10T14:48:03.266Z"
   },
   {
    "duration": 103,
    "start_time": "2023-01-10T14:48:03.329Z"
   },
   {
    "duration": 193,
    "start_time": "2023-01-10T14:48:03.434Z"
   },
   {
    "duration": 100,
    "start_time": "2023-01-10T14:48:03.628Z"
   },
   {
    "duration": 6,
    "start_time": "2023-01-10T14:48:03.729Z"
   },
   {
    "duration": 18,
    "start_time": "2023-01-10T14:48:03.736Z"
   },
   {
    "duration": 10,
    "start_time": "2023-01-10T14:48:03.755Z"
   },
   {
    "duration": 6,
    "start_time": "2023-01-10T14:48:03.767Z"
   },
   {
    "duration": 17,
    "start_time": "2023-01-10T14:48:03.774Z"
   },
   {
    "duration": 41,
    "start_time": "2023-01-10T14:48:03.792Z"
   },
   {
    "duration": 10,
    "start_time": "2023-01-10T14:48:03.834Z"
   },
   {
    "duration": 5,
    "start_time": "2023-01-10T14:48:03.846Z"
   },
   {
    "duration": 26,
    "start_time": "2023-01-10T14:48:03.853Z"
   },
   {
    "duration": 10877,
    "start_time": "2023-01-10T14:48:03.881Z"
   },
   {
    "duration": 10971,
    "start_time": "2023-01-10T14:48:14.760Z"
   },
   {
    "duration": 11221,
    "start_time": "2023-01-10T14:48:25.733Z"
   },
   {
    "duration": 11,
    "start_time": "2023-01-10T14:48:36.955Z"
   },
   {
    "duration": 1543,
    "start_time": "2023-01-10T18:23:48.258Z"
   },
   {
    "duration": 1596,
    "start_time": "2023-01-10T18:23:52.907Z"
   },
   {
    "duration": 4,
    "start_time": "2023-01-10T18:24:13.678Z"
   },
   {
    "duration": 217,
    "start_time": "2023-01-10T18:24:19.667Z"
   },
   {
    "duration": 236,
    "start_time": "2023-01-10T18:24:27.118Z"
   },
   {
    "duration": 217,
    "start_time": "2023-01-10T18:24:34.135Z"
   },
   {
    "duration": 13,
    "start_time": "2023-01-10T18:24:38.617Z"
   },
   {
    "duration": 10,
    "start_time": "2023-01-10T18:24:43.900Z"
   },
   {
    "duration": 35,
    "start_time": "2023-01-10T18:24:46.958Z"
   },
   {
    "duration": 4,
    "start_time": "2023-01-10T18:24:54.108Z"
   },
   {
    "duration": 24,
    "start_time": "2023-01-10T18:24:57.568Z"
   },
   {
    "duration": 21,
    "start_time": "2023-01-10T18:25:00.267Z"
   },
   {
    "duration": 21,
    "start_time": "2023-01-10T18:25:02.828Z"
   },
   {
    "duration": 4,
    "start_time": "2023-01-10T18:25:10.058Z"
   },
   {
    "duration": 61,
    "start_time": "2023-01-10T18:25:17.592Z"
   },
   {
    "duration": 17,
    "start_time": "2023-01-10T18:25:26.792Z"
   },
   {
    "duration": 14,
    "start_time": "2023-01-10T18:25:31.368Z"
   },
   {
    "duration": 3,
    "start_time": "2023-01-10T18:25:39.555Z"
   },
   {
    "duration": 4,
    "start_time": "2023-01-10T18:25:44.097Z"
   },
   {
    "duration": 16,
    "start_time": "2023-01-10T18:25:55.917Z"
   },
   {
    "duration": 12,
    "start_time": "2023-01-10T18:26:08.317Z"
   },
   {
    "duration": 3,
    "start_time": "2023-01-10T18:26:15.618Z"
   },
   {
    "duration": 9,
    "start_time": "2023-01-10T18:26:21.098Z"
   },
   {
    "duration": 11,
    "start_time": "2023-01-10T18:26:23.727Z"
   },
   {
    "duration": 12,
    "start_time": "2023-01-10T18:26:24.932Z"
   },
   {
    "duration": 5,
    "start_time": "2023-01-10T18:26:30.248Z"
   },
   {
    "duration": 3,
    "start_time": "2023-01-10T18:26:39.047Z"
   },
   {
    "duration": 1311,
    "start_time": "2023-01-10T18:26:43.717Z"
   },
   {
    "duration": 1225,
    "start_time": "2023-01-10T18:26:49.795Z"
   },
   {
    "duration": 1399,
    "start_time": "2023-01-10T18:26:53.997Z"
   },
   {
    "duration": 11,
    "start_time": "2023-01-10T18:26:58.507Z"
   },
   {
    "duration": 5,
    "start_time": "2023-01-10T18:28:23.828Z"
   },
   {
    "duration": 3,
    "start_time": "2023-01-10T18:28:29.348Z"
   },
   {
    "duration": 1351,
    "start_time": "2023-01-10T18:29:14.527Z"
   },
   {
    "duration": 1271,
    "start_time": "2023-01-10T18:40:33.124Z"
   },
   {
    "duration": 1250,
    "start_time": "2023-01-10T18:42:05.697Z"
   },
   {
    "duration": 1217,
    "start_time": "2023-01-10T18:42:09.547Z"
   },
   {
    "duration": 1246,
    "start_time": "2023-01-10T18:42:12.801Z"
   },
   {
    "duration": 8,
    "start_time": "2023-01-10T18:42:21.345Z"
   },
   {
    "duration": 1452,
    "start_time": "2023-01-10T18:43:11.638Z"
   },
   {
    "duration": 344,
    "start_time": "2023-01-10T18:43:13.092Z"
   },
   {
    "duration": 5,
    "start_time": "2023-01-10T18:43:13.438Z"
   },
   {
    "duration": 224,
    "start_time": "2023-01-10T18:43:13.445Z"
   },
   {
    "duration": 205,
    "start_time": "2023-01-10T18:43:13.671Z"
   },
   {
    "duration": 210,
    "start_time": "2023-01-10T18:43:13.878Z"
   },
   {
    "duration": 11,
    "start_time": "2023-01-10T18:43:14.090Z"
   },
   {
    "duration": 12,
    "start_time": "2023-01-10T18:43:14.103Z"
   },
   {
    "duration": 50,
    "start_time": "2023-01-10T18:43:14.116Z"
   },
   {
    "duration": 3,
    "start_time": "2023-01-10T18:43:14.169Z"
   },
   {
    "duration": 29,
    "start_time": "2023-01-10T18:43:14.174Z"
   },
   {
    "duration": 24,
    "start_time": "2023-01-10T18:43:14.204Z"
   },
   {
    "duration": 47,
    "start_time": "2023-01-10T18:43:14.230Z"
   },
   {
    "duration": 5,
    "start_time": "2023-01-10T18:43:14.279Z"
   },
   {
    "duration": 70,
    "start_time": "2023-01-10T18:43:14.286Z"
   },
   {
    "duration": 101,
    "start_time": "2023-01-10T18:43:14.358Z"
   },
   {
    "duration": 198,
    "start_time": "2023-01-10T18:43:14.460Z"
   },
   {
    "duration": 102,
    "start_time": "2023-01-10T18:43:14.659Z"
   },
   {
    "duration": 93,
    "start_time": "2023-01-10T18:43:14.763Z"
   },
   {
    "duration": 22,
    "start_time": "2023-01-10T18:43:14.858Z"
   },
   {
    "duration": 12,
    "start_time": "2023-01-10T18:43:14.881Z"
   },
   {
    "duration": 3,
    "start_time": "2023-01-10T18:43:14.895Z"
   },
   {
    "duration": 15,
    "start_time": "2023-01-10T18:43:14.900Z"
   },
   {
    "duration": 40,
    "start_time": "2023-01-10T18:43:14.917Z"
   },
   {
    "duration": 11,
    "start_time": "2023-01-10T18:43:14.959Z"
   },
   {
    "duration": 13,
    "start_time": "2023-01-10T18:43:14.972Z"
   },
   {
    "duration": 45,
    "start_time": "2023-01-10T18:43:14.987Z"
   },
   {
    "duration": 1417,
    "start_time": "2023-01-10T18:43:15.035Z"
   },
   {
    "duration": 1355,
    "start_time": "2023-01-10T18:43:16.453Z"
   },
   {
    "duration": 1354,
    "start_time": "2023-01-10T18:43:17.810Z"
   },
   {
    "duration": 10,
    "start_time": "2023-01-10T18:43:19.166Z"
   },
   {
    "duration": 6,
    "start_time": "2023-01-10T18:49:05.248Z"
   },
   {
    "duration": 7,
    "start_time": "2023-01-10T18:49:31.211Z"
   },
   {
    "duration": 127,
    "start_time": "2023-01-10T18:49:33.618Z"
   },
   {
    "duration": 4,
    "start_time": "2023-01-10T18:50:38.568Z"
   },
   {
    "duration": 26,
    "start_time": "2023-01-10T18:50:41.218Z"
   },
   {
    "duration": 3,
    "start_time": "2023-01-10T18:52:01.094Z"
   },
   {
    "duration": 5,
    "start_time": "2023-01-10T18:52:11.308Z"
   },
   {
    "duration": 26,
    "start_time": "2023-01-10T18:52:16.629Z"
   },
   {
    "duration": 3,
    "start_time": "2023-01-10T18:52:53.078Z"
   },
   {
    "duration": 4,
    "start_time": "2023-01-10T18:52:54.508Z"
   },
   {
    "duration": 25,
    "start_time": "2023-01-10T18:52:57.727Z"
   },
   {
    "duration": 3,
    "start_time": "2023-01-10T19:05:04.860Z"
   },
   {
    "duration": 8,
    "start_time": "2023-01-10T19:05:06.348Z"
   },
   {
    "duration": 8,
    "start_time": "2023-01-10T19:05:08.316Z"
   },
   {
    "duration": 8,
    "start_time": "2023-01-10T19:05:11.960Z"
   },
   {
    "duration": 5,
    "start_time": "2023-01-10T19:05:31.709Z"
   },
   {
    "duration": 2,
    "start_time": "2023-01-10T19:05:36.508Z"
   },
   {
    "duration": 1105,
    "start_time": "2023-01-10T19:05:38.438Z"
   },
   {
    "duration": 1133,
    "start_time": "2023-01-10T19:05:42.596Z"
   },
   {
    "duration": 1159,
    "start_time": "2023-01-10T19:05:46.417Z"
   },
   {
    "duration": 3,
    "start_time": "2023-01-10T19:06:46.148Z"
   },
   {
    "duration": 9,
    "start_time": "2023-01-10T19:06:48.836Z"
   },
   {
    "duration": 4,
    "start_time": "2023-01-10T19:07:08.137Z"
   },
   {
    "duration": 10,
    "start_time": "2023-01-10T19:07:08.637Z"
   },
   {
    "duration": 4,
    "start_time": "2023-01-10T19:08:50.335Z"
   },
   {
    "duration": 10,
    "start_time": "2023-01-10T19:08:51.517Z"
   },
   {
    "duration": 3,
    "start_time": "2023-01-10T19:10:44.466Z"
   },
   {
    "duration": 8,
    "start_time": "2023-01-10T19:10:45.218Z"
   },
   {
    "duration": 5,
    "start_time": "2023-01-10T19:17:00.171Z"
   },
   {
    "duration": 19,
    "start_time": "2023-01-10T19:17:17.939Z"
   },
   {
    "duration": 72,
    "start_time": "2023-01-10T19:31:13.443Z"
   },
   {
    "duration": 5,
    "start_time": "2023-01-10T19:31:26.284Z"
   },
   {
    "duration": 30,
    "start_time": "2023-01-10T19:31:30.270Z"
   },
   {
    "duration": 6,
    "start_time": "2023-01-10T19:33:09.831Z"
   },
   {
    "duration": 33,
    "start_time": "2023-01-10T19:33:14.942Z"
   },
   {
    "duration": 5,
    "start_time": "2023-01-10T19:33:57.838Z"
   },
   {
    "duration": 25,
    "start_time": "2023-01-10T19:34:06.210Z"
   },
   {
    "duration": 5,
    "start_time": "2023-01-10T19:34:45.504Z"
   },
   {
    "duration": 26,
    "start_time": "2023-01-10T19:34:52.698Z"
   },
   {
    "duration": 5,
    "start_time": "2023-01-10T19:36:49.044Z"
   },
   {
    "duration": 26,
    "start_time": "2023-01-10T19:36:54.800Z"
   },
   {
    "duration": 5,
    "start_time": "2023-01-10T19:37:52.125Z"
   },
   {
    "duration": 25,
    "start_time": "2023-01-10T19:37:54.703Z"
   },
   {
    "duration": 4,
    "start_time": "2023-01-10T19:39:09.881Z"
   },
   {
    "duration": 36,
    "start_time": "2023-01-10T19:39:12.584Z"
   },
   {
    "duration": 5,
    "start_time": "2023-01-10T19:40:16.104Z"
   },
   {
    "duration": 29,
    "start_time": "2023-01-10T19:40:19.699Z"
   },
   {
    "duration": 3,
    "start_time": "2023-01-10T19:41:31.153Z"
   },
   {
    "duration": 9,
    "start_time": "2023-01-10T19:41:32.353Z"
   },
   {
    "duration": 6,
    "start_time": "2023-01-10T19:42:20.356Z"
   },
   {
    "duration": 3,
    "start_time": "2023-01-10T19:42:25.262Z"
   },
   {
    "duration": 884,
    "start_time": "2023-01-10T19:42:27.451Z"
   },
   {
    "duration": 875,
    "start_time": "2023-01-10T19:42:32.773Z"
   },
   {
    "duration": 928,
    "start_time": "2023-01-10T19:42:42.014Z"
   },
   {
    "duration": 10,
    "start_time": "2023-01-10T19:42:48.263Z"
   },
   {
    "duration": 5,
    "start_time": "2023-01-10T19:53:51.773Z"
   },
   {
    "duration": 27,
    "start_time": "2023-01-10T19:54:01.262Z"
   },
   {
    "duration": 5,
    "start_time": "2023-01-10T19:57:07.403Z"
   },
   {
    "duration": 31,
    "start_time": "2023-01-10T19:57:10.782Z"
   },
   {
    "duration": 5,
    "start_time": "2023-01-10T20:00:06.603Z"
   },
   {
    "duration": 5,
    "start_time": "2023-01-10T20:00:11.563Z"
   },
   {
    "duration": 38,
    "start_time": "2023-01-10T20:00:13.325Z"
   },
   {
    "duration": 5,
    "start_time": "2023-01-10T20:00:57.071Z"
   },
   {
    "duration": 29,
    "start_time": "2023-01-10T20:00:59.212Z"
   },
   {
    "duration": 8,
    "start_time": "2023-01-10T20:19:42.502Z"
   },
   {
    "duration": 43,
    "start_time": "2023-01-10T20:19:46.452Z"
   },
   {
    "duration": 6,
    "start_time": "2023-01-10T20:21:53.871Z"
   },
   {
    "duration": 48,
    "start_time": "2023-01-10T20:21:54.502Z"
   },
   {
    "duration": 6,
    "start_time": "2023-01-10T20:22:04.423Z"
   },
   {
    "duration": 37,
    "start_time": "2023-01-10T20:22:06.150Z"
   },
   {
    "duration": 6,
    "start_time": "2023-01-10T20:24:15.114Z"
   },
   {
    "duration": 41,
    "start_time": "2023-01-10T20:24:17.898Z"
   },
   {
    "duration": 5,
    "start_time": "2023-01-10T20:27:36.886Z"
   },
   {
    "duration": 36,
    "start_time": "2023-01-10T20:27:38.716Z"
   },
   {
    "duration": 4,
    "start_time": "2023-01-10T20:31:58.414Z"
   },
   {
    "duration": 9,
    "start_time": "2023-01-10T20:32:00.854Z"
   },
   {
    "duration": 11,
    "start_time": "2023-01-10T20:32:02.283Z"
   },
   {
    "duration": 9,
    "start_time": "2023-01-10T20:32:04.746Z"
   },
   {
    "duration": 4,
    "start_time": "2023-01-10T20:32:09.727Z"
   },
   {
    "duration": 2,
    "start_time": "2023-01-10T20:32:11.703Z"
   },
   {
    "duration": 903,
    "start_time": "2023-01-10T20:32:13.453Z"
   },
   {
    "duration": 944,
    "start_time": "2023-01-10T20:32:18.905Z"
   },
   {
    "duration": 924,
    "start_time": "2023-01-10T20:32:24.264Z"
   },
   {
    "duration": 11,
    "start_time": "2023-01-10T20:32:32.526Z"
   },
   {
    "duration": 1403,
    "start_time": "2023-01-10T20:53:13.764Z"
   },
   {
    "duration": 386,
    "start_time": "2023-01-10T20:53:15.169Z"
   },
   {
    "duration": 4,
    "start_time": "2023-01-10T20:53:15.556Z"
   },
   {
    "duration": 240,
    "start_time": "2023-01-10T20:53:15.562Z"
   },
   {
    "duration": 231,
    "start_time": "2023-01-10T20:53:15.804Z"
   },
   {
    "duration": 201,
    "start_time": "2023-01-10T20:53:16.037Z"
   },
   {
    "duration": 19,
    "start_time": "2023-01-10T20:53:16.240Z"
   },
   {
    "duration": 27,
    "start_time": "2023-01-10T20:53:16.261Z"
   },
   {
    "duration": 94,
    "start_time": "2023-01-10T20:53:16.290Z"
   },
   {
    "duration": 4,
    "start_time": "2023-01-10T20:53:16.385Z"
   },
   {
    "duration": 76,
    "start_time": "2023-01-10T20:53:16.391Z"
   },
   {
    "duration": 28,
    "start_time": "2023-01-10T20:53:16.469Z"
   },
   {
    "duration": 80,
    "start_time": "2023-01-10T20:53:16.498Z"
   },
   {
    "duration": 6,
    "start_time": "2023-01-10T20:53:16.582Z"
   },
   {
    "duration": 80,
    "start_time": "2023-01-10T20:53:16.590Z"
   },
   {
    "duration": 182,
    "start_time": "2023-01-10T20:53:16.672Z"
   },
   {
    "duration": 108,
    "start_time": "2023-01-10T20:53:16.857Z"
   },
   {
    "duration": 4,
    "start_time": "2023-01-10T20:53:16.967Z"
   },
   {
    "duration": 12,
    "start_time": "2023-01-10T20:53:17.053Z"
   },
   {
    "duration": 124,
    "start_time": "2023-01-10T20:53:17.067Z"
   },
   {
    "duration": 14,
    "start_time": "2023-01-10T20:53:17.192Z"
   },
   {
    "duration": 35,
    "start_time": "2023-01-10T20:53:17.208Z"
   },
   {
    "duration": 43,
    "start_time": "2023-01-10T20:53:17.246Z"
   },
   {
    "duration": 35,
    "start_time": "2023-01-10T20:53:17.292Z"
   },
   {
    "duration": 20,
    "start_time": "2023-01-10T20:53:17.329Z"
   },
   {
    "duration": 21,
    "start_time": "2023-01-10T20:53:17.351Z"
   },
   {
    "duration": 60,
    "start_time": "2023-01-10T20:53:17.374Z"
   },
   {
    "duration": 1005,
    "start_time": "2023-01-10T20:53:17.436Z"
   },
   {
    "duration": 939,
    "start_time": "2023-01-10T20:53:18.443Z"
   },
   {
    "duration": 909,
    "start_time": "2023-01-10T20:53:19.384Z"
   },
   {
    "duration": 9,
    "start_time": "2023-01-10T20:53:20.295Z"
   },
   {
    "duration": 1649,
    "start_time": "2023-01-10T21:07:01.482Z"
   },
   {
    "duration": 1723,
    "start_time": "2023-01-10T21:07:03.134Z"
   },
   {
    "duration": 4,
    "start_time": "2023-01-10T21:07:04.859Z"
   },
   {
    "duration": 255,
    "start_time": "2023-01-10T21:07:04.865Z"
   },
   {
    "duration": 263,
    "start_time": "2023-01-10T21:07:05.122Z"
   },
   {
    "duration": 270,
    "start_time": "2023-01-10T21:07:05.387Z"
   },
   {
    "duration": 15,
    "start_time": "2023-01-10T21:07:05.659Z"
   },
   {
    "duration": 27,
    "start_time": "2023-01-10T21:07:05.675Z"
   },
   {
    "duration": 54,
    "start_time": "2023-01-10T21:07:05.704Z"
   },
   {
    "duration": 4,
    "start_time": "2023-01-10T21:07:05.761Z"
   },
   {
    "duration": 62,
    "start_time": "2023-01-10T21:07:05.767Z"
   },
   {
    "duration": 27,
    "start_time": "2023-01-10T21:07:05.831Z"
   },
   {
    "duration": 24,
    "start_time": "2023-01-10T21:07:05.860Z"
   },
   {
    "duration": 5,
    "start_time": "2023-01-10T21:07:05.885Z"
   },
   {
    "duration": 155,
    "start_time": "2023-01-10T21:07:05.892Z"
   },
   {
    "duration": 195,
    "start_time": "2023-01-10T21:07:06.049Z"
   },
   {
    "duration": 109,
    "start_time": "2023-01-10T21:07:06.249Z"
   },
   {
    "duration": 95,
    "start_time": "2023-01-10T21:07:06.443Z"
   },
   {
    "duration": 7,
    "start_time": "2023-01-10T21:07:06.539Z"
   },
   {
    "duration": 19,
    "start_time": "2023-01-10T21:07:06.547Z"
   },
   {
    "duration": 11,
    "start_time": "2023-01-10T21:07:06.568Z"
   },
   {
    "duration": 4,
    "start_time": "2023-01-10T21:07:06.581Z"
   },
   {
    "duration": 52,
    "start_time": "2023-01-10T21:07:06.586Z"
   },
   {
    "duration": 10,
    "start_time": "2023-01-10T21:07:06.640Z"
   },
   {
    "duration": 10,
    "start_time": "2023-01-10T21:07:06.651Z"
   },
   {
    "duration": 5,
    "start_time": "2023-01-10T21:07:06.663Z"
   },
   {
    "duration": 6,
    "start_time": "2023-01-10T21:07:06.670Z"
   },
   {
    "duration": 1114,
    "start_time": "2023-01-10T21:07:06.679Z"
   },
   {
    "duration": 1131,
    "start_time": "2023-01-10T21:07:07.795Z"
   },
   {
    "duration": 1119,
    "start_time": "2023-01-10T21:07:08.928Z"
   },
   {
    "duration": 10,
    "start_time": "2023-01-10T21:07:10.049Z"
   }
  ],
  "kernelspec": {
   "display_name": "Python 3 (ipykernel)",
   "language": "python",
   "name": "python3"
  },
  "language_info": {
   "codemirror_mode": {
    "name": "ipython",
    "version": 3
   },
   "file_extension": ".py",
   "mimetype": "text/x-python",
   "name": "python",
   "nbconvert_exporter": "python",
   "pygments_lexer": "ipython3",
   "version": "3.9.5"
  },
  "toc": {
   "base_numbering": 1,
   "nav_menu": {},
   "number_sections": true,
   "sideBar": true,
   "skip_h1_title": true,
   "title_cell": "Table of Contents",
   "title_sidebar": "Contents",
   "toc_cell": false,
   "toc_position": {},
   "toc_section_display": true,
   "toc_window_display": false
  }
 },
 "nbformat": 4,
 "nbformat_minor": 2
}
