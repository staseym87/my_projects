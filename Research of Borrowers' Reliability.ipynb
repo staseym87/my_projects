{
 "cells": [
  {
   "cell_type": "markdown",
   "id": "609a5462",
   "metadata": {
    "deletable": false,
    "editable": false,
    "id": "c81daeeb"
   },
   "source": [
    "# Research of Borrowers' Reliability \n"
   ]
  },
   {
   "cell_type": "markdown",
   "id": "96a49519",
   "metadata": {
    "deletable": false,
    "id": "1cef7837"
   },
   "source": 
    "Analyze the influence of the client's parameters on repaying the loan on time.s.\n",
    "Input data from the bank - statistics on the solvency of customers.\n",
   ]
  },
   {
   "cell_type": "code",
   "execution_count": 1,
   "id": "d4dfc603",
   "metadata": {
    "deletable": false,
    "id": "7bcf75c9"
   },
   "outputs": [],
   "source": [
    "import pandas as pd\n",
    "\n",
    "try:\n",
    "    data = pd.read_csv('/datasets/data.csv')\n",
    "except:\n",
    "    data = pd.read_csv('https://code.s3.yandex.net/datasets/data.csv')"
   ]
  },
   {
   "cell_type": "code",
   "execution_count": 2,
   "id": "858f9963",
   "metadata": {
    "deletable": false,
    "id": "2a7cab99",
    "outputId": "1a8f3ef2-d323-4ec2-ddf7-89670b5944c4"
   },
   "outputs": [
    {
     "data": {
      "text/html": [
       "<div>\n",
       "<style scoped>\n",
       "    .dataframe tbody tr th:only-of-type {\n",
       "        vertical-align: middle;\n",
       "    }\n",
       "\n",
       "    .dataframe tbody tr th {\n",
       "        vertical-align: top;\n",
       "    }\n",
       "\n",
       "    .dataframe thead th {\n",
       "        text-align: right;\n",
       "    }\n",
       "</style>\n",
       "<table border=\"1\" class=\"dataframe\">\n",
       "  <thead>\n",
       "    <tr style=\"text-align: right;\">\n",
       "      <th></th>\n",
       "      <th>children</th>\n",
       "      <th>days_employed</th>\n",
       "      <th>dob_years</th>\n",
       "      <th>education</th>\n",
       "      <th>education_id</th>\n",
       "      <th>family_status</th>\n",
       "      <th>family_status_id</th>\n",
       "      <th>gender</th>\n",
       "      <th>income_type</th>\n",
       "      <th>debt</th>\n",
       "      <th>total_income</th>\n",
       "      <th>purpose</th>\n",
       "    </tr>\n",
       "  </thead>\n",
       "  <tbody>\n",
       "    <tr>\n",
       "      <th>0</th>\n",
       "      <td>1</td>\n",
       "      <td>-8437.673028</td>\n",
       "      <td>42</td>\n",
       "      <td>высшее</td>\n",
       "      <td>0</td>\n",
       "      <td>женат / замужем</td>\n",
       "      <td>0</td>\n",
       "      <td>F</td>\n",
       "      <td>сотрудник</td>\n",
       "      <td>0</td>\n",
       "      <td>253875.639453</td>\n",
       "      <td>покупка жилья</td>\n",
       "    </tr>\n",
       "    <tr>\n",
       "      <th>1</th>\n",
       "      <td>1</td>\n",
       "      <td>-4024.803754</td>\n",
       "      <td>36</td>\n",
       "      <td>среднее</td>\n",
       "      <td>1</td>\n",
       "      <td>женат / замужем</td>\n",
       "      <td>0</td>\n",
       "      <td>F</td>\n",
       "      <td>сотрудник</td>\n",
       "      <td>0</td>\n",
       "      <td>112080.014102</td>\n",
       "      <td>приобретение автомобиля</td>\n",
       "    </tr>\n",
       "    <tr>\n",
       "      <th>2</th>\n",
       "      <td>0</td>\n",
       "      <td>-5623.422610</td>\n",
       "      <td>33</td>\n",
       "      <td>Среднее</td>\n",
       "      <td>1</td>\n",
       "      <td>женат / замужем</td>\n",
       "      <td>0</td>\n",
       "      <td>M</td>\n",
       "      <td>сотрудник</td>\n",
       "      <td>0</td>\n",
       "      <td>145885.952297</td>\n",
       "      <td>покупка жилья</td>\n",
       "    </tr>\n",
       "    <tr>\n",
       "      <th>3</th>\n",
       "      <td>3</td>\n",
       "      <td>-4124.747207</td>\n",
       "      <td>32</td>\n",
       "      <td>среднее</td>\n",
       "      <td>1</td>\n",
       "      <td>женат / замужем</td>\n",
       "      <td>0</td>\n",
       "      <td>M</td>\n",
       "      <td>сотрудник</td>\n",
       "      <td>0</td>\n",
       "      <td>267628.550329</td>\n",
       "      <td>дополнительное образование</td>\n",
       "    </tr>\n",
       "    <tr>\n",
       "      <th>4</th>\n",
       "      <td>0</td>\n",
       "      <td>340266.072047</td>\n",
       "      <td>53</td>\n",
       "      <td>среднее</td>\n",
       "      <td>1</td>\n",
       "      <td>гражданский брак</td>\n",
       "      <td>1</td>\n",
       "      <td>F</td>\n",
       "      <td>пенсионер</td>\n",
       "      <td>0</td>\n",
       "      <td>158616.077870</td>\n",
       "      <td>сыграть свадьбу</td>\n",
       "    </tr>\n",
       "    <tr>\n",
       "      <th>5</th>\n",
       "      <td>0</td>\n",
       "      <td>-926.185831</td>\n",
       "      <td>27</td>\n",
       "      <td>высшее</td>\n",
       "      <td>0</td>\n",
       "      <td>гражданский брак</td>\n",
       "      <td>1</td>\n",
       "      <td>M</td>\n",
       "      <td>компаньон</td>\n",
       "      <td>0</td>\n",
       "      <td>255763.565419</td>\n",
       "      <td>покупка жилья</td>\n",
       "    </tr>\n",
       "    <tr>\n",
       "      <th>6</th>\n",
       "      <td>0</td>\n",
       "      <td>-2879.202052</td>\n",
       "      <td>43</td>\n",
       "      <td>высшее</td>\n",
       "      <td>0</td>\n",
       "      <td>женат / замужем</td>\n",
       "      <td>0</td>\n",
       "      <td>F</td>\n",
       "      <td>компаньон</td>\n",
       "      <td>0</td>\n",
       "      <td>240525.971920</td>\n",
       "      <td>операции с жильем</td>\n",
       "    </tr>\n",
       "    <tr>\n",
       "      <th>7</th>\n",
       "      <td>0</td>\n",
       "      <td>-152.779569</td>\n",
       "      <td>50</td>\n",
       "      <td>СРЕДНЕЕ</td>\n",
       "      <td>1</td>\n",
       "      <td>женат / замужем</td>\n",
       "      <td>0</td>\n",
       "      <td>M</td>\n",
       "      <td>сотрудник</td>\n",
       "      <td>0</td>\n",
       "      <td>135823.934197</td>\n",
       "      <td>образование</td>\n",
       "    </tr>\n",
       "    <tr>\n",
       "      <th>8</th>\n",
       "      <td>2</td>\n",
       "      <td>-6929.865299</td>\n",
       "      <td>35</td>\n",
       "      <td>ВЫСШЕЕ</td>\n",
       "      <td>0</td>\n",
       "      <td>гражданский брак</td>\n",
       "      <td>1</td>\n",
       "      <td>F</td>\n",
       "      <td>сотрудник</td>\n",
       "      <td>0</td>\n",
       "      <td>95856.832424</td>\n",
       "      <td>на проведение свадьбы</td>\n",
       "    </tr>\n",
       "    <tr>\n",
       "      <th>9</th>\n",
       "      <td>0</td>\n",
       "      <td>-2188.756445</td>\n",
       "      <td>41</td>\n",
       "      <td>среднее</td>\n",
       "      <td>1</td>\n",
       "      <td>женат / замужем</td>\n",
       "      <td>0</td>\n",
       "      <td>M</td>\n",
       "      <td>сотрудник</td>\n",
       "      <td>0</td>\n",
       "      <td>144425.938277</td>\n",
       "      <td>покупка жилья для семьи</td>\n",
       "    </tr>\n",
       "    <tr>\n",
       "      <th>10</th>\n",
       "      <td>2</td>\n",
       "      <td>-4171.483647</td>\n",
       "      <td>36</td>\n",
       "      <td>высшее</td>\n",
       "      <td>0</td>\n",
       "      <td>женат / замужем</td>\n",
       "      <td>0</td>\n",
       "      <td>M</td>\n",
       "      <td>компаньон</td>\n",
       "      <td>0</td>\n",
       "      <td>113943.491460</td>\n",
       "      <td>покупка недвижимости</td>\n",
       "    </tr>\n",
       "    <tr>\n",
       "      <th>11</th>\n",
       "      <td>0</td>\n",
       "      <td>-792.701887</td>\n",
       "      <td>40</td>\n",
       "      <td>среднее</td>\n",
       "      <td>1</td>\n",
       "      <td>женат / замужем</td>\n",
       "      <td>0</td>\n",
       "      <td>F</td>\n",
       "      <td>сотрудник</td>\n",
       "      <td>0</td>\n",
       "      <td>77069.234271</td>\n",
       "      <td>покупка коммерческой недвижимости</td>\n",
       "    </tr>\n",
       "    <tr>\n",
       "      <th>12</th>\n",
       "      <td>0</td>\n",
       "      <td>NaN</td>\n",
       "      <td>65</td>\n",
       "      <td>среднее</td>\n",
       "      <td>1</td>\n",
       "      <td>гражданский брак</td>\n",
       "      <td>1</td>\n",
       "      <td>M</td>\n",
       "      <td>пенсионер</td>\n",
       "      <td>0</td>\n",
       "      <td>NaN</td>\n",
       "      <td>сыграть свадьбу</td>\n",
       "    </tr>\n",
       "    <tr>\n",
       "      <th>13</th>\n",
       "      <td>0</td>\n",
       "      <td>-1846.641941</td>\n",
       "      <td>54</td>\n",
       "      <td>неоконченное высшее</td>\n",
       "      <td>2</td>\n",
       "      <td>женат / замужем</td>\n",
       "      <td>0</td>\n",
       "      <td>F</td>\n",
       "      <td>сотрудник</td>\n",
       "      <td>0</td>\n",
       "      <td>130458.228857</td>\n",
       "      <td>приобретение автомобиля</td>\n",
       "    </tr>\n",
       "    <tr>\n",
       "      <th>14</th>\n",
       "      <td>0</td>\n",
       "      <td>-1844.956182</td>\n",
       "      <td>56</td>\n",
       "      <td>высшее</td>\n",
       "      <td>0</td>\n",
       "      <td>гражданский брак</td>\n",
       "      <td>1</td>\n",
       "      <td>F</td>\n",
       "      <td>компаньон</td>\n",
       "      <td>1</td>\n",
       "      <td>165127.911772</td>\n",
       "      <td>покупка жилой недвижимости</td>\n",
       "    </tr>\n",
       "    <tr>\n",
       "      <th>15</th>\n",
       "      <td>1</td>\n",
       "      <td>-972.364419</td>\n",
       "      <td>26</td>\n",
       "      <td>среднее</td>\n",
       "      <td>1</td>\n",
       "      <td>женат / замужем</td>\n",
       "      <td>0</td>\n",
       "      <td>F</td>\n",
       "      <td>сотрудник</td>\n",
       "      <td>0</td>\n",
       "      <td>116820.904450</td>\n",
       "      <td>строительство собственной недвижимости</td>\n",
       "    </tr>\n",
       "    <tr>\n",
       "      <th>16</th>\n",
       "      <td>0</td>\n",
       "      <td>-1719.934226</td>\n",
       "      <td>35</td>\n",
       "      <td>среднее</td>\n",
       "      <td>1</td>\n",
       "      <td>женат / замужем</td>\n",
       "      <td>0</td>\n",
       "      <td>F</td>\n",
       "      <td>сотрудник</td>\n",
       "      <td>0</td>\n",
       "      <td>289202.704229</td>\n",
       "      <td>недвижимость</td>\n",
       "    </tr>\n",
       "    <tr>\n",
       "      <th>17</th>\n",
       "      <td>0</td>\n",
       "      <td>-2369.999720</td>\n",
       "      <td>33</td>\n",
       "      <td>высшее</td>\n",
       "      <td>0</td>\n",
       "      <td>гражданский брак</td>\n",
       "      <td>1</td>\n",
       "      <td>M</td>\n",
       "      <td>сотрудник</td>\n",
       "      <td>0</td>\n",
       "      <td>90410.586745</td>\n",
       "      <td>строительство недвижимости</td>\n",
       "    </tr>\n",
       "    <tr>\n",
       "      <th>18</th>\n",
       "      <td>0</td>\n",
       "      <td>400281.136913</td>\n",
       "      <td>53</td>\n",
       "      <td>среднее</td>\n",
       "      <td>1</td>\n",
       "      <td>вдовец / вдова</td>\n",
       "      <td>2</td>\n",
       "      <td>F</td>\n",
       "      <td>пенсионер</td>\n",
       "      <td>0</td>\n",
       "      <td>56823.777243</td>\n",
       "      <td>на покупку подержанного автомобиля</td>\n",
       "    </tr>\n",
       "    <tr>\n",
       "      <th>19</th>\n",
       "      <td>0</td>\n",
       "      <td>-10038.818549</td>\n",
       "      <td>48</td>\n",
       "      <td>СРЕДНЕЕ</td>\n",
       "      <td>1</td>\n",
       "      <td>в разводе</td>\n",
       "      <td>3</td>\n",
       "      <td>F</td>\n",
       "      <td>сотрудник</td>\n",
       "      <td>0</td>\n",
       "      <td>242831.107982</td>\n",
       "      <td>на покупку своего автомобиля</td>\n",
       "    </tr>\n",
       "  </tbody>\n",
       "</table>\n",
       "</div>"
      ],
      "text/plain": [
       "    children  days_employed  dob_years            education  education_id  \\\n",
       "0          1   -8437.673028         42               высшее             0   \n",
       "1          1   -4024.803754         36              среднее             1   \n",
       "2          0   -5623.422610         33              Среднее             1   \n",
       "3          3   -4124.747207         32              среднее             1   \n",
       "4          0  340266.072047         53              среднее             1   \n",
       "5          0    -926.185831         27               высшее             0   \n",
       "6          0   -2879.202052         43               высшее             0   \n",
       "7          0    -152.779569         50              СРЕДНЕЕ             1   \n",
       "8          2   -6929.865299         35               ВЫСШЕЕ             0   \n",
       "9          0   -2188.756445         41              среднее             1   \n",
       "10         2   -4171.483647         36               высшее             0   \n",
       "11         0    -792.701887         40              среднее             1   \n",
       "12         0            NaN         65              среднее             1   \n",
       "13         0   -1846.641941         54  неоконченное высшее             2   \n",
       "14         0   -1844.956182         56               высшее             0   \n",
       "15         1    -972.364419         26              среднее             1   \n",
       "16         0   -1719.934226         35              среднее             1   \n",
       "17         0   -2369.999720         33               высшее             0   \n",
       "18         0  400281.136913         53              среднее             1   \n",
       "19         0  -10038.818549         48              СРЕДНЕЕ             1   \n",
       "\n",
       "       family_status  family_status_id gender income_type  debt  \\\n",
       "0    женат / замужем                 0      F   сотрудник     0   \n",
       "1    женат / замужем                 0      F   сотрудник     0   \n",
       "2    женат / замужем                 0      M   сотрудник     0   \n",
       "3    женат / замужем                 0      M   сотрудник     0   \n",
       "4   гражданский брак                 1      F   пенсионер     0   \n",
       "5   гражданский брак                 1      M   компаньон     0   \n",
       "6    женат / замужем                 0      F   компаньон     0   \n",
       "7    женат / замужем                 0      M   сотрудник     0   \n",
       "8   гражданский брак                 1      F   сотрудник     0   \n",
       "9    женат / замужем                 0      M   сотрудник     0   \n",
       "10   женат / замужем                 0      M   компаньон     0   \n",
       "11   женат / замужем                 0      F   сотрудник     0   \n",
       "12  гражданский брак                 1      M   пенсионер     0   \n",
       "13   женат / замужем                 0      F   сотрудник     0   \n",
       "14  гражданский брак                 1      F   компаньон     1   \n",
       "15   женат / замужем                 0      F   сотрудник     0   \n",
       "16   женат / замужем                 0      F   сотрудник     0   \n",
       "17  гражданский брак                 1      M   сотрудник     0   \n",
       "18    вдовец / вдова                 2      F   пенсионер     0   \n",
       "19         в разводе                 3      F   сотрудник     0   \n",
       "\n",
       "     total_income                                 purpose  \n",
       "0   253875.639453                           покупка жилья  \n",
       "1   112080.014102                 приобретение автомобиля  \n",
       "2   145885.952297                           покупка жилья  \n",
       "3   267628.550329              дополнительное образование  \n",
       "4   158616.077870                         сыграть свадьбу  \n",
       "5   255763.565419                           покупка жилья  \n",
       "6   240525.971920                       операции с жильем  \n",
       "7   135823.934197                             образование  \n",
       "8    95856.832424                   на проведение свадьбы  \n",
       "9   144425.938277                 покупка жилья для семьи  \n",
       "10  113943.491460                    покупка недвижимости  \n",
       "11   77069.234271       покупка коммерческой недвижимости  \n",
       "12            NaN                         сыграть свадьбу  \n",
       "13  130458.228857                 приобретение автомобиля  \n",
       "14  165127.911772              покупка жилой недвижимости  \n",
       "15  116820.904450  строительство собственной недвижимости  \n",
       "16  289202.704229                            недвижимость  \n",
       "17   90410.586745              строительство недвижимости  \n",
       "18   56823.777243      на покупку подержанного автомобиля  \n",
       "19  242831.107982            на покупку своего автомобиля  "
      ]
     },
     "execution_count": 2,
     "metadata": {},
     "output_type": "execute_result"
    }
   ],
   "source": [
    "data.head(20)"
   ]
  },
    {
   "cell_type": "code",
   "execution_count": 3,
   "id": "6655db0b",
   "metadata": {
    "deletable": false,
    "id": "2b757bca",
    "outputId": "15376089-8dad-46c9-b520-c05248d43158"
   },
   "outputs": [
    {
     "name": "stdout",
     "output_type": "stream",
     "text": [
      "<class 'pandas.core.frame.DataFrame'>\n",
      "RangeIndex: 21525 entries, 0 to 21524\n",
      "Data columns (total 12 columns):\n",
      " #   Column            Non-Null Count  Dtype  \n",
      "---  ------            --------------  -----  \n",
      " 0   children          21525 non-null  int64  \n",
      " 1   days_employed     19351 non-null  float64\n",
      " 2   dob_years         21525 non-null  int64  \n",
      " 3   education         21525 non-null  object \n",
      " 4   education_id      21525 non-null  int64  \n",
      " 5   family_status     21525 non-null  object \n",
      " 6   family_status_id  21525 non-null  int64  \n",
      " 7   gender            21525 non-null  object \n",
      " 8   income_type       21525 non-null  object \n",
      " 9   debt              21525 non-null  int64  \n",
      " 10  total_income      19351 non-null  float64\n",
      " 11  purpose           21525 non-null  object \n",
      "dtypes: float64(2), int64(5), object(5)\n",
      "memory usage: 2.0+ MB\n"
     ]
    }
   ],
   "source": [
    "data.info()"
   ]
  },
  {
   "cell_type": "markdown",
   "id": "368f507f",
   "metadata": {
    "deletable": false,
    "editable": false,
    "id": "333ec665"
   },
   "source": [
    "## Data preprocessing "
   ]
  },
  {
   "cell_type": "markdown",
   "id": "831b6e8c",
   "metadata": {
    "deletable": false,
    "editable": false,
    "id": "02d92d53"
   },
   "source": [
    "### Deletion of gaps"
   ]
  },
    {
   "cell_type": "code",
   "execution_count": 4,
   "id": "8e682850",
   "metadata": {
    "deletable": false,
    "id": "7f9b2309",
    "outputId": "81f4d817-781c-465c-ed15-91ce4446810d"
   },
   "outputs": [
    {
     "data": {
      "text/plain": [
       "children               0\n",
       "days_employed       2174\n",
       "dob_years              0\n",
       "education              0\n",
       "education_id           0\n",
       "family_status          0\n",
       "family_status_id       0\n",
       "gender                 0\n",
       "income_type            0\n",
       "debt                   0\n",
       "total_income        2174\n",
       "purpose                0\n",
       "dtype: int64"
      ]
     },
     "execution_count": 4,
     "metadata": {},
     "output_type": "execute_result"
    }
   ],
   "source": [
    "data.isna().sum()"
   ]
  },
   {
   "cell_type": "code",
   "execution_count": 5,
   "id": "20ff1245",
   "metadata": {
    "deletable": false,
    "id": "42006a93"
   },
   "outputs": [],
   "source": [
    "for t in data['income_type'].unique():\n",
    "    data.loc[(data['income_type'] == t) & (data['total_income'].isna()), 'total_income'] = \\\n",
    "    data.loc[(data['income_type'] == t), 'total_income'].median()\n",
    "    \n",
    "    \n",
    "    "
   ]
  },
  
    {
   "cell_type": "code",
   "execution_count": 6,
   "id": "5723fb87",
   "metadata": {
    "deletable": false,
    "id": "f6f055bf"
   },
   "outputs": [],
   "source": [
    "data['days_employed'] = data['days_employed'].abs()"
   ]
  },
    {
   "cell_type": "code",
   "execution_count": 7,
   "id": "fc530d97",
   "metadata": {
    "deletable": false,
    "id": "85a5faf6",
    "outputId": "801ef80e-522b-4668-f34e-565af7432bcf"
   },
   "outputs": [
    {
     "data": {
      "text/plain": [
       "income_type\n",
       "безработный        366413.652744\n",
       "в декрете            3296.759962\n",
       "госслужащий          2689.368353\n",
       "компаньон            1547.382223\n",
       "пенсионер          365213.306266\n",
       "предприниматель       520.848083\n",
       "сотрудник            1574.202821\n",
       "студент               578.751554\n",
       "Name: days_employed, dtype: float64"
      ]
     },
     "execution_count": 7,
     "metadata": {},
     "output_type": "execute_result"
    }
   ],
   "source": [
    "data.groupby('income_type')['days_employed'].agg('median')"
   ]
  },
    {
   "cell_type": "code",
   "execution_count": 8,
   "id": "e1e22261",
   "metadata": {
    "deletable": false,
    "id": "ef5056eb",
    "outputId": "6975b15c-7f95-4697-d16d-a0c79b657b03"
   },
   "outputs": [
    {
     "data": {
      "text/plain": [
       "array([ 1,  0,  3,  2, -1,  4, 20,  5])"
      ]
     },
     "execution_count": 8,
     "metadata": {},
     "output_type": "execute_result"
    }
   ],
   "source": [
    "data['children'].unique()"
   ]
  },
   {
   "cell_type": "code",
   "execution_count": 9,
   "id": "b80a2198",
   "metadata": {
    "deletable": false,
    "id": "3ff9801d"
   },
   "outputs": [],
   "source": [
    "data = data[(data['children'] != -1) & (data['children'] != 20)]"
   ]
  },
    {
   "cell_type": "code",
   "execution_count": 10,
   "id": "f2a44048",
   "metadata": {
    "deletable": false,
    "id": "ad4fa8b7",
    "outputId": "b2097101-d49d-44d9-901b-32a65c9463d1"
   },
   "outputs": [
    {
     "data": {
      "text/plain": [
       "array([1, 0, 3, 2, 4, 5])"
      ]
     },
     "execution_count": 10,
     "metadata": {},
     "output_type": "execute_result"
    }
   ],
   "source": [
    "data['children'].unique()"
   ]
  },
      {
   "cell_type": "code",
   "execution_count": 11,
   "id": "523ae861",
   "metadata": {
    "deletable": false,
    "id": "af6b1a7e"
   },
   "outputs": [],
   "source": [
    "for t in data['income_type'].unique():\n",
    "    data.loc[(data['income_type'] == t) & (data['days_employed'].isna()), 'days_employed'] = \\\n",
    "    data.loc[(data['income_type'] == t), 'days_employed'].median()"
   ]
  },
    {
   "cell_type": "code",
   "execution_count": 12,
   "id": "3fed2b78",
   "metadata": {
    "deletable": false,
    "id": "55f78bc2",
    "outputId": "8da1e4e1-358e-4e87-98c9-f261bce0a7b2"
   },
   "outputs": [
    {
     "data": {
      "text/plain": [
       "children            0\n",
       "days_employed       0\n",
       "dob_years           0\n",
       "education           0\n",
       "education_id        0\n",
       "family_status       0\n",
       "family_status_id    0\n",
       "gender              0\n",
       "income_type         0\n",
       "debt                0\n",
       "total_income        0\n",
       "purpose             0\n",
       "dtype: int64"
      ]
     },
     "execution_count": 12,
     "metadata": {},
     "output_type": "execute_result"
    }
   ],
   "source": [
    "data.isna().sum()"
   ]
  },
  {
   "cell_type": "markdown",
   "id": "89944acc",
   "metadata": {
    "deletable": false,
    "editable": false,
    "id": "ddc81e43"
   },
   "source": [
    "### Changing data types"
   ]
  },
    {
   "cell_type": "code",
   "execution_count": 13,
   "id": "1664e9c5",
   "metadata": {
    "deletable": false,
    "id": "920b65ad"
   },
   "outputs": [],
   "source": [
    "data['total_income'] = data['total_income'].astype(int)"
   ]
  },
  {
   "cell_type": "markdown",
   "id": "cea7b3fb",
   "metadata": {
    "deletable": false,
    "editable": false,
    "id": "80c420ba"
   },
   "source": [
    "### Duplicate processing"
   ]
  },
    {
   "cell_type": "code",
   "execution_count": 14,
   "id": "6b41f014",
   "metadata": {
    "deletable": false
   },
   "outputs": [],
   "source": [
    "data['education'] = data['education'].str.lower()"
   ]
  },
  
  {
   "cell_type": "code",
   "execution_count": 15,
   "id": "b4c9167e",
   "metadata": {
    "deletable": false,
    "id": "3ee445e4",
    "outputId": "9684deba-1934-42d1-99e1-cda61740f822"
   },
   "outputs": [
    {
     "data": {
      "text/plain": [
       "71"
      ]
     },
     "execution_count": 15,
     "metadata": {},
     "output_type": "execute_result"
    }
   ],
   "source": [
    "data.duplicated().sum()"
   ]
  },
  {
   "cell_type": "code",
   "execution_count": 16,
   "id": "68609621",
   "metadata": {
    "deletable": false,
    "id": "8575fe05"
   },
   "outputs": [],
   "source": [
    "data = data.drop_duplicates()"
   ]
  },
  {
   "cell_type": "markdown",
   "id": "d8d9c0f9",
   "metadata": {
    "deletable": false,
    "editable": false,
    "id": "9904cf55"
   },
   "source": [
    "### Data categorization"
   ]
  },
    {
   "cell_type": "code",
   "execution_count": 17,
   "id": "8a80c1b5",
   "metadata": {
    "deletable": false,
    "id": "e1771346"
   },
   "outputs": [],
   "source": [
    "def categorize_income(income):\n",
    "    try:\n",
    "        if 0 <= income <= 30000:\n",
    "            return 'E'\n",
    "        elif 30001 <= income <= 50000:\n",
    "            return 'D'\n",
    "        elif 50001 <= income <= 200000:\n",
    "            return 'C'\n",
    "        elif 200001 <= income <= 1000000:\n",
    "            return 'B'\n",
    "        elif income >= 1000001:\n",
    "            return 'A'\n",
    "    except:\n",
    "        pass"
   ]
  },
  {
   "cell_type": "code",
   "execution_count": 18,
   "id": "1f6aa925",
   "metadata": {
    "deletable": false,
    "id": "d5f3586d"
   },
   "outputs": [
    {
     "data": {
      "text/html": [
       "<div>\n",
       "<style scoped>\n",
       "    .dataframe tbody tr th:only-of-type {\n",
       "        vertical-align: middle;\n",
       "    }\n",
       "\n",
       "    .dataframe tbody tr th {\n",
       "        vertical-align: top;\n",
       "    }\n",
       "\n",
       "    .dataframe thead th {\n",
       "        text-align: right;\n",
       "    }\n",
       "</style>\n",
       "<table border=\"1\" class=\"dataframe\">\n",
       "  <thead>\n",
       "    <tr style=\"text-align: right;\">\n",
       "      <th></th>\n",
       "      <th>children</th>\n",
       "      <th>days_employed</th>\n",
       "      <th>dob_years</th>\n",
       "      <th>education</th>\n",
       "      <th>education_id</th>\n",
       "      <th>family_status</th>\n",
       "      <th>family_status_id</th>\n",
       "      <th>gender</th>\n",
       "      <th>income_type</th>\n",
       "      <th>debt</th>\n",
       "      <th>total_income</th>\n",
       "      <th>purpose</th>\n",
       "      <th>total_income_category</th>\n",
       "    </tr>\n",
       "  </thead>\n",
       "  <tbody>\n",
       "    <tr>\n",
       "      <th>0</th>\n",
       "      <td>1</td>\n",
       "      <td>8437.673028</td>\n",
       "      <td>42</td>\n",
       "      <td>высшее</td>\n",
       "      <td>0</td>\n",
       "      <td>женат / замужем</td>\n",
       "      <td>0</td>\n",
       "      <td>F</td>\n",
       "      <td>сотрудник</td>\n",
       "      <td>0</td>\n",
       "      <td>253875</td>\n",
       "      <td>покупка жилья</td>\n",
       "      <td>B</td>\n",
       "    </tr>\n",
       "    <tr>\n",
       "      <th>1</th>\n",
       "      <td>1</td>\n",
       "      <td>4024.803754</td>\n",
       "      <td>36</td>\n",
       "      <td>среднее</td>\n",
       "      <td>1</td>\n",
       "      <td>женат / замужем</td>\n",
       "      <td>0</td>\n",
       "      <td>F</td>\n",
       "      <td>сотрудник</td>\n",
       "      <td>0</td>\n",
       "      <td>112080</td>\n",
       "      <td>приобретение автомобиля</td>\n",
       "      <td>C</td>\n",
       "    </tr>\n",
       "    <tr>\n",
       "      <th>2</th>\n",
       "      <td>0</td>\n",
       "      <td>5623.422610</td>\n",
       "      <td>33</td>\n",
       "      <td>среднее</td>\n",
       "      <td>1</td>\n",
       "      <td>женат / замужем</td>\n",
       "      <td>0</td>\n",
       "      <td>M</td>\n",
       "      <td>сотрудник</td>\n",
       "      <td>0</td>\n",
       "      <td>145885</td>\n",
       "      <td>покупка жилья</td>\n",
       "      <td>C</td>\n",
       "    </tr>\n",
       "    <tr>\n",
       "      <th>3</th>\n",
       "      <td>3</td>\n",
       "      <td>4124.747207</td>\n",
       "      <td>32</td>\n",
       "      <td>среднее</td>\n",
       "      <td>1</td>\n",
       "      <td>женат / замужем</td>\n",
       "      <td>0</td>\n",
       "      <td>M</td>\n",
       "      <td>сотрудник</td>\n",
       "      <td>0</td>\n",
       "      <td>267628</td>\n",
       "      <td>дополнительное образование</td>\n",
       "      <td>B</td>\n",
       "    </tr>\n",
       "    <tr>\n",
       "      <th>4</th>\n",
       "      <td>0</td>\n",
       "      <td>340266.072047</td>\n",
       "      <td>53</td>\n",
       "      <td>среднее</td>\n",
       "      <td>1</td>\n",
       "      <td>гражданский брак</td>\n",
       "      <td>1</td>\n",
       "      <td>F</td>\n",
       "      <td>пенсионер</td>\n",
       "      <td>0</td>\n",
       "      <td>158616</td>\n",
       "      <td>сыграть свадьбу</td>\n",
       "      <td>C</td>\n",
       "    </tr>\n",
       "    <tr>\n",
       "      <th>...</th>\n",
       "      <td>...</td>\n",
       "      <td>...</td>\n",
       "      <td>...</td>\n",
       "      <td>...</td>\n",
       "      <td>...</td>\n",
       "      <td>...</td>\n",
       "      <td>...</td>\n",
       "      <td>...</td>\n",
       "      <td>...</td>\n",
       "      <td>...</td>\n",
       "      <td>...</td>\n",
       "      <td>...</td>\n",
       "      <td>...</td>\n",
       "    </tr>\n",
       "    <tr>\n",
       "      <th>21520</th>\n",
       "      <td>1</td>\n",
       "      <td>4529.316663</td>\n",
       "      <td>43</td>\n",
       "      <td>среднее</td>\n",
       "      <td>1</td>\n",
       "      <td>гражданский брак</td>\n",
       "      <td>1</td>\n",
       "      <td>F</td>\n",
       "      <td>компаньон</td>\n",
       "      <td>0</td>\n",
       "      <td>224791</td>\n",
       "      <td>операции с жильем</td>\n",
       "      <td>B</td>\n",
       "    </tr>\n",
       "    <tr>\n",
       "      <th>21521</th>\n",
       "      <td>0</td>\n",
       "      <td>343937.404131</td>\n",
       "      <td>67</td>\n",
       "      <td>среднее</td>\n",
       "      <td>1</td>\n",
       "      <td>женат / замужем</td>\n",
       "      <td>0</td>\n",
       "      <td>F</td>\n",
       "      <td>пенсионер</td>\n",
       "      <td>0</td>\n",
       "      <td>155999</td>\n",
       "      <td>сделка с автомобилем</td>\n",
       "      <td>C</td>\n",
       "    </tr>\n",
       "    <tr>\n",
       "      <th>21522</th>\n",
       "      <td>1</td>\n",
       "      <td>2113.346888</td>\n",
       "      <td>38</td>\n",
       "      <td>среднее</td>\n",
       "      <td>1</td>\n",
       "      <td>гражданский брак</td>\n",
       "      <td>1</td>\n",
       "      <td>M</td>\n",
       "      <td>сотрудник</td>\n",
       "      <td>1</td>\n",
       "      <td>89672</td>\n",
       "      <td>недвижимость</td>\n",
       "      <td>C</td>\n",
       "    </tr>\n",
       "    <tr>\n",
       "      <th>21523</th>\n",
       "      <td>3</td>\n",
       "      <td>3112.481705</td>\n",
       "      <td>38</td>\n",
       "      <td>среднее</td>\n",
       "      <td>1</td>\n",
       "      <td>женат / замужем</td>\n",
       "      <td>0</td>\n",
       "      <td>M</td>\n",
       "      <td>сотрудник</td>\n",
       "      <td>1</td>\n",
       "      <td>244093</td>\n",
       "      <td>на покупку своего автомобиля</td>\n",
       "      <td>B</td>\n",
       "    </tr>\n",
       "    <tr>\n",
       "      <th>21524</th>\n",
       "      <td>2</td>\n",
       "      <td>1984.507589</td>\n",
       "      <td>40</td>\n",
       "      <td>среднее</td>\n",
       "      <td>1</td>\n",
       "      <td>женат / замужем</td>\n",
       "      <td>0</td>\n",
       "      <td>F</td>\n",
       "      <td>сотрудник</td>\n",
       "      <td>0</td>\n",
       "      <td>82047</td>\n",
       "      <td>на покупку автомобиля</td>\n",
       "      <td>C</td>\n",
       "    </tr>\n",
       "  </tbody>\n",
       "</table>\n",
       "<p>21331 rows × 13 columns</p>\n",
       "</div>"
      ],
      "text/plain": [
       "       children  days_employed  dob_years education  education_id  \\\n",
       "0             1    8437.673028         42    высшее             0   \n",
       "1             1    4024.803754         36   среднее             1   \n",
       "2             0    5623.422610         33   среднее             1   \n",
       "3             3    4124.747207         32   среднее             1   \n",
       "4             0  340266.072047         53   среднее             1   \n",
       "...         ...            ...        ...       ...           ...   \n",
       "21520         1    4529.316663         43   среднее             1   \n",
       "21521         0  343937.404131         67   среднее             1   \n",
       "21522         1    2113.346888         38   среднее             1   \n",
       "21523         3    3112.481705         38   среднее             1   \n",
       "21524         2    1984.507589         40   среднее             1   \n",
       "\n",
       "          family_status  family_status_id gender income_type  debt  \\\n",
       "0       женат / замужем                 0      F   сотрудник     0   \n",
       "1       женат / замужем                 0      F   сотрудник     0   \n",
       "2       женат / замужем                 0      M   сотрудник     0   \n",
       "3       женат / замужем                 0      M   сотрудник     0   \n",
       "4      гражданский брак                 1      F   пенсионер     0   \n",
       "...                 ...               ...    ...         ...   ...   \n",
       "21520  гражданский брак                 1      F   компаньон     0   \n",
       "21521   женат / замужем                 0      F   пенсионер     0   \n",
       "21522  гражданский брак                 1      M   сотрудник     1   \n",
       "21523   женат / замужем                 0      M   сотрудник     1   \n",
       "21524   женат / замужем                 0      F   сотрудник     0   \n",
       "\n",
       "       total_income                       purpose total_income_category  \n",
       "0            253875                 покупка жилья                     B  \n",
       "1            112080       приобретение автомобиля                     C  \n",
       "2            145885                 покупка жилья                     C  \n",
       "3            267628    дополнительное образование                     B  \n",
       "4            158616               сыграть свадьбу                     C  \n",
       "...             ...                           ...                   ...  \n",
       "21520        224791             операции с жильем                     B  \n",
       "21521        155999          сделка с автомобилем                     C  \n",
       "21522         89672                  недвижимость                     C  \n",
       "21523        244093  на покупку своего автомобиля                     B  \n",
       "21524         82047         на покупку автомобиля                     C  \n",
       "\n",
       "[21331 rows x 13 columns]"
      ]
     },
     "execution_count": 18,
     "metadata": {},
     "output_type": "execute_result"
    }
   ],
   "source": [
    "data['total_income_category'] = data['total_income'].apply(categorize_income)\n",
    "data"
   ]
  },
    {
   "cell_type": "code",
   "execution_count": 19,
   "id": "7f1d03ba",
   "metadata": {
    "deletable": false,
    "id": "f67ce9b3",
    "outputId": "673c12d9-7d7e-4ae0-9812-c622c89dd244"
   },
   "outputs": [
    {
     "data": {
      "text/plain": [
       "array(['покупка жилья', 'приобретение автомобиля',\n",
       "       'дополнительное образование', 'сыграть свадьбу',\n",
       "       'операции с жильем', 'образование', 'на проведение свадьбы',\n",
       "       'покупка жилья для семьи', 'покупка недвижимости',\n",
       "       'покупка коммерческой недвижимости', 'покупка жилой недвижимости',\n",
       "       'строительство собственной недвижимости', 'недвижимость',\n",
       "       'строительство недвижимости', 'на покупку подержанного автомобиля',\n",
       "       'на покупку своего автомобиля',\n",
       "       'операции с коммерческой недвижимостью',\n",
       "       'строительство жилой недвижимости', 'жилье',\n",
       "       'операции со своей недвижимостью', 'автомобили',\n",
       "       'заняться образованием', 'сделка с подержанным автомобилем',\n",
       "       'получение образования', 'автомобиль', 'свадьба',\n",
       "       'получение дополнительного образования', 'покупка своего жилья',\n",
       "       'операции с недвижимостью', 'получение высшего образования',\n",
       "       'свой автомобиль', 'сделка с автомобилем',\n",
       "       'профильное образование', 'высшее образование',\n",
       "       'покупка жилья для сдачи', 'на покупку автомобиля', 'ремонт жилью',\n",
       "       'заняться высшим образованием'], dtype=object)"
      ]
     },
     "execution_count": 19,
     "metadata": {},
     "output_type": "execute_result"
    }
   ],
   "source": [
    "data['purpose'].unique()"
   ]
  },
    {
   "cell_type": "code",
   "execution_count": 20,
   "id": "1b277693",
   "metadata": {
    "deletable": false,
    "id": "e149fab4"
   },
   "outputs": [],
   "source": [
    "def categorize_purpose(row):\n",
    "    try:\n",
    "        if 'автом' in row:\n",
    "            return 'операции с автомобилем'\n",
    "        elif 'жил' in row or 'недвиж' in row:\n",
    "            return 'операции с недвижимостью'\n",
    "        elif 'свад' in row:\n",
    "            return 'проведение свадьбы'\n",
    "        elif 'образов' in row:\n",
    "            return 'получение образования'\n",
    "    except:\n",
    "        return 'нет категории'"
   ]
  },
  {
   "cell_type": "code",
   "execution_count": 21,
   "id": "e322338e",
   "metadata": {
    "deletable": false,
    "id": "bf36e69b"
   },
   "outputs": [],
   "source": [
    "data['purpose_category'] = data['purpose'].apply(categorize_purpose)"
   ]
  },
  {
   "cell_type": "markdown",
   "id": "ee31dea6",
   "metadata": {
    "deletable": false,
    "editable": false,
    "id": "09b242bf"
   },
   "source": [
    "### Exploration data"
   ]
  },
  {
   "cell_type": "markdown",
   "id": "4eb1ebd5",
   "metadata": {
    "deletable": false,
    "editable": false,
    "id": "c5d66278"
   },
   "source": [
    "#### Is there a relationship between the number of children and loan repayment on time?"
   ]
  },
   {
   "cell_type": "code",
   "execution_count": 23,
   "id": "29131bd9",
   "metadata": {},
   "outputs": [
    {
     "data": {
      "text/html": [
       "<div>\n",
       "<style scoped>\n",
       "    .dataframe tbody tr th:only-of-type {\n",
       "        vertical-align: middle;\n",
       "    }\n",
       "\n",
       "    .dataframe tbody tr th {\n",
       "        vertical-align: top;\n",
       "    }\n",
       "\n",
       "    .dataframe thead tr th {\n",
       "        text-align: left;\n",
       "    }\n",
       "</style>\n",
       "<table border=\"1\" class=\"dataframe\">\n",
       "  <thead>\n",
       "    <tr>\n",
       "      <th></th>\n",
       "      <th>children</th>\n",
       "      <th>count</th>\n",
       "      <th>sum</th>\n",
       "      <th>mean</th>\n",
       "    </tr>\n",
       "    <tr>\n",
       "      <th></th>\n",
       "      <th></th>\n",
       "      <th>debt</th>\n",
       "      <th>debt</th>\n",
       "      <th>debt</th>\n",
       "    </tr>\n",
       "  </thead>\n",
       "  <tbody>\n",
       "    <tr>\n",
       "      <th>0</th>\n",
       "      <td>0</td>\n",
       "      <td>14091</td>\n",
       "      <td>1063</td>\n",
       "      <td>7.54</td>\n",
       "    </tr>\n",
       "    <tr>\n",
       "      <th>1</th>\n",
       "      <td>1</td>\n",
       "      <td>4808</td>\n",
       "      <td>444</td>\n",
       "      <td>9.23</td>\n",
       "    </tr>\n",
       "    <tr>\n",
       "      <th>2</th>\n",
       "      <td>2</td>\n",
       "      <td>2052</td>\n",
       "      <td>194</td>\n",
       "      <td>9.45</td>\n",
       "    </tr>\n",
       "    <tr>\n",
       "      <th>3</th>\n",
       "      <td>3</td>\n",
       "      <td>330</td>\n",
       "      <td>27</td>\n",
       "      <td>8.18</td>\n",
       "    </tr>\n",
       "    <tr>\n",
       "      <th>4</th>\n",
       "      <td>4</td>\n",
       "      <td>41</td>\n",
       "      <td>4</td>\n",
       "      <td>9.76</td>\n",
       "    </tr>\n",
       "    <tr>\n",
       "      <th>5</th>\n",
       "      <td>5</td>\n",
       "      <td>9</td>\n",
       "      <td>0</td>\n",
       "      <td>0.00</td>\n",
       "    </tr>\n",
       "  </tbody>\n",
       "</table>\n",
       "</div>"
      ],
      "text/plain": [
       "  children  count   sum  mean\n",
       "             debt  debt  debt\n",
       "0        0  14091  1063  7.54\n",
       "1        1   4808   444  9.23\n",
       "2        2   2052   194  9.45\n",
       "3        3    330    27  8.18\n",
       "4        4     41     4  9.76\n",
       "5        5      9     0  0.00"
      ]
     },
     "execution_count": 23,
     "metadata": {},
     "output_type": "execute_result"
    }
   ],
   "source": [
    "debt_children = data.pivot_table(index='children', values='debt', aggfunc=['count', 'sum', 'mean']).reset_index()\n",
    "\n",
    
    "debt_children['mean'] = (debt_children ['mean']* 100).round(2)\n",
    "\n",
    "debt_children"
   ]
  },
     {
   "cell_type": "markdown",
   "id": "2cc4e566",
   "metadata": {
    "deletable": false,
    "id": "3a6b99ec"
   },
   "source": [
    "**Conclusion:** \n",
    "Based on the data obtained, it can be concluded that clients without children are more trustworthy borrowers since the share of debtors in this group is less than in the rest. At the same time, clients with two children are less reliable borrowers.\n",
    "* The number of clients with 4-5 children in the sample is indicative due to their insignificant number. Therefore, they are not taken into account in the conclusions.\n",
    "\n",
    "\n",
    "\n",
    "\n",
    "\n"
   ]
  },
    {
   "cell_type": "markdown",
   "id": "9fb00bee",
   "metadata": {
    "deletable": false,
    "editable": false,
    "id": "97be82ca"
   },
   "source": [
    "#### 3.2 Is there a relationship between marital status and loan repayment on time?"
   ]
  },
  {
   "cell_type": "code",
   "execution_count": 24,
   "id": "dadc5d45",
   "metadata": {
    "deletable": false,
    "id": "dc3f7ee8"
   },
   "outputs": [
    {
     "data": {
      "text/html": [
       "<div>\n",
       "<style scoped>\n",
       "    .dataframe tbody tr th:only-of-type {\n",
       "        vertical-align: middle;\n",
       "    }\n",
       "\n",
       "    .dataframe tbody tr th {\n",
       "        vertical-align: top;\n",
       "    }\n",
       "\n",
       "    .dataframe thead th {\n",
       "        text-align: right;\n",
       "    }\n",
       "</style>\n",
       "<table border=\"1\" class=\"dataframe\">\n",
       "  <thead>\n",
       "    <tr style=\"text-align: right;\">\n",
       "      <th></th>\n",
       "      <th>family_status</th>\n",
       "      <th>debt</th>\n",
       "    </tr>\n",
       "  </thead>\n",
       "  <tbody>\n",
       "    <tr>\n",
       "      <th>0</th>\n",
       "      <td>Не женат / не замужем</td>\n",
       "      <td>9.76</td>\n",
       "    </tr>\n",
       "    <tr>\n",
       "      <th>3</th>\n",
       "      <td>гражданский брак</td>\n",
       "      <td>9.31</td>\n",
       "    </tr>\n",
       "    <tr>\n",
       "      <th>4</th>\n",
       "      <td>женат / замужем</td>\n",
       "      <td>7.56</td>\n",
       "    </tr>\n",
       "    <tr>\n",
       "      <th>1</th>\n",
       "      <td>в разводе</td>\n",
       "      <td>7.06</td>\n",
       "    </tr>\n",
       "    <tr>\n",
       "      <th>2</th>\n",
       "      <td>вдовец / вдова</td>\n",
       "      <td>6.62</td>\n",
       "    </tr>\n",
       "  </tbody>\n",
       "</table>\n",
       "</div>"
      ],
      "text/plain": [
       "           family_status  debt\n",
       "0  Не женат / не замужем  9.76\n",
       "3       гражданский брак  9.31\n",
       "4        женат / замужем  7.56\n",
       "1              в разводе  7.06\n",
       "2         вдовец / вдова  6.62"
      ]
     },
     "execution_count": 24,
     "metadata": {},
     "output_type": "execute_result"
    }
   ],
   "source": [
    "credits_family_status = data.groupby('family_status')['debt'].count()\n",
    "\n",
    "debt_family_status = data.groupby('family_status')['debt'].sum()\n",
    "\n",
    "debt_family_status_mean = debt_family_status / credits_family_status\n",
    "debt_family_status_mean = debt_family_status_mean.reset_index()\n",
    "debt_family_status_mean ['debt'] = (debt_family_status_mean ['debt'] * 100).round(2)\n",
    "\n",
    "debt_family_status_mean.sort_values(by='debt', ascending=False)\n",
    "\n",
    "\n"
   ]
  },
  {
   "cell_type": "markdown",
   "id": "96a49519",
   "metadata": {
    "deletable": false,
    "id": "1cef7837"
   },
   "source": [
    "**Conclusion:** \n",
    "Based on the data obtained, it follows that unmarried/unmarried clients, as well as clients living in a civil marriage, are more likely to allow overdue debt on loans received than married/married clients.\n",
    "The proportion of debtors among divorced and widowed clients is lower than in other categories. However, the results obtained in these categories may not be representative due to their smaller number in the sample."
   ]
  },
    {
   "cell_type": "markdown",
   "id": "4facccba",
   "metadata": {
    "deletable": false,
    "editable": false,
    "id": "1e8b2fca"
   },
   "source": [
    "#### Is there a relationship between income level and loan repayment on time?"
   ]
  },
  {
   "cell_type": "code",
   "execution_count": 25,
   "id": "fcfc9f20",
   "metadata": {
    "deletable": false,
    "id": "cd7e3720"
   },
   "outputs": [
    {
     "data": {
      "text/html": [
       "<div>\n",
       "<style scoped>\n",
       "    .dataframe tbody tr th:only-of-type {\n",
       "        vertical-align: middle;\n",
       "    }\n",
       "\n",
       "    .dataframe tbody tr th {\n",
       "        vertical-align: top;\n",
       "    }\n",
       "\n",
       "    .dataframe thead tr th {\n",
       "        text-align: left;\n",
       "    }\n",
       "</style>\n",
       "<table border=\"1\" class=\"dataframe\">\n",
       "  <thead>\n",
       "    <tr>\n",
       "      <th></th>\n",
       "      <th>total_income_category</th>\n",
       "      <th>Доход</th>\n",
       "      <th colspan=\"3\" halign=\"left\">debt</th>\n",
       "      <th>Доля должников</th>\n",
       "    </tr>\n",
       "    <tr>\n",
       "      <th></th>\n",
       "      <th></th>\n",
       "      <th></th>\n",
       "      <th>count</th>\n",
       "      <th>sum</th>\n",
       "      <th>mean</th>\n",
       "      <th></th>\n",
       "    </tr>\n",
       "  </thead>\n",
       "  <tbody>\n",
       "    <tr>\n",
       "      <th>4</th>\n",
       "      <td>E</td>\n",
       "      <td>до 30 тыс.</td>\n",
       "      <td>22</td>\n",
       "      <td>2</td>\n",
       "      <td>0.090909</td>\n",
       "      <td>9.09</td>\n",
       "    </tr>\n",
       "    <tr>\n",
       "      <th>2</th>\n",
       "      <td>C</td>\n",
       "      <td>50-200 тыс.</td>\n",
       "      <td>15921</td>\n",
       "      <td>1353</td>\n",
       "      <td>0.084982</td>\n",
       "      <td>8.50</td>\n",
       "    </tr>\n",
       "    <tr>\n",
       "      <th>0</th>\n",
       "      <td>A</td>\n",
       "      <td>1 млн и выше</td>\n",
       "      <td>25</td>\n",
       "      <td>2</td>\n",
       "      <td>0.080000</td>\n",
       "      <td>8.00</td>\n",
       "    </tr>\n",
       "    <tr>\n",
       "      <th>1</th>\n",
       "      <td>B</td>\n",
       "      <td>200 тыс.-1 млн</td>\n",
       "      <td>5014</td>\n",
       "      <td>354</td>\n",
       "      <td>0.070602</td>\n",
       "      <td>7.06</td>\n",
       "    </tr>\n",
       "    <tr>\n",
       "      <th>3</th>\n",
       "      <td>D</td>\n",
       "      <td>30-50 тыс.</td>\n",
       "      <td>349</td>\n",
       "      <td>21</td>\n",
       "      <td>0.060172</td>\n",
       "      <td>6.02</td>\n",
       "    </tr>\n",
       "  </tbody>\n",
       "</table>\n",
       "</div>"
      ],
      "text/plain": [
       "  total_income_category           Доход   debt                 Доля должников\n",
       "                                         count   sum      mean               \n",
       "4                     E      до 30 тыс.     22     2  0.090909           9.09\n",
       "2                     C     50-200 тыс.  15921  1353  0.084982           8.50\n",
       "0                     A    1 млн и выше     25     2  0.080000           8.00\n",
       "1                     B  200 тыс.-1 млн   5014   354  0.070602           7.06\n",
       "3                     D      30-50 тыс.    349    21  0.060172           6.02"
      ]
     },
     "execution_count": 25,
     "metadata": {},
     "output_type": "execute_result"
    }
   ],
   "source": [
    "debt_total_income = data.groupby('total_income_category').agg({\n",
    "                    'debt': ['count', 'sum','mean']}).reset_index()\n",
    "\n",
     "debt_total_income['Доля должников'] = (debt_total_income['debt']['mean'] * 100).round(2)\n",
    "\n",
    "debt_total_income.insert(1, 'Доход', ['1 млн и выше', '200 тыс.-1 млн', '50-200 тыс.', '30-50 тыс.', 'до 30 тыс.'],False)\n",
    "\n",
    "debt_total_income\n",
    "\n",
    "debt_total_income.sort_values(by='Доля должников', ascending=False)\n",
    "\n",
    "\n"
   ]
  },
   
    {
   "cell_type": "markdown",
   "id": "fea6f4f3",
   "metadata": {
    "deletable": false,
    "id": "e8593def"
   },
   "source": [
    "**Conclusion:** \n",
    "In category C (with income from 50-200 thousand rubles), the share of debtors is higher than in category B (with income from 200 thousand rubles to 1 million rubles). Therefore, the higher the income, the lower the risk of loan delinquency. \n",
    "Clients of categories D-E (up to 50 thousand rubles) and A (with income over 1 million rubles) were not taken into account in the output due to their small number in the sample.\n"
   ]
  },
    {
   "cell_type": "markdown",
   "id": "4727347d",
   "metadata": {
    "deletable": false,
    "editable": false,
    "id": "99ecbd1f"
   },
   "source": [
    "#### How do different purposes of a loan affect its repayment on time?"
   ]
  },
  {
   "cell_type": "code",
   "execution_count": 26,
   "id": "370f7f4d",
   "metadata": {
    "deletable": false,
    "id": "2b687290"
   },
   "outputs": [
    {
     "data": {
      "text/html": [
       "<div>\n",
       "<style scoped>\n",
       "    .dataframe tbody tr th:only-of-type {\n",
       "        vertical-align: middle;\n",
       "    }\n",
       "\n",
       "    .dataframe tbody tr th {\n",
       "        vertical-align: top;\n",
       "    }\n",
       "\n",
       "    .dataframe thead tr th {\n",
       "        text-align: left;\n",
       "    }\n",
       "</style>\n",
       "<table border=\"1\" class=\"dataframe\">\n",
       "  <thead>\n",
       "    <tr>\n",
       "      <th></th>\n",
       "      <th>purpose_category</th>\n",
       "      <th>count</th>\n",
       "      <th>sum</th>\n",
       "      <th>mean</th>\n",
       "    </tr>\n",
       "    <tr>\n",
       "      <th></th>\n",
       "      <th></th>\n",
       "      <th>debt</th>\n",
       "      <th>debt</th>\n",
       "      <th>debt</th>\n",
       "    </tr>\n",
       "  </thead>\n",
       "  <tbody>\n",
       "    <tr>\n",
       "      <th>0</th>\n",
       "      <td>операции с автомобилем</td>\n",
       "      <td>4279</td>\n",
       "      <td>400</td>\n",
       "      <td>9.35</td>\n",
       "    </tr>\n",
       "    <tr>\n",
       "      <th>1</th>\n",
       "      <td>операции с недвижимостью</td>\n",
       "      <td>10751</td>\n",
       "      <td>780</td>\n",
       "      <td>7.26</td>\n",
       "    </tr>\n",
       "    <tr>\n",
       "      <th>2</th>\n",
       "      <td>получение образования</td>\n",
       "      <td>3988</td>\n",
       "      <td>369</td>\n",
       "      <td>9.25</td>\n",
       "    </tr>\n",
       "    <tr>\n",
       "      <th>3</th>\n",
       "      <td>проведение свадьбы</td>\n",
       "      <td>2313</td>\n",
       "      <td>183</td>\n",
       "      <td>7.91</td>\n",
       "    </tr>\n",
       "  </tbody>\n",
       "</table>\n",
       "</div>"
      ],
      "text/plain": [
       "           purpose_category  count  sum  mean\n",
       "                              debt debt  debt\n",
       "0    операции с автомобилем   4279  400  9.35\n",
       "1  операции с недвижимостью  10751  780  7.26\n",
       "2     получение образования   3988  369  9.25\n",
       "3        проведение свадьбы   2313  183  7.91"
      ]
     },
     "execution_count": 26,
     "metadata": {},
     "output_type": "execute_result"
    }
   ],
   "source": [
    "debt_purpose_category = data.pivot_table(index='purpose_category', values='debt', aggfunc=['count', 'sum', 'mean']).reset_index()\n",
    "\n",
    "debt_purpose_category['mean'] = (debt_purpose_category['mean'] *100).round(2)\n",
    "\n",
    "debt_purpose_category\n",
    "\n",
    "\n"
   ]
  },
   {
   "cell_type": "markdown",
   "id": "090ac405",
   "metadata": {},
   "source": [
    "**Conclusion:** \n",
    "According to the data obtained, borrowers who have taken out a loan to purchase real estate are more responsible for repaying the loan on time. This may be because loans for real estate purchases are mainly issued against property security. This circumstance encourages borrowers to contribute funds to repay the loan regularly and on time.\n",
    "The categories of clients who received a loan for education and car transactions have the same percentage of debtors (9%), which is slightly higher than in the categories of real estate purchase (7%) and weddings (8%). "
   ]
  },
    
    {
   "cell_type": "markdown",
   "id": "fc36651d",
   "metadata": {
    "deletable": false,
    "editable": false,
    "id": "6db5255a"
   },
   "source": [
    "### General conclusion:"
   ]
  },
  {
   "cell_type": "markdown",
   "id": "952954f4",
   "metadata": {
    "deletable": false,
    "id": "bad65432"
   },
   "source": [
    "To analyze and evaluate the factors affecting the ability of bank borrowers to repay a loan on time, the statistics of the solvency of bank customers were analyzed.\n",
    "\n",
    "During the analysis of the initial data, gaps, artifacts and duplicates were identified in the following columns of the table:\n",
    "\n",
    "1. The <b> days_employed </b> and <b>total_income</b> columns have gaps that account for 10% of each column. The gaps in these columns are random because the probability of gaps in them depends on the values in the dataset. In this case, there are gaps in the <b>days_employed</b> column because some clients do not have a length of service, respectively, they are unemployed, and since they are unemployed, they also have no income, therefore, in the <b>total_income</b> column also passes. The appearance of gaps in these columns may be due to either a human factor or some technical error. Median values were used to fill in the gaps in the quantitative variables in the <b>days_employed</b> and <b>total_income</b> columns, depending on the type of employment. Using median values to fill gaps in these columns is optimal because there may be outliers among the values, i.e., values that are significantly different from the majority and may distort the calculation result. \n",
    "2. There are artifacts in several pillars. Thus, in the <b>days_employed</b> column, there are negative values of seniority, which is not true and appeared by mistake. During preprocessing, these anomalies were replaced by positive values. The anomalous age values have been removed in the <b>children</b> column. \n",
    "3. The number of explicitly deleted duplicate rows was 71 (0.3%). Implicit duplicates were also found in the education column because the same values were written using different cases. Implicit copies are handled by casting the values in this column to the same subject. \n",
    "\n",
    "After completing the pre-processing stage of the initial data, an analysis was made of the influence of such factors as marital status, the number of children, income level, as well as the purpose of obtaining a loan for the repayment of loan debt by borrowers on time:\n",
    "\n",
    "1. Clients without children are more trustworthy borrowers since the proportion of debtors in this group is smaller than in the rest. At the same time, clients with two children are less reliable borrowers. At the same time, clients with 4-5 children in the sample are not representative due to their insignificant number. Therefore, they are not taken into account in the conclusions.\n",
    "2. Single/unmarried clients and common-law clients are more likely to be in arrears on loans received than married/married clients. The proportion of debtors among divorced and widowed clients is lower than in other categories; however, the results obtained in these categories may not be representative due to their smaller number in the sample.\n",
    "3. In category C (with income from 50-200 thousand rubles), the share of debtors is higher than in category B (with income from 200 thousand rubles to 1 million rubles). Therefore, the higher the income, the lower the risk of delinquency on loans. Clients of categories D-E (up to 50 thousand rubles) and A (with income over 1 million rubles) should not  be  considered in the output due to their small number in the sample.\n",
    "4. Borrowers who have taken out a loan to purchase real estate are more responsible for repaying the loan on time. This may be because loans for the purchase of real estate are mainly issued against the security of property. This circumstance encourages borrowers to contribute funds to repay the loan regularly and on time. The categories of clients who received a loan for education and car transactions have the same percentage of debtors (9%), which is slightly higher than in the categories of real estate purchase (7%) and wedding (8%).\n",
    "\n",
    "<b> Data analysis showed that more trustworthy borrowers are married, childless clients with a total income of 200 thousand rubles, who take out a loan to purchase real estate.</b> \n"
   ]
  },
   {
   "cell_type": "markdown",
   "id": "9d56de65",
   "metadata": {},
   "source": [
    
   ]
  }    
 ], 
 
 
 "metadata": {
  "ExecuteTimeLog": [
   {
    "duration": 51,
    "start_time": "2022-10-13T08:52:05.517Z"
   },
   {
    "duration": 476,
    "start_time": "2022-10-13T08:52:26.711Z"
   },
   {
    "duration": 25,
    "start_time": "2022-10-13T08:52:27.189Z"
   },
   {
    "duration": 17,
    "start_time": "2022-10-13T08:52:27.216Z"
   },
   {
    "duration": 10,
    "start_time": "2022-10-13T08:52:27.236Z"
   },
   {
    "duration": 64,
    "start_time": "2022-10-13T08:52:27.248Z"
   },
   {
    "duration": 4,
    "start_time": "2022-10-13T08:52:27.314Z"
   },
   {
    "duration": 18,
    "start_time": "2022-10-13T08:52:27.320Z"
   },
   {
    "duration": 5,
    "start_time": "2022-10-13T08:52:27.339Z"
   },
   {
    "duration": 8,
    "start_time": "2022-10-13T08:52:27.346Z"
   },
   {
    "duration": 5,
    "start_time": "2022-10-13T08:52:27.359Z"
   },
   {
    "duration": 74,
    "start_time": "2022-10-13T08:52:27.365Z"
   },
   {
    "duration": 11,
    "start_time": "2022-10-13T08:52:27.441Z"
   },
   {
    "duration": 6,
    "start_time": "2022-10-13T08:52:27.453Z"
   },
   {
    "duration": 36,
    "start_time": "2022-10-13T08:52:27.461Z"
   },
   {
    "duration": 23,
    "start_time": "2022-10-13T08:52:27.499Z"
   },
   {
    "duration": 19,
    "start_time": "2022-10-13T08:52:27.524Z"
   },
   {
    "duration": 3,
    "start_time": "2022-10-13T08:52:27.545Z"
   },
   {
    "duration": 12,
    "start_time": "2022-10-13T08:52:27.551Z"
   },
   {
    "duration": 29,
    "start_time": "2022-10-13T08:52:27.565Z"
   },
   {
    "duration": 13,
    "start_time": "2022-10-13T08:52:27.596Z"
   },
   {
    "duration": 33,
    "start_time": "2022-10-13T08:52:27.611Z"
   },
   {
    "duration": 23,
    "start_time": "2022-10-13T08:52:27.646Z"
   },
   {
    "duration": 25,
    "start_time": "2022-10-13T08:52:27.672Z"
   },
   {
    "duration": 34,
    "start_time": "2022-10-13T08:52:27.699Z"
   },
   {
    "duration": 32,
    "start_time": "2022-10-13T08:52:27.735Z"
   },
   {
    "duration": 5,
    "start_time": "2022-10-13T08:54:12.812Z"
   },
   {
    "duration": 6,
    "start_time": "2022-10-13T08:54:48.485Z"
   },
   {
    "duration": 1021,
    "start_time": "2022-10-13T14:16:10.144Z"
   },
   {
    "duration": 24,
    "start_time": "2022-10-13T14:16:11.166Z"
   },
   {
    "duration": 14,
    "start_time": "2022-10-13T14:16:11.191Z"
   },
   {
    "duration": 10,
    "start_time": "2022-10-13T14:16:11.207Z"
   },
   {
    "duration": 35,
    "start_time": "2022-10-13T14:16:11.218Z"
   },
   {
    "duration": 4,
    "start_time": "2022-10-13T14:16:11.255Z"
   },
   {
    "duration": 36,
    "start_time": "2022-10-13T14:16:11.260Z"
   },
   {
    "duration": 5,
    "start_time": "2022-10-13T14:16:11.298Z"
   },
   {
    "duration": 9,
    "start_time": "2022-10-13T14:16:11.305Z"
   },
   {
    "duration": 5,
    "start_time": "2022-10-13T14:16:11.317Z"
   },
   {
    "duration": 40,
    "start_time": "2022-10-13T14:16:11.324Z"
   },
   {
    "duration": 33,
    "start_time": "2022-10-13T14:16:11.366Z"
   },
   {
    "duration": 4,
    "start_time": "2022-10-13T14:16:11.401Z"
   },
   {
    "duration": 14,
    "start_time": "2022-10-13T14:16:11.406Z"
   },
   {
    "duration": 27,
    "start_time": "2022-10-13T14:16:11.422Z"
   },
   {
    "duration": 45,
    "start_time": "2022-10-13T14:16:11.451Z"
   },
   {
    "duration": 4,
    "start_time": "2022-10-13T14:16:11.498Z"
   },
   {
    "duration": 18,
    "start_time": "2022-10-13T14:16:11.503Z"
   },
   {
    "duration": 7,
    "start_time": "2022-10-13T14:16:11.523Z"
   },
   {
    "duration": 8,
    "start_time": "2022-10-13T14:16:11.532Z"
   },
   {
    "duration": 14,
    "start_time": "2022-10-13T14:16:11.542Z"
   },
   {
    "duration": 8,
    "start_time": "2022-10-13T14:16:11.558Z"
   },
   {
    "duration": 3,
    "start_time": "2022-10-13T14:16:11.567Z"
   },
   {
    "duration": 2,
    "start_time": "2022-10-13T14:16:11.595Z"
   },
   {
    "duration": 8,
    "start_time": "2022-10-13T14:16:11.599Z"
   },
   {
    "duration": 8,
    "start_time": "2022-10-13T14:16:19.897Z"
   },
   {
    "duration": 26,
    "start_time": "2022-10-13T14:16:27.417Z"
   },
   {
    "duration": 24,
    "start_time": "2022-10-13T14:16:37.553Z"
   },
   {
    "duration": 25,
    "start_time": "2022-10-13T14:19:21.543Z"
   },
   {
    "duration": 23,
    "start_time": "2022-10-13T14:21:16.947Z"
   },
   {
    "duration": 7,
    "start_time": "2022-10-13T14:21:36.360Z"
   },
   {
    "duration": 8,
    "start_time": "2022-10-13T14:23:12.363Z"
   },
   {
    "duration": 6,
    "start_time": "2022-10-13T14:23:20.379Z"
   },
   {
    "duration": 100,
    "start_time": "2022-10-13T14:28:20.828Z"
   },
   {
    "duration": 85,
    "start_time": "2022-10-13T14:32:42.007Z"
   },
   {
    "duration": 8,
    "start_time": "2022-10-13T14:32:49.231Z"
   },
   {
    "duration": 7,
    "start_time": "2022-10-13T14:33:58.714Z"
   },
   {
    "duration": 8,
    "start_time": "2022-10-13T14:36:46.491Z"
   },
   {
    "duration": 6,
    "start_time": "2022-10-13T14:37:11.056Z"
   },
   {
    "duration": 7,
    "start_time": "2022-10-13T14:37:21.724Z"
   },
   {
    "duration": 9,
    "start_time": "2022-10-13T14:38:14.144Z"
   },
   {
    "duration": 6,
    "start_time": "2022-10-13T14:44:22.001Z"
   },
   {
    "duration": 9,
    "start_time": "2022-10-13T14:44:30.484Z"
   },
   {
    "duration": 9,
    "start_time": "2022-10-13T14:46:19.849Z"
   },
   {
    "duration": 10,
    "start_time": "2022-10-13T14:51:07.299Z"
   },
   {
    "duration": 9,
    "start_time": "2022-10-13T14:56:07.612Z"
   },
   {
    "duration": 76,
    "start_time": "2022-10-13T14:56:41.075Z"
   },
   {
    "duration": 74,
    "start_time": "2022-10-13T14:56:58.156Z"
   },
   {
    "duration": 8,
    "start_time": "2022-10-13T14:59:16.361Z"
   },
   {
    "duration": 7,
    "start_time": "2022-10-13T15:00:57.686Z"
   },
   {
    "duration": 8,
    "start_time": "2022-10-13T15:03:54.538Z"
   },
   {
    "duration": 9,
    "start_time": "2022-10-13T15:04:03.188Z"
   },
   {
    "duration": 9,
    "start_time": "2022-10-13T15:04:25.830Z"
   },
   {
    "duration": 100,
    "start_time": "2022-10-13T15:12:30.536Z"
   },
   {
    "duration": 81,
    "start_time": "2022-10-13T15:12:42.977Z"
   },
   {
    "duration": 102,
    "start_time": "2022-10-13T15:13:24.845Z"
   },
   {
    "duration": 4,
    "start_time": "2022-10-13T15:13:38.618Z"
   },
   {
    "duration": 80,
    "start_time": "2022-10-13T15:13:46.583Z"
   },
   {
    "duration": 145,
    "start_time": "2022-10-13T15:14:20.310Z"
   },
   {
    "duration": 69,
    "start_time": "2022-10-13T15:14:34.182Z"
   },
   {
    "duration": 9,
    "start_time": "2022-10-13T15:15:54.555Z"
   },
   {
    "duration": 7,
    "start_time": "2022-10-13T15:20:02.724Z"
   },
   {
    "duration": 7,
    "start_time": "2022-10-13T15:20:22.529Z"
   },
   {
    "duration": 7,
    "start_time": "2022-10-13T15:20:58.297Z"
   },
   {
    "duration": 8,
    "start_time": "2022-10-13T15:21:30.558Z"
   },
   {
    "duration": 10,
    "start_time": "2022-10-13T15:21:50.506Z"
   },
   {
    "duration": 8,
    "start_time": "2022-10-13T15:22:11.951Z"
   },
   {
    "duration": 9,
    "start_time": "2022-10-13T15:23:08.190Z"
   },
   {
    "duration": 11,
    "start_time": "2022-10-13T15:32:58.924Z"
   },
   {
    "duration": 18,
    "start_time": "2022-10-13T15:33:07.177Z"
   },
   {
    "duration": 20,
    "start_time": "2022-10-13T15:33:27.713Z"
   },
   {
    "duration": 9,
    "start_time": "2022-10-13T15:35:48.071Z"
   },
   {
    "duration": 11,
    "start_time": "2022-10-13T15:38:25.980Z"
   },
   {
    "duration": 12,
    "start_time": "2022-10-13T15:59:14.676Z"
   },
   {
    "duration": 60,
    "start_time": "2022-10-14T05:17:47.402Z"
   },
   {
    "duration": 848,
    "start_time": "2022-10-14T05:18:10.243Z"
   },
   {
    "duration": 28,
    "start_time": "2022-10-14T05:18:11.094Z"
   },
   {
    "duration": 29,
    "start_time": "2022-10-14T05:18:11.124Z"
   },
   {
    "duration": 34,
    "start_time": "2022-10-14T05:18:11.157Z"
   },
   {
    "duration": 57,
    "start_time": "2022-10-14T05:18:11.194Z"
   },
   {
    "duration": 4,
    "start_time": "2022-10-14T05:18:11.254Z"
   },
   {
    "duration": 29,
    "start_time": "2022-10-14T05:18:11.261Z"
   },
   {
    "duration": 12,
    "start_time": "2022-10-14T05:18:11.292Z"
   },
   {
    "duration": 19,
    "start_time": "2022-10-14T05:18:11.307Z"
   },
   {
    "duration": 12,
    "start_time": "2022-10-14T05:18:11.330Z"
   },
   {
    "duration": 65,
    "start_time": "2022-10-14T05:18:11.344Z"
   },
   {
    "duration": 13,
    "start_time": "2022-10-14T05:18:11.412Z"
   },
   {
    "duration": 16,
    "start_time": "2022-10-14T05:18:11.427Z"
   },
   {
    "duration": 35,
    "start_time": "2022-10-14T05:18:11.444Z"
   },
   {
    "duration": 33,
    "start_time": "2022-10-14T05:18:11.484Z"
   },
   {
    "duration": 33,
    "start_time": "2022-10-14T05:18:11.520Z"
   },
   {
    "duration": 5,
    "start_time": "2022-10-14T05:18:11.555Z"
   },
   {
    "duration": 57,
    "start_time": "2022-10-14T05:18:11.562Z"
   },
   {
    "duration": 25,
    "start_time": "2022-10-14T05:18:11.622Z"
   },
   {
    "duration": 32,
    "start_time": "2022-10-14T05:18:11.650Z"
   },
   {
    "duration": 33,
    "start_time": "2022-10-14T05:18:11.684Z"
   },
   {
    "duration": 19,
    "start_time": "2022-10-14T05:18:11.718Z"
   },
   {
    "duration": 34,
    "start_time": "2022-10-14T05:18:11.739Z"
   },
   {
    "duration": 50,
    "start_time": "2022-10-14T05:18:11.774Z"
   },
   {
    "duration": 28,
    "start_time": "2022-10-14T05:18:11.827Z"
   },
   {
    "duration": 9,
    "start_time": "2022-10-14T05:30:11.084Z"
   },
   {
    "duration": 65,
    "start_time": "2022-10-14T05:34:48.604Z"
   },
   {
    "duration": 33,
    "start_time": "2022-10-14T05:35:56.614Z"
   },
   {
    "duration": 105,
    "start_time": "2022-10-14T05:36:47.517Z"
   },
   {
    "duration": 36,
    "start_time": "2022-10-14T05:38:27.024Z"
   },
   {
    "duration": 40,
    "start_time": "2022-10-14T05:38:40.194Z"
   },
   {
    "duration": 39,
    "start_time": "2022-10-14T05:40:24.984Z"
   },
   {
    "duration": 560,
    "start_time": "2022-10-14T05:48:06.687Z"
   },
   {
    "duration": 23,
    "start_time": "2022-10-14T05:48:07.249Z"
   },
   {
    "duration": 38,
    "start_time": "2022-10-14T05:48:07.274Z"
   },
   {
    "duration": 12,
    "start_time": "2022-10-14T05:48:07.314Z"
   },
   {
    "duration": 50,
    "start_time": "2022-10-14T05:48:07.330Z"
   },
   {
    "duration": 7,
    "start_time": "2022-10-14T05:48:07.390Z"
   },
   {
    "duration": 39,
    "start_time": "2022-10-14T05:48:07.398Z"
   },
   {
    "duration": 31,
    "start_time": "2022-10-14T05:48:07.439Z"
   },
   {
    "duration": 20,
    "start_time": "2022-10-14T05:48:07.473Z"
   },
   {
    "duration": 23,
    "start_time": "2022-10-14T05:48:07.496Z"
   },
   {
    "duration": 59,
    "start_time": "2022-10-14T05:48:07.522Z"
   },
   {
    "duration": 19,
    "start_time": "2022-10-14T05:48:07.583Z"
   },
   {
    "duration": 27,
    "start_time": "2022-10-14T05:48:07.607Z"
   },
   {
    "duration": 22,
    "start_time": "2022-10-14T05:48:07.638Z"
   },
   {
    "duration": 46,
    "start_time": "2022-10-14T05:48:07.662Z"
   },
   {
    "duration": 23,
    "start_time": "2022-10-14T05:48:07.712Z"
   },
   {
    "duration": 5,
    "start_time": "2022-10-14T05:48:07.737Z"
   },
   {
    "duration": 32,
    "start_time": "2022-10-14T05:48:07.744Z"
   },
   {
    "duration": 28,
    "start_time": "2022-10-14T05:48:07.778Z"
   },
   {
    "duration": 15,
    "start_time": "2022-10-14T05:48:07.808Z"
   },
   {
    "duration": 42,
    "start_time": "2022-10-14T05:48:07.825Z"
   },
   {
    "duration": 18,
    "start_time": "2022-10-14T05:48:07.869Z"
   },
   {
    "duration": 51,
    "start_time": "2022-10-14T05:48:07.889Z"
   },
   {
    "duration": 3,
    "start_time": "2022-10-14T05:48:07.942Z"
   },
   {
    "duration": 40,
    "start_time": "2022-10-14T05:48:07.947Z"
   },
   {
    "duration": 29,
    "start_time": "2022-10-14T05:48:34.929Z"
   },
   {
    "duration": 13,
    "start_time": "2022-10-14T05:49:20.767Z"
   },
   {
    "duration": 10,
    "start_time": "2022-10-14T05:49:46.576Z"
   },
   {
    "duration": 75,
    "start_time": "2022-10-14T05:50:06.727Z"
   },
   {
    "duration": 17,
    "start_time": "2022-10-14T05:50:44.688Z"
   },
   {
    "duration": 84,
    "start_time": "2022-10-14T05:51:45.280Z"
   },
   {
    "duration": 8,
    "start_time": "2022-10-14T05:52:06.418Z"
   },
   {
    "duration": 15,
    "start_time": "2022-10-14T05:52:28.214Z"
   },
   {
    "duration": 10,
    "start_time": "2022-10-14T05:52:45.728Z"
   },
   {
    "duration": 14,
    "start_time": "2022-10-14T05:53:04.772Z"
   },
   {
    "duration": 10,
    "start_time": "2022-10-14T05:53:31.730Z"
   },
   {
    "duration": 10,
    "start_time": "2022-10-14T05:54:16.378Z"
   },
   {
    "duration": 11,
    "start_time": "2022-10-14T05:54:39.341Z"
   },
   {
    "duration": 34,
    "start_time": "2022-10-14T06:08:50.233Z"
   },
   {
    "duration": 86,
    "start_time": "2022-10-14T06:14:09.861Z"
   },
   {
    "duration": 190,
    "start_time": "2022-10-14T06:15:25.618Z"
   },
   {
    "duration": 36,
    "start_time": "2022-10-14T06:18:52.301Z"
   },
   {
    "duration": 37,
    "start_time": "2022-10-14T06:19:05.468Z"
   },
   {
    "duration": 5,
    "start_time": "2022-10-14T06:23:08.265Z"
   },
   {
    "duration": 82,
    "start_time": "2022-10-14T06:23:16.104Z"
   },
   {
    "duration": 35,
    "start_time": "2022-10-14T06:23:31.141Z"
   },
   {
    "duration": 1484,
    "start_time": "2022-10-14T06:23:49.859Z"
   },
   {
    "duration": 42,
    "start_time": "2022-10-14T06:25:24.198Z"
   },
   {
    "duration": 40,
    "start_time": "2022-10-14T06:26:03.004Z"
   },
   {
    "duration": 1186,
    "start_time": "2022-10-14T06:27:27.299Z"
   },
   {
    "duration": 44,
    "start_time": "2022-10-14T06:27:53.996Z"
   },
   {
    "duration": 34,
    "start_time": "2022-10-14T06:33:06.276Z"
   },
   {
    "duration": 49,
    "start_time": "2022-10-14T06:38:47.356Z"
   },
   {
    "duration": 47,
    "start_time": "2022-10-14T06:39:10.282Z"
   },
   {
    "duration": 27,
    "start_time": "2022-10-14T06:49:23.877Z"
   },
   {
    "duration": 44,
    "start_time": "2022-10-14T06:49:38.283Z"
   },
   {
    "duration": 95,
    "start_time": "2022-10-14T06:55:27.918Z"
   },
   {
    "duration": 15,
    "start_time": "2022-10-14T06:56:45.687Z"
   },
   {
    "duration": 27,
    "start_time": "2022-10-14T06:57:11.037Z"
   },
   {
    "duration": 34,
    "start_time": "2022-10-14T06:57:29.197Z"
   },
   {
    "duration": 35,
    "start_time": "2022-10-14T06:58:01.398Z"
   },
   {
    "duration": 33,
    "start_time": "2022-10-14T07:02:58.959Z"
   },
   {
    "duration": 28,
    "start_time": "2022-10-14T07:03:14.959Z"
   },
   {
    "duration": 74,
    "start_time": "2022-10-14T07:06:05.400Z"
   },
   {
    "duration": 34,
    "start_time": "2022-10-14T07:06:11.367Z"
   },
   {
    "duration": 73,
    "start_time": "2022-10-14T07:06:47.046Z"
   },
   {
    "duration": 26,
    "start_time": "2022-10-14T07:07:25.480Z"
   },
   {
    "duration": 35,
    "start_time": "2022-10-14T07:07:31.519Z"
   },
   {
    "duration": 152,
    "start_time": "2022-10-14T07:08:10.959Z"
   },
   {
    "duration": 90,
    "start_time": "2022-10-14T07:08:25.757Z"
   },
   {
    "duration": 75,
    "start_time": "2022-10-14T07:08:41.078Z"
   },
   {
    "duration": 5,
    "start_time": "2022-10-14T07:09:16.847Z"
   },
   {
    "duration": 25,
    "start_time": "2022-10-14T07:12:53.448Z"
   },
   {
    "duration": 33,
    "start_time": "2022-10-14T07:13:05.847Z"
   },
   {
    "duration": 30,
    "start_time": "2022-10-14T07:14:54.639Z"
   },
   {
    "duration": 38,
    "start_time": "2022-10-14T07:15:04.015Z"
   },
   {
    "duration": 34,
    "start_time": "2022-10-14T07:15:36.483Z"
   },
   {
    "duration": 37,
    "start_time": "2022-10-14T07:16:13.413Z"
   },
   {
    "duration": 35,
    "start_time": "2022-10-14T07:18:42.798Z"
   },
   {
    "duration": 34,
    "start_time": "2022-10-14T07:18:55.606Z"
   },
   {
    "duration": 35,
    "start_time": "2022-10-14T07:19:10.121Z"
   },
   {
    "duration": 8,
    "start_time": "2022-10-14T07:31:31.522Z"
   },
   {
    "duration": 14,
    "start_time": "2022-10-14T07:36:09.802Z"
   },
   {
    "duration": 12,
    "start_time": "2022-10-14T07:36:32.162Z"
   },
   {
    "duration": 17,
    "start_time": "2022-10-14T07:36:40.492Z"
   },
   {
    "duration": 14,
    "start_time": "2022-10-14T07:40:20.204Z"
   },
   {
    "duration": 35,
    "start_time": "2022-10-14T07:43:46.123Z"
   },
   {
    "duration": 33,
    "start_time": "2022-10-14T07:43:54.524Z"
   },
   {
    "duration": 32,
    "start_time": "2022-10-14T07:44:16.524Z"
   },
   {
    "duration": 36,
    "start_time": "2022-10-14T07:44:32.763Z"
   },
   {
    "duration": 12,
    "start_time": "2022-10-14T07:45:13.163Z"
   },
   {
    "duration": 11,
    "start_time": "2022-10-14T07:47:40.364Z"
   },
   {
    "duration": 12,
    "start_time": "2022-10-14T08:00:50.572Z"
   },
   {
    "duration": 12,
    "start_time": "2022-10-14T08:01:41.131Z"
   },
   {
    "duration": 11,
    "start_time": "2022-10-14T08:02:26.550Z"
   },
   {
    "duration": 17,
    "start_time": "2022-10-14T08:10:09.890Z"
   },
   {
    "duration": 31,
    "start_time": "2022-10-14T08:24:16.089Z"
   },
   {
    "duration": 17,
    "start_time": "2022-10-14T08:29:54.490Z"
   },
   {
    "duration": 10,
    "start_time": "2022-10-14T08:30:16.291Z"
   },
   {
    "duration": 13,
    "start_time": "2022-10-14T08:30:39.937Z"
   },
   {
    "duration": 12,
    "start_time": "2022-10-14T08:35:08.571Z"
   },
   {
    "duration": 11,
    "start_time": "2022-10-14T08:38:19.848Z"
   },
   {
    "duration": 12,
    "start_time": "2022-10-14T08:38:58.088Z"
   },
   {
    "duration": 12,
    "start_time": "2022-10-14T08:39:10.170Z"
   },
   {
    "duration": 522,
    "start_time": "2022-10-14T13:37:45.795Z"
   },
   {
    "duration": 20,
    "start_time": "2022-10-14T13:37:46.319Z"
   },
   {
    "duration": 12,
    "start_time": "2022-10-14T13:37:46.341Z"
   },
   {
    "duration": 8,
    "start_time": "2022-10-14T13:37:46.356Z"
   },
   {
    "duration": 43,
    "start_time": "2022-10-14T13:37:46.366Z"
   },
   {
    "duration": 4,
    "start_time": "2022-10-14T13:37:46.410Z"
   },
   {
    "duration": 25,
    "start_time": "2022-10-14T13:37:46.415Z"
   },
   {
    "duration": 27,
    "start_time": "2022-10-14T13:37:46.442Z"
   },
   {
    "duration": 25,
    "start_time": "2022-10-14T13:37:46.470Z"
   },
   {
    "duration": 20,
    "start_time": "2022-10-14T13:37:46.497Z"
   },
   {
    "duration": 48,
    "start_time": "2022-10-14T13:37:46.518Z"
   },
   {
    "duration": 10,
    "start_time": "2022-10-14T13:37:46.567Z"
   },
   {
    "duration": 13,
    "start_time": "2022-10-14T13:37:46.579Z"
   },
   {
    "duration": 30,
    "start_time": "2022-10-14T13:37:46.594Z"
   },
   {
    "duration": 29,
    "start_time": "2022-10-14T13:37:46.625Z"
   },
   {
    "duration": 22,
    "start_time": "2022-10-14T13:37:46.655Z"
   },
   {
    "duration": 4,
    "start_time": "2022-10-14T13:37:46.678Z"
   },
   {
    "duration": 45,
    "start_time": "2022-10-14T13:37:46.683Z"
   },
   {
    "duration": 10,
    "start_time": "2022-10-14T13:37:46.730Z"
   },
   {
    "duration": 26,
    "start_time": "2022-10-14T13:37:46.741Z"
   },
   {
    "duration": 48,
    "start_time": "2022-10-14T13:37:46.769Z"
   },
   {
    "duration": 25,
    "start_time": "2022-10-14T13:37:46.818Z"
   },
   {
    "duration": 26,
    "start_time": "2022-10-14T13:37:46.844Z"
   },
   {
    "duration": 26,
    "start_time": "2022-10-14T13:37:46.871Z"
   },
   {
    "duration": 29,
    "start_time": "2022-10-14T13:37:46.899Z"
   },
   {
    "duration": 67,
    "start_time": "2022-10-14T13:58:33.934Z"
   },
   {
    "duration": 68,
    "start_time": "2022-10-14T13:58:44.989Z"
   },
   {
    "duration": 8,
    "start_time": "2022-10-14T14:01:04.908Z"
   },
   {
    "duration": 9,
    "start_time": "2022-10-14T14:01:34.840Z"
   },
   {
    "duration": 12,
    "start_time": "2022-10-14T14:04:07.661Z"
   },
   {
    "duration": 11,
    "start_time": "2022-10-14T14:06:39.491Z"
   },
   {
    "duration": 14,
    "start_time": "2022-10-14T14:11:42.517Z"
   },
   {
    "duration": 13,
    "start_time": "2022-10-14T14:11:57.784Z"
   },
   {
    "duration": 19,
    "start_time": "2022-10-14T14:13:48.343Z"
   },
   {
    "duration": 11,
    "start_time": "2022-10-14T14:14:36.657Z"
   },
   {
    "duration": 10,
    "start_time": "2022-10-14T14:21:37.086Z"
   },
   {
    "duration": 10,
    "start_time": "2022-10-14T14:22:01.613Z"
   },
   {
    "duration": 10,
    "start_time": "2022-10-14T14:25:46.316Z"
   },
   {
    "duration": 15,
    "start_time": "2022-10-14T14:26:14.790Z"
   },
   {
    "duration": 25,
    "start_time": "2022-10-14T14:32:27.831Z"
   },
   {
    "duration": 33,
    "start_time": "2022-10-14T14:32:42.797Z"
   },
   {
    "duration": 21,
    "start_time": "2022-10-14T14:34:48.156Z"
   },
   {
    "duration": 17,
    "start_time": "2022-10-14T14:35:36.112Z"
   },
   {
    "duration": 104,
    "start_time": "2022-10-14T14:35:58.881Z"
   },
   {
    "duration": 165,
    "start_time": "2022-10-14T14:36:23.375Z"
   },
   {
    "duration": 32,
    "start_time": "2022-10-14T14:36:35.791Z"
   },
   {
    "duration": 31,
    "start_time": "2022-10-14T14:36:47.033Z"
   },
   {
    "duration": 8,
    "start_time": "2022-10-14T14:37:43.228Z"
   },
   {
    "duration": 14,
    "start_time": "2022-10-14T14:38:01.799Z"
   },
   {
    "duration": 10,
    "start_time": "2022-10-14T14:38:33.360Z"
   },
   {
    "duration": 8,
    "start_time": "2022-10-14T14:39:50.733Z"
   },
   {
    "duration": 11,
    "start_time": "2022-10-14T14:45:14.119Z"
   },
   {
    "duration": 10,
    "start_time": "2022-10-14T14:46:24.234Z"
   },
   {
    "duration": 10,
    "start_time": "2022-10-14T14:49:08.047Z"
   },
   {
    "duration": 10,
    "start_time": "2022-10-14T14:49:40.113Z"
   },
   {
    "duration": 9,
    "start_time": "2022-10-14T14:49:48.847Z"
   },
   {
    "duration": 11,
    "start_time": "2022-10-14T14:50:57.362Z"
   },
   {
    "duration": 12,
    "start_time": "2022-10-14T14:51:34.743Z"
   },
   {
    "duration": 9,
    "start_time": "2022-10-14T14:52:13.786Z"
   },
   {
    "duration": 10,
    "start_time": "2022-10-14T14:52:26.112Z"
   },
   {
    "duration": 11,
    "start_time": "2022-10-14T14:52:56.338Z"
   },
   {
    "duration": 10,
    "start_time": "2022-10-14T15:08:57.380Z"
   },
   {
    "duration": 10,
    "start_time": "2022-10-14T15:09:16.854Z"
   },
   {
    "duration": 10,
    "start_time": "2022-10-14T15:09:33.244Z"
   },
   {
    "duration": 11,
    "start_time": "2022-10-14T15:10:09.452Z"
   },
   {
    "duration": 12,
    "start_time": "2022-10-14T15:10:27.735Z"
   },
   {
    "duration": 8,
    "start_time": "2022-10-14T15:11:28.374Z"
   },
   {
    "duration": 10,
    "start_time": "2022-10-14T15:13:38.423Z"
   },
   {
    "duration": 10,
    "start_time": "2022-10-14T15:13:59.739Z"
   },
   {
    "duration": 11,
    "start_time": "2022-10-14T15:14:03.867Z"
   },
   {
    "duration": 472,
    "start_time": "2022-10-15T12:17:12.593Z"
   },
   {
    "duration": 23,
    "start_time": "2022-10-15T12:17:13.067Z"
   },
   {
    "duration": 15,
    "start_time": "2022-10-15T12:17:13.092Z"
   },
   {
    "duration": 9,
    "start_time": "2022-10-15T12:17:13.108Z"
   },
   {
    "duration": 47,
    "start_time": "2022-10-15T12:17:13.118Z"
   },
   {
    "duration": 3,
    "start_time": "2022-10-15T12:17:13.167Z"
   },
   {
    "duration": 10,
    "start_time": "2022-10-15T12:17:13.172Z"
   },
   {
    "duration": 4,
    "start_time": "2022-10-15T12:17:13.184Z"
   },
   {
    "duration": 10,
    "start_time": "2022-10-15T12:17:13.189Z"
   },
   {
    "duration": 10,
    "start_time": "2022-10-15T12:17:13.201Z"
   },
   {
    "duration": 57,
    "start_time": "2022-10-15T12:17:13.213Z"
   },
   {
    "duration": 9,
    "start_time": "2022-10-15T12:17:13.272Z"
   },
   {
    "duration": 6,
    "start_time": "2022-10-15T12:17:13.282Z"
   },
   {
    "duration": 14,
    "start_time": "2022-10-15T12:17:13.290Z"
   },
   {
    "duration": 22,
    "start_time": "2022-10-15T12:17:13.306Z"
   },
   {
    "duration": 36,
    "start_time": "2022-10-15T12:17:13.330Z"
   },
   {
    "duration": 4,
    "start_time": "2022-10-15T12:17:13.368Z"
   },
   {
    "duration": 28,
    "start_time": "2022-10-15T12:17:13.373Z"
   },
   {
    "duration": 5,
    "start_time": "2022-10-15T12:17:13.403Z"
   },
   {
    "duration": 3,
    "start_time": "2022-10-15T12:17:13.410Z"
   },
   {
    "duration": 15,
    "start_time": "2022-10-15T12:17:13.414Z"
   },
   {
    "duration": 30,
    "start_time": "2022-10-15T12:17:13.430Z"
   },
   {
    "duration": 9,
    "start_time": "2022-10-15T12:17:13.462Z"
   },
   {
    "duration": 10,
    "start_time": "2022-10-15T12:17:13.473Z"
   },
   {
    "duration": 12,
    "start_time": "2022-10-15T12:17:13.484Z"
   },
   {
    "duration": 8,
    "start_time": "2022-10-15T14:51:28.561Z"
   },
   {
    "duration": 11,
    "start_time": "2022-10-15T14:51:42.142Z"
   },
   {
    "duration": 8,
    "start_time": "2022-10-15T14:52:17.417Z"
   },
   {
    "duration": 12,
    "start_time": "2022-10-15T14:52:23.634Z"
   },
   {
    "duration": 16,
    "start_time": "2022-10-15T14:52:55.250Z"
   },
   {
    "duration": 82,
    "start_time": "2022-10-15T14:53:12.863Z"
   },
   {
    "duration": 13,
    "start_time": "2022-10-15T14:54:18.603Z"
   },
   {
    "duration": 15,
    "start_time": "2022-10-15T14:54:36.794Z"
   },
   {
    "duration": 12,
    "start_time": "2022-10-15T14:55:14.182Z"
   },
   {
    "duration": 15,
    "start_time": "2022-10-15T14:55:24.312Z"
   },
   {
    "duration": 11,
    "start_time": "2022-10-15T14:56:35.413Z"
   },
   {
    "duration": 16,
    "start_time": "2022-10-15T14:56:45.274Z"
   },
   {
    "duration": 45,
    "start_time": "2022-10-15T14:57:10.387Z"
   },
   {
    "duration": 18,
    "start_time": "2022-10-15T14:57:15.755Z"
   },
   {
    "duration": 19,
    "start_time": "2022-10-15T15:01:50.642Z"
   },
   {
    "duration": 17,
    "start_time": "2022-10-15T15:03:22.461Z"
   },
   {
    "duration": 18,
    "start_time": "2022-10-15T15:04:19.261Z"
   },
   {
    "duration": 51,
    "start_time": "2022-10-15T15:04:49.343Z"
   },
   {
    "duration": 16,
    "start_time": "2022-10-15T15:05:22.822Z"
   },
   {
    "duration": 24,
    "start_time": "2022-10-15T15:06:28.051Z"
   },
   {
    "duration": 16,
    "start_time": "2022-10-15T15:07:49.636Z"
   },
   {
    "duration": 25,
    "start_time": "2022-10-15T15:08:39.673Z"
   },
   {
    "duration": 24,
    "start_time": "2022-10-15T15:09:01.523Z"
   },
   {
    "duration": 21,
    "start_time": "2022-10-15T15:17:46.495Z"
   },
   {
    "duration": 18,
    "start_time": "2022-10-15T15:22:15.809Z"
   },
   {
    "duration": 19,
    "start_time": "2022-10-15T15:25:37.538Z"
   },
   {
    "duration": 9,
    "start_time": "2022-10-15T15:30:16.357Z"
   },
   {
    "duration": 68,
    "start_time": "2022-10-15T15:36:27.192Z"
   },
   {
    "duration": 47,
    "start_time": "2022-10-15T15:36:42.170Z"
   },
   {
    "duration": 8,
    "start_time": "2022-10-15T15:36:57.365Z"
   },
   {
    "duration": 13,
    "start_time": "2022-10-15T15:37:06.065Z"
   },
   {
    "duration": 13,
    "start_time": "2022-10-15T15:37:54.596Z"
   },
   {
    "duration": 13,
    "start_time": "2022-10-15T15:38:06.352Z"
   },
   {
    "duration": 25,
    "start_time": "2022-10-15T15:40:39.255Z"
   },
   {
    "duration": 12,
    "start_time": "2022-10-15T15:41:38.190Z"
   },
   {
    "duration": 10,
    "start_time": "2022-10-15T15:42:34.510Z"
   },
   {
    "duration": 15,
    "start_time": "2022-10-15T15:42:42.889Z"
   },
   {
    "duration": 44,
    "start_time": "2022-10-15T15:45:56.296Z"
   },
   {
    "duration": 17,
    "start_time": "2022-10-15T15:46:42.546Z"
   },
   {
    "duration": 837,
    "start_time": "2022-10-15T15:48:01.426Z"
   },
   {
    "duration": 17,
    "start_time": "2022-10-15T15:48:23.743Z"
   },
   {
    "duration": 758,
    "start_time": "2022-10-15T15:49:30.140Z"
   },
   {
    "duration": 815,
    "start_time": "2022-10-15T15:49:39.795Z"
   },
   {
    "duration": 713,
    "start_time": "2022-10-15T15:49:48.267Z"
   },
   {
    "duration": 20,
    "start_time": "2022-10-15T15:50:21.655Z"
   },
   {
    "duration": 21,
    "start_time": "2022-10-15T15:50:29.883Z"
   },
   {
    "duration": 734,
    "start_time": "2022-10-15T15:52:44.131Z"
   },
   {
    "duration": 18,
    "start_time": "2022-10-15T15:53:16.145Z"
   },
   {
    "duration": 11,
    "start_time": "2022-10-15T15:53:45.271Z"
   },
   {
    "duration": 12,
    "start_time": "2022-10-15T15:54:01.765Z"
   },
   {
    "duration": 17,
    "start_time": "2022-10-15T15:54:13.584Z"
   },
   {
    "duration": 5,
    "start_time": "2022-10-15T15:56:49.111Z"
   },
   {
    "duration": 32,
    "start_time": "2022-10-15T15:57:00.823Z"
   },
   {
    "duration": 20,
    "start_time": "2022-10-15T15:57:56.844Z"
   },
   {
    "duration": 15,
    "start_time": "2022-10-15T15:58:05.224Z"
   },
   {
    "duration": 16,
    "start_time": "2022-10-15T15:58:23.125Z"
   },
   {
    "duration": 15,
    "start_time": "2022-10-15T15:59:18.085Z"
   },
   {
    "duration": 14,
    "start_time": "2022-10-15T15:59:37.631Z"
   },
   {
    "duration": 16,
    "start_time": "2022-10-15T15:59:48.191Z"
   },
   {
    "duration": 19,
    "start_time": "2022-10-15T16:00:42.866Z"
   },
   {
    "duration": 16,
    "start_time": "2022-10-15T16:00:55.293Z"
   },
   {
    "duration": 17,
    "start_time": "2022-10-15T16:01:21.672Z"
   },
   {
    "duration": 21,
    "start_time": "2022-10-15T16:01:31.072Z"
   },
   {
    "duration": 23,
    "start_time": "2022-10-15T16:02:13.445Z"
   },
   {
    "duration": 22,
    "start_time": "2022-10-15T16:05:58.158Z"
   },
   {
    "duration": 32,
    "start_time": "2022-10-15T16:08:09.092Z"
   },
   {
    "duration": 23,
    "start_time": "2022-10-15T16:10:51.302Z"
   },
   {
    "duration": 23,
    "start_time": "2022-10-15T16:11:07.128Z"
   },
   {
    "duration": 33,
    "start_time": "2022-10-15T16:13:25.954Z"
   },
   {
    "duration": 46,
    "start_time": "2022-10-15T16:15:59.600Z"
   },
   {
    "duration": 44,
    "start_time": "2022-10-15T16:16:23.553Z"
   },
   {
    "duration": 32,
    "start_time": "2022-10-15T16:17:12.625Z"
   },
   {
    "duration": 46,
    "start_time": "2022-10-15T16:17:21.270Z"
   },
   {
    "duration": 37,
    "start_time": "2022-10-15T16:17:36.112Z"
   },
   {
    "duration": 48,
    "start_time": "2022-10-15T16:17:57.280Z"
   },
   {
    "duration": 906,
    "start_time": "2022-10-15T16:20:57.429Z"
   },
   {
    "duration": 867,
    "start_time": "2022-10-15T16:21:23.046Z"
   },
   {
    "duration": 757,
    "start_time": "2022-10-15T16:21:33.606Z"
   },
   {
    "duration": 748,
    "start_time": "2022-10-15T16:22:14.806Z"
   },
   {
    "duration": 763,
    "start_time": "2022-10-15T16:23:07.953Z"
   },
   {
    "duration": 793,
    "start_time": "2022-10-15T16:23:25.506Z"
   },
   {
    "duration": 32,
    "start_time": "2022-10-15T16:23:42.445Z"
   },
   {
    "duration": 33,
    "start_time": "2022-10-15T16:24:02.011Z"
   },
   {
    "duration": 11,
    "start_time": "2022-10-15T16:27:15.121Z"
   },
   {
    "duration": 52,
    "start_time": "2022-10-15T16:27:28.683Z"
   },
   {
    "duration": 23,
    "start_time": "2022-10-15T16:28:01.153Z"
   },
   {
    "duration": 718,
    "start_time": "2022-10-15T16:31:46.977Z"
   },
   {
    "duration": 756,
    "start_time": "2022-10-15T16:32:10.330Z"
   },
   {
    "duration": 771,
    "start_time": "2022-10-15T16:32:41.442Z"
   },
   {
    "duration": 31,
    "start_time": "2022-10-15T16:32:48.651Z"
   },
   {
    "duration": 37,
    "start_time": "2022-10-15T16:32:54.094Z"
   },
   {
    "duration": 767,
    "start_time": "2022-10-15T16:34:58.812Z"
   },
   {
    "duration": 37,
    "start_time": "2022-10-15T16:35:16.661Z"
   },
   {
    "duration": 34,
    "start_time": "2022-10-15T16:35:50.383Z"
   },
   {
    "duration": 39,
    "start_time": "2022-10-15T16:35:59.662Z"
   },
   {
    "duration": 636,
    "start_time": "2022-10-15T16:36:54.316Z"
   },
   {
    "duration": 14,
    "start_time": "2022-10-15T16:37:27.758Z"
   },
   {
    "duration": 26,
    "start_time": "2022-10-15T16:37:45.427Z"
   },
   {
    "duration": 34,
    "start_time": "2022-10-15T16:40:11.877Z"
   },
   {
    "duration": 39,
    "start_time": "2022-10-15T16:40:19.843Z"
   },
   {
    "duration": 53,
    "start_time": "2022-10-15T16:42:11.524Z"
   },
   {
    "duration": 10,
    "start_time": "2022-10-15T16:43:33.069Z"
   },
   {
    "duration": 37,
    "start_time": "2022-10-15T16:47:29.687Z"
   },
   {
    "duration": 521,
    "start_time": "2022-10-15T16:47:53.221Z"
   },
   {
    "duration": 25,
    "start_time": "2022-10-15T16:47:53.744Z"
   },
   {
    "duration": 19,
    "start_time": "2022-10-15T16:47:53.771Z"
   },
   {
    "duration": 10,
    "start_time": "2022-10-15T16:47:53.792Z"
   },
   {
    "duration": 62,
    "start_time": "2022-10-15T16:47:53.804Z"
   },
   {
    "duration": 3,
    "start_time": "2022-10-15T16:47:53.868Z"
   },
   {
    "duration": 17,
    "start_time": "2022-10-15T16:47:53.873Z"
   },
   {
    "duration": 5,
    "start_time": "2022-10-15T16:47:53.891Z"
   },
   {
    "duration": 10,
    "start_time": "2022-10-15T16:47:53.898Z"
   },
   {
    "duration": 5,
    "start_time": "2022-10-15T16:47:53.912Z"
   },
   {
    "duration": 83,
    "start_time": "2022-10-15T16:47:53.919Z"
   },
   {
    "duration": 15,
    "start_time": "2022-10-15T16:47:54.005Z"
   },
   {
    "duration": 5,
    "start_time": "2022-10-15T16:47:54.022Z"
   },
   {
    "duration": 38,
    "start_time": "2022-10-15T16:47:54.029Z"
   },
   {
    "duration": 30,
    "start_time": "2022-10-15T16:47:54.070Z"
   },
   {
    "duration": 22,
    "start_time": "2022-10-15T16:47:54.102Z"
   },
   {
    "duration": 4,
    "start_time": "2022-10-15T16:47:54.126Z"
   },
   {
    "duration": 31,
    "start_time": "2022-10-15T16:47:54.153Z"
   },
   {
    "duration": 13,
    "start_time": "2022-10-15T16:47:54.186Z"
   },
   {
    "duration": 13,
    "start_time": "2022-10-15T16:47:54.201Z"
   },
   {
    "duration": 23,
    "start_time": "2022-10-15T16:47:54.216Z"
   },
   {
    "duration": 42,
    "start_time": "2022-10-15T16:47:54.241Z"
   },
   {
    "duration": 19,
    "start_time": "2022-10-15T16:47:54.285Z"
   },
   {
    "duration": 24,
    "start_time": "2022-10-15T16:47:54.306Z"
   },
   {
    "duration": 54,
    "start_time": "2022-10-15T16:47:54.332Z"
   },
   {
    "duration": 528,
    "start_time": "2022-10-16T12:08:41.925Z"
   },
   {
    "duration": 20,
    "start_time": "2022-10-16T12:08:42.455Z"
   },
   {
    "duration": 13,
    "start_time": "2022-10-16T12:08:42.477Z"
   },
   {
    "duration": 8,
    "start_time": "2022-10-16T12:08:42.492Z"
   },
   {
    "duration": 55,
    "start_time": "2022-10-16T12:08:42.501Z"
   },
   {
    "duration": 3,
    "start_time": "2022-10-16T12:08:42.557Z"
   },
   {
    "duration": 11,
    "start_time": "2022-10-16T12:08:42.562Z"
   },
   {
    "duration": 5,
    "start_time": "2022-10-16T12:08:42.575Z"
   },
   {
    "duration": 8,
    "start_time": "2022-10-16T12:08:42.582Z"
   },
   {
    "duration": 4,
    "start_time": "2022-10-16T12:08:42.592Z"
   },
   {
    "duration": 57,
    "start_time": "2022-10-16T12:08:42.599Z"
   },
   {
    "duration": 8,
    "start_time": "2022-10-16T12:08:42.657Z"
   },
   {
    "duration": 7,
    "start_time": "2022-10-16T12:08:42.667Z"
   },
   {
    "duration": 10,
    "start_time": "2022-10-16T12:08:42.676Z"
   },
   {
    "duration": 17,
    "start_time": "2022-10-16T12:08:42.688Z"
   },
   {
    "duration": 22,
    "start_time": "2022-10-16T12:08:42.707Z"
   },
   {
    "duration": 4,
    "start_time": "2022-10-16T12:08:42.730Z"
   },
   {
    "duration": 26,
    "start_time": "2022-10-16T12:08:42.735Z"
   },
   {
    "duration": 5,
    "start_time": "2022-10-16T12:08:42.763Z"
   },
   {
    "duration": 3,
    "start_time": "2022-10-16T12:08:42.769Z"
   },
   {
    "duration": 38,
    "start_time": "2022-10-16T12:08:42.773Z"
   },
   {
    "duration": 9,
    "start_time": "2022-10-16T12:08:42.818Z"
   },
   {
    "duration": 17,
    "start_time": "2022-10-16T12:08:42.829Z"
   },
   {
    "duration": 18,
    "start_time": "2022-10-16T12:08:42.848Z"
   },
   {
    "duration": 45,
    "start_time": "2022-10-16T12:08:42.867Z"
   },
   {
    "duration": 19,
    "start_time": "2022-10-16T12:08:50.241Z"
   },
   {
    "duration": 30,
    "start_time": "2022-10-16T12:09:11.432Z"
   },
   {
    "duration": 46,
    "start_time": "2022-10-17T13:58:22.840Z"
   },
   {
    "duration": 680,
    "start_time": "2022-10-17T13:58:30.447Z"
   },
   {
    "duration": 28,
    "start_time": "2022-10-17T13:58:31.130Z"
   },
   {
    "duration": 17,
    "start_time": "2022-10-17T13:58:31.159Z"
   },
   {
    "duration": 12,
    "start_time": "2022-10-17T13:58:31.179Z"
   },
   {
    "duration": 54,
    "start_time": "2022-10-17T13:58:31.193Z"
   },
   {
    "duration": 3,
    "start_time": "2022-10-17T13:58:31.249Z"
   },
   {
    "duration": 19,
    "start_time": "2022-10-17T13:58:31.254Z"
   },
   {
    "duration": 4,
    "start_time": "2022-10-17T13:58:31.275Z"
   },
   {
    "duration": 20,
    "start_time": "2022-10-17T13:58:31.281Z"
   },
   {
    "duration": 9,
    "start_time": "2022-10-17T13:58:31.305Z"
   },
   {
    "duration": 34,
    "start_time": "2022-10-17T13:58:31.315Z"
   },
   {
    "duration": 8,
    "start_time": "2022-10-17T13:58:31.351Z"
   },
   {
    "duration": 8,
    "start_time": "2022-10-17T13:58:31.360Z"
   },
   {
    "duration": 13,
    "start_time": "2022-10-17T13:58:31.369Z"
   },
   {
    "duration": 28,
    "start_time": "2022-10-17T13:58:31.383Z"
   },
   {
    "duration": 14,
    "start_time": "2022-10-17T13:58:31.413Z"
   },
   {
    "duration": 5,
    "start_time": "2022-10-17T13:58:31.429Z"
   },
   {
    "duration": 36,
    "start_time": "2022-10-17T13:58:31.436Z"
   },
   {
    "duration": 11,
    "start_time": "2022-10-17T13:58:31.473Z"
   },
   {
    "duration": 3,
    "start_time": "2022-10-17T13:58:31.486Z"
   },
   {
    "duration": 15,
    "start_time": "2022-10-17T13:58:31.491Z"
   },
   {
    "duration": 3,
    "start_time": "2022-10-17T13:58:31.507Z"
   },
   {
    "duration": 35,
    "start_time": "2022-10-17T13:58:31.511Z"
   },
   {
    "duration": 14,
    "start_time": "2022-10-17T13:58:31.547Z"
   },
   {
    "duration": 18,
    "start_time": "2022-10-17T13:58:31.562Z"
   },
   {
    "duration": 52,
    "start_time": "2022-10-17T13:58:31.581Z"
   },
   {
    "duration": 26,
    "start_time": "2022-10-17T13:59:19.532Z"
   },
   {
    "duration": 77,
    "start_time": "2022-10-17T14:01:13.551Z"
   },
   {
    "duration": 29,
    "start_time": "2022-10-17T14:01:24.618Z"
   },
   {
    "duration": 74,
    "start_time": "2022-10-17T14:02:03.059Z"
   },
   {
    "duration": 67,
    "start_time": "2022-10-17T14:02:19.597Z"
   },
   {
    "duration": 28,
    "start_time": "2022-10-17T14:02:49.752Z"
   },
   {
    "duration": 28,
    "start_time": "2022-10-17T14:03:24.315Z"
   },
   {
    "duration": 69,
    "start_time": "2022-10-17T14:03:32.316Z"
   },
   {
    "duration": 89,
    "start_time": "2022-10-17T14:03:42.000Z"
   },
   {
    "duration": 86,
    "start_time": "2022-10-17T14:04:07.379Z"
   },
   {
    "duration": 31,
    "start_time": "2022-10-17T14:04:12.964Z"
   },
   {
    "duration": 28,
    "start_time": "2022-10-17T14:04:29.844Z"
   },
   {
    "duration": 33,
    "start_time": "2022-10-17T14:06:26.726Z"
   },
   {
    "duration": 26,
    "start_time": "2022-10-17T14:07:38.856Z"
   },
   {
    "duration": 27,
    "start_time": "2022-10-17T14:07:48.568Z"
   },
   {
    "duration": 77,
    "start_time": "2022-10-17T14:07:57.039Z"
   },
   {
    "duration": 39,
    "start_time": "2022-10-17T14:08:03.809Z"
   },
   {
    "duration": 26,
    "start_time": "2022-10-17T14:08:11.048Z"
   },
   {
    "duration": 31,
    "start_time": "2022-10-17T14:21:31.852Z"
   },
   {
    "duration": 29,
    "start_time": "2022-10-17T14:21:50.892Z"
   },
   {
    "duration": 43,
    "start_time": "2022-10-17T14:22:07.182Z"
   },
   {
    "duration": 26,
    "start_time": "2022-10-17T14:22:55.545Z"
   },
   {
    "duration": 25,
    "start_time": "2022-10-17T14:23:31.267Z"
   },
   {
    "duration": 33,
    "start_time": "2022-10-17T14:23:47.937Z"
   },
   {
    "duration": 27,
    "start_time": "2022-10-17T14:25:32.632Z"
   },
   {
    "duration": 27,
    "start_time": "2022-10-17T14:26:18.357Z"
   },
   {
    "duration": 26,
    "start_time": "2022-10-17T14:27:49.209Z"
   },
   {
    "duration": 19,
    "start_time": "2022-10-17T14:30:04.560Z"
   },
   {
    "duration": 84,
    "start_time": "2022-10-17T15:01:19.147Z"
   },
   {
    "duration": 19,
    "start_time": "2022-10-17T15:02:25.850Z"
   },
   {
    "duration": 15,
    "start_time": "2022-10-17T15:18:44.916Z"
   },
   {
    "duration": 20,
    "start_time": "2022-10-17T15:22:08.025Z"
   },
   {
    "duration": 15,
    "start_time": "2022-10-17T15:22:32.443Z"
   },
   {
    "duration": 21,
    "start_time": "2022-10-17T15:37:29.394Z"
   },
   {
    "duration": 20,
    "start_time": "2022-10-17T15:37:59.922Z"
   },
   {
    "duration": 20,
    "start_time": "2022-10-17T15:39:50.716Z"
   },
   {
    "duration": 23,
    "start_time": "2022-10-17T15:42:13.900Z"
   },
   {
    "duration": 99,
    "start_time": "2022-10-17T15:44:55.640Z"
   },
   {
    "duration": 73,
    "start_time": "2022-10-17T15:45:38.395Z"
   },
   {
    "duration": 84,
    "start_time": "2022-10-17T15:46:40.316Z"
   },
   {
    "duration": 34,
    "start_time": "2022-10-17T15:48:14.900Z"
   },
   {
    "duration": 724,
    "start_time": "2022-10-17T18:02:45.670Z"
   },
   {
    "duration": 21,
    "start_time": "2022-10-17T18:02:46.395Z"
   },
   {
    "duration": 30,
    "start_time": "2022-10-17T18:02:46.417Z"
   },
   {
    "duration": 21,
    "start_time": "2022-10-17T18:02:46.449Z"
   },
   {
    "duration": 54,
    "start_time": "2022-10-17T18:02:46.472Z"
   },
   {
    "duration": 4,
    "start_time": "2022-10-17T18:02:46.527Z"
   },
   {
    "duration": 21,
    "start_time": "2022-10-17T18:02:46.532Z"
   },
   {
    "duration": 36,
    "start_time": "2022-10-17T18:02:46.555Z"
   },
   {
    "duration": 24,
    "start_time": "2022-10-17T18:02:46.592Z"
   },
   {
    "duration": 10,
    "start_time": "2022-10-17T18:02:46.619Z"
   },
   {
    "duration": 60,
    "start_time": "2022-10-17T18:02:46.630Z"
   },
   {
    "duration": 10,
    "start_time": "2022-10-17T18:02:46.691Z"
   },
   {
    "duration": 26,
    "start_time": "2022-10-17T18:02:46.702Z"
   },
   {
    "duration": 23,
    "start_time": "2022-10-17T18:02:46.730Z"
   },
   {
    "duration": 29,
    "start_time": "2022-10-17T18:02:46.755Z"
   },
   {
    "duration": 15,
    "start_time": "2022-10-17T18:02:46.786Z"
   },
   {
    "duration": 9,
    "start_time": "2022-10-17T18:02:46.803Z"
   },
   {
    "duration": 38,
    "start_time": "2022-10-17T18:02:46.813Z"
   },
   {
    "duration": 10,
    "start_time": "2022-10-17T18:02:46.852Z"
   },
   {
    "duration": 12,
    "start_time": "2022-10-17T18:02:46.863Z"
   },
   {
    "duration": 25,
    "start_time": "2022-10-17T18:02:46.876Z"
   },
   {
    "duration": 10,
    "start_time": "2022-10-17T18:02:46.902Z"
   },
   {
    "duration": 38,
    "start_time": "2022-10-17T18:02:46.913Z"
   },
   {
    "duration": 14,
    "start_time": "2022-10-17T18:02:46.953Z"
   },
   {
    "duration": 26,
    "start_time": "2022-10-17T18:02:46.968Z"
   },
   {
    "duration": 43,
    "start_time": "2022-10-17T18:02:46.996Z"
   },
   {
    "duration": 63,
    "start_time": "2022-10-17T18:03:32.675Z"
   },
   {
    "duration": 10,
    "start_time": "2022-10-17T18:03:48.040Z"
   },
   {
    "duration": 9,
    "start_time": "2022-10-17T18:04:03.246Z"
   },
   {
    "duration": 9,
    "start_time": "2022-10-17T18:05:18.043Z"
   }
  ],
  "colab": {
   "name": "dpp_template_part2.ipynb",
   "provenance": []
  },
  "kernelspec": {
   "display_name": "Python 3 (ipykernel)",
   "language": "python",
   "name": "python3"
  },
  "language_info": {
   "codemirror_mode": {
    "name": "ipython",
    "version": 3
   },
   "file_extension": ".py",
   "mimetype": "text/x-python",
   "name": "python",
   "nbconvert_exporter": "python",
   "pygments_lexer": "ipython3",
   "version": "3.9.5"
  },
  "toc": {
   "base_numbering": 1,
   "nav_menu": {},
   "number_sections": true,
   "sideBar": true,
   "skip_h1_title": true,
   "title_cell": "Table of Contents",
   "title_sidebar": "Contents",
   "toc_cell": false,
   "toc_position": {},
   "toc_section_display": true,
   "toc_window_display": true
  }
 },
 "nbformat": 4,
 "nbformat_minor": 5
}
