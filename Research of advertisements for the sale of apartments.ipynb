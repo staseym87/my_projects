{
 "cells": [
 
  {
   "cell_type": "markdown",
   "metadata": {},
   "source": [
    "# Research of advertisements for the sale of apartments\n",
    "\n",
    "Initial data: archive of advertisements for the sale of apartments in St. Petersburg and neighboring settlements for several years. It is necessary to define the parameters for calculating the market value of real estate objects. \n"
    
    
   ]
  },
    {
   "cell_type": "code",
   "execution_count": 1,
   "metadata": {},
   "outputs": [],
   "source": [
    "import pandas as pd\n",
    "import warnings\n",
    "import matplotlib.pyplot as plt\n",
    "import numpy as np"
   ]
  },
  {
   "cell_type": "code",
   "execution_count": 2,
   "metadata": {
    "scrolled": false
   },
   "outputs": [
    {
     "data": {
      "text/html": [
       "<div>\n",
       "<style scoped>\n",
       "    .dataframe tbody tr th:only-of-type {\n",
       "        vertical-align: middle;\n",
       "    }\n",
       "\n",
       "    .dataframe tbody tr th {\n",
       "        vertical-align: top;\n",
       "    }\n",
       "\n",
       "    .dataframe thead th {\n",
       "        text-align: right;\n",
       "    }\n",
       "</style>\n",
       "<table border=\"1\" class=\"dataframe\">\n",
       "  <thead>\n",
       "    <tr style=\"text-align: right;\">\n",
       "      <th></th>\n",
       "      <th>total_images</th>\n",
       "      <th>last_price</th>\n",
       "      <th>total_area</th>\n",
       "      <th>first_day_exposition</th>\n",
       "      <th>rooms</th>\n",
       "      <th>ceiling_height</th>\n",
       "      <th>floors_total</th>\n",
       "      <th>living_area</th>\n",
       "      <th>floor</th>\n",
       "      <th>is_apartment</th>\n",
       "      <th>studio</th>\n",
       "      <th>open_plan</th>\n",
       "      <th>kitchen_area</th>\n",
       "      <th>balcony</th>\n",
       "      <th>locality_name</th>\n",
       "      <th>airports_nearest</th>\n",
       "      <th>cityCenters_nearest</th>\n",
       "      <th>parks_around3000</th>\n",
       "      <th>parks_nearest</th>\n",
       "      <th>ponds_around3000</th>\n",
       "      <th>ponds_nearest</th>\n",
       "      <th>days_exposition</th>\n",
       "    </tr>\n",
       "  </thead>\n",
       "  <tbody>\n",
       "    <tr>\n",
       "      <th>0</th>\n",
       "      <td>20</td>\n",
       "      <td>13000000.0</td>\n",
       "      <td>108.00</td>\n",
       "      <td>2019-03-07T00:00:00</td>\n",
       "      <td>3</td>\n",
       "      <td>2.70</td>\n",
       "      <td>16.0</td>\n",
       "      <td>51.00</td>\n",
       "      <td>8</td>\n",
       "      <td>NaN</td>\n",
       "      <td>False</td>\n",
       "      <td>False</td>\n",
       "      <td>25.00</td>\n",
       "      <td>NaN</td>\n",
       "      <td>Санкт-Петербург</td>\n",
       "      <td>18863.0</td>\n",
       "      <td>16028.0</td>\n",
       "      <td>1.0</td>\n",
       "      <td>482.0</td>\n",
       "      <td>2.0</td>\n",
       "      <td>755.0</td>\n",
       "      <td>NaN</td>\n",
       "    </tr>\n",
       "    <tr>\n",
       "      <th>1</th>\n",
       "      <td>7</td>\n",
       "      <td>3350000.0</td>\n",
       "      <td>40.40</td>\n",
       "      <td>2018-12-04T00:00:00</td>\n",
       "      <td>1</td>\n",
       "      <td>NaN</td>\n",
       "      <td>11.0</td>\n",
       "      <td>18.60</td>\n",
       "      <td>1</td>\n",
       "      <td>NaN</td>\n",
       "      <td>False</td>\n",
       "      <td>False</td>\n",
       "      <td>11.00</td>\n",
       "      <td>2.0</td>\n",
       "      <td>посёлок Шушары</td>\n",
       "      <td>12817.0</td>\n",
       "      <td>18603.0</td>\n",
       "      <td>0.0</td>\n",
       "      <td>NaN</td>\n",
       "      <td>0.0</td>\n",
       "      <td>NaN</td>\n",
       "      <td>81.0</td>\n",
       "    </tr>\n",
       "    <tr>\n",
       "      <th>2</th>\n",
       "      <td>10</td>\n",
       "      <td>5196000.0</td>\n",
       "      <td>56.00</td>\n",
       "      <td>2015-08-20T00:00:00</td>\n",
       "      <td>2</td>\n",
       "      <td>NaN</td>\n",
       "      <td>5.0</td>\n",
       "      <td>34.30</td>\n",
       "      <td>4</td>\n",
       "      <td>NaN</td>\n",
       "      <td>False</td>\n",
       "      <td>False</td>\n",
       "      <td>8.30</td>\n",
       "      <td>0.0</td>\n",
       "      <td>Санкт-Петербург</td>\n",
       "      <td>21741.0</td>\n",
       "      <td>13933.0</td>\n",
       "      <td>1.0</td>\n",
       "      <td>90.0</td>\n",
       "      <td>2.0</td>\n",
       "      <td>574.0</td>\n",
       "      <td>558.0</td>\n",
       "    </tr>\n",
       "    <tr>\n",
       "      <th>3</th>\n",
       "      <td>0</td>\n",
       "      <td>64900000.0</td>\n",
       "      <td>159.00</td>\n",
       "      <td>2015-07-24T00:00:00</td>\n",
       "      <td>3</td>\n",
       "      <td>NaN</td>\n",
       "      <td>14.0</td>\n",
       "      <td>NaN</td>\n",
       "      <td>9</td>\n",
       "      <td>NaN</td>\n",
       "      <td>False</td>\n",
       "      <td>False</td>\n",
       "      <td>NaN</td>\n",
       "      <td>0.0</td>\n",
       "      <td>Санкт-Петербург</td>\n",
       "      <td>28098.0</td>\n",
       "      <td>6800.0</td>\n",
       "      <td>2.0</td>\n",
       "      <td>84.0</td>\n",
       "      <td>3.0</td>\n",
       "      <td>234.0</td>\n",
       "      <td>424.0</td>\n",
       "    </tr>\n",
       "    <tr>\n",
       "      <th>4</th>\n",
       "      <td>2</td>\n",
       "      <td>10000000.0</td>\n",
       "      <td>100.00</td>\n",
       "      <td>2018-06-19T00:00:00</td>\n",
       "      <td>2</td>\n",
       "      <td>3.03</td>\n",
       "      <td>14.0</td>\n",
       "      <td>32.00</td>\n",
       "      <td>13</td>\n",
       "      <td>NaN</td>\n",
       "      <td>False</td>\n",
       "      <td>False</td>\n",
       "      <td>41.00</td>\n",
       "      <td>NaN</td>\n",
       "      <td>Санкт-Петербург</td>\n",
       "      <td>31856.0</td>\n",
       "      <td>8098.0</td>\n",
       "      <td>2.0</td>\n",
       "      <td>112.0</td>\n",
       "      <td>1.0</td>\n",
       "      <td>48.0</td>\n",
       "      <td>121.0</td>\n",
       "    </tr>\n",
       "    <tr>\n",
       "      <th>5</th>\n",
       "      <td>10</td>\n",
       "      <td>2890000.0</td>\n",
       "      <td>30.40</td>\n",
       "      <td>2018-09-10T00:00:00</td>\n",
       "      <td>1</td>\n",
       "      <td>NaN</td>\n",
       "      <td>12.0</td>\n",
       "      <td>14.40</td>\n",
       "      <td>5</td>\n",
       "      <td>NaN</td>\n",
       "      <td>False</td>\n",
       "      <td>False</td>\n",
       "      <td>9.10</td>\n",
       "      <td>NaN</td>\n",
       "      <td>городской посёлок Янино-1</td>\n",
       "      <td>NaN</td>\n",
       "      <td>NaN</td>\n",
       "      <td>NaN</td>\n",
       "      <td>NaN</td>\n",
       "      <td>NaN</td>\n",
       "      <td>NaN</td>\n",
       "      <td>55.0</td>\n",
       "    </tr>\n",
       "    <tr>\n",
       "      <th>6</th>\n",
       "      <td>6</td>\n",
       "      <td>3700000.0</td>\n",
       "      <td>37.30</td>\n",
       "      <td>2017-11-02T00:00:00</td>\n",
       "      <td>1</td>\n",
       "      <td>NaN</td>\n",
       "      <td>26.0</td>\n",
       "      <td>10.60</td>\n",
       "      <td>6</td>\n",
       "      <td>NaN</td>\n",
       "      <td>False</td>\n",
       "      <td>False</td>\n",
       "      <td>14.40</td>\n",
       "      <td>1.0</td>\n",
       "      <td>посёлок Парголово</td>\n",
       "      <td>52996.0</td>\n",
       "      <td>19143.0</td>\n",
       "      <td>0.0</td>\n",
       "      <td>NaN</td>\n",
       "      <td>0.0</td>\n",
       "      <td>NaN</td>\n",
       "      <td>155.0</td>\n",
       "    </tr>\n",
       "    <tr>\n",
       "      <th>7</th>\n",
       "      <td>5</td>\n",
       "      <td>7915000.0</td>\n",
       "      <td>71.60</td>\n",
       "      <td>2019-04-18T00:00:00</td>\n",
       "      <td>2</td>\n",
       "      <td>NaN</td>\n",
       "      <td>24.0</td>\n",
       "      <td>NaN</td>\n",
       "      <td>22</td>\n",
       "      <td>NaN</td>\n",
       "      <td>False</td>\n",
       "      <td>False</td>\n",
       "      <td>18.90</td>\n",
       "      <td>2.0</td>\n",
       "      <td>Санкт-Петербург</td>\n",
       "      <td>23982.0</td>\n",
       "      <td>11634.0</td>\n",
       "      <td>0.0</td>\n",
       "      <td>NaN</td>\n",
       "      <td>0.0</td>\n",
       "      <td>NaN</td>\n",
       "      <td>NaN</td>\n",
       "    </tr>\n",
       "    <tr>\n",
       "      <th>8</th>\n",
       "      <td>20</td>\n",
       "      <td>2900000.0</td>\n",
       "      <td>33.16</td>\n",
       "      <td>2018-05-23T00:00:00</td>\n",
       "      <td>1</td>\n",
       "      <td>NaN</td>\n",
       "      <td>27.0</td>\n",
       "      <td>15.43</td>\n",
       "      <td>26</td>\n",
       "      <td>NaN</td>\n",
       "      <td>False</td>\n",
       "      <td>False</td>\n",
       "      <td>8.81</td>\n",
       "      <td>NaN</td>\n",
       "      <td>посёлок Мурино</td>\n",
       "      <td>NaN</td>\n",
       "      <td>NaN</td>\n",
       "      <td>NaN</td>\n",
       "      <td>NaN</td>\n",
       "      <td>NaN</td>\n",
       "      <td>NaN</td>\n",
       "      <td>189.0</td>\n",
       "    </tr>\n",
       "    <tr>\n",
       "      <th>9</th>\n",
       "      <td>18</td>\n",
       "      <td>5400000.0</td>\n",
       "      <td>61.00</td>\n",
       "      <td>2017-02-26T00:00:00</td>\n",
       "      <td>3</td>\n",
       "      <td>2.50</td>\n",
       "      <td>9.0</td>\n",
       "      <td>43.60</td>\n",
       "      <td>7</td>\n",
       "      <td>NaN</td>\n",
       "      <td>False</td>\n",
       "      <td>False</td>\n",
       "      <td>6.50</td>\n",
       "      <td>2.0</td>\n",
       "      <td>Санкт-Петербург</td>\n",
       "      <td>50898.0</td>\n",
       "      <td>15008.0</td>\n",
       "      <td>0.0</td>\n",
       "      <td>NaN</td>\n",
       "      <td>0.0</td>\n",
       "      <td>NaN</td>\n",
       "      <td>289.0</td>\n",
       "    </tr>\n",
       "  </tbody>\n",
       "</table>\n",
       "</div>"
      ],
      "text/plain": [
       "   total_images  last_price  total_area first_day_exposition  rooms  \\\n",
       "0            20  13000000.0      108.00  2019-03-07T00:00:00      3   \n",
       "1             7   3350000.0       40.40  2018-12-04T00:00:00      1   \n",
       "2            10   5196000.0       56.00  2015-08-20T00:00:00      2   \n",
       "3             0  64900000.0      159.00  2015-07-24T00:00:00      3   \n",
       "4             2  10000000.0      100.00  2018-06-19T00:00:00      2   \n",
       "5            10   2890000.0       30.40  2018-09-10T00:00:00      1   \n",
       "6             6   3700000.0       37.30  2017-11-02T00:00:00      1   \n",
       "7             5   7915000.0       71.60  2019-04-18T00:00:00      2   \n",
       "8            20   2900000.0       33.16  2018-05-23T00:00:00      1   \n",
       "9            18   5400000.0       61.00  2017-02-26T00:00:00      3   \n",
       "\n",
       "   ceiling_height  floors_total  living_area  floor is_apartment  studio  \\\n",
       "0            2.70          16.0        51.00      8          NaN   False   \n",
       "1             NaN          11.0        18.60      1          NaN   False   \n",
       "2             NaN           5.0        34.30      4          NaN   False   \n",
       "3             NaN          14.0          NaN      9          NaN   False   \n",
       "4            3.03          14.0        32.00     13          NaN   False   \n",
       "5             NaN          12.0        14.40      5          NaN   False   \n",
       "6             NaN          26.0        10.60      6          NaN   False   \n",
       "7             NaN          24.0          NaN     22          NaN   False   \n",
       "8             NaN          27.0        15.43     26          NaN   False   \n",
       "9            2.50           9.0        43.60      7          NaN   False   \n",
       "\n",
       "   open_plan  kitchen_area  balcony              locality_name  \\\n",
       "0      False         25.00      NaN            Санкт-Петербург   \n",
       "1      False         11.00      2.0             посёлок Шушары   \n",
       "2      False          8.30      0.0            Санкт-Петербург   \n",
       "3      False           NaN      0.0            Санкт-Петербург   \n",
       "4      False         41.00      NaN            Санкт-Петербург   \n",
       "5      False          9.10      NaN  городской посёлок Янино-1   \n",
       "6      False         14.40      1.0          посёлок Парголово   \n",
       "7      False         18.90      2.0            Санкт-Петербург   \n",
       "8      False          8.81      NaN             посёлок Мурино   \n",
       "9      False          6.50      2.0            Санкт-Петербург   \n",
       "\n",
       "   airports_nearest  cityCenters_nearest  parks_around3000  parks_nearest  \\\n",
       "0           18863.0              16028.0               1.0          482.0   \n",
       "1           12817.0              18603.0               0.0            NaN   \n",
       "2           21741.0              13933.0               1.0           90.0   \n",
       "3           28098.0               6800.0               2.0           84.0   \n",
       "4           31856.0               8098.0               2.0          112.0   \n",
       "5               NaN                  NaN               NaN            NaN   \n",
       "6           52996.0              19143.0               0.0            NaN   \n",
       "7           23982.0              11634.0               0.0            NaN   \n",
       "8               NaN                  NaN               NaN            NaN   \n",
       "9           50898.0              15008.0               0.0            NaN   \n",
       "\n",
       "   ponds_around3000  ponds_nearest  days_exposition  \n",
       "0               2.0          755.0              NaN  \n",
       "1               0.0            NaN             81.0  \n",
       "2               2.0          574.0            558.0  \n",
       "3               3.0          234.0            424.0  \n",
       "4               1.0           48.0            121.0  \n",
       "5               NaN            NaN             55.0  \n",
       "6               0.0            NaN            155.0  \n",
       "7               0.0            NaN              NaN  \n",
       "8               NaN            NaN            189.0  \n",
       "9               0.0            NaN            289.0  "
      ]
     },
     "metadata": {},
     "output_type": "display_data"
    },
    {
     "name": "stdout",
     "output_type": "stream",
     "text": [
      "<class 'pandas.core.frame.DataFrame'>\n",
      "RangeIndex: 23699 entries, 0 to 23698\n",
      "Data columns (total 22 columns):\n",
      " #   Column                Non-Null Count  Dtype  \n",
      "---  ------                --------------  -----  \n",
      " 0   total_images          23699 non-null  int64  \n",
      " 1   last_price            23699 non-null  float64\n",
      " 2   total_area            23699 non-null  float64\n",
      " 3   first_day_exposition  23699 non-null  object \n",
      " 4   rooms                 23699 non-null  int64  \n",
      " 5   ceiling_height        14504 non-null  float64\n",
      " 6   floors_total          23613 non-null  float64\n",
      " 7   living_area           21796 non-null  float64\n",
      " 8   floor                 23699 non-null  int64  \n",
      " 9   is_apartment          2775 non-null   object \n",
      " 10  studio                23699 non-null  bool   \n",
      " 11  open_plan             23699 non-null  bool   \n",
      " 12  kitchen_area          21421 non-null  float64\n",
      " 13  balcony               12180 non-null  float64\n",
      " 14  locality_name         23650 non-null  object \n",
      " 15  airports_nearest      18157 non-null  float64\n",
      " 16  cityCenters_nearest   18180 non-null  float64\n",
      " 17  parks_around3000      18181 non-null  float64\n",
      " 18  parks_nearest         8079 non-null   float64\n",
      " 19  ponds_around3000      18181 non-null  float64\n",
      " 20  ponds_nearest         9110 non-null   float64\n",
      " 21  days_exposition       20518 non-null  float64\n",
      "dtypes: bool(2), float64(14), int64(3), object(3)\n",
      "memory usage: 3.7+ MB\n"
     ]
    },
    {
     "data": {
      "text/plain": [
       "array([[<AxesSubplot:title={'center':'total_images'}>,\n",
       "        <AxesSubplot:title={'center':'last_price'}>,\n",
       "        <AxesSubplot:title={'center':'total_area'}>,\n",
       "        <AxesSubplot:title={'center':'rooms'}>],\n",
       "       [<AxesSubplot:title={'center':'ceiling_height'}>,\n",
       "        <AxesSubplot:title={'center':'floors_total'}>,\n",
       "        <AxesSubplot:title={'center':'living_area'}>,\n",
       "        <AxesSubplot:title={'center':'floor'}>],\n",
       "       [<AxesSubplot:title={'center':'kitchen_area'}>,\n",
       "        <AxesSubplot:title={'center':'balcony'}>,\n",
       "        <AxesSubplot:title={'center':'airports_nearest'}>,\n",
       "        <AxesSubplot:title={'center':'cityCenters_nearest'}>],\n",
       "       [<AxesSubplot:title={'center':'parks_around3000'}>,\n",
       "        <AxesSubplot:title={'center':'parks_nearest'}>,\n",
       "        <AxesSubplot:title={'center':'ponds_around3000'}>,\n",
       "        <AxesSubplot:title={'center':'ponds_nearest'}>],\n",
       "       [<AxesSubplot:title={'center':'days_exposition'}>, <AxesSubplot:>,\n",
       "        <AxesSubplot:>, <AxesSubplot:>]], dtype=object)"
      ]
     },
     "execution_count": 2,
     "metadata": {},
     "output_type": "execute_result"
    },
    {
     "data": {
      "image/png": "[encoded data removed]",
      "text/plain": [
       "<Figure size 1080x1440 with 20 Axes>"
      ]
     },
     "metadata": {
      "needs_background": "light"
     },
     "output_type": "display_data"
    }
   ],
   "source": [
    "data = pd.read_csv('/datasets/real_estate_data.csv', sep='\\t')\n",
    "\n",
    "pd.set_option('display.max_columns', None) \n",
    "\n",
    "display(data.head(10)) \n",
    "\n",
    "data.info() \n",
    "\n",
    "\n",
    "data.hist(figsize=(15, 20))\n",
    "\n"
   ]
  },
  {
   "cell_type": "markdown",
   "metadata": {},
   "source": [
    "By examining general information about the source dataframe, you can find the following data problems:\n",
    "- gaps in the data in 13 columns out of 20;\n",
    "- incorrect data type in columns containing numeric values and date;\n",
    "- duplicates in the locality_name column: the locality type \"village\" has a different spelling;\n",
    "Analysis of the obtained histograms showed:\n",
    "- abnormal values of total and living area (more than 200 sq.m.), kitchen area (more than 30 sq.m.)\n",
    "- abnormal values in the day's exposition column that are greater than 500 days from the date of publication.\n",
    "\n",
    "Gaps, duplicates, and anomalous values in the columns affect the correctness of the analysis and the accuracy of plotting. In this regard, before starting to conduct an exploratory data analysis, it is necessary to reprocess the initial data. "
   ]
  },
  
    {
   "cell_type": "markdown",
   "metadata": {},
   "source": [
    "### Предобработка данных"
   ]
  },
  {
   "cell_type": "code",
   "execution_count": 3,
   "metadata": {},
   "outputs": [],
   "source": [
    "#количество строк датасета до начала предобработки:\n",
    "data_old = data.shape[0]\n",
    "## найдем пропуски в данных\n",
    "# определим столбцы, в которых есть пропуски\n",
    "#display(data.isna().sum())\n",
    "\n",
    "#получим таблицу, которая отображает долю пропусков в каждом столбце\n",
    "#display(pd.DataFrame(round(data.isna().mean()*100, 1)).style)\n",
    "\n"
   ]
  },
  {
   "cell_type": "code",
   "execution_count": 4,
   "metadata": {},
   "outputs": [],
   "source": [
    "\n",
    "warnings.filterwarnings(\"ignore\")\n",
    "\n",
    "#заменим типы данных в столбцах,которые содержат цифровые значения на float, \n",
    "#так как они будут участвовать в дальнейших математических вычислениях :\n",
    "data[['last_price','living_area','total_area','ceiling_height','floors_total',\n",
    "      'kitchen_area','airports_nearest','cityCenters_nearest',\n",
    "      'parks_around3000','parks_nearest','ponds_around3000', 'ponds_nearest', 'days_exposition']] = data[['last_price','living_area','total_area',\n",
    "     'ceiling_height','floors_total','kitchen_area','airports_nearest',\n",
    "      'cityCenters_nearest','parks_around3000','parks_nearest','ponds_around3000', 'ponds_nearest', 'days_exposition']].astype('float')\n",
    "\n",
    "#заменим тип данных в столбце с датой:\n",
    "data['first_day_exposition'] = pd.to_datetime(data['first_day_exposition'], format='%Y-%m-%dT%H:%M:%S')\n",
    "   \n",
    "#заменим тип данных в столбце is_apartment на логический, как в этом столбце только два значения True/False:\n",
    "data['is_apartment'] = data['is_apartment'].astype(bool) \n",
    " "
   ]
  },
  {
   "cell_type": "code",
   "execution_count": 5,
   "metadata": {},
   "outputs": [],
   "source": [
    "# по результам анализа количества и доли пропусков в столбцах, обработаем пропуски:\n",
    "\n",
    "# заменим пропуски в столбце ceiling_height медианным значением в зависимости от этажности зданий:\n",
    "for floors_total in data['floors_total'].unique():\n",
    "    data.loc[(data['ceiling_height'].isna()) & (data['floors_total'] == floors_total), 'ceiling_height'] = \\\n",
    "    data.loc[data['floors_total'] == floors_total, 'ceiling_height'].median()\n"
   ]
  },
  {
   "cell_type": "code",
   "execution_count": 6,
   "metadata": {},
   "outputs": [],
   "source": [
    "# заменим пропуски в столбце living_area значением из столбца total_area, умноженным на коэфициент \n",
    "# коэффициент равен отношению медианного значения жилой площади к медианному значению общей площади\n",
    "k = round(data['living_area'].median() / data['total_area'].median(),1)\n",
    "data.loc[data['living_area'].isna(), 'living_area'] = data.loc[data['living_area'].isna(), 'total_area'] * k"
   ]
  },
  {
   "cell_type": "code",
   "execution_count": 7,
   "metadata": {},
   "outputs": [],
   "source": [
    "# заменим пропуски в столбце is_apartment значением False, так как такой вид недвижимости не квартира\n",
    "data.loc[data['is_apartment'].isna(), 'is_apartment'] = data.loc[data['is_apartment'].isna(), 'is_apartment'] == 'False'"
   ]
  },
  {
   "cell_type": "code",
   "execution_count": 8,
   "metadata": {},
   "outputs": [],
   "source": [
    "#заменим пропуски в столбце kitchen_area значением, который равняется разности общей площади и жилой площади:\n",
    "data.loc[data['kitchen_area'].isna(), 'kitchen_area'] = \\\n",
    "data.loc[data['kitchen_area'].isna(), 'total_area'] - data['living_area']"
   ]
  },
  {
   "cell_type": "code",
   "execution_count": 9,
   "metadata": {},
   "outputs": [],
   "source": [
    "#заменим  пропуски в столбце balcony на 0  и поменям тип данных на int:\n",
    "data['balcony'] = pd.to_numeric(data['balcony'], errors='coerce')\n",
    "data['balcony'] = data['balcony'].fillna(0).astype('int')"
   ]
  },
  {
   "cell_type": "code",
   "execution_count": 10,
   "metadata": {},
   "outputs": [],
   "source": [
    "#заменим пропуски в столбце locality_name на Unknown:\n",
    "data['locality_name'] = data['locality_name'].fillna(value='Unknown')\n",
    "\n",
    "# пропуски в остальных столбцах оставим без измения, так как отстутствиет логической замены."
   ]
  },
  {
   "cell_type": "code",
   "execution_count": 11,
   "metadata": {},
   "outputs": [
    {
     "data": {
      "text/html": [
       "<div>\n",
       "<style scoped>\n",
       "    .dataframe tbody tr th:only-of-type {\n",
       "        vertical-align: middle;\n",
       "    }\n",
       "\n",
       "    .dataframe tbody tr th {\n",
       "        vertical-align: top;\n",
       "    }\n",
       "\n",
       "    .dataframe thead th {\n",
       "        text-align: right;\n",
       "    }\n",
       "</style>\n",
       "<table border=\"1\" class=\"dataframe\">\n",
       "  <thead>\n",
       "    <tr style=\"text-align: right;\">\n",
       "      <th></th>\n",
       "      <th>total_images</th>\n",
       "      <th>last_price</th>\n",
       "      <th>total_area</th>\n",
       "      <th>first_day_exposition</th>\n",
       "      <th>rooms</th>\n",
       "      <th>ceiling_height</th>\n",
       "      <th>floors_total</th>\n",
       "      <th>living_area</th>\n",
       "      <th>floor</th>\n",
       "      <th>is_apartment</th>\n",
       "      <th>studio</th>\n",
       "      <th>open_plan</th>\n",
       "      <th>kitchen_area</th>\n",
       "      <th>balcony</th>\n",
       "      <th>locality_name</th>\n",
       "      <th>airports_nearest</th>\n",
       "      <th>cityCenters_nearest</th>\n",
       "      <th>parks_around3000</th>\n",
       "      <th>parks_nearest</th>\n",
       "      <th>ponds_around3000</th>\n",
       "      <th>ponds_nearest</th>\n",
       "      <th>days_exposition</th>\n",
       "    </tr>\n",
       "  </thead>\n",
       "  <tbody>\n",
       "    <tr>\n",
       "      <th>0</th>\n",
       "      <td>20</td>\n",
       "      <td>13000000.0</td>\n",
       "      <td>108.00</td>\n",
       "      <td>2019-03-07</td>\n",
       "      <td>3</td>\n",
       "      <td>2.70</td>\n",
       "      <td>16.0</td>\n",
       "      <td>51.00</td>\n",
       "      <td>8</td>\n",
       "      <td>True</td>\n",
       "      <td>False</td>\n",
       "      <td>False</td>\n",
       "      <td>25.00</td>\n",
       "      <td>0</td>\n",
       "      <td>Санкт-Петербург</td>\n",
       "      <td>18863.0</td>\n",
       "      <td>16028.0</td>\n",
       "      <td>1.0</td>\n",
       "      <td>482.0</td>\n",
       "      <td>2.0</td>\n",
       "      <td>755.0</td>\n",
       "      <td>NaN</td>\n",
       "    </tr>\n",
       "    <tr>\n",
       "      <th>1</th>\n",
       "      <td>7</td>\n",
       "      <td>3350000.0</td>\n",
       "      <td>40.40</td>\n",
       "      <td>2018-12-04</td>\n",
       "      <td>1</td>\n",
       "      <td>2.75</td>\n",
       "      <td>11.0</td>\n",
       "      <td>18.60</td>\n",
       "      <td>1</td>\n",
       "      <td>True</td>\n",
       "      <td>False</td>\n",
       "      <td>False</td>\n",
       "      <td>11.00</td>\n",
       "      <td>2</td>\n",
       "      <td>посёлок Шушары</td>\n",
       "      <td>12817.0</td>\n",
       "      <td>18603.0</td>\n",
       "      <td>0.0</td>\n",
       "      <td>NaN</td>\n",
       "      <td>0.0</td>\n",
       "      <td>NaN</td>\n",
       "      <td>81.0</td>\n",
       "    </tr>\n",
       "    <tr>\n",
       "      <th>2</th>\n",
       "      <td>10</td>\n",
       "      <td>5196000.0</td>\n",
       "      <td>56.00</td>\n",
       "      <td>2015-08-20</td>\n",
       "      <td>2</td>\n",
       "      <td>2.55</td>\n",
       "      <td>5.0</td>\n",
       "      <td>34.30</td>\n",
       "      <td>4</td>\n",
       "      <td>True</td>\n",
       "      <td>False</td>\n",
       "      <td>False</td>\n",
       "      <td>8.30</td>\n",
       "      <td>0</td>\n",
       "      <td>Санкт-Петербург</td>\n",
       "      <td>21741.0</td>\n",
       "      <td>13933.0</td>\n",
       "      <td>1.0</td>\n",
       "      <td>90.0</td>\n",
       "      <td>2.0</td>\n",
       "      <td>574.0</td>\n",
       "      <td>558.0</td>\n",
       "    </tr>\n",
       "    <tr>\n",
       "      <th>3</th>\n",
       "      <td>0</td>\n",
       "      <td>64900000.0</td>\n",
       "      <td>159.00</td>\n",
       "      <td>2015-07-24</td>\n",
       "      <td>3</td>\n",
       "      <td>2.60</td>\n",
       "      <td>14.0</td>\n",
       "      <td>95.40</td>\n",
       "      <td>9</td>\n",
       "      <td>True</td>\n",
       "      <td>False</td>\n",
       "      <td>False</td>\n",
       "      <td>63.60</td>\n",
       "      <td>0</td>\n",
       "      <td>Санкт-Петербург</td>\n",
       "      <td>28098.0</td>\n",
       "      <td>6800.0</td>\n",
       "      <td>2.0</td>\n",
       "      <td>84.0</td>\n",
       "      <td>3.0</td>\n",
       "      <td>234.0</td>\n",
       "      <td>424.0</td>\n",
       "    </tr>\n",
       "    <tr>\n",
       "      <th>4</th>\n",
       "      <td>2</td>\n",
       "      <td>10000000.0</td>\n",
       "      <td>100.00</td>\n",
       "      <td>2018-06-19</td>\n",
       "      <td>2</td>\n",
       "      <td>3.03</td>\n",
       "      <td>14.0</td>\n",
       "      <td>32.00</td>\n",
       "      <td>13</td>\n",
       "      <td>True</td>\n",
       "      <td>False</td>\n",
       "      <td>False</td>\n",
       "      <td>41.00</td>\n",
       "      <td>0</td>\n",
       "      <td>Санкт-Петербург</td>\n",
       "      <td>31856.0</td>\n",
       "      <td>8098.0</td>\n",
       "      <td>2.0</td>\n",
       "      <td>112.0</td>\n",
       "      <td>1.0</td>\n",
       "      <td>48.0</td>\n",
       "      <td>121.0</td>\n",
       "    </tr>\n",
       "    <tr>\n",
       "      <th>5</th>\n",
       "      <td>10</td>\n",
       "      <td>2890000.0</td>\n",
       "      <td>30.40</td>\n",
       "      <td>2018-09-10</td>\n",
       "      <td>1</td>\n",
       "      <td>2.65</td>\n",
       "      <td>12.0</td>\n",
       "      <td>14.40</td>\n",
       "      <td>5</td>\n",
       "      <td>True</td>\n",
       "      <td>False</td>\n",
       "      <td>False</td>\n",
       "      <td>9.10</td>\n",
       "      <td>0</td>\n",
       "      <td>городской посёлок Янино-1</td>\n",
       "      <td>NaN</td>\n",
       "      <td>NaN</td>\n",
       "      <td>NaN</td>\n",
       "      <td>NaN</td>\n",
       "      <td>NaN</td>\n",
       "      <td>NaN</td>\n",
       "      <td>55.0</td>\n",
       "    </tr>\n",
       "    <tr>\n",
       "      <th>6</th>\n",
       "      <td>6</td>\n",
       "      <td>3700000.0</td>\n",
       "      <td>37.30</td>\n",
       "      <td>2017-11-02</td>\n",
       "      <td>1</td>\n",
       "      <td>2.66</td>\n",
       "      <td>26.0</td>\n",
       "      <td>10.60</td>\n",
       "      <td>6</td>\n",
       "      <td>True</td>\n",
       "      <td>False</td>\n",
       "      <td>False</td>\n",
       "      <td>14.40</td>\n",
       "      <td>1</td>\n",
       "      <td>посёлок Парголово</td>\n",
       "      <td>52996.0</td>\n",
       "      <td>19143.0</td>\n",
       "      <td>0.0</td>\n",
       "      <td>NaN</td>\n",
       "      <td>0.0</td>\n",
       "      <td>NaN</td>\n",
       "      <td>155.0</td>\n",
       "    </tr>\n",
       "    <tr>\n",
       "      <th>7</th>\n",
       "      <td>5</td>\n",
       "      <td>7915000.0</td>\n",
       "      <td>71.60</td>\n",
       "      <td>2019-04-18</td>\n",
       "      <td>2</td>\n",
       "      <td>2.75</td>\n",
       "      <td>24.0</td>\n",
       "      <td>42.96</td>\n",
       "      <td>22</td>\n",
       "      <td>True</td>\n",
       "      <td>False</td>\n",
       "      <td>False</td>\n",
       "      <td>18.90</td>\n",
       "      <td>2</td>\n",
       "      <td>Санкт-Петербург</td>\n",
       "      <td>23982.0</td>\n",
       "      <td>11634.0</td>\n",
       "      <td>0.0</td>\n",
       "      <td>NaN</td>\n",
       "      <td>0.0</td>\n",
       "      <td>NaN</td>\n",
       "      <td>NaN</td>\n",
       "    </tr>\n",
       "    <tr>\n",
       "      <th>8</th>\n",
       "      <td>20</td>\n",
       "      <td>2900000.0</td>\n",
       "      <td>33.16</td>\n",
       "      <td>2018-05-23</td>\n",
       "      <td>1</td>\n",
       "      <td>2.70</td>\n",
       "      <td>27.0</td>\n",
       "      <td>15.43</td>\n",
       "      <td>26</td>\n",
       "      <td>True</td>\n",
       "      <td>False</td>\n",
       "      <td>False</td>\n",
       "      <td>8.81</td>\n",
       "      <td>0</td>\n",
       "      <td>посёлок Мурино</td>\n",
       "      <td>NaN</td>\n",
       "      <td>NaN</td>\n",
       "      <td>NaN</td>\n",
       "      <td>NaN</td>\n",
       "      <td>NaN</td>\n",
       "      <td>NaN</td>\n",
       "      <td>189.0</td>\n",
       "    </tr>\n",
       "    <tr>\n",
       "      <th>9</th>\n",
       "      <td>18</td>\n",
       "      <td>5400000.0</td>\n",
       "      <td>61.00</td>\n",
       "      <td>2017-02-26</td>\n",
       "      <td>3</td>\n",
       "      <td>2.50</td>\n",
       "      <td>9.0</td>\n",
       "      <td>43.60</td>\n",
       "      <td>7</td>\n",
       "      <td>True</td>\n",
       "      <td>False</td>\n",
       "      <td>False</td>\n",
       "      <td>6.50</td>\n",
       "      <td>2</td>\n",
       "      <td>Санкт-Петербург</td>\n",
       "      <td>50898.0</td>\n",
       "      <td>15008.0</td>\n",
       "      <td>0.0</td>\n",
       "      <td>NaN</td>\n",
       "      <td>0.0</td>\n",
       "      <td>NaN</td>\n",
       "      <td>289.0</td>\n",
       "    </tr>\n",
       "  </tbody>\n",
       "</table>\n",
       "</div>"
      ],
      "text/plain": [
       "   total_images  last_price  total_area first_day_exposition  rooms  \\\n",
       "0            20  13000000.0      108.00           2019-03-07      3   \n",
       "1             7   3350000.0       40.40           2018-12-04      1   \n",
       "2            10   5196000.0       56.00           2015-08-20      2   \n",
       "3             0  64900000.0      159.00           2015-07-24      3   \n",
       "4             2  10000000.0      100.00           2018-06-19      2   \n",
       "5            10   2890000.0       30.40           2018-09-10      1   \n",
       "6             6   3700000.0       37.30           2017-11-02      1   \n",
       "7             5   7915000.0       71.60           2019-04-18      2   \n",
       "8            20   2900000.0       33.16           2018-05-23      1   \n",
       "9            18   5400000.0       61.00           2017-02-26      3   \n",
       "\n",
       "   ceiling_height  floors_total  living_area  floor  is_apartment  studio  \\\n",
       "0            2.70          16.0        51.00      8          True   False   \n",
       "1            2.75          11.0        18.60      1          True   False   \n",
       "2            2.55           5.0        34.30      4          True   False   \n",
       "3            2.60          14.0        95.40      9          True   False   \n",
       "4            3.03          14.0        32.00     13          True   False   \n",
       "5            2.65          12.0        14.40      5          True   False   \n",
       "6            2.66          26.0        10.60      6          True   False   \n",
       "7            2.75          24.0        42.96     22          True   False   \n",
       "8            2.70          27.0        15.43     26          True   False   \n",
       "9            2.50           9.0        43.60      7          True   False   \n",
       "\n",
       "   open_plan  kitchen_area  balcony              locality_name  \\\n",
       "0      False         25.00        0            Санкт-Петербург   \n",
       "1      False         11.00        2             посёлок Шушары   \n",
       "2      False          8.30        0            Санкт-Петербург   \n",
       "3      False         63.60        0            Санкт-Петербург   \n",
       "4      False         41.00        0            Санкт-Петербург   \n",
       "5      False          9.10        0  городской посёлок Янино-1   \n",
       "6      False         14.40        1          посёлок Парголово   \n",
       "7      False         18.90        2            Санкт-Петербург   \n",
       "8      False          8.81        0             посёлок Мурино   \n",
       "9      False          6.50        2            Санкт-Петербург   \n",
       "\n",
       "   airports_nearest  cityCenters_nearest  parks_around3000  parks_nearest  \\\n",
       "0           18863.0              16028.0               1.0          482.0   \n",
       "1           12817.0              18603.0               0.0            NaN   \n",
       "2           21741.0              13933.0               1.0           90.0   \n",
       "3           28098.0               6800.0               2.0           84.0   \n",
       "4           31856.0               8098.0               2.0          112.0   \n",
       "5               NaN                  NaN               NaN            NaN   \n",
       "6           52996.0              19143.0               0.0            NaN   \n",
       "7           23982.0              11634.0               0.0            NaN   \n",
       "8               NaN                  NaN               NaN            NaN   \n",
       "9           50898.0              15008.0               0.0            NaN   \n",
       "\n",
       "   ponds_around3000  ponds_nearest  days_exposition  \n",
       "0               2.0          755.0              NaN  \n",
       "1               0.0            NaN             81.0  \n",
       "2               2.0          574.0            558.0  \n",
       "3               3.0          234.0            424.0  \n",
       "4               1.0           48.0            121.0  \n",
       "5               NaN            NaN             55.0  \n",
       "6               0.0            NaN            155.0  \n",
       "7               0.0            NaN              NaN  \n",
       "8               NaN            NaN            189.0  \n",
       "9               0.0            NaN            289.0  "
      ]
     },
     "metadata": {},
     "output_type": "display_data"
    },
    {
     "name": "stdout",
     "output_type": "stream",
     "text": [
      "<class 'pandas.core.frame.DataFrame'>\n",
      "RangeIndex: 23699 entries, 0 to 23698\n",
      "Data columns (total 22 columns):\n",
      " #   Column                Non-Null Count  Dtype         \n",
      "---  ------                --------------  -----         \n",
      " 0   total_images          23699 non-null  int64         \n",
      " 1   last_price            23699 non-null  float64       \n",
      " 2   total_area            23699 non-null  float64       \n",
      " 3   first_day_exposition  23699 non-null  datetime64[ns]\n",
      " 4   rooms                 23699 non-null  int64         \n",
      " 5   ceiling_height        23621 non-null  float64       \n",
      " 6   floors_total          23613 non-null  float64       \n",
      " 7   living_area           23699 non-null  float64       \n",
      " 8   floor                 23699 non-null  int64         \n",
      " 9   is_apartment          23699 non-null  bool          \n",
      " 10  studio                23699 non-null  bool          \n",
      " 11  open_plan             23699 non-null  bool          \n",
      " 12  kitchen_area          23699 non-null  float64       \n",
      " 13  balcony               23699 non-null  int64         \n",
      " 14  locality_name         23699 non-null  object        \n",
      " 15  airports_nearest      18157 non-null  float64       \n",
      " 16  cityCenters_nearest   18180 non-null  float64       \n",
      " 17  parks_around3000      18181 non-null  float64       \n",
      " 18  parks_nearest         8079 non-null   float64       \n",
      " 19  ponds_around3000      18181 non-null  float64       \n",
      " 20  ponds_nearest         9110 non-null   float64       \n",
      " 21  days_exposition       20518 non-null  float64       \n",
      "dtypes: bool(3), datetime64[ns](1), float64(13), int64(4), object(1)\n",
      "memory usage: 3.5+ MB\n"
     ]
    },
    {
     "data": {
      "text/plain": [
       "None"
      ]
     },
     "metadata": {},
     "output_type": "display_data"
    },
    {
     "data": {
      "text/plain": [
       "total_images                0\n",
       "last_price                  0\n",
       "total_area                  0\n",
       "first_day_exposition        0\n",
       "rooms                       0\n",
       "ceiling_height             78\n",
       "floors_total               86\n",
       "living_area                 0\n",
       "floor                       0\n",
       "is_apartment                0\n",
       "studio                      0\n",
       "open_plan                   0\n",
       "kitchen_area                0\n",
       "balcony                     0\n",
       "locality_name               0\n",
       "airports_nearest         5542\n",
       "cityCenters_nearest      5519\n",
       "parks_around3000         5518\n",
       "parks_nearest           15620\n",
       "ponds_around3000         5518\n",
       "ponds_nearest           14589\n",
       "days_exposition          3181\n",
       "dtype: int64"
      ]
     },
     "metadata": {},
     "output_type": "display_data"
    }
   ],
   "source": [
    "#выведим на экран результаты замены пропусков:\n",
    "display(data.head(10))\n",
    "display(data.info())\n",
    "display(data.isna().sum())\n"
   ]
  },
  {
   "cell_type": "markdown",
   "metadata": {},
   "source": [
    "<div class=\"alert alert-warning\">\n",
    "<b>⚠️ Комментарий ревьюера v1:</b> \n",
    "<br>Разбивай, пожалуйста, код на несколько ячеек, чтобы у тебя после стены кода не шла стена выводов. Так будет более наглядно и проще комментировать твой код\n",
    "</div>"
   ]
  },
  {
   "cell_type": "markdown",
   "metadata": {},
   "source": [
    "<div class=\"alert alert-info\">\n",
    "<b>Комментарий студента:</b>\n",
    "<br>Сделано\n",
    "</div>"
   ]
  },
  {
   "cell_type": "markdown",
   "metadata": {},
   "source": [
    "<div class=\"alert alert-success\">\n",
    "<b>✔️ Комментарий ревьюера v1:</b> \n",
    "<br>Отличная работа с пропусками и типами данных! Не забывай, что не всегда стоит делать замену, ради замены. Очень важно обоснование. Иногда пропуски можно удалить (если их мало), либо вообще не трогать, если у нас нет возможности подобрать аргументированный способ замены\n",
    "</div>"
   ]
  },
  {
   "cell_type": "code",
   "execution_count": 12,
   "metadata": {},
   "outputs": [],
   "source": [
    "#после заполнения пропусков в столбцах, необходимо провести анализ, выявить и удалить анамалии:\n",
    "# выведим список уникальных значений столбца ceiling_height:\n",
    "sorted(data['ceiling_height'].unique())\n",
    "\n",
    "#в столбце ceiling_height  содержатся анамальные значения, так как реальная высота потолков находится в диапозоне от 2 до 6 метров.\n",
    "# в столбце присутствуют двузначные значения высоты по причине пропуска запятой после целой части числа, поэтому значения больше 10 разделим на 10\n",
    "data.loc[data['ceiling_height'] >= 10, 'ceiling_height'] = data.loc[data['ceiling_height'] >= 10, 'ceiling_height'] / 10\n",
    "\n",
    "# отфильтруем значения  высоты потолков в диапозоне от 2 до 6 метров:\n",
    "data = data.query('6 >= ceiling_height >=2')"
   ]
  },
  {
   "cell_type": "code",
   "execution_count": 13,
   "metadata": {},
   "outputs": [],
   "source": [
    "# отфильтруем значения столбца kitchen_area от 5 до 30 кв. м\n",
    "data = data.query('30 >=kitchen_area >= 5')\n",
    "\n",
    "# проверим  значения в столбце last_price и  удалим анамальные значения:\n",
    "sorted(data['last_price'].unique())\n",
    "data = data[(data['last_price'] > 12190) & (data['last_price'] <=  400000000)]"
   ]
  },
  {
   "cell_type": "code",
   "execution_count": 14,
   "metadata": {},
   "outputs": [
    {
     "data": {
      "text/plain": [
       "0"
      ]
     },
     "execution_count": 14,
     "metadata": {},
     "output_type": "execute_result"
    }
   ],
   "source": [
    "# проверим значения в столбце total_area и удалим анамальные значения:\n",
    "sorted(data['total_area'].unique())\n",
    "data = data[data['total_area'] < 400]\n",
    "# обработка неявных дубликатов в столбце locality_name:\n",
    "data['locality_name'] = data['locality_name'].str.lower()\n",
    "duplicates = \\\n",
    "['поселок', 'посёлок городского типа', 'поселок городского типа' \\\n",
    "'городской поселок', 'городской посёлок']\n",
    "name = 'посёлок'\n",
    "data['locality_name'] = data['locality_name'].replace(duplicates, name, regex=True)\n",
    "\n",
    "sorted(data['locality_name'].unique())\n",
    "data.duplicated().sum() "
   ]
  },
  {
   "cell_type": "code",
   "execution_count": 15,
   "metadata": {},
   "outputs": [],
   "source": [
    "#удалим строки в строке days_exposition, в которых значения больше 730 (2 года):\n",
    "data = data.drop(index=data.query('days_exposition > 730').index)\n",
    "\n",
    "#удалим строки с пропусками в столбцах floors_total и ceiling_height:\n",
    "data = data.drop(index=data.query('floors_total.isna() or ceiling_height.isna()').index)\n",
    "\n",
    "# удалим строки, в которых жилая площадь не может быть больше чем 90% от общей площади и меньше 10 кв.м:\n",
    "data = data.drop(index=data.query('total_area * 0.9 >= living_area <= 10').index)\n",
    "\n",
    "\n"
   ]
  },
  {
   "cell_type": "code",
   "execution_count": 16,
   "metadata": {},
   "outputs": [
    {
     "data": {
      "text/plain": [
       "total_images                0\n",
       "last_price                  0\n",
       "total_area                  0\n",
       "first_day_exposition        0\n",
       "rooms                       0\n",
       "ceiling_height              0\n",
       "floors_total                0\n",
       "living_area                 0\n",
       "floor                       0\n",
       "is_apartment                0\n",
       "studio                      0\n",
       "open_plan                   0\n",
       "kitchen_area                0\n",
       "balcony                     0\n",
       "locality_name               0\n",
       "airports_nearest         5256\n",
       "cityCenters_nearest      5237\n",
       "parks_around3000         5236\n",
       "parks_nearest           14656\n",
       "ponds_around3000         5236\n",
       "ponds_nearest           13742\n",
       "days_exposition          3008\n",
       "dtype: int64"
      ]
     },
     "metadata": {},
     "output_type": "display_data"
    },
    {
     "name": "stdout",
     "output_type": "stream",
     "text": [
      "Доля удаленных данных составила: 7.2%\n"
     ]
    }
   ],
   "source": [
    "# убедимся, что пропуски в столбцах, в которых это было возможно, обработаны:\n",
    "display(data.isna().sum())\n",
    "\n",
    "# выведем на экран количество удаленных данных:\n",
    "data_new = data.shape[0]\n",
    "result = (1 - (data_new / data_old))\n",
    "print(f'Доля удаленных данных составила: {result:.1%}')\n"
   ]
  },
  {
   "cell_type": "markdown",
   "metadata": {},
   "source": [
    "<div class=\"alert alert-success\">\n",
    "<b>✔️ Комментарий ревьюера v1:</b>\n",
    "<br>Диапазоны для аномальных значений подобраны и удалены верно! Ты также верно убрала дубликаты из названия населённых пунктов\n",
    "</div>"
   ]
  },
  {
   "cell_type": "markdown",
   "metadata": {},
   "source": [
    "<div class=\"alert alert-warning\">\n",
    "<b>⚠️ Комментарий ревьюера v1:</b> \n",
    "<br>Здесь хорошо бы посмотреть на количество удалённых данных\n",
    "\t\n",
    "\tnew_data.shape[0] / old_data.shape[0]\n",
    "</div>"
   ]
  },
  {
   "cell_type": "markdown",
   "metadata": {},
   "source": [
    "<div class=\"alert alert-info\">\n",
    "<b>Комментарий студента:</b>\n",
    "<br>Сделано\n",
    "</div>"
   ]
  },
  {
   "cell_type": "markdown",
   "metadata": {},
   "source": [
    "### Посчитайте и добавьте в таблицу новые столбцы"
   ]
  },
  {
   "cell_type": "code",
   "execution_count": 17,
   "metadata": {},
   "outputs": [],
   "source": [
    "#посчитаем и добавим в таблицу новый столбец с ценой одного квадратного метра:\n",
    "data['price_one_meter'] = round(data['last_price'] / data['total_area'], 1)\n",
    "\n",
    "#посчитаем и добавим  в таблицу день публикации объявления (0 - понедельник, 1 - вторник и т.д.):\n",
    "data['weekday_exposition'] = data['first_day_exposition'].dt.weekday\n",
    "\n",
    "#посчитаем и добавим в таблицу месяц публикации объявления:\n",
    "data['month_exposition'] = pd.DatetimeIndex(data['first_day_exposition']).month\n",
    "\n",
    "#посчитаем и добавим в таблицу год публикации объявления\n",
    "data['year_exposition'] = pd.DatetimeIndex(data['first_day_exposition']).year\n"
   ]
  },
  {
   "cell_type": "code",
   "execution_count": 18,
   "metadata": {},
   "outputs": [
    {
     "data": {
      "text/html": [
       "<div>\n",
       "<style scoped>\n",
       "    .dataframe tbody tr th:only-of-type {\n",
       "        vertical-align: middle;\n",
       "    }\n",
       "\n",
       "    .dataframe tbody tr th {\n",
       "        vertical-align: top;\n",
       "    }\n",
       "\n",
       "    .dataframe thead th {\n",
       "        text-align: right;\n",
       "    }\n",
       "</style>\n",
       "<table border=\"1\" class=\"dataframe\">\n",
       "  <thead>\n",
       "    <tr style=\"text-align: right;\">\n",
       "      <th></th>\n",
       "      <th>total_images</th>\n",
       "      <th>last_price</th>\n",
       "      <th>total_area</th>\n",
       "      <th>first_day_exposition</th>\n",
       "      <th>rooms</th>\n",
       "      <th>ceiling_height</th>\n",
       "      <th>floors_total</th>\n",
       "      <th>living_area</th>\n",
       "      <th>floor</th>\n",
       "      <th>is_apartment</th>\n",
       "      <th>studio</th>\n",
       "      <th>open_plan</th>\n",
       "      <th>kitchen_area</th>\n",
       "      <th>balcony</th>\n",
       "      <th>locality_name</th>\n",
       "      <th>airports_nearest</th>\n",
       "      <th>cityCenters_nearest</th>\n",
       "      <th>parks_around3000</th>\n",
       "      <th>parks_nearest</th>\n",
       "      <th>ponds_around3000</th>\n",
       "      <th>ponds_nearest</th>\n",
       "      <th>days_exposition</th>\n",
       "      <th>price_one_meter</th>\n",
       "      <th>weekday_exposition</th>\n",
       "      <th>month_exposition</th>\n",
       "      <th>year_exposition</th>\n",
       "      <th>floor_type</th>\n",
       "      <th>city_center_km</th>\n",
       "    </tr>\n",
       "  </thead>\n",
       "  <tbody>\n",
       "    <tr>\n",
       "      <th>0</th>\n",
       "      <td>20</td>\n",
       "      <td>13000000.0</td>\n",
       "      <td>108.0</td>\n",
       "      <td>2019-03-07</td>\n",
       "      <td>3</td>\n",
       "      <td>2.70</td>\n",
       "      <td>16.0</td>\n",
       "      <td>51.0</td>\n",
       "      <td>8</td>\n",
       "      <td>True</td>\n",
       "      <td>False</td>\n",
       "      <td>False</td>\n",
       "      <td>25.0</td>\n",
       "      <td>0</td>\n",
       "      <td>санкт-петербург</td>\n",
       "      <td>18863.0</td>\n",
       "      <td>16028.0</td>\n",
       "      <td>1.0</td>\n",
       "      <td>482.0</td>\n",
       "      <td>2.0</td>\n",
       "      <td>755.0</td>\n",
       "      <td>NaN</td>\n",
       "      <td>120370.4</td>\n",
       "      <td>3</td>\n",
       "      <td>3</td>\n",
       "      <td>2019</td>\n",
       "      <td>другой</td>\n",
       "      <td>16.0</td>\n",
       "    </tr>\n",
       "    <tr>\n",
       "      <th>1</th>\n",
       "      <td>7</td>\n",
       "      <td>3350000.0</td>\n",
       "      <td>40.4</td>\n",
       "      <td>2018-12-04</td>\n",
       "      <td>1</td>\n",
       "      <td>2.75</td>\n",
       "      <td>11.0</td>\n",
       "      <td>18.6</td>\n",
       "      <td>1</td>\n",
       "      <td>True</td>\n",
       "      <td>False</td>\n",
       "      <td>False</td>\n",
       "      <td>11.0</td>\n",
       "      <td>2</td>\n",
       "      <td>посёлок шушары</td>\n",
       "      <td>12817.0</td>\n",
       "      <td>18603.0</td>\n",
       "      <td>0.0</td>\n",
       "      <td>NaN</td>\n",
       "      <td>0.0</td>\n",
       "      <td>NaN</td>\n",
       "      <td>81.0</td>\n",
       "      <td>82920.8</td>\n",
       "      <td>1</td>\n",
       "      <td>12</td>\n",
       "      <td>2018</td>\n",
       "      <td>первый</td>\n",
       "      <td>19.0</td>\n",
       "    </tr>\n",
       "    <tr>\n",
       "      <th>2</th>\n",
       "      <td>10</td>\n",
       "      <td>5196000.0</td>\n",
       "      <td>56.0</td>\n",
       "      <td>2015-08-20</td>\n",
       "      <td>2</td>\n",
       "      <td>2.55</td>\n",
       "      <td>5.0</td>\n",
       "      <td>34.3</td>\n",
       "      <td>4</td>\n",
       "      <td>True</td>\n",
       "      <td>False</td>\n",
       "      <td>False</td>\n",
       "      <td>8.3</td>\n",
       "      <td>0</td>\n",
       "      <td>санкт-петербург</td>\n",
       "      <td>21741.0</td>\n",
       "      <td>13933.0</td>\n",
       "      <td>1.0</td>\n",
       "      <td>90.0</td>\n",
       "      <td>2.0</td>\n",
       "      <td>574.0</td>\n",
       "      <td>558.0</td>\n",
       "      <td>92785.7</td>\n",
       "      <td>3</td>\n",
       "      <td>8</td>\n",
       "      <td>2015</td>\n",
       "      <td>другой</td>\n",
       "      <td>14.0</td>\n",
       "    </tr>\n",
       "    <tr>\n",
       "      <th>5</th>\n",
       "      <td>10</td>\n",
       "      <td>2890000.0</td>\n",
       "      <td>30.4</td>\n",
       "      <td>2018-09-10</td>\n",
       "      <td>1</td>\n",
       "      <td>2.65</td>\n",
       "      <td>12.0</td>\n",
       "      <td>14.4</td>\n",
       "      <td>5</td>\n",
       "      <td>True</td>\n",
       "      <td>False</td>\n",
       "      <td>False</td>\n",
       "      <td>9.1</td>\n",
       "      <td>0</td>\n",
       "      <td>посёлок янино-1</td>\n",
       "      <td>NaN</td>\n",
       "      <td>NaN</td>\n",
       "      <td>NaN</td>\n",
       "      <td>NaN</td>\n",
       "      <td>NaN</td>\n",
       "      <td>NaN</td>\n",
       "      <td>55.0</td>\n",
       "      <td>95065.8</td>\n",
       "      <td>0</td>\n",
       "      <td>9</td>\n",
       "      <td>2018</td>\n",
       "      <td>другой</td>\n",
       "      <td>NaN</td>\n",
       "    </tr>\n",
       "    <tr>\n",
       "      <th>6</th>\n",
       "      <td>6</td>\n",
       "      <td>3700000.0</td>\n",
       "      <td>37.3</td>\n",
       "      <td>2017-11-02</td>\n",
       "      <td>1</td>\n",
       "      <td>2.66</td>\n",
       "      <td>26.0</td>\n",
       "      <td>10.6</td>\n",
       "      <td>6</td>\n",
       "      <td>True</td>\n",
       "      <td>False</td>\n",
       "      <td>False</td>\n",
       "      <td>14.4</td>\n",
       "      <td>1</td>\n",
       "      <td>посёлок парголово</td>\n",
       "      <td>52996.0</td>\n",
       "      <td>19143.0</td>\n",
       "      <td>0.0</td>\n",
       "      <td>NaN</td>\n",
       "      <td>0.0</td>\n",
       "      <td>NaN</td>\n",
       "      <td>155.0</td>\n",
       "      <td>99195.7</td>\n",
       "      <td>3</td>\n",
       "      <td>11</td>\n",
       "      <td>2017</td>\n",
       "      <td>другой</td>\n",
       "      <td>19.0</td>\n",
       "    </tr>\n",
       "  </tbody>\n",
       "</table>\n",
       "</div>"
      ],
      "text/plain": [
       "   total_images  last_price  total_area first_day_exposition  rooms  \\\n",
       "0            20  13000000.0       108.0           2019-03-07      3   \n",
       "1             7   3350000.0        40.4           2018-12-04      1   \n",
       "2            10   5196000.0        56.0           2015-08-20      2   \n",
       "5            10   2890000.0        30.4           2018-09-10      1   \n",
       "6             6   3700000.0        37.3           2017-11-02      1   \n",
       "\n",
       "   ceiling_height  floors_total  living_area  floor  is_apartment  studio  \\\n",
       "0            2.70          16.0         51.0      8          True   False   \n",
       "1            2.75          11.0         18.6      1          True   False   \n",
       "2            2.55           5.0         34.3      4          True   False   \n",
       "5            2.65          12.0         14.4      5          True   False   \n",
       "6            2.66          26.0         10.6      6          True   False   \n",
       "\n",
       "   open_plan  kitchen_area  balcony      locality_name  airports_nearest  \\\n",
       "0      False          25.0        0    санкт-петербург           18863.0   \n",
       "1      False          11.0        2     посёлок шушары           12817.0   \n",
       "2      False           8.3        0    санкт-петербург           21741.0   \n",
       "5      False           9.1        0    посёлок янино-1               NaN   \n",
       "6      False          14.4        1  посёлок парголово           52996.0   \n",
       "\n",
       "   cityCenters_nearest  parks_around3000  parks_nearest  ponds_around3000  \\\n",
       "0              16028.0               1.0          482.0               2.0   \n",
       "1              18603.0               0.0            NaN               0.0   \n",
       "2              13933.0               1.0           90.0               2.0   \n",
       "5                  NaN               NaN            NaN               NaN   \n",
       "6              19143.0               0.0            NaN               0.0   \n",
       "\n",
       "   ponds_nearest  days_exposition  price_one_meter  weekday_exposition  \\\n",
       "0          755.0              NaN         120370.4                   3   \n",
       "1            NaN             81.0          82920.8                   1   \n",
       "2          574.0            558.0          92785.7                   3   \n",
       "5            NaN             55.0          95065.8                   0   \n",
       "6            NaN            155.0          99195.7                   3   \n",
       "\n",
       "   month_exposition  year_exposition floor_type  city_center_km  \n",
       "0                 3             2019     другой            16.0  \n",
       "1                12             2018     первый            19.0  \n",
       "2                 8             2015     другой            14.0  \n",
       "5                 9             2018     другой             NaN  \n",
       "6                11             2017     другой            19.0  "
      ]
     },
     "execution_count": 18,
     "metadata": {},
     "output_type": "execute_result"
    }
   ],
   "source": [
    "#посчитаем и добавим в таблицу тип этажа квартиры (значения — «первый», «последний», «другой»):\n",
    "# напишем функцию для опреления типа этажа:\n",
    "def floor_category(row):\n",
    "    floor = row['floor']\n",
    "    floors_total = row['floors_total']\n",
    "    if floor == 1:\n",
    "        return 'первый' \n",
    "    if  floor == floors_total:\n",
    "        return 'последний'\n",
    "    return 'другой'\n",
    "    \n",
    "data['floor_type'] = data.apply(floor_category, axis=1)    \n",
    "\n",
    "#посчитаем и добавим  в таблицу расстояние в км до центра города (переведем из м в км и округлим до целых):\n",
    "data['city_center_km'] = round(data['cityCenters_nearest'] / 1000)\n",
    "\n",
    "data.head(5)"
   ]
  },
  {
   "cell_type": "markdown",
   "metadata": {},
   "source": [
    "<div class=\"alert alert-success\">\n",
    "<b>✔️ Комментарий ревьюера v1:</b> \n",
    "<br>Все необходимые колонки добавлены. Идём дальше)\n",
    "</div>"
   ]
  },
  {
   "cell_type": "markdown",
   "metadata": {},
   "source": [
    "### Проведите исследовательский анализ данных"
   ]
  },
  {
   "cell_type": "code",
   "execution_count": 19,
   "metadata": {
    "scrolled": true
   },
   "outputs": [
    {
     "data": {
      "text/plain": [
       "Text(0, 0.5, 'количество объявлений')"
      ]
     },
     "execution_count": 19,
     "metadata": {},
     "output_type": "execute_result"
    },
    {
     "data": {
      "image/png": "[encoded data removed]",
      "text/plain": [
       "<Figure size 864x432 with 1 Axes>"
      ]
     },
     "metadata": {
      "needs_background": "light"
     },
     "output_type": "display_data"
    }
   ],
   "source": [
    "# построим гистограмму по жилой площади:\n",
    "data.plot(kind='hist',y='total_area', bins=30, range=(1,300), figsize=(12,6),  title='Общая площадь квартир', grid=True)\n",
    "plt.xlabel('общая площадь квартиры, кв.м.')\n",
    "plt.ylabel('количество объявлений')\n"
   ]
  },
  {
   "cell_type": "markdown",
   "metadata": {},
   "source": [
    "Полученная гистограмма отображает общую площадь квартир, размещенных на продажу. Посмотрев на гистограмму, можно сказать, что большинство продаваемых квартир имеет площадь в диапозоне 30-50 кв.м. Квартиры с общей площадью более 100 кв. м встречаются редко. \n",
    "\n"
   ]
  },
  {
   "cell_type": "code",
   "execution_count": 20,
   "metadata": {
    "scrolled": true
   },
   "outputs": [
    {
     "data": {
      "text/plain": [
       "Text(0, 0.5, 'количество объявлений')"
      ]
     },
     "execution_count": 20,
     "metadata": {},
     "output_type": "execute_result"
    },
    {
     "data": {
      "image/png": "[encoded data removed]",
      "text/plain": [
       "<Figure size 864x360 with 1 Axes>"
      ]
     },
     "metadata": {
      "needs_background": "light"
     },
     "output_type": "display_data"
    }
   ],
   "source": [
    "# построим гистограмму по общей площади:\n",
    "data.plot(kind='hist',y='living_area', bins=20, range=(1,200), figsize=(12,5), title='Жилая площадь квартир', grid=True)\n",
    "plt.xlabel('жилая площадь квартиры, кв.м.')\n",
    "plt.ylabel('количество объявлений')\n"
   ]
  },
  {
   "cell_type": "markdown",
   "metadata": {},
   "source": [
    "Из гистограммы видно, что большинство квартир продается с жилой площадью от 12,5 до 23 кв.метров. Квартиры с жилой площадью больше 75 кв.м. встречаются редко. "
   ]
  },
  {
   "cell_type": "code",
   "execution_count": 21,
   "metadata": {},
   "outputs": [
    {
     "data": {
      "text/plain": [
       "Text(0, 0.5, 'количество объявлений')"
      ]
     },
     "execution_count": 21,
     "metadata": {},
     "output_type": "execute_result"
    },
    {
     "data": {
      "image/png": "[encoded data removed]",
      "text/plain": [
       "<Figure size 864x432 with 1 Axes>"
      ]
     },
     "metadata": {
      "needs_background": "light"
     },
     "output_type": "display_data"
    }
   ],
   "source": [
    "# построим гистограмму по площади кухни:\n",
    "data.plot(kind='hist',y='kitchen_area', bins=10, range=(5,25), figsize=(12,6), title='Площадь кухни', grid=True)\n",
    "plt.xlabel('площадь кухни, кв.м.')\n",
    "plt.ylabel('количество объявлений')\n"
   ]
  },
  {
   "cell_type": "markdown",
   "metadata": {},
   "source": [
    "Из гистограммы видно, что большинство квартир продается с площадью кухни  от 7 до 9,5 кв.метров. Квартиры с площадью кухни более 15 кв. м. встречаются редко."
   ]
  },
  {
   "cell_type": "code",
   "execution_count": 22,
   "metadata": {},
   "outputs": [
    {
     "data": {
      "text/plain": [
       "Text(0, 0.5, 'количество объявлений')"
      ]
     },
     "execution_count": 22,
     "metadata": {},
     "output_type": "execute_result"
    },
    {
     "data": {
      "image/png": "[encoded data removed]",
      "text/plain": [
       "<Figure size 864x504 with 1 Axes>"
      ]
     },
     "metadata": {
      "needs_background": "light"
     },
     "output_type": "display_data"
    }
   ],
   "source": [
    "# построим гистограмму по цене объекта недвижимости, но перед этим переведем рубли в млн. рубли:\n",
    "data['last_price_million'] = (data['last_price']) / 1000000\n",
    "data.plot(kind='hist',y='last_price_million', bins=15, range=(0,50),figsize=(12,7), title='Стоимость квартир', grid=True)\n",
    "plt.xlabel('цена квартиры, млн. рублей')\n",
    "plt.ylabel('количество объявлений')\n",
    "\n"
   ]
  },
  {
   "cell_type": "markdown",
   "metadata": {},
   "source": [
    "<div class=\"alert alert-success\">\n",
    "<b>✔️ Комментарий ревьюера v1:</b> \n",
    "<br>Разделить все значения на 1 млн - хорошее решение\n",
    "</div>"
   ]
  },
  {
   "cell_type": "markdown",
   "metadata": {},
   "source": [
    "Из гистограммы видно, что большинство квартир продается стоимостью от 3,5-4,5 млн. рублей. Квартиры со стоимостью более 10 млн.рублей встречаются редко. Но также встречаются выбросы: это цена квартир более 40 млн. рублей. "
   ]
  },
  {
   "cell_type": "code",
   "execution_count": 23,
   "metadata": {},
   "outputs": [
    {
     "data": {
      "text/plain": [
       "Text(0, 0.5, 'количество объявлений')"
      ]
     },
     "execution_count": 23,
     "metadata": {},
     "output_type": "execute_result"
    },
    {
     "data": {
      "image/png": "[encoded data removed]",
      "text/plain": [
       "<Figure size 864x504 with 1 Axes>"
      ]
     },
     "metadata": {
      "needs_background": "light"
     },
     "output_type": "display_data"
    }
   ],
   "source": [
    "# построим гистограмму по количеству комнат в продаваемых квартирах:\n",
    "data.plot(kind='hist',y='rooms', bins=8, range=(0,8),figsize=(12,7), title='Количество комнат в квартирах', grid=True)\n",
    "plt.xlabel('количество комнат')\n",
    "plt.ylabel('количество объявлений')\n"
   ]
  },
  {
   "cell_type": "markdown",
   "metadata": {},
   "source": [
    "Согласно гистограмме, большинство продаваемых квартир - это 1-2 комнатные. Четырех и более комнатные встречаются редко."
   ]
  },
  {
   "cell_type": "code",
   "execution_count": 24,
   "metadata": {
    "scrolled": true
   },
   "outputs": [
    {
     "data": {
      "text/plain": [
       "Text(0, 0.5, 'количество объявлений')"
      ]
     },
     "execution_count": 24,
     "metadata": {},
     "output_type": "execute_result"
    },
    {
     "data": {
      "image/png": "[encoded data removed]",
      "text/plain": [
       "<Figure size 864x360 with 1 Axes>"
      ]
     },
     "metadata": {
      "needs_background": "light"
     },
     "output_type": "display_data"
    }
   ],
   "source": [
    "# Построим гистограмму по высоте потолков:\n",
    "data.plot(kind='hist',y='ceiling_height', bins=10, range=(1,5),figsize=(12,5), title='Высота потолков', grid=True)\n",
    "plt.xlabel('высота потолка, м. ')\n",
    "plt.ylabel('количество объявлений')\n"
   ]
  },
  {
   "cell_type": "markdown",
   "metadata": {},
   "source": [
    "Согласно гистограмме, большинство продаваемых квартир имеют высоту потолков от 2.7 до 3 м. Квартиры с высотой потолков выше 3,5 м встечаются редко."
   ]
  },
  {
   "cell_type": "code",
   "execution_count": 25,
   "metadata": {},
   "outputs": [
    {
     "data": {
      "text/plain": [
       "Text(0, 0.5, 'количество объявлений')"
      ]
     },
     "execution_count": 25,
     "metadata": {},
     "output_type": "execute_result"
    },
    {
     "data": {
      "image/png": "[encoded data removed]",
      "text/plain": [
       "<Figure size 864x504 with 1 Axes>"
      ]
     },
     "metadata": {
      "needs_background": "light"
     },
     "output_type": "display_data"
    }
   ],
   "source": [
    "# построим гистограмму по номеру этажа, на котором расположена квартира:\n",
    "data.plot(kind='hist',y='floor', bins=10, range=(1,35),figsize=(12,7), title='Номер этажа', grid=True)\n",
    "plt.xlabel('номер этажа, на котором расположена квартира')\n",
    "plt.ylabel('количество объявлений')\n"
   ]
  },
  {
   "cell_type": "markdown",
   "metadata": {},
   "source": [
    "Согласно гистограмме, большинство продаваемых квартир, расположены на 1-4 этажах. Квартиры на 10 этаже и выше встечаются редко."
   ]
  },
  {
   "cell_type": "code",
   "execution_count": 26,
   "metadata": {},
   "outputs": [
    {
     "data": {
      "text/plain": [
       "Text(0, 0.5, 'количество объявлений')"
      ]
     },
     "execution_count": 26,
     "metadata": {},
     "output_type": "execute_result"
    },
    {
     "data": {
      "image/png": "[encoded data removed]",
      "text/plain": [
       "<Figure size 864x504 with 1 Axes>"
      ]
     },
     "metadata": {
      "needs_background": "light"
     },
     "output_type": "display_data"
    }
   ],
   "source": [
    "# построим столбчатую диаграмму по типу этажа квартиры («первый», «последний», «другой»):\n",
    "data['floor_type'].value_counts().plot(kind = 'bar', ylabel = 'frequency', title='Тип этажа', figsize=(12,7), grid=True)\n",
    "plt.ylabel('количество объявлений')"
   ]
  },
  {
   "cell_type": "markdown",
   "metadata": {},
   "source": [
    "Для такого типа данных гистограмма не подходит, поэтому построили столбчатую диаграмму. \n",
    "Из диаграммы видно, что чаще всего продаваемые квартиры находятся ни на первом, ни на последнем этаже. Количество таких квартир около 16 тыс. При этом квартир, расположенных на последнем этаже, продается несколько большее количество, чем на первом. Однако количество квартир, находящихся на этих двух этажах не привышает 3 тыс. "
   ]
  },
  {
   "cell_type": "code",
   "execution_count": 27,
   "metadata": {},
   "outputs": [
    {
     "data": {
      "text/plain": [
       "Text(0, 0.5, 'количество объявлений')"
      ]
     },
     "execution_count": 27,
     "metadata": {},
     "output_type": "execute_result"
    },
    {
     "data": {
      "image/png": "[encoded data removed]",
      "text/plain": [
       "<Figure size 864x504 with 1 Axes>"
      ]
     },
     "metadata": {
      "needs_background": "light"
     },
     "output_type": "display_data"
    }
   ],
   "source": [
    "# построим гистограмму общего количества этажей в доме, в котором продаются:\n",
    "data.plot(kind='hist',y='floors_total', bins=10, range=(1,35),figsize=(12,7), title='Количество этажей в доме', grid=True)\n",
    "plt.xlabel('количество этажей в доме')\n",
    "plt.ylabel('количество объявлений')\n"
   ]
  },
  {
   "cell_type": "markdown",
   "metadata": {},
   "source": [
    " Согласно гистограмме, большинство продаваемых квартир расположены 5-9 этажных домах. На гистограмме также видны выбросы - редко встречающая этажность домов - от 32 до 35 этажей."
   ]
  },
  {
   "cell_type": "code",
   "execution_count": 28,
   "metadata": {
    "scrolled": true
   },
   "outputs": [
    {
     "data": {
      "text/plain": [
       "Text(0, 0.5, 'количество объявлений')"
      ]
     },
     "execution_count": 28,
     "metadata": {},
     "output_type": "execute_result"
    },
    {
     "data": {
      "image/png": "[encoded data removed]",
      "text/plain": [
       "<Figure size 864x360 with 1 Axes>"
      ]
     },
     "metadata": {
      "needs_background": "light"
     },
     "output_type": "display_data"
    }
   ],
   "source": [
    "# построим гистограмму расстояния квартиры до центра города в метрах:\n",
    "data.plot(kind='hist',y='cityCenters_nearest', bins=10, range=(0,65000),figsize=(12,5), title='Расстояние до центра города, в м.', grid=True)\n",
    "plt.xlabel('количество км до центра')\n",
    "plt.ylabel('количество объявлений')"
   ]
  },
  {
   "cell_type": "markdown",
   "metadata": {},
   "source": [
    "Согласно гистограмме, большинство продаваемых квартир расположены на расстоянии от 15 тыс. м до 20 тыс. м (15-20 км) от центра города. Квартиры, расположенные более чем 20 000 м (20 км) от центра города встречаются редко. Также встречаются единичные квартиры удаленные от центра более чем на 60 000 м от центра города.\n",
    "\n"
   ]
  },
  {
   "cell_type": "code",
   "execution_count": 29,
   "metadata": {},
   "outputs": [
    {
     "data": {
      "text/plain": [
       "Text(0, 0.5, 'количество объявлений')"
      ]
     },
     "execution_count": 29,
     "metadata": {},
     "output_type": "execute_result"
    },
    {
     "data": {
      "image/png": "[encoded data removed]",
      "text/plain": [
       "<Figure size 864x504 with 1 Axes>"
      ]
     },
     "metadata": {
      "needs_background": "light"
     },
     "output_type": "display_data"
    }
   ],
   "source": [
    "# построим гистограмму расстояния до ближайшего аэропорта:\n",
    "data.plot(kind='hist',y='airports_nearest', bins=15, range=(0,90000),figsize=(12,7), title='Расстояние квартир до аэропорта, м', grid=True)\n",
    "plt.xlabel('количество км до аэропорта')\n",
    "plt.ylabel('количество объявлений')"
   ]
  },
  {
   "cell_type": "markdown",
   "metadata": {},
   "source": [
    "Согласно гистограмме, большинство продаваемых квартир расположены на расстоянии от 18 тыс. м до 22 тыс. м (18-22 км) от аэропорта. Квартиры, расположенные более чем 60 000 м (60 км) от аэропорта встречаются редко. Также встречаются единичные квартиры удаленные от аэропорта более чем на 80 000 м  (80 км) от аэропорта."
   ]
  },
  {
   "cell_type": "code",
   "execution_count": 30,
   "metadata": {},
   "outputs": [
    {
     "data": {
      "text/plain": [
       "Text(0, 0.5, 'количество объявлений')"
      ]
     },
     "execution_count": 30,
     "metadata": {},
     "output_type": "execute_result"
    },
    {
     "data": {
      "image/png": "[encoded data removed]",
      "text/plain": [
       "<Figure size 864x504 with 1 Axes>"
      ]
     },
     "metadata": {
      "needs_background": "light"
     },
     "output_type": "display_data"
    }
   ],
   "source": [
    "# построим гистрограммы расстояния до ближайшего парка:\n",
    "data.plot(kind='hist',y='parks_nearest', bins=10, range=(0,3500),figsize=(12,7), title='Расстояние квартир до ближайшего парка, м', grid=True)\n",
    "plt.xlabel('количество км до ближайшего парка')\n",
    "plt.ylabel('количество объявлений')"
   ]
  },
  {
   "cell_type": "markdown",
   "metadata": {},
   "source": [
    "Согласно гистограмме, большинство продаваемых квартир расположены на расстоянии от 450 м до 600 м до ближайшего парка. Квартиры, расположенные более чем 1000 м 91 км) до ближайшего парка встречаются редко. Также встречаются единичные квартиры удаленные  от парков более чем на 1000 м (1 км)."
   ]
  },
  {
   "cell_type": "code",
   "execution_count": 31,
   "metadata": {},
   "outputs": [
    {
     "data": {
      "text/plain": [
       "Text(0, 0.5, 'количество объявлений')"
      ]
     },
     "execution_count": 31,
     "metadata": {},
     "output_type": "execute_result"
    },
    {
     "data": {
      "image/png": "[encoded data removed]",
      "text/plain": [
       "<Figure size 864x504 with 1 Axes>"
      ]
     },
     "metadata": {
      "needs_background": "light"
     },
     "output_type": "display_data"
    },
    {
     "data": {
      "image/png": "[encoded data removed]",
      "text/plain": [
       "<Figure size 864x504 with 1 Axes>"
      ]
     },
     "metadata": {
      "needs_background": "light"
     },
     "output_type": "display_data"
    }
   ],
   "source": [
    "#построим гистограммы  по дню и месяцу публикации объявлений:\n",
    "data.plot(kind='hist',y='weekday_exposition', bins=6, range=(0,7),figsize=(12,7), title='День публикаций объявлений', grid=True)\n",
    "plt.xlabel('день недели')\n",
    "plt.ylabel('количество объявлений')\n",
    "\n",
    "data.plot(kind='hist',y='month_exposition', bins=11, range=(0,12),figsize=(12,7), title='Месяц публикаций объявлений', grid=True)\n",
    "plt.xlabel('месяц')\n",
    "plt.ylabel('количество объявлений')"
   ]
  },
  {
   "cell_type": "markdown",
   "metadata": {},
   "source": [
    "Согласно гистограмме, большинство объявлений о продажах квартир публикавались по понедельникам и вторникам, в выходные было минимальное количество публикаций.\n",
    "В зависимости от месяца, большинство объявлений размещались в ноябре-декабре, меньшинство в апреле-мае. "
   ]
  },
  {
   "cell_type": "markdown",
   "metadata": {},
   "source": [
    "<div class=\"alert alert-success\">\n",
    "<b>✔️ Комментарий ревьюера v1:</b> \n",
    "<br>Ты корректно подбираешь основные диапазоны, а также верно читаешь графики! Отдельный плюс за то, что ты подписываешь графики \n",
    "</div>\n",
    "\n",
    "<div class=\"alert alert-warning\">\n",
    "<b>⚠️ Комментарий ревьюера v1:</b> \n",
    "<br>По ссылке ниже можно почитать подробнее как подписать оси у графика\n",
    "    \n",
    "    https://pyprog.pro/mpl/mpl_axis_signatures.html \n",
    "</div>"
   ]
  },
  {
   "cell_type": "markdown",
   "metadata": {},
   "source": [
    "<div class=\"alert alert-info\">\n",
    "<b>Комментарий студента:</b>\n",
    "<br>Сделано\n",
    "</div>"
   ]
  },
  {
   "cell_type": "markdown",
   "metadata": {},
   "source": [
    "<div class=\"alert alert-success\">\n",
    "<b>✔️ Комментарий ревьюера v2:</b> \n",
    "<br>Красота!\n",
    "</div>"
   ]
  },
  {
   "cell_type": "code",
   "execution_count": 32,
   "metadata": {},
   "outputs": [
    {
     "data": {
      "text/plain": [
       "<AxesSubplot:title={'center':'Длительность продажи квартиры'}, ylabel='Frequency'>"
      ]
     },
     "metadata": {},
     "output_type": "display_data"
    },
    {
     "data": {
      "text/plain": [
       "count    18978.000000\n",
       "mean       150.341237\n",
       "std        155.595071\n",
       "min          1.000000\n",
       "25%         43.000000\n",
       "50%         90.000000\n",
       "75%        206.000000\n",
       "max        729.000000\n",
       "Name: days_exposition, dtype: float64"
      ]
     },
     "metadata": {},
     "output_type": "display_data"
    },
    {
     "data": {
      "image/png": "[encoded data removed]",
      "text/plain": [
       "<Figure size 864x504 with 1 Axes>"
      ]
     },
     "metadata": {
      "needs_background": "light"
     },
     "output_type": "display_data"
    }
   ],
   "source": [
    "#Изучим, как быстро продавались квартиры (столбец days_exposition). Этот параметр показывает, сколько дней «висело» каждое объявление.\n",
    "# Построим гистограмму:\n",
    "display(data.plot(kind='hist',y='days_exposition', bins=15, range=(1,730),figsize=(12,7), title='Длительность продажи квартиры', grid=True))\n",
    "plt.xlabel('количество дней')\n",
    "plt.ylabel('количество объявлений')\n",
    "# получим среднее и медиану, вызовя метод decribe:\n",
    "display(data['days_exposition'].describe())\n",
    "\n",
    "\n",
    "\n",
    "    "
   ]
  },
  {
   "cell_type": "code",
   "execution_count": 33,
   "metadata": {},
   "outputs": [
    {
     "data": {
      "text/plain": [
       "<AxesSubplot:>"
      ]
     },
     "metadata": {},
     "output_type": "display_data"
    },
    {
     "data": {
      "text/plain": [
       "(-100.0, 600.0)"
      ]
     },
     "execution_count": 33,
     "metadata": {},
     "output_type": "execute_result"
    },
    {
     "data": {
      "image/png": "[encoded data removed]",
      "text/plain": [
       "<Figure size 432x288 with 1 Axes>"
      ]
     },
     "metadata": {
      "needs_background": "light"
     },
     "output_type": "display_data"
    }
   ],
   "source": [
    "# кроме медианы и среднего для определения самых быстрых и медленных продаж нужно знать характерный разброс\n",
    "# т.е. какие значения оказались вдали от среднего и насколько их много, для этого построим диаграмму размаха:\n",
    "\n",
    "display(data.boxplot('days_exposition'))\n",
    "plt.ylim(-100,600)"
   ]
  },
  {
   "cell_type": "markdown",
   "metadata": {},
   "source": [
    "Данные в столбце days_exposition неоднородны, так как выборка характеризуется большим средним отклонением (значения в списке отличаются от среднего на 155.6. В  данной связи по среднему значению определение обычного срока продажи некорректно.\n",
    "Поэтому для определения обычного срока продажи воспользуемся медианой.\n",
    "Медианная длительность продажи квартиры составляет 90 дней (3 месяца).\n",
    "Быстрыми продажами считаются значения, меньшие 1 квартиля (25%): продажи меньше 43 дней считаются быстрыми.\n",
    "Необычно долгими продажами считаются такие, срок продажи которых превышает 4 квартиль - 206 дней.\n",
    "\n",
    "\n"
   ]
  },
  {
   "cell_type": "markdown",
   "metadata": {},
   "source": [
    "<div class=\"alert alert-success\">\n",
    "<b>✔️ Комментарий ревьюера v1:</b> \n",
    "<br>Согласен! Если интересно, то можно посмотреть на диапазон от 0 до 100 дней. Там есть пики, которым можно найти очень логичное объяснение</div>\n",
    "</div>"
   ]
  },
  {
   "cell_type": "code",
   "execution_count": 34,
   "metadata": {},
   "outputs": [
    {
     "data": {
      "text/plain": [
       "<AxesSubplot:title={'center':'Зависимость цены от типа этажа'}, xlabel='floor_type'>"
      ]
     },
     "execution_count": 34,
     "metadata": {},
     "output_type": "execute_result"
    },
    {
     "data": {
      "image/png": "[encoded data removed]",
      "text/plain": [
       "<Figure size 432x288 with 1 Axes>"
      ]
     },
     "metadata": {
      "needs_background": "light"
     },
     "output_type": "display_data"
    },
    {
     "data": {
      "image/png": "[encoded data removed]",
      "text/plain": [
       "<Figure size 432x288 with 1 Axes>"
      ]
     },
     "metadata": {
      "needs_background": "light"
     },
     "output_type": "display_data"
    },
    {
     "data": {
      "image/png": "[encoded data removed]",
      "text/plain": [
       "<Figure size 432x288 with 1 Axes>"
      ]
     },
     "metadata": {
      "needs_background": "light"
     },
     "output_type": "display_data"
    },
    {
     "data": {
      "image/png": "[encoded data removed]",
      "text/plain": [
       "<Figure size 432x288 with 1 Axes>"
      ]
     },
     "metadata": {
      "needs_background": "light"
     },
     "output_type": "display_data"
    },
    {
     "data": {
      "image/png": "[encoded data removed]",
      "text/plain": [
       "<Figure size 432x288 with 1 Axes>"
      ]
     },
     "metadata": {
      "needs_background": "light"
     },
     "output_type": "display_data"
    }
   ],
   "source": [
    "#Найдем факторы, которые больше всего влияют на общую (полную) стоимость квартир.\n",
    "# На основе сводных таблиц построим графики,отражающие зависимость цены от различных параметров.\n",
    "# Определение зависимости цены от общей площади:\n",
    "(data\n",
    "    .pivot_table(index='last_price_million', values=['total_area']).reset_index()\n",
    "    .plot(x='total_area', y='last_price_million', kind='scatter', alpha=0.5, grid=True, title='Зависимость цены от общей площади')\n",
    ")\n",
    "# Определение зависимости цены от жилой площади:\n",
    "(data\n",
    "    .pivot_table(index='last_price_million', values=['living_area']).reset_index()\n",
    "    .plot(x='living_area', y='last_price_million', kind='scatter', alpha=0.5, grid=True, title='Зависимость цены от жилой площади')\n",
    ")\n",
    "# Определение зависимости цены от площади кухни:\n",
    "(data\n",
    "    .pivot_table(index='last_price_million', values=['kitchen_area']).reset_index()\n",
    "    .plot(x='kitchen_area', y='last_price_million', kind='scatter', alpha=0.5, grid=True, title='Зависимость цены от площади кухни')\n",
    ")\n",
    "# Определение зависимости цены от количества комнат:\n",
    "(data\n",
    "    .pivot_table(index='last_price_million', values=['rooms']).reset_index()\n",
    "    .plot(x='rooms', y='last_price_million', kind='scatter',alpha=0.5, grid=True, title='Зависимость цены от количества комнат')\n",
    ")\n",
    "# Зависимость цены от типа этажа нелинейная, поэтому найдем среднюю цену в зависимости от этажа и построим barplot:\n",
    "(data.pivot_table(index='floor_type', values=['last_price_million']).reset_index()\n",
    "    .plot(x='floor_type', y='last_price_million', kind='bar', grid=True, title='Зависимость цены от типа этажа')\n",
    ")\n"
   ]
  },
  {
   "cell_type": "code",
   "execution_count": 35,
   "metadata": {},
   "outputs": [
    {
     "data": {
      "text/html": [
       "<div>\n",
       "<style scoped>\n",
       "    .dataframe tbody tr th:only-of-type {\n",
       "        vertical-align: middle;\n",
       "    }\n",
       "\n",
       "    .dataframe tbody tr th {\n",
       "        vertical-align: top;\n",
       "    }\n",
       "\n",
       "    .dataframe thead th {\n",
       "        text-align: right;\n",
       "    }\n",
       "</style>\n",
       "<table border=\"1\" class=\"dataframe\">\n",
       "  <thead>\n",
       "    <tr style=\"text-align: right;\">\n",
       "      <th></th>\n",
       "      <th>last_price_million</th>\n",
       "      <th>total_area</th>\n",
       "      <th>living_area</th>\n",
       "      <th>kitchen_area</th>\n",
       "      <th>rooms</th>\n",
       "    </tr>\n",
       "  </thead>\n",
       "  <tbody>\n",
       "    <tr>\n",
       "      <th>last_price_million</th>\n",
       "      <td>1.00</td>\n",
       "      <td>0.71</td>\n",
       "      <td>0.64</td>\n",
       "      <td>0.37</td>\n",
       "      <td>0.43</td>\n",
       "    </tr>\n",
       "    <tr>\n",
       "      <th>total_area</th>\n",
       "      <td>0.71</td>\n",
       "      <td>1.00</td>\n",
       "      <td>0.94</td>\n",
       "      <td>0.44</td>\n",
       "      <td>0.80</td>\n",
       "    </tr>\n",
       "    <tr>\n",
       "      <th>living_area</th>\n",
       "      <td>0.64</td>\n",
       "      <td>0.94</td>\n",
       "      <td>1.00</td>\n",
       "      <td>0.31</td>\n",
       "      <td>0.86</td>\n",
       "    </tr>\n",
       "    <tr>\n",
       "      <th>kitchen_area</th>\n",
       "      <td>0.37</td>\n",
       "      <td>0.44</td>\n",
       "      <td>0.31</td>\n",
       "      <td>1.00</td>\n",
       "      <td>0.18</td>\n",
       "    </tr>\n",
       "    <tr>\n",
       "      <th>rooms</th>\n",
       "      <td>0.43</td>\n",
       "      <td>0.80</td>\n",
       "      <td>0.86</td>\n",
       "      <td>0.18</td>\n",
       "      <td>1.00</td>\n",
       "    </tr>\n",
       "  </tbody>\n",
       "</table>\n",
       "</div>"
      ],
      "text/plain": [
       "                    last_price_million  total_area  living_area  kitchen_area  \\\n",
       "last_price_million                1.00        0.71         0.64          0.37   \n",
       "total_area                        0.71        1.00         0.94          0.44   \n",
       "living_area                       0.64        0.94         1.00          0.31   \n",
       "kitchen_area                      0.37        0.44         0.31          1.00   \n",
       "rooms                             0.43        0.80         0.86          0.18   \n",
       "\n",
       "                    rooms  \n",
       "last_price_million   0.43  \n",
       "total_area           0.80  \n",
       "living_area          0.86  \n",
       "kitchen_area         0.18  \n",
       "rooms                1.00  "
      ]
     },
     "metadata": {},
     "output_type": "display_data"
    },
    {
     "data": {
      "image/png": "[encoded data removed]",
      "text/plain": [
       "<Figure size 432x288 with 1 Axes>"
      ]
     },
     "metadata": {
      "needs_background": "light"
     },
     "output_type": "display_data"
    },
    {
     "data": {
      "image/png": "[encoded data removed]",
      "text/plain": [
       "<Figure size 432x288 with 1 Axes>"
      ]
     },
     "metadata": {
      "needs_background": "light"
     },
     "output_type": "display_data"
    },
    {
     "data": {
      "image/png": "[encoded data removed]",
      "text/plain": [
       "<Figure size 432x288 with 1 Axes>"
      ]
     },
     "metadata": {
      "needs_background": "light"
     },
     "output_type": "display_data"
    }
   ],
   "source": [
    "# Зависимость цены от даты публикации также нелинейная, поэтому найдем среднюю цену продажи в зависимости от даты и  построим barplot:\n",
    "#от дня недели:\n",
    "\n",
    "(data.pivot_table(index='weekday_exposition', values=['last_price_million']).reset_index()\n",
    "    .plot(x='weekday_exposition', y='last_price_million', kind='bar', ylim=(0,7), grid=True, title='Зависимость цены от дня недели')\n",
    ")\n",
    "\n",
    "#от месяца публикации:\n",
    "\n",
    "(data.pivot_table(index='month_exposition', values=['last_price_million']).reset_index()\n",
    "    .plot(x='month_exposition', y='last_price_million', kind='bar',  ylim=(0,7), grid=True, title='Зависимость цены от месяца публикации')\n",
    ")\n",
    "\n",
    "#от года публикации:\n",
    "\n",
    "(data.pivot_table(index='year_exposition', values=['last_price_million']).reset_index()\n",
    "    .plot(x='year_exposition', y='last_price_million', kind='bar', grid=True, title='Зависимость цены от года публикации')\n",
    ")\n",
    "\n",
    "# построим корреляционную матрицу для параметров, для всех пар столбцов, где есть линейная зависимость:\n",
    "data_table_corr = data[['last_price_million','total_area','living_area','kitchen_area', 'rooms']]\n",
    "display(data_table_corr.corr().round(2))\n"
   ]
  },
  {
   "cell_type": "markdown",
   "metadata": {},
   "source": [
    "Для понимания как цена квартиры зависит от ее параметров построены диаграммы рассеивания. По результатам анализа построенных диаграмм, можно сделать вывод о наличии положительной зависимости цены от общей и жилой площади квартиры, количества комнат и площади кухни. Для числовой оценки тесноты этой взаимосвязи рассчитан коэффициент корреляции Пирсона. Анализ матрицы корреляции показал, что наиболее сильная линейная взаимосвязь стоимости квартир наблюдается от общей площади квартиры и жилой площади. Зависимость цены от количества комнат и площади кухни менее тесная.\n",
    "\n",
    "Для наглядного представления зависимости цены квартиры от типа этажа и даты публикации (день, месяц, год) построены столбчатые диаграммы. Результаты анализа построенных графиков показали, что стоимость квартир также зависит от этажа: стоимость квартир, расположенных на первом этаже меньше, чем на последнем. При этом цена квартир, находящихся на других этажах выше цены квартир на первом и последнем этажах. Объявления публикуемые по четвергам имеют более высокую стоимость продажи квартир, чем в другие дни недели.\n",
    "\n",
    "В зависимости от месяца размещения объявления цены квартир отличаются незначительно. Однако в объявлениях, размещенных в июне, августе и сентябре стоимость квартир несколько выше, чем в остальные месяцы.\n",
    "\n",
    "В зависимости от года размещения объявлений, стоимость продаваемых квартир после максимума в 2014 года в течение четырех последующих лет снижалась, достигнув в 2018 году среднего значения 5,5 млн рублей. В 2019 году стоимость продаваемых квартир вновь начала расти и равнялась чуть больше 6 млн. рублей.\n"
   ]
  },
  {
   "cell_type": "markdown",
   "metadata": {},
   "source": [
    "<div class=\"alert alert-success\">\n",
    "<b>✔️ Комментарий ревьюера v1:</b>\n",
    "<br>Зависимость цены изучена верно! Ещё тут можно использовать для визуализации pairplot из библиотеки seaborn \n",
    "    \n",
    "    https://seaborn.pydata.org/generated/seaborn.pairplot.html\n",
    "</div>"
   ]
  },
  {
   "cell_type": "code",
   "execution_count": 36,
   "metadata": {},
   "outputs": [
    {
     "data": {
      "text/html": [
       "<div>\n",
       "<style scoped>\n",
       "    .dataframe tbody tr th:only-of-type {\n",
       "        vertical-align: middle;\n",
       "    }\n",
       "\n",
       "    .dataframe tbody tr th {\n",
       "        vertical-align: top;\n",
       "    }\n",
       "\n",
       "    .dataframe thead th {\n",
       "        text-align: right;\n",
       "    }\n",
       "</style>\n",
       "<table border=\"1\" class=\"dataframe\">\n",
       "  <thead>\n",
       "    <tr style=\"text-align: right;\">\n",
       "      <th></th>\n",
       "      <th>locality_name</th>\n",
       "      <th>count</th>\n",
       "      <th>mean</th>\n",
       "    </tr>\n",
       "  </thead>\n",
       "  <tbody>\n",
       "    <tr>\n",
       "      <th>315</th>\n",
       "      <td>санкт-петербург</td>\n",
       "      <td>14437</td>\n",
       "      <td>112082.65</td>\n",
       "    </tr>\n",
       "    <tr>\n",
       "      <th>226</th>\n",
       "      <td>посёлок мурино</td>\n",
       "      <td>517</td>\n",
       "      <td>85436.97</td>\n",
       "    </tr>\n",
       "    <tr>\n",
       "      <th>304</th>\n",
       "      <td>посёлок шушары</td>\n",
       "      <td>418</td>\n",
       "      <td>78728.43</td>\n",
       "    </tr>\n",
       "    <tr>\n",
       "      <th>4</th>\n",
       "      <td>всеволожск</td>\n",
       "      <td>378</td>\n",
       "      <td>68868.42</td>\n",
       "    </tr>\n",
       "    <tr>\n",
       "      <th>309</th>\n",
       "      <td>пушкин</td>\n",
       "      <td>335</td>\n",
       "      <td>102687.95</td>\n",
       "    </tr>\n",
       "    <tr>\n",
       "      <th>121</th>\n",
       "      <td>колпино</td>\n",
       "      <td>329</td>\n",
       "      <td>75207.92</td>\n",
       "    </tr>\n",
       "    <tr>\n",
       "      <th>236</th>\n",
       "      <td>посёлок парголово</td>\n",
       "      <td>312</td>\n",
       "      <td>90598.30</td>\n",
       "    </tr>\n",
       "    <tr>\n",
       "      <th>7</th>\n",
       "      <td>гатчина</td>\n",
       "      <td>287</td>\n",
       "      <td>68887.82</td>\n",
       "    </tr>\n",
       "    <tr>\n",
       "      <th>46</th>\n",
       "      <td>деревня кудрово</td>\n",
       "      <td>274</td>\n",
       "      <td>92756.26</td>\n",
       "    </tr>\n",
       "    <tr>\n",
       "      <th>5</th>\n",
       "      <td>выборг</td>\n",
       "      <td>222</td>\n",
       "      <td>57996.85</td>\n",
       "    </tr>\n",
       "  </tbody>\n",
       "</table>\n",
       "</div>"
      ],
      "text/plain": [
       "         locality_name  count       mean\n",
       "315    санкт-петербург  14437  112082.65\n",
       "226     посёлок мурино    517   85436.97\n",
       "304     посёлок шушары    418   78728.43\n",
       "4           всеволожск    378   68868.42\n",
       "309             пушкин    335  102687.95\n",
       "121            колпино    329   75207.92\n",
       "236  посёлок парголово    312   90598.30\n",
       "7              гатчина    287   68887.82\n",
       "46     деревня кудрово    274   92756.26\n",
       "5               выборг    222   57996.85"
      ]
     },
     "metadata": {},
     "output_type": "display_data"
    },
    {
     "data": {
      "text/plain": [
       "Text(0, 0.5, 'средняя цена')"
      ]
     },
     "execution_count": 36,
     "metadata": {},
     "output_type": "execute_result"
    },
    {
     "data": {
      "image/png": "[encoded data removed]",
      "text/plain": [
       "<Figure size 864x504 with 1 Axes>"
      ]
     },
     "metadata": {
      "needs_background": "light"
     },
     "output_type": "display_data"
    }
   ],
   "source": [
    "# Посчитаем среднюю цену одного квардатного метра в 10 населенных пунктах с наибольшим числом объвлений:\n",
    "#сформируем сводную таблицу, содержащую количество объявлений и среднюю цену, в зависимости от населенного пункта:\n",
    "rating = data.pivot_table(index= 'locality_name', values= 'price_one_meter', aggfunc=['count', 'mean']).reset_index()\n",
    "\n",
    "# уберем мильтииндекс в названии столбцов:\n",
    "rating.columns = ['locality_name', 'count','mean']\n",
    "# отсортируем 10 первых населенных пунктов в полученной таблице по убыванию:\n",
    "rating = rating.sort_values('count', ascending=False).head(10).round(2)\n",
    "display(rating)\n",
    "#отсортируем полученный список по средней цене и выведем диаграмму:\n",
    "rating_mean = rating.sort_values('mean', ascending=False)\n",
    "rating_mean.plot(x='locality_name', y='mean', kind='bar', grid=True, figsize=(12,7), title='Средняя цена 1 кв.м. в 10 населенных пунктах с наибольшим числом объявлений')\n",
    "plt.xlabel('название населенного пункта')\n",
    "plt.ylabel('средняя цена')"
   ]
  },
  {
   "cell_type": "markdown",
   "metadata": {},
   "source": [
    "Из полученных выше данных видно, что на первом месте в списке 10 населенных пунктов по числу объявлений является г. Санкт_Петербург.\n",
    "Средняя цена за 1 кв.м в 10 населененных пунктах с наибоьшим числом объявлений находится в диапозоне от 58 тыс. рублей до 112,1 тыс. рублей. Квартиры с самой высокой стоимостью 1 кв.м находятся в г. Санкт-Петербурге.\n",
    "Квартиры с самой низкой стоимостью 1 кв.м находятся в г. Выборг\n"
   ]
  },
  {
   "cell_type": "markdown",
   "metadata": {},
   "source": [
    "<div class=\"alert alert-success\">\n",
    "<b>✔️ Комментарий ревьюера v1:</b> \n",
    "<br>👏🏻👏🏻👏🏻 Отличная визуализация!\n",
    "</div>"
   ]
  },
  {
   "cell_type": "code",
   "execution_count": 37,
   "metadata": {},
   "outputs": [
    {
     "data": {
      "text/plain": [
       "Text(0, 0.5, 'расстояние до центра')"
      ]
     },
     "execution_count": 37,
     "metadata": {},
     "output_type": "execute_result"
    },
    {
     "data": {
      "image/png": "[encoded data removed]",
      "text/plain": [
       "<Figure size 864x504 with 1 Axes>"
      ]
     },
     "metadata": {
      "needs_background": "light"
     },
     "output_type": "display_data"
    }
   ],
   "source": [
    "#выделим квартиры только в Санкт-Петербурге, затем сгруппируем по км, найдем среднюю цену за км:\n",
    "#построим график зависимости средней цены от км до центра:\n",
    "(data\n",
    "      .query('locality_name == \"санкт-петербург\"')\n",
    "      .pivot_table(index='city_center_km', values='price_one_meter').reset_index().round(2)\n",
    "      .plot(x='city_center_km', y='price_one_meter', style='o-', grid='True', figsize=(12,7),title='Зависимость средней цены от расстояния до центра Санкт-Петербурга')\n",
    ")\n",
    "plt.xlabel('средняя цена')\n",
    "plt.ylabel('расстояние до центра')\n"
   ]
  },
  {
   "cell_type": "markdown",
   "metadata": {},
   "source": [
    "Согласно графику, средняя цена 1 кв. м  зависит от расстояния до центра города. Чем ближе расположение квартиры к центру города, тем выше средняя цена за кв.м. Судя по графику центр города заканчивается примерно на 6 км. В данном диапозоне средняя цена составляет от 145 тыс  до 200 тыс. рублей и выше. \n",
    "\n"
   ]
  },
  {
   "cell_type": "markdown",
   "metadata": {},
   "source": [
    "<div class=\"alert alert-warning\">\n",
    "<b>⚠️ Комментарий ревьюера v1:</b> \n",
    "<br>На каком километре заканчивается центр города на твой взгляд, судя по графику?\n",
    "</div>"
   ]
  },
  {
   "cell_type": "markdown",
   "metadata": {},
   "source": [
    "<div class=\"alert alert-info\">\n",
    "<b>Комментарий студента:</b>\n",
    "<br>Сделано\n",
    "</div>"
   ]
  },
  {
   "cell_type": "markdown",
   "metadata": {},
   "source": [
    "<div class=\"alert alert-success\">\n",
    "<b>✔️ Комментарий ревьюера v2:</b> \n",
    "<br>Абсолютно верно!\n",
    "</div>"
   ]
  },
  {
   "cell_type": "markdown",
   "metadata": {},
   "source": [
    "### Общий вывод"
   ]
  },
  {
   "cell_type": "markdown",
   "metadata": {},
   "source": [
    "В целях проведения исследовательского анализа архива объявлений за несколько лет о продаже квартир в Санкт-Петербурге и соседних населенных пунктах сервиса Яндекс Недвижимость в первую очередь изучены исходные данные и обнаружен ряд проблем:\n",
    "- пропуски в данных в 13 столбцах из 20;\n",
    "- неверный тип данных в столбцах, содержащих цифровые значения и даты;\n",
    "- дубликаты в столбце locality_name: тип населенного пункта \"поселок\" имеет различное написание.\n",
    "Кроме того, анализ полученных гистограмм, постоенных по исходным данным показал, что следующее:\n",
    "- анамальные значения общей  и жилой площади (более 200 кв.м.), площади кухни (более 30 кв.м.)\n",
    "- анамальные значения в столбце days_exposition, превышающие 500 дней со дня публикации.\n",
    "Пропуски, дубликаты, анамальные значения в столбцах влияют на корректность проводимого анализа и точность построения графиков. В данной связи перед тем как начать проводить исследовательский анализ данных следующим этапом произведена преобработка исходных данных. \n",
    "\n",
    "В процессе преобработки исходных данных найдены различные особенности и зависимости, существующие на рынке недвижимости:\n",
    "1. Найдены, изучены и заполнены (где возможно) пропущенные значения в столбцах:\n",
    "- в столбце высота потолка пропуски заполнены медианным значением в зависимости от этажности здания;\n",
    "- в столбце жилая площадь пропуски заполнены значением, равным произведению коэффициента отношения медианного значения жилой площади к медианному значению общей площади, умноженному на общую площадь;\n",
    "- в столбце апартаменты с пропущенными значениями проставлен логический признак False, так как это не квартиры;\n",
    "- в столбце площадь кухни пропуски заменены на значения, равные разности общей и жилой площади;\n",
    "- в столбце балконы пропуски замены на нулевые значения по причине их отсутствия;\n",
    "- в столбце названия расположения пропуски заменены на Unknown.\n",
    "  В остальных столбцах, таких как расстояние до ближайшего аэропорта, до центра города, до ближайшего парка и пруда , парка и пруда  вблизи 3 км и срока публикации заполнить пропуски не представилось возможным из-за отсутствия логической замены.\n",
    "\n",
    "2. Изменены типы данных в ряде столбцов, содержащих цифровые значения, с object на float так как они будут использоваться в дальнейших математических вычислениях. Тип данных в столбце дата публикации заменен с object на Date.\n",
    "\n",
    "3. После заполнения пропусков в столбцах, в которых можно было произвести замену, выявлены и удалены аномалии:\n",
    "- в столбце высота потолка присутствуют двухзначные значения высоты по причине отсутствия запятой после целой части числа, поэтому значения больше 10 разделены на 10. После чего произведена фильтрация данных по высоте потолков в диапазоне от 2 до 6 метров;\n",
    "- в столбце площадь кухни отфильтрованы данные в диапазоне от 5 до 30 кв.м;\n",
    "- в столбце цена квартиры удалены аномальные значения превышающие 400 млн рублей, а также артефакт равный 12190 рублей;\n",
    "- в столбце общей площади удалены строки со значениями, превышающими 400 кв.м.;\n",
    "- в столбце срок публикации, удалены объявления с момента публикации прошло более 730 дней (2 года);\n",
    "- в столбцах общее количество этажей и высота потолков удалены оставшиеся пропуски; \n",
    "- в столбце жилая площадь удалены объявления, в которых жилая площадь была меньше 10 кв. м или превышала 90% от общей площади;\n",
    "\n",
    "4. Произведена обработка неявных дубликатов в столбце название расположения. Так, все названия приведены к нижнему регистру и различные варианты написания типа населенного пункта поселок приведены к единообразному виду. \n",
    "\n",
    "После фильтрации, удаления аномалий и артефактов доля удаленных данных  по отношению к исходным составила 7.2%.\n",
    "\n",
    "5. Добавлены в исходную таблицу новые столбцы с ценой одного кв.м, днем, месяцем и годом публикации. А также столбцы с типом этажа (первый, последний, другой) и расстоянием до центра города в км.\n",
    "\n",
    "6. Проведен непосредственно исследовательский анализ данных в процессе которого построены и описаны гистограммы:\n",
    "- большинство продаваемых квартир имеет площадь в диапазоне 30-50 кв.м. Квартиры с общей площадью более 100 кв. м встречаются редко;\n",
    "- большинство квартир продается с жилой площадью от 12,5 до 23 кв.м. Квартиры с жилой площадью больше 75 кв.м. встречаются редко;\n",
    "- большинство квартир продается с площадью кухни  от 7 до 9,5 кв.м. Квартиры с площадью кухни более 15 кв. м. встречаются редко;\n",
    "- большинство квартир продается стоимостью от 3,5-4,5 млн. рублей. Квартиры со стоимостью более 10 млн. рублей встречаются редко. Но также встречаются выбросы: это цена квартир более 40 млн. рублей; \n",
    "- большинство продаваемых квартир — это 1-2 комнатные. Четырех и более комнатные встречаются редко;\n",
    "- большинство продаваемых квартир имеют высоту потолков от 2.7 до 3 м. Квартиры с высотой потолков выше 3,5 м встречаются редко.\n",
    "- большинство продаваемых квартир, расположены на 1–4  этажах. Квартиры на 10 этаже и выше встречаются редко;\n",
    "- чаще всего продаваемые квартиры находятся ни на первом, ни на последнем этаже. Количество таких квартир около 16 тыс. При этом квартир, расположенных на последнем этаже, продается несколько большее количество, чем на первом. Однако количество квартир, находящихся на этих двух этажах, не превышает 3 тыс.; \n",
    "- большинство продаваемых квартир расположены 5–9 этажных домах;\n",
    "- большинство продаваемых квартир расположены на расстоянии от 15 тыс. м до 20 тыс. м (15–20  км) от центра города. Квартиры, расположенные более чем 20 000 м (20 км) от центра города встречаются редко. Также встречаются единичные квартиры, удаленные от центра более чем на 60 000 м от центра города;\n",
    "- большинство продаваемых квартир расположены на расстоянии от 18 тыс. м до 22 тыс. м (18-22 км) от аэропорта. Квартиры, расположенные более чем 60 000 м (60 км) от аэропорта, встречаются редко. Также встречаются единичные квартиры удаленные от аэропорта более чем на 80 000 м  (80 км) от аэропорта.\n",
    "- большинство продаваемых квартир расположены на расстоянии от 450 м до 600 м до ближайшего парка. Квартиры, расположенные более чем 1000 м 91 км) до ближайшего парка встречаются редко. Также встречаются единичные квартиры удаленные от парков более чем на 1000 м (1 км);\n",
    "- большинство объявлений о продажах квартир публиковались по понедельникам и вторникам, в выходные было минимальное количество публикаций. В зависимости от месяца большинство объявлений размещались в ноябре-декабре, меньшинство в апреле-мае. \n",
    "\n",
    "7. При анализе количества дней сколько было размещено каждое объявление, установлено следующее:\n",
    "   Данные в столбце days_exposition неоднородны, так как выборка характеризуется большим средним отклонением (значения в списке отличаются от среднего на 155.6. В данной связи по среднему значению определение обычного срока продажи некорректно.\n",
    "   Поэтому для определения обычного срока была рассчитана медианная оценка. Так, медианная длительность продажи квартиры составляла 90 дней (3 месяца). Быстрыми продажами считаются значения, меньшие 1 квартиля (25%): продажи меньше 43 дней считаются быстрыми. Необычно долгими продажами считаются такие, срок продажи которых превышает 4 квартиль - 206 дней.\n",
    "\n",
    "8. При анализе факторов, влияющих на общую (полную) стоимость объекта построены диаграммы рассеивания и столбчатые диаграммы. По результатам анализа построенных диаграмм, можно сделать вывод о наличии положительной зависимости цены от общей и жилой площади квартиры, количества комнат и площади кухни. Для числовой оценки тесноты этой взаимосвязи рассчитан коэффициент корреляции Пирсона. Анализ матрицы корреляции показал, что наиболее сильная линейная взаимосвязь стоимости квартир наблюдается от общей площади квартиры и жилой площади. Зависимость цены от количества комнат и площади кухни менее тесная.  \n",
    "\n",
    "  Стоимость квартир также зависит от этажа: стоимость квартир, расположенных на первом этаже меньше, чем на последнем. При этом цена квартир, находящихся на других этажах выше цены квартир на первом и последнем этажах. Объявления, публикуемые по четвергам, имеют более высокую стоимость продажи квартир, чем в другие дни недели. В зависимости от месяца размещения объявления цены квартир отличаются незначительно. Однако в объявлениях, размещенных в июне, августе и сентябре стоимость квартир несколько выше, чем в остальные месяцы.\n",
    "\n",
    "  В зависимости от года размещения объявлений, стоимость продаваемых квартир после максимума в 2014 года в течение четырех последующих лет снижалась, достигнув в 2018 году среднего значения 5,5 млн рублей. В 2019 году стоимость продаваемых квартир вновь начала расти и равнялась чуть больше 6 млн. рублей.\n",
    "\n",
    "9. По результатам расчета средней цены 1 кв.м. в 10 населенных пунктах с наибольшим числом объявлений установлено, что на первом месте в этом списке является г. Санкт-Петербург. Средняя цена в этих населенных пунктах находится в диапазоне от 58 тыс. рублей до 112,1 тыс. рублей. Квартиры с самой высокой стоимостью 1 кв.м находятся в г. Санкт-Петербурге. Квартиры с самой низкой стоимостью 1 кв.м находятся в г. Выборг.\n",
    "\n",
    "10. По результатам анализа зависимости стоимости квартиры от ее расстояния до центра города установлено, что чем ближе расположение квартиры к центру города, тем выше средняя цена за кв.м. Самые дорогие квартиры находятся непосредственно в центре, цена таких квартир превышает 200 тыс. рублей. \n",
    "\n",
    "  Таким образом, по результатам проведенного исследования можно сделать вывод:\n",
    "- большинство продаваемых квартир были 1-2 комнатными с высокими потолками и общей площадью 30-50 кв.м (из них жилая площадь составляла от 12,5 до 23 кв.м, площадь кухни 7-9,5 кв.м.). Большинство квартир, выставленных на продажу, находились на 1-4 этажах и располагались в 5-9 этажных домах на расстоянии 15-20 км от центра города и в 18-22 км от аэропорта и в 450-600 м от ближайшего парка.\n",
    "- стоимость большинства объектов недвижимости составляла от 3,5-4,5 млн рублей. При этой цена квартиры сильнее всего зависит от ее общей и жилой площади. Кроме того, на стоимость квартиры оказывают влияние номер этажа и близость от центра города.\n",
    "\n",
    "Самая высокая стоимость за 1 кв.м. установлена в Санкт-Петербурге. \n",
    "Согласно графику, средняя цена 1 кв. м  зависит от расстояния до центра города. Чем ближе расположение квартиры к центру города, тем выше средняя цена за кв.м. Судя по графику центр города заканчивается примерно на 6 км. В данном диапозоне средняя цена составляет от 145 тыс  до 200 тыс. рублей и выше. \n",
    "\n",
    "\n",
    "\n",
    "\n",
    "- большинство объявлений о продаже публиковались по понедельникам и вторникам, при этом превалирующая их часть размещалась в ноябре-декабре. Медианная длительность продажи составляла 3 месяца, при том быстрые продажи составляли 43 дня, необычно долгие -206 дней. В зависимости от месяца размещения объявления, стоимость квартир, опубликованных на продажу в июне, августе и сентябре были несколько выше, чем в остальные месяцы. Также объявления, размещенные по четвергам, имели более высокую стоимость квартир, чем в другие дни недели. За 5 лет наблюдений цены были максимальны в 2014, после чего наблюдалось снижение до 2018 года, в 2019 году стоимость вновь начала расти.\n",
    "\n",
    "\n",
    "\n",
    "\n",
    "\n",
    "\n",
    "\n",
    "\n",
    "\n",
    "\n"
   ]
  },
  {
   "cell_type": "markdown",
   "metadata": {},
   "source": [
    "<div class=\"alert alert-danger\">\n",
    "<b>❌ Комментарий ревьюера v1:</b> \n",
    "<br>После всех внесённых правок, обязательно перепроверь общий вывод и промежуточные выводы и поправь их по необходимости\n",
    "</div>"
   ]
  },
  {
   "cell_type": "markdown",
   "metadata": {},
   "source": [
    "<div class=\"alert alert-info\">\n",
    "<b>Комментарий студента:</b>\n",
    "<br>проверила, поправила общий вывод\n",
    "</div>"
   ]
  },
  {
   "cell_type": "markdown",
   "metadata": {},
   "source": [
    "<div class=\"alert alert-danger\">\n",
    "<b>❌ Итоговый комментарий ревьюера v1:</b> \n",
    "<br>Ты хорошо потрудилась, большая часть работы сделана, но остаётся внести следующие правки:\t\n",
    "<br>- корректно выполнить задание 1.3\n",
    "<br>- написать короткий вывод после первичного просмотра данных\n",
    "<br>- поправить выводы там, где это необходимо\n",
    "</div>\n"
   ]
  },
  {
   "cell_type": "markdown",
   "metadata": {},
   "source": [
    "<div class=\"alert alert-info\">\n",
    "<b>Комментарий студента:</b>\n",
    "<br>Илья, спасибо за оперативную обратную связь! \n",
    "    Учла все твои комментарии и внесла поправки в код и текст.\n",
    "Очень приятно получить высокую оценку своих трудов, особенно если ты новичок и постоянно сомневаешься в правильности применяемой логики и корректности используемого функционала.\n",
    "</div>"
   ]
  },
  {
   "cell_type": "markdown",
   "metadata": {},
   "source": [
    "<div class=\"alert alert-success\">\n",
    "<b>✔️ Итоговый комментарий ревьюера v2:</b>\n",
    "<br>А тебе спасибо за отличный проект! У тебя подробные, понятные и логичные выводы, которые ты подкрепляешь фактами. Были использованы разные графики и способы, чтобы как можно более тщательно изучить данные и у тебя это получилось! \n",
    "<br>Я рад был поработать над проверкой твоей работы) В качестве дополнительного материала для изучения могу порекомендовать следующий ресурс:\n",
    "\n",
    "\thttps://www.python-graph-gallery.com/\n",
    "<br>В нем содержится большая библиотека графиков с готовым кодом, который можно использовать при работе.\n",
    "<br>Поздравляю со сдачей проекта и желаю удачи в дальнейшем обучении! 😉    \n",
    "</div>"
   ]
  },
  {
   "cell_type": "markdown",
   "metadata": {},
   "source": [
    "**Чек-лист готовности проекта**\n",
    "\n",
    "Поставьте 'x' в выполненных пунктах. Далее нажмите Shift+Enter."
   ]
  },
  {
   "cell_type": "markdown",
   "metadata": {},
   "source": [
    "- [x]  открыт файл\n",
    "- [x]  файлы изучены (выведены первые строки, метод `info()`, гистограммы и т.д.)\n",
    "- [x]  определены пропущенные значения\n",
    "- [x]  заполнены пропущенные значения там, где это возможно\n",
    "- [x]  есть пояснение, какие пропущенные значения обнаружены\n",
    "- [x]  изменены типы данных\n",
    "- [x]  есть пояснение, в каких столбцах изменены типы и почему\n",
    "- [x]  устранены неявные дубликаты в названиях населённых пунктов\n",
    "- [x]  устранены редкие и выбивающиеся значения (аномалии) во всех столбцах\n",
    "- [x]  посчитано и добавлено в таблицу: цена одного квадратного метра\n",
    "- [x]  посчитано и добавлено в таблицу: день публикации объявления (0 - понедельник, 1 - вторник и т.д.)\n",
    "- [x]  посчитано и добавлено в таблицу: месяц публикации объявления\n",
    "- [x]  посчитано и добавлено в таблицу: год публикации объявления\n",
    "- [x]  посчитано и добавлено в таблицу: тип этажа квартиры (значения — «первый», «последний», «другой»)\n",
    "- [x]  посчитано и добавлено в таблицу: расстояние в км до центра города\n",
    "- [x]  изучены и описаны следующие параметры:\n",
    "        - общая площадь;\n",
    "        - жилая площадь;\n",
    "        - площадь кухни;\n",
    "        - цена объекта;\n",
    "        - количество комнат;\n",
    "        - высота потолков;\n",
    "        - этаж квартиры;\n",
    "        - тип этажа квартиры («первый», «последний», «другой»);\n",
    "        - общее количество этажей в доме;\n",
    "        - расстояние до центра города в метрах;\n",
    "        - расстояние до ближайшего аэропорта;\n",
    "        - расстояние до ближайшего парка;\n",
    "        - день и месяц публикации объявления\n",
    "- [x]  построены гистограммы для каждого параметра\n",
    "- [x]  выполнено задание: \"Изучите, как быстро продавались квартиры (столбец days_exposition). Этот параметр показывает, сколько дней «висело» каждое объявление.\n",
    "    - Постройте гистограмму.\n",
    "    - Посчитайте среднее и медиану.\n",
    "    - В ячейке типа markdown опишите, сколько обычно занимает продажа. Какие продажи можно считать быстрыми, а какие — необычно долгими?\"\n",
    "- [x]  выполнено задание: \"Какие факторы больше всего влияют на общую (полную) стоимость объекта? Постройте графики, которые покажут зависимость цены от указанных ниже параметров. Для подготовки данных перед визуализацией вы можете использовать сводные таблицы.\"\n",
    "        - общей площади;\n",
    "        - жилой площади;\n",
    "        - площади кухни;\n",
    "        - количество комнат;\n",
    "        - типа этажа, на котором расположена квартира (первый, последний, другой);\n",
    "        - даты размещения (день недели, месяц, год);\n",
    "- [x]  выполнено задание: \"Посчитайте среднюю цену одного квадратного метра в 10 населённых пунктах с наибольшим числом объявлений. Выделите населённые пункты с самой высокой и низкой стоимостью квадратного метра. Эти данные можно найти по имени в столбце `locality_name`.\"\n",
    "- [x]  выполнено задание: \"Ранее вы посчитали расстояние до центра в километрах. Теперь выделите квартиры в Санкт-Петербурге с помощью столбца `locality_name` и вычислите среднюю цену каждого километра. Опишите, как стоимость объектов зависит от расстояния до центра города.\"\n",
    "- [x]  в каждом этапе есть промежуточные выводы\n",
    "- [x]  есть общий вывод"
   ]
  }
 ],
 "metadata": {
  "ExecuteTimeLog": [
   {
    "duration": 756,
    "start_time": "2022-11-01T05:11:53.157Z"
   },
   {
    "duration": 103,
    "start_time": "2022-11-01T05:11:56.772Z"
   },
   {
    "duration": 145,
    "start_time": "2022-11-01T05:12:12.008Z"
   },
   {
    "duration": 139,
    "start_time": "2022-11-01T05:12:21.617Z"
   },
   {
    "duration": 102,
    "start_time": "2022-11-01T05:18:38.164Z"
   },
   {
    "duration": 97,
    "start_time": "2022-11-01T05:18:53.489Z"
   },
   {
    "duration": 70,
    "start_time": "2022-11-01T05:19:18.407Z"
   },
   {
    "duration": 99,
    "start_time": "2022-11-01T05:19:55.066Z"
   },
   {
    "duration": 87,
    "start_time": "2022-11-01T05:20:26.672Z"
   },
   {
    "duration": 94,
    "start_time": "2022-11-01T05:23:45.971Z"
   },
   {
    "duration": 116,
    "start_time": "2022-11-01T05:24:22.857Z"
   },
   {
    "duration": 123,
    "start_time": "2022-11-01T05:31:08.202Z"
   },
   {
    "duration": 88,
    "start_time": "2022-11-01T05:31:44.382Z"
   },
   {
    "duration": 140,
    "start_time": "2022-11-01T05:32:19.176Z"
   },
   {
    "duration": 154,
    "start_time": "2022-11-01T05:32:50.981Z"
   },
   {
    "duration": 1016,
    "start_time": "2022-11-01T05:36:34.090Z"
   },
   {
    "duration": 643,
    "start_time": "2022-11-01T05:50:27.412Z"
   },
   {
    "duration": 578,
    "start_time": "2022-11-01T05:50:48.507Z"
   },
   {
    "duration": 599,
    "start_time": "2022-11-01T05:51:53.422Z"
   },
   {
    "duration": 594,
    "start_time": "2022-11-01T05:52:16.598Z"
   },
   {
    "duration": 603,
    "start_time": "2022-11-01T05:52:39.102Z"
   },
   {
    "duration": 728,
    "start_time": "2022-11-01T05:53:16.042Z"
   },
   {
    "duration": 690,
    "start_time": "2022-11-01T05:53:32.754Z"
   },
   {
    "duration": 155,
    "start_time": "2022-11-01T05:54:01.376Z"
   },
   {
    "duration": 139,
    "start_time": "2022-11-01T05:54:11.178Z"
   },
   {
    "duration": 642,
    "start_time": "2022-11-01T05:54:19.575Z"
   },
   {
    "duration": 601,
    "start_time": "2022-11-01T05:54:33.609Z"
   },
   {
    "duration": 645,
    "start_time": "2022-11-01T06:07:06.839Z"
   },
   {
    "duration": 22,
    "start_time": "2022-11-01T07:27:28.207Z"
   },
   {
    "duration": 1317,
    "start_time": "2022-11-01T07:49:35.690Z"
   },
   {
    "duration": 795,
    "start_time": "2022-11-01T07:49:56.535Z"
   },
   {
    "duration": 615,
    "start_time": "2022-11-01T07:50:14.242Z"
   },
   {
    "duration": 746,
    "start_time": "2022-11-01T07:50:47.649Z"
   },
   {
    "duration": 830,
    "start_time": "2022-11-01T07:52:36.373Z"
   },
   {
    "duration": 93,
    "start_time": "2022-11-01T07:53:09.821Z"
   },
   {
    "duration": 833,
    "start_time": "2022-11-01T07:53:30.277Z"
   },
   {
    "duration": 804,
    "start_time": "2022-11-01T07:53:32.929Z"
   },
   {
    "duration": 886,
    "start_time": "2022-11-01T07:54:01.686Z"
   },
   {
    "duration": 5,
    "start_time": "2022-11-01T07:55:43.065Z"
   },
   {
    "duration": 809,
    "start_time": "2022-11-01T07:55:53.402Z"
   },
   {
    "duration": 651,
    "start_time": "2022-11-01T08:12:32.739Z"
   },
   {
    "duration": 36,
    "start_time": "2022-11-01T08:13:12.307Z"
   },
   {
    "duration": 41,
    "start_time": "2022-11-01T09:36:16.507Z"
   },
   {
    "duration": 27,
    "start_time": "2022-11-01T09:37:01.057Z"
   },
   {
    "duration": 23,
    "start_time": "2022-11-01T09:41:37.909Z"
   },
   {
    "duration": 20,
    "start_time": "2022-11-01T09:54:55.933Z"
   },
   {
    "duration": 955,
    "start_time": "2022-11-01T10:10:23.018Z"
   },
   {
    "duration": 36,
    "start_time": "2022-11-01T10:11:08.732Z"
   },
   {
    "duration": 86,
    "start_time": "2022-11-01T10:11:31.927Z"
   },
   {
    "duration": 88,
    "start_time": "2022-11-01T10:11:37.316Z"
   },
   {
    "duration": 110,
    "start_time": "2022-11-01T10:11:50.424Z"
   },
   {
    "duration": 27,
    "start_time": "2022-11-01T10:18:32.061Z"
   },
   {
    "duration": 65,
    "start_time": "2022-11-01T10:18:55.615Z"
   },
   {
    "duration": 5,
    "start_time": "2022-11-01T10:25:41.258Z"
   },
   {
    "duration": 45,
    "start_time": "2022-11-01T10:25:51.154Z"
   },
   {
    "duration": 36,
    "start_time": "2022-11-01T10:26:19.942Z"
   },
   {
    "duration": 48,
    "start_time": "2022-11-01T10:26:52.387Z"
   },
   {
    "duration": 63,
    "start_time": "2022-11-01T10:40:37.528Z"
   },
   {
    "duration": 72,
    "start_time": "2022-11-01T10:40:40.436Z"
   },
   {
    "duration": 84,
    "start_time": "2022-11-01T10:41:14.308Z"
   },
   {
    "duration": 100,
    "start_time": "2022-11-01T10:41:26.264Z"
   },
   {
    "duration": 58,
    "start_time": "2022-11-01T10:45:08.977Z"
   },
   {
    "duration": 59,
    "start_time": "2022-11-01T10:45:12.504Z"
   },
   {
    "duration": 103,
    "start_time": "2022-11-01T10:45:38.140Z"
   },
   {
    "duration": 651,
    "start_time": "2022-11-01T10:46:03.324Z"
   },
   {
    "duration": 685,
    "start_time": "2022-11-01T10:46:27.504Z"
   },
   {
    "duration": 82,
    "start_time": "2022-11-01T10:47:05.408Z"
   },
   {
    "duration": 5,
    "start_time": "2022-11-01T10:51:40.179Z"
   },
   {
    "duration": 1052,
    "start_time": "2022-11-01T10:52:35.933Z"
   },
   {
    "duration": 1121,
    "start_time": "2022-11-01T10:52:48.169Z"
   },
   {
    "duration": 1382,
    "start_time": "2022-11-01T11:34:18.218Z"
   },
   {
    "duration": 2,
    "start_time": "2022-11-01T11:34:19.603Z"
   },
   {
    "duration": 99,
    "start_time": "2022-11-01T11:34:19.607Z"
   },
   {
    "duration": 80219,
    "start_time": "2022-11-01T11:42:47.320Z"
   },
   {
    "duration": 1336,
    "start_time": "2022-11-01T11:56:12.814Z"
   },
   {
    "duration": 34,
    "start_time": "2022-11-01T12:00:21.932Z"
   },
   {
    "duration": 35,
    "start_time": "2022-11-01T12:01:39.787Z"
   },
   {
    "duration": 23,
    "start_time": "2022-11-01T12:01:48.873Z"
   },
   {
    "duration": 1287,
    "start_time": "2022-11-01T12:03:03.556Z"
   },
   {
    "duration": 37,
    "start_time": "2022-11-01T12:03:12.345Z"
   },
   {
    "duration": 1437,
    "start_time": "2022-11-01T12:04:11.032Z"
   },
   {
    "duration": 924,
    "start_time": "2022-11-01T12:04:25.067Z"
   },
   {
    "duration": 993,
    "start_time": "2022-11-01T12:04:29.300Z"
   },
   {
    "duration": 1329,
    "start_time": "2022-11-01T12:07:17.637Z"
   },
   {
    "duration": 973,
    "start_time": "2022-11-01T12:07:22.106Z"
   },
   {
    "duration": 1630,
    "start_time": "2022-11-03T03:51:44.692Z"
   },
   {
    "duration": 140,
    "start_time": "2022-11-03T03:51:52.224Z"
   },
   {
    "duration": 43,
    "start_time": "2022-11-03T04:16:45.896Z"
   },
   {
    "duration": 42,
    "start_time": "2022-11-03T04:17:12.113Z"
   },
   {
    "duration": 40,
    "start_time": "2022-11-03T04:17:28.195Z"
   },
   {
    "duration": 207,
    "start_time": "2022-11-03T04:28:17.452Z"
   },
   {
    "duration": 240,
    "start_time": "2022-11-03T04:29:38.959Z"
   },
   {
    "duration": 212,
    "start_time": "2022-11-03T04:30:39.367Z"
   },
   {
    "duration": 214,
    "start_time": "2022-11-03T04:33:25.141Z"
   },
   {
    "duration": 227,
    "start_time": "2022-11-03T04:38:41.795Z"
   },
   {
    "duration": 260,
    "start_time": "2022-11-03T04:39:28.133Z"
   },
   {
    "duration": 613,
    "start_time": "2022-11-03T05:30:51.070Z"
   },
   {
    "duration": 552,
    "start_time": "2022-11-03T05:42:56.985Z"
   },
   {
    "duration": 183,
    "start_time": "2022-11-03T05:53:32.093Z"
   },
   {
    "duration": 182,
    "start_time": "2022-11-03T05:53:47.405Z"
   },
   {
    "duration": 192,
    "start_time": "2022-11-03T05:54:03.143Z"
   },
   {
    "duration": 196,
    "start_time": "2022-11-03T05:55:09.919Z"
   },
   {
    "duration": 52,
    "start_time": "2022-11-03T06:01:38.806Z"
   },
   {
    "duration": 233,
    "start_time": "2022-11-03T06:02:18.874Z"
   },
   {
    "duration": 192,
    "start_time": "2022-11-03T06:02:33.600Z"
   },
   {
    "duration": 188,
    "start_time": "2022-11-03T06:55:33.386Z"
   },
   {
    "duration": 197,
    "start_time": "2022-11-03T06:57:11.097Z"
   },
   {
    "duration": 64,
    "start_time": "2022-11-03T07:43:01.801Z"
   },
   {
    "duration": 215,
    "start_time": "2022-11-03T07:44:02.289Z"
   },
   {
    "duration": 184,
    "start_time": "2022-11-03T07:44:16.031Z"
   },
   {
    "duration": 193,
    "start_time": "2022-11-03T07:47:02.081Z"
   },
   {
    "duration": 216,
    "start_time": "2022-11-03T07:51:17.381Z"
   },
   {
    "duration": 193,
    "start_time": "2022-11-03T08:04:52.762Z"
   },
   {
    "duration": 169,
    "start_time": "2022-11-03T08:08:21.182Z"
   },
   {
    "duration": 154,
    "start_time": "2022-11-03T08:09:43.922Z"
   },
   {
    "duration": 200,
    "start_time": "2022-11-03T08:10:01.999Z"
   },
   {
    "duration": 188,
    "start_time": "2022-11-03T08:10:37.088Z"
   },
   {
    "duration": 208,
    "start_time": "2022-11-03T08:14:29.523Z"
   },
   {
    "duration": 201,
    "start_time": "2022-11-03T08:15:20.925Z"
   },
   {
    "duration": 236,
    "start_time": "2022-11-03T08:15:39.348Z"
   },
   {
    "duration": 50,
    "start_time": "2022-11-03T08:16:31.135Z"
   },
   {
    "duration": 185,
    "start_time": "2022-11-03T08:16:38.631Z"
   },
   {
    "duration": 187,
    "start_time": "2022-11-03T08:17:03.632Z"
   },
   {
    "duration": 183,
    "start_time": "2022-11-03T08:17:16.395Z"
   },
   {
    "duration": 1144,
    "start_time": "2022-11-03T08:17:31.775Z"
   },
   {
    "duration": 95,
    "start_time": "2022-11-03T08:17:37.504Z"
   },
   {
    "duration": 196,
    "start_time": "2022-11-03T08:17:41.919Z"
   },
   {
    "duration": 183,
    "start_time": "2022-11-03T08:17:55.284Z"
   },
   {
    "duration": 200,
    "start_time": "2022-11-03T08:18:16.222Z"
   },
   {
    "duration": 182,
    "start_time": "2022-11-03T08:18:22.213Z"
   },
   {
    "duration": 188,
    "start_time": "2022-11-03T08:18:51.469Z"
   },
   {
    "duration": 264,
    "start_time": "2022-11-03T08:19:32.617Z"
   },
   {
    "duration": 1105,
    "start_time": "2022-11-03T08:25:32.429Z"
   },
   {
    "duration": 44,
    "start_time": "2022-11-03T08:26:35.441Z"
   },
   {
    "duration": 177,
    "start_time": "2022-11-03T08:27:21.185Z"
   },
   {
    "duration": 181,
    "start_time": "2022-11-03T08:27:55.045Z"
   },
   {
    "duration": 217,
    "start_time": "2022-11-03T08:28:03.803Z"
   },
   {
    "duration": 217,
    "start_time": "2022-11-03T08:28:16.938Z"
   },
   {
    "duration": 177,
    "start_time": "2022-11-03T08:28:38.334Z"
   },
   {
    "duration": 184,
    "start_time": "2022-11-03T08:28:48.670Z"
   },
   {
    "duration": 193,
    "start_time": "2022-11-03T08:28:59.538Z"
   },
   {
    "duration": 64,
    "start_time": "2022-11-03T08:30:58.064Z"
   },
   {
    "duration": 198,
    "start_time": "2022-11-03T08:31:10.375Z"
   },
   {
    "duration": 188,
    "start_time": "2022-11-03T08:32:03.210Z"
   },
   {
    "duration": 12,
    "start_time": "2022-11-03T08:46:44.114Z"
   },
   {
    "duration": 32,
    "start_time": "2022-11-03T08:47:00.943Z"
   },
   {
    "duration": 33,
    "start_time": "2022-11-03T08:47:47.363Z"
   },
   {
    "duration": 247,
    "start_time": "2022-11-03T08:48:35.937Z"
   },
   {
    "duration": 9,
    "start_time": "2022-11-03T08:49:22.538Z"
   },
   {
    "duration": 33,
    "start_time": "2022-11-03T08:49:35.621Z"
   },
   {
    "duration": 29,
    "start_time": "2022-11-03T08:50:12.465Z"
   },
   {
    "duration": 199,
    "start_time": "2022-11-03T08:51:36.585Z"
   },
   {
    "duration": 10,
    "start_time": "2022-11-03T08:54:36.012Z"
   },
   {
    "duration": 9,
    "start_time": "2022-11-03T08:54:55.232Z"
   },
   {
    "duration": 12,
    "start_time": "2022-11-03T08:55:31.324Z"
   },
   {
    "duration": 51,
    "start_time": "2022-11-03T08:56:23.983Z"
   },
   {
    "duration": 10,
    "start_time": "2022-11-03T08:56:33.835Z"
   },
   {
    "duration": 7,
    "start_time": "2022-11-03T09:00:42.555Z"
   },
   {
    "duration": 4,
    "start_time": "2022-11-03T09:02:24.881Z"
   },
   {
    "duration": 12,
    "start_time": "2022-11-03T09:02:38.858Z"
   },
   {
    "duration": 10,
    "start_time": "2022-11-03T09:03:35.252Z"
   },
   {
    "duration": 4,
    "start_time": "2022-11-03T09:04:14.777Z"
   },
   {
    "duration": 6,
    "start_time": "2022-11-03T09:04:30.709Z"
   },
   {
    "duration": 8,
    "start_time": "2022-11-03T09:05:17.813Z"
   },
   {
    "duration": 10,
    "start_time": "2022-11-03T09:28:28.357Z"
   },
   {
    "duration": 11,
    "start_time": "2022-11-03T09:28:48.665Z"
   },
   {
    "duration": 9,
    "start_time": "2022-11-03T09:35:42.773Z"
   },
   {
    "duration": 10,
    "start_time": "2022-11-03T09:36:16.932Z"
   },
   {
    "duration": 9,
    "start_time": "2022-11-03T09:36:42.573Z"
   },
   {
    "duration": 10,
    "start_time": "2022-11-03T09:42:35.130Z"
   },
   {
    "duration": 4,
    "start_time": "2022-11-03T09:42:52.081Z"
   },
   {
    "duration": 10,
    "start_time": "2022-11-03T09:43:08.241Z"
   },
   {
    "duration": 6,
    "start_time": "2022-11-03T09:43:21.161Z"
   },
   {
    "duration": 9,
    "start_time": "2022-11-03T09:44:20.694Z"
   },
   {
    "duration": 1181,
    "start_time": "2022-11-03T09:44:42.286Z"
   },
   {
    "duration": 70,
    "start_time": "2022-11-03T09:44:47.238Z"
   },
   {
    "duration": 55,
    "start_time": "2022-11-03T09:44:51.190Z"
   },
   {
    "duration": 30,
    "start_time": "2022-11-03T09:45:09.554Z"
   },
   {
    "duration": 1251,
    "start_time": "2022-11-03T09:45:28.494Z"
   },
   {
    "duration": 68,
    "start_time": "2022-11-03T09:45:32.121Z"
   },
   {
    "duration": 50,
    "start_time": "2022-11-03T09:45:35.442Z"
   },
   {
    "duration": 68,
    "start_time": "2022-11-03T09:45:54.370Z"
   },
   {
    "duration": 1198,
    "start_time": "2022-11-03T09:51:53.344Z"
   },
   {
    "duration": 75,
    "start_time": "2022-11-03T09:51:57.051Z"
   },
   {
    "duration": 477,
    "start_time": "2022-11-03T09:52:01.452Z"
   },
   {
    "duration": 21,
    "start_time": "2022-11-03T09:54:34.670Z"
   },
   {
    "duration": 87,
    "start_time": "2022-11-03T10:00:12.495Z"
   },
   {
    "duration": 55,
    "start_time": "2022-11-03T10:00:24.168Z"
   },
   {
    "duration": 71,
    "start_time": "2022-11-03T10:00:38.935Z"
   },
   {
    "duration": 14,
    "start_time": "2022-11-03T10:00:55.580Z"
   },
   {
    "duration": 12,
    "start_time": "2022-11-03T10:01:34.508Z"
   },
   {
    "duration": 12,
    "start_time": "2022-11-03T10:01:53.171Z"
   },
   {
    "duration": 38,
    "start_time": "2022-11-03T10:02:00.952Z"
   },
   {
    "duration": 11,
    "start_time": "2022-11-03T10:04:43.550Z"
   },
   {
    "duration": 17,
    "start_time": "2022-11-03T10:11:53.576Z"
   },
   {
    "duration": 15,
    "start_time": "2022-11-03T10:12:36.598Z"
   },
   {
    "duration": 1211,
    "start_time": "2022-11-03T10:13:30.757Z"
   },
   {
    "duration": 72,
    "start_time": "2022-11-03T10:13:34.101Z"
   },
   {
    "duration": 162,
    "start_time": "2022-11-03T10:13:38.957Z"
   },
   {
    "duration": 15,
    "start_time": "2022-11-03T10:14:04.291Z"
   },
   {
    "duration": 197,
    "start_time": "2022-11-03T10:16:11.449Z"
   },
   {
    "duration": 66,
    "start_time": "2022-11-03T10:17:35.345Z"
   },
   {
    "duration": 48,
    "start_time": "2022-11-03T10:18:47.016Z"
   },
   {
    "duration": 51,
    "start_time": "2022-11-03T10:19:06.573Z"
   },
   {
    "duration": 14,
    "start_time": "2022-11-03T10:20:52.703Z"
   },
   {
    "duration": 17,
    "start_time": "2022-11-03T10:22:29.178Z"
   },
   {
    "duration": 20,
    "start_time": "2022-11-03T10:23:37.449Z"
   },
   {
    "duration": 26,
    "start_time": "2022-11-03T10:24:52.327Z"
   },
   {
    "duration": 23,
    "start_time": "2022-11-03T10:25:21.091Z"
   },
   {
    "duration": 79,
    "start_time": "2022-11-03T10:28:53.500Z"
   },
   {
    "duration": 65,
    "start_time": "2022-11-03T10:29:31.408Z"
   },
   {
    "duration": 68,
    "start_time": "2022-11-03T10:29:37.940Z"
   },
   {
    "duration": 67,
    "start_time": "2022-11-03T10:29:42.732Z"
   },
   {
    "duration": 74,
    "start_time": "2022-11-03T10:30:03.908Z"
   },
   {
    "duration": 127,
    "start_time": "2022-11-03T10:30:27.579Z"
   },
   {
    "duration": 15,
    "start_time": "2022-11-03T10:31:34.672Z"
   },
   {
    "duration": 95,
    "start_time": "2022-11-03T10:31:57.912Z"
   },
   {
    "duration": 16,
    "start_time": "2022-11-03T10:32:41.478Z"
   },
   {
    "duration": 81,
    "start_time": "2022-11-03T10:32:55.434Z"
   },
   {
    "duration": 80,
    "start_time": "2022-11-03T10:33:19.234Z"
   },
   {
    "duration": 85,
    "start_time": "2022-11-03T10:33:55.775Z"
   },
   {
    "duration": 73,
    "start_time": "2022-11-03T10:34:22.639Z"
   },
   {
    "duration": 1649,
    "start_time": "2022-11-03T10:40:52.535Z"
   },
   {
    "duration": 101,
    "start_time": "2022-11-03T10:41:50.471Z"
   },
   {
    "duration": 50,
    "start_time": "2022-11-03T10:42:35.008Z"
   },
   {
    "duration": 177,
    "start_time": "2022-11-03T10:42:50.097Z"
   },
   {
    "duration": 213,
    "start_time": "2022-11-03T10:43:03.316Z"
   },
   {
    "duration": 249,
    "start_time": "2022-11-03T10:43:28.036Z"
   },
   {
    "duration": 235,
    "start_time": "2022-11-03T10:54:19.443Z"
   },
   {
    "duration": 252,
    "start_time": "2022-11-03T10:56:45.474Z"
   },
   {
    "duration": 9,
    "start_time": "2022-11-03T11:04:26.059Z"
   },
   {
    "duration": 305,
    "start_time": "2022-11-03T11:04:43.043Z"
   },
   {
    "duration": 238,
    "start_time": "2022-11-03T11:04:55.779Z"
   },
   {
    "duration": 245,
    "start_time": "2022-11-03T11:05:53.283Z"
   },
   {
    "duration": 8,
    "start_time": "2022-11-03T11:06:25.613Z"
   },
   {
    "duration": 237,
    "start_time": "2022-11-03T11:06:42.537Z"
   },
   {
    "duration": 241,
    "start_time": "2022-11-03T11:07:05.392Z"
   },
   {
    "duration": 1278,
    "start_time": "2022-11-03T11:07:35.888Z"
   },
   {
    "duration": 70,
    "start_time": "2022-11-03T11:07:39.720Z"
   },
   {
    "duration": 342,
    "start_time": "2022-11-03T11:07:43.372Z"
   },
   {
    "duration": 301,
    "start_time": "2022-11-03T11:08:10.843Z"
   },
   {
    "duration": 241,
    "start_time": "2022-11-03T11:08:19.559Z"
   },
   {
    "duration": 256,
    "start_time": "2022-11-03T11:08:31.627Z"
   },
   {
    "duration": 236,
    "start_time": "2022-11-03T11:09:24.127Z"
   },
   {
    "duration": 240,
    "start_time": "2022-11-03T11:09:47.159Z"
   },
   {
    "duration": 255,
    "start_time": "2022-11-03T11:09:57.083Z"
   },
   {
    "duration": 252,
    "start_time": "2022-11-03T11:10:05.978Z"
   },
   {
    "duration": 241,
    "start_time": "2022-11-03T11:10:27.138Z"
   },
   {
    "duration": 244,
    "start_time": "2022-11-03T11:15:27.243Z"
   },
   {
    "duration": 309,
    "start_time": "2022-11-03T11:15:34.587Z"
   },
   {
    "duration": 250,
    "start_time": "2022-11-03T11:19:10.985Z"
   },
   {
    "duration": 91,
    "start_time": "2022-11-03T20:00:57.828Z"
   },
   {
    "duration": 1642,
    "start_time": "2022-11-03T20:01:03.543Z"
   },
   {
    "duration": 78,
    "start_time": "2022-11-03T20:01:07.011Z"
   },
   {
    "duration": 320,
    "start_time": "2022-11-03T20:01:10.415Z"
   },
   {
    "duration": 350,
    "start_time": "2022-11-03T20:01:32.931Z"
   },
   {
    "duration": 6,
    "start_time": "2022-11-03T20:06:30.396Z"
   },
   {
    "duration": 6,
    "start_time": "2022-11-03T20:07:06.675Z"
   },
   {
    "duration": 6,
    "start_time": "2022-11-03T20:08:19.244Z"
   },
   {
    "duration": 6,
    "start_time": "2022-11-03T20:08:31.080Z"
   },
   {
    "duration": 6,
    "start_time": "2022-11-03T20:09:17.539Z"
   },
   {
    "duration": 6,
    "start_time": "2022-11-03T20:09:25.456Z"
   },
   {
    "duration": 55,
    "start_time": "2022-11-03T20:10:08.015Z"
   },
   {
    "duration": 6,
    "start_time": "2022-11-03T20:10:17.974Z"
   },
   {
    "duration": 12,
    "start_time": "2022-11-03T20:10:40.454Z"
   },
   {
    "duration": 9,
    "start_time": "2022-11-03T20:10:51.417Z"
   },
   {
    "duration": 8,
    "start_time": "2022-11-03T20:11:14.581Z"
   },
   {
    "duration": 8,
    "start_time": "2022-11-03T20:12:07.807Z"
   },
   {
    "duration": 7,
    "start_time": "2022-11-03T20:12:29.169Z"
   },
   {
    "duration": 279,
    "start_time": "2022-11-03T20:13:04.815Z"
   },
   {
    "duration": 6,
    "start_time": "2022-11-03T20:13:16.675Z"
   },
   {
    "duration": 5,
    "start_time": "2022-11-03T20:13:52.452Z"
   },
   {
    "duration": 9,
    "start_time": "2022-11-03T20:17:25.533Z"
   },
   {
    "duration": 8,
    "start_time": "2022-11-03T20:20:23.461Z"
   },
   {
    "duration": 6,
    "start_time": "2022-11-03T20:30:19.513Z"
   },
   {
    "duration": 7,
    "start_time": "2022-11-03T20:30:56.945Z"
   },
   {
    "duration": 6,
    "start_time": "2022-11-03T20:46:17.346Z"
   },
   {
    "duration": 295,
    "start_time": "2022-11-03T20:46:36.682Z"
   },
   {
    "duration": 276,
    "start_time": "2022-11-03T20:47:02.586Z"
   },
   {
    "duration": 312,
    "start_time": "2022-11-03T21:03:45.752Z"
   },
   {
    "duration": 27,
    "start_time": "2022-11-03T21:04:21.656Z"
   },
   {
    "duration": 1408,
    "start_time": "2022-11-03T21:04:40.958Z"
   },
   {
    "duration": 88,
    "start_time": "2022-11-03T21:04:45.718Z"
   },
   {
    "duration": 337,
    "start_time": "2022-11-03T21:04:49.615Z"
   },
   {
    "duration": 323,
    "start_time": "2022-11-03T21:05:36.685Z"
   },
   {
    "duration": 6,
    "start_time": "2022-11-03T21:05:51.303Z"
   },
   {
    "duration": 6,
    "start_time": "2022-11-03T21:05:55.587Z"
   },
   {
    "duration": 7,
    "start_time": "2022-11-03T21:06:07.759Z"
   },
   {
    "duration": 10,
    "start_time": "2022-11-03T21:06:22.143Z"
   },
   {
    "duration": 78,
    "start_time": "2022-11-03T21:06:41.038Z"
   },
   {
    "duration": 10,
    "start_time": "2022-11-03T21:06:48.910Z"
   },
   {
    "duration": 9,
    "start_time": "2022-11-03T21:07:28.855Z"
   },
   {
    "duration": 1560,
    "start_time": "2022-11-03T23:37:08.228Z"
   },
   {
    "duration": 70,
    "start_time": "2022-11-03T23:37:20.737Z"
   },
   {
    "duration": 342,
    "start_time": "2022-11-03T23:37:25.191Z"
   },
   {
    "duration": 9,
    "start_time": "2022-11-03T23:37:30.197Z"
   },
   {
    "duration": 6,
    "start_time": "2022-11-03T23:37:57.891Z"
   },
   {
    "duration": 4,
    "start_time": "2022-11-03T23:38:17.191Z"
   },
   {
    "duration": 143,
    "start_time": "2022-11-03T23:38:34.380Z"
   },
   {
    "duration": 12,
    "start_time": "2022-11-03T23:38:59.093Z"
   },
   {
    "duration": 4,
    "start_time": "2022-11-03T23:39:48.194Z"
   },
   {
    "duration": 13,
    "start_time": "2022-11-03T23:40:08.095Z"
   },
   {
    "duration": 12,
    "start_time": "2022-11-03T23:40:24.706Z"
   },
   {
    "duration": 9,
    "start_time": "2022-11-03T23:41:14.100Z"
   },
   {
    "duration": 245,
    "start_time": "2022-11-03T23:41:23.629Z"
   },
   {
    "duration": 6,
    "start_time": "2022-11-03T23:41:30.066Z"
   },
   {
    "duration": 1196,
    "start_time": "2022-11-03T23:41:50.129Z"
   },
   {
    "duration": 70,
    "start_time": "2022-11-03T23:41:53.922Z"
   },
   {
    "duration": 293,
    "start_time": "2022-11-03T23:41:57.398Z"
   },
   {
    "duration": 7,
    "start_time": "2022-11-03T23:42:02.048Z"
   },
   {
    "duration": 7,
    "start_time": "2022-11-03T23:42:23.401Z"
   },
   {
    "duration": 6,
    "start_time": "2022-11-03T23:42:41.866Z"
   },
   {
    "duration": 9,
    "start_time": "2022-11-03T23:42:59.107Z"
   },
   {
    "duration": 132,
    "start_time": "2022-11-03T23:43:36.209Z"
   },
   {
    "duration": 79,
    "start_time": "2022-11-03T23:43:44.383Z"
   },
   {
    "duration": 14,
    "start_time": "2022-11-03T23:44:26.109Z"
   },
   {
    "duration": 13,
    "start_time": "2022-11-03T23:52:23.327Z"
   },
   {
    "duration": 17,
    "start_time": "2022-11-03T23:52:36.930Z"
   },
   {
    "duration": 14,
    "start_time": "2022-11-03T23:53:03.335Z"
   },
   {
    "duration": 1397,
    "start_time": "2022-11-03T23:53:51.244Z"
   },
   {
    "duration": 81,
    "start_time": "2022-11-03T23:53:55.647Z"
   },
   {
    "duration": 290,
    "start_time": "2022-11-03T23:54:00.548Z"
   },
   {
    "duration": 10,
    "start_time": "2022-11-03T23:54:06.896Z"
   },
   {
    "duration": 1302,
    "start_time": "2022-11-03T23:54:53.317Z"
   },
   {
    "duration": 69,
    "start_time": "2022-11-03T23:54:58.291Z"
   },
   {
    "duration": 302,
    "start_time": "2022-11-03T23:55:01.659Z"
   },
   {
    "duration": 10,
    "start_time": "2022-11-03T23:55:17.335Z"
   },
   {
    "duration": 1265,
    "start_time": "2022-11-03T23:55:44.659Z"
   },
   {
    "duration": 68,
    "start_time": "2022-11-03T23:55:48.356Z"
   },
   {
    "duration": 305,
    "start_time": "2022-11-03T23:55:51.858Z"
   },
   {
    "duration": 15,
    "start_time": "2022-11-03T23:56:25.359Z"
   },
   {
    "duration": 9,
    "start_time": "2022-11-04T00:01:07.470Z"
   },
   {
    "duration": 14,
    "start_time": "2022-11-04T00:02:40.573Z"
   },
   {
    "duration": 4,
    "start_time": "2022-11-04T00:03:50.574Z"
   },
   {
    "duration": 13,
    "start_time": "2022-11-04T00:04:02.474Z"
   },
   {
    "duration": 408,
    "start_time": "2022-11-04T00:04:27.074Z"
   },
   {
    "duration": 14,
    "start_time": "2022-11-04T00:06:32.493Z"
   },
   {
    "duration": 52,
    "start_time": "2022-11-04T00:08:41.194Z"
   },
   {
    "duration": 48,
    "start_time": "2022-11-04T00:09:20.594Z"
   },
   {
    "duration": 14,
    "start_time": "2022-11-04T00:09:29.572Z"
   },
   {
    "duration": 15,
    "start_time": "2022-11-04T00:10:04.695Z"
   },
   {
    "duration": 11,
    "start_time": "2022-11-04T00:11:12.598Z"
   },
   {
    "duration": 33,
    "start_time": "2022-11-04T00:12:16.801Z"
   },
   {
    "duration": 32,
    "start_time": "2022-11-04T00:12:26.676Z"
   },
   {
    "duration": 16,
    "start_time": "2022-11-04T00:13:23.511Z"
   },
   {
    "duration": 21,
    "start_time": "2022-11-04T00:14:26.413Z"
   },
   {
    "duration": 6,
    "start_time": "2022-11-04T01:09:55.774Z"
   },
   {
    "duration": 5,
    "start_time": "2022-11-04T01:10:27.976Z"
   },
   {
    "duration": 5,
    "start_time": "2022-11-04T01:11:05.077Z"
   },
   {
    "duration": 7,
    "start_time": "2022-11-04T01:12:31.380Z"
   },
   {
    "duration": 15,
    "start_time": "2022-11-04T01:13:23.484Z"
   },
   {
    "duration": 19,
    "start_time": "2022-11-04T01:13:55.285Z"
   },
   {
    "duration": 4,
    "start_time": "2022-11-04T01:14:39.486Z"
   },
   {
    "duration": 14,
    "start_time": "2022-11-04T01:14:50.068Z"
   },
   {
    "duration": 18,
    "start_time": "2022-11-04T01:15:05.286Z"
   },
   {
    "duration": 16,
    "start_time": "2022-11-04T01:15:19.526Z"
   },
   {
    "duration": 15,
    "start_time": "2022-11-04T01:15:36.688Z"
   },
   {
    "duration": 43,
    "start_time": "2022-11-04T01:16:10.489Z"
   },
   {
    "duration": 702,
    "start_time": "2022-11-04T01:16:53.289Z"
   },
   {
    "duration": 684,
    "start_time": "2022-11-04T01:17:07.390Z"
   },
   {
    "duration": 16,
    "start_time": "2022-11-04T01:17:36.591Z"
   },
   {
    "duration": 671,
    "start_time": "2022-11-04T01:19:37.694Z"
   },
   {
    "duration": 56,
    "start_time": "2022-11-04T01:20:05.897Z"
   },
   {
    "duration": 1017,
    "start_time": "2022-11-04T01:21:55.366Z"
   },
   {
    "duration": 44,
    "start_time": "2022-11-04T01:22:10.026Z"
   },
   {
    "duration": 1325,
    "start_time": "2022-11-04T01:22:18.151Z"
   },
   {
    "duration": 633,
    "start_time": "2022-11-04T01:23:44.115Z"
   },
   {
    "duration": 123,
    "start_time": "2022-11-04T01:24:24.127Z"
   },
   {
    "duration": 132,
    "start_time": "2022-11-04T01:24:35.068Z"
   },
   {
    "duration": 612,
    "start_time": "2022-11-04T01:25:33.627Z"
   },
   {
    "duration": 164,
    "start_time": "2022-11-04T01:28:15.367Z"
   },
   {
    "duration": 790,
    "start_time": "2022-11-04T01:33:39.029Z"
   },
   {
    "duration": 19,
    "start_time": "2022-11-04T01:34:14.172Z"
   },
   {
    "duration": 17,
    "start_time": "2022-11-04T01:35:00.203Z"
   },
   {
    "duration": 13,
    "start_time": "2022-11-04T01:35:21.724Z"
   },
   {
    "duration": 13,
    "start_time": "2022-11-04T01:35:31.447Z"
   },
   {
    "duration": 15,
    "start_time": "2022-11-04T01:35:57.093Z"
   },
   {
    "duration": 104,
    "start_time": "2022-11-04T01:37:24.295Z"
   },
   {
    "duration": 12,
    "start_time": "2022-11-04T01:37:32.089Z"
   },
   {
    "duration": 12,
    "start_time": "2022-11-04T01:37:48.228Z"
   },
   {
    "duration": 719,
    "start_time": "2022-11-04T01:40:30.934Z"
   },
   {
    "duration": 767,
    "start_time": "2022-11-04T01:40:39.733Z"
   },
   {
    "duration": 44,
    "start_time": "2022-11-04T01:41:21.834Z"
   },
   {
    "duration": 21,
    "start_time": "2022-11-04T02:34:39.323Z"
   },
   {
    "duration": 75,
    "start_time": "2022-11-04T02:35:52.289Z"
   },
   {
    "duration": 11,
    "start_time": "2022-11-04T02:36:01.338Z"
   },
   {
    "duration": 913,
    "start_time": "2022-11-04T03:23:28.958Z"
   },
   {
    "duration": 168,
    "start_time": "2022-11-04T03:24:06.741Z"
   },
   {
    "duration": 97,
    "start_time": "2022-11-04T03:25:29.207Z"
   },
   {
    "duration": 88,
    "start_time": "2022-11-04T03:25:39.257Z"
   },
   {
    "duration": 109,
    "start_time": "2022-11-04T03:26:51.087Z"
   },
   {
    "duration": 11,
    "start_time": "2022-11-04T03:28:17.869Z"
   },
   {
    "duration": 240,
    "start_time": "2022-11-04T03:28:52.904Z"
   },
   {
    "duration": 560,
    "start_time": "2022-11-04T03:30:45.946Z"
   },
   {
    "duration": 222,
    "start_time": "2022-11-04T03:31:18.131Z"
   },
   {
    "duration": 29,
    "start_time": "2022-11-04T03:33:38.298Z"
   },
   {
    "duration": 30,
    "start_time": "2022-11-04T03:34:13.699Z"
   },
   {
    "duration": 103,
    "start_time": "2022-11-04T03:34:43.892Z"
   },
   {
    "duration": 29,
    "start_time": "2022-11-04T03:35:22.365Z"
   },
   {
    "duration": 20,
    "start_time": "2022-11-04T03:36:06.814Z"
   },
   {
    "duration": 32,
    "start_time": "2022-11-04T03:36:31.797Z"
   },
   {
    "duration": 20,
    "start_time": "2022-11-04T03:37:25.627Z"
   },
   {
    "duration": 20,
    "start_time": "2022-11-04T03:37:39.344Z"
   },
   {
    "duration": 79,
    "start_time": "2022-11-04T03:41:30.050Z"
   },
   {
    "duration": 65,
    "start_time": "2022-11-04T03:43:17.966Z"
   },
   {
    "duration": 41,
    "start_time": "2022-11-04T03:43:35.842Z"
   },
   {
    "duration": 26,
    "start_time": "2022-11-04T03:43:42.937Z"
   },
   {
    "duration": 31,
    "start_time": "2022-11-04T03:44:30.303Z"
   },
   {
    "duration": 82,
    "start_time": "2022-11-04T03:48:21.218Z"
   },
   {
    "duration": 27,
    "start_time": "2022-11-04T03:48:25.426Z"
   },
   {
    "duration": 33,
    "start_time": "2022-11-04T03:48:32.795Z"
   },
   {
    "duration": 74,
    "start_time": "2022-11-04T03:50:02.494Z"
   },
   {
    "duration": 73,
    "start_time": "2022-11-04T03:50:37.519Z"
   },
   {
    "duration": 75,
    "start_time": "2022-11-04T03:51:27.860Z"
   },
   {
    "duration": 92,
    "start_time": "2022-11-04T03:52:22.565Z"
   },
   {
    "duration": 20,
    "start_time": "2022-11-04T04:10:45.500Z"
   },
   {
    "duration": 19,
    "start_time": "2022-11-04T04:11:35.596Z"
   },
   {
    "duration": 19,
    "start_time": "2022-11-04T04:12:22.694Z"
   },
   {
    "duration": 36,
    "start_time": "2022-11-04T04:14:07.999Z"
   },
   {
    "duration": 102,
    "start_time": "2022-11-04T04:15:48.467Z"
   },
   {
    "duration": 25,
    "start_time": "2022-11-04T04:15:52.911Z"
   },
   {
    "duration": 103,
    "start_time": "2022-11-04T04:16:15.505Z"
   },
   {
    "duration": 23,
    "start_time": "2022-11-04T04:16:19.449Z"
   },
   {
    "duration": 151,
    "start_time": "2022-11-04T04:21:47.136Z"
   },
   {
    "duration": 27,
    "start_time": "2022-11-04T04:21:50.622Z"
   },
   {
    "duration": 107,
    "start_time": "2022-11-04T04:22:58.511Z"
   },
   {
    "duration": 25,
    "start_time": "2022-11-04T04:23:03.796Z"
   },
   {
    "duration": 85,
    "start_time": "2022-11-04T04:23:27.999Z"
   },
   {
    "duration": 25,
    "start_time": "2022-11-04T04:23:32.831Z"
   },
   {
    "duration": 110,
    "start_time": "2022-11-04T04:23:47.059Z"
   },
   {
    "duration": 34,
    "start_time": "2022-11-04T04:23:50.051Z"
   },
   {
    "duration": 101,
    "start_time": "2022-11-04T04:24:14.552Z"
   },
   {
    "duration": 22,
    "start_time": "2022-11-04T04:24:18.224Z"
   },
   {
    "duration": 22,
    "start_time": "2022-11-04T04:25:53.279Z"
   },
   {
    "duration": 16,
    "start_time": "2022-11-04T04:26:18.591Z"
   },
   {
    "duration": 52,
    "start_time": "2022-11-04T04:26:47.121Z"
   },
   {
    "duration": 20,
    "start_time": "2022-11-04T04:26:55.653Z"
   },
   {
    "duration": 27,
    "start_time": "2022-11-04T04:27:08.491Z"
   },
   {
    "duration": 20,
    "start_time": "2022-11-04T04:27:42.290Z"
   },
   {
    "duration": 19,
    "start_time": "2022-11-04T04:27:50.909Z"
   },
   {
    "duration": 20,
    "start_time": "2022-11-04T04:28:11.516Z"
   },
   {
    "duration": 53,
    "start_time": "2022-11-04T04:31:29.948Z"
   },
   {
    "duration": 15,
    "start_time": "2022-11-04T04:31:41.084Z"
   },
   {
    "duration": 4,
    "start_time": "2022-11-04T04:37:26.109Z"
   },
   {
    "duration": 46,
    "start_time": "2022-11-04T04:37:38.505Z"
   },
   {
    "duration": 47,
    "start_time": "2022-11-04T04:38:06.469Z"
   },
   {
    "duration": 48,
    "start_time": "2022-11-04T04:38:11.732Z"
   },
   {
    "duration": 46,
    "start_time": "2022-11-04T04:38:22.180Z"
   },
   {
    "duration": 51,
    "start_time": "2022-11-04T04:39:52.832Z"
   },
   {
    "duration": 50,
    "start_time": "2022-11-04T04:40:38.811Z"
   },
   {
    "duration": 36,
    "start_time": "2022-11-04T04:41:23.999Z"
   },
   {
    "duration": 28,
    "start_time": "2022-11-04T04:41:54.922Z"
   },
   {
    "duration": 49,
    "start_time": "2022-11-04T04:42:14.875Z"
   },
   {
    "duration": 73,
    "start_time": "2022-11-04T04:42:42.622Z"
   },
   {
    "duration": 14,
    "start_time": "2022-11-04T04:47:10.249Z"
   },
   {
    "duration": 114,
    "start_time": "2022-11-04T04:56:18.298Z"
   },
   {
    "duration": 143,
    "start_time": "2022-11-04T04:57:05.226Z"
   },
   {
    "duration": 392,
    "start_time": "2022-11-04T04:58:35.921Z"
   },
   {
    "duration": 111,
    "start_time": "2022-11-04T04:59:23.049Z"
   },
   {
    "duration": 132,
    "start_time": "2022-11-04T04:59:44.013Z"
   },
   {
    "duration": 47,
    "start_time": "2022-11-04T04:59:50.702Z"
   },
   {
    "duration": 106,
    "start_time": "2022-11-04T04:59:57.049Z"
   },
   {
    "duration": 76,
    "start_time": "2022-11-04T05:03:48.905Z"
   },
   {
    "duration": 105,
    "start_time": "2022-11-04T05:04:29.689Z"
   },
   {
    "duration": 113,
    "start_time": "2022-11-04T05:05:07.918Z"
   },
   {
    "duration": 1418,
    "start_time": "2022-11-04T05:05:35.821Z"
   },
   {
    "duration": 71,
    "start_time": "2022-11-04T05:05:45.794Z"
   },
   {
    "duration": 160,
    "start_time": "2022-11-04T05:05:56.330Z"
   },
   {
    "duration": 69,
    "start_time": "2022-11-04T05:12:27.271Z"
   },
   {
    "duration": 151,
    "start_time": "2022-11-04T05:12:44.804Z"
   },
   {
    "duration": 87,
    "start_time": "2022-11-04T05:12:48.535Z"
   },
   {
    "duration": 77,
    "start_time": "2022-11-04T05:13:18.195Z"
   },
   {
    "duration": 81,
    "start_time": "2022-11-04T05:14:01.655Z"
   },
   {
    "duration": 111,
    "start_time": "2022-11-04T05:15:08.612Z"
   },
   {
    "duration": 72,
    "start_time": "2022-11-04T05:16:31.734Z"
   },
   {
    "duration": 79,
    "start_time": "2022-11-04T05:17:09.601Z"
   },
   {
    "duration": 59,
    "start_time": "2022-11-04T05:20:51.536Z"
   },
   {
    "duration": 24,
    "start_time": "2022-11-04T05:21:15.007Z"
   },
   {
    "duration": 1283,
    "start_time": "2022-11-04T05:21:35.243Z"
   },
   {
    "duration": 69,
    "start_time": "2022-11-04T05:21:39.355Z"
   },
   {
    "duration": 154,
    "start_time": "2022-11-04T05:21:43.575Z"
   },
   {
    "duration": 89,
    "start_time": "2022-11-04T05:22:24.639Z"
   },
   {
    "duration": 59,
    "start_time": "2022-11-04T05:22:40.143Z"
   },
   {
    "duration": 87,
    "start_time": "2022-11-04T05:23:18.291Z"
   },
   {
    "duration": 16,
    "start_time": "2022-11-04T05:23:37.751Z"
   },
   {
    "duration": 13,
    "start_time": "2022-11-04T05:23:41.274Z"
   },
   {
    "duration": 706,
    "start_time": "2022-11-04T05:24:27.284Z"
   },
   {
    "duration": 786,
    "start_time": "2022-11-04T05:24:52.994Z"
   },
   {
    "duration": 680,
    "start_time": "2022-11-04T05:25:11.449Z"
   },
   {
    "duration": 42,
    "start_time": "2022-11-04T05:26:21.898Z"
   },
   {
    "duration": 25,
    "start_time": "2022-11-04T05:26:31.093Z"
   },
   {
    "duration": 1202,
    "start_time": "2022-11-04T05:26:47.101Z"
   },
   {
    "duration": 68,
    "start_time": "2022-11-04T05:26:50.317Z"
   },
   {
    "duration": 124,
    "start_time": "2022-11-04T05:26:53.394Z"
   },
   {
    "duration": 93,
    "start_time": "2022-11-04T05:27:11.734Z"
   },
   {
    "duration": 148,
    "start_time": "2022-11-04T05:29:52.734Z"
   },
   {
    "duration": 44,
    "start_time": "2022-11-04T05:31:28.130Z"
   },
   {
    "duration": 34,
    "start_time": "2022-11-04T05:33:44.278Z"
   },
   {
    "duration": 35,
    "start_time": "2022-11-04T05:33:58.260Z"
   },
   {
    "duration": 44,
    "start_time": "2022-11-04T05:34:32.891Z"
   },
   {
    "duration": 13,
    "start_time": "2022-11-04T05:34:45.459Z"
   },
   {
    "duration": 13,
    "start_time": "2022-11-04T05:35:13.677Z"
   },
   {
    "duration": 11,
    "start_time": "2022-11-04T05:35:22.660Z"
   },
   {
    "duration": 48,
    "start_time": "2022-11-04T05:37:39.516Z"
   },
   {
    "duration": 79,
    "start_time": "2022-11-04T05:38:05.775Z"
   },
   {
    "duration": 23,
    "start_time": "2022-11-04T05:39:17.621Z"
   },
   {
    "duration": 13,
    "start_time": "2022-11-04T05:39:55.721Z"
   },
   {
    "duration": 12,
    "start_time": "2022-11-04T05:39:59.584Z"
   },
   {
    "duration": 44,
    "start_time": "2022-11-04T05:40:11.398Z"
   },
   {
    "duration": 43,
    "start_time": "2022-11-04T05:40:31.574Z"
   },
   {
    "duration": 1215,
    "start_time": "2022-11-04T05:40:47.836Z"
   },
   {
    "duration": 81,
    "start_time": "2022-11-04T05:41:09.074Z"
   },
   {
    "duration": 135,
    "start_time": "2022-11-04T05:41:16.702Z"
   },
   {
    "duration": 20,
    "start_time": "2022-11-04T05:41:58.844Z"
   },
   {
    "duration": 23,
    "start_time": "2022-11-04T05:42:21.732Z"
   },
   {
    "duration": 17,
    "start_time": "2022-11-04T05:44:25.301Z"
   },
   {
    "duration": 5,
    "start_time": "2022-11-04T05:46:32.304Z"
   },
   {
    "duration": 17,
    "start_time": "2022-11-04T05:46:57.238Z"
   },
   {
    "duration": 1278,
    "start_time": "2022-11-04T05:47:17.846Z"
   },
   {
    "duration": 77,
    "start_time": "2022-11-04T05:47:22.170Z"
   },
   {
    "duration": 73,
    "start_time": "2022-11-04T05:47:27.733Z"
   },
   {
    "duration": 9,
    "start_time": "2022-11-04T05:48:45.835Z"
   },
   {
    "duration": 7,
    "start_time": "2022-11-04T05:49:15.744Z"
   },
   {
    "duration": 10,
    "start_time": "2022-11-04T05:50:03.920Z"
   },
   {
    "duration": 144,
    "start_time": "2022-11-04T05:50:16.251Z"
   },
   {
    "duration": 6,
    "start_time": "2022-11-04T05:50:19.667Z"
   },
   {
    "duration": 7,
    "start_time": "2022-11-04T05:50:37.023Z"
   },
   {
    "duration": 14,
    "start_time": "2022-11-04T05:50:42.923Z"
   },
   {
    "duration": 13,
    "start_time": "2022-11-04T05:51:00.451Z"
   },
   {
    "duration": 21,
    "start_time": "2022-11-04T05:51:18.726Z"
   },
   {
    "duration": 1292,
    "start_time": "2022-11-04T05:54:14.976Z"
   },
   {
    "duration": 75,
    "start_time": "2022-11-04T05:54:18.904Z"
   },
   {
    "duration": 132,
    "start_time": "2022-11-04T05:54:22.449Z"
   },
   {
    "duration": 17,
    "start_time": "2022-11-04T05:54:48.444Z"
   },
   {
    "duration": 20,
    "start_time": "2022-11-04T05:54:56.032Z"
   },
   {
    "duration": 718,
    "start_time": "2022-11-04T05:56:28.469Z"
   },
   {
    "duration": 14,
    "start_time": "2022-11-04T05:56:37.230Z"
   },
   {
    "duration": 11,
    "start_time": "2022-11-04T05:57:04.855Z"
   },
   {
    "duration": 44,
    "start_time": "2022-11-04T05:58:01.653Z"
   },
   {
    "duration": 15,
    "start_time": "2022-11-04T06:03:03.272Z"
   },
   {
    "duration": 13,
    "start_time": "2022-11-04T06:16:32.947Z"
   },
   {
    "duration": 15,
    "start_time": "2022-11-04T06:17:12.504Z"
   },
   {
    "duration": 13,
    "start_time": "2022-11-04T06:17:32.612Z"
   },
   {
    "duration": 11,
    "start_time": "2022-11-04T06:17:53.250Z"
   },
   {
    "duration": 1335,
    "start_time": "2022-11-04T06:18:06.332Z"
   },
   {
    "duration": 93,
    "start_time": "2022-11-04T06:18:10.843Z"
   },
   {
    "duration": 153,
    "start_time": "2022-11-04T06:18:14.241Z"
   },
   {
    "duration": 25,
    "start_time": "2022-11-04T06:18:18.024Z"
   },
   {
    "duration": 1229,
    "start_time": "2022-11-04T06:19:09.340Z"
   },
   {
    "duration": 78,
    "start_time": "2022-11-04T06:19:12.391Z"
   },
   {
    "duration": 174,
    "start_time": "2022-11-04T06:19:15.148Z"
   },
   {
    "duration": 29,
    "start_time": "2022-11-04T06:19:18.636Z"
   },
   {
    "duration": 1226,
    "start_time": "2022-11-04T06:20:10.624Z"
   },
   {
    "duration": 93,
    "start_time": "2022-11-04T06:20:14.570Z"
   },
   {
    "duration": 137,
    "start_time": "2022-11-04T06:20:17.151Z"
   },
   {
    "duration": 28,
    "start_time": "2022-11-04T06:20:21.630Z"
   },
   {
    "duration": 28,
    "start_time": "2022-11-04T06:21:43.503Z"
   },
   {
    "duration": 30,
    "start_time": "2022-11-04T06:22:17.612Z"
   },
   {
    "duration": 21,
    "start_time": "2022-11-04T06:22:29.536Z"
   },
   {
    "duration": 43,
    "start_time": "2022-11-04T06:23:00.724Z"
   },
   {
    "duration": 36,
    "start_time": "2022-11-04T06:23:27.824Z"
   },
   {
    "duration": 48,
    "start_time": "2022-11-04T06:23:49.113Z"
   },
   {
    "duration": 27,
    "start_time": "2022-11-04T06:24:14.934Z"
   },
   {
    "duration": 87,
    "start_time": "2022-11-04T06:24:38.039Z"
   },
   {
    "duration": 130,
    "start_time": "2022-11-04T06:32:49.619Z"
   },
   {
    "duration": 119,
    "start_time": "2022-11-04T06:33:01.465Z"
   },
   {
    "duration": 203,
    "start_time": "2022-11-04T06:34:00.836Z"
   },
   {
    "duration": 92,
    "start_time": "2022-11-04T06:34:14.275Z"
   },
   {
    "duration": 136,
    "start_time": "2022-11-04T06:34:17.127Z"
   },
   {
    "duration": 119,
    "start_time": "2022-11-04T06:34:28.358Z"
   },
   {
    "duration": 1496,
    "start_time": "2022-11-04T06:34:53.982Z"
   },
   {
    "duration": 107,
    "start_time": "2022-11-04T06:34:57.087Z"
   },
   {
    "duration": 153,
    "start_time": "2022-11-04T06:34:59.819Z"
   },
   {
    "duration": 216,
    "start_time": "2022-11-04T06:35:02.679Z"
   },
   {
    "duration": 134,
    "start_time": "2022-11-04T06:35:19.978Z"
   },
   {
    "duration": 10,
    "start_time": "2022-11-04T06:35:29.182Z"
   },
   {
    "duration": 5,
    "start_time": "2022-11-04T06:35:47.802Z"
   },
   {
    "duration": 157,
    "start_time": "2022-11-04T06:38:42.625Z"
   },
   {
    "duration": 140,
    "start_time": "2022-11-04T06:39:29.271Z"
   },
   {
    "duration": 189,
    "start_time": "2022-11-04T06:39:52.183Z"
   },
   {
    "duration": 160,
    "start_time": "2022-11-04T06:41:12.682Z"
   },
   {
    "duration": 84,
    "start_time": "2022-11-04T06:47:10.781Z"
   },
   {
    "duration": 147,
    "start_time": "2022-11-04T06:52:22.980Z"
   },
   {
    "duration": 47,
    "start_time": "2022-11-04T06:53:08.920Z"
   },
   {
    "duration": 51,
    "start_time": "2022-11-04T06:53:31.054Z"
   },
   {
    "duration": 47,
    "start_time": "2022-11-04T06:53:35.469Z"
   },
   {
    "duration": 39,
    "start_time": "2022-11-04T06:53:49.573Z"
   },
   {
    "duration": 37,
    "start_time": "2022-11-04T06:56:28.711Z"
   },
   {
    "duration": 38,
    "start_time": "2022-11-04T06:56:41.503Z"
   },
   {
    "duration": 156,
    "start_time": "2022-11-04T06:57:30.486Z"
   },
   {
    "duration": 140,
    "start_time": "2022-11-04T06:58:22.017Z"
   },
   {
    "duration": 142,
    "start_time": "2022-11-04T06:58:47.773Z"
   },
   {
    "duration": 141,
    "start_time": "2022-11-04T06:59:06.057Z"
   },
   {
    "duration": 189,
    "start_time": "2022-11-04T07:26:53.449Z"
   },
   {
    "duration": 94,
    "start_time": "2022-11-04T07:41:21.587Z"
   },
   {
    "duration": 109,
    "start_time": "2022-11-04T07:41:55.959Z"
   },
   {
    "duration": 103,
    "start_time": "2022-11-04T07:42:59.783Z"
   },
   {
    "duration": 103,
    "start_time": "2022-11-04T07:43:16.039Z"
   },
   {
    "duration": 107,
    "start_time": "2022-11-04T07:44:15.625Z"
   },
   {
    "duration": 61,
    "start_time": "2022-11-04T08:18:27.354Z"
   },
   {
    "duration": 77,
    "start_time": "2022-11-04T08:20:52.642Z"
   },
   {
    "duration": 119,
    "start_time": "2022-11-04T08:21:00.884Z"
   },
   {
    "duration": 100,
    "start_time": "2022-11-04T08:21:31.481Z"
   },
   {
    "duration": 99,
    "start_time": "2022-11-04T08:22:09.689Z"
   },
   {
    "duration": 99,
    "start_time": "2022-11-04T08:29:19.590Z"
   },
   {
    "duration": 112,
    "start_time": "2022-11-04T08:29:42.580Z"
   },
   {
    "duration": 1311,
    "start_time": "2022-11-04T08:30:02.396Z"
   },
   {
    "duration": 73,
    "start_time": "2022-11-04T08:30:09.569Z"
   },
   {
    "duration": 165,
    "start_time": "2022-11-04T08:30:17.512Z"
   },
   {
    "duration": 197,
    "start_time": "2022-11-04T08:30:38.114Z"
   },
   {
    "duration": 12,
    "start_time": "2022-11-04T08:30:59.342Z"
   },
   {
    "duration": 1394,
    "start_time": "2022-11-04T08:31:34.470Z"
   },
   {
    "duration": 88,
    "start_time": "2022-11-04T08:31:38.749Z"
   },
   {
    "duration": 141,
    "start_time": "2022-11-04T08:31:42.305Z"
   },
   {
    "duration": 8,
    "start_time": "2022-11-04T08:56:07.796Z"
   },
   {
    "duration": 918,
    "start_time": "2022-11-04T08:56:45.521Z"
   },
   {
    "duration": 821,
    "start_time": "2022-11-04T08:57:24.858Z"
   },
   {
    "duration": 106,
    "start_time": "2022-11-04T08:58:23.353Z"
   },
   {
    "duration": 101,
    "start_time": "2022-11-04T08:59:17.482Z"
   },
   {
    "duration": 115,
    "start_time": "2022-11-04T08:59:41.657Z"
   },
   {
    "duration": 108,
    "start_time": "2022-11-04T08:59:52.370Z"
   },
   {
    "duration": 103,
    "start_time": "2022-11-04T09:01:05.949Z"
   },
   {
    "duration": 111,
    "start_time": "2022-11-04T09:01:47.862Z"
   },
   {
    "duration": 107,
    "start_time": "2022-11-04T09:02:01.999Z"
   },
   {
    "duration": 304,
    "start_time": "2022-11-04T09:03:09.611Z"
   },
   {
    "duration": 303,
    "start_time": "2022-11-04T09:04:11.603Z"
   },
   {
    "duration": 124,
    "start_time": "2022-11-04T09:13:05.692Z"
   },
   {
    "duration": 1242,
    "start_time": "2022-11-04T09:13:43.415Z"
   },
   {
    "duration": 74,
    "start_time": "2022-11-04T09:13:46.414Z"
   },
   {
    "duration": 402,
    "start_time": "2022-11-04T09:13:49.655Z"
   },
   {
    "duration": 1360,
    "start_time": "2022-11-04T09:14:34.214Z"
   },
   {
    "duration": 90,
    "start_time": "2022-11-04T09:14:42.228Z"
   },
   {
    "duration": 361,
    "start_time": "2022-11-04T09:14:45.837Z"
   },
   {
    "duration": 315,
    "start_time": "2022-11-04T09:15:08.592Z"
   },
   {
    "duration": 267,
    "start_time": "2022-11-04T09:15:14.109Z"
   },
   {
    "duration": 78,
    "start_time": "2022-11-04T09:15:18.157Z"
   },
   {
    "duration": 76,
    "start_time": "2022-11-04T09:15:31.125Z"
   },
   {
    "duration": 100,
    "start_time": "2022-11-04T09:15:38.592Z"
   },
   {
    "duration": 137,
    "start_time": "2022-11-04T09:15:45.116Z"
   },
   {
    "duration": 410,
    "start_time": "2022-11-04T09:16:07.701Z"
   },
   {
    "duration": 117,
    "start_time": "2022-11-04T09:17:01.420Z"
   },
   {
    "duration": 275,
    "start_time": "2022-11-04T09:17:43.237Z"
   },
   {
    "duration": 303,
    "start_time": "2022-11-04T09:17:59.813Z"
   },
   {
    "duration": 162,
    "start_time": "2022-11-04T09:18:11.925Z"
   },
   {
    "duration": 111,
    "start_time": "2022-11-04T09:18:29.628Z"
   },
   {
    "duration": 260,
    "start_time": "2022-11-04T09:18:47.488Z"
   },
   {
    "duration": 240,
    "start_time": "2022-11-04T09:19:01.406Z"
   },
   {
    "duration": 113,
    "start_time": "2022-11-04T09:19:48.615Z"
   },
   {
    "duration": 512,
    "start_time": "2022-11-04T09:20:02.011Z"
   },
   {
    "duration": 161,
    "start_time": "2022-11-04T09:20:18.383Z"
   },
   {
    "duration": 352,
    "start_time": "2022-11-04T09:20:38.283Z"
   },
   {
    "duration": 1604,
    "start_time": "2022-11-04T09:20:52.579Z"
   },
   {
    "duration": 111,
    "start_time": "2022-11-04T09:20:55.537Z"
   },
   {
    "duration": 425,
    "start_time": "2022-11-04T09:20:58.928Z"
   },
   {
    "duration": 188,
    "start_time": "2022-11-04T09:22:22.345Z"
   },
   {
    "duration": 119,
    "start_time": "2022-11-04T09:25:54.594Z"
   },
   {
    "duration": 123,
    "start_time": "2022-11-04T09:27:16.089Z"
   },
   {
    "duration": 116,
    "start_time": "2022-11-04T09:27:48.229Z"
   },
   {
    "duration": 127,
    "start_time": "2022-11-04T09:28:04.869Z"
   },
   {
    "duration": 116,
    "start_time": "2022-11-04T09:28:47.266Z"
   },
   {
    "duration": 116,
    "start_time": "2022-11-04T09:29:06.595Z"
   },
   {
    "duration": 129,
    "start_time": "2022-11-04T09:29:52.162Z"
   },
   {
    "duration": 5,
    "start_time": "2022-11-04T09:34:35.892Z"
   },
   {
    "duration": 6,
    "start_time": "2022-11-04T09:34:53.633Z"
   },
   {
    "duration": 6,
    "start_time": "2022-11-04T09:35:12.324Z"
   },
   {
    "duration": 24,
    "start_time": "2022-11-04T09:35:30.245Z"
   },
   {
    "duration": 1316,
    "start_time": "2022-11-04T09:36:26.485Z"
   },
   {
    "duration": 86,
    "start_time": "2022-11-04T09:36:32.688Z"
   },
   {
    "duration": 190,
    "start_time": "2022-11-04T09:36:55.842Z"
   },
   {
    "duration": 177,
    "start_time": "2022-11-04T09:43:47.617Z"
   },
   {
    "duration": 129,
    "start_time": "2022-11-04T09:44:30.357Z"
   },
   {
    "duration": 98,
    "start_time": "2022-11-04T09:45:44.636Z"
   },
   {
    "duration": 7,
    "start_time": "2022-11-04T09:46:11.013Z"
   },
   {
    "duration": 6,
    "start_time": "2022-11-04T09:46:27.259Z"
   },
   {
    "duration": 9,
    "start_time": "2022-11-04T09:46:54.852Z"
   },
   {
    "duration": 47,
    "start_time": "2022-11-04T09:47:38.727Z"
   },
   {
    "duration": 9,
    "start_time": "2022-11-04T09:47:49.125Z"
   },
   {
    "duration": 10,
    "start_time": "2022-11-04T09:47:57.995Z"
   },
   {
    "duration": 8,
    "start_time": "2022-11-04T09:48:10.351Z"
   },
   {
    "duration": 7,
    "start_time": "2022-11-04T09:48:16.907Z"
   },
   {
    "duration": 18,
    "start_time": "2022-11-04T09:48:40.624Z"
   },
   {
    "duration": 1244,
    "start_time": "2022-11-04T09:49:01.277Z"
   },
   {
    "duration": 71,
    "start_time": "2022-11-04T09:49:04.985Z"
   },
   {
    "duration": 131,
    "start_time": "2022-11-04T09:49:11.606Z"
   },
   {
    "duration": 1223,
    "start_time": "2022-11-04T09:50:37.616Z"
   },
   {
    "duration": 77,
    "start_time": "2022-11-04T09:50:40.525Z"
   },
   {
    "duration": 175,
    "start_time": "2022-11-04T09:50:50.999Z"
   },
   {
    "duration": 287,
    "start_time": "2022-11-04T09:54:22.567Z"
   },
   {
    "duration": 246,
    "start_time": "2022-11-04T09:54:39.209Z"
   },
   {
    "duration": 1337,
    "start_time": "2022-11-04T09:55:11.417Z"
   },
   {
    "duration": 84,
    "start_time": "2022-11-04T09:55:14.458Z"
   },
   {
    "duration": 173,
    "start_time": "2022-11-04T09:55:18.634Z"
   },
   {
    "duration": 7,
    "start_time": "2022-11-04T09:55:46.948Z"
   },
   {
    "duration": 7,
    "start_time": "2022-11-04T09:55:56.320Z"
   },
   {
    "duration": 27,
    "start_time": "2022-11-04T09:56:06.517Z"
   },
   {
    "duration": 32,
    "start_time": "2022-11-04T09:56:12.581Z"
   },
   {
    "duration": 370,
    "start_time": "2022-11-04T09:56:22.177Z"
   },
   {
    "duration": 35,
    "start_time": "2022-11-04T09:56:46.352Z"
   },
   {
    "duration": 209,
    "start_time": "2022-11-04T09:57:14.613Z"
   },
   {
    "duration": 51,
    "start_time": "2022-11-04T09:57:50.000Z"
   },
   {
    "duration": 191,
    "start_time": "2022-11-04T09:57:59.608Z"
   },
   {
    "duration": 201,
    "start_time": "2022-11-04T09:59:00.678Z"
   },
   {
    "duration": 30,
    "start_time": "2022-11-04T09:59:16.322Z"
   },
   {
    "duration": 42,
    "start_time": "2022-11-04T09:59:50.231Z"
   },
   {
    "duration": 45,
    "start_time": "2022-11-04T10:00:16.809Z"
   },
   {
    "duration": 36,
    "start_time": "2022-11-04T10:00:55.688Z"
   },
   {
    "duration": 32,
    "start_time": "2022-11-04T10:01:16.099Z"
   },
   {
    "duration": 139,
    "start_time": "2022-11-04T10:01:39.324Z"
   },
   {
    "duration": 346,
    "start_time": "2022-11-04T10:01:47.529Z"
   },
   {
    "duration": 129,
    "start_time": "2022-11-04T10:02:36.691Z"
   },
   {
    "duration": 170,
    "start_time": "2022-11-04T10:02:43.262Z"
   },
   {
    "duration": 10,
    "start_time": "2022-11-04T10:32:35.612Z"
   },
   {
    "duration": 4,
    "start_time": "2022-11-04T10:32:48.350Z"
   },
   {
    "duration": 24,
    "start_time": "2022-11-04T10:32:58.763Z"
   },
   {
    "duration": 26,
    "start_time": "2022-11-04T10:33:21.834Z"
   },
   {
    "duration": 10,
    "start_time": "2022-11-04T10:38:15.710Z"
   },
   {
    "duration": 166,
    "start_time": "2022-11-04T10:40:28.445Z"
   },
   {
    "duration": 118,
    "start_time": "2022-11-04T10:40:39.154Z"
   },
   {
    "duration": 140,
    "start_time": "2022-11-04T10:40:59.784Z"
   },
   {
    "duration": 10,
    "start_time": "2022-11-04T10:41:03.292Z"
   },
   {
    "duration": 126,
    "start_time": "2022-11-04T10:42:49.522Z"
   },
   {
    "duration": 153,
    "start_time": "2022-11-04T10:43:06.777Z"
   },
   {
    "duration": 10,
    "start_time": "2022-11-04T10:43:10.987Z"
   },
   {
    "duration": 119,
    "start_time": "2022-11-04T10:48:21.907Z"
   },
   {
    "duration": 11,
    "start_time": "2022-11-04T10:48:35.815Z"
   },
   {
    "duration": 1393,
    "start_time": "2022-11-04T10:49:06.906Z"
   },
   {
    "duration": 73,
    "start_time": "2022-11-04T10:49:16.310Z"
   },
   {
    "duration": 217,
    "start_time": "2022-11-04T10:49:22.902Z"
   },
   {
    "duration": 170,
    "start_time": "2022-11-04T10:49:40.436Z"
   },
   {
    "duration": 75,
    "start_time": "2022-11-04T10:49:50.588Z"
   },
   {
    "duration": 9,
    "start_time": "2022-11-04T10:53:25.039Z"
   },
   {
    "duration": 28,
    "start_time": "2022-11-04T10:53:39.858Z"
   },
   {
    "duration": 13,
    "start_time": "2022-11-04T10:57:10.106Z"
   },
   {
    "duration": 34,
    "start_time": "2022-11-04T10:57:42.334Z"
   },
   {
    "duration": 37,
    "start_time": "2022-11-04T10:59:20.485Z"
   },
   {
    "duration": 35,
    "start_time": "2022-11-04T11:07:24.217Z"
   },
   {
    "duration": 203,
    "start_time": "2022-11-04T11:08:13.683Z"
   },
   {
    "duration": 118,
    "start_time": "2022-11-04T11:10:41.785Z"
   },
   {
    "duration": 135,
    "start_time": "2022-11-04T11:11:29.451Z"
   },
   {
    "duration": 101,
    "start_time": "2022-11-04T11:12:58.204Z"
   },
   {
    "duration": 38,
    "start_time": "2022-11-04T11:13:27.620Z"
   },
   {
    "duration": 118,
    "start_time": "2022-11-04T11:23:10.283Z"
   },
   {
    "duration": 171,
    "start_time": "2022-11-04T11:26:34.975Z"
   },
   {
    "duration": 708,
    "start_time": "2022-11-04T11:29:35.900Z"
   },
   {
    "duration": 848,
    "start_time": "2022-11-04T11:30:13.494Z"
   },
   {
    "duration": 657,
    "start_time": "2022-11-04T11:31:18.223Z"
   },
   {
    "duration": 154,
    "start_time": "2022-11-04T11:36:10.666Z"
   },
   {
    "duration": 1273,
    "start_time": "2022-11-04T11:36:32.893Z"
   },
   {
    "duration": 81,
    "start_time": "2022-11-04T11:36:36.290Z"
   },
   {
    "duration": 189,
    "start_time": "2022-11-04T11:36:39.722Z"
   },
   {
    "duration": 170,
    "start_time": "2022-11-04T11:38:35.050Z"
   },
   {
    "duration": 150,
    "start_time": "2022-11-04T11:39:23.547Z"
   },
   {
    "duration": 156,
    "start_time": "2022-11-04T11:39:40.953Z"
   },
   {
    "duration": 892,
    "start_time": "2022-11-04T11:39:53.126Z"
   },
   {
    "duration": 208,
    "start_time": "2022-11-04T11:41:15.568Z"
   },
   {
    "duration": 212,
    "start_time": "2022-11-04T11:41:50.200Z"
   },
   {
    "duration": 358,
    "start_time": "2022-11-04T11:45:43.675Z"
   },
   {
    "duration": 1579,
    "start_time": "2022-11-04T17:43:39.637Z"
   },
   {
    "duration": 76,
    "start_time": "2022-11-04T17:43:43.610Z"
   },
   {
    "duration": 200,
    "start_time": "2022-11-04T17:43:47.478Z"
   },
   {
    "duration": 220,
    "start_time": "2022-11-04T17:43:52.370Z"
   },
   {
    "duration": 313,
    "start_time": "2022-11-04T17:43:56.237Z"
   },
   {
    "duration": 279,
    "start_time": "2022-11-04T17:45:03.952Z"
   },
   {
    "duration": 67,
    "start_time": "2022-11-04T17:47:13.852Z"
   },
   {
    "duration": 78,
    "start_time": "2022-11-04T17:47:39.924Z"
   },
   {
    "duration": 75,
    "start_time": "2022-11-04T17:47:50.624Z"
   },
   {
    "duration": 94,
    "start_time": "2022-11-04T17:48:02.112Z"
   },
   {
    "duration": 323,
    "start_time": "2022-11-04T17:48:27.663Z"
   },
   {
    "duration": 273,
    "start_time": "2022-11-04T17:48:41.115Z"
   },
   {
    "duration": 334,
    "start_time": "2022-11-04T17:48:50.392Z"
   },
   {
    "duration": 289,
    "start_time": "2022-11-04T17:49:10.548Z"
   },
   {
    "duration": 279,
    "start_time": "2022-11-04T17:49:34.999Z"
   },
   {
    "duration": 285,
    "start_time": "2022-11-04T17:49:41.203Z"
   },
   {
    "duration": 331,
    "start_time": "2022-11-04T17:49:59.672Z"
   },
   {
    "duration": 75,
    "start_time": "2022-11-04T17:50:06.544Z"
   },
   {
    "duration": 282,
    "start_time": "2022-11-04T17:50:22.447Z"
   },
   {
    "duration": 285,
    "start_time": "2022-11-04T17:51:45.271Z"
   },
   {
    "duration": 282,
    "start_time": "2022-11-04T17:52:01.648Z"
   },
   {
    "duration": 337,
    "start_time": "2022-11-04T17:54:01.496Z"
   },
   {
    "duration": 285,
    "start_time": "2022-11-04T17:55:27.812Z"
   },
   {
    "duration": 286,
    "start_time": "2022-11-04T17:56:40.463Z"
   },
   {
    "duration": 303,
    "start_time": "2022-11-04T17:57:10.511Z"
   },
   {
    "duration": 273,
    "start_time": "2022-11-04T18:23:05.400Z"
   },
   {
    "duration": 136,
    "start_time": "2022-11-04T18:24:06.046Z"
   },
   {
    "duration": 148,
    "start_time": "2022-11-04T18:25:23.397Z"
   },
   {
    "duration": 148,
    "start_time": "2022-11-04T18:25:34.601Z"
   },
   {
    "duration": 146,
    "start_time": "2022-11-04T18:25:48.948Z"
   },
   {
    "duration": 155,
    "start_time": "2022-11-04T18:26:01.668Z"
   },
   {
    "duration": 138,
    "start_time": "2022-11-04T18:26:17.409Z"
   },
   {
    "duration": 238,
    "start_time": "2022-11-04T18:26:24.740Z"
   },
   {
    "duration": 72,
    "start_time": "2022-11-04T18:32:29.628Z"
   },
   {
    "duration": 73,
    "start_time": "2022-11-04T18:32:38.063Z"
   },
   {
    "duration": 70,
    "start_time": "2022-11-04T18:34:35.247Z"
   },
   {
    "duration": 207,
    "start_time": "2022-11-04T18:35:07.377Z"
   },
   {
    "duration": 98,
    "start_time": "2022-11-04T18:35:48.264Z"
   },
   {
    "duration": 8,
    "start_time": "2022-11-04T18:36:00.892Z"
   },
   {
    "duration": 227,
    "start_time": "2022-11-04T18:36:10.097Z"
   },
   {
    "duration": 283,
    "start_time": "2022-11-04T18:37:02.011Z"
   },
   {
    "duration": 282,
    "start_time": "2022-11-04T18:38:17.998Z"
   },
   {
    "duration": 215,
    "start_time": "2022-11-04T18:38:34.552Z"
   },
   {
    "duration": 232,
    "start_time": "2022-11-04T18:39:54.792Z"
   },
   {
    "duration": 231,
    "start_time": "2022-11-04T18:40:09.427Z"
   },
   {
    "duration": 237,
    "start_time": "2022-11-04T18:40:32.227Z"
   },
   {
    "duration": 233,
    "start_time": "2022-11-04T18:51:00.345Z"
   },
   {
    "duration": 86,
    "start_time": "2022-11-04T18:55:25.529Z"
   },
   {
    "duration": 234,
    "start_time": "2022-11-04T18:55:44.089Z"
   },
   {
    "duration": 219,
    "start_time": "2022-11-04T18:56:01.605Z"
   },
   {
    "duration": 278,
    "start_time": "2022-11-04T18:56:47.232Z"
   },
   {
    "duration": 221,
    "start_time": "2022-11-04T18:57:00.444Z"
   },
   {
    "duration": 194,
    "start_time": "2022-11-04T18:58:45.795Z"
   },
   {
    "duration": 205,
    "start_time": "2022-11-04T19:02:23.902Z"
   },
   {
    "duration": 200,
    "start_time": "2022-11-04T19:02:49.146Z"
   },
   {
    "duration": 199,
    "start_time": "2022-11-04T19:03:08.457Z"
   },
   {
    "duration": 194,
    "start_time": "2022-11-04T19:03:19.930Z"
   },
   {
    "duration": 203,
    "start_time": "2022-11-04T19:04:18.932Z"
   },
   {
    "duration": 224,
    "start_time": "2022-11-04T19:04:43.240Z"
   },
   {
    "duration": 213,
    "start_time": "2022-11-04T19:04:51.752Z"
   },
   {
    "duration": 47,
    "start_time": "2022-11-04T22:59:28.743Z"
   },
   {
    "duration": 1593,
    "start_time": "2022-11-04T22:59:46.119Z"
   },
   {
    "duration": 71,
    "start_time": "2022-11-04T22:59:49.947Z"
   },
   {
    "duration": 189,
    "start_time": "2022-11-04T22:59:52.540Z"
   },
   {
    "duration": 207,
    "start_time": "2022-11-04T23:00:41.418Z"
   },
   {
    "duration": 171,
    "start_time": "2022-11-04T23:00:54.303Z"
   },
   {
    "duration": 148,
    "start_time": "2022-11-04T23:01:01.035Z"
   },
   {
    "duration": 166,
    "start_time": "2022-11-04T23:08:11.103Z"
   },
   {
    "duration": 137,
    "start_time": "2022-11-04T23:08:54.518Z"
   },
   {
    "duration": 162,
    "start_time": "2022-11-04T23:09:59.931Z"
   },
   {
    "duration": 502,
    "start_time": "2022-11-04T23:10:33.251Z"
   },
   {
    "duration": 512,
    "start_time": "2022-11-04T23:10:40.183Z"
   },
   {
    "duration": 140,
    "start_time": "2022-11-04T23:13:50.515Z"
   },
   {
    "duration": 1393,
    "start_time": "2022-11-04T23:14:08.186Z"
   },
   {
    "duration": 71,
    "start_time": "2022-11-04T23:14:11.434Z"
   },
   {
    "duration": 167,
    "start_time": "2022-11-04T23:14:14.887Z"
   },
   {
    "duration": 165,
    "start_time": "2022-11-04T23:14:21.179Z"
   },
   {
    "duration": 139,
    "start_time": "2022-11-04T23:14:28.426Z"
   },
   {
    "duration": 135,
    "start_time": "2022-11-04T23:16:18.034Z"
   },
   {
    "duration": 158,
    "start_time": "2022-11-04T23:16:21.043Z"
   },
   {
    "duration": 160,
    "start_time": "2022-11-04T23:16:24.150Z"
   },
   {
    "duration": 135,
    "start_time": "2022-11-04T23:16:26.642Z"
   },
   {
    "duration": 149,
    "start_time": "2022-11-04T23:16:45.752Z"
   },
   {
    "duration": 135,
    "start_time": "2022-11-04T23:57:52.410Z"
   },
   {
    "duration": 135,
    "start_time": "2022-11-04T23:58:26.268Z"
   },
   {
    "duration": 138,
    "start_time": "2022-11-04T23:58:51.867Z"
   },
   {
    "duration": 140,
    "start_time": "2022-11-04T23:59:03.316Z"
   },
   {
    "duration": 135,
    "start_time": "2022-11-05T00:00:36.487Z"
   },
   {
    "duration": 140,
    "start_time": "2022-11-05T00:01:09.326Z"
   },
   {
    "duration": 139,
    "start_time": "2022-11-05T00:02:14.471Z"
   },
   {
    "duration": 141,
    "start_time": "2022-11-05T00:03:24.522Z"
   },
   {
    "duration": 130,
    "start_time": "2022-11-05T00:03:53.731Z"
   },
   {
    "duration": 135,
    "start_time": "2022-11-05T00:05:16.425Z"
   },
   {
    "duration": 137,
    "start_time": "2022-11-05T00:05:21.365Z"
   },
   {
    "duration": 1156,
    "start_time": "2022-11-05T00:05:46.842Z"
   },
   {
    "duration": 69,
    "start_time": "2022-11-05T00:05:49.954Z"
   },
   {
    "duration": 170,
    "start_time": "2022-11-05T00:05:52.968Z"
   },
   {
    "duration": 160,
    "start_time": "2022-11-05T00:05:59.075Z"
   },
   {
    "duration": 1111,
    "start_time": "2022-11-05T00:06:19.979Z"
   },
   {
    "duration": 70,
    "start_time": "2022-11-05T00:06:44.067Z"
   },
   {
    "duration": 169,
    "start_time": "2022-11-05T00:06:54.591Z"
   },
   {
    "duration": 145,
    "start_time": "2022-11-05T00:07:36.324Z"
   },
   {
    "duration": 138,
    "start_time": "2022-11-05T00:07:54.500Z"
   },
   {
    "duration": 138,
    "start_time": "2022-11-05T00:08:01.989Z"
   },
   {
    "duration": 140,
    "start_time": "2022-11-05T00:08:15.881Z"
   },
   {
    "duration": 325,
    "start_time": "2022-11-05T00:08:19.125Z"
   },
   {
    "duration": 183,
    "start_time": "2022-11-05T00:08:27.592Z"
   },
   {
    "duration": 181,
    "start_time": "2022-11-05T00:08:36.671Z"
   },
   {
    "duration": 178,
    "start_time": "2022-11-05T00:11:44.649Z"
   },
   {
    "duration": 187,
    "start_time": "2022-11-05T00:14:07.374Z"
   },
   {
    "duration": 174,
    "start_time": "2022-11-05T00:14:31.140Z"
   },
   {
    "duration": 179,
    "start_time": "2022-11-05T00:14:45.163Z"
   },
   {
    "duration": 154,
    "start_time": "2022-11-05T00:15:33.466Z"
   },
   {
    "duration": 198,
    "start_time": "2022-11-05T00:15:47.466Z"
   },
   {
    "duration": 237,
    "start_time": "2022-11-05T00:16:06.425Z"
   },
   {
    "duration": 45,
    "start_time": "2022-11-05T00:21:50.635Z"
   },
   {
    "duration": 251,
    "start_time": "2022-11-05T00:21:58.798Z"
   },
   {
    "duration": 114,
    "start_time": "2022-11-05T00:22:23.270Z"
   },
   {
    "duration": 15,
    "start_time": "2022-11-05T00:22:34.489Z"
   },
   {
    "duration": 28,
    "start_time": "2022-11-05T00:23:17.599Z"
   },
   {
    "duration": 24,
    "start_time": "2022-11-05T00:23:30.831Z"
   },
   {
    "duration": 46,
    "start_time": "2022-11-05T00:24:18.651Z"
   },
   {
    "duration": 12,
    "start_time": "2022-11-05T00:24:26.236Z"
   },
   {
    "duration": 1205,
    "start_time": "2022-11-05T00:24:46.301Z"
   },
   {
    "duration": 70,
    "start_time": "2022-11-05T00:24:49.541Z"
   },
   {
    "duration": 169,
    "start_time": "2022-11-05T00:24:59.612Z"
   },
   {
    "duration": 76,
    "start_time": "2022-11-05T00:25:04.526Z"
   },
   {
    "duration": 15,
    "start_time": "2022-11-05T00:25:20.848Z"
   },
   {
    "duration": 9,
    "start_time": "2022-11-05T00:26:22.610Z"
   },
   {
    "duration": 14,
    "start_time": "2022-11-05T00:26:56.926Z"
   },
   {
    "duration": 15,
    "start_time": "2022-11-05T00:27:44.082Z"
   },
   {
    "duration": 7,
    "start_time": "2022-11-05T00:28:37.669Z"
   },
   {
    "duration": 31,
    "start_time": "2022-11-05T00:29:54.322Z"
   },
   {
    "duration": 145,
    "start_time": "2022-11-05T00:30:24.497Z"
   },
   {
    "duration": 342,
    "start_time": "2022-11-05T00:30:27.249Z"
   },
   {
    "duration": 195,
    "start_time": "2022-11-05T00:30:33.323Z"
   },
   {
    "duration": 195,
    "start_time": "2022-11-05T00:30:36.935Z"
   },
   {
    "duration": 185,
    "start_time": "2022-11-05T00:30:42.097Z"
   },
   {
    "duration": 169,
    "start_time": "2022-11-05T00:33:09.101Z"
   },
   {
    "duration": 194,
    "start_time": "2022-11-05T00:37:17.391Z"
   },
   {
    "duration": 176,
    "start_time": "2022-11-05T00:37:38.533Z"
   },
   {
    "duration": 156,
    "start_time": "2022-11-05T00:39:39.725Z"
   },
   {
    "duration": 267,
    "start_time": "2022-11-05T00:39:44.100Z"
   },
   {
    "duration": 45,
    "start_time": "2022-11-05T00:40:07.405Z"
   },
   {
    "duration": 235,
    "start_time": "2022-11-05T00:40:17.520Z"
   },
   {
    "duration": 145,
    "start_time": "2022-11-05T00:42:36.647Z"
   },
   {
    "duration": 288,
    "start_time": "2022-11-05T00:42:38.975Z"
   },
   {
    "duration": 263,
    "start_time": "2022-11-05T00:42:45.753Z"
   },
   {
    "duration": 1195,
    "start_time": "2022-11-05T00:43:14.530Z"
   },
   {
    "duration": 68,
    "start_time": "2022-11-05T00:43:18.319Z"
   },
   {
    "duration": 188,
    "start_time": "2022-11-05T00:43:21.443Z"
   },
   {
    "duration": 140,
    "start_time": "2022-11-05T00:43:42.767Z"
   },
   {
    "duration": 144,
    "start_time": "2022-11-05T00:43:55.899Z"
   },
   {
    "duration": 305,
    "start_time": "2022-11-05T00:44:00.423Z"
   },
   {
    "duration": 190,
    "start_time": "2022-11-05T00:44:05.363Z"
   },
   {
    "duration": 179,
    "start_time": "2022-11-05T00:44:09.550Z"
   },
   {
    "duration": 161,
    "start_time": "2022-11-05T00:44:30.723Z"
   },
   {
    "duration": 165,
    "start_time": "2022-11-05T00:44:42.492Z"
   },
   {
    "duration": 1225,
    "start_time": "2022-11-05T00:46:44.481Z"
   },
   {
    "duration": 136,
    "start_time": "2022-11-05T00:46:55.313Z"
   },
   {
    "duration": 9,
    "start_time": "2022-11-05T00:48:33.248Z"
   },
   {
    "duration": 5,
    "start_time": "2022-11-05T00:49:13.380Z"
   },
   {
    "duration": 14,
    "start_time": "2022-11-05T00:49:26.760Z"
   },
   {
    "duration": 55,
    "start_time": "2022-11-05T00:50:19.760Z"
   },
   {
    "duration": 168,
    "start_time": "2022-11-05T00:50:25.879Z"
   },
   {
    "duration": 266,
    "start_time": "2022-11-05T00:52:44.636Z"
   },
   {
    "duration": 240,
    "start_time": "2022-11-05T00:55:21.930Z"
   },
   {
    "duration": 258,
    "start_time": "2022-11-05T00:55:26.180Z"
   },
   {
    "duration": 147,
    "start_time": "2022-11-05T00:55:54.482Z"
   },
   {
    "duration": 1197,
    "start_time": "2022-11-05T00:56:04.701Z"
   },
   {
    "duration": 69,
    "start_time": "2022-11-05T00:56:10.885Z"
   },
   {
    "duration": 162,
    "start_time": "2022-11-05T00:56:13.737Z"
   },
   {
    "duration": 141,
    "start_time": "2022-11-05T00:56:17.653Z"
   },
   {
    "duration": 313,
    "start_time": "2022-11-05T00:56:21.417Z"
   },
   {
    "duration": 175,
    "start_time": "2022-11-05T00:57:12.246Z"
   },
   {
    "duration": 175,
    "start_time": "2022-11-05T00:57:15.741Z"
   },
   {
    "duration": 179,
    "start_time": "2022-11-05T00:57:19.989Z"
   },
   {
    "duration": 4,
    "start_time": "2022-11-05T00:58:00.477Z"
   },
   {
    "duration": 159,
    "start_time": "2022-11-05T00:58:34.209Z"
   },
   {
    "duration": 177,
    "start_time": "2022-11-05T00:58:47.770Z"
   },
   {
    "duration": 168,
    "start_time": "2022-11-05T00:59:05.140Z"
   },
   {
    "duration": 175,
    "start_time": "2022-11-05T00:59:15.937Z"
   },
   {
    "duration": 168,
    "start_time": "2022-11-05T00:59:25.281Z"
   },
   {
    "duration": 209,
    "start_time": "2022-11-05T00:59:34.056Z"
   },
   {
    "duration": 251,
    "start_time": "2022-11-05T00:59:52.511Z"
   },
   {
    "duration": 173,
    "start_time": "2022-11-05T01:00:07.511Z"
   },
   {
    "duration": 167,
    "start_time": "2022-11-05T01:00:16.387Z"
   },
   {
    "duration": 199,
    "start_time": "2022-11-05T01:00:26.660Z"
   },
   {
    "duration": 189,
    "start_time": "2022-11-05T01:00:55.462Z"
   },
   {
    "duration": 177,
    "start_time": "2022-11-05T01:01:22.133Z"
   },
   {
    "duration": 182,
    "start_time": "2022-11-05T01:01:49.449Z"
   },
   {
    "duration": 192,
    "start_time": "2022-11-05T01:01:57.049Z"
   },
   {
    "duration": 181,
    "start_time": "2022-11-05T01:02:06.685Z"
   },
   {
    "duration": 147,
    "start_time": "2022-11-05T01:02:30.878Z"
   },
   {
    "duration": 145,
    "start_time": "2022-11-05T01:02:52.588Z"
   },
   {
    "duration": 229,
    "start_time": "2022-11-05T01:03:03.905Z"
   },
   {
    "duration": 164,
    "start_time": "2022-11-05T01:03:17.805Z"
   },
   {
    "duration": 153,
    "start_time": "2022-11-05T01:03:35.209Z"
   },
   {
    "duration": 154,
    "start_time": "2022-11-05T01:03:50.069Z"
   },
   {
    "duration": 148,
    "start_time": "2022-11-05T01:04:05.341Z"
   },
   {
    "duration": 154,
    "start_time": "2022-11-05T01:04:14.449Z"
   },
   {
    "duration": 156,
    "start_time": "2022-11-05T01:04:24.065Z"
   },
   {
    "duration": 6,
    "start_time": "2022-11-05T01:05:42.973Z"
   },
   {
    "duration": 182,
    "start_time": "2022-11-05T01:06:58.867Z"
   },
   {
    "duration": 268,
    "start_time": "2022-11-05T01:07:02.571Z"
   },
   {
    "duration": 146,
    "start_time": "2022-11-05T01:07:34.668Z"
   },
   {
    "duration": 352,
    "start_time": "2022-11-05T01:07:38.386Z"
   },
   {
    "duration": 1171,
    "start_time": "2022-11-05T01:07:56.498Z"
   },
   {
    "duration": 69,
    "start_time": "2022-11-05T01:08:02.829Z"
   },
   {
    "duration": 176,
    "start_time": "2022-11-05T01:08:07.466Z"
   },
   {
    "duration": 138,
    "start_time": "2022-11-05T01:08:13.791Z"
   },
   {
    "duration": 132,
    "start_time": "2022-11-05T01:08:34.896Z"
   },
   {
    "duration": 133,
    "start_time": "2022-11-05T01:09:29.486Z"
   },
   {
    "duration": 324,
    "start_time": "2022-11-05T01:09:47.425Z"
   },
   {
    "duration": 261,
    "start_time": "2022-11-05T01:10:14.595Z"
   },
   {
    "duration": 148,
    "start_time": "2022-11-05T01:11:04.177Z"
   },
   {
    "duration": 271,
    "start_time": "2022-11-05T01:11:36.639Z"
   },
   {
    "duration": 146,
    "start_time": "2022-11-05T01:12:13.669Z"
   },
   {
    "duration": 258,
    "start_time": "2022-11-05T01:12:16.933Z"
   },
   {
    "duration": 1158,
    "start_time": "2022-11-05T01:12:31.336Z"
   },
   {
    "duration": 66,
    "start_time": "2022-11-05T01:12:34.661Z"
   },
   {
    "duration": 162,
    "start_time": "2022-11-05T01:12:38.439Z"
   },
   {
    "duration": 147,
    "start_time": "2022-11-05T01:12:47.343Z"
   },
   {
    "duration": 320,
    "start_time": "2022-11-05T01:12:51.574Z"
   },
   {
    "duration": 179,
    "start_time": "2022-11-05T01:13:02.527Z"
   },
   {
    "duration": 192,
    "start_time": "2022-11-05T01:13:05.694Z"
   },
   {
    "duration": 160,
    "start_time": "2022-11-05T01:13:10.718Z"
   },
   {
    "duration": 160,
    "start_time": "2022-11-05T01:13:38.589Z"
   },
   {
    "duration": 158,
    "start_time": "2022-11-05T01:13:50.297Z"
   },
   {
    "duration": 4,
    "start_time": "2022-11-05T01:15:04.909Z"
   },
   {
    "duration": 182,
    "start_time": "2022-11-05T01:15:18.505Z"
   },
   {
    "duration": 158,
    "start_time": "2022-11-05T01:15:36.550Z"
   },
   {
    "duration": 157,
    "start_time": "2022-11-05T01:15:58.197Z"
   },
   {
    "duration": 158,
    "start_time": "2022-11-05T01:16:19.933Z"
   },
   {
    "duration": 238,
    "start_time": "2022-11-05T01:17:48.093Z"
   },
   {
    "duration": 178,
    "start_time": "2022-11-05T01:17:59.369Z"
   },
   {
    "duration": 173,
    "start_time": "2022-11-05T01:18:05.209Z"
   },
   {
    "duration": 45,
    "start_time": "2022-11-05T01:18:17.638Z"
   },
   {
    "duration": 172,
    "start_time": "2022-11-05T01:18:23.526Z"
   },
   {
    "duration": 170,
    "start_time": "2022-11-05T01:18:49.418Z"
   },
   {
    "duration": 165,
    "start_time": "2022-11-05T01:18:58.131Z"
   },
   {
    "duration": 164,
    "start_time": "2022-11-05T01:19:06.289Z"
   },
   {
    "duration": 119,
    "start_time": "2022-11-05T01:19:56.994Z"
   },
   {
    "duration": 114,
    "start_time": "2022-11-05T01:23:47.897Z"
   },
   {
    "duration": 162,
    "start_time": "2022-11-05T01:24:14.069Z"
   },
   {
    "duration": 159,
    "start_time": "2022-11-05T01:24:41.659Z"
   },
   {
    "duration": 239,
    "start_time": "2022-11-05T01:25:02.878Z"
   },
   {
    "duration": 6,
    "start_time": "2022-11-05T01:25:08.684Z"
   },
   {
    "duration": 3,
    "start_time": "2022-11-05T01:25:32.215Z"
   },
   {
    "duration": 7,
    "start_time": "2022-11-05T01:25:51.719Z"
   },
   {
    "duration": 6,
    "start_time": "2022-11-05T03:40:16.015Z"
   },
   {
    "duration": 6,
    "start_time": "2022-11-05T03:40:31.500Z"
   },
   {
    "duration": 7,
    "start_time": "2022-11-05T03:40:50.727Z"
   },
   {
    "duration": 7,
    "start_time": "2022-11-05T03:41:04.828Z"
   },
   {
    "duration": 7,
    "start_time": "2022-11-05T03:41:34.080Z"
   },
   {
    "duration": 6,
    "start_time": "2022-11-05T03:42:07.729Z"
   },
   {
    "duration": 25,
    "start_time": "2022-11-05T03:42:20.141Z"
   },
   {
    "duration": 25,
    "start_time": "2022-11-05T03:42:45.850Z"
   },
   {
    "duration": 16,
    "start_time": "2022-11-05T03:43:04.742Z"
   },
   {
    "duration": 272,
    "start_time": "2022-11-05T03:46:20.280Z"
   },
   {
    "duration": 1146,
    "start_time": "2022-11-05T03:46:40.963Z"
   },
   {
    "duration": 70,
    "start_time": "2022-11-05T03:46:53.615Z"
   },
   {
    "duration": 162,
    "start_time": "2022-11-05T03:47:10.431Z"
   },
   {
    "duration": 145,
    "start_time": "2022-11-05T03:47:43.378Z"
   },
   {
    "duration": 310,
    "start_time": "2022-11-05T03:47:49.114Z"
   },
   {
    "duration": 176,
    "start_time": "2022-11-05T03:47:56.414Z"
   },
   {
    "duration": 191,
    "start_time": "2022-11-05T03:48:00.422Z"
   },
   {
    "duration": 164,
    "start_time": "2022-11-05T03:48:03.958Z"
   },
   {
    "duration": 16,
    "start_time": "2022-11-05T03:48:12.282Z"
   },
   {
    "duration": 23,
    "start_time": "2022-11-05T03:48:27.338Z"
   },
   {
    "duration": 172,
    "start_time": "2022-11-05T03:49:48.236Z"
   },
   {
    "duration": 204,
    "start_time": "2022-11-05T03:50:03.967Z"
   },
   {
    "duration": 156,
    "start_time": "2022-11-05T03:50:12.155Z"
   },
   {
    "duration": 196,
    "start_time": "2022-11-05T03:50:20.227Z"
   },
   {
    "duration": 162,
    "start_time": "2022-11-05T03:54:33.691Z"
   },
   {
    "duration": 185,
    "start_time": "2022-11-05T03:54:52.696Z"
   },
   {
    "duration": 244,
    "start_time": "2022-11-05T03:55:29.139Z"
   },
   {
    "duration": 222,
    "start_time": "2022-11-05T03:56:15.621Z"
   },
   {
    "duration": 193,
    "start_time": "2022-11-05T03:56:42.431Z"
   },
   {
    "duration": 187,
    "start_time": "2022-11-05T03:56:51.635Z"
   },
   {
    "duration": 194,
    "start_time": "2022-11-05T03:56:59.808Z"
   },
   {
    "duration": 191,
    "start_time": "2022-11-05T03:57:45.527Z"
   },
   {
    "duration": 175,
    "start_time": "2022-11-05T03:58:20.624Z"
   },
   {
    "duration": 170,
    "start_time": "2022-11-05T03:58:32.936Z"
   },
   {
    "duration": 188,
    "start_time": "2022-11-05T03:58:41.554Z"
   },
   {
    "duration": 182,
    "start_time": "2022-11-05T03:58:55.649Z"
   },
   {
    "duration": 173,
    "start_time": "2022-11-05T04:03:31.732Z"
   },
   {
    "duration": 270,
    "start_time": "2022-11-05T04:03:49.360Z"
   },
   {
    "duration": 166,
    "start_time": "2022-11-05T04:04:03.828Z"
   },
   {
    "duration": 167,
    "start_time": "2022-11-05T04:04:10.625Z"
   },
   {
    "duration": 170,
    "start_time": "2022-11-05T04:04:17.056Z"
   },
   {
    "duration": 171,
    "start_time": "2022-11-05T04:04:23.848Z"
   },
   {
    "duration": 183,
    "start_time": "2022-11-05T04:04:38.303Z"
   },
   {
    "duration": 186,
    "start_time": "2022-11-05T04:04:48.731Z"
   },
   {
    "duration": 184,
    "start_time": "2022-11-05T04:08:05.823Z"
   },
   {
    "duration": 175,
    "start_time": "2022-11-05T04:08:21.451Z"
   },
   {
    "duration": 172,
    "start_time": "2022-11-05T04:08:34.979Z"
   },
   {
    "duration": 197,
    "start_time": "2022-11-05T04:08:48.909Z"
   },
   {
    "duration": 244,
    "start_time": "2022-11-05T04:08:58.013Z"
   },
   {
    "duration": 183,
    "start_time": "2022-11-05T04:09:20.377Z"
   },
   {
    "duration": 158,
    "start_time": "2022-11-05T04:11:27.980Z"
   },
   {
    "duration": 172,
    "start_time": "2022-11-05T04:11:44.957Z"
   },
   {
    "duration": 161,
    "start_time": "2022-11-05T04:11:51.664Z"
   },
   {
    "duration": 157,
    "start_time": "2022-11-05T04:12:01.877Z"
   },
   {
    "duration": 155,
    "start_time": "2022-11-05T04:13:06.357Z"
   },
   {
    "duration": 169,
    "start_time": "2022-11-05T04:13:15.685Z"
   },
   {
    "duration": 159,
    "start_time": "2022-11-05T04:16:34.666Z"
   },
   {
    "duration": 166,
    "start_time": "2022-11-05T04:18:00.698Z"
   },
   {
    "duration": 268,
    "start_time": "2022-11-05T04:18:05.653Z"
   },
   {
    "duration": 1176,
    "start_time": "2022-11-05T04:18:22.025Z"
   },
   {
    "duration": 75,
    "start_time": "2022-11-05T04:18:25.737Z"
   },
   {
    "duration": 207,
    "start_time": "2022-11-05T04:18:28.774Z"
   },
   {
    "duration": 157,
    "start_time": "2022-11-05T04:18:37.966Z"
   },
   {
    "duration": 324,
    "start_time": "2022-11-05T04:18:43.614Z"
   },
   {
    "duration": 1119,
    "start_time": "2022-11-05T04:19:26.261Z"
   },
   {
    "duration": 68,
    "start_time": "2022-11-05T04:19:33.534Z"
   },
   {
    "duration": 162,
    "start_time": "2022-11-05T04:19:36.714Z"
   },
   {
    "duration": 131,
    "start_time": "2022-11-05T04:19:47.105Z"
   },
   {
    "duration": 323,
    "start_time": "2022-11-05T04:19:50.225Z"
   },
   {
    "duration": 177,
    "start_time": "2022-11-05T04:20:02.138Z"
   },
   {
    "duration": 185,
    "start_time": "2022-11-05T04:20:26.474Z"
   },
   {
    "duration": 165,
    "start_time": "2022-11-05T04:21:03.098Z"
   },
   {
    "duration": 180,
    "start_time": "2022-11-05T04:21:12.758Z"
   },
   {
    "duration": 161,
    "start_time": "2022-11-05T04:21:19.270Z"
   },
   {
    "duration": 178,
    "start_time": "2022-11-05T04:22:00.621Z"
   },
   {
    "duration": 169,
    "start_time": "2022-11-05T04:22:15.869Z"
   },
   {
    "duration": 157,
    "start_time": "2022-11-05T04:22:24.290Z"
   },
   {
    "duration": 174,
    "start_time": "2022-11-05T04:22:35.001Z"
   },
   {
    "duration": 223,
    "start_time": "2022-11-05T04:22:43.890Z"
   },
   {
    "duration": 172,
    "start_time": "2022-11-05T04:23:05.094Z"
   },
   {
    "duration": 160,
    "start_time": "2022-11-05T04:23:26.226Z"
   },
   {
    "duration": 166,
    "start_time": "2022-11-05T04:23:43.390Z"
   },
   {
    "duration": 186,
    "start_time": "2022-11-05T04:24:01.685Z"
   },
   {
    "duration": 174,
    "start_time": "2022-11-05T04:27:42.400Z"
   },
   {
    "duration": 165,
    "start_time": "2022-11-05T04:27:49.604Z"
   },
   {
    "duration": 165,
    "start_time": "2022-11-05T04:27:55.365Z"
   },
   {
    "duration": 172,
    "start_time": "2022-11-05T04:28:01.460Z"
   },
   {
    "duration": 181,
    "start_time": "2022-11-05T04:28:07.044Z"
   },
   {
    "duration": 160,
    "start_time": "2022-11-05T04:28:13.844Z"
   },
   {
    "duration": 231,
    "start_time": "2022-11-05T04:29:14.141Z"
   },
   {
    "duration": 169,
    "start_time": "2022-11-05T04:29:30.942Z"
   },
   {
    "duration": 185,
    "start_time": "2022-11-05T04:29:43.609Z"
   },
   {
    "duration": 169,
    "start_time": "2022-11-05T04:29:56.473Z"
   },
   {
    "duration": 172,
    "start_time": "2022-11-05T04:30:13.329Z"
   },
   {
    "duration": 171,
    "start_time": "2022-11-05T04:30:22.382Z"
   },
   {
    "duration": 49,
    "start_time": "2022-11-05T04:36:13.322Z"
   },
   {
    "duration": 161,
    "start_time": "2022-11-05T04:36:27.135Z"
   },
   {
    "duration": 168,
    "start_time": "2022-11-05T04:36:55.274Z"
   },
   {
    "duration": 183,
    "start_time": "2022-11-05T04:37:41.891Z"
   },
   {
    "duration": 163,
    "start_time": "2022-11-05T04:37:56.371Z"
   },
   {
    "duration": 169,
    "start_time": "2022-11-05T04:38:07.711Z"
   },
   {
    "duration": 242,
    "start_time": "2022-11-05T04:38:16.240Z"
   },
   {
    "duration": 168,
    "start_time": "2022-11-05T04:39:43.088Z"
   },
   {
    "duration": 73,
    "start_time": "2022-11-05T04:41:50.400Z"
   },
   {
    "duration": 50,
    "start_time": "2022-11-05T04:43:56.297Z"
   },
   {
    "duration": 15,
    "start_time": "2022-11-05T04:45:59.904Z"
   },
   {
    "duration": 14,
    "start_time": "2022-11-05T04:46:53.283Z"
   },
   {
    "duration": 15,
    "start_time": "2022-11-05T04:47:04.211Z"
   },
   {
    "duration": 1311,
    "start_time": "2022-11-05T04:50:40.558Z"
   },
   {
    "duration": 84,
    "start_time": "2022-11-05T04:50:41.871Z"
   },
   {
    "duration": 185,
    "start_time": "2022-11-05T04:50:41.957Z"
   },
   {
    "duration": 171,
    "start_time": "2022-11-05T04:50:42.144Z"
   },
   {
    "duration": 402,
    "start_time": "2022-11-05T04:50:42.317Z"
   },
   {
    "duration": 216,
    "start_time": "2022-11-05T04:50:42.723Z"
   },
   {
    "duration": 211,
    "start_time": "2022-11-05T04:50:42.941Z"
   },
   {
    "duration": 194,
    "start_time": "2022-11-05T04:50:43.154Z"
   },
   {
    "duration": 192,
    "start_time": "2022-11-05T04:50:43.350Z"
   },
   {
    "duration": 195,
    "start_time": "2022-11-05T04:50:43.544Z"
   },
   {
    "duration": 174,
    "start_time": "2022-11-05T04:50:43.741Z"
   },
   {
    "duration": 180,
    "start_time": "2022-11-05T04:50:43.917Z"
   },
   {
    "duration": 1484,
    "start_time": "2022-11-05T04:56:52.313Z"
   },
   {
    "duration": 84,
    "start_time": "2022-11-05T04:56:53.799Z"
   },
   {
    "duration": 227,
    "start_time": "2022-11-05T04:56:53.884Z"
   },
   {
    "duration": 161,
    "start_time": "2022-11-05T04:56:54.122Z"
   },
   {
    "duration": 384,
    "start_time": "2022-11-05T04:56:54.285Z"
   },
   {
    "duration": 193,
    "start_time": "2022-11-05T04:56:54.670Z"
   },
   {
    "duration": 206,
    "start_time": "2022-11-05T04:56:54.865Z"
   },
   {
    "duration": 180,
    "start_time": "2022-11-05T04:56:55.073Z"
   },
   {
    "duration": 180,
    "start_time": "2022-11-05T04:56:55.254Z"
   },
   {
    "duration": 209,
    "start_time": "2022-11-05T04:56:55.436Z"
   },
   {
    "duration": 213,
    "start_time": "2022-11-05T04:56:55.647Z"
   },
   {
    "duration": 207,
    "start_time": "2022-11-05T04:56:55.862Z"
   },
   {
    "duration": 1398,
    "start_time": "2022-11-05T05:05:26.274Z"
   },
   {
    "duration": 81,
    "start_time": "2022-11-05T05:05:27.674Z"
   },
   {
    "duration": 196,
    "start_time": "2022-11-05T05:05:27.756Z"
   },
   {
    "duration": 159,
    "start_time": "2022-11-05T05:05:27.953Z"
   },
   {
    "duration": 352,
    "start_time": "2022-11-05T05:05:28.115Z"
   },
   {
    "duration": 201,
    "start_time": "2022-11-05T05:05:28.468Z"
   },
   {
    "duration": 193,
    "start_time": "2022-11-05T05:05:28.671Z"
   },
   {
    "duration": 239,
    "start_time": "2022-11-05T05:05:28.865Z"
   },
   {
    "duration": 217,
    "start_time": "2022-11-05T05:05:29.105Z"
   },
   {
    "duration": 185,
    "start_time": "2022-11-05T05:05:29.324Z"
   },
   {
    "duration": 172,
    "start_time": "2022-11-05T05:05:29.510Z"
   },
   {
    "duration": 174,
    "start_time": "2022-11-05T05:05:29.684Z"
   },
   {
    "duration": 5,
    "start_time": "2022-11-05T05:05:29.860Z"
   },
   {
    "duration": 8,
    "start_time": "2022-11-05T05:06:32.810Z"
   },
   {
    "duration": 89,
    "start_time": "2022-11-05T05:07:13.409Z"
   },
   {
    "duration": 118,
    "start_time": "2022-11-05T05:10:09.373Z"
   },
   {
    "duration": 126,
    "start_time": "2022-11-05T05:11:14.950Z"
   },
   {
    "duration": 193,
    "start_time": "2022-11-05T05:11:34.567Z"
   },
   {
    "duration": 144,
    "start_time": "2022-11-05T05:11:48.732Z"
   },
   {
    "duration": 150,
    "start_time": "2022-11-05T05:12:12.086Z"
   },
   {
    "duration": 151,
    "start_time": "2022-11-05T05:12:21.590Z"
   },
   {
    "duration": 179,
    "start_time": "2022-11-05T05:18:48.817Z"
   },
   {
    "duration": 174,
    "start_time": "2022-11-05T05:25:24.193Z"
   },
   {
    "duration": 187,
    "start_time": "2022-11-05T05:25:38.296Z"
   },
   {
    "duration": 195,
    "start_time": "2022-11-05T05:25:49.468Z"
   },
   {
    "duration": 178,
    "start_time": "2022-11-05T05:25:57.047Z"
   },
   {
    "duration": 172,
    "start_time": "2022-11-05T05:26:35.984Z"
   },
   {
    "duration": 219,
    "start_time": "2022-11-05T05:27:07.009Z"
   },
   {
    "duration": 225,
    "start_time": "2022-11-05T05:27:16.226Z"
   },
   {
    "duration": 171,
    "start_time": "2022-11-05T05:27:29.316Z"
   },
   {
    "duration": 170,
    "start_time": "2022-11-05T05:27:36.584Z"
   },
   {
    "duration": 177,
    "start_time": "2022-11-05T05:27:49.130Z"
   },
   {
    "duration": 172,
    "start_time": "2022-11-05T05:28:00.837Z"
   },
   {
    "duration": 168,
    "start_time": "2022-11-05T05:28:43.863Z"
   },
   {
    "duration": 169,
    "start_time": "2022-11-05T05:29:10.804Z"
   },
   {
    "duration": 173,
    "start_time": "2022-11-05T05:29:19.876Z"
   },
   {
    "duration": 171,
    "start_time": "2022-11-05T05:29:44.278Z"
   },
   {
    "duration": 175,
    "start_time": "2022-11-05T05:34:28.691Z"
   },
   {
    "duration": 49,
    "start_time": "2022-11-05T05:37:31.159Z"
   },
   {
    "duration": 155,
    "start_time": "2022-11-05T05:40:10.835Z"
   },
   {
    "duration": 168,
    "start_time": "2022-11-05T05:40:27.976Z"
   },
   {
    "duration": 250,
    "start_time": "2022-11-05T05:40:37.650Z"
   },
   {
    "duration": 191,
    "start_time": "2022-11-05T05:40:45.565Z"
   },
   {
    "duration": 168,
    "start_time": "2022-11-05T05:40:55.250Z"
   },
   {
    "duration": 165,
    "start_time": "2022-11-05T05:41:00.085Z"
   },
   {
    "duration": 164,
    "start_time": "2022-11-05T05:41:09.179Z"
   },
   {
    "duration": 163,
    "start_time": "2022-11-05T05:41:16.170Z"
   },
   {
    "duration": 156,
    "start_time": "2022-11-05T05:41:28.262Z"
   },
   {
    "duration": 173,
    "start_time": "2022-11-05T05:41:37.258Z"
   },
   {
    "duration": 164,
    "start_time": "2022-11-05T05:41:44.512Z"
   },
   {
    "duration": 160,
    "start_time": "2022-11-05T05:41:58.345Z"
   },
   {
    "duration": 246,
    "start_time": "2022-11-05T05:42:08.945Z"
   },
   {
    "duration": 169,
    "start_time": "2022-11-05T05:42:20.037Z"
   },
   {
    "duration": 166,
    "start_time": "2022-11-05T05:42:54.249Z"
   },
   {
    "duration": 167,
    "start_time": "2022-11-05T06:31:04.664Z"
   },
   {
    "duration": 259,
    "start_time": "2022-11-05T06:31:24.109Z"
   },
   {
    "duration": 201,
    "start_time": "2022-11-05T06:31:37.349Z"
   },
   {
    "duration": 199,
    "start_time": "2022-11-05T06:31:50.235Z"
   },
   {
    "duration": 164,
    "start_time": "2022-11-05T06:33:06.153Z"
   },
   {
    "duration": 161,
    "start_time": "2022-11-05T06:35:14.887Z"
   },
   {
    "duration": 191,
    "start_time": "2022-11-05T06:36:22.908Z"
   },
   {
    "duration": 183,
    "start_time": "2022-11-05T06:36:34.495Z"
   },
   {
    "duration": 168,
    "start_time": "2022-11-05T06:37:16.426Z"
   },
   {
    "duration": 163,
    "start_time": "2022-11-05T06:37:32.605Z"
   },
   {
    "duration": 170,
    "start_time": "2022-11-05T06:42:00.019Z"
   },
   {
    "duration": 171,
    "start_time": "2022-11-05T06:46:21.326Z"
   },
   {
    "duration": 158,
    "start_time": "2022-11-05T06:46:36.262Z"
   },
   {
    "duration": 184,
    "start_time": "2022-11-05T06:47:00.264Z"
   },
   {
    "duration": 184,
    "start_time": "2022-11-05T06:47:18.649Z"
   },
   {
    "duration": 170,
    "start_time": "2022-11-05T06:48:41.655Z"
   },
   {
    "duration": 172,
    "start_time": "2022-11-05T06:49:10.073Z"
   },
   {
    "duration": 300,
    "start_time": "2022-11-05T06:49:26.450Z"
   },
   {
    "duration": 198,
    "start_time": "2022-11-05T06:49:40.474Z"
   },
   {
    "duration": 178,
    "start_time": "2022-11-05T06:49:52.178Z"
   },
   {
    "duration": 182,
    "start_time": "2022-11-05T06:50:35.366Z"
   },
   {
    "duration": 242,
    "start_time": "2022-11-05T06:50:48.894Z"
   },
   {
    "duration": 641,
    "start_time": "2022-11-05T06:54:53.925Z"
   },
   {
    "duration": 1086,
    "start_time": "2022-11-05T06:55:02.524Z"
   },
   {
    "duration": 160,
    "start_time": "2022-11-05T06:59:56.258Z"
   },
   {
    "duration": 184,
    "start_time": "2022-11-05T07:00:07.042Z"
   },
   {
    "duration": 167,
    "start_time": "2022-11-05T07:00:14.340Z"
   },
   {
    "duration": 185,
    "start_time": "2022-11-05T07:00:21.622Z"
   },
   {
    "duration": 184,
    "start_time": "2022-11-05T07:00:38.270Z"
   },
   {
    "duration": 233,
    "start_time": "2022-11-05T07:00:48.901Z"
   },
   {
    "duration": 188,
    "start_time": "2022-11-05T07:00:58.385Z"
   },
   {
    "duration": 193,
    "start_time": "2022-11-05T07:03:02.717Z"
   },
   {
    "duration": 174,
    "start_time": "2022-11-05T07:48:37.910Z"
   },
   {
    "duration": 171,
    "start_time": "2022-11-05T07:48:51.117Z"
   },
   {
    "duration": 162,
    "start_time": "2022-11-05T07:49:10.168Z"
   },
   {
    "duration": 175,
    "start_time": "2022-11-05T07:50:03.020Z"
   },
   {
    "duration": 165,
    "start_time": "2022-11-05T07:50:23.813Z"
   },
   {
    "duration": 175,
    "start_time": "2022-11-05T07:50:39.903Z"
   },
   {
    "duration": 327,
    "start_time": "2022-11-05T07:50:58.265Z"
   },
   {
    "duration": 177,
    "start_time": "2022-11-05T07:51:14.999Z"
   },
   {
    "duration": 326,
    "start_time": "2022-11-05T07:52:19.400Z"
   },
   {
    "duration": 302,
    "start_time": "2022-11-05T07:52:30.040Z"
   },
   {
    "duration": 329,
    "start_time": "2022-11-05T07:52:34.687Z"
   },
   {
    "duration": 366,
    "start_time": "2022-11-05T07:52:50.050Z"
   },
   {
    "duration": 47,
    "start_time": "2022-11-05T07:56:22.674Z"
   },
   {
    "duration": 154,
    "start_time": "2022-11-05T08:07:56.896Z"
   },
   {
    "duration": 159,
    "start_time": "2022-11-05T08:08:15.912Z"
   },
   {
    "duration": 169,
    "start_time": "2022-11-05T08:09:05.837Z"
   },
   {
    "duration": 178,
    "start_time": "2022-11-05T08:10:56.241Z"
   },
   {
    "duration": 179,
    "start_time": "2022-11-05T08:11:23.938Z"
   },
   {
    "duration": 201,
    "start_time": "2022-11-05T08:11:34.058Z"
   },
   {
    "duration": 179,
    "start_time": "2022-11-05T08:11:45.810Z"
   },
   {
    "duration": 183,
    "start_time": "2022-11-05T08:12:07.578Z"
   },
   {
    "duration": 174,
    "start_time": "2022-11-05T08:15:54.177Z"
   },
   {
    "duration": 256,
    "start_time": "2022-11-05T08:16:18.845Z"
   },
   {
    "duration": 63,
    "start_time": "2022-11-05T08:18:49.867Z"
   },
   {
    "duration": 235,
    "start_time": "2022-11-05T08:19:28.918Z"
   },
   {
    "duration": 191,
    "start_time": "2022-11-05T08:19:48.097Z"
   },
   {
    "duration": 338,
    "start_time": "2022-11-05T08:20:06.489Z"
   },
   {
    "duration": 179,
    "start_time": "2022-11-05T08:20:11.966Z"
   },
   {
    "duration": 49,
    "start_time": "2022-11-05T08:20:32.620Z"
   },
   {
    "duration": 47,
    "start_time": "2022-11-05T08:20:41.672Z"
   },
   {
    "duration": 177,
    "start_time": "2022-11-05T08:21:55.929Z"
   },
   {
    "duration": 189,
    "start_time": "2022-11-05T08:23:07.280Z"
   },
   {
    "duration": 176,
    "start_time": "2022-11-05T09:05:48.505Z"
   },
   {
    "duration": 181,
    "start_time": "2022-11-05T09:07:59.738Z"
   },
   {
    "duration": 227,
    "start_time": "2022-11-05T09:08:07.051Z"
   },
   {
    "duration": 180,
    "start_time": "2022-11-05T09:08:21.629Z"
   },
   {
    "duration": 191,
    "start_time": "2022-11-05T09:08:35.019Z"
   },
   {
    "duration": 186,
    "start_time": "2022-11-05T09:09:15.120Z"
   },
   {
    "duration": 180,
    "start_time": "2022-11-05T09:15:36.616Z"
   },
   {
    "duration": 184,
    "start_time": "2022-11-05T09:16:39.242Z"
   },
   {
    "duration": 185,
    "start_time": "2022-11-05T09:17:33.685Z"
   },
   {
    "duration": 191,
    "start_time": "2022-11-05T09:18:49.993Z"
   },
   {
    "duration": 8,
    "start_time": "2022-11-05T09:19:53.034Z"
   },
   {
    "duration": 18,
    "start_time": "2022-11-05T09:20:33.005Z"
   },
   {
    "duration": 116,
    "start_time": "2022-11-05T09:20:45.339Z"
   },
   {
    "duration": 115,
    "start_time": "2022-11-05T09:21:12.590Z"
   },
   {
    "duration": 115,
    "start_time": "2022-11-05T09:22:26.790Z"
   },
   {
    "duration": 1203,
    "start_time": "2022-11-05T09:24:55.296Z"
   },
   {
    "duration": 68,
    "start_time": "2022-11-05T09:24:59.483Z"
   },
   {
    "duration": 164,
    "start_time": "2022-11-05T09:25:11.944Z"
   },
   {
    "duration": 131,
    "start_time": "2022-11-05T09:25:46.236Z"
   },
   {
    "duration": 309,
    "start_time": "2022-11-05T09:25:49.676Z"
   },
   {
    "duration": 198,
    "start_time": "2022-11-05T09:25:52.840Z"
   },
   {
    "duration": 1276,
    "start_time": "2022-11-05T09:26:05.133Z"
   },
   {
    "duration": 88,
    "start_time": "2022-11-05T09:26:06.412Z"
   },
   {
    "duration": 208,
    "start_time": "2022-11-05T09:26:06.503Z"
   },
   {
    "duration": 153,
    "start_time": "2022-11-05T09:26:06.723Z"
   },
   {
    "duration": 377,
    "start_time": "2022-11-05T09:26:06.877Z"
   },
   {
    "duration": 220,
    "start_time": "2022-11-05T09:26:07.256Z"
   },
   {
    "duration": 277,
    "start_time": "2022-11-05T09:26:07.479Z"
   },
   {
    "duration": 204,
    "start_time": "2022-11-05T09:26:07.758Z"
   },
   {
    "duration": 203,
    "start_time": "2022-11-05T09:26:07.964Z"
   },
   {
    "duration": 228,
    "start_time": "2022-11-05T09:26:08.169Z"
   },
   {
    "duration": 185,
    "start_time": "2022-11-05T09:26:08.399Z"
   },
   {
    "duration": 185,
    "start_time": "2022-11-05T09:26:08.586Z"
   },
   {
    "duration": 190,
    "start_time": "2022-11-05T09:26:08.772Z"
   },
   {
    "duration": 266,
    "start_time": "2022-11-05T09:26:08.964Z"
   },
   {
    "duration": 312,
    "start_time": "2022-11-05T09:26:09.232Z"
   },
   {
    "duration": 219,
    "start_time": "2022-11-05T09:26:09.547Z"
   },
   {
    "duration": 242,
    "start_time": "2022-11-05T09:26:09.768Z"
   },
   {
    "duration": 357,
    "start_time": "2022-11-05T09:26:10.012Z"
   },
   {
    "duration": 212,
    "start_time": "2022-11-05T09:26:10.370Z"
   },
   {
    "duration": 114,
    "start_time": "2022-11-05T09:26:10.584Z"
   },
   {
    "duration": 148,
    "start_time": "2022-11-05T10:13:15.329Z"
   },
   {
    "duration": 162,
    "start_time": "2022-11-05T10:14:21.811Z"
   },
   {
    "duration": 143,
    "start_time": "2022-11-05T10:14:30.178Z"
   },
   {
    "duration": 150,
    "start_time": "2022-11-05T10:14:44.344Z"
   },
   {
    "duration": 1235,
    "start_time": "2022-11-05T10:20:58.303Z"
   },
   {
    "duration": 70,
    "start_time": "2022-11-05T10:21:14.734Z"
   },
   {
    "duration": 164,
    "start_time": "2022-11-05T10:21:17.931Z"
   },
   {
    "duration": 84,
    "start_time": "2022-11-05T10:21:33.907Z"
   },
   {
    "duration": 18,
    "start_time": "2022-11-05T10:25:34.318Z"
   },
   {
    "duration": 1217,
    "start_time": "2022-11-05T10:25:47.093Z"
   },
   {
    "duration": 68,
    "start_time": "2022-11-05T10:25:50.037Z"
   },
   {
    "duration": 167,
    "start_time": "2022-11-05T10:25:53.398Z"
   },
   {
    "duration": 19,
    "start_time": "2022-11-05T10:25:58.515Z"
   },
   {
    "duration": 20,
    "start_time": "2022-11-05T10:26:31.697Z"
   },
   {
    "duration": 1185,
    "start_time": "2022-11-05T10:26:45.981Z"
   },
   {
    "duration": 84,
    "start_time": "2022-11-05T10:26:49.535Z"
   },
   {
    "duration": 162,
    "start_time": "2022-11-05T10:26:52.431Z"
   },
   {
    "duration": 21,
    "start_time": "2022-11-05T10:26:56.372Z"
   },
   {
    "duration": 179,
    "start_time": "2022-11-05T10:28:09.721Z"
   },
   {
    "duration": 323,
    "start_time": "2022-11-05T10:28:17.244Z"
   },
   {
    "duration": 183,
    "start_time": "2022-11-05T10:28:21.323Z"
   },
   {
    "duration": 203,
    "start_time": "2022-11-05T10:29:01.477Z"
   },
   {
    "duration": 176,
    "start_time": "2022-11-05T10:29:09.972Z"
   },
   {
    "duration": 172,
    "start_time": "2022-11-05T10:29:57.200Z"
   },
   {
    "duration": 160,
    "start_time": "2022-11-05T10:30:05.828Z"
   },
   {
    "duration": 170,
    "start_time": "2022-11-05T10:30:24.001Z"
   },
   {
    "duration": 182,
    "start_time": "2022-11-05T10:31:07.908Z"
   },
   {
    "duration": 159,
    "start_time": "2022-11-05T10:31:29.216Z"
   },
   {
    "duration": 173,
    "start_time": "2022-11-05T10:31:35.648Z"
   },
   {
    "duration": 217,
    "start_time": "2022-11-05T10:32:04.799Z"
   },
   {
    "duration": 145,
    "start_time": "2022-11-05T10:32:26.616Z"
   },
   {
    "duration": 204,
    "start_time": "2022-11-05T10:33:49.916Z"
   },
   {
    "duration": 178,
    "start_time": "2022-11-05T10:34:51.273Z"
   },
   {
    "duration": 176,
    "start_time": "2022-11-05T10:34:55.473Z"
   },
   {
    "duration": 192,
    "start_time": "2022-11-05T10:35:03.121Z"
   },
   {
    "duration": 179,
    "start_time": "2022-11-05T10:35:09.156Z"
   },
   {
    "duration": 168,
    "start_time": "2022-11-05T10:35:16.309Z"
   },
   {
    "duration": 183,
    "start_time": "2022-11-05T10:35:21.831Z"
   },
   {
    "duration": 353,
    "start_time": "2022-11-05T10:35:29.151Z"
   },
   {
    "duration": 281,
    "start_time": "2022-11-05T10:35:41.447Z"
   },
   {
    "duration": 157,
    "start_time": "2022-11-05T10:35:55.474Z"
   },
   {
    "duration": 140,
    "start_time": "2022-11-05T10:36:00.822Z"
   },
   {
    "duration": 136,
    "start_time": "2022-11-05T10:36:41.746Z"
   },
   {
    "duration": 970,
    "start_time": "2022-11-05T10:37:16.035Z"
   },
   {
    "duration": 263,
    "start_time": "2022-11-05T10:37:40.047Z"
   },
   {
    "duration": 381,
    "start_time": "2022-11-05T10:40:54.463Z"
   },
   {
    "duration": 89,
    "start_time": "2022-11-05T10:42:02.746Z"
   },
   {
    "duration": 543,
    "start_time": "2022-11-05T10:42:14.418Z"
   },
   {
    "duration": 656,
    "start_time": "2022-11-05T10:45:31.244Z"
   },
   {
    "duration": 531,
    "start_time": "2022-11-05T10:46:25.893Z"
   },
   {
    "duration": 538,
    "start_time": "2022-11-05T11:01:13.864Z"
   },
   {
    "duration": 1161,
    "start_time": "2022-11-05T11:02:52.869Z"
   },
   {
    "duration": 70,
    "start_time": "2022-11-05T11:02:54.032Z"
   },
   {
    "duration": 169,
    "start_time": "2022-11-05T11:02:54.121Z"
   },
   {
    "duration": 153,
    "start_time": "2022-11-05T11:02:54.292Z"
   },
   {
    "duration": 329,
    "start_time": "2022-11-05T11:02:54.448Z"
   },
   {
    "duration": 190,
    "start_time": "2022-11-05T11:02:54.779Z"
   },
   {
    "duration": 199,
    "start_time": "2022-11-05T11:02:54.970Z"
   },
   {
    "duration": 169,
    "start_time": "2022-11-05T11:02:55.170Z"
   },
   {
    "duration": 175,
    "start_time": "2022-11-05T11:02:55.340Z"
   },
   {
    "duration": 202,
    "start_time": "2022-11-05T11:02:55.517Z"
   },
   {
    "duration": 180,
    "start_time": "2022-11-05T11:02:55.722Z"
   },
   {
    "duration": 171,
    "start_time": "2022-11-05T11:02:55.904Z"
   },
   {
    "duration": 147,
    "start_time": "2022-11-05T11:02:56.076Z"
   },
   {
    "duration": 177,
    "start_time": "2022-11-05T11:02:56.226Z"
   },
   {
    "duration": 212,
    "start_time": "2022-11-05T11:02:56.404Z"
   },
   {
    "duration": 169,
    "start_time": "2022-11-05T11:02:56.617Z"
   },
   {
    "duration": 191,
    "start_time": "2022-11-05T11:02:56.789Z"
   },
   {
    "duration": 359,
    "start_time": "2022-11-05T11:02:56.982Z"
   },
   {
    "duration": 202,
    "start_time": "2022-11-05T11:02:57.343Z"
   },
   {
    "duration": 125,
    "start_time": "2022-11-05T11:02:57.546Z"
   },
   {
    "duration": 1288,
    "start_time": "2022-11-05T11:04:01.094Z"
   },
   {
    "duration": 81,
    "start_time": "2022-11-05T11:04:02.384Z"
   },
   {
    "duration": 181,
    "start_time": "2022-11-05T11:04:02.466Z"
   },
   {
    "duration": 153,
    "start_time": "2022-11-05T11:04:02.648Z"
   },
   {
    "duration": 363,
    "start_time": "2022-11-05T11:04:02.802Z"
   },
   {
    "duration": 209,
    "start_time": "2022-11-05T11:04:03.167Z"
   },
   {
    "duration": 192,
    "start_time": "2022-11-05T11:04:03.377Z"
   },
   {
    "duration": 167,
    "start_time": "2022-11-05T11:04:03.571Z"
   },
   {
    "duration": 187,
    "start_time": "2022-11-05T11:04:03.739Z"
   },
   {
    "duration": 185,
    "start_time": "2022-11-05T11:04:03.929Z"
   },
   {
    "duration": 175,
    "start_time": "2022-11-05T11:04:04.115Z"
   },
   {
    "duration": 170,
    "start_time": "2022-11-05T11:04:04.292Z"
   },
   {
    "duration": 159,
    "start_time": "2022-11-05T11:04:04.464Z"
   },
   {
    "duration": 178,
    "start_time": "2022-11-05T11:04:04.625Z"
   },
   {
    "duration": 230,
    "start_time": "2022-11-05T11:04:04.805Z"
   },
   {
    "duration": 191,
    "start_time": "2022-11-05T11:04:05.037Z"
   },
   {
    "duration": 184,
    "start_time": "2022-11-05T11:04:05.230Z"
   },
   {
    "duration": 351,
    "start_time": "2022-11-05T11:04:05.421Z"
   },
   {
    "duration": 188,
    "start_time": "2022-11-05T11:04:05.774Z"
   },
   {
    "duration": 118,
    "start_time": "2022-11-05T11:04:05.964Z"
   },
   {
    "duration": 538,
    "start_time": "2022-11-05T11:04:06.084Z"
   },
   {
    "duration": 59,
    "start_time": "2022-11-05T18:20:39.875Z"
   },
   {
    "duration": 52,
    "start_time": "2022-11-05T18:20:58.623Z"
   },
   {
    "duration": 1721,
    "start_time": "2022-11-05T18:21:14.188Z"
   },
   {
    "duration": 82,
    "start_time": "2022-11-05T18:21:15.912Z"
   },
   {
    "duration": 251,
    "start_time": "2022-11-05T18:21:15.995Z"
   },
   {
    "duration": 169,
    "start_time": "2022-11-05T18:21:16.248Z"
   },
   {
    "duration": 316,
    "start_time": "2022-11-05T18:21:16.421Z"
   },
   {
    "duration": 225,
    "start_time": "2022-11-05T18:21:16.739Z"
   },
   {
    "duration": 248,
    "start_time": "2022-11-05T18:21:16.966Z"
   },
   {
    "duration": 207,
    "start_time": "2022-11-05T18:21:17.220Z"
   },
   {
    "duration": 194,
    "start_time": "2022-11-05T18:21:17.429Z"
   },
   {
    "duration": 214,
    "start_time": "2022-11-05T18:21:17.626Z"
   },
   {
    "duration": 206,
    "start_time": "2022-11-05T18:21:17.842Z"
   },
   {
    "duration": 192,
    "start_time": "2022-11-05T18:21:18.050Z"
   },
   {
    "duration": 170,
    "start_time": "2022-11-05T18:21:18.243Z"
   },
   {
    "duration": 254,
    "start_time": "2022-11-05T18:21:18.415Z"
   },
   {
    "duration": 198,
    "start_time": "2022-11-05T18:21:18.671Z"
   },
   {
    "duration": 234,
    "start_time": "2022-11-05T18:21:18.871Z"
   },
   {
    "duration": 250,
    "start_time": "2022-11-05T18:21:19.108Z"
   },
   {
    "duration": 394,
    "start_time": "2022-11-05T18:21:19.360Z"
   },
   {
    "duration": 249,
    "start_time": "2022-11-05T18:21:19.756Z"
   },
   {
    "duration": 151,
    "start_time": "2022-11-05T18:21:20.007Z"
   },
   {
    "duration": 480,
    "start_time": "2022-11-05T18:21:20.160Z"
   },
   {
    "duration": 543,
    "start_time": "2022-11-05T18:21:36.942Z"
   },
   {
    "duration": 613,
    "start_time": "2022-11-05T18:22:11.926Z"
   },
   {
    "duration": 673,
    "start_time": "2022-11-05T18:23:07.520Z"
   },
   {
    "duration": 753,
    "start_time": "2022-11-05T18:24:01.554Z"
   },
   {
    "duration": 894,
    "start_time": "2022-11-05T18:31:05.194Z"
   },
   {
    "duration": 1174,
    "start_time": "2022-11-05T18:34:24.718Z"
   },
   {
    "duration": 1184,
    "start_time": "2022-11-05T18:36:41.752Z"
   },
   {
    "duration": 1306,
    "start_time": "2022-11-05T18:38:30.223Z"
   },
   {
    "duration": 1240,
    "start_time": "2022-11-05T18:39:04.234Z"
   },
   {
    "duration": 1213,
    "start_time": "2022-11-05T18:39:26.607Z"
   },
   {
    "duration": 48,
    "start_time": "2022-11-05T18:40:22.415Z"
   },
   {
    "duration": 1311,
    "start_time": "2022-11-05T18:40:35.358Z"
   },
   {
    "duration": 1272,
    "start_time": "2022-11-05T18:41:09.524Z"
   },
   {
    "duration": 1278,
    "start_time": "2022-11-05T18:41:24.297Z"
   },
   {
    "duration": 1431,
    "start_time": "2022-11-05T18:41:41.549Z"
   },
   {
    "duration": 1259,
    "start_time": "2022-11-05T18:43:23.432Z"
   },
   {
    "duration": 1289,
    "start_time": "2022-11-05T18:45:23.821Z"
   },
   {
    "duration": 1479,
    "start_time": "2022-11-05T18:45:44.107Z"
   },
   {
    "duration": 1246,
    "start_time": "2022-11-05T18:45:59.667Z"
   },
   {
    "duration": 1402,
    "start_time": "2022-11-05T18:46:41.169Z"
   },
   {
    "duration": 50,
    "start_time": "2022-11-05T19:03:44.379Z"
   },
   {
    "duration": 1282,
    "start_time": "2022-11-05T19:03:54.084Z"
   },
   {
    "duration": 1450,
    "start_time": "2022-11-05T19:14:46.501Z"
   },
   {
    "duration": 1417,
    "start_time": "2022-11-05T19:19:12.950Z"
   },
   {
    "duration": 1260,
    "start_time": "2022-11-05T19:19:29.685Z"
   },
   {
    "duration": 1365,
    "start_time": "2022-11-05T19:20:20.561Z"
   },
   {
    "duration": 1206,
    "start_time": "2022-11-05T19:20:39.385Z"
   },
   {
    "duration": 1609,
    "start_time": "2022-11-06T04:20:03.303Z"
   },
   {
    "duration": 78,
    "start_time": "2022-11-06T04:20:04.914Z"
   },
   {
    "duration": 244,
    "start_time": "2022-11-06T04:20:04.993Z"
   },
   {
    "duration": 181,
    "start_time": "2022-11-06T04:20:05.240Z"
   },
   {
    "duration": 290,
    "start_time": "2022-11-06T04:20:05.422Z"
   },
   {
    "duration": 192,
    "start_time": "2022-11-06T04:20:05.714Z"
   },
   {
    "duration": 196,
    "start_time": "2022-11-06T04:20:05.908Z"
   },
   {
    "duration": 173,
    "start_time": "2022-11-06T04:20:06.106Z"
   },
   {
    "duration": 177,
    "start_time": "2022-11-06T04:20:06.281Z"
   },
   {
    "duration": 189,
    "start_time": "2022-11-06T04:20:06.461Z"
   },
   {
    "duration": 172,
    "start_time": "2022-11-06T04:20:06.652Z"
   },
   {
    "duration": 190,
    "start_time": "2022-11-06T04:20:06.825Z"
   },
   {
    "duration": 161,
    "start_time": "2022-11-06T04:20:07.017Z"
   },
   {
    "duration": 230,
    "start_time": "2022-11-06T04:20:07.179Z"
   },
   {
    "duration": 177,
    "start_time": "2022-11-06T04:20:07.411Z"
   },
   {
    "duration": 180,
    "start_time": "2022-11-06T04:20:07.590Z"
   },
   {
    "duration": 192,
    "start_time": "2022-11-06T04:20:07.771Z"
   },
   {
    "duration": 345,
    "start_time": "2022-11-06T04:20:07.964Z"
   },
   {
    "duration": 196,
    "start_time": "2022-11-06T04:20:08.311Z"
   },
   {
    "duration": 129,
    "start_time": "2022-11-06T04:20:08.510Z"
   },
   {
    "duration": 1188,
    "start_time": "2022-11-06T04:20:08.640Z"
   },
   {
    "duration": 10,
    "start_time": "2022-11-06T04:21:12.208Z"
   },
   {
    "duration": 13,
    "start_time": "2022-11-06T04:21:55.617Z"
   },
   {
    "duration": 11,
    "start_time": "2022-11-06T04:28:47.525Z"
   },
   {
    "duration": 781,
    "start_time": "2022-11-06T04:31:51.607Z"
   },
   {
    "duration": 913,
    "start_time": "2022-11-06T04:34:03.425Z"
   },
   {
    "duration": 728,
    "start_time": "2022-11-06T04:34:54.105Z"
   },
   {
    "duration": 1208,
    "start_time": "2022-11-06T04:35:13.462Z"
   },
   {
    "duration": 69,
    "start_time": "2022-11-06T04:35:14.672Z"
   },
   {
    "duration": 193,
    "start_time": "2022-11-06T04:35:14.743Z"
   },
   {
    "duration": 163,
    "start_time": "2022-11-06T04:35:14.938Z"
   },
   {
    "duration": 358,
    "start_time": "2022-11-06T04:35:15.103Z"
   },
   {
    "duration": 203,
    "start_time": "2022-11-06T04:35:15.462Z"
   },
   {
    "duration": 192,
    "start_time": "2022-11-06T04:35:15.667Z"
   },
   {
    "duration": 184,
    "start_time": "2022-11-06T04:35:15.860Z"
   },
   {
    "duration": 173,
    "start_time": "2022-11-06T04:35:16.046Z"
   },
   {
    "duration": 189,
    "start_time": "2022-11-06T04:35:16.221Z"
   },
   {
    "duration": 174,
    "start_time": "2022-11-06T04:35:16.412Z"
   },
   {
    "duration": 166,
    "start_time": "2022-11-06T04:35:16.588Z"
   },
   {
    "duration": 152,
    "start_time": "2022-11-06T04:35:16.756Z"
   },
   {
    "duration": 229,
    "start_time": "2022-11-06T04:35:16.909Z"
   },
   {
    "duration": 233,
    "start_time": "2022-11-06T04:35:17.139Z"
   },
   {
    "duration": 187,
    "start_time": "2022-11-06T04:35:17.373Z"
   },
   {
    "duration": 198,
    "start_time": "2022-11-06T04:35:17.562Z"
   },
   {
    "duration": 365,
    "start_time": "2022-11-06T04:35:17.762Z"
   },
   {
    "duration": 234,
    "start_time": "2022-11-06T04:35:18.128Z"
   },
   {
    "duration": 153,
    "start_time": "2022-11-06T04:35:18.364Z"
   },
   {
    "duration": 1274,
    "start_time": "2022-11-06T04:35:18.519Z"
   },
   {
    "duration": 775,
    "start_time": "2022-11-06T04:35:19.795Z"
   },
   {
    "duration": 698,
    "start_time": "2022-11-06T04:37:31.290Z"
   },
   {
    "duration": 15,
    "start_time": "2022-11-06T04:37:51.195Z"
   },
   {
    "duration": 18,
    "start_time": "2022-11-06T04:38:08.874Z"
   },
   {
    "duration": 19,
    "start_time": "2022-11-06T04:39:01.608Z"
   },
   {
    "duration": 18,
    "start_time": "2022-11-06T04:39:15.615Z"
   },
   {
    "duration": 29,
    "start_time": "2022-11-06T04:41:07.811Z"
   },
   {
    "duration": 845,
    "start_time": "2022-11-06T04:42:17.799Z"
   },
   {
    "duration": 28,
    "start_time": "2022-11-06T04:42:29.154Z"
   },
   {
    "duration": 20,
    "start_time": "2022-11-06T04:42:53.970Z"
   },
   {
    "duration": 34,
    "start_time": "2022-11-06T04:43:01.933Z"
   },
   {
    "duration": 214,
    "start_time": "2022-11-06T04:44:09.117Z"
   },
   {
    "duration": 259,
    "start_time": "2022-11-06T04:45:05.584Z"
   },
   {
    "duration": 19,
    "start_time": "2022-11-06T04:45:23.362Z"
   },
   {
    "duration": 27,
    "start_time": "2022-11-06T04:45:34.431Z"
   },
   {
    "duration": 28,
    "start_time": "2022-11-06T04:47:36.468Z"
   },
   {
    "duration": 21,
    "start_time": "2022-11-06T04:48:26.191Z"
   },
   {
    "duration": 27,
    "start_time": "2022-11-06T04:48:36.844Z"
   },
   {
    "duration": 11,
    "start_time": "2022-11-06T05:08:47.586Z"
   },
   {
    "duration": 10,
    "start_time": "2022-11-06T05:09:24.169Z"
   },
   {
    "duration": 186,
    "start_time": "2022-11-06T05:10:39.410Z"
   },
   {
    "duration": 22,
    "start_time": "2022-11-06T05:11:03.107Z"
   },
   {
    "duration": 30,
    "start_time": "2022-11-06T05:11:13.178Z"
   },
   {
    "duration": 20,
    "start_time": "2022-11-06T05:13:57.181Z"
   },
   {
    "duration": 27,
    "start_time": "2022-11-06T05:14:02.493Z"
   },
   {
    "duration": 26,
    "start_time": "2022-11-06T05:14:23.913Z"
   },
   {
    "duration": 21,
    "start_time": "2022-11-06T05:15:33.075Z"
   },
   {
    "duration": 25,
    "start_time": "2022-11-06T05:15:42.211Z"
   },
   {
    "duration": 28,
    "start_time": "2022-11-06T05:15:56.486Z"
   },
   {
    "duration": 216,
    "start_time": "2022-11-06T05:23:21.850Z"
   },
   {
    "duration": 46,
    "start_time": "2022-11-06T05:25:20.517Z"
   },
   {
    "duration": 156,
    "start_time": "2022-11-06T05:25:26.800Z"
   },
   {
    "duration": 129,
    "start_time": "2022-11-06T05:25:52.820Z"
   },
   {
    "duration": 140,
    "start_time": "2022-11-06T05:26:01.800Z"
   },
   {
    "duration": 193,
    "start_time": "2022-11-06T05:27:07.340Z"
   },
   {
    "duration": 197,
    "start_time": "2022-11-06T05:28:19.473Z"
   },
   {
    "duration": 220,
    "start_time": "2022-11-06T05:29:02.309Z"
   },
   {
    "duration": 238,
    "start_time": "2022-11-06T05:33:58.781Z"
   },
   {
    "duration": 231,
    "start_time": "2022-11-06T05:36:32.136Z"
   },
   {
    "duration": 202,
    "start_time": "2022-11-06T05:37:01.912Z"
   },
   {
    "duration": 166,
    "start_time": "2022-11-06T05:38:16.376Z"
   },
   {
    "duration": 198,
    "start_time": "2022-11-06T05:39:08.603Z"
   },
   {
    "duration": 314,
    "start_time": "2022-11-06T05:40:24.372Z"
   },
   {
    "duration": 236,
    "start_time": "2022-11-06T05:40:38.005Z"
   },
   {
    "duration": 28,
    "start_time": "2022-11-06T05:41:51.679Z"
   },
   {
    "duration": 32,
    "start_time": "2022-11-06T05:42:05.524Z"
   },
   {
    "duration": 28,
    "start_time": "2022-11-06T05:42:32.020Z"
   },
   {
    "duration": 33,
    "start_time": "2022-11-06T05:42:46.843Z"
   },
   {
    "duration": 231,
    "start_time": "2022-11-06T05:43:14.367Z"
   },
   {
    "duration": 229,
    "start_time": "2022-11-06T05:53:39.282Z"
   },
   {
    "duration": 8,
    "start_time": "2022-11-06T08:33:02.943Z"
   },
   {
    "duration": 7,
    "start_time": "2022-11-06T08:33:21.529Z"
   },
   {
    "duration": 50,
    "start_time": "2022-11-06T08:33:37.886Z"
   },
   {
    "duration": 11,
    "start_time": "2022-11-06T08:36:40.457Z"
   },
   {
    "duration": 47,
    "start_time": "2022-11-06T08:37:02.000Z"
   },
   {
    "duration": 31,
    "start_time": "2022-11-06T08:38:35.067Z"
   },
   {
    "duration": 42,
    "start_time": "2022-11-06T08:40:05.228Z"
   },
   {
    "duration": 53,
    "start_time": "2022-11-06T08:41:15.680Z"
   },
   {
    "duration": 10,
    "start_time": "2022-11-06T08:41:42.616Z"
   },
   {
    "duration": 50,
    "start_time": "2022-11-06T08:41:49.311Z"
   },
   {
    "duration": 45,
    "start_time": "2022-11-06T08:42:56.048Z"
   },
   {
    "duration": 45,
    "start_time": "2022-11-06T08:45:59.117Z"
   },
   {
    "duration": 14,
    "start_time": "2022-11-06T08:46:26.526Z"
   },
   {
    "duration": 20,
    "start_time": "2022-11-06T08:46:33.378Z"
   },
   {
    "duration": 28,
    "start_time": "2022-11-06T08:47:01.096Z"
   },
   {
    "duration": 22,
    "start_time": "2022-11-06T08:47:12.260Z"
   },
   {
    "duration": 28,
    "start_time": "2022-11-06T08:49:25.014Z"
   },
   {
    "duration": 24,
    "start_time": "2022-11-06T08:49:47.589Z"
   },
   {
    "duration": 29,
    "start_time": "2022-11-06T08:50:00.461Z"
   },
   {
    "duration": 162,
    "start_time": "2022-11-06T08:51:10.776Z"
   },
   {
    "duration": 168,
    "start_time": "2022-11-06T08:55:19.211Z"
   },
   {
    "duration": 154,
    "start_time": "2022-11-06T08:57:36.227Z"
   },
   {
    "duration": 186,
    "start_time": "2022-11-06T08:57:48.887Z"
   },
   {
    "duration": 1407,
    "start_time": "2022-11-06T13:31:31.965Z"
   },
   {
    "duration": 65,
    "start_time": "2022-11-06T13:31:33.374Z"
   },
   {
    "duration": 307,
    "start_time": "2022-11-06T13:31:33.441Z"
   },
   {
    "duration": 256,
    "start_time": "2022-11-06T13:31:33.750Z"
   },
   {
    "duration": 454,
    "start_time": "2022-11-06T13:31:34.008Z"
   },
   {
    "duration": 252,
    "start_time": "2022-11-06T13:31:34.463Z"
   },
   {
    "duration": 423,
    "start_time": "2022-11-06T13:31:34.716Z"
   },
   {
    "duration": 304,
    "start_time": "2022-11-06T13:31:35.202Z"
   },
   {
    "duration": 298,
    "start_time": "2022-11-06T13:31:35.507Z"
   },
   {
    "duration": 313,
    "start_time": "2022-11-06T13:31:35.806Z"
   },
   {
    "duration": 284,
    "start_time": "2022-11-06T13:31:36.121Z"
   },
   {
    "duration": 300,
    "start_time": "2022-11-06T13:31:36.406Z"
   },
   {
    "duration": 237,
    "start_time": "2022-11-06T13:31:36.708Z"
   },
   {
    "duration": 486,
    "start_time": "2022-11-06T13:31:36.947Z"
   },
   {
    "duration": 303,
    "start_time": "2022-11-06T13:31:37.435Z"
   },
   {
    "duration": 301,
    "start_time": "2022-11-06T13:31:37.740Z"
   },
   {
    "duration": 376,
    "start_time": "2022-11-06T13:31:38.043Z"
   },
   {
    "duration": 620,
    "start_time": "2022-11-06T13:31:38.420Z"
   },
   {
    "duration": 382,
    "start_time": "2022-11-06T13:31:39.041Z"
   },
   {
    "duration": 208,
    "start_time": "2022-11-06T13:31:39.424Z"
   },
   {
    "duration": 2205,
    "start_time": "2022-11-06T13:31:39.634Z"
   },
   {
    "duration": 406,
    "start_time": "2022-11-06T13:31:41.841Z"
   },
   {
    "duration": 401,
    "start_time": "2022-11-06T13:31:42.304Z"
   },
   {
    "duration": 12,
    "start_time": "2022-11-06T13:34:20.382Z"
   },
   {
    "duration": 75,
    "start_time": "2022-11-06T13:34:27.653Z"
   },
   {
    "duration": 6,
    "start_time": "2022-11-06T13:34:46.168Z"
   },
   {
    "duration": 1112,
    "start_time": "2022-11-06T13:35:07.122Z"
   },
   {
    "duration": 73,
    "start_time": "2022-11-06T13:35:08.236Z"
   },
   {
    "duration": 154,
    "start_time": "2022-11-06T13:35:08.310Z"
   },
   {
    "duration": 129,
    "start_time": "2022-11-06T13:35:08.466Z"
   },
   {
    "duration": 61,
    "start_time": "2022-11-06T13:35:08.596Z"
   },
   {
    "duration": 309,
    "start_time": "2022-11-06T13:35:08.658Z"
   },
   {
    "duration": 175,
    "start_time": "2022-11-06T13:35:08.969Z"
   },
   {
    "duration": 183,
    "start_time": "2022-11-06T13:35:09.146Z"
   },
   {
    "duration": 174,
    "start_time": "2022-11-06T13:35:09.331Z"
   },
   {
    "duration": 167,
    "start_time": "2022-11-06T13:35:09.508Z"
   },
   {
    "duration": 200,
    "start_time": "2022-11-06T13:35:09.676Z"
   },
   {
    "duration": 204,
    "start_time": "2022-11-06T13:35:09.878Z"
   },
   {
    "duration": 193,
    "start_time": "2022-11-06T13:35:10.083Z"
   },
   {
    "duration": 173,
    "start_time": "2022-11-06T13:35:10.277Z"
   },
   {
    "duration": 202,
    "start_time": "2022-11-06T13:35:10.452Z"
   },
   {
    "duration": 245,
    "start_time": "2022-11-06T13:35:10.656Z"
   },
   {
    "duration": 195,
    "start_time": "2022-11-06T13:35:10.903Z"
   },
   {
    "duration": 206,
    "start_time": "2022-11-06T13:35:11.100Z"
   },
   {
    "duration": 378,
    "start_time": "2022-11-06T13:35:11.307Z"
   },
   {
    "duration": 188,
    "start_time": "2022-11-06T13:35:11.687Z"
   },
   {
    "duration": 120,
    "start_time": "2022-11-06T13:35:11.877Z"
   },
   {
    "duration": 1050,
    "start_time": "2022-11-06T13:35:12.003Z"
   },
   {
    "duration": 280,
    "start_time": "2022-11-06T13:35:13.055Z"
   },
   {
    "duration": 169,
    "start_time": "2022-11-06T13:35:13.336Z"
   },
   {
    "duration": 7,
    "start_time": "2022-11-06T13:35:55.335Z"
   },
   {
    "duration": 5,
    "start_time": "2022-11-06T13:35:59.763Z"
   },
   {
    "duration": 47,
    "start_time": "2022-11-07T04:44:45.411Z"
   },
   {
    "duration": 775,
    "start_time": "2022-11-07T04:44:49.559Z"
   },
   {
    "duration": 862,
    "start_time": "2022-11-07T04:44:50.819Z"
   },
   {
    "duration": 611,
    "start_time": "2022-11-07T04:45:42.617Z"
   },
   {
    "duration": 43,
    "start_time": "2022-11-07T04:46:15.066Z"
   },
   {
    "duration": 39,
    "start_time": "2022-11-07T04:46:27.322Z"
   },
   {
    "duration": 44,
    "start_time": "2022-11-07T04:46:51.929Z"
   },
   {
    "duration": 2052,
    "start_time": "2022-11-07T04:52:32.589Z"
   },
   {
    "duration": 2140,
    "start_time": "2022-11-07T04:58:53.385Z"
   },
   {
    "duration": 55,
    "start_time": "2022-11-07T05:01:19.916Z"
   },
   {
    "duration": 2107,
    "start_time": "2022-11-07T05:05:32.925Z"
   },
   {
    "duration": 2109,
    "start_time": "2022-11-07T05:05:51.129Z"
   },
   {
    "duration": 2031,
    "start_time": "2022-11-07T05:06:20.669Z"
   },
   {
    "duration": 14,
    "start_time": "2022-11-07T05:29:57.717Z"
   },
   {
    "duration": 70,
    "start_time": "2022-11-07T05:30:13.914Z"
   },
   {
    "duration": 8,
    "start_time": "2022-11-07T05:30:16.358Z"
   },
   {
    "duration": 4,
    "start_time": "2022-11-07T05:30:18.243Z"
   },
   {
    "duration": 7,
    "start_time": "2022-11-07T05:30:19.751Z"
   },
   {
    "duration": 6,
    "start_time": "2022-11-07T05:30:21.194Z"
   },
   {
    "duration": 4,
    "start_time": "2022-11-07T05:30:23.611Z"
   },
   {
    "duration": 56,
    "start_time": "2022-11-07T05:30:25.218Z"
   },
   {
    "duration": 14,
    "start_time": "2022-11-07T05:32:53.675Z"
   },
   {
    "duration": 12,
    "start_time": "2022-11-07T05:32:55.599Z"
   },
   {
    "duration": 113,
    "start_time": "2022-11-07T05:32:57.019Z"
   },
   {
    "duration": 30,
    "start_time": "2022-11-07T05:33:01.304Z"
   },
   {
    "duration": 60,
    "start_time": "2022-11-07T05:33:54.001Z"
   },
   {
    "duration": 36,
    "start_time": "2022-11-07T05:44:22.045Z"
   },
   {
    "duration": 32,
    "start_time": "2022-11-07T05:44:42.032Z"
   },
   {
    "duration": 41,
    "start_time": "2022-11-07T05:45:06.995Z"
   },
   {
    "duration": 33,
    "start_time": "2022-11-07T05:45:33.009Z"
   },
   {
    "duration": 31,
    "start_time": "2022-11-07T05:46:29.009Z"
   },
   {
    "duration": 33,
    "start_time": "2022-11-07T05:46:36.157Z"
   },
   {
    "duration": 29,
    "start_time": "2022-11-07T05:57:16.732Z"
   },
   {
    "duration": 30,
    "start_time": "2022-11-07T05:57:27.660Z"
   },
   {
    "duration": 26,
    "start_time": "2022-11-07T05:57:44.593Z"
   },
   {
    "duration": 29,
    "start_time": "2022-11-07T05:59:23.029Z"
   },
   {
    "duration": 13,
    "start_time": "2022-11-07T06:01:08.209Z"
   },
   {
    "duration": 14,
    "start_time": "2022-11-07T06:01:18.822Z"
   },
   {
    "duration": 102,
    "start_time": "2022-11-07T06:01:21.857Z"
   },
   {
    "duration": 29,
    "start_time": "2022-11-07T06:01:35.957Z"
   },
   {
    "duration": 31,
    "start_time": "2022-11-07T06:03:40.717Z"
   },
   {
    "duration": 28,
    "start_time": "2022-11-07T06:04:05.051Z"
   },
   {
    "duration": 25,
    "start_time": "2022-11-07T06:04:14.980Z"
   },
   {
    "duration": 43,
    "start_time": "2022-11-07T06:05:12.583Z"
   },
   {
    "duration": 24,
    "start_time": "2022-11-07T06:06:02.645Z"
   },
   {
    "duration": 2,
    "start_time": "2022-11-07T06:06:54.825Z"
   },
   {
    "duration": 1948,
    "start_time": "2022-11-07T06:07:00.481Z"
   },
   {
    "duration": 52,
    "start_time": "2022-11-07T06:07:22.465Z"
   },
   {
    "duration": 19,
    "start_time": "2022-11-07T06:07:53.634Z"
   },
   {
    "duration": 18,
    "start_time": "2022-11-07T06:08:06.947Z"
   },
   {
    "duration": 18,
    "start_time": "2022-11-07T06:08:59.247Z"
   },
   {
    "duration": 17,
    "start_time": "2022-11-07T06:09:04.531Z"
   },
   {
    "duration": 61,
    "start_time": "2022-11-07T06:09:06.499Z"
   },
   {
    "duration": 7,
    "start_time": "2022-11-07T06:09:07.691Z"
   },
   {
    "duration": 5,
    "start_time": "2022-11-07T06:09:08.495Z"
   },
   {
    "duration": 7,
    "start_time": "2022-11-07T06:09:09.139Z"
   },
   {
    "duration": 6,
    "start_time": "2022-11-07T06:09:09.983Z"
   },
   {
    "duration": 4,
    "start_time": "2022-11-07T06:09:10.923Z"
   },
   {
    "duration": 12,
    "start_time": "2022-11-07T06:09:28.971Z"
   },
   {
    "duration": 12,
    "start_time": "2022-11-07T06:09:31.463Z"
   },
   {
    "duration": 108,
    "start_time": "2022-11-07T06:09:34.442Z"
   },
   {
    "duration": 23,
    "start_time": "2022-11-07T06:10:14.481Z"
   },
   {
    "duration": 10,
    "start_time": "2022-11-07T06:12:48.870Z"
   },
   {
    "duration": 9,
    "start_time": "2022-11-07T06:14:16.773Z"
   },
   {
    "duration": 10,
    "start_time": "2022-11-07T06:14:41.913Z"
   },
   {
    "duration": 45,
    "start_time": "2022-11-07T06:14:58.469Z"
   },
   {
    "duration": 18,
    "start_time": "2022-11-07T06:15:19.432Z"
   },
   {
    "duration": 4,
    "start_time": "2022-11-07T06:15:31.676Z"
   },
   {
    "duration": 3,
    "start_time": "2022-11-07T06:16:03.800Z"
   },
   {
    "duration": 595,
    "start_time": "2022-11-07T06:16:25.321Z"
   },
   {
    "duration": 2095,
    "start_time": "2022-11-07T06:16:27.693Z"
   },
   {
    "duration": 2,
    "start_time": "2022-11-07T06:16:37.794Z"
   },
   {
    "duration": 5,
    "start_time": "2022-11-07T06:17:07.017Z"
   },
   {
    "duration": 3,
    "start_time": "2022-11-07T06:17:19.920Z"
   },
   {
    "duration": 17,
    "start_time": "2022-11-07T06:17:27.015Z"
   },
   {
    "duration": 57,
    "start_time": "2022-11-07T06:17:30.184Z"
   },
   {
    "duration": 7,
    "start_time": "2022-11-07T06:17:31.688Z"
   },
   {
    "duration": 5,
    "start_time": "2022-11-07T06:17:32.423Z"
   },
   {
    "duration": 6,
    "start_time": "2022-11-07T06:17:33.064Z"
   },
   {
    "duration": 6,
    "start_time": "2022-11-07T06:17:33.657Z"
   },
   {
    "duration": 5,
    "start_time": "2022-11-07T06:17:34.454Z"
   },
   {
    "duration": 51,
    "start_time": "2022-11-07T06:17:44.518Z"
   },
   {
    "duration": 12,
    "start_time": "2022-11-07T06:17:52.022Z"
   },
   {
    "duration": 14,
    "start_time": "2022-11-07T06:17:54.622Z"
   },
   {
    "duration": 107,
    "start_time": "2022-11-07T06:17:57.362Z"
   },
   {
    "duration": 21,
    "start_time": "2022-11-07T06:17:59.138Z"
   },
   {
    "duration": 6,
    "start_time": "2022-11-07T06:18:18.538Z"
   },
   {
    "duration": 74,
    "start_time": "2022-11-07T06:18:57.050Z"
   },
   {
    "duration": 3,
    "start_time": "2022-11-07T06:19:42.092Z"
   },
   {
    "duration": 3,
    "start_time": "2022-11-07T06:20:29.151Z"
   },
   {
    "duration": 4,
    "start_time": "2022-11-07T06:21:43.073Z"
   },
   {
    "duration": 4,
    "start_time": "2022-11-07T06:22:10.314Z"
   },
   {
    "duration": 4,
    "start_time": "2022-11-07T06:22:45.271Z"
   },
   {
    "duration": 68,
    "start_time": "2022-11-07T06:24:25.195Z"
   },
   {
    "duration": 8,
    "start_time": "2022-11-07T06:24:58.174Z"
   },
   {
    "duration": 3,
    "start_time": "2022-11-07T06:25:33.484Z"
   },
   {
    "duration": 3,
    "start_time": "2022-11-07T06:25:50.423Z"
   },
   {
    "duration": 5,
    "start_time": "2022-11-07T06:25:55.339Z"
   },
   {
    "duration": 4,
    "start_time": "2022-11-07T06:26:20.423Z"
   },
   {
    "duration": 44,
    "start_time": "2022-11-07T06:26:58.892Z"
   },
   {
    "duration": 7,
    "start_time": "2022-11-07T06:27:19.472Z"
   },
   {
    "duration": 4,
    "start_time": "2022-11-07T06:27:38.234Z"
   },
   {
    "duration": 3,
    "start_time": "2022-11-07T06:27:53.435Z"
   },
   {
    "duration": 4,
    "start_time": "2022-11-07T06:28:56.304Z"
   },
   {
    "duration": 9,
    "start_time": "2022-11-07T06:29:13.907Z"
   },
   {
    "duration": 4,
    "start_time": "2022-11-07T06:31:33.723Z"
   },
   {
    "duration": 10,
    "start_time": "2022-11-07T06:32:08.521Z"
   },
   {
    "duration": 9,
    "start_time": "2022-11-07T06:32:29.825Z"
   },
   {
    "duration": 16,
    "start_time": "2022-11-07T06:32:35.722Z"
   },
   {
    "duration": 10,
    "start_time": "2022-11-07T06:32:40.291Z"
   },
   {
    "duration": 49,
    "start_time": "2022-11-07T06:33:03.923Z"
   },
   {
    "duration": 301,
    "start_time": "2022-11-07T06:33:15.867Z"
   },
   {
    "duration": 14,
    "start_time": "2022-11-07T06:33:41.451Z"
   },
   {
    "duration": 298,
    "start_time": "2022-11-07T06:33:43.546Z"
   },
   {
    "duration": 255,
    "start_time": "2022-11-07T06:33:49.259Z"
   },
   {
    "duration": 205,
    "start_time": "2022-11-07T06:33:54.595Z"
   },
   {
    "duration": 173,
    "start_time": "2022-11-07T06:33:58.995Z"
   },
   {
    "duration": 194,
    "start_time": "2022-11-07T06:34:04.463Z"
   },
   {
    "duration": 202,
    "start_time": "2022-11-07T06:34:08.767Z"
   },
   {
    "duration": 170,
    "start_time": "2022-11-07T06:34:12.324Z"
   },
   {
    "duration": 192,
    "start_time": "2022-11-07T06:34:15.558Z"
   },
   {
    "duration": 147,
    "start_time": "2022-11-07T06:34:19.003Z"
   },
   {
    "duration": 186,
    "start_time": "2022-11-07T06:34:23.255Z"
   },
   {
    "duration": 190,
    "start_time": "2022-11-07T06:34:26.506Z"
   },
   {
    "duration": 187,
    "start_time": "2022-11-07T06:34:30.530Z"
   },
   {
    "duration": 206,
    "start_time": "2022-11-07T06:34:34.026Z"
   },
   {
    "duration": 429,
    "start_time": "2022-11-07T06:34:37.821Z"
   },
   {
    "duration": 2,
    "start_time": "2022-11-07T06:35:38.165Z"
   },
   {
    "duration": 214,
    "start_time": "2022-11-07T06:37:02.794Z"
   },
   {
    "duration": 212,
    "start_time": "2022-11-07T06:38:00.450Z"
   },
   {
    "duration": 176,
    "start_time": "2022-11-07T06:40:09.746Z"
   },
   {
    "duration": 211,
    "start_time": "2022-11-07T06:40:17.173Z"
   },
   {
    "duration": 220,
    "start_time": "2022-11-07T06:40:55.281Z"
   },
   {
    "duration": 199,
    "start_time": "2022-11-07T06:41:11.852Z"
   },
   {
    "duration": 214,
    "start_time": "2022-11-07T06:41:18.534Z"
   },
   {
    "duration": 211,
    "start_time": "2022-11-07T06:41:43.325Z"
   },
   {
    "duration": 417,
    "start_time": "2022-11-07T06:42:22.651Z"
   },
   {
    "duration": 222,
    "start_time": "2022-11-07T06:45:52.945Z"
   },
   {
    "duration": 203,
    "start_time": "2022-11-07T06:47:23.609Z"
   },
   {
    "duration": 206,
    "start_time": "2022-11-07T06:47:46.035Z"
   },
   {
    "duration": 175,
    "start_time": "2022-11-07T06:48:10.086Z"
   },
   {
    "duration": 191,
    "start_time": "2022-11-07T06:48:58.930Z"
   },
   {
    "duration": 191,
    "start_time": "2022-11-07T06:49:38.061Z"
   },
   {
    "duration": 206,
    "start_time": "2022-11-07T06:50:26.020Z"
   },
   {
    "duration": 180,
    "start_time": "2022-11-07T06:50:52.262Z"
   },
   {
    "duration": 195,
    "start_time": "2022-11-07T06:51:48.661Z"
   },
   {
    "duration": 189,
    "start_time": "2022-11-07T06:51:55.169Z"
   },
   {
    "duration": 152,
    "start_time": "2022-11-07T06:52:18.205Z"
   },
   {
    "duration": 158,
    "start_time": "2022-11-07T06:52:36.288Z"
   },
   {
    "duration": 178,
    "start_time": "2022-11-07T06:52:40.896Z"
   },
   {
    "duration": 186,
    "start_time": "2022-11-07T06:53:00.244Z"
   },
   {
    "duration": 209,
    "start_time": "2022-11-07T06:53:21.920Z"
   },
   {
    "duration": 182,
    "start_time": "2022-11-07T06:53:57.463Z"
   },
   {
    "duration": 337,
    "start_time": "2022-11-07T06:54:19.223Z"
   },
   {
    "duration": 218,
    "start_time": "2022-11-07T06:54:42.474Z"
   },
   {
    "duration": 194,
    "start_time": "2022-11-07T06:55:12.990Z"
   },
   {
    "duration": 201,
    "start_time": "2022-11-07T06:55:31.387Z"
   },
   {
    "duration": 369,
    "start_time": "2022-11-07T06:56:12.949Z"
   },
   {
    "duration": 402,
    "start_time": "2022-11-07T06:56:46.726Z"
   },
   {
    "duration": 199,
    "start_time": "2022-11-07T06:57:24.638Z"
   },
   {
    "duration": 227,
    "start_time": "2022-11-07T06:58:06.064Z"
   },
   {
    "duration": 117,
    "start_time": "2022-11-07T06:58:19.469Z"
   },
   {
    "duration": 801,
    "start_time": "2022-11-07T06:59:06.437Z"
   },
   {
    "duration": 497,
    "start_time": "2022-11-07T06:59:14.605Z"
   },
   {
    "duration": 245,
    "start_time": "2022-11-07T06:59:42.051Z"
   },
   {
    "duration": 243,
    "start_time": "2022-11-07T07:00:59.537Z"
   },
   {
    "duration": 359,
    "start_time": "2022-11-07T07:01:10.356Z"
   },
   {
    "duration": 203,
    "start_time": "2022-11-07T07:01:30.424Z"
   },
   {
    "duration": 199,
    "start_time": "2022-11-07T07:01:59.873Z"
   },
   {
    "duration": 45,
    "start_time": "2022-11-07T07:29:38.911Z"
   },
   {
    "duration": 631,
    "start_time": "2022-11-07T07:33:13.813Z"
   },
   {
    "duration": 2122,
    "start_time": "2022-11-07T07:33:14.446Z"
   },
   {
    "duration": 3,
    "start_time": "2022-11-07T07:33:16.570Z"
   },
   {
    "duration": 21,
    "start_time": "2022-11-07T07:33:16.575Z"
   },
   {
    "duration": 59,
    "start_time": "2022-11-07T07:33:16.598Z"
   },
   {
    "duration": 7,
    "start_time": "2022-11-07T07:33:16.659Z"
   },
   {
    "duration": 12,
    "start_time": "2022-11-07T07:33:16.667Z"
   },
   {
    "duration": 14,
    "start_time": "2022-11-07T07:33:16.681Z"
   },
   {
    "duration": 11,
    "start_time": "2022-11-07T07:33:16.696Z"
   },
   {
    "duration": 4,
    "start_time": "2022-11-07T07:33:16.710Z"
   },
   {
    "duration": 62,
    "start_time": "2022-11-07T07:33:16.715Z"
   },
   {
    "duration": 12,
    "start_time": "2022-11-07T07:33:16.779Z"
   },
   {
    "duration": 16,
    "start_time": "2022-11-07T07:33:16.793Z"
   },
   {
    "duration": 122,
    "start_time": "2022-11-07T07:33:16.811Z"
   },
   {
    "duration": 24,
    "start_time": "2022-11-07T07:33:16.935Z"
   },
   {
    "duration": 25,
    "start_time": "2022-11-07T07:33:16.961Z"
   },
   {
    "duration": 19,
    "start_time": "2022-11-07T07:33:16.989Z"
   },
   {
    "duration": 319,
    "start_time": "2022-11-07T07:33:17.010Z"
   },
   {
    "duration": 228,
    "start_time": "2022-11-07T07:33:17.331Z"
   },
   {
    "duration": 241,
    "start_time": "2022-11-07T07:33:17.561Z"
   },
   {
    "duration": 194,
    "start_time": "2022-11-07T07:33:17.804Z"
   },
   {
    "duration": 266,
    "start_time": "2022-11-07T07:33:18.000Z"
   },
   {
    "duration": 202,
    "start_time": "2022-11-07T07:33:18.268Z"
   },
   {
    "duration": 199,
    "start_time": "2022-11-07T07:33:18.477Z"
   },
   {
    "duration": 199,
    "start_time": "2022-11-07T07:33:18.678Z"
   },
   {
    "duration": 164,
    "start_time": "2022-11-07T07:33:18.878Z"
   },
   {
    "duration": 208,
    "start_time": "2022-11-07T07:33:19.044Z"
   },
   {
    "duration": 195,
    "start_time": "2022-11-07T07:33:19.255Z"
   },
   {
    "duration": 197,
    "start_time": "2022-11-07T07:33:19.451Z"
   },
   {
    "duration": 218,
    "start_time": "2022-11-07T07:33:19.649Z"
   },
   {
    "duration": 399,
    "start_time": "2022-11-07T07:33:19.868Z"
   },
   {
    "duration": 221,
    "start_time": "2022-11-07T07:33:20.269Z"
   },
   {
    "duration": 230,
    "start_time": "2022-11-07T07:33:20.493Z"
   },
   {
    "duration": 753,
    "start_time": "2022-11-07T07:33:20.725Z"
   },
   {
    "duration": 519,
    "start_time": "2022-11-07T07:33:21.479Z"
   },
   {
    "duration": 253,
    "start_time": "2022-11-07T07:33:22.000Z"
   },
   {
    "duration": 207,
    "start_time": "2022-11-07T07:33:22.255Z"
   },
   {
    "duration": 605,
    "start_time": "2022-11-08T06:47:55.955Z"
   },
   {
    "duration": 1981,
    "start_time": "2022-11-08T06:47:56.562Z"
   },
   {
    "duration": 3,
    "start_time": "2022-11-08T06:47:58.545Z"
   },
   {
    "duration": 23,
    "start_time": "2022-11-08T06:47:58.550Z"
   },
   {
    "duration": 72,
    "start_time": "2022-11-08T06:47:58.575Z"
   },
   {
    "duration": 7,
    "start_time": "2022-11-08T06:47:58.648Z"
   },
   {
    "duration": 7,
    "start_time": "2022-11-08T06:47:58.657Z"
   },
   {
    "duration": 13,
    "start_time": "2022-11-08T06:47:58.665Z"
   },
   {
    "duration": 10,
    "start_time": "2022-11-08T06:47:58.680Z"
   },
   {
    "duration": 17,
    "start_time": "2022-11-08T06:47:58.691Z"
   },
   {
    "duration": 58,
    "start_time": "2022-11-08T06:47:58.710Z"
   },
   {
    "duration": 11,
    "start_time": "2022-11-08T06:47:58.770Z"
   },
   {
    "duration": 11,
    "start_time": "2022-11-08T06:47:58.782Z"
   },
   {
    "duration": 130,
    "start_time": "2022-11-08T06:47:58.795Z"
   },
   {
    "duration": 27,
    "start_time": "2022-11-08T06:47:58.927Z"
   },
   {
    "duration": 8,
    "start_time": "2022-11-08T06:47:58.956Z"
   },
   {
    "duration": 31,
    "start_time": "2022-11-08T06:47:58.965Z"
   },
   {
    "duration": 284,
    "start_time": "2022-11-08T06:47:58.997Z"
   },
   {
    "duration": 214,
    "start_time": "2022-11-08T06:47:59.283Z"
   },
   {
    "duration": 207,
    "start_time": "2022-11-08T06:47:59.499Z"
   },
   {
    "duration": 188,
    "start_time": "2022-11-08T06:47:59.707Z"
   },
   {
    "duration": 251,
    "start_time": "2022-11-08T06:47:59.896Z"
   },
   {
    "duration": 215,
    "start_time": "2022-11-08T06:48:00.149Z"
   },
   {
    "duration": 205,
    "start_time": "2022-11-08T06:48:00.366Z"
   },
   {
    "duration": 208,
    "start_time": "2022-11-08T06:48:00.573Z"
   },
   {
    "duration": 154,
    "start_time": "2022-11-08T06:48:00.782Z"
   },
   {
    "duration": 201,
    "start_time": "2022-11-08T06:48:00.937Z"
   },
   {
    "duration": 186,
    "start_time": "2022-11-08T06:48:01.140Z"
   },
   {
    "duration": 192,
    "start_time": "2022-11-08T06:48:01.328Z"
   },
   {
    "duration": 202,
    "start_time": "2022-11-08T06:48:01.522Z"
   },
   {
    "duration": 414,
    "start_time": "2022-11-08T06:48:01.726Z"
   },
   {
    "duration": 218,
    "start_time": "2022-11-08T06:48:02.142Z"
   },
   {
    "duration": 214,
    "start_time": "2022-11-08T06:48:02.361Z"
   },
   {
    "duration": 697,
    "start_time": "2022-11-08T06:48:02.577Z"
   },
   {
    "duration": 511,
    "start_time": "2022-11-08T06:48:03.275Z"
   },
   {
    "duration": 325,
    "start_time": "2022-11-08T06:48:03.787Z"
   },
   {
    "duration": 216,
    "start_time": "2022-11-08T06:48:04.115Z"
   }
  ],
  "kernelspec": {
   "display_name": "Python 3 (ipykernel)",
   "language": "python",
   "name": "python3"
  },
  "language_info": {
   "codemirror_mode": {
    "name": "ipython",
    "version": 3
   },
   "file_extension": ".py",
   "mimetype": "text/x-python",
   "name": "python",
   "nbconvert_exporter": "python",
   "pygments_lexer": "ipython3",
   "version": "3.9.5"
  },
  "toc": {
   "base_numbering": 1,
   "nav_menu": {},
   "number_sections": true,
   "sideBar": true,
   "skip_h1_title": true,
   "title_cell": "Table of Contents",
   "title_sidebar": "Contents",
   "toc_cell": false,
   "toc_position": {},
   "toc_section_display": true,
   "toc_window_display": false
  }
 },
 "nbformat": 4,
 "nbformat_minor": 2
}
