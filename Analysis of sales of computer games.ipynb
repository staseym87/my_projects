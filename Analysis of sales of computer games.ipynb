{
 "cells": [
 
  {
   "cell_type": "markdown",
   "metadata": {},
   "source": [
    "**Analysis of sales of computer games** \n",
    "\n",
    "Perform an analysis of historical data on global sales of computer games, user and expert ratings up to 2016 and identify patterns that determine the success of games. The results will help you identify a potential product and plan advertising campaigns in the coming year. \n",
     "1. Before starting the analysis, perform data preprocessing: process omissions, duplicates, convert data to the required types. Calculate total sales in all regions.\n",
     "2. Conduct exploratory data analysis:\n",
     "- see how many games were released in different years, how sales changed by platform; \n",
     "- select platforms with the highest total sales and build distribution by years; \n",
     "- determine the current period for building a forecast for 2017;\n",
     "- see which platforms are leading in sales, select several potentially profitable platforms;\n",
     "- build a box-and-mustache plot of global game sales by platform;\n",
     "- evaluate the impact on sales within one popular platform reviews from users and critics;\n",
     "- build a scatterplot and calculate the correlation between reviews and sales; \n",
     "- correlate findings with sales of games on other platforms;\n",
     "- analyze the overall distribution of games by genre, determine the most profitable ones, highlight genres with high and low sales.\n",
     "3. Create a user profile for each region:\n",
     "- identify the most popular platforms (top 5), explain differences in sales shares;\n",
     "- identify the most popular genres (top 5), explain the difference;\n",
     "- determine the impact of the ESRB rating on sales in each region;\n",
     "4. Test hypotheses:\n",
     "- the average user ratings of the Xbox One and PC platforms are the same;\n",
     "- average user ratings for the Action and Sports genres are different.\n",
     "5. Formulate a general conclusion.\n",
     "\n"
   ]
  },
  {
   "cell_type": "markdown",
   "metadata": {},
   "source": [
    "\n",
    "\n",
    "<b>1. Loading data and displaying general information:</b> </div>"
   ]
  },
  {
   "cell_type": "code",
   "execution_count": 1,
   "metadata": {},
   "outputs": [],
   "source": [
   
    
    "import pandas as pd\n",
    "import warnings\n",
    "import matplotlib.pyplot as plt\n",
    "import numpy as np\n",
    "import seaborn as sns\n",
    "from scipy import stats as st\n"
   ]
  },
 
  {
   "cell_type": "code",
   "execution_count": 13,
   "metadata": {},
   "outputs": [
    {
     "data": {
      "text/html": [
       "<div>\n",
       "<style scoped>\n",
       "    .dataframe tbody tr th:only-of-type {\n",
       "        vertical-align: middle;\n",
       "    }\n",
       "\n",
       "    .dataframe tbody tr th {\n",
       "        vertical-align: top;\n",
       "    }\n",
       "\n",
       "    .dataframe thead th {\n",
       "        text-align: right;\n",
       "    }\n",
       "</style>\n",
       "<table border=\"1\" class=\"dataframe\">\n",
       "  <thead>\n",
       "    <tr style=\"text-align: right;\">\n",
       "      <th></th>\n",
       "      <th>Name</th>\n",
       "      <th>Platform</th>\n",
       "      <th>Year_of_Release</th>\n",
       "      <th>Genre</th>\n",
       "      <th>NA_sales</th>\n",
       "      <th>EU_sales</th>\n",
       "      <th>JP_sales</th>\n",
       "      <th>Other_sales</th>\n",
       "      <th>Critic_Score</th>\n",
       "      <th>User_Score</th>\n",
       "      <th>Rating</th>\n",
       "    </tr>\n",
       "  </thead>\n",
       "  <tbody>\n",
       "    <tr>\n",
       "      <th>0</th>\n",
       "      <td>Wii Sports</td>\n",
       "      <td>Wii</td>\n",
       "      <td>2006.0</td>\n",
       "      <td>Sports</td>\n",
       "      <td>41.36</td>\n",
       "      <td>28.96</td>\n",
       "      <td>3.77</td>\n",
       "      <td>8.45</td>\n",
       "      <td>76.0</td>\n",
       "      <td>8</td>\n",
       "      <td>E</td>\n",
       "    </tr>\n",
       "    <tr>\n",
       "      <th>1</th>\n",
       "      <td>Super Mario Bros.</td>\n",
       "      <td>NES</td>\n",
       "      <td>1985.0</td>\n",
       "      <td>Platform</td>\n",
       "      <td>29.08</td>\n",
       "      <td>3.58</td>\n",
       "      <td>6.81</td>\n",
       "      <td>0.77</td>\n",
       "      <td>NaN</td>\n",
       "      <td>NaN</td>\n",
       "      <td>NaN</td>\n",
       "    </tr>\n",
       "    <tr>\n",
       "      <th>2</th>\n",
       "      <td>Mario Kart Wii</td>\n",
       "      <td>Wii</td>\n",
       "      <td>2008.0</td>\n",
       "      <td>Racing</td>\n",
       "      <td>15.68</td>\n",
       "      <td>12.76</td>\n",
       "      <td>3.79</td>\n",
       "      <td>3.29</td>\n",
       "      <td>82.0</td>\n",
       "      <td>8.3</td>\n",
       "      <td>E</td>\n",
       "    </tr>\n",
       "    <tr>\n",
       "      <th>3</th>\n",
       "      <td>Wii Sports Resort</td>\n",
       "      <td>Wii</td>\n",
       "      <td>2009.0</td>\n",
       "      <td>Sports</td>\n",
       "      <td>15.61</td>\n",
       "      <td>10.93</td>\n",
       "      <td>3.28</td>\n",
       "      <td>2.95</td>\n",
       "      <td>80.0</td>\n",
       "      <td>8</td>\n",
       "      <td>E</td>\n",
       "    </tr>\n",
       "    <tr>\n",
       "      <th>4</th>\n",
       "      <td>Pokemon Red/Pokemon Blue</td>\n",
       "      <td>GB</td>\n",
       "      <td>1996.0</td>\n",
       "      <td>Role-Playing</td>\n",
       "      <td>11.27</td>\n",
       "      <td>8.89</td>\n",
       "      <td>10.22</td>\n",
       "      <td>1.00</td>\n",
       "      <td>NaN</td>\n",
       "      <td>NaN</td>\n",
       "      <td>NaN</td>\n",
       "    </tr>\n",
       "    <tr>\n",
       "      <th>5</th>\n",
       "      <td>Tetris</td>\n",
       "      <td>GB</td>\n",
       "      <td>1989.0</td>\n",
       "      <td>Puzzle</td>\n",
       "      <td>23.20</td>\n",
       "      <td>2.26</td>\n",
       "      <td>4.22</td>\n",
       "      <td>0.58</td>\n",
       "      <td>NaN</td>\n",
       "      <td>NaN</td>\n",
       "      <td>NaN</td>\n",
       "    </tr>\n",
       "    <tr>\n",
       "      <th>6</th>\n",
       "      <td>New Super Mario Bros.</td>\n",
       "      <td>DS</td>\n",
       "      <td>2006.0</td>\n",
       "      <td>Platform</td>\n",
       "      <td>11.28</td>\n",
       "      <td>9.14</td>\n",
       "      <td>6.50</td>\n",
       "      <td>2.88</td>\n",
       "      <td>89.0</td>\n",
       "      <td>8.5</td>\n",
       "      <td>E</td>\n",
       "    </tr>\n",
       "    <tr>\n",
       "      <th>7</th>\n",
       "      <td>Wii Play</td>\n",
       "      <td>Wii</td>\n",
       "      <td>2006.0</td>\n",
       "      <td>Misc</td>\n",
       "      <td>13.96</td>\n",
       "      <td>9.18</td>\n",
       "      <td>2.93</td>\n",
       "      <td>2.84</td>\n",
       "      <td>58.0</td>\n",
       "      <td>6.6</td>\n",
       "      <td>E</td>\n",
       "    </tr>\n",
       "    <tr>\n",
       "      <th>8</th>\n",
       "      <td>New Super Mario Bros. Wii</td>\n",
       "      <td>Wii</td>\n",
       "      <td>2009.0</td>\n",
       "      <td>Platform</td>\n",
       "      <td>14.44</td>\n",
       "      <td>6.94</td>\n",
       "      <td>4.70</td>\n",
       "      <td>2.24</td>\n",
       "      <td>87.0</td>\n",
       "      <td>8.4</td>\n",
       "      <td>E</td>\n",
       "    </tr>\n",
       "    <tr>\n",
       "      <th>9</th>\n",
       "      <td>Duck Hunt</td>\n",
       "      <td>NES</td>\n",
       "      <td>1984.0</td>\n",
       "      <td>Shooter</td>\n",
       "      <td>26.93</td>\n",
       "      <td>0.63</td>\n",
       "      <td>0.28</td>\n",
       "      <td>0.47</td>\n",
       "      <td>NaN</td>\n",
       "      <td>NaN</td>\n",
       "      <td>NaN</td>\n",
       "    </tr>\n",
       "  </tbody>\n",
       "</table>\n",
       "</div>"
      ],
      "text/plain": [
       "                        Name Platform  Year_of_Release         Genre  \\\n",
       "0                 Wii Sports      Wii           2006.0        Sports   \n",
       "1          Super Mario Bros.      NES           1985.0      Platform   \n",
       "2             Mario Kart Wii      Wii           2008.0        Racing   \n",
       "3          Wii Sports Resort      Wii           2009.0        Sports   \n",
       "4   Pokemon Red/Pokemon Blue       GB           1996.0  Role-Playing   \n",
       "5                     Tetris       GB           1989.0        Puzzle   \n",
       "6      New Super Mario Bros.       DS           2006.0      Platform   \n",
       "7                   Wii Play      Wii           2006.0          Misc   \n",
       "8  New Super Mario Bros. Wii      Wii           2009.0      Platform   \n",
       "9                  Duck Hunt      NES           1984.0       Shooter   \n",
       "\n",
       "   NA_sales  EU_sales  JP_sales  Other_sales  Critic_Score User_Score Rating  \n",
       "0     41.36     28.96      3.77         8.45          76.0          8      E  \n",
       "1     29.08      3.58      6.81         0.77           NaN        NaN    NaN  \n",
       "2     15.68     12.76      3.79         3.29          82.0        8.3      E  \n",
       "3     15.61     10.93      3.28         2.95          80.0          8      E  \n",
       "4     11.27      8.89     10.22         1.00           NaN        NaN    NaN  \n",
       "5     23.20      2.26      4.22         0.58           NaN        NaN    NaN  \n",
       "6     11.28      9.14      6.50         2.88          89.0        8.5      E  \n",
       "7     13.96      9.18      2.93         2.84          58.0        6.6      E  \n",
       "8     14.44      6.94      4.70         2.24          87.0        8.4      E  \n",
       "9     26.93      0.63      0.28         0.47           NaN        NaN    NaN  "
      ]
     },
     "metadata": {},
     "output_type": "display_data"
    },
    {
     "name": "stdout",
     "output_type": "stream",
     "text": [
      "<class 'pandas.core.frame.DataFrame'>\n",
      "RangeIndex: 16715 entries, 0 to 16714\n",
      "Data columns (total 11 columns):\n",
      " #   Column           Non-Null Count  Dtype  \n",
      "---  ------           --------------  -----  \n",
      " 0   Name             16713 non-null  object \n",
      " 1   Platform         16715 non-null  object \n",
      " 2   Year_of_Release  16446 non-null  float64\n",
      " 3   Genre            16713 non-null  object \n",
      " 4   NA_sales         16715 non-null  float64\n",
      " 5   EU_sales         16715 non-null  float64\n",
      " 6   JP_sales         16715 non-null  float64\n",
      " 7   Other_sales      16715 non-null  float64\n",
      " 8   Critic_Score     8137 non-null   float64\n",
      " 9   User_Score       10014 non-null  object \n",
      " 10  Rating           9949 non-null   object \n",
      "dtypes: float64(6), object(5)\n",
      "memory usage: 1.4+ MB\n"
     ]
    },
    {
     "data": {
      "text/plain": [
       "Name                  2\n",
       "Platform              0\n",
       "Year_of_Release     269\n",
       "Genre                 2\n",
       "NA_sales              0\n",
       "EU_sales              0\n",
       "JP_sales              0\n",
       "Other_sales           0\n",
       "Critic_Score       8578\n",
       "User_Score         6701\n",
       "Rating             6766\n",
       "dtype: int64"
      ]
     },
     "metadata": {},
     "output_type": "display_data"
    },
    {
     "data": {
      "text/html": [
       "<style  type=\"text/css\" >\n",
       "</style><table id=\"T_2c2bc_\" ><thead>    <tr>        <th class=\"blank level0\" ></th>        <th class=\"col_heading level0 col0\" >0</th>    </tr></thead><tbody>\n",
       "                <tr>\n",
       "                        <th id=\"T_2c2bc_level0_row0\" class=\"row_heading level0 row0\" >Name</th>\n",
       "                        <td id=\"T_2c2bc_row0_col0\" class=\"data row0 col0\" >0.000000</td>\n",
       "            </tr>\n",
       "            <tr>\n",
       "                        <th id=\"T_2c2bc_level0_row1\" class=\"row_heading level0 row1\" >Platform</th>\n",
       "                        <td id=\"T_2c2bc_row1_col0\" class=\"data row1 col0\" >0.000000</td>\n",
       "            </tr>\n",
       "            <tr>\n",
       "                        <th id=\"T_2c2bc_level0_row2\" class=\"row_heading level0 row2\" >Year_of_Release</th>\n",
       "                        <td id=\"T_2c2bc_row2_col0\" class=\"data row2 col0\" >1.600000</td>\n",
       "            </tr>\n",
       "            <tr>\n",
       "                        <th id=\"T_2c2bc_level0_row3\" class=\"row_heading level0 row3\" >Genre</th>\n",
       "                        <td id=\"T_2c2bc_row3_col0\" class=\"data row3 col0\" >0.000000</td>\n",
       "            </tr>\n",
       "            <tr>\n",
       "                        <th id=\"T_2c2bc_level0_row4\" class=\"row_heading level0 row4\" >NA_sales</th>\n",
       "                        <td id=\"T_2c2bc_row4_col0\" class=\"data row4 col0\" >0.000000</td>\n",
       "            </tr>\n",
       "            <tr>\n",
       "                        <th id=\"T_2c2bc_level0_row5\" class=\"row_heading level0 row5\" >EU_sales</th>\n",
       "                        <td id=\"T_2c2bc_row5_col0\" class=\"data row5 col0\" >0.000000</td>\n",
       "            </tr>\n",
       "            <tr>\n",
       "                        <th id=\"T_2c2bc_level0_row6\" class=\"row_heading level0 row6\" >JP_sales</th>\n",
       "                        <td id=\"T_2c2bc_row6_col0\" class=\"data row6 col0\" >0.000000</td>\n",
       "            </tr>\n",
       "            <tr>\n",
       "                        <th id=\"T_2c2bc_level0_row7\" class=\"row_heading level0 row7\" >Other_sales</th>\n",
       "                        <td id=\"T_2c2bc_row7_col0\" class=\"data row7 col0\" >0.000000</td>\n",
       "            </tr>\n",
       "            <tr>\n",
       "                        <th id=\"T_2c2bc_level0_row8\" class=\"row_heading level0 row8\" >Critic_Score</th>\n",
       "                        <td id=\"T_2c2bc_row8_col0\" class=\"data row8 col0\" >51.300000</td>\n",
       "            </tr>\n",
       "            <tr>\n",
       "                        <th id=\"T_2c2bc_level0_row9\" class=\"row_heading level0 row9\" >User_Score</th>\n",
       "                        <td id=\"T_2c2bc_row9_col0\" class=\"data row9 col0\" >40.100000</td>\n",
       "            </tr>\n",
       "            <tr>\n",
       "                        <th id=\"T_2c2bc_level0_row10\" class=\"row_heading level0 row10\" >Rating</th>\n",
       "                        <td id=\"T_2c2bc_row10_col0\" class=\"data row10 col0\" >40.500000</td>\n",
       "            </tr>\n",
       "    </tbody></table>"
      ],
      "text/plain": [
       "<pandas.io.formats.style.Styler at 0x7ff18a08caf0>"
      ]
     },
     "metadata": {},
     "output_type": "display_data"
    }
   ],
   "source": [
    "data = pd.read_csv('/datasets/games.csv')\n",
    "\n",
    
    "display(data.head(10))\n",
    "\n",
   
    "data.info() \n",
    "\n",
    
    "display(data.isna().sum())\n",
    "\n",
    
    "display(pd.DataFrame(round(data.isna().mean()*100, 1)).style)"
   ]
  },
 
  
  {
   "cell_type": "markdown",
   "metadata": {},
   "source": [
    "<b>2. Data preparation</b> </div>\n",
    "\n"
   
   ]
  },
  {
   "cell_type": "code",
   "execution_count": 22,
   "metadata": {},
   "outputs": [],
   "source": [
    
    "data.columns = data.columns.str.lower()\n"
   ]
  },
  
  {
   "cell_type": "code",
   "execution_count": 23,
   "metadata": {},
   "outputs": [],
   "source": [
   
    "data_old = data.shape[0]\n",
    "\n",
    
    "data = data.drop(index=data.query('year_of_release.isna() or name.isna()').index)\n"
   ]
  },
  {
   "cell_type": "code",
   "execution_count": 24,
   "metadata": {
    "scrolled": true
   },
   "outputs": [
    {
     "name": "stdout",
     "output_type": "stream",
     "text": [
      "Number of explicit duplicates: 0\n"
     ]
    }
   ],
   "source": [
   
    "data['year_of_release'] = data['year_of_release'].astype('int64')\n",
    "data['user_score'] = np.floor(pd.to_numeric(data['user_score'], errors='coerce')).astype('float64')\n",
    "\n",
    
    "data['rating'] = data['rating'].fillna(value='Unknown')\n",
    "\n",
   
    "data = data.fillna({'critic_score': -1, 'user_score': -1})\n",
    "\n",
    
    "print('Количество явных дубликатов:', data.duplicated().sum())\n",
    "\n",
    "\n"
   ]
  },
  
  {
   "cell_type": "code",
   "execution_count": 25,
   "metadata": {},
   "outputs": [
    {
     "data": {
      "text/plain": [
       "name               0\n",
       "platform           0\n",
       "year_of_release    0\n",
       "genre              0\n",
       "na_sales           0\n",
       "eu_sales           0\n",
       "jp_sales           0\n",
       "other_sales        0\n",
       "critic_score       0\n",
       "user_score         0\n",
       "rating             0\n",
       "dtype: int64"
      ]
     },
     "metadata": {},
     "output_type": "display_data"
    },
    {
     "name": "stdout",
     "output_type": "stream",
     "text": [
      "Доля удаленных данных составила: 1.6%\n"
     ]
    }
   ],
   "source": [
    "# make sure the gaps in the columns are handled:\n",
    "display(data.isna().sum())\n",
    "\n",
    "# display the amount of deleted data:\n",
    "data_new = data.shape[0]\n",
    "result = (1 - (data_new / data_old))\n",
    "print(f'Доля удаленных данных составила: {result:.1%}')\n",
    "\n"
   ]
  },
  {
   "cell_type": "markdown",
   "metadata": {},
   "source": [
   "According to the analysis of the initial data, gaps were found in the data in 6 columns out of 11. The largest share of gaps is contained in the columns: critic_score - 51%, user_score - 40%, rating - 41%.\n",
     "\n",
     "- there is a tbd (to be determined) value in the user_score column, which means that the decision on the issue has not been made. This value has been replaced with Nan (no data);\n",
     "- since the proportion of gaps in the critic_score and user_score columns is half of the entire sample and these data will be used in the analysis in the future, the data cannot be deleted. In this regard, it was decided to fill the gaps in these columns with the value -1 (stub);\n" ,
     "- gaps in the rating column replaced with Unknown;\n",
     "-blanks from the name and year_of_release columns have been removed, due to their insignificant number (2 lines). \n",
     "-no explicit duplicates found in data.\n",
     "\n",
     "As a result of data preprocessing, the share of deleted data was 1.6%.\n",
     "\n",
     "The data in the year_reliase float column has been converted to an int because the year is an integer. \n",
     "The data in the user_score column of type Object has been converted to the float data type because user scores are usually real floating point numbers."
    ]
  },
  {
   "cell_type": "markdown",
   "metadata": {},
   "source": [
    "<div class=\"alert alert-block alert-warning\">\n",
    " \n",
    "### Комментарий ревьюера\n",
    "    \n",
    "#### Совет\n",
    "    \n",
    "Для экономии вычислительной памяти лучше всего переводить в int32 или float32 \n",
    "</div "
   ]
  },
  {
   "cell_type": "markdown",
   "metadata": {},
   "source": [
    "<div class=\"alert alert-block alert-success\">\n",
    " \n",
    "### Комментарий ревьюера\n",
    "    \n",
    "#### Успех\n",
    "    \n",
    "Подробные и обоснованные выводы у тебя получились. Идем дальше. \n",
    "</div "
   ]
  },
  {
   "cell_type": "code",
   "execution_count": 26,
   "metadata": {},
   "outputs": [],
   "source": [
    "#Посчитаем суммарные продажи во всех регионах и запишим их в отдельный столбец:\n",
    "\n",
    "data['total_sales'] = (data['na_sales'] + data['eu_sales'] + data['jp_sales'] + data['other_sales'])\n",
    "\n"
   ]
  },
  {
   "cell_type": "markdown",
   "metadata": {},
   "source": [
    "<div class=\"alert alert-block alert-success\">\n",
    " \n",
    "### Комментарий ревьюера\n",
    "    \n",
    "#### Успех\n",
    "    \n",
    "А еще можешь такой способ использовать `df['f'] = df[['a','b','c','d']].sum(axis=1)`\n",
    "</div "
   ]
  },
  {
   "cell_type": "markdown",
   "metadata": {},
   "source": [
    "<b>3. Исследовательский анализ данных</b> </div>\n",
    "\n",
    "- Посмотреть, сколько игр выпускалось в разные годы. Важны ли данные за все периоды?\n",
    "- Посмотреть, как менялись продажи по платформам. Выбрать платформы с наибольшими суммарными продажами и построить распределение по годам. За какой характерный срок появляются новые и исчезают старые платформы?\n",
    "- Взять данные за соответствующий актуальный период и посмотреть какие платформы лидируют по продажам, растут или падают? Выбрать несколько потенциально прибыльных платформ.\n",
    "- Построить график «ящик с усами» по глобальным продажам игр в разбивке по платформам,описать результат.\n",
    "- Посмотреть, как влияют на продажи внутри одной популярной платформы отзывы пользователей и критиков. Построить диаграмму рассеяния и посчитать корреляцию между отзывами и продажами. Сформулировать выводы.\n",
    "- Соотнести выводы с продажами игр на других платформах.\n",
    "- Посмотреть на общее распределение игр по жанрам. Что можно сказать о самых прибыльных жанрах? Выделяются ли жанры с высокими и низкими продажами?"
   ]
  },
  {
   "cell_type": "code",
   "execution_count": 30,
   "metadata": {},
   "outputs": [
    {
     "data": {
      "text/plain": [
       "Text(0, 0.5, 'количество игр')"
      ]
     },
     "execution_count": 30,
     "metadata": {},
     "output_type": "execute_result"
    },
    {
     "data": {
      "image/png": "[encoded data removed]",
      "text/plain": [
       "<Figure size 864x432 with 1 Axes>"
      ]
     },
     "metadata": {
      "needs_background": "light"
     },
     "output_type": "display_data"
    }
   ],
   "source": [
    "#Посмотрим, сколько игр выпускалось в разные годы:\n",
    "data.plot(kind='hist', y='year_of_release',bins=30,  figsize=(12,6),  title='Выпуск компьютерных игр с 1980 по 2015 г.г.', grid=True) \n",
    "\n",
    "plt.xlabel('год выпуска')\n",
    "plt.ylabel('количество игр')\n",
    "\n"
   ]
  },
  {
   "cell_type": "markdown",
   "metadata": {},
   "source": [
    "<div class=\"alert alert-block alert-success\">\n",
    " \n",
    "### Комментарий ревьюера\n",
    "    \n",
    "#### Успех\n",
    "    \n",
    "Классный график у тебя получился, который показывает реальную картину выпуска платформ. \n",
    "</div "
   ]
  },
  {
   "cell_type": "markdown",
   "metadata": {},
   "source": [
    "Полученная гистограмма отображает общее количество компьютерных игр, выпущенных в период с 1980 до 2015 г.г. Согласно гистограмме развитие индустрии компьютерных игр началось после 1990 года. Выпуск игр достиг максимума в 2010-2011 г.г. Поэтому данные ранее 2000 года уже потеряли актуальность.\n"
   ]
  },
  {
   "cell_type": "code",
   "execution_count": 31,
   "metadata": {},
   "outputs": [
    {
     "data": {
      "text/plain": [
       "Text(0.5, 1.0, 'Изменение продаж по платформам')"
      ]
     },
     "execution_count": 31,
     "metadata": {},
     "output_type": "execute_result"
    },
    {
     "data": {
      "image/png": "[encoded data removed]",
      "text/plain": [
       "<Figure size 1008x576 with 1 Axes>"
      ]
     },
     "metadata": {},
     "output_type": "display_data"
    }
   ],
   "source": [
    "#Выберим платформы top_20 с наибольшими суммарными продажами:\n",
    "top_platform = (data           \n",
    "                    .groupby('platform')['total_sales'].agg('sum').reset_index()\n",
    "                    .sort_values(by='total_sales', ascending=False)\n",
    "                    .head(20))\n",
    "\n",
    "list_top_platform = top_platform['platform'].to_list()\n",
    "\n",
    "           \n",
    "\n",
    "#построим  распределение платформ с наибольшими сумарными продажами по годам:\n",
    "\n",
    "plot_top_platform = (data.query('platform in @list_top_platform')\n",
    "                          .pivot_table(index=['platform', 'year_of_release'], values='total_sales', aggfunc='sum').reset_index()\n",
    "                         \n",
    "                    )\n",
    "\n",
    "sns.set(rc={'figure.figsize':(14,8)})\n",
    "sns.lineplot(data=plot_top_platform, x='year_of_release', y='total_sales', hue='platform')\n",
    "\n",
    "plt.xlim(1990,2016)\n",
    "plt.xlabel('год выпуска')\n",
    "plt.ylabel('объем продаж')\n",
    "plt.title('Изменение продаж по платформам')\n",
    "\n",
    "\n"
   ]
  },
  {
   "cell_type": "markdown",
   "metadata": {},
   "source": [
    "<div class=\"alert alert-block alert-success\">\n",
    " \n",
    "### Комментарий ревьюера\n",
    "    \n",
    "#### Успех\n",
    "    \n",
    "И снова хочу похвалить тебя за хорошую и понятную визуализацию платформ. \n",
    "</div "
   ]
  },
  {
   "cell_type": "markdown",
   "metadata": {},
   "source": [
    "В результате отбора 20 платформ с наибольшими суммарными продажами построено распределение продаж по годам. В соответствии с полученным графиком появление новых платформ и исчезновение старых происходит примерно каждые 10 лет. Большинство платформ с наибольшими суммарными продажами появились и исчезали в последние 10 лет. Таким образом, для проведения дальнейшего анализа, актуальным периодом будем считать 2014-2016 г.г."
   ]
  },
  {
   "cell_type": "code",
   "execution_count": 33,
   "metadata": {},
   "outputs": [
    {
     "data": {
      "text/plain": [
       "Text(0.5, 1.0, 'Суммарные продажи за 2014-2016 г.г.')"
      ]
     },
     "execution_count": 33,
     "metadata": {},
     "output_type": "execute_result"
    },
    {
     "data": {
      "image/png": "[encoded data removed]",
      "text/plain": [
       "<Figure size 864x432 with 1 Axes>"
      ]
     },
     "metadata": {},
     "output_type": "display_data"
    }
   ],
   "source": [
    "# оставим данные за актуальный период и найдем какие платформы лидировали по продажам:\n",
    "new_data = (data.query('year_of_release in [2014, 2015, 2016]')\n",
    "                .pivot_table(index='platform', values=['total_sales'], aggfunc='sum').reset_index()\n",
    "                .sort_values(by='total_sales', ascending=False)\n",
    "           )\n",
    "\n",
    "sns.set(rc={'figure.figsize':(12,6)})\n",
    "sns.barplot(data=new_data, x='platform', y='total_sales')           \n",
    "plt.xlabel('название платформ')\n",
    "plt.ylabel('суммарные продажи, в млн. рублей')\n",
    "plt.title('Суммарные продажи за 2014-2016 г.г.')\n",
    "\n",
    "\n"
   ]
  },
  {
   "cell_type": "markdown",
   "metadata": {},
   "source": [
    "<div class=\"alert alert-block alert-success\">\n",
    " \n",
    "### Комментарий ревьюера\n",
    "    \n",
    "#### Успех\n",
    "    \n",
    "Тут и список лидеров определили. Супер. \n",
    "</div "
   ]
  },
  {
   "cell_type": "markdown",
   "metadata": {},
   "source": [
    "Согласно графику, лидерами продаж на протяжении последних трех лет являются две платформы: PS4 и XOne, поэтому будем считать, что они являются потенциально прибыльными. "
   ]
  },
  {
   "cell_type": "code",
   "execution_count": 34,
   "metadata": {},
   "outputs": [
    {
     "data": {
      "text/plain": [
       "Text(0.5, 1.0, 'Диаграмма размаха по глобальным продажам игр в разбивке по  двум потенциально прибыльным платформам')"
      ]
     },
     "execution_count": 34,
     "metadata": {},
     "output_type": "execute_result"
    },
    {
     "data": {
      "image/png": "[encoded data removed]",
      "text/plain": [
       "<Figure size 1080x576 with 1 Axes>"
      ]
     },
     "metadata": {},
     "output_type": "display_data"
    }
   ],
   "source": [
    "#построим график \"ящик с усами\" по глобальным продажам в разбивке по двум потенциально прибыльным платформам:\n",
    "\n",
    "data_graph = data.query('year_of_release >= 2014 and platform in [\"PS4\", \"XOne\"]')\n",
    "\n",
    "fig = plt.gcf()\n",
    "fig.set_size_inches(15,8)\n",
    "sns.boxplot(data=data_graph, x='platform', y='total_sales', width=0.5)\n",
    "plt.ylim(0,3)\n",
    "plt.xlabel('название платформ')\n",
    "plt.ylabel('суммарные продажи, в млн. рублей')\n",
    "plt.title('Диаграмма размаха по глобальным продажам игр в разбивке по  двум потенциально прибыльным платформам')\n"
   ]
  },
  {
   "cell_type": "markdown",
   "metadata": {},
   "source": [
    "<div class=\"alert alert-block alert-success\">\n",
    " \n",
    "### Комментарий ревьюера\n",
    "    \n",
    "#### Успех\n",
    "    \n",
    "Отдельно хочу похвалить за то, что ты ограничила вывод выбросов и мы видим отчетливо медиану и квантили. \n",
    "</div "
   ]
  },
  {
   "cell_type": "markdown",
   "metadata": {},
   "source": [
    "Диаграмма размаха показывает, что ориентировочная граница нормального размаха заканчивается для платформы PS4 на значении 1,6 млн. рублей, для платформы XOne - 1,5 млн. рублей. Все значения, которые находятся выше этих значений являются выбросами. При этом степень разброса за пределами верхнего квартиля по обеим платформам намного больше, чем за пределами нижнего. \n",
    "Данные смещены в сторону меньших значений, так как медианы обеих платформ равны примерно 0,2 млн рублей и стремляться к короткому хвосту меньших значений. При этом 25% суммарных продаж по каждой платформе примерно равны 0,05 млн рублей. В то время как 75% суммарных продаж платформы PS4 равны 0,7 млн рублей, а платформы XOne - 0,6 млн рублей.\n"
   ]
  },
  {
   "cell_type": "code",
   "execution_count": 37,
   "metadata": {},
   "outputs": [
    {
     "name": "stdout",
     "output_type": "stream",
     "text": [
      "Корреляция между отзывами пользователей и продажами = 0.14\n",
      "Корреляция между отзывами критиков и продажами = 0.15\n"
     ]
    },
    {
     "data": {
      "image/png": "[encoded data removed]",
      "text/plain": [
       "<Figure size 576x432 with 1 Axes>"
      ]
     },
     "metadata": {},
     "output_type": "display_data"
    },
    {
     "data": {
      "image/png": "[encoded data removed]",
      "text/plain": [
       "<Figure size 576x432 with 1 Axes>"
      ]
     },
     "metadata": {},
     "output_type": "display_data"
    }
   ],
   "source": [
    "from matplotlib.axes._axes import _log as matplotlib_axes_logger\n",
    "matplotlib_axes_logger.setLevel('ERROR')\n",
    "\n",
    "#построим диаграмму рассеяния зависимости продаж от отзывов пользователей внутри найденной популярной платформы PS4:\n",
    "(data\n",
    "     .query('platform == \"PS4\" and year_of_release >= 2014 and user_score >= 0') \\\n",
    "      [['user_score', 'total_sales']] \\\n",
    "     .plot(x='user_score', y='total_sales', kind='scatter', figsize=(8,6), alpha=0.5, grid=True, title='Зависимость cуммарных продаж от отзывов пользователей')\n",
    ")\n",
    "\n",
    "plt.xlabel('отзывы пользователей')\n",
    "plt.ylabel('суммарные продажи')\n",
    "plt.ylim(0,4)\n",
    "\n",
    "#построим диаграмму рассеяния зависимости продаж от отзывов критиков внутри найденной популярной платформы PS4:\n",
    "(data\n",
    "     .query('platform == \"PS4\" and year_of_release >= 2014 and critic_score >= 0') \\\n",
    "      [['critic_score', 'total_sales']] \\\n",
    "     .plot(x='critic_score', y='total_sales', kind='scatter', figsize=(8,6),alpha=0.5, grid=True, title='Зависимость cуммарных продаж от отзывов пользователей')\n",
    ")\n",
    "\n",
    "plt.xlabel('отзывы критиков')\n",
    "plt.ylabel('суммарные продажи')\n",
    "plt.ylim(0,4)\n",
    "\n",
    "#посчитаем корреляцию между отзывами и продажами:\n",
    "print('Корреляция между отзывами пользователей и продажами =', data['total_sales'].corr(data['user_score']).round(2))\n",
    "print('Корреляция между отзывами критиков и продажами =',data['total_sales'].corr(data['critic_score']).round(2))\n"
   ]
  },
  {
   "cell_type": "markdown",
   "metadata": {},
   "source": [
    "<div class=\"alert alert-block alert-success\">\n",
    " \n",
    "### Комментарий ревьюера\n",
    "    \n",
    "#### Успех\n",
    "    \n",
    "Потрясающий метод для вывода зависимостей на графике. Еще отмечу, что не забыла устранить значения заглушки, а это важно. \n",
    "</div "
   ]
  },
  {
   "cell_type": "markdown",
   "metadata": {},
   "source": [
    "<div class=\"alert alert-block alert-warning\">\n",
    " \n",
    "### Комментарий ревьюера\n",
    "    \n",
    "#### Совет\n",
    "    \n",
    "Импорт всех библиотек принято делать в самом начале проекта в общей ячейке кода. \n",
    "</div "
   ]
  },
  {
   "cell_type": "markdown",
   "metadata": {},
   "source": [
    "По результатам анализа построенных диаграмм, а также исходя из полученных коэффициентов корреляции Пирсона можно сделать вывод, что зависимость между суммарными продажами и отзывами пользователей положительная, но очень слабая, так как значение коэффициента близко к нулю (corr=0,14-0,15).\n"
   ]
  },
  {
   "cell_type": "code",
   "execution_count": 38,
   "metadata": {},
   "outputs": [
    {
     "data": {
      "text/plain": [
       "Text(0.5, 1.0, 'Диаграмма размаха по суммарным продажам игр по всем платформам')"
      ]
     },
     "execution_count": 38,
     "metadata": {},
     "output_type": "execute_result"
    },
    {
     "data": {
      "image/png": "[encoded data removed]",
      "text/plain": [
       "<Figure size 1080x576 with 1 Axes>"
      ]
     },
     "metadata": {},
     "output_type": "display_data"
    }
   ],
   "source": [
    "#сравним как суммарные продажи менялись на других платформах по годам:\n",
    "sum_sales_platforms = data.query('year_of_release in [2014, 2015, 2016]')\n",
    "                          \n",
    "fig = plt.gcf()\n",
    "fig.set_size_inches(15,8)\n",
    "\n",
    "sns.boxplot(data=sum_sales_platforms, x='platform', y='total_sales', hue='year_of_release',  width=0.7)\n",
    "\n",
    "plt.ylim(0,2)\n",
    "plt.xlabel('название платформ')\n",
    "plt.ylabel('суммарные продажи, в млн. рублей')\n",
    "plt.title('Диаграмма размаха по суммарным продажам игр по всем платформам')\n",
    "\n"
   ]
  },
  {
   "cell_type": "markdown",
   "metadata": {},
   "source": [
    "<div class=\"alert alert-block alert-success\">\n",
    " \n",
    "### Комментарий ревьюера\n",
    "    \n",
    "#### Успех\n",
    "    \n",
    "И тут вышло очень информативно. \n",
    "</div "
   ]
  },
  {
   "cell_type": "markdown",
   "metadata": {},
   "source": [
    "Согласно диаграмме размаха динамика суммарных продаж платформ-лидеров и остальных платформ за последних 3 года была следующей:\n",
    "Медианные оценки суммарных продаж платформ-лидеров PS4 и XOne в 2014 году были максимальными среди всех платформ, после чего в 2015-2016 годах резко сократились, сравнявшись с уровнем суммарных продаж таких платформ как 3DS, PS3. При этом медианная оценка суммарных продаж платформы 3DS остается стабильной в течение уже трех лет. Также остается относительно стабильной в течение последних двух лет и медианная оценка суммарных продаж платформы WiiU, при этом в 2016 году данная платформа вышла в лидеры по суммарным продажам, обогнав остальных участников.  \n",
    "\n",
    "\n",
    "\n",
    "\n",
    "\n"
   ]
  },
  {
   "cell_type": "code",
   "execution_count": 53,
   "metadata": {},
   "outputs": [
    {
     "data": {
      "text/plain": [
       "Text(0.5, 1.0, 'Распределение игр по жанрам')"
      ]
     },
     "execution_count": 53,
     "metadata": {},
     "output_type": "execute_result"
    },
    {
     "data": {
      "image/png": "[encoded data removed]",
      "text/plain": [
       "<Figure size 864x432 with 1 Axes>"
      ]
     },
     "metadata": {},
     "output_type": "display_data"
    }
   ],
   "source": [
    "#построим общее распределение игр по жанрам:\n",
    "genre_games =(sum_sales_platforms\n",
    "                                .pivot_table(index='genre', values='total_sales', aggfunc='mean').reset_index()\n",
    "                                .sort_values(by='total_sales', ascending=False)               \n",
    "            )\n",
    "\n",
    "  \n",
    "sns.set(rc={'figure.figsize':(12,6)})\n",
    "sns.barplot(data=genre_games, x='genre', y='total_sales')           \n",
    "plt.xlabel('жанр')\n",
    "plt.ylabel('средние продажи, в млн. рублей')\n",
    "plt.title('Распределение игр по жанрам')\n",
    "\n",
    "\n"
   ]
  },
  {
   "cell_type": "markdown",
   "metadata": {},
   "source": [
    "Согласно графику среди общего количества продаж игра жанра Shooter является самой прибыльной, средние продажи которой составили 1,3 млн рублей. Второе место занимает игра жанра Sports со средними продажами примерно 0,7 млн рублей. Средние продажи игр жанров Platform, Fighting, Pole-Playing, Racing находились примерно на одном уровне и составляли 0,5 млн. рублей. К самым неприбыльным жанрам можно отнести Puzzle, Strategy и Puzzle со средними продажами менее 0,2 млн. рублей.   \n",
    "\n",
    "\n",
    "\n"
   ]
  },
  {
   "cell_type": "markdown",
   "metadata": {},
   "source": [
    "<div class=\"alert alert-block alert-success\">\n",
    " \n",
    "### Комментарий ревьюера\n",
    "    \n",
    "#### Успех\n",
    "    \n",
    "Ты правильно сделала, что рассмотрела именно средние продажи. Так более правильнее определять самый прибыльный жанр, нежели по суммарным продажам. \n",
    "</div "
   ]
  },
  {
   "cell_type": "markdown",
   "metadata": {},
   "source": [
    "<b>4. Портрет пользователя каждого региона</b>\n",
    "\n",
    "- определить самые популярные платформы (топ-5), описать различия в долях продаж;\n",
    "- определить самые популярные жанры (топ-5), пояснить разницу;\n",
    "- определить влиет ли рейтинг ESRB на продажи в отдельном регионе."
   ]
  },
  {
   "cell_type": "code",
   "execution_count": 42,
   "metadata": {},
   "outputs": [
    {
     "data": {
      "image/png": "[encoded data removed]",
      "text/plain": [
       "<Figure size 864x360 with 1 Axes>"
      ]
     },
     "metadata": {},
     "output_type": "display_data"
    },
    {
     "data": {
      "image/png": "[encoded data removed]",
      "text/plain": [
       "<Figure size 864x360 with 1 Axes>"
      ]
     },
     "metadata": {},
     "output_type": "display_data"
    },
    {
     "data": {
      "image/png": "[encoded data removed]",
      "text/plain": [
       "<Figure size 864x360 with 1 Axes>"
      ]
     },
     "metadata": {},
     "output_type": "display_data"
    }
   ],
   "source": [
    "#найдем самые популярные платформы (топ-5) в разрезе регионов:\n",
    "regions = ['na_sales', 'eu_sales', 'jp_sales']\n",
    "\n",
    "plt.title('Топ-5 платформ в разрезе регионов')\n",
    "\n",
    "for region in regions:\n",
    "    sum_sales_platforms.groupby('platform')[region].sum() \\\n",
    "                       .sort_values(ascending=False) \\\n",
    "                       .head(5) \\\n",
    "                       .plot(kind='pie', y = region, autopct='%.2f', figsize=(12,5))\n",
    "   \n",
    "    \n",
    "    plt.xlabel(region) \n",
    "    plt.show()  \n",
    "    \n",
    "    \n",
    "   "
   ]
  },
  {
   "cell_type": "markdown",
   "metadata": {},
   "source": [
    "Самой популярной платформой в Серверной Америке и Европе является PS4, при этом доля ее продаж в Европе значительно выше, чем в Северной Америке (на 16%). В то же время в Японии платформа PS4 является только второй по популярности с долей 16%. Самой популярной платформой в Японии является 3DS, ее доля в общем объеме продаж составляет практически половину.\n",
    "Второй по популярности в Северной Америке и Европе является платформа XOne с долями продаж 32% и 20%. Остальные платформы имеют незначительные доли в суммарных продажах во всех трех регионах. "
   ]
  },
  {
   "cell_type": "markdown",
   "metadata": {},
   "source": [
    "<div class=\"alert alert-block alert-success\">\n",
    " \n",
    "### Комментарий ревьюера\n",
    "    \n",
    "#### Успех\n",
    "    \n",
    "Здесь хорошо опрелено и показано топ-5 по каждому региону. Отлично. \n",
    "</div "
   ]
  },
  {
   "cell_type": "code",
   "execution_count": 43,
   "metadata": {},
   "outputs": [
    {
     "data": {
      "image/png": "[encoded data removed]",
      "text/plain": [
       "<Figure size 720x360 with 1 Axes>"
      ]
     },
     "metadata": {},
     "output_type": "display_data"
    },
    {
     "data": {
      "image/png": "[encoded data removed]",
      "text/plain": [
       "<Figure size 720x360 with 1 Axes>"
      ]
     },
     "metadata": {},
     "output_type": "display_data"
    },
    {
     "data": {
      "image/png": "[encoded data removed]",
      "text/plain": [
       "<Figure size 720x360 with 1 Axes>"
      ]
     },
     "metadata": {},
     "output_type": "display_data"
    }
   ],
   "source": [
    "#найдем самые популярные жанры в разрезе регионов (топ-5):\n",
    "regions = ['na_sales', 'eu_sales', 'jp_sales']\n",
    "\n",
    "plt.title('Топ-5 жанров в разрезе регионов')\n",
    "\n",
    "for region in regions:\n",
    "    top_genre = sum_sales_platforms.groupby('genre')[region].sum() \\\n",
    "                       .sort_values(ascending=True) \\\n",
    "                       .head(5) \\\n",
    "                       .plot(kind='barh', y = region, figsize=(10,5))\n",
    "   \n",
    "    plt.ylabel('жанр')\n",
    "    plt.xlabel(region) \n",
    "    plt.show()     \n",
    "         "
   ]
  },
  {
   "cell_type": "markdown",
   "metadata": {},
   "source": [
    "Во всех трех регионах на первом месте по популярности является жанр Platform, на 4-5 месте занимают игры жанров Strategy и Puzzle. 2-3 место по популярности в разных регионах занимают разные жанры: в Северной Америке - Adventure, Simulation, в Европе - Fighting и Adventure, в Японии - Simulation и Racing."
   ]
  },
  {
   "cell_type": "markdown",
   "metadata": {},
   "source": [
    "<div class=\"alert alert-block alert-success\">\n",
    " \n",
    "### Комментарий ревьюера\n",
    "    \n",
    "#### Успех\n",
    "    \n",
    "А тут особенно видно, что Япония наиболее уникальна. \n",
    "</div "
   ]
  },
  {
   "cell_type": "code",
   "execution_count": 45,
   "metadata": {},
   "outputs": [
    {
     "data": {
      "image/png": "[encoded data removed]",
      "text/plain": [
       "<Figure size 720x360 with 1 Axes>"
      ]
     },
     "metadata": {},
     "output_type": "display_data"
    },
    {
     "data": {
      "image/png": "[encoded data removed]",
      "text/plain": [
       "<Figure size 720x360 with 1 Axes>"
      ]
     },
     "metadata": {},
     "output_type": "display_data"
    },
    {
     "data": {
      "image/png": "[encoded data removed]",
      "text/plain": [
       "<Figure size 720x360 with 1 Axes>"
      ]
     },
     "metadata": {},
     "output_type": "display_data"
    }
   ],
   "source": [
    "# определим влияет ли рейтинг на продажи в каждом отдельном регионе:\n",
    "regions = ['na_sales', 'eu_sales', 'jp_sales']\n",
    "\n",
    "plt.title('Зависимость рейтинга на суммарные продажи в разрезе регионов')\n",
    "for region in regions:\n",
    "    rating = (sum_sales_platforms.pivot_table(index= ('rating'), values= region, aggfunc='sum').reset_index()\n",
    "                                .sort_values(region, ascending=False)\n",
    "             )\n",
    "    sns.barplot(data=rating, x='rating', y= region)  \n",
    "    sns.set(rc={'figure.figsize':(10,5)})\n",
    "    plt.xlabel( region)\n",
    "    plt.ylabel('суммарные продажи')\n",
    "    plt.show()     \n"
   ]
  },
  {
   "cell_type": "markdown",
   "metadata": {},
   "source": [
    "Согласно графикам, распределение продаж в зависимости от рейтинга ESRB было схоже в Северной Америке и в Европе. В этих странах максимальные продажи компьютерных игр были для взрослых(M), на втором месте по уровню продаж были игры без рейтинга. Затем шли игры с рейтингом E (для всех), T(подростки) и минимальные продажи игр были с рейтингом E10+ (от 10+ и старше).\n",
    "В Японии лидирующее место по продажам занимали игры без рейтинга (Unknown), превышая в 3,5 раз продажи игр всех остальных категорий. На втором месте находились продажи игр с рейтингом T (подростки), затем шли игры рейтинга E (для всех). В отличие от Северной Америки и Европы, в Японии игры с рейтингом M (для взрослых) отставали по продажам примерно в 10 раз, занимая только 4 место. Как и других регионах, продажи игр с рейтингом E10+ (от 10+ и старше) занимали последнюю строчку списка."
   ]
  },
  {
   "cell_type": "markdown",
   "metadata": {},
   "source": [
    "<b>4. Проверка гипотез</b>\n",
    "\n",
    "- средние пользовательские рейтинги платформ Xbox One и PC одинаковые;\n",
    "- средние пользовательские рейтинги жанров Action (англ. «действие», экшен-игры) и Sports (англ. «спортивные соревнования») разные.\n"
   ]
  },
  {
   "cell_type": "markdown",
   "metadata": {},
   "source": [
    "<b>4.1 Проверка гипотезы \"Средние пользовательские рейтинги платформ Xbox One и PC одинаковые\".</b>\n",
    "\n",
    "H_0 : \"Среднее пользовательских рейтингов Xbox One и PC равны между собой\" \n",
    "\n",
    "H_1: \"Среднее пользовательских рейтингов двух Xbox One и PC не равны между собой\"\n",
    "\n"
   ]
  },
  {
   "cell_type": "code",
   "execution_count": 46,
   "metadata": {},
   "outputs": [
    {
     "name": "stdout",
     "output_type": "stream",
     "text": [
      "р-value: 0.047722473435612776\n",
      "Отвергаем нулевую гипотезу\n"
     ]
    }
   ],
   "source": [
    "# проверим  H0 гипотезу:\n",
    "\n",
    "# убираем значения с пропусками:\n",
    "games = sum_sales_platforms.loc[sum_sales_platforms['user_score'] != -1]\n",
    "\n",
    "#отфильтруем по платформам:\n",
    "game_pc = games.loc[games['platform'] == 'PC']\n",
    "game_xone = games.loc[games['platform'] == 'XOne'] \n",
    "\n",
    "alpha = .05\n",
    "\n",
    "results = st.ttest_ind(game_pc['user_score'], game_xone['user_score'], equal_var=False)\n",
    "print('р-value:',results.pvalue)\n",
    "\n",
    "if results.pvalue < alpha:\n",
    "    print('Отвергаем нулевую гипотезу')\n",
    "else:\n",
    "     print('Не получилось отвергнуть нулевую гипотезу')"
   ]
  },
  {
   "cell_type": "markdown",
   "metadata": {},
   "source": [
    "<div class=\"alert alert-block alert-success\">\n",
    " \n",
    "### Комментарий ревьюера\n",
    "    \n",
    "#### Успех\n",
    "    \n",
    "Гипотезы сформулированы и верно определен метод проверки. \n",
    "</div "
   ]
  },
  {
   "cell_type": "markdown",
   "metadata": {},
   "source": [
    "<b>Вывод:<b/> \n",
    "    \n",
    "p-value 0,047 показывает, что вероятность получить одинаковые средние пользовательские рейтинги для платформ Xbox One и PC составляет 4,7%. Это явно слишком маленькая вероятность, чтобы делать вывод о равенстве средних пользовательских отзывов двух платформ. \n",
    "\n",
    "\n"
   ]
  },
  {
   "cell_type": "markdown",
   "metadata": {},
   "source": [
    "<b> 4.2. Проверка гипотезы \"Средние пользовательские рейтинги жанров Action и Sports разные\".</b>\n",
    "\n",
    "H_0: \"Среднее пользовательских рейтингов жанров Action и Sports равны между собой\"\n",
    "\n",
    "H_1: \"Среднее пользовательских рейтингов жанров Action и Sports не равны между собой\""
   ]
  },
  {
   "cell_type": "code",
   "execution_count": 47,
   "metadata": {},
   "outputs": [
    {
     "name": "stdout",
     "output_type": "stream",
     "text": [
      "р-value: 2.1579210941835162e-13\n",
      "Отвергаем нулевую гипотезу\n"
     ]
    }
   ],
   "source": [
    "# проверим  H0 гипотезу:\n",
    "\n",
    "# убираем значения с пропусками:\n",
    "games = sum_sales_platforms.loc[sum_sales_platforms['user_score'] != -1]\n",
    "\n",
    "#отфильтруем по жанрам:\n",
    "genre_action = games.loc[games['genre'] == 'Action']\n",
    "genre_sports= games.loc[games['genre'] == 'Sports'] \n",
    "\n",
    "alpha = .05\n",
    "\n",
    "results = st.ttest_ind(genre_action['user_score'], genre_sports['user_score'], equal_var=False)\n",
    "print('р-value:',results.pvalue)\n",
    "\n",
    "if results.pvalue < alpha:\n",
    "    print('Отвергаем нулевую гипотезу')\n",
    "else:\n",
    "     print('Не получилось отвергнуть нулевую гипотезу')"
   ]
  },
  {
   "cell_type": "markdown",
   "metadata": {},
   "source": [
    "<b>Вывод:<b/> \n",
    "\n",
    "p-value очень мало и  показывает, что вероятность получить одинаковые средние пользовательские рейтинги жанров Action и Sports очень мала. "
   ]
  },
  {
   "cell_type": "markdown",
   "metadata": {},
   "source": [
    "<div class=\"alert alert-block alert-success\">\n",
    " \n",
    "### Комментарий ревьюера\n",
    "    \n",
    "#### Успех\n",
    "    \n",
    "И тут у меня нет замечаний. Умница. \n",
    "</div "
   ]
  },
  {
   "cell_type": "markdown",
   "metadata": {},
   "source": [
    "<b>Общий вывод:</b>"
   ]
  },
  {
   "cell_type": "markdown",
   "metadata": {},
   "source": [
    "В ходе реализации проекта по анализу исторических данных о глобальных продажах компьютерных игр, оценок пользователей и экспертов до 2016 года в первую очередь были изучены исходные данные и сделана предобработка данных.\n",
    "\n",
    "1. По результатам анализа исходных данных обнаружены пропуски в данных в 6 столбцах из 11. Самая большая доля пропусков содержится в столбцах: critic_score - 51%, user_score - 40%, rating - 41%. В столбце user_score присутствует значение tbd (to be determined) означающее, что решение по вопросу не принято. \n",
    "\n",
    "\n",
    "2. В результате предобработки исходных данных выполнены следующие действия:\n",
    "- значение tbd заменено на Nan (нет данных);\n",
    "- пропуски в столбцах critic_score и user_score заменены значением -1. Ввиду того, что доля пропусков  в этих столбцах  составляет половину от всей выборки и эти данные должны использоваться при дальнейшем анализе, данные удалять не допускается. \n",
    "- пропуски в столбце rating заменены на Unknown;\n",
    "- пропуски из столбцов name и year_of_release удалены, по причине их несущественного количества (2 строки). \n",
    "- явные дубликаты в данных не обнаружены. \n",
    "\n",
    "В результате предобработки данных доля удаленных данных составила 1.6%.\n",
    "Также был изменен тип данных в столбце year_reliase с float на int т.к. год это целое число. Данные в столбце user_score типа Object преобразованы в тип данных float т.к. оценки пользователей обычно вещественные числа с плавающей точкой.\n",
    "\n",
    "3. По результатам исследовательского анализа данных выполнены следующие действия:\n",
    "- построена гистограмма, показывающая общее количество компьютерных игр, выпущенных в период с 1980 до 2015 г.г. Согласно гистограмме развитие индустрии компьютерных игр началось после 1990 года. Выпуск игр достиг максимума в 2010-2011 г.г. Поэтому данные ранее 2000 года уже потеряли актуальность.\n",
    "\n",
    "- в результате отбора 20 платформ с наибольшими суммарными продажами построен график распределения продаж по годам. В соответствии с полученным графиком появление новых платформ и исчезновение старых происходит примерно каждые 10 лет. Большинство платформ с наибольшими суммарными продажами появились и исчезали в последние 10 лет. Ввиду того, что производство компьютерных игр быстро изменяется за счет развития информационных технологий, сделан вывод о том, что актуальным периодом для проведения дальнейшего анализа необходимо считать 3 последних года (2014-2016 г.г.).\n",
    "\n",
    "- за установленный актуальный период среди 10 платформ найдены две лидирующие по продажам платформы: PS4 и XOne, которые являются потенциально прибыльными.\n",
    "\n",
    "- построена диаграмма размаха (ящик с усами) по глобальным продажам игр по двум потенциально прибыльным платформам (PS4 и XOne). Согласно диаграмме, ориентировочная граница нормального размаха заканчивается для платформы PS4 на значении 1,6 млн. рублей, для платформы XOne - 1,5 млн. рублей. Все значения, которые находятся выше этих значений являются выбросами. При этом степень разброса за пределами верхнего квартиля по обеим платформам намного больше, чем за пределами нижнего. Данные смещены в сторону меньших значений, так как медианы обеих платформ равны примерно 0,2 млн рублей и стремляться к короткому хвосту меньших значений. При этом 25% суммарных продаж по каждой платформе примерно равны 0,05 млн рублей. В то время как 75% суммарных продаж платформы PS4 равны 0,7 млн рублей, а платформы XOne - 0,6 млн рублей.\n",
    "\n",
    "- проанализирована зависимость отзывов пользователей и критиков на продажи внутри платформы PS4. Согласно построенным диаграммам, а также исходя из полученных коэффициентов корреляции Пирсона можно сделать вывод, что зависимость между суммарными продажами и отзывами пользователей положительная, но очень слабая, так как значение коэффициента близко к нулю (corr=0,14-0,15).\n",
    "\n",
    "- для сравнения результатов суммарных продаж платформ лидеров с другими платформами построена диаграмма размаха в разрезе трех предыдущих лет. Согласно диаграмме, медианные оценки суммарных продаж платформ-лидеров PS4 и XOne в 2014 году были максимальными среди всех платформ, после чего в 2015-2016 годах резко сократились, сравнявшись с уровнем суммарных продаж таких платформ как 3DS, PS3. При этом медианная оценка суммарных продаж платформы 3DS остается стабильной в течение уже трех лет. Также остается относительно стабильной в течение последних двух лет и медианная оценка суммарных продаж платформы WiiU, при этом в 2016 году данная платформа вышла в лидеры по суммарным продажам, обогнав остальных участников.  \n",
    "\n",
    "- построено общее распределение игр по жанрам, согласно которому среди общего количества продаж игры жанра Shooter являются самыми прибыльными, средние продажи которых составили 1,3 млн рублей. Второе место занимают игры жанра Sports со средними продажами примерно 0,7 млн рублей. Средние продажи игр жанров Platform, Fighting, Pole-Playing, Racing находились примерно на одном уровне и составляли 0,5 млн. рублей. К самым неприбыльным жанрам можно отнести Puzzle, Strategy и Puzzle со средними продажами менее 0,2 млн. рублей.   \n",
    "\n",
    "4. Для составления портрета пользователя каждого из трех регионов выполнено следующее:\n",
    "- найдены  популярные платформы (топ-5) в каждом регионе и определены самые популярные из них в каждом регионе. Так, самой популярной платформой в Серверной Америке и Европе является PS4, при этом доля ее продаж в Европе значительно выше, чем в Северной Америке (на 16%). В то же время в Японии платформа PS4 является только второй по популярности с долей 16%. Самой популярной платформой в Японии является 3DS, ее доля в общем объеме продаж составляет практически половину. Второй по популярности в Северной Америке и Европе является платформа XOne с долями продаж 32% и 20%. Остальные платформы имеют незначительные доли в суммарных продажах во всех трех регионах. \n",
    "\n",
    "- найдены популярные жанры (топ-5) в каждом регионе и определены самые популярные из них в каждом регионе. В частности, во всех трех регионах на первом месте по популярности является жанр Platform, на 4-5 месте занимают игры жанров Strategy и Puzzle. 2-3 место по популярности в разных регионах занимают разные жанры: в Северной Америке - Adventure, Simulation, в Европе - Fighting и Adventure, в Японии - Simulation и Racing.\n",
    "\n",
    "- оценено  влияние рейтинга ESRB на продажи в отдельном регионе. Согласно полученным графикам, распределение продаж в зависимости от рейтинга ESRB было схоже в Северной Америке и в Европе. В этих странах максимальные продажи компьютерных игр были для взрослых(M), на втором месте по уровню продаж были игры без рейтинга. Затем шли игры с рейтингом E (для всех), T(подростки) и минимальные продажи игр были с рейтингом E10+ (от 10+ и старше). В Японии лидирующее место по продажам занимали игры без рейтинга (Unknown), превышая в 3,5 раз продажи игр всех остальных категорий. На втором месте находились продажи игр с рейтингом T (подростки), затем шли игры рейтинга E (для всех). В отличие от Северной Америки и Европы, в Японии игры с рейтингом M (для взрослых) отставали по продажам примерно в 10 раз, занимая только 4 место. Как и других регионах, продажи игр с рейтингом E10+ (от 10+ и старше) занимали последнюю строчку списка.\n",
    "\n",
    "5. Для проверки, о том, что одинаковые ли средние пользовательские рейтинги платформ Xbox One и PC и разные ли средние пользовательские рейтинги жанров Action и Sports были сформулированы нулевые и альтернативные гипотезы. В результате проверки гипотез установлено, что вероятность  получить одинаковые средние пользовательские рейтинги для платформ Xbox One и PC составляет 4,7% и является слишком маленькой, чтобы делать вывод о равенстве средних пользовательских отзывов двух платформ. Вероятность получить одинаковые средние пользовательские рейтинги жанров Action и Sports также оказалась очень мала. \n",
    "\n",
    " \n",
    "На основе проведенного исследовательского анализа можно сделать вывод, что потенциально прибыльными платформами компьютерных игр являются PS4 и XOne, однако в последний год (2016 г.)  суммарные продажи игр на этих платформах резко сократились и сравнялись с уровнем продаж игр на платформе 3DS и PS3. Игры жанров Shooter и Sports являются самыми прибыльными исходя из показателя средних продаж. \n",
    "\n",
    "Статистический анализ данных показал, что вероятность получить одинаковые средние пользовательские рейтинги платформ  Xbox One и PC и жанров Action и Sports мала.\n",
    "\n",
    "<b>Портрет пользователя компьютерных игр в Северной Америки: </b>\n",
    "\n",
    "-самые популярные платформы PS4 и XOne\n",
    "-самые популярные жанры компьютерных игр Platform, Advanture и  Simulation\n",
    "-лидеры продаж исходя из рейтинга ESRB игры для взрослых и без рейтинга.\n",
    "\n",
    "<b>Портрет пользователя компьютерных игр в Европе:</b>\n",
    "\n",
    "-самые популярные платформы PS4 и XOne\n",
    "-самые популярные жанры компьютерных игр Platform, Fighting и  Advanture\n",
    "-лидеры продаж исходя из рейтинга ESRB игры для взрослых и без рейтинга.\n",
    "\n",
    "<b>Портрет пользователя компьютерных игр в Японии:</b>\n",
    "\n",
    "-самые популярные платформы 3DS и PS4\n",
    "-самые популярные жанры компьютерных игр Platform, Simulation и Racing\n",
    "-лидеры продаж исходя из рейтинга ESRB игры без рейтинга и  для подростков.\n",
    " \n",
    " Полученные результаты помогут быть использованы для определения  потенциального продукта и планирования рекламных кампании в 2017 году. \n"
   ]
  },
  {
   "cell_type": "markdown",
   "metadata": {},
   "source": [
    "<div class=\"alert alert-block alert-success\">\n",
    " \n",
    "### Комментарий ревьюера\n",
    "    \n",
    "#### Успех\n",
    "    \n",
    "Тот момент, когда итоговый вывод стал отличныфм дополнением твоего проекта. С такими подробными данными не стыдно идти к заказчику. Теперь мы сможем составить прогноз на 2017. \n",
    "</div "
   ]
  },
  {
   "cell_type": "markdown",
   "metadata": {},
   "source": [
    "<div class=\"alert alert-block alert-info\">\n",
    "\n",
    "## Итоговый комментарии от ревьюера:\n",
    "\n",
    "    \n",
    "#### Успех\n",
    "\n",
    "Очень классный проект ты сделала. Мне очень понравилось проверять твою работу. Ты применяешь правильные методы для работы с данными. В работе не содержится лишнего кода. Каждое действие подкреплено комментариями. С визуализациями у тебя тоже все отлично. Отдельно отмечу раздел по Знакомству с данными и Предобработке. Очень надеюсь, что и следующие проекты ты будешь выполнять на таком же высоком уровне.\n",
    "    \n",
    "Проект я принимаю и желаю тебе удачи в учебе.\n",
    "</div>"
   ]
  }
 ],
 "metadata": {
  "ExecuteTimeLog": [
   {
    "duration": 48,
    "start_time": "2022-11-14T23:29:53.706Z"
   },
   {
    "duration": 827,
    "start_time": "2022-11-14T23:29:58.404Z"
   },
   {
    "duration": 224,
    "start_time": "2022-11-14T23:30:00.628Z"
   },
   {
    "duration": 75,
    "start_time": "2022-11-14T23:30:13.607Z"
   },
   {
    "duration": 269,
    "start_time": "2022-11-16T04:15:13.912Z"
   },
   {
    "duration": 123,
    "start_time": "2022-11-16T04:15:28.053Z"
   },
   {
    "duration": 64,
    "start_time": "2022-11-16T04:15:38.164Z"
   },
   {
    "duration": 70,
    "start_time": "2022-11-16T04:16:09.088Z"
   },
   {
    "duration": 68,
    "start_time": "2022-11-16T04:17:49.046Z"
   },
   {
    "duration": 54,
    "start_time": "2022-11-16T04:18:23.862Z"
   },
   {
    "duration": 55,
    "start_time": "2022-11-16T04:19:05.839Z"
   },
   {
    "duration": 99,
    "start_time": "2022-11-16T04:19:38.737Z"
   },
   {
    "duration": 59,
    "start_time": "2022-11-16T04:19:46.001Z"
   },
   {
    "duration": 57,
    "start_time": "2022-11-16T04:19:52.865Z"
   },
   {
    "duration": 56,
    "start_time": "2022-11-16T04:20:26.817Z"
   },
   {
    "duration": 62,
    "start_time": "2022-11-16T04:21:18.642Z"
   },
   {
    "duration": 69,
    "start_time": "2022-11-16T04:21:26.149Z"
   },
   {
    "duration": 77,
    "start_time": "2022-11-16T04:21:41.613Z"
   },
   {
    "duration": 3,
    "start_time": "2022-11-16T04:29:17.941Z"
   },
   {
    "duration": 15,
    "start_time": "2022-11-16T04:29:44.393Z"
   },
   {
    "duration": 5,
    "start_time": "2022-11-16T04:37:01.736Z"
   },
   {
    "duration": 5,
    "start_time": "2022-11-16T04:38:27.427Z"
   },
   {
    "duration": 5,
    "start_time": "2022-11-16T04:42:03.368Z"
   },
   {
    "duration": 3,
    "start_time": "2022-11-16T04:42:41.214Z"
   },
   {
    "duration": 73,
    "start_time": "2022-11-16T04:42:42.527Z"
   },
   {
    "duration": 714,
    "start_time": "2022-11-16T04:42:52.894Z"
   },
   {
    "duration": 3,
    "start_time": "2022-11-16T04:43:03.281Z"
   },
   {
    "duration": 16,
    "start_time": "2022-11-16T04:43:06.805Z"
   },
   {
    "duration": 58,
    "start_time": "2022-11-16T04:43:32.700Z"
   },
   {
    "duration": 27,
    "start_time": "2022-11-16T04:43:49.536Z"
   },
   {
    "duration": 25,
    "start_time": "2022-11-16T04:44:05.083Z"
   },
   {
    "duration": 16,
    "start_time": "2022-11-16T04:47:05.400Z"
   },
   {
    "duration": 18,
    "start_time": "2022-11-16T04:47:29.088Z"
   },
   {
    "duration": 88,
    "start_time": "2022-11-16T04:47:56.304Z"
   },
   {
    "duration": 21,
    "start_time": "2022-11-16T04:48:19.385Z"
   },
   {
    "duration": 19,
    "start_time": "2022-11-16T04:49:29.351Z"
   },
   {
    "duration": 26,
    "start_time": "2022-11-16T04:51:01.205Z"
   },
   {
    "duration": 27,
    "start_time": "2022-11-16T04:53:24.826Z"
   },
   {
    "duration": 26,
    "start_time": "2022-11-16T04:54:01.838Z"
   },
   {
    "duration": 32,
    "start_time": "2022-11-16T04:54:46.229Z"
   },
   {
    "duration": 25,
    "start_time": "2022-11-16T04:55:00.699Z"
   },
   {
    "duration": 28,
    "start_time": "2022-11-16T04:57:49.085Z"
   },
   {
    "duration": 344,
    "start_time": "2022-11-16T05:02:02.853Z"
   },
   {
    "duration": 490,
    "start_time": "2022-11-16T05:03:03.284Z"
   },
   {
    "duration": 515,
    "start_time": "2022-11-16T05:04:41.491Z"
   },
   {
    "duration": 78,
    "start_time": "2022-11-16T05:08:13.519Z"
   },
   {
    "duration": 52,
    "start_time": "2022-11-16T05:08:31.459Z"
   },
   {
    "duration": 16,
    "start_time": "2022-11-16T05:08:50.463Z"
   },
   {
    "duration": 10,
    "start_time": "2022-11-16T05:10:58.047Z"
   },
   {
    "duration": 4,
    "start_time": "2022-11-16T05:12:15.795Z"
   },
   {
    "duration": 5,
    "start_time": "2022-11-16T05:12:17.287Z"
   },
   {
    "duration": 19,
    "start_time": "2022-11-16T05:12:49.414Z"
   },
   {
    "duration": 16,
    "start_time": "2022-11-16T05:13:05.341Z"
   },
   {
    "duration": 69,
    "start_time": "2022-11-16T05:13:27.362Z"
   },
   {
    "duration": 8,
    "start_time": "2022-11-16T05:23:12.945Z"
   },
   {
    "duration": 8,
    "start_time": "2022-11-16T05:23:26.758Z"
   },
   {
    "duration": 5,
    "start_time": "2022-11-16T05:23:51.569Z"
   },
   {
    "duration": 19,
    "start_time": "2022-11-16T05:24:01.201Z"
   },
   {
    "duration": 719,
    "start_time": "2022-11-16T05:28:23.290Z"
   },
   {
    "duration": 11,
    "start_time": "2022-11-16T05:29:07.965Z"
   },
   {
    "duration": 209,
    "start_time": "2022-11-16T05:31:08.439Z"
   },
   {
    "duration": 11,
    "start_time": "2022-11-16T05:33:05.149Z"
   },
   {
    "duration": 767,
    "start_time": "2022-11-16T05:34:12.325Z"
   },
   {
    "duration": 413,
    "start_time": "2022-11-16T05:34:52.856Z"
   },
   {
    "duration": 39,
    "start_time": "2022-11-16T05:36:28.522Z"
   },
   {
    "duration": 48,
    "start_time": "2022-11-16T05:36:39.361Z"
   },
   {
    "duration": 809,
    "start_time": "2022-11-16T05:36:49.794Z"
   },
   {
    "duration": 20,
    "start_time": "2022-11-16T05:37:05.699Z"
   },
   {
    "duration": 20,
    "start_time": "2022-11-16T05:38:38.022Z"
   },
   {
    "duration": 4,
    "start_time": "2022-11-16T05:38:54.291Z"
   },
   {
    "duration": 19,
    "start_time": "2022-11-16T05:38:59.714Z"
   },
   {
    "duration": 10,
    "start_time": "2022-11-16T05:39:50.755Z"
   },
   {
    "duration": 17,
    "start_time": "2022-11-16T05:40:02.140Z"
   },
   {
    "duration": 17,
    "start_time": "2022-11-16T05:40:40.756Z"
   },
   {
    "duration": 8,
    "start_time": "2022-11-16T05:47:12.029Z"
   },
   {
    "duration": 6,
    "start_time": "2022-11-16T05:48:13.730Z"
   },
   {
    "duration": 9,
    "start_time": "2022-11-16T06:31:07.490Z"
   },
   {
    "duration": 11,
    "start_time": "2022-11-16T06:33:12.304Z"
   },
   {
    "duration": 18,
    "start_time": "2022-11-16T06:42:06.365Z"
   },
   {
    "duration": 7,
    "start_time": "2022-11-16T06:42:35.025Z"
   },
   {
    "duration": 13,
    "start_time": "2022-11-16T06:52:30.302Z"
   },
   {
    "duration": 20,
    "start_time": "2022-11-16T06:53:22.820Z"
   },
   {
    "duration": 12,
    "start_time": "2022-11-16T06:54:05.260Z"
   },
   {
    "duration": 10,
    "start_time": "2022-11-16T06:54:19.844Z"
   },
   {
    "duration": 571,
    "start_time": "2022-11-16T06:55:02.974Z"
   },
   {
    "duration": 104,
    "start_time": "2022-11-16T06:55:09.002Z"
   },
   {
    "duration": 4,
    "start_time": "2022-11-16T06:55:46.788Z"
   },
   {
    "duration": 83,
    "start_time": "2022-11-16T06:55:51.040Z"
   },
   {
    "duration": 628,
    "start_time": "2022-11-16T06:56:14.140Z"
   },
   {
    "duration": 92,
    "start_time": "2022-11-16T06:56:16.328Z"
   },
   {
    "duration": 3,
    "start_time": "2022-11-16T06:56:30.740Z"
   },
   {
    "duration": 83,
    "start_time": "2022-11-16T06:56:33.751Z"
   },
   {
    "duration": 13,
    "start_time": "2022-11-16T06:57:02.792Z"
   },
   {
    "duration": 600,
    "start_time": "2022-11-16T06:57:33.869Z"
   },
   {
    "duration": 101,
    "start_time": "2022-11-16T06:57:35.595Z"
   },
   {
    "duration": 4,
    "start_time": "2022-11-16T06:57:58.318Z"
   },
   {
    "duration": 82,
    "start_time": "2022-11-16T06:58:25.924Z"
   },
   {
    "duration": 14,
    "start_time": "2022-11-16T07:00:19.915Z"
   },
   {
    "duration": 14,
    "start_time": "2022-11-16T07:01:54.517Z"
   },
   {
    "duration": 14,
    "start_time": "2022-11-16T07:02:06.039Z"
   },
   {
    "duration": 4,
    "start_time": "2022-11-16T07:03:13.476Z"
   },
   {
    "duration": 13,
    "start_time": "2022-11-16T07:04:32.490Z"
   },
   {
    "duration": 845,
    "start_time": "2022-11-16T07:04:49.753Z"
   },
   {
    "duration": 87,
    "start_time": "2022-11-16T07:04:51.190Z"
   },
   {
    "duration": 4,
    "start_time": "2022-11-16T07:04:58.005Z"
   },
   {
    "duration": 103,
    "start_time": "2022-11-16T07:05:26.163Z"
   },
   {
    "duration": 9,
    "start_time": "2022-11-16T07:05:42.307Z"
   },
   {
    "duration": 14,
    "start_time": "2022-11-16T07:05:52.395Z"
   },
   {
    "duration": 6,
    "start_time": "2022-11-16T07:17:09.872Z"
   },
   {
    "duration": 5,
    "start_time": "2022-11-16T07:17:41.278Z"
   },
   {
    "duration": 4,
    "start_time": "2022-11-16T07:19:15.591Z"
   },
   {
    "duration": 6,
    "start_time": "2022-11-16T07:20:28.931Z"
   },
   {
    "duration": 13,
    "start_time": "2022-11-16T07:23:38.254Z"
   },
   {
    "duration": 13,
    "start_time": "2022-11-16T07:24:55.289Z"
   },
   {
    "duration": 644,
    "start_time": "2022-11-16T07:31:15.950Z"
   },
   {
    "duration": 89,
    "start_time": "2022-11-16T07:31:18.630Z"
   },
   {
    "duration": 3,
    "start_time": "2022-11-16T07:31:23.578Z"
   },
   {
    "duration": 81,
    "start_time": "2022-11-16T07:31:27.946Z"
   },
   {
    "duration": 30,
    "start_time": "2022-11-16T08:21:01.392Z"
   },
   {
    "duration": 12,
    "start_time": "2022-11-16T08:22:04.812Z"
   },
   {
    "duration": 10,
    "start_time": "2022-11-16T08:24:03.402Z"
   },
   {
    "duration": 14,
    "start_time": "2022-11-16T08:24:52.342Z"
   },
   {
    "duration": 12,
    "start_time": "2022-11-16T08:25:31.692Z"
   },
   {
    "duration": 8,
    "start_time": "2022-11-16T08:26:00.449Z"
   },
   {
    "duration": 18,
    "start_time": "2022-11-16T08:27:25.117Z"
   },
   {
    "duration": 8,
    "start_time": "2022-11-16T08:28:21.133Z"
   },
   {
    "duration": 6,
    "start_time": "2022-11-16T08:29:22.288Z"
   },
   {
    "duration": 12,
    "start_time": "2022-11-16T08:29:30.015Z"
   },
   {
    "duration": 11,
    "start_time": "2022-11-16T08:30:03.671Z"
   },
   {
    "duration": 9,
    "start_time": "2022-11-16T08:30:47.378Z"
   },
   {
    "duration": 7,
    "start_time": "2022-11-16T08:31:35.191Z"
   },
   {
    "duration": 12,
    "start_time": "2022-11-16T08:31:41.619Z"
   },
   {
    "duration": 15,
    "start_time": "2022-11-16T08:31:54.188Z"
   },
   {
    "duration": 52,
    "start_time": "2022-11-16T08:33:48.451Z"
   },
   {
    "duration": 16,
    "start_time": "2022-11-16T08:34:02.496Z"
   },
   {
    "duration": 19,
    "start_time": "2022-11-16T08:34:47.446Z"
   },
   {
    "duration": 12,
    "start_time": "2022-11-16T08:35:03.644Z"
   },
   {
    "duration": 18,
    "start_time": "2022-11-16T08:39:16.246Z"
   },
   {
    "duration": 16,
    "start_time": "2022-11-16T08:39:27.915Z"
   },
   {
    "duration": 26,
    "start_time": "2022-11-16T08:40:16.073Z"
   },
   {
    "duration": 11,
    "start_time": "2022-11-16T08:41:26.813Z"
   },
   {
    "duration": 8,
    "start_time": "2022-11-16T08:41:35.700Z"
   },
   {
    "duration": 37,
    "start_time": "2022-11-16T08:42:40.180Z"
   },
   {
    "duration": 33,
    "start_time": "2022-11-16T08:44:41.247Z"
   },
   {
    "duration": 8,
    "start_time": "2022-11-16T08:45:51.171Z"
   },
   {
    "duration": 6,
    "start_time": "2022-11-16T08:46:23.180Z"
   },
   {
    "duration": 6,
    "start_time": "2022-11-16T08:46:41.648Z"
   },
   {
    "duration": 8,
    "start_time": "2022-11-16T08:48:39.269Z"
   },
   {
    "duration": 5,
    "start_time": "2022-11-16T08:55:54.935Z"
   },
   {
    "duration": 83,
    "start_time": "2022-11-16T08:55:58.321Z"
   },
   {
    "duration": 837,
    "start_time": "2022-11-16T08:56:52.207Z"
   },
   {
    "duration": 720,
    "start_time": "2022-11-16T08:57:37.916Z"
   },
   {
    "duration": 94,
    "start_time": "2022-11-16T08:57:40.171Z"
   },
   {
    "duration": 4,
    "start_time": "2022-11-16T08:57:44.811Z"
   },
   {
    "duration": 25,
    "start_time": "2022-11-16T08:57:49.935Z"
   },
   {
    "duration": 23,
    "start_time": "2022-11-16T08:57:56.797Z"
   },
   {
    "duration": 21,
    "start_time": "2022-11-16T08:58:29.504Z"
   },
   {
    "duration": 4,
    "start_time": "2022-11-16T08:59:12.145Z"
   },
   {
    "duration": 18,
    "start_time": "2022-11-16T08:59:20.832Z"
   },
   {
    "duration": 677,
    "start_time": "2022-11-16T08:59:48.877Z"
   },
   {
    "duration": 101,
    "start_time": "2022-11-16T08:59:50.653Z"
   },
   {
    "duration": 92,
    "start_time": "2022-11-16T09:00:12.216Z"
   },
   {
    "duration": 3,
    "start_time": "2022-11-16T09:00:21.348Z"
   },
   {
    "duration": 27,
    "start_time": "2022-11-16T09:00:34.809Z"
   },
   {
    "duration": 23,
    "start_time": "2022-11-16T09:00:39.706Z"
   },
   {
    "duration": 11,
    "start_time": "2022-11-16T09:02:18.024Z"
   },
   {
    "duration": 133,
    "start_time": "2022-11-16T09:05:03.138Z"
   },
   {
    "duration": 1077,
    "start_time": "2022-11-16T09:23:27.238Z"
   },
   {
    "duration": 1099,
    "start_time": "2022-11-16T09:24:52.583Z"
   },
   {
    "duration": 1384,
    "start_time": "2022-11-16T09:28:36.300Z"
   },
   {
    "duration": 1420,
    "start_time": "2022-11-16T09:28:52.616Z"
   },
   {
    "duration": 901,
    "start_time": "2022-11-16T09:29:40.651Z"
   },
   {
    "duration": 675,
    "start_time": "2022-11-16T09:30:16.990Z"
   },
   {
    "duration": 142,
    "start_time": "2022-11-16T09:30:19.176Z"
   },
   {
    "duration": 4,
    "start_time": "2022-11-16T09:30:27.236Z"
   },
   {
    "duration": 11,
    "start_time": "2022-11-16T09:30:31.215Z"
   },
   {
    "duration": 23,
    "start_time": "2022-11-16T09:30:34.101Z"
   },
   {
    "duration": 9,
    "start_time": "2022-11-16T09:30:36.596Z"
   },
   {
    "duration": 9,
    "start_time": "2022-11-16T09:30:41.411Z"
   },
   {
    "duration": 5,
    "start_time": "2022-11-16T09:30:59.859Z"
   },
   {
    "duration": 26,
    "start_time": "2022-11-16T09:31:08.736Z"
   },
   {
    "duration": 5,
    "start_time": "2022-11-16T09:31:25.868Z"
   },
   {
    "duration": 829,
    "start_time": "2022-11-16T21:44:03.914Z"
   },
   {
    "duration": 184,
    "start_time": "2022-11-16T21:44:04.746Z"
   },
   {
    "duration": 4,
    "start_time": "2022-11-16T21:44:04.932Z"
   },
   {
    "duration": 19,
    "start_time": "2022-11-16T21:44:04.938Z"
   },
   {
    "duration": 45,
    "start_time": "2022-11-16T21:44:04.960Z"
   },
   {
    "duration": 16,
    "start_time": "2022-11-16T21:44:05.007Z"
   },
   {
    "duration": 20,
    "start_time": "2022-11-16T21:44:05.025Z"
   },
   {
    "duration": 236,
    "start_time": "2022-11-16T21:44:05.047Z"
   },
   {
    "duration": 217,
    "start_time": "2022-11-16T21:48:05.586Z"
   },
   {
    "duration": 223,
    "start_time": "2022-11-16T21:49:20.476Z"
   },
   {
    "duration": 257,
    "start_time": "2022-11-16T21:54:48.130Z"
   },
   {
    "duration": 86,
    "start_time": "2022-11-16T21:55:16.180Z"
   },
   {
    "duration": 74,
    "start_time": "2022-11-16T21:55:33.973Z"
   },
   {
    "duration": 73,
    "start_time": "2022-11-16T21:55:54.190Z"
   },
   {
    "duration": 210,
    "start_time": "2022-11-16T21:56:03.543Z"
   },
   {
    "duration": 228,
    "start_time": "2022-11-16T21:58:12.631Z"
   },
   {
    "duration": 195,
    "start_time": "2022-11-16T21:58:34.260Z"
   },
   {
    "duration": 222,
    "start_time": "2022-11-16T22:03:58.255Z"
   },
   {
    "duration": 44,
    "start_time": "2022-11-17T00:15:12.086Z"
   },
   {
    "duration": 753,
    "start_time": "2022-11-17T00:15:22.425Z"
   },
   {
    "duration": 271,
    "start_time": "2022-11-17T00:15:23.180Z"
   },
   {
    "duration": 3,
    "start_time": "2022-11-17T00:15:23.452Z"
   },
   {
    "duration": 14,
    "start_time": "2022-11-17T00:15:23.457Z"
   },
   {
    "duration": 21,
    "start_time": "2022-11-17T00:15:23.472Z"
   },
   {
    "duration": 28,
    "start_time": "2022-11-17T00:15:23.495Z"
   },
   {
    "duration": 4,
    "start_time": "2022-11-17T00:15:23.525Z"
   },
   {
    "duration": 226,
    "start_time": "2022-11-17T00:15:23.530Z"
   },
   {
    "duration": 197,
    "start_time": "2022-11-17T00:15:38.916Z"
   },
   {
    "duration": 556,
    "start_time": "2022-11-17T00:24:59.781Z"
   },
   {
    "duration": 123,
    "start_time": "2022-11-17T00:25:00.339Z"
   },
   {
    "duration": 3,
    "start_time": "2022-11-17T00:25:00.463Z"
   },
   {
    "duration": 33,
    "start_time": "2022-11-17T00:25:00.467Z"
   },
   {
    "duration": 39,
    "start_time": "2022-11-17T00:25:00.502Z"
   },
   {
    "duration": 10,
    "start_time": "2022-11-17T00:25:00.543Z"
   },
   {
    "duration": 13,
    "start_time": "2022-11-17T00:25:00.555Z"
   },
   {
    "duration": 234,
    "start_time": "2022-11-17T00:25:00.569Z"
   },
   {
    "duration": 17,
    "start_time": "2022-11-17T00:25:00.805Z"
   },
   {
    "duration": 15,
    "start_time": "2022-11-17T00:25:15.801Z"
   },
   {
    "duration": 798,
    "start_time": "2022-11-17T06:04:54.345Z"
   },
   {
    "duration": 165,
    "start_time": "2022-11-17T06:04:55.145Z"
   },
   {
    "duration": 3,
    "start_time": "2022-11-17T06:04:55.311Z"
   },
   {
    "duration": 16,
    "start_time": "2022-11-17T06:04:55.316Z"
   },
   {
    "duration": 32,
    "start_time": "2022-11-17T06:04:55.334Z"
   },
   {
    "duration": 10,
    "start_time": "2022-11-17T06:04:55.367Z"
   },
   {
    "duration": 10,
    "start_time": "2022-11-17T06:04:55.378Z"
   },
   {
    "duration": 230,
    "start_time": "2022-11-17T06:04:55.390Z"
   },
   {
    "duration": 19,
    "start_time": "2022-11-17T06:04:55.621Z"
   },
   {
    "duration": 80,
    "start_time": "2022-11-17T06:10:39.641Z"
   },
   {
    "duration": 78,
    "start_time": "2022-11-17T06:13:11.626Z"
   },
   {
    "duration": 16,
    "start_time": "2022-11-17T06:13:24.235Z"
   },
   {
    "duration": 19,
    "start_time": "2022-11-17T06:13:38.814Z"
   },
   {
    "duration": 17,
    "start_time": "2022-11-17T06:13:54.494Z"
   },
   {
    "duration": 16,
    "start_time": "2022-11-17T06:14:48.548Z"
   },
   {
    "duration": 16,
    "start_time": "2022-11-17T06:15:38.643Z"
   },
   {
    "duration": 1111,
    "start_time": "2022-11-17T06:38:40.492Z"
   },
   {
    "duration": 1108,
    "start_time": "2022-11-17T06:38:49.137Z"
   },
   {
    "duration": 24,
    "start_time": "2022-11-17T06:39:43.534Z"
   },
   {
    "duration": 7,
    "start_time": "2022-11-17T06:45:50.879Z"
   },
   {
    "duration": 24,
    "start_time": "2022-11-17T06:46:01.410Z"
   },
   {
    "duration": 13,
    "start_time": "2022-11-17T06:48:04.246Z"
   },
   {
    "duration": 18,
    "start_time": "2022-11-17T06:48:14.181Z"
   },
   {
    "duration": 24,
    "start_time": "2022-11-17T06:48:44.090Z"
   },
   {
    "duration": 20,
    "start_time": "2022-11-17T06:53:21.196Z"
   },
   {
    "duration": 18,
    "start_time": "2022-11-17T06:53:38.864Z"
   },
   {
    "duration": 39,
    "start_time": "2022-11-17T06:56:54.928Z"
   },
   {
    "duration": 27,
    "start_time": "2022-11-17T06:59:51.911Z"
   },
   {
    "duration": 17,
    "start_time": "2022-11-17T07:06:02.178Z"
   },
   {
    "duration": 28,
    "start_time": "2022-11-17T07:06:12.603Z"
   },
   {
    "duration": 26,
    "start_time": "2022-11-17T07:07:12.293Z"
   },
   {
    "duration": 23,
    "start_time": "2022-11-17T07:10:40.230Z"
   },
   {
    "duration": 21,
    "start_time": "2022-11-17T07:16:07.434Z"
   },
   {
    "duration": 27,
    "start_time": "2022-11-17T07:16:26.570Z"
   },
   {
    "duration": 24,
    "start_time": "2022-11-17T07:16:48.061Z"
   },
   {
    "duration": 25,
    "start_time": "2022-11-17T07:17:07.880Z"
   },
   {
    "duration": 23,
    "start_time": "2022-11-17T07:19:23.596Z"
   },
   {
    "duration": 17,
    "start_time": "2022-11-17T07:20:43.299Z"
   },
   {
    "duration": 23,
    "start_time": "2022-11-17T07:21:01.527Z"
   },
   {
    "duration": 90,
    "start_time": "2022-11-17T07:27:53.436Z"
   },
   {
    "duration": 9,
    "start_time": "2022-11-17T07:27:58.712Z"
   },
   {
    "duration": 15,
    "start_time": "2022-11-17T07:28:09.082Z"
   },
   {
    "duration": 18,
    "start_time": "2022-11-17T07:28:47.748Z"
   },
   {
    "duration": 22,
    "start_time": "2022-11-17T07:50:23.615Z"
   },
   {
    "duration": 11,
    "start_time": "2022-11-17T07:51:45.718Z"
   },
   {
    "duration": 30,
    "start_time": "2022-11-17T07:52:01.724Z"
   },
   {
    "duration": 31,
    "start_time": "2022-11-17T07:52:26.328Z"
   },
   {
    "duration": 18,
    "start_time": "2022-11-17T07:53:22.335Z"
   },
   {
    "duration": 23,
    "start_time": "2022-11-17T07:53:29.545Z"
   },
   {
    "duration": 16,
    "start_time": "2022-11-17T08:06:39.678Z"
   },
   {
    "duration": 9,
    "start_time": "2022-11-17T08:25:43.392Z"
   },
   {
    "duration": 15,
    "start_time": "2022-11-17T08:25:51.563Z"
   },
   {
    "duration": 13,
    "start_time": "2022-11-17T08:28:42.918Z"
   },
   {
    "duration": 15,
    "start_time": "2022-11-17T08:29:45.478Z"
   },
   {
    "duration": 12,
    "start_time": "2022-11-17T08:30:25.382Z"
   },
   {
    "duration": 7,
    "start_time": "2022-11-17T08:34:44.175Z"
   },
   {
    "duration": 9,
    "start_time": "2022-11-17T08:34:56.999Z"
   },
   {
    "duration": 9,
    "start_time": "2022-11-17T08:35:28.279Z"
   },
   {
    "duration": 10,
    "start_time": "2022-11-17T08:36:43.936Z"
   },
   {
    "duration": 80,
    "start_time": "2022-11-17T08:55:53.250Z"
   },
   {
    "duration": 38,
    "start_time": "2022-11-17T08:56:08.139Z"
   },
   {
    "duration": 28,
    "start_time": "2022-11-17T08:56:46.280Z"
   },
   {
    "duration": 27,
    "start_time": "2022-11-17T08:57:11.064Z"
   },
   {
    "duration": 28,
    "start_time": "2022-11-17T08:57:52.147Z"
   },
   {
    "duration": 11,
    "start_time": "2022-11-17T08:58:14.314Z"
   },
   {
    "duration": 74,
    "start_time": "2022-11-17T08:59:28.167Z"
   },
   {
    "duration": 25,
    "start_time": "2022-11-17T08:59:41.903Z"
   },
   {
    "duration": 28,
    "start_time": "2022-11-17T08:59:53.490Z"
   },
   {
    "duration": 28,
    "start_time": "2022-11-17T09:00:30.619Z"
   },
   {
    "duration": 27,
    "start_time": "2022-11-17T09:00:45.796Z"
   },
   {
    "duration": 27,
    "start_time": "2022-11-17T09:01:13.026Z"
   },
   {
    "duration": 26,
    "start_time": "2022-11-17T09:01:51.892Z"
   },
   {
    "duration": 26,
    "start_time": "2022-11-17T09:02:13.960Z"
   },
   {
    "duration": 239,
    "start_time": "2022-11-17T09:05:35.636Z"
   },
   {
    "duration": 284,
    "start_time": "2022-11-17T09:08:54.215Z"
   },
   {
    "duration": 26,
    "start_time": "2022-11-17T09:09:59.809Z"
   },
   {
    "duration": 29,
    "start_time": "2022-11-17T09:10:11.683Z"
   },
   {
    "duration": 24,
    "start_time": "2022-11-17T09:10:43.377Z"
   },
   {
    "duration": 1236,
    "start_time": "2022-11-17T09:11:07.979Z"
   },
   {
    "duration": 1325,
    "start_time": "2022-11-17T09:11:30.567Z"
   },
   {
    "duration": 1326,
    "start_time": "2022-11-17T09:12:01.196Z"
   },
   {
    "duration": 32,
    "start_time": "2022-11-17T09:12:19.962Z"
   },
   {
    "duration": 1223,
    "start_time": "2022-11-17T09:12:49.404Z"
   },
   {
    "duration": 211,
    "start_time": "2022-11-17T09:13:06.379Z"
   },
   {
    "duration": 214,
    "start_time": "2022-11-17T09:13:38.449Z"
   },
   {
    "duration": 118,
    "start_time": "2022-11-17T09:14:21.769Z"
   },
   {
    "duration": 199,
    "start_time": "2022-11-17T09:14:38.169Z"
   },
   {
    "duration": 218,
    "start_time": "2022-11-17T09:19:12.813Z"
   },
   {
    "duration": 215,
    "start_time": "2022-11-17T09:20:11.355Z"
   },
   {
    "duration": 26,
    "start_time": "2022-11-17T09:20:52.900Z"
   },
   {
    "duration": 77,
    "start_time": "2022-11-17T09:30:23.896Z"
   },
   {
    "duration": 194,
    "start_time": "2022-11-17T09:30:32.983Z"
   },
   {
    "duration": 198,
    "start_time": "2022-11-17T09:31:26.743Z"
   },
   {
    "duration": 558,
    "start_time": "2022-11-17T09:36:24.777Z"
   },
   {
    "duration": 50,
    "start_time": "2022-11-17T09:38:35.008Z"
   },
   {
    "duration": 496,
    "start_time": "2022-11-17T09:38:46.716Z"
   },
   {
    "duration": 27,
    "start_time": "2022-11-17T09:43:05.280Z"
   },
   {
    "duration": 2203,
    "start_time": "2022-11-17T09:44:38.307Z"
   },
   {
    "duration": 29,
    "start_time": "2022-11-17T09:46:13.313Z"
   },
   {
    "duration": 139,
    "start_time": "2022-11-17T09:46:27.206Z"
   },
   {
    "duration": 217,
    "start_time": "2022-11-17T09:46:46.791Z"
   },
   {
    "duration": 27,
    "start_time": "2022-11-17T09:47:15.880Z"
   },
   {
    "duration": 26,
    "start_time": "2022-11-17T09:47:36.626Z"
   },
   {
    "duration": 484,
    "start_time": "2022-11-17T09:47:58.197Z"
   },
   {
    "duration": 496,
    "start_time": "2022-11-17T09:50:36.948Z"
   },
   {
    "duration": 506,
    "start_time": "2022-11-17T09:54:00.610Z"
   },
   {
    "duration": 65,
    "start_time": "2022-11-17T09:54:51.962Z"
   },
   {
    "duration": 485,
    "start_time": "2022-11-17T09:55:16.196Z"
   },
   {
    "duration": 512,
    "start_time": "2022-11-17T09:55:35.368Z"
   },
   {
    "duration": 243,
    "start_time": "2022-11-17T09:57:20.679Z"
   },
   {
    "duration": 2,
    "start_time": "2022-11-17T09:59:13.212Z"
   },
   {
    "duration": 544,
    "start_time": "2022-11-17T09:59:22.317Z"
   },
   {
    "duration": 512,
    "start_time": "2022-11-17T09:59:43.649Z"
   },
   {
    "duration": 579,
    "start_time": "2022-11-17T10:01:03.898Z"
   },
   {
    "duration": 581,
    "start_time": "2022-11-17T10:03:15.181Z"
   },
   {
    "duration": 553,
    "start_time": "2022-11-17T10:04:35.031Z"
   },
   {
    "duration": 735,
    "start_time": "2022-11-17T10:04:52.056Z"
   },
   {
    "duration": 583,
    "start_time": "2022-11-17T10:05:05.428Z"
   },
   {
    "duration": 186,
    "start_time": "2022-11-17T10:05:55.401Z"
   },
   {
    "duration": 568,
    "start_time": "2022-11-17T10:06:40.745Z"
   },
   {
    "duration": 520,
    "start_time": "2022-11-17T10:08:16.814Z"
   },
   {
    "duration": 633,
    "start_time": "2022-11-17T10:08:55.299Z"
   },
   {
    "duration": 525,
    "start_time": "2022-11-17T10:09:07.088Z"
   },
   {
    "duration": 538,
    "start_time": "2022-11-17T10:10:16.857Z"
   },
   {
    "duration": 675,
    "start_time": "2022-11-17T10:10:28.520Z"
   },
   {
    "duration": 531,
    "start_time": "2022-11-17T10:10:37.428Z"
   },
   {
    "duration": 1307,
    "start_time": "2022-11-17T21:45:14.558Z"
   },
   {
    "duration": 265,
    "start_time": "2022-11-17T21:45:15.867Z"
   },
   {
    "duration": 3,
    "start_time": "2022-11-17T21:45:16.134Z"
   },
   {
    "duration": 16,
    "start_time": "2022-11-17T21:45:16.139Z"
   },
   {
    "duration": 32,
    "start_time": "2022-11-17T21:45:16.157Z"
   },
   {
    "duration": 9,
    "start_time": "2022-11-17T21:45:16.190Z"
   },
   {
    "duration": 11,
    "start_time": "2022-11-17T21:45:16.201Z"
   },
   {
    "duration": 229,
    "start_time": "2022-11-17T21:45:16.213Z"
   },
   {
    "duration": 537,
    "start_time": "2022-11-17T21:45:16.444Z"
   },
   {
    "duration": 3,
    "start_time": "2022-11-17T21:45:16.983Z"
   },
   {
    "duration": 23,
    "start_time": "2022-11-17T22:01:44.675Z"
   },
   {
    "duration": 6,
    "start_time": "2022-11-17T22:02:19.563Z"
   },
   {
    "duration": 22,
    "start_time": "2022-11-17T22:05:18.785Z"
   },
   {
    "duration": 816,
    "start_time": "2022-11-17T22:17:04.258Z"
   },
   {
    "duration": 6,
    "start_time": "2022-11-17T22:17:30.034Z"
   },
   {
    "duration": 20,
    "start_time": "2022-11-17T22:17:38.816Z"
   },
   {
    "duration": 213,
    "start_time": "2022-11-17T22:18:25.105Z"
   },
   {
    "duration": 18,
    "start_time": "2022-11-17T22:19:13.629Z"
   },
   {
    "duration": 17,
    "start_time": "2022-11-17T22:23:10.977Z"
   },
   {
    "duration": 16,
    "start_time": "2022-11-17T22:23:49.267Z"
   },
   {
    "duration": 16,
    "start_time": "2022-11-17T22:24:38.435Z"
   },
   {
    "duration": 5,
    "start_time": "2022-11-17T22:24:48.743Z"
   },
   {
    "duration": 4,
    "start_time": "2022-11-17T22:25:59.904Z"
   },
   {
    "duration": 15,
    "start_time": "2022-11-17T22:26:15.263Z"
   },
   {
    "duration": 16,
    "start_time": "2022-11-17T22:26:38.881Z"
   },
   {
    "duration": 17,
    "start_time": "2022-11-17T22:26:55.549Z"
   },
   {
    "duration": 18,
    "start_time": "2022-11-17T22:30:26.831Z"
   },
   {
    "duration": 18,
    "start_time": "2022-11-17T22:30:55.574Z"
   },
   {
    "duration": 45,
    "start_time": "2022-11-17T22:32:02.103Z"
   },
   {
    "duration": 16,
    "start_time": "2022-11-17T22:32:23.755Z"
   },
   {
    "duration": 8,
    "start_time": "2022-11-17T22:33:45.529Z"
   },
   {
    "duration": 6,
    "start_time": "2022-11-17T22:35:42.555Z"
   },
   {
    "duration": 16,
    "start_time": "2022-11-17T22:35:49.629Z"
   },
   {
    "duration": 16,
    "start_time": "2022-11-17T22:36:09.225Z"
   },
   {
    "duration": 17,
    "start_time": "2022-11-17T22:37:19.204Z"
   },
   {
    "duration": 3,
    "start_time": "2022-11-17T22:40:58.977Z"
   },
   {
    "duration": 7,
    "start_time": "2022-11-17T22:41:08.627Z"
   },
   {
    "duration": 23,
    "start_time": "2022-11-17T22:41:18.795Z"
   },
   {
    "duration": 19,
    "start_time": "2022-11-17T22:41:37.624Z"
   },
   {
    "duration": 23,
    "start_time": "2022-11-17T22:42:17.806Z"
   },
   {
    "duration": 21,
    "start_time": "2022-11-17T22:42:31.218Z"
   },
   {
    "duration": 14,
    "start_time": "2022-11-17T22:43:52.900Z"
   },
   {
    "duration": 30,
    "start_time": "2022-11-17T22:44:45.129Z"
   },
   {
    "duration": 14,
    "start_time": "2022-11-17T22:45:22.458Z"
   },
   {
    "duration": 16,
    "start_time": "2022-11-17T22:47:30.220Z"
   },
   {
    "duration": 15,
    "start_time": "2022-11-17T22:48:21.853Z"
   },
   {
    "duration": 16,
    "start_time": "2022-11-17T22:49:57.475Z"
   },
   {
    "duration": 59,
    "start_time": "2022-11-17T22:50:09.706Z"
   },
   {
    "duration": 200,
    "start_time": "2022-11-17T22:50:24.292Z"
   },
   {
    "duration": 16,
    "start_time": "2022-11-17T22:50:44.081Z"
   },
   {
    "duration": 212,
    "start_time": "2022-11-17T22:51:08.002Z"
   },
   {
    "duration": 261,
    "start_time": "2022-11-17T22:51:19.131Z"
   },
   {
    "duration": 208,
    "start_time": "2022-11-17T22:53:21.275Z"
   },
   {
    "duration": 47,
    "start_time": "2022-11-17T22:54:33.164Z"
   },
   {
    "duration": 26,
    "start_time": "2022-11-17T22:54:40.096Z"
   },
   {
    "duration": 28,
    "start_time": "2022-11-17T22:56:36.150Z"
   },
   {
    "duration": 24,
    "start_time": "2022-11-17T22:57:15.290Z"
   },
   {
    "duration": 21,
    "start_time": "2022-11-17T22:58:15.849Z"
   },
   {
    "duration": 680,
    "start_time": "2022-11-17T22:59:16.494Z"
   },
   {
    "duration": 189,
    "start_time": "2022-11-17T22:59:31.338Z"
   },
   {
    "duration": 52,
    "start_time": "2022-11-17T23:00:13.111Z"
   },
   {
    "duration": 205,
    "start_time": "2022-11-17T23:00:22.935Z"
   },
   {
    "duration": 214,
    "start_time": "2022-11-17T23:02:49.468Z"
   },
   {
    "duration": 218,
    "start_time": "2022-11-17T23:03:23.393Z"
   },
   {
    "duration": 201,
    "start_time": "2022-11-17T23:11:09.649Z"
   },
   {
    "duration": 196,
    "start_time": "2022-11-17T23:11:22.065Z"
   },
   {
    "duration": 194,
    "start_time": "2022-11-17T23:11:31.866Z"
   },
   {
    "duration": 191,
    "start_time": "2022-11-17T23:11:41.224Z"
   },
   {
    "duration": 228,
    "start_time": "2022-11-17T23:13:17.342Z"
   },
   {
    "duration": 323,
    "start_time": "2022-11-17T23:14:37.485Z"
   },
   {
    "duration": 405,
    "start_time": "2022-11-17T23:14:50.371Z"
   },
   {
    "duration": 349,
    "start_time": "2022-11-17T23:15:12.429Z"
   },
   {
    "duration": 220,
    "start_time": "2022-11-17T23:19:42.815Z"
   },
   {
    "duration": 1009,
    "start_time": "2022-11-17T23:22:12.067Z"
   },
   {
    "duration": 214,
    "start_time": "2022-11-17T23:22:32.034Z"
   },
   {
    "duration": 7,
    "start_time": "2022-11-17T23:24:04.114Z"
   },
   {
    "duration": 64,
    "start_time": "2022-11-17T23:25:52.570Z"
   },
   {
    "duration": 42,
    "start_time": "2022-11-17T23:25:56.238Z"
   },
   {
    "duration": 41,
    "start_time": "2022-11-17T23:26:34.098Z"
   },
   {
    "duration": 41,
    "start_time": "2022-11-17T23:26:54.784Z"
   },
   {
    "duration": 14,
    "start_time": "2022-11-17T23:27:15.145Z"
   },
   {
    "duration": 15,
    "start_time": "2022-11-17T23:27:23.799Z"
   },
   {
    "duration": 28,
    "start_time": "2022-11-17T23:27:57.495Z"
   },
   {
    "duration": 16,
    "start_time": "2022-11-17T23:31:22.929Z"
   },
   {
    "duration": 16,
    "start_time": "2022-11-17T23:32:03.734Z"
   },
   {
    "duration": 15,
    "start_time": "2022-11-17T23:33:10.905Z"
   },
   {
    "duration": 16,
    "start_time": "2022-11-17T23:34:11.996Z"
   },
   {
    "duration": 16,
    "start_time": "2022-11-17T23:34:48.283Z"
   },
   {
    "duration": 21,
    "start_time": "2022-11-17T23:35:20.036Z"
   },
   {
    "duration": 20,
    "start_time": "2022-11-17T23:36:10.904Z"
   },
   {
    "duration": 5,
    "start_time": "2022-11-17T23:36:19.852Z"
   },
   {
    "duration": 20,
    "start_time": "2022-11-17T23:37:23.437Z"
   },
   {
    "duration": 21,
    "start_time": "2022-11-17T23:38:47.474Z"
   },
   {
    "duration": 19,
    "start_time": "2022-11-17T23:39:17.166Z"
   },
   {
    "duration": 263,
    "start_time": "2022-11-17T23:41:15.604Z"
   },
   {
    "duration": 14,
    "start_time": "2022-11-17T23:51:28.106Z"
   },
   {
    "duration": 19,
    "start_time": "2022-11-17T23:51:38.970Z"
   },
   {
    "duration": 217,
    "start_time": "2022-11-17T23:52:34.001Z"
   },
   {
    "duration": 231,
    "start_time": "2022-11-17T23:53:01.320Z"
   },
   {
    "duration": 205,
    "start_time": "2022-11-18T00:38:22.585Z"
   },
   {
    "duration": 301,
    "start_time": "2022-11-18T00:38:53.611Z"
   },
   {
    "duration": 223,
    "start_time": "2022-11-18T00:45:04.733Z"
   },
   {
    "duration": 222,
    "start_time": "2022-11-18T00:45:10.562Z"
   },
   {
    "duration": 201,
    "start_time": "2022-11-18T00:45:53.790Z"
   },
   {
    "duration": 8,
    "start_time": "2022-11-18T01:22:14.686Z"
   },
   {
    "duration": 180,
    "start_time": "2022-11-18T01:22:59.233Z"
   },
   {
    "duration": 7,
    "start_time": "2022-11-18T01:23:14.963Z"
   },
   {
    "duration": 45,
    "start_time": "2022-11-18T01:24:14.383Z"
   },
   {
    "duration": 354,
    "start_time": "2022-11-18T01:24:24.758Z"
   },
   {
    "duration": 193,
    "start_time": "2022-11-18T01:24:43.653Z"
   },
   {
    "duration": 7,
    "start_time": "2022-11-18T01:24:48.644Z"
   },
   {
    "duration": 6,
    "start_time": "2022-11-18T01:26:19.225Z"
   },
   {
    "duration": 29,
    "start_time": "2022-11-18T01:28:44.445Z"
   },
   {
    "duration": 22,
    "start_time": "2022-11-18T01:29:13.925Z"
   },
   {
    "duration": 13,
    "start_time": "2022-11-18T01:32:01.241Z"
   },
   {
    "duration": 139,
    "start_time": "2022-11-18T01:32:40.572Z"
   },
   {
    "duration": 151,
    "start_time": "2022-11-18T01:36:50.372Z"
   },
   {
    "duration": 124,
    "start_time": "2022-11-18T01:37:30.309Z"
   },
   {
    "duration": 113,
    "start_time": "2022-11-18T01:37:51.405Z"
   },
   {
    "duration": 144,
    "start_time": "2022-11-18T01:38:05.956Z"
   },
   {
    "duration": 169,
    "start_time": "2022-11-18T01:38:36.429Z"
   },
   {
    "duration": 139,
    "start_time": "2022-11-18T01:39:01.809Z"
   },
   {
    "duration": 135,
    "start_time": "2022-11-18T01:41:55.834Z"
   },
   {
    "duration": 133,
    "start_time": "2022-11-18T01:42:17.870Z"
   },
   {
    "duration": 168,
    "start_time": "2022-11-18T01:42:35.241Z"
   },
   {
    "duration": 272,
    "start_time": "2022-11-18T01:43:10.482Z"
   },
   {
    "duration": 162,
    "start_time": "2022-11-18T01:44:41.288Z"
   },
   {
    "duration": 130,
    "start_time": "2022-11-18T01:45:30.161Z"
   },
   {
    "duration": 150,
    "start_time": "2022-11-18T01:46:05.188Z"
   },
   {
    "duration": 109,
    "start_time": "2022-11-18T01:46:18.939Z"
   },
   {
    "duration": 139,
    "start_time": "2022-11-18T01:46:27.974Z"
   },
   {
    "duration": 1292,
    "start_time": "2022-11-18T04:49:56.580Z"
   },
   {
    "duration": 168,
    "start_time": "2022-11-18T04:49:57.874Z"
   },
   {
    "duration": 4,
    "start_time": "2022-11-18T04:49:58.043Z"
   },
   {
    "duration": 14,
    "start_time": "2022-11-18T04:49:58.048Z"
   },
   {
    "duration": 23,
    "start_time": "2022-11-18T04:49:58.064Z"
   },
   {
    "duration": 35,
    "start_time": "2022-11-18T04:49:58.089Z"
   },
   {
    "duration": 5,
    "start_time": "2022-11-18T04:49:58.125Z"
   },
   {
    "duration": 238,
    "start_time": "2022-11-18T04:49:58.131Z"
   },
   {
    "duration": 556,
    "start_time": "2022-11-18T04:49:58.371Z"
   },
   {
    "duration": 202,
    "start_time": "2022-11-18T04:49:58.929Z"
   },
   {
    "duration": 147,
    "start_time": "2022-11-18T04:49:59.133Z"
   },
   {
    "duration": 127,
    "start_time": "2022-11-18T04:50:21.638Z"
   },
   {
    "duration": 143,
    "start_time": "2022-11-18T04:50:36.258Z"
   },
   {
    "duration": 259,
    "start_time": "2022-11-18T04:53:04.813Z"
   },
   {
    "duration": 143,
    "start_time": "2022-11-18T04:53:44.844Z"
   },
   {
    "duration": 151,
    "start_time": "2022-11-18T04:53:52.745Z"
   },
   {
    "duration": 141,
    "start_time": "2022-11-18T04:54:42.148Z"
   },
   {
    "duration": 181,
    "start_time": "2022-11-18T04:55:05.005Z"
   },
   {
    "duration": 194,
    "start_time": "2022-11-18T04:55:16.545Z"
   },
   {
    "duration": 24,
    "start_time": "2022-11-18T04:55:51.235Z"
   },
   {
    "duration": 10,
    "start_time": "2022-11-18T04:59:50.211Z"
   },
   {
    "duration": 28,
    "start_time": "2022-11-18T05:00:04.847Z"
   },
   {
    "duration": 154,
    "start_time": "2022-11-18T05:00:21.709Z"
   },
   {
    "duration": 23,
    "start_time": "2022-11-18T05:00:53.698Z"
   },
   {
    "duration": 22,
    "start_time": "2022-11-18T05:05:50.295Z"
   },
   {
    "duration": 151,
    "start_time": "2022-11-18T05:06:07.510Z"
   },
   {
    "duration": 164,
    "start_time": "2022-11-18T05:06:24.537Z"
   },
   {
    "duration": 103,
    "start_time": "2022-11-18T05:11:03.498Z"
   },
   {
    "duration": 17,
    "start_time": "2022-11-18T05:11:33.945Z"
   },
   {
    "duration": 18,
    "start_time": "2022-11-18T05:11:40.053Z"
   },
   {
    "duration": 212,
    "start_time": "2022-11-18T05:12:04.141Z"
   },
   {
    "duration": 8751,
    "start_time": "2022-11-18T05:12:44.403Z"
   },
   {
    "duration": 233,
    "start_time": "2022-11-18T05:13:13.803Z"
   },
   {
    "duration": 237,
    "start_time": "2022-11-18T05:15:08.871Z"
   },
   {
    "duration": 184,
    "start_time": "2022-11-18T05:39:49.857Z"
   },
   {
    "duration": 162,
    "start_time": "2022-11-18T05:43:29.986Z"
   },
   {
    "duration": 158,
    "start_time": "2022-11-18T05:43:48.693Z"
   },
   {
    "duration": 154,
    "start_time": "2022-11-18T05:55:31.921Z"
   },
   {
    "duration": 162,
    "start_time": "2022-11-18T05:55:50.187Z"
   },
   {
    "duration": 177,
    "start_time": "2022-11-18T06:20:36.504Z"
   },
   {
    "duration": 158,
    "start_time": "2022-11-18T06:44:21.953Z"
   },
   {
    "duration": 193,
    "start_time": "2022-11-18T06:44:34.990Z"
   },
   {
    "duration": 13,
    "start_time": "2022-11-18T08:17:17.594Z"
   },
   {
    "duration": 31,
    "start_time": "2022-11-18T08:18:16.638Z"
   },
   {
    "duration": 12,
    "start_time": "2022-11-18T08:23:34.477Z"
   },
   {
    "duration": 21,
    "start_time": "2022-11-18T08:23:44.345Z"
   },
   {
    "duration": 79,
    "start_time": "2022-11-18T08:25:55.220Z"
   },
   {
    "duration": 17,
    "start_time": "2022-11-18T08:26:07.644Z"
   },
   {
    "duration": 21,
    "start_time": "2022-11-18T08:27:31.590Z"
   },
   {
    "duration": 13,
    "start_time": "2022-11-18T08:28:15.380Z"
   },
   {
    "duration": 12,
    "start_time": "2022-11-18T08:28:31.780Z"
   },
   {
    "duration": 22,
    "start_time": "2022-11-18T08:28:44.222Z"
   },
   {
    "duration": 14,
    "start_time": "2022-11-18T08:32:24.676Z"
   },
   {
    "duration": 15,
    "start_time": "2022-11-18T08:32:39.237Z"
   },
   {
    "duration": 22,
    "start_time": "2022-11-18T08:33:27.097Z"
   },
   {
    "duration": 24,
    "start_time": "2022-11-18T08:33:46.953Z"
   },
   {
    "duration": 23,
    "start_time": "2022-11-18T08:34:13.985Z"
   },
   {
    "duration": 22,
    "start_time": "2022-11-18T08:34:30.105Z"
   },
   {
    "duration": 24,
    "start_time": "2022-11-18T08:34:44.590Z"
   },
   {
    "duration": 101,
    "start_time": "2022-11-18T08:39:10.992Z"
   },
   {
    "duration": 30,
    "start_time": "2022-11-18T08:39:18.420Z"
   },
   {
    "duration": 24,
    "start_time": "2022-11-18T08:41:16.310Z"
   },
   {
    "duration": 18,
    "start_time": "2022-11-18T08:42:24.965Z"
   },
   {
    "duration": 18,
    "start_time": "2022-11-18T08:42:38.464Z"
   },
   {
    "duration": 23,
    "start_time": "2022-11-18T08:43:02.310Z"
   },
   {
    "duration": 12,
    "start_time": "2022-11-18T08:44:40.595Z"
   },
   {
    "duration": 80,
    "start_time": "2022-11-18T08:45:31.819Z"
   },
   {
    "duration": 129,
    "start_time": "2022-11-18T08:45:50.072Z"
   },
   {
    "duration": 24,
    "start_time": "2022-11-18T08:46:01.454Z"
   },
   {
    "duration": 12,
    "start_time": "2022-11-18T08:46:10.474Z"
   },
   {
    "duration": 1515,
    "start_time": "2022-11-18T08:48:02.453Z"
   },
   {
    "duration": 1492,
    "start_time": "2022-11-18T08:48:17.513Z"
   },
   {
    "duration": 16,
    "start_time": "2022-11-18T08:49:55.917Z"
   },
   {
    "duration": 20,
    "start_time": "2022-11-18T08:52:21.016Z"
   },
   {
    "duration": 10,
    "start_time": "2022-11-18T08:56:31.034Z"
   },
   {
    "duration": 12,
    "start_time": "2022-11-18T08:56:42.000Z"
   },
   {
    "duration": 12,
    "start_time": "2022-11-18T08:57:03.555Z"
   },
   {
    "duration": 11,
    "start_time": "2022-11-18T08:58:59.373Z"
   },
   {
    "duration": 85,
    "start_time": "2022-11-18T08:59:37.591Z"
   },
   {
    "duration": 31,
    "start_time": "2022-11-18T09:02:16.373Z"
   },
   {
    "duration": 1455,
    "start_time": "2022-11-18T09:14:23.048Z"
   },
   {
    "duration": 1591,
    "start_time": "2022-11-18T09:15:18.051Z"
   },
   {
    "duration": 317,
    "start_time": "2022-11-18T09:15:31.657Z"
   },
   {
    "duration": 243,
    "start_time": "2022-11-18T09:16:26.411Z"
   },
   {
    "duration": 114,
    "start_time": "2022-11-18T09:20:59.120Z"
   },
   {
    "duration": 75,
    "start_time": "2022-11-18T09:21:20.082Z"
   },
   {
    "duration": 71,
    "start_time": "2022-11-18T09:22:42.756Z"
   },
   {
    "duration": 230,
    "start_time": "2022-11-18T09:23:31.896Z"
   },
   {
    "duration": 418,
    "start_time": "2022-11-18T09:24:52.032Z"
   },
   {
    "duration": 77,
    "start_time": "2022-11-18T09:28:44.485Z"
   },
   {
    "duration": 273,
    "start_time": "2022-11-18T09:30:22.310Z"
   },
   {
    "duration": 80,
    "start_time": "2022-11-18T09:30:43.764Z"
   },
   {
    "duration": 230,
    "start_time": "2022-11-18T09:30:49.514Z"
   },
   {
    "duration": 231,
    "start_time": "2022-11-18T09:30:56.207Z"
   },
   {
    "duration": 85,
    "start_time": "2022-11-18T09:33:00.079Z"
   },
   {
    "duration": 19,
    "start_time": "2022-11-18T09:33:05.772Z"
   },
   {
    "duration": 1440,
    "start_time": "2022-11-18T09:33:39.251Z"
   },
   {
    "duration": 164,
    "start_time": "2022-11-18T09:37:28.840Z"
   },
   {
    "duration": 255,
    "start_time": "2022-11-18T09:37:34.788Z"
   },
   {
    "duration": 447,
    "start_time": "2022-11-18T09:37:47.217Z"
   },
   {
    "duration": 468,
    "start_time": "2022-11-18T09:38:42.578Z"
   },
   {
    "duration": 70,
    "start_time": "2022-11-18T09:39:11.959Z"
   },
   {
    "duration": 76,
    "start_time": "2022-11-18T09:39:18.538Z"
   },
   {
    "duration": 453,
    "start_time": "2022-11-18T09:39:27.698Z"
   },
   {
    "duration": 439,
    "start_time": "2022-11-18T09:39:42.130Z"
   },
   {
    "duration": 425,
    "start_time": "2022-11-18T09:40:09.675Z"
   },
   {
    "duration": 454,
    "start_time": "2022-11-18T09:40:31.877Z"
   },
   {
    "duration": 448,
    "start_time": "2022-11-18T09:40:50.694Z"
   },
   {
    "duration": 466,
    "start_time": "2022-11-18T09:41:57.469Z"
   },
   {
    "duration": 414,
    "start_time": "2022-11-18T09:42:11.457Z"
   },
   {
    "duration": 410,
    "start_time": "2022-11-18T09:45:17.257Z"
   },
   {
    "duration": 433,
    "start_time": "2022-11-18T09:45:51.813Z"
   },
   {
    "duration": 425,
    "start_time": "2022-11-18T09:49:19.265Z"
   },
   {
    "duration": 421,
    "start_time": "2022-11-18T09:49:33.702Z"
   },
   {
    "duration": 415,
    "start_time": "2022-11-18T09:49:45.578Z"
   },
   {
    "duration": 411,
    "start_time": "2022-11-18T09:50:27.874Z"
   },
   {
    "duration": 81,
    "start_time": "2022-11-18T09:51:13.544Z"
   },
   {
    "duration": 433,
    "start_time": "2022-11-18T09:51:32.624Z"
   },
   {
    "duration": 430,
    "start_time": "2022-11-18T09:54:17.839Z"
   },
   {
    "duration": 454,
    "start_time": "2022-11-18T09:54:38.490Z"
   },
   {
    "duration": 437,
    "start_time": "2022-11-18T09:58:12.200Z"
   },
   {
    "duration": 472,
    "start_time": "2022-11-18T09:58:24.079Z"
   },
   {
    "duration": 441,
    "start_time": "2022-11-18T09:59:20.799Z"
   },
   {
    "duration": 88,
    "start_time": "2022-11-18T10:26:53.426Z"
   },
   {
    "duration": 71,
    "start_time": "2022-11-18T10:27:03.537Z"
   },
   {
    "duration": 24,
    "start_time": "2022-11-18T10:27:14.188Z"
   },
   {
    "duration": 29,
    "start_time": "2022-11-18T10:27:30.180Z"
   },
   {
    "duration": 750,
    "start_time": "2022-11-18T10:30:42.675Z"
   },
   {
    "duration": 308,
    "start_time": "2022-11-18T10:31:01.332Z"
   },
   {
    "duration": 21,
    "start_time": "2022-11-18T10:32:53.456Z"
   },
   {
    "duration": 274,
    "start_time": "2022-11-18T10:34:36.428Z"
   },
   {
    "duration": 23,
    "start_time": "2022-11-18T10:35:48.620Z"
   },
   {
    "duration": 288,
    "start_time": "2022-11-18T10:36:17.125Z"
   },
   {
    "duration": 582,
    "start_time": "2022-11-18T10:36:40.498Z"
   },
   {
    "duration": 579,
    "start_time": "2022-11-18T10:38:33.084Z"
   },
   {
    "duration": 615,
    "start_time": "2022-11-18T10:38:55.433Z"
   },
   {
    "duration": 601,
    "start_time": "2022-11-18T10:39:10.834Z"
   },
   {
    "duration": 808,
    "start_time": "2022-11-18T10:39:21.799Z"
   },
   {
    "duration": 70,
    "start_time": "2022-11-18T10:39:45.695Z"
   },
   {
    "duration": 583,
    "start_time": "2022-11-18T10:39:52.765Z"
   },
   {
    "duration": 571,
    "start_time": "2022-11-18T10:51:36.486Z"
   },
   {
    "duration": 607,
    "start_time": "2022-11-18T11:12:39.490Z"
   },
   {
    "duration": 1293,
    "start_time": "2022-11-18T19:10:10.560Z"
   },
   {
    "duration": 195,
    "start_time": "2022-11-18T19:10:11.855Z"
   },
   {
    "duration": 3,
    "start_time": "2022-11-18T19:10:12.052Z"
   },
   {
    "duration": 18,
    "start_time": "2022-11-18T19:10:12.058Z"
   },
   {
    "duration": 38,
    "start_time": "2022-11-18T19:10:12.078Z"
   },
   {
    "duration": 14,
    "start_time": "2022-11-18T19:10:12.119Z"
   },
   {
    "duration": 5,
    "start_time": "2022-11-18T19:10:12.135Z"
   },
   {
    "duration": 280,
    "start_time": "2022-11-18T19:10:12.142Z"
   },
   {
    "duration": 585,
    "start_time": "2022-11-18T19:10:12.424Z"
   },
   {
    "duration": 210,
    "start_time": "2022-11-18T19:10:13.012Z"
   },
   {
    "duration": 191,
    "start_time": "2022-11-18T19:10:13.224Z"
   },
   {
    "duration": 417,
    "start_time": "2022-11-18T19:10:13.417Z"
   },
   {
    "duration": 661,
    "start_time": "2022-11-18T19:10:13.836Z"
   },
   {
    "duration": 3,
    "start_time": "2022-11-18T19:10:14.498Z"
   },
   {
    "duration": 33,
    "start_time": "2022-11-18T19:13:04.719Z"
   },
   {
    "duration": 21,
    "start_time": "2022-11-18T19:15:36.264Z"
   },
   {
    "duration": 120,
    "start_time": "2022-11-18T19:19:02.690Z"
   },
   {
    "duration": 26,
    "start_time": "2022-11-18T19:20:05.123Z"
   },
   {
    "duration": 28,
    "start_time": "2022-11-18T19:20:50.269Z"
   },
   {
    "duration": 22,
    "start_time": "2022-11-18T19:21:07.699Z"
   },
   {
    "duration": 29,
    "start_time": "2022-11-18T19:23:03.338Z"
   },
   {
    "duration": 21,
    "start_time": "2022-11-18T19:23:18.176Z"
   },
   {
    "duration": 22,
    "start_time": "2022-11-18T19:23:32.018Z"
   },
   {
    "duration": 17,
    "start_time": "2022-11-18T19:26:39.304Z"
   },
   {
    "duration": 21,
    "start_time": "2022-11-18T19:27:32.431Z"
   },
   {
    "duration": 28,
    "start_time": "2022-11-18T19:29:54.477Z"
   },
   {
    "duration": 21,
    "start_time": "2022-11-18T19:30:09.943Z"
   },
   {
    "duration": 15,
    "start_time": "2022-11-18T19:30:57.681Z"
   },
   {
    "duration": 17,
    "start_time": "2022-11-18T19:31:36.789Z"
   },
   {
    "duration": 20,
    "start_time": "2022-11-18T19:32:47.102Z"
   },
   {
    "duration": 229,
    "start_time": "2022-11-18T19:32:58.109Z"
   },
   {
    "duration": 264,
    "start_time": "2022-11-18T19:34:09.415Z"
   },
   {
    "duration": 212,
    "start_time": "2022-11-18T19:34:28.368Z"
   },
   {
    "duration": 226,
    "start_time": "2022-11-18T19:34:37.728Z"
   },
   {
    "duration": 489,
    "start_time": "2022-11-18T19:42:15.713Z"
   },
   {
    "duration": 453,
    "start_time": "2022-11-18T19:42:39.693Z"
   },
   {
    "duration": 1106,
    "start_time": "2022-11-18T19:55:44.107Z"
   },
   {
    "duration": 125,
    "start_time": "2022-11-18T19:55:47.394Z"
   },
   {
    "duration": 4,
    "start_time": "2022-11-18T19:55:56.920Z"
   },
   {
    "duration": 12,
    "start_time": "2022-11-18T19:56:03.628Z"
   },
   {
    "duration": 768,
    "start_time": "2022-11-18T19:56:08.056Z"
   },
   {
    "duration": 694,
    "start_time": "2022-11-18T19:56:32.406Z"
   },
   {
    "duration": 23,
    "start_time": "2022-11-18T19:57:21.108Z"
   },
   {
    "duration": 21,
    "start_time": "2022-11-18T20:00:28.312Z"
   },
   {
    "duration": 37,
    "start_time": "2022-11-18T20:00:51.498Z"
   },
   {
    "duration": 19,
    "start_time": "2022-11-18T20:01:03.011Z"
   },
   {
    "duration": 11,
    "start_time": "2022-11-18T20:01:08.099Z"
   },
   {
    "duration": 1236,
    "start_time": "2022-11-19T01:47:34.165Z"
   },
   {
    "duration": 172,
    "start_time": "2022-11-19T01:47:36.553Z"
   },
   {
    "duration": 3,
    "start_time": "2022-11-19T01:47:41.269Z"
   },
   {
    "duration": 10,
    "start_time": "2022-11-19T01:47:43.710Z"
   },
   {
    "duration": 23,
    "start_time": "2022-11-19T01:47:46.294Z"
   },
   {
    "duration": 28,
    "start_time": "2022-11-19T01:48:07.975Z"
   },
   {
    "duration": 19,
    "start_time": "2022-11-19T01:48:14.963Z"
   },
   {
    "duration": 10,
    "start_time": "2022-11-19T01:48:17.487Z"
   },
   {
    "duration": 4,
    "start_time": "2022-11-19T02:30:04.513Z"
   },
   {
    "duration": 204,
    "start_time": "2022-11-19T02:30:07.811Z"
   },
   {
    "duration": 521,
    "start_time": "2022-11-19T02:30:22.067Z"
   },
   {
    "duration": 192,
    "start_time": "2022-11-19T02:30:30.737Z"
   },
   {
    "duration": 165,
    "start_time": "2022-11-19T02:30:36.362Z"
   },
   {
    "duration": 375,
    "start_time": "2022-11-19T02:31:07.634Z"
   },
   {
    "duration": 582,
    "start_time": "2022-11-19T02:33:58.063Z"
   },
   {
    "duration": 190,
    "start_time": "2022-11-19T02:37:43.448Z"
   },
   {
    "duration": 196,
    "start_time": "2022-11-19T02:37:56.832Z"
   },
   {
    "duration": 279,
    "start_time": "2022-11-19T02:42:25.092Z"
   },
   {
    "duration": 238,
    "start_time": "2022-11-19T02:42:38.430Z"
   },
   {
    "duration": 228,
    "start_time": "2022-11-19T02:43:17.571Z"
   },
   {
    "duration": 230,
    "start_time": "2022-11-19T02:43:49.780Z"
   },
   {
    "duration": 247,
    "start_time": "2022-11-19T02:49:06.859Z"
   },
   {
    "duration": 94,
    "start_time": "2022-11-19T03:13:46.453Z"
   },
   {
    "duration": 89,
    "start_time": "2022-11-19T03:14:06.656Z"
   },
   {
    "duration": 9,
    "start_time": "2022-11-19T03:21:37.742Z"
   },
   {
    "duration": 161,
    "start_time": "2022-11-19T03:22:01.042Z"
   },
   {
    "duration": 339,
    "start_time": "2022-11-19T03:22:31.258Z"
   },
   {
    "duration": 47,
    "start_time": "2022-11-19T03:25:01.386Z"
   },
   {
    "duration": 57,
    "start_time": "2022-11-19T03:25:13.137Z"
   },
   {
    "duration": 241,
    "start_time": "2022-11-19T03:25:18.596Z"
   },
   {
    "duration": 393,
    "start_time": "2022-11-19T03:25:44.007Z"
   },
   {
    "duration": 365,
    "start_time": "2022-11-19T03:27:52.227Z"
   },
   {
    "duration": 390,
    "start_time": "2022-11-19T03:28:31.367Z"
   },
   {
    "duration": 387,
    "start_time": "2022-11-19T03:28:55.803Z"
   },
   {
    "duration": 384,
    "start_time": "2022-11-19T03:29:02.638Z"
   },
   {
    "duration": 453,
    "start_time": "2022-11-19T03:29:17.117Z"
   },
   {
    "duration": 406,
    "start_time": "2022-11-19T03:32:13.617Z"
   },
   {
    "duration": 52,
    "start_time": "2022-11-19T03:33:02.469Z"
   },
   {
    "duration": 458,
    "start_time": "2022-11-19T03:33:08.157Z"
   },
   {
    "duration": 342,
    "start_time": "2022-11-19T03:34:10.467Z"
   },
   {
    "duration": 384,
    "start_time": "2022-11-19T03:36:32.834Z"
   },
   {
    "duration": 47,
    "start_time": "2022-11-19T03:39:38.423Z"
   },
   {
    "duration": 49,
    "start_time": "2022-11-19T03:40:08.027Z"
   },
   {
    "duration": 38,
    "start_time": "2022-11-19T03:40:12.907Z"
   },
   {
    "duration": 524,
    "start_time": "2022-11-19T03:40:20.439Z"
   },
   {
    "duration": 454,
    "start_time": "2022-11-19T03:40:40.486Z"
   },
   {
    "duration": 376,
    "start_time": "2022-11-19T03:40:54.507Z"
   },
   {
    "duration": 272,
    "start_time": "2022-11-19T03:41:16.379Z"
   },
   {
    "duration": 546,
    "start_time": "2022-11-19T03:44:22.995Z"
   },
   {
    "duration": 437,
    "start_time": "2022-11-19T03:44:42.478Z"
   },
   {
    "duration": 1287,
    "start_time": "2022-11-19T03:45:12.835Z"
   },
   {
    "duration": 1183,
    "start_time": "2022-11-19T03:45:26.635Z"
   },
   {
    "duration": 1615,
    "start_time": "2022-11-19T03:45:53.540Z"
   },
   {
    "duration": 320,
    "start_time": "2022-11-19T03:46:35.189Z"
   },
   {
    "duration": 38,
    "start_time": "2022-11-19T03:51:35.147Z"
   },
   {
    "duration": 104,
    "start_time": "2022-11-19T03:51:46.442Z"
   },
   {
    "duration": 311,
    "start_time": "2022-11-19T03:52:12.773Z"
   },
   {
    "duration": 10,
    "start_time": "2022-11-19T03:52:52.226Z"
   },
   {
    "duration": 133,
    "start_time": "2022-11-19T03:53:04.082Z"
   },
   {
    "duration": 52,
    "start_time": "2022-11-19T03:53:26.562Z"
   },
   {
    "duration": 285,
    "start_time": "2022-11-19T03:53:30.904Z"
   },
   {
    "duration": 10,
    "start_time": "2022-11-19T03:55:14.699Z"
   },
   {
    "duration": 401,
    "start_time": "2022-11-19T03:55:21.722Z"
   },
   {
    "duration": 9,
    "start_time": "2022-11-19T03:56:17.368Z"
   },
   {
    "duration": 9,
    "start_time": "2022-11-19T03:56:25.540Z"
   },
   {
    "duration": 3,
    "start_time": "2022-11-19T03:57:33.833Z"
   },
   {
    "duration": 3201,
    "start_time": "2022-11-19T03:57:49.942Z"
   },
   {
    "duration": 188,
    "start_time": "2022-11-19T03:58:11.839Z"
   },
   {
    "duration": 393,
    "start_time": "2022-11-19T03:58:24.711Z"
   },
   {
    "duration": 179,
    "start_time": "2022-11-19T03:59:16.145Z"
   },
   {
    "duration": 44,
    "start_time": "2022-11-19T03:59:36.776Z"
   },
   {
    "duration": 341,
    "start_time": "2022-11-19T03:59:54.661Z"
   },
   {
    "duration": 184,
    "start_time": "2022-11-19T04:00:15.704Z"
   },
   {
    "duration": 488,
    "start_time": "2022-11-19T04:00:24.997Z"
   },
   {
    "duration": 4,
    "start_time": "2022-11-19T04:00:44.448Z"
   },
   {
    "duration": 760,
    "start_time": "2022-11-19T04:00:53.292Z"
   },
   {
    "duration": 57,
    "start_time": "2022-11-19T04:01:30.166Z"
   },
   {
    "duration": 62,
    "start_time": "2022-11-19T04:02:16.704Z"
   },
   {
    "duration": 48,
    "start_time": "2022-11-19T04:02:32.908Z"
   },
   {
    "duration": 502,
    "start_time": "2022-11-19T04:02:54.580Z"
   },
   {
    "duration": 196,
    "start_time": "2022-11-19T04:03:06.717Z"
   },
   {
    "duration": 400,
    "start_time": "2022-11-19T04:03:18.897Z"
   },
   {
    "duration": 407,
    "start_time": "2022-11-19T04:03:30.001Z"
   },
   {
    "duration": 263,
    "start_time": "2022-11-19T04:03:57.697Z"
   },
   {
    "duration": 376,
    "start_time": "2022-11-19T04:04:35.033Z"
   },
   {
    "duration": 518,
    "start_time": "2022-11-19T04:04:44.073Z"
   },
   {
    "duration": 411,
    "start_time": "2022-11-19T04:05:07.997Z"
   },
   {
    "duration": 273,
    "start_time": "2022-11-19T04:05:37.514Z"
   },
   {
    "duration": 261,
    "start_time": "2022-11-19T04:06:48.272Z"
   },
   {
    "duration": 256,
    "start_time": "2022-11-19T04:07:16.806Z"
   },
   {
    "duration": 383,
    "start_time": "2022-11-19T04:07:37.533Z"
   },
   {
    "duration": 283,
    "start_time": "2022-11-19T04:08:06.640Z"
   },
   {
    "duration": 12,
    "start_time": "2022-11-19T04:10:40.489Z"
   },
   {
    "duration": 568,
    "start_time": "2022-11-19T04:11:06.967Z"
   },
   {
    "duration": 266,
    "start_time": "2022-11-19T04:13:57.919Z"
   },
   {
    "duration": 261,
    "start_time": "2022-11-19T04:15:59.544Z"
   },
   {
    "duration": 419,
    "start_time": "2022-11-19T04:16:49.762Z"
   },
   {
    "duration": 48,
    "start_time": "2022-11-19T04:17:23.607Z"
   },
   {
    "duration": 245,
    "start_time": "2022-11-19T04:17:36.189Z"
   },
   {
    "duration": 243,
    "start_time": "2022-11-19T04:17:54.189Z"
   },
   {
    "duration": 248,
    "start_time": "2022-11-19T04:18:56.349Z"
   },
   {
    "duration": 532,
    "start_time": "2022-11-19T04:19:29.005Z"
   },
   {
    "duration": 968,
    "start_time": "2022-11-19T04:19:44.020Z"
   },
   {
    "duration": 755,
    "start_time": "2022-11-19T04:19:59.916Z"
   },
   {
    "duration": 53,
    "start_time": "2022-11-19T04:24:34.913Z"
   },
   {
    "duration": 938,
    "start_time": "2022-11-19T04:24:49.829Z"
   },
   {
    "duration": 294,
    "start_time": "2022-11-19T04:25:13.697Z"
   },
   {
    "duration": 294,
    "start_time": "2022-11-19T04:25:30.919Z"
   },
   {
    "duration": 142,
    "start_time": "2022-11-19T04:26:34.346Z"
   },
   {
    "duration": 142,
    "start_time": "2022-11-19T04:26:46.871Z"
   },
   {
    "duration": 252,
    "start_time": "2022-11-19T04:26:58.935Z"
   },
   {
    "duration": 261,
    "start_time": "2022-11-19T04:28:46.964Z"
   },
   {
    "duration": 108,
    "start_time": "2022-11-19T04:29:16.547Z"
   },
   {
    "duration": 317,
    "start_time": "2022-11-19T04:29:26.039Z"
   },
   {
    "duration": 293,
    "start_time": "2022-11-19T04:30:19.657Z"
   },
   {
    "duration": 412,
    "start_time": "2022-11-19T04:30:35.369Z"
   },
   {
    "duration": 430,
    "start_time": "2022-11-19T04:30:55.733Z"
   },
   {
    "duration": 273,
    "start_time": "2022-11-19T04:31:06.662Z"
   },
   {
    "duration": 4,
    "start_time": "2022-11-19T04:33:49.659Z"
   },
   {
    "duration": 3,
    "start_time": "2022-11-19T04:35:07.218Z"
   },
   {
    "duration": 368,
    "start_time": "2022-11-19T04:37:54.172Z"
   },
   {
    "duration": 120,
    "start_time": "2022-11-19T04:38:50.549Z"
   },
   {
    "duration": 136,
    "start_time": "2022-11-19T04:39:12.573Z"
   },
   {
    "duration": 44,
    "start_time": "2022-11-19T04:43:12.304Z"
   },
   {
    "duration": 45,
    "start_time": "2022-11-19T04:43:36.001Z"
   },
   {
    "duration": 3,
    "start_time": "2022-11-19T04:44:10.361Z"
   },
   {
    "duration": 280,
    "start_time": "2022-11-19T04:44:25.829Z"
   },
   {
    "duration": 106,
    "start_time": "2022-11-19T04:44:56.701Z"
   },
   {
    "duration": 290,
    "start_time": "2022-11-19T04:45:17.666Z"
   },
   {
    "duration": 151,
    "start_time": "2022-11-19T05:20:16.912Z"
   },
   {
    "duration": 539,
    "start_time": "2022-11-19T05:20:38.822Z"
   },
   {
    "duration": 395,
    "start_time": "2022-11-19T05:20:47.974Z"
   },
   {
    "duration": 44,
    "start_time": "2022-11-19T05:25:52.827Z"
   },
   {
    "duration": 191,
    "start_time": "2022-11-19T05:26:25.132Z"
   },
   {
    "duration": 439,
    "start_time": "2022-11-19T05:27:38.580Z"
   },
   {
    "duration": 458,
    "start_time": "2022-11-19T05:27:56.711Z"
   },
   {
    "duration": 437,
    "start_time": "2022-11-19T05:28:09.077Z"
   },
   {
    "duration": 445,
    "start_time": "2022-11-19T05:29:11.989Z"
   },
   {
    "duration": 74,
    "start_time": "2022-11-19T05:36:15.004Z"
   },
   {
    "duration": 284,
    "start_time": "2022-11-19T05:36:21.708Z"
   },
   {
    "duration": 586,
    "start_time": "2022-11-19T05:37:53.067Z"
   },
   {
    "duration": 477,
    "start_time": "2022-11-19T05:38:52.960Z"
   },
   {
    "duration": 431,
    "start_time": "2022-11-19T05:39:14.051Z"
   },
   {
    "duration": 424,
    "start_time": "2022-11-19T05:39:32.870Z"
   },
   {
    "duration": 432,
    "start_time": "2022-11-19T05:40:27.613Z"
   },
   {
    "duration": 10,
    "start_time": "2022-11-19T05:42:15.827Z"
   },
   {
    "duration": 3,
    "start_time": "2022-11-19T05:43:01.240Z"
   },
   {
    "duration": 9,
    "start_time": "2022-11-19T05:43:08.480Z"
   },
   {
    "duration": 140,
    "start_time": "2022-11-19T05:43:28.227Z"
   },
   {
    "duration": 159,
    "start_time": "2022-11-19T05:44:08.399Z"
   },
   {
    "duration": 11,
    "start_time": "2022-11-19T05:45:32.401Z"
   },
   {
    "duration": 137,
    "start_time": "2022-11-19T05:45:49.576Z"
   },
   {
    "duration": 44,
    "start_time": "2022-11-19T05:48:05.533Z"
   },
   {
    "duration": 438,
    "start_time": "2022-11-19T05:48:22.468Z"
   },
   {
    "duration": 610,
    "start_time": "2022-11-19T06:46:50.018Z"
   },
   {
    "duration": 93,
    "start_time": "2022-11-19T06:55:22.082Z"
   },
   {
    "duration": 82,
    "start_time": "2022-11-19T06:55:34.898Z"
   },
   {
    "duration": 793,
    "start_time": "2022-11-19T06:56:16.341Z"
   },
   {
    "duration": 707,
    "start_time": "2022-11-19T06:56:25.580Z"
   },
   {
    "duration": 3,
    "start_time": "2022-11-19T06:56:32.280Z"
   },
   {
    "duration": 3,
    "start_time": "2022-11-19T06:56:35.703Z"
   },
   {
    "duration": 11,
    "start_time": "2022-11-19T06:56:37.403Z"
   },
   {
    "duration": 24,
    "start_time": "2022-11-19T06:56:39.084Z"
   },
   {
    "duration": 10,
    "start_time": "2022-11-19T06:56:41.679Z"
   },
   {
    "duration": 5,
    "start_time": "2022-11-19T06:56:43.823Z"
   },
   {
    "duration": 35,
    "start_time": "2022-11-19T06:57:03.882Z"
   },
   {
    "duration": 11,
    "start_time": "2022-11-19T06:57:51.799Z"
   },
   {
    "duration": 10,
    "start_time": "2022-11-19T06:59:03.966Z"
   },
   {
    "duration": 29,
    "start_time": "2022-11-19T07:28:10.325Z"
   },
   {
    "duration": 24,
    "start_time": "2022-11-19T07:28:29.791Z"
   },
   {
    "duration": 28,
    "start_time": "2022-11-19T07:35:05.842Z"
   },
   {
    "duration": 15,
    "start_time": "2022-11-19T07:36:54.547Z"
   },
   {
    "duration": 31,
    "start_time": "2022-11-19T07:37:20.635Z"
   },
   {
    "duration": 22,
    "start_time": "2022-11-19T07:38:08.522Z"
   },
   {
    "duration": 64,
    "start_time": "2022-11-19T07:43:39.990Z"
   },
   {
    "duration": 173,
    "start_time": "2022-11-19T07:44:14.247Z"
   },
   {
    "duration": 204,
    "start_time": "2022-11-19T07:45:49.480Z"
   },
   {
    "duration": 213,
    "start_time": "2022-11-19T07:46:10.613Z"
   },
   {
    "duration": 236,
    "start_time": "2022-11-19T07:47:41.787Z"
   },
   {
    "duration": 456,
    "start_time": "2022-11-19T07:48:03.813Z"
   },
   {
    "duration": 135,
    "start_time": "2022-11-19T09:08:20.378Z"
   },
   {
    "duration": 142,
    "start_time": "2022-11-19T09:09:58.429Z"
   },
   {
    "duration": 146,
    "start_time": "2022-11-19T09:12:36.455Z"
   },
   {
    "duration": 140,
    "start_time": "2022-11-19T09:12:55.582Z"
   },
   {
    "duration": 147,
    "start_time": "2022-11-19T09:13:28.045Z"
   },
   {
    "duration": 384,
    "start_time": "2022-11-19T09:13:46.748Z"
   },
   {
    "duration": 2,
    "start_time": "2022-11-19T09:51:19.673Z"
   },
   {
    "duration": 25,
    "start_time": "2022-11-19T10:10:22.810Z"
   },
   {
    "duration": 4,
    "start_time": "2022-11-19T10:12:58.317Z"
   },
   {
    "duration": 20,
    "start_time": "2022-11-19T10:13:09.957Z"
   },
   {
    "duration": 5,
    "start_time": "2022-11-19T10:14:51.531Z"
   },
   {
    "duration": 24,
    "start_time": "2022-11-19T10:15:01.032Z"
   },
   {
    "duration": 23,
    "start_time": "2022-11-19T10:16:09.094Z"
   },
   {
    "duration": 71,
    "start_time": "2022-11-19T10:16:23.530Z"
   },
   {
    "duration": 25,
    "start_time": "2022-11-19T10:16:29.328Z"
   },
   {
    "duration": 10,
    "start_time": "2022-11-19T10:17:22.217Z"
   },
   {
    "duration": 9,
    "start_time": "2022-11-19T10:17:38.020Z"
   },
   {
    "duration": 19,
    "start_time": "2022-11-19T10:22:33.338Z"
   },
   {
    "duration": 17,
    "start_time": "2022-11-19T10:24:03.521Z"
   },
   {
    "duration": 1043,
    "start_time": "2022-11-19T10:24:36.947Z"
   },
   {
    "duration": 125,
    "start_time": "2022-11-19T10:24:37.992Z"
   },
   {
    "duration": 3,
    "start_time": "2022-11-19T10:24:38.120Z"
   },
   {
    "duration": 15,
    "start_time": "2022-11-19T10:24:38.125Z"
   },
   {
    "duration": 23,
    "start_time": "2022-11-19T10:24:38.142Z"
   },
   {
    "duration": 9,
    "start_time": "2022-11-19T10:24:38.167Z"
   },
   {
    "duration": 4,
    "start_time": "2022-11-19T10:24:38.177Z"
   },
   {
    "duration": 263,
    "start_time": "2022-11-19T10:24:38.183Z"
   },
   {
    "duration": 512,
    "start_time": "2022-11-19T10:24:38.448Z"
   },
   {
    "duration": 197,
    "start_time": "2022-11-19T10:24:38.963Z"
   },
   {
    "duration": 174,
    "start_time": "2022-11-19T10:24:39.162Z"
   },
   {
    "duration": 381,
    "start_time": "2022-11-19T10:24:39.337Z"
   },
   {
    "duration": 578,
    "start_time": "2022-11-19T10:24:39.720Z"
   },
   {
    "duration": 310,
    "start_time": "2022-11-19T10:24:40.300Z"
   },
   {
    "duration": 0,
    "start_time": "2022-11-19T10:24:40.611Z"
   },
   {
    "duration": 0,
    "start_time": "2022-11-19T10:24:40.612Z"
   },
   {
    "duration": 0,
    "start_time": "2022-11-19T10:24:40.614Z"
   },
   {
    "duration": 0,
    "start_time": "2022-11-19T10:24:40.615Z"
   },
   {
    "duration": 313,
    "start_time": "2022-11-19T10:25:39.239Z"
   },
   {
    "duration": 462,
    "start_time": "2022-11-19T10:25:43.612Z"
   },
   {
    "duration": 398,
    "start_time": "2022-11-19T10:25:48.044Z"
   },
   {
    "duration": 22,
    "start_time": "2022-11-19T10:25:52.758Z"
   },
   {
    "duration": 8,
    "start_time": "2022-11-19T10:28:42.686Z"
   },
   {
    "duration": 8,
    "start_time": "2022-11-19T10:31:18.164Z"
   },
   {
    "duration": 12,
    "start_time": "2022-11-19T11:03:51.874Z"
   },
   {
    "duration": 8,
    "start_time": "2022-11-19T11:04:03.879Z"
   },
   {
    "duration": 8,
    "start_time": "2022-11-19T11:05:46.121Z"
   },
   {
    "duration": 100,
    "start_time": "2022-11-19T11:08:10.084Z"
   },
   {
    "duration": 26,
    "start_time": "2022-11-19T11:12:00.576Z"
   },
   {
    "duration": 29,
    "start_time": "2022-11-19T11:12:25.677Z"
   },
   {
    "duration": 8,
    "start_time": "2022-11-19T11:13:17.950Z"
   },
   {
    "duration": 9,
    "start_time": "2022-11-19T11:13:33.870Z"
   },
   {
    "duration": 1267,
    "start_time": "2022-11-20T05:54:30.153Z"
   },
   {
    "duration": 177,
    "start_time": "2022-11-20T05:56:42.626Z"
   },
   {
    "duration": 3,
    "start_time": "2022-11-20T06:00:54.239Z"
   },
   {
    "duration": 3,
    "start_time": "2022-11-20T06:01:12.892Z"
   },
   {
    "duration": 12,
    "start_time": "2022-11-20T06:01:23.744Z"
   },
   {
    "duration": 26,
    "start_time": "2022-11-20T06:01:45.727Z"
   },
   {
    "duration": 115,
    "start_time": "2022-11-20T06:02:51.725Z"
   },
   {
    "duration": 20,
    "start_time": "2022-11-20T06:02:57.521Z"
   },
   {
    "duration": 9,
    "start_time": "2022-11-20T06:03:13.325Z"
   },
   {
    "duration": 22,
    "start_time": "2022-11-20T06:04:40.596Z"
   },
   {
    "duration": 7,
    "start_time": "2022-11-20T06:04:58.979Z"
   },
   {
    "duration": 798,
    "start_time": "2022-11-20T06:05:58.010Z"
   },
   {
    "duration": 96,
    "start_time": "2022-11-20T06:06:21.311Z"
   },
   {
    "duration": 12,
    "start_time": "2022-11-20T06:07:23.121Z"
   },
   {
    "duration": 9,
    "start_time": "2022-11-20T06:08:36.056Z"
   },
   {
    "duration": 19,
    "start_time": "2022-11-20T06:09:34.912Z"
   },
   {
    "duration": 9,
    "start_time": "2022-11-20T06:10:23.555Z"
   },
   {
    "duration": 8,
    "start_time": "2022-11-20T06:10:35.214Z"
   },
   {
    "duration": 8,
    "start_time": "2022-11-20T06:18:51.606Z"
   },
   {
    "duration": 7,
    "start_time": "2022-11-20T06:19:05.362Z"
   },
   {
    "duration": 6,
    "start_time": "2022-11-20T06:19:17.717Z"
   },
   {
    "duration": 3,
    "start_time": "2022-11-20T06:19:33.843Z"
   },
   {
    "duration": 12,
    "start_time": "2022-11-20T06:19:40.362Z"
   },
   {
    "duration": 20,
    "start_time": "2022-11-20T06:20:04.643Z"
   },
   {
    "duration": 9,
    "start_time": "2022-11-20T06:20:12.488Z"
   },
   {
    "duration": 5,
    "start_time": "2022-11-20T06:35:32.603Z"
   },
   {
    "duration": 274,
    "start_time": "2022-11-20T06:48:46.532Z"
   },
   {
    "duration": 239,
    "start_time": "2022-11-20T06:48:52.883Z"
   },
   {
    "duration": 256,
    "start_time": "2022-11-20T06:48:59.247Z"
   },
   {
    "duration": 236,
    "start_time": "2022-11-20T06:49:08.327Z"
   },
   {
    "duration": 652,
    "start_time": "2022-11-20T07:53:51.660Z"
   },
   {
    "duration": 225,
    "start_time": "2022-11-20T07:57:28.335Z"
   },
   {
    "duration": 315,
    "start_time": "2022-11-20T07:57:53.667Z"
   },
   {
    "duration": 198,
    "start_time": "2022-11-20T07:58:58.343Z"
   },
   {
    "duration": 522,
    "start_time": "2022-11-20T08:02:04.609Z"
   },
   {
    "duration": 477,
    "start_time": "2022-11-20T08:04:27.638Z"
   },
   {
    "duration": 466,
    "start_time": "2022-11-20T08:04:48.254Z"
   },
   {
    "duration": 622,
    "start_time": "2022-11-20T08:08:38.584Z"
   },
   {
    "duration": 256,
    "start_time": "2022-11-20T08:10:52.551Z"
   },
   {
    "duration": 280,
    "start_time": "2022-11-20T08:14:19.187Z"
   },
   {
    "duration": 244,
    "start_time": "2022-11-20T08:24:35.421Z"
   },
   {
    "duration": 471,
    "start_time": "2022-11-20T08:28:57.346Z"
   },
   {
    "duration": 539,
    "start_time": "2022-11-20T08:34:32.118Z"
   },
   {
    "duration": 524,
    "start_time": "2022-11-20T08:38:06.382Z"
   },
   {
    "duration": 10,
    "start_time": "2022-11-20T08:41:49.583Z"
   },
   {
    "duration": 9,
    "start_time": "2022-11-20T08:43:55.664Z"
   },
   {
    "duration": 246,
    "start_time": "2022-11-20T10:00:38.075Z"
   },
   {
    "duration": 261,
    "start_time": "2022-11-20T10:00:51.536Z"
   },
   {
    "duration": 253,
    "start_time": "2022-11-20T10:01:19.695Z"
   },
   {
    "duration": 253,
    "start_time": "2022-11-20T10:03:54.208Z"
   },
   {
    "duration": 377,
    "start_time": "2022-11-20T10:04:06.676Z"
   },
   {
    "duration": 257,
    "start_time": "2022-11-20T10:04:28.875Z"
   }
  ],
  "kernelspec": {
   "display_name": "Python 3 (ipykernel)",
   "language": "python",
   "name": "python3"
  },
  "language_info": {
   "codemirror_mode": {
    "name": "ipython",
    "version": 3
   },
   "file_extension": ".py",
   "mimetype": "text/x-python",
   "name": "python",
   "nbconvert_exporter": "python",
   "pygments_lexer": "ipython3",
   "version": "3.9.5"
  },
  "toc": {
   "base_numbering": 1,
   "nav_menu": {},
   "number_sections": true,
   "sideBar": true,
   "skip_h1_title": true,
   "title_cell": "Table of Contents",
   "title_sidebar": "Contents",
   "toc_cell": false,
   "toc_position": {
    "height": "calc(100% - 180px)",
    "left": "10px",
    "top": "150px",
    "width": "165px"
   },
   "toc_section_display": true,
   "toc_window_display": true
  }
 },
 "nbformat": 4,
 "nbformat_minor": 2
}
